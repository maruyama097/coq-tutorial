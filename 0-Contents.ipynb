{
 "cells": [
  {
   "cell_type": "markdown",
   "metadata": {
    "coq_kernel_metadata": {
     "auto_roll_back": true
    }
   },
   "source": [
    "<img src=\"./images/Logo1.png\"  width=\"800 px\" align=\"center\">"
   ]
  },
  {
   "cell_type": "markdown",
   "metadata": {
    "coq_kernel_metadata": {
     "auto_roll_back": true
    }
   },
   "source": [
    "# <font color=\"blue\" size=\"6\" >目次 </font>"
   ]
  },
  {
   "cell_type": "markdown",
   "metadata": {
    "coq_kernel_metadata": {
     "auto_roll_back": true
    }
   },
   "source": [
    "# [Hello Coq!](./0-Introduction.ipynb)\n",
    "\n",
    "-  [Coqとのはじめての対話](./0-Introduction.ipynb#sec1)\n",
    "-   [Coqとのはじめての対話をふりかえる。](./0-Introduction.ipynb#sec2)\n",
    "  -  [人間は、Coqに何を伝えたか？](./0-Introduction.ipynb#sec21)\n",
    "  -  [Coqは、反応として人間に何を伝えたか？](./0-Introduction.ipynb#sec22)\n",
    "\n"
   ]
  },
  {
   "cell_type": "markdown",
   "metadata": {
    "coq_kernel_metadata": {
     "auto_roll_back": true
    }
   },
   "source": [
    "# [論理式の証明](./1-Logic.ipynb)\n",
    "- [論理式はどのような形をしているか？](./1-Logic.ipynb#sec1)\n",
    "  - [命題の構成ルール -- Formation Rule](./1-Logic.ipynb#sec11)\n",
    "  - [命題の分解ルール -- 部分式への分解](./1-Logic.ipynb#sec12)\n",
    "  - [証明のサブゴールと命題の部分式](./1-Logic.ipynb#sec13)\n",
    "- [Coqが返す「証明の状態」が持つ情報](./1-Logic.ipynb#sec2)\n",
    "  - [「証明の状態」＝「仮説部分」＋「サブゴール」](./1-Logic.ipynb#sec21)\n",
    "  - [証明が進むと「仮説部分」も「サブゴール」も部分式に置き換わります](./1-Logic.ipynb#sec22)\n",
    "- [tacticの選択](./1-Logic.ipynb#sec3)\n",
    "  - [サブゴールの論理式の形で、選択すべきtactic](./1-Logic.ipynb#sec31)\n",
    "  - [仮説部の論理式の形で、選択すべきtactic](./1-Logic.ipynb#sec32)\n",
    "  - [仮説部の論理式の一つとサブゴールが一致する時](./1-Logic.ipynb#sec33)\n",
    "- [論理式の証明で利用できるtacticsの働きを見る](./1-Logic.ipynb#sec4)\n",
    "  - [intros](./1-Logic.ipynb#sec41)\n",
    "  - [introsの もう一つの使い方](./1-Logic.ipynb#sec42)\n",
    "  - [split](./1-Logic.ipynb#sec43)\n",
    "  - [left または right](./1-Logic.ipynb#sec44)\n",
    "  - [destruct](./1-Logic.ipynb#sec45)\n",
    "  - [apply](./1-Logic.ipynb#sec46)\n",
    "  - [exact](./1-Logic.ipynb#sec47)\n",
    "  - [assumption](./1-Logic.ipynb#sec48)\n",
    "  - [trivial](./1-Logic.ipynb#sec49)\n",
    "- [論理式の証明の自動化　tauto](./1-Logic.ipynb#sec5)\n",
    "  - [tautoで証明できる命題](./1-Logic.ipynb#sec51)\n",
    "  - [tautoで証明できない命題](./1-Logic.ipynb#sec52)\n",
    "\n"
   ]
  },
  {
   "cell_type": "markdown",
   "metadata": {
    "coq_kernel_metadata": {
     "auto_roll_back": true
    }
   },
   "source": [
    "# [演習問題 1](./1-logic-answer.ipynb)\n",
    "- [演習問題 1-1](./1-logic-answer.ipynb#ex11) [解答](./1-logic-answer.ipynb#ans11)   　A -> A\n",
    "- [演習問題 1-2](./1-logic-answer.ipynb#ex12) [解答](./1-logic-answer.ipynb#ans12)   　A /\\ B -> A\n",
    "- [演習問題 1-3](./1-logic-answer.ipynb#ex13) [解答](./1-logic-answer.ipynb#ans13)   　A /\\ B -> B\n",
    "- [演習問題 1-4](./1-logic-answer.ipynb#ex14) [解答](./1-logic-answer.ipynb#ans14)   　A -> A \\\\/ B\n",
    "- [演習問題 1-5](./1-logic-answer.ipynb#ex15) [解答](./1-logic-answer.ipynb#ans15)   　B -> A \\\\/ B\n",
    "- [演習問題 1-6](./1-logic-answer.ipynb#ex16) [解答](./1-logic-answer.ipynb#ans16)   　A -> (A -> B) -> B\n",
    "- [演習問題 1-7](./1-logic-answer.ipynb#ex17) [解答](./1-logic-answer.ipynb#ans17)   　A -> (A -> B) -> (B ->C) -> C\n",
    "- [演習問題 1-8](./1-logic-answer.ipynb#ex18) [解答](./1-logic-answer.ipynb#ans18)   　A /\\ B -> B /\\ A\n",
    "- [演習問題 1-9](./1-logic-answer.ipynb#ex19) [解答](./1-logic-answer.ipynb#ans19)   　A \\\\/ B -> B \\\\/ A\n",
    "\n"
   ]
  },
  {
   "cell_type": "markdown",
   "metadata": {
    "coq_kernel_metadata": {
     "auto_roll_back": true
    }
   },
   "source": [
    "# [関数と等式を含んだ命題の証明](./2-Equality.ipynb)\n",
    "- [Coqでの関数と等式を含んだ命題の証明](./2-Equality.ipynb#sec1)\n",
    "- [等式の性質](./2-Equality.ipynb#sec2)\n",
    "  - [Coqでの等式の証明の戦略](./2-Equality.ipynb#sec21)\n",
    "- [Coqでの関数](./2-Equality.ipynb#sec3)\n",
    "  - [Coqでの関数の定義](./2-Equality.ipynb#sec31)\n",
    "  - [Coqでの関数の型](./2-Equality.ipynb#sec32)\n",
    "- [簡単な関数の例](./2-Equality.ipynb#sec4)\n",
    "  - [関数 negb:　引数に与えられたブール値の否定を返す関数](./2-Equality.ipynb#sec41)\n",
    "  - [関数 eqb 　引数に与えられた二つのブール値が等しいかを返す関数](./2-Equality.ipynb#sec42)\n",
    "- [再帰的な関数定義の例](./2-Equality.ipynb#sec5)\n",
    "  - [二つの自然数の和を返す関数 plus](./2-Equality.ipynb#sec51)\n",
    "  - [二つの自然数の積を返す関数 mult](./2-Equality.ipynb#sec52)\n",
    "- [等式を含む命題の証明で利用できるtacticsについて](./2-Equality.ipynb#sec6)\n",
    "- [reflexivity tactics](./2-Equality.ipynb#sec605)\n",
    "- [simpl tactic](./2-Equality.ipynb#sec7)\n",
    "  - [1 + n = S n で式を単純にする](./2-Equality.ipynb#sec71)\n",
    "  - [0 + n = n で式を単純にする](./2-Equality.ipynb#sec72)\n",
    "  - [0 * n = 0 で式を単純にする](./2-Equality.ipynb#sec73)\n",
    "- [rewrite tactic](./2-Equality.ipynb#sec8)\n",
    "  - [rewrite -> H の例](./2-Equality.ipynb#sec81)\n",
    "  - [もう一つ rewrite -> H の例](./2-Equality.ipynb#sec82)\n",
    "  - [rewrite <- H の例](./2-Equality.ipynb#sec83)\n",
    " "
   ]
  },
  {
   "cell_type": "markdown",
   "metadata": {
    "coq_kernel_metadata": {
     "auto_roll_back": true
    }
   },
   "source": [
    "# [演習問題 2](./2-equality-answer.ipynb)\n",
    "- [演習問題 2-1](./2-equality-answer.ipynb#ex21) [解答](./2-equality-answer.ipynb#ans21)   　0 + n = n\n",
    "- [演習問題 2-2](./2-equality-answer.ipynb#ex22) [解答](./2-equality-answer.ipynb#ans22)   　1 + n = S n\n",
    "- [演習問題 2-3](./2-equality-answer.ipynb#ex23) [解答](./2-equality-answer.ipynb#ans23)   　0 * n = 0\n",
    "- [演習問題 2-4](./2-equality-answer.ipynb#ex24) [解答](./2-equality-answer.ipynb#ans24)   　n = m -> n+n = m + m\n",
    "- [演習問題 2-5](./2-equality-answer.ipynb#ex25) [解答](./2-equality-answer.ipynb#ans25)   　n = m -> m = o -> n + m = m + o\n",
    "- [演習問題 2-6](./2-equality-answer.ipynb#ex26) [解答](./2-equality-answer.ipynb#ans26)   　( 0 + n ) * m = n * m\n",
    "- [演習問題 2-7](./2-equality-answer.ipynb#ex27) [解答](./2-equality-answer.ipynb#ans27)   　m = S n -> m * (1 + n) = m * m"
   ]
  },
  {
   "cell_type": "markdown",
   "metadata": {
    "coq_kernel_metadata": {
     "auto_roll_back": true
    }
   },
   "source": [
    "# [帰納的データ型と帰納法を用いた証明](./3-Induction.ipynb)\n",
    "- [Coq での「型」について](./3-Induction.ipynb#sec1)\n",
    "- [列挙によるデータ型の定義](./3-Induction.ipynb#sec2)\n",
    "  - [型 bool ](./3-Induction.ipynb#sec21)\n",
    "  - [型 rgb](./3-Induction.ipynb#sec22)\n",
    "  - [定義済みの型から、新しい型を定義する](./3-Induction.ipynb#sec23)\n",
    "- [帰納的データ型](./3-Induction.ipynb#sec3)\n",
    "  - [Coqでの自然数の定義](./3-Induction.ipynb#sec31)\n",
    "- [t : T という表記の意味](./3-Induction.ipynb#sec32)\n",
    "- [帰納法を使った命題の証明](./3-Induction.ipynb#sec4)\n",
    "  - [数学的帰納法について](./3-Induction.ipynb#sec41)\n",
    "  - [帰納法を使った証明の例 1： n + 0 = n](./3-Induction.ipynb#sec42)\n",
    "  - [帰納法を使った証明の例 2： S (n + m) = n + (S m)](./3-Induction.ipynb#sec43)\n",
    "- [帰納法を使う場合の証明の流れ](./3-Induction.ipynb#sec5)\n",
    "  - [tactic induction](./3-Induction.ipynb#sec51)\n",
    "  - [induction nを用いた証明の留意点](./3-Induction.ipynb#sec52)\n",
    "- [Coqのライブラリーの利用](./3-Induction.ipynb#sec6)\n",
    "  - [Coqでは、多数の証明済みの命題がライブラリーとして提供されています。](./3-Induction.ipynb#sec61)\n",
    "  - [Coq ライブラリーを利用した証明の例 :  n * m = m * n](./3-Induction.ipynb#sec62)\n",
    "\n"
   ]
  },
  {
   "cell_type": "markdown",
   "metadata": {
    "coq_kernel_metadata": {
     "auto_roll_back": true
    }
   },
   "source": [
    "# [演習問題 3](./3-induction-answer.ipynb)\n",
    "- [演習問題 3-1](./3-induction-answer.ipynb#ex31) [解答](./3-induction-answer.ipynb#ans31)   　n + 0 = n\n",
    "- [演習問題 3-2](./3-induction-answer.ipynb#ex32) [解答](./3-induction-answer.ipynb#ans32)   　minus n n = 0\n",
    "- [演習問題 3-3](./3-induction-answer.ipynb#ex33) [解答](./3-induction-answer.ipynb#ans33)   　n * 0 = 0\n",
    "- [演習問題 3-4](./3-induction-answer.ipynb#ex34) [解答](./3-induction-answer.ipynb#ans34)   　S (n + m) = n + (S m)\n",
    "- [演習問題 3-5](./3-induction-answer.ipynb#ex35) [解答](./3-induction-answer.ipynb#ans35)   　n + m = m + n\n",
    "- [演習問題 3-6](./3-induction-answer.ipynb#ex36) [解答](./3-induction-answer.ipynb#ans36)   　n + (m +o) = (n + m) + o \n",
    "- [演習問題 3-7](./3-induction-answer.ipynb#ex37) [解答](./3-induction-answer.ipynb#ans37)   　n * S m = n * m + n\n",
    "- [演習問題 3-8](./3-induction-answer.ipynb#ex38) [解答](./3-induction-answer.ipynb#ans38)   　n * m = m * n\n"
   ]
  }
 ],
 "metadata": {
  "kernelspec": {
   "display_name": "Coq",
   "language": "coq",
   "name": "coq"
  },
  "language_info": {
   "file_extension": ".v",
   "mimetype": "text/x-coq",
   "name": "coq",
   "version": "8.9.1"
  }
 },
 "nbformat": 4,
 "nbformat_minor": 2
}
