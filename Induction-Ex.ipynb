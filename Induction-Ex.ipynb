{
 "cells": [
  {
   "cell_type": "markdown",
   "metadata": {
    "coq_kernel_metadata": {
     "auto_roll_back": true
    }
   },
   "source": [
    "# 演習問題 3\n",
    "\n",
    "[演習問題 3-1](./Induction-Ex.ipynb#ex11) [演習問題 3-2](./Induction-Ex.ipynb#ex12) [演習問題 3-3](./Induction-Ex.ipynb#ex13) [演習問題 3-4](./Induction-Ex.ipynb#ex14) [演習問題 3-5](./Induction-Ex.ipynb#ex15) [演習問題 3-6](./Induction-Ex.ipynb#ex16) [演習問題 3-7](./Induction-Ex.ipynb#ex17) [演習問題 3-8](./Induction-Ex.ipynb#ex18) "
   ]
  },
  {
   "cell_type": "markdown",
   "metadata": {
    "coq_kernel_metadata": {
     "auto_roll_back": true
    }
   },
   "source": [
    "<a id=\"ex31\"></a>\n",
    "## 演習問題 3-1\n",
    "　<font size=\"4\">次の定理を証明せよ。</font>\n",
    " <font color=\"blue\"　size=\"4\"><br>　Theorem plus_n_O : (forall n : nat, n + 0 = n).</font>\n",
    "\n",
    "[作業用ページで証明をしてみる](./Induction-Ex-Work.ipynb#ex31) / [ヒント: 解答のコメントを読む](./Induction-Ex-Answer.ipynb#hint31) / [解答を見る](./Induction-Ex-Answer.ipynb#ex31) "
   ]
  },
  {
   "cell_type": "markdown",
   "metadata": {
    "coq_kernel_metadata": {
     "auto_roll_back": true
    }
   },
   "source": [
    "<a id=\"ex32\"></a>\n",
    "## 演習問題 3-2\n",
    "　<font size=\"4\">次の定理を証明せよ。</font>\n",
    " <font color=\"blue\"　size=\"4\"><br>　Theorem minus_diag : (forall n : nat, minus n n = 0).</font>\n",
    "\n",
    "[作業用ページで証明をしてみる](./Induction-Ex-Work.ipynb#ex32) / [ヒント: 解答のコメントを読む](./Induction-Ex-Answer.ipynb#hint32) / [解答を見る](./Induction-Ex-Answer.ipynb#ex32) "
   ]
  },
  {
   "cell_type": "markdown",
   "metadata": {
    "coq_kernel_metadata": {
     "auto_roll_back": true
    }
   },
   "source": [
    "<a id=\"ex33\"></a>\n",
    "## 演習問題 3-3\n",
    "　<font size=\"4\">次の定理を証明せよ。</font>\n",
    " <font color=\"blue\"　size=\"4\"><br>　Theorem mult_0_r : (forall n : nat,  n * 0 = 0).</font>\n",
    "\n",
    "[作業用ページで証明をしてみる](./Induction-Ex-Work.ipynb#ex33) / [ヒント: 解答のコメントを読む](./Induction-Ex-Answer.ipynb#hint33) / [解答を見る](./Induction-Ex-Answer.ipynb#ex33)  "
   ]
  },
  {
   "cell_type": "markdown",
   "metadata": {
    "coq_kernel_metadata": {
     "auto_roll_back": true
    }
   },
   "source": [
    "<a id=\"ex34\"></a>\n",
    "## 演習問題 3-4\n",
    "　<font size=\"4\">次の定理を証明せよ。</font>\n",
    " <font color=\"blue\"　size=\"4\"><br>　Theorem plus_n_Sm : (forall n m : nat, S (n + m) = n + (S m) ).</font>\n",
    "\n",
    "[作業用ページで証明をしてみる](./Induction-Ex-Work.ipynb#ex34) / [ヒント: 解答のコメントを読む](./Induction-Ex-Answer.ipynb#hint34) / [解答を見る](./Induction-Ex-Answer.ipynb#ex34) "
   ]
  },
  {
   "cell_type": "markdown",
   "metadata": {
    "coq_kernel_metadata": {
     "auto_roll_back": true
    }
   },
   "source": [
    "<a id=\"ex35\"></a>\n",
    "## 演習問題 3-5\n",
    "　<font size=\"4\">次の定理を証明せよ。</font>\n",
    " <font color=\"blue\"　size=\"4\"><br>　Theorem plus_comm : (forall n m : nat, n + m = m + n ).</font>\n",
    "\n",
    "[作業用ページで証明をしてみる](./Induction-Ex-Work.ipynb#ex35) / [ヒント: 解答のコメントを読む](./Induction-Ex-Answer.ipynb#hint35) / [解答を見る](./Induction-Ex-Answer.ipynb#ex35) "
   ]
  },
  {
   "cell_type": "markdown",
   "metadata": {
    "coq_kernel_metadata": {
     "auto_roll_back": true
    }
   },
   "source": [
    "<a id=\"ex36\"></a>\n",
    "## 演習問題 3-6\n",
    "　<font size=\"4\">次の定理を証明せよ。</font>\n",
    " <font color=\"blue\"　size=\"4\"><br>　Theorem plus_assoc : (forall n m o : nat, n + (m +o)  = (n + m) + o ).</font>\n",
    "\n",
    "[作業用ページで証明をしてみる](./Induction-Ex-Work.ipynb#ex36) / [ヒント: 解答のコメントを読む](./Induction-Ex-Answer.ipynb#hint36) / [解答を見る](./Induction-Ex-Answer.ipynb#ex36) "
   ]
  },
  {
   "cell_type": "markdown",
   "metadata": {
    "coq_kernel_metadata": {
     "auto_roll_back": true
    }
   },
   "source": [
    "<a id=\"ex37\"></a>\n",
    "## 演習問題 3-7\n",
    "　<font size=\"4\">次の定理を証明せよ。</font>\n",
    " <font color=\"blue\"　size=\"4\"><br>　Theorem mul_succ_r : forall n m : nat,  n \\* S m = n \\* m + n  ).</font>\n",
    "\n",
    "[作業用ページで証明をしてみる](./Induction-Ex-Work.ipynb#ex37) / [ヒント: 解答のコメントを読む](./Induction-Ex-Answer.ipynb#hint37) / [解答を見る](./Induction-Ex-Answer.ipynb#ex37) "
   ]
  },
  {
   "cell_type": "markdown",
   "metadata": {
    "coq_kernel_metadata": {
     "auto_roll_back": true
    }
   },
   "source": [
    "<a id=\"ex38\"></a>\n",
    "## 演習問題 3-8\n",
    "　<font size=\"4\">次の定理を証明せよ。</font>\n",
    " <font color=\"blue\"　size=\"4\"><br>　Theorem mult_comm : (forall n m : nat,  n \\* m = m \\* n ).</font>\n",
    "\n",
    "[作業用ページで証明をしてみる](./Induction-Ex-Work.ipynb#ex38) / [ヒント: 解答のコメントを読む](./Induction-Ex-Answer.ipynb#hint38) / [解答を見る](./Induction-Ex-Answer.ipynb#ex38) "
   ]
  }
 ],
 "metadata": {
  "kernelspec": {
   "display_name": "Coq",
   "language": "coq",
   "name": "coq"
  },
  "language_info": {
   "file_extension": ".v",
   "mimetype": "text/x-coq",
   "name": "coq",
   "version": "8.9.1"
  }
 },
 "nbformat": 4,
 "nbformat_minor": 2
}
