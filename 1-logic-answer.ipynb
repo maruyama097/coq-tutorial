{
 "cells": [
  {
   "cell_type": "markdown",
   "metadata": {
    "coq_kernel_metadata": {
     "auto_roll_back": true
    }
   },
   "source": [
    "<a id=\"sec1\"></a>\n",
    "# 演習問題 1 作業用ページ\n",
    "\n",
    "[演習問題 1-1](#ex11) [演習問題 1-2](#ex12) [演習問題 1-3](#ex13) [演習問題 1-4](#ex14) [演習問題 1-5](#ex15) [演習問題 1-6](#ex16) [演習問題 1-7](./1-logic-answerk.ipynb#ex17) [演習問題 1-8](#ex18) [演習問題 1-9](./1-logic-answer#ans#ans.ipynb#ex19) "
   ]
  },
  {
   "cell_type": "markdown",
   "metadata": {
    "coq_kernel_metadata": {
     "auto_roll_back": true
    }
   },
   "source": [
    "<a id=\"ex11\"></a>\n",
    "## 演習問題 1-1  作業用 \n",
    "<font size=\"4\">次の定理を証明せよ。</font>\n",
    " <font color=\"blue\"　size=\"4\" ><br> Theorem my_first_proof : (forall A : Prop, A -> A).</font>\n",
    "\n",
    "### ヒント\n",
    "- 冒頭の forall を intros で削除する。\n",
    "- A -> A の最初のAを intros で仮説に入れる。\n",
    "- そうすると、サブゴールが仮説の一つと一致していることがわかる。\n",
    "\n",
    "###  [解答を見る](#ans11) "
   ]
  },
  {
   "cell_type": "code",
   "execution_count": null,
   "metadata": {
    "coq_kernel_metadata": {
     "auto_roll_back": true,
     "cell_id": "e17cca3bf63a4b2d8beda84e98d13821",
     "execution_id": "f3866e63f81a48c3a7be5700b93e6175"
    }
   },
   "outputs": [],
   "source": [
    "Theorem  my_first_proof : (forall A : Prop, A -> A).\n",
    "Proof."
   ]
  },
  {
   "cell_type": "code",
   "execution_count": null,
   "metadata": {
    "coq_kernel_metadata": {
     "auto_roll_back": true
    }
   },
   "outputs": [],
   "source": []
  },
  {
   "cell_type": "code",
   "execution_count": null,
   "metadata": {
    "coq_kernel_metadata": {
     "auto_roll_back": true
    }
   },
   "outputs": [],
   "source": []
  },
  {
   "cell_type": "code",
   "execution_count": null,
   "metadata": {
    "coq_kernel_metadata": {
     "auto_roll_back": true
    }
   },
   "outputs": [],
   "source": []
  },
  {
   "cell_type": "code",
   "execution_count": null,
   "metadata": {
    "coq_kernel_metadata": {
     "auto_roll_back": true
    }
   },
   "outputs": [],
   "source": []
  },
  {
   "cell_type": "code",
   "execution_count": null,
   "metadata": {
    "coq_kernel_metadata": {
     "auto_roll_back": true
    }
   },
   "outputs": [],
   "source": []
  },
  {
   "cell_type": "code",
   "execution_count": null,
   "metadata": {
    "coq_kernel_metadata": {
     "auto_roll_back": true,
     "cell_id": "74a8c9c9002d413889f789837123fdd9",
     "execution_id": "d5d79d7f814042ba80e6a5b87c78be8d"
    }
   },
   "outputs": [],
   "source": [
    "Admitted. (* 最後にここを Qed. に変える。*)"
   ]
  },
  {
   "cell_type": "markdown",
   "metadata": {
    "collapsed": true,
    "coq_kernel_metadata": {
     "auto_roll_back": true
    }
   },
   "source": [
    "<a id=\"ex12\"></a>\n",
    "## 演習問題 1-2  作業用\n",
    "<font size=\"4\">次の定理を証明せよ。</font>\n",
    " <font color=\"blue\" size=\"4\"><br> Theorem and1 : (forall A  B: Prop, A /\\ B -> A).</font>\n",
    "\n",
    "### ヒント\n",
    "- intros. で forall を削除し、`A /\\ B -> A` の前提部分の`A /\\ B`を仮説に移す。\n",
    "- 仮説中の`A /\\ B`を、destruct で分解する。\n",
    "- 仮説の一つがサブゴールに一致している。\n",
    "\n",
    "###  [解答を見る](#ans12) "
   ]
  },
  {
   "cell_type": "code",
   "execution_count": null,
   "metadata": {
    "coq_kernel_metadata": {
     "auto_roll_back": true,
     "cell_id": "a93d8b9a0aaf4632896e9537270e6c2b",
     "execution_id": "6948813a12c645f588e6b0c2eb7e766c"
    }
   },
   "outputs": [],
   "source": [
    "Theorem and1 : (forall A  B: Prop, A /\\ B -> A).\n",
    "Proof."
   ]
  },
  {
   "cell_type": "code",
   "execution_count": null,
   "metadata": {
    "coq_kernel_metadata": {
     "auto_roll_back": true
    }
   },
   "outputs": [],
   "source": []
  },
  {
   "cell_type": "code",
   "execution_count": null,
   "metadata": {
    "coq_kernel_metadata": {
     "auto_roll_back": true
    }
   },
   "outputs": [],
   "source": []
  },
  {
   "cell_type": "code",
   "execution_count": null,
   "metadata": {
    "coq_kernel_metadata": {
     "auto_roll_back": true
    }
   },
   "outputs": [],
   "source": []
  },
  {
   "cell_type": "code",
   "execution_count": null,
   "metadata": {
    "coq_kernel_metadata": {
     "auto_roll_back": true
    }
   },
   "outputs": [],
   "source": []
  },
  {
   "cell_type": "code",
   "execution_count": null,
   "metadata": {
    "coq_kernel_metadata": {
     "auto_roll_back": true
    }
   },
   "outputs": [],
   "source": []
  },
  {
   "cell_type": "code",
   "execution_count": null,
   "metadata": {
    "coq_kernel_metadata": {
     "auto_roll_back": true
    }
   },
   "outputs": [],
   "source": []
  },
  {
   "cell_type": "code",
   "execution_count": null,
   "metadata": {
    "coq_kernel_metadata": {
     "auto_roll_back": true
    }
   },
   "outputs": [],
   "source": []
  },
  {
   "cell_type": "code",
   "execution_count": null,
   "metadata": {
    "coq_kernel_metadata": {
     "auto_roll_back": true,
     "cell_id": "353d5c12eab4466cb5a29615c4a5626e",
     "execution_id": "3f8e554190e54d6c86f57383bccc47ad"
    }
   },
   "outputs": [],
   "source": [
    "Admitted. (* 最後にここを Qed. に変える。*)"
   ]
  },
  {
   "cell_type": "markdown",
   "metadata": {
    "coq_kernel_metadata": {
     "auto_roll_back": true
    }
   },
   "source": [
    "<a id=\"ex13\"></a>\n",
    "## 演習問題 1-3  作業用\n",
    "<font size=\"4\">次の定理を証明せよ。</font>\n",
    " <font color=\"blue\"　size=\"4\"><br> Theorem and1 : (forall A  B: Prop, A /\\ B -> B).</font>\n",
    "\n",
    "### ヒント\n",
    "- intros. で forall を削除し、`A /\\ B -> B` の前提部分の`A /\\ B`を仮説に移す。\n",
    "- 仮説中の`A /\\ B`を、destruct で分解する。\n",
    "- 仮説の一つがサブゴールに一致している。\n",
    "\n",
    "###  [解答を見る](#ans13) "
   ]
  },
  {
   "cell_type": "code",
   "execution_count": null,
   "metadata": {
    "coq_kernel_metadata": {
     "auto_roll_back": true,
     "cell_id": "f46a46bfcf804d93a9fa927d6ea63397",
     "execution_id": "1c314089db3d4b45824d2d8460923639"
    }
   },
   "outputs": [],
   "source": [
    " Theorem and1 : (forall A  B: Prop, A /\\ B -> B).\n",
    " Proof."
   ]
  },
  {
   "cell_type": "code",
   "execution_count": null,
   "metadata": {
    "coq_kernel_metadata": {
     "auto_roll_back": true
    }
   },
   "outputs": [],
   "source": []
  },
  {
   "cell_type": "code",
   "execution_count": null,
   "metadata": {
    "coq_kernel_metadata": {
     "auto_roll_back": true
    }
   },
   "outputs": [],
   "source": []
  },
  {
   "cell_type": "code",
   "execution_count": null,
   "metadata": {
    "coq_kernel_metadata": {
     "auto_roll_back": true
    }
   },
   "outputs": [],
   "source": []
  },
  {
   "cell_type": "code",
   "execution_count": null,
   "metadata": {
    "coq_kernel_metadata": {
     "auto_roll_back": true
    }
   },
   "outputs": [],
   "source": []
  },
  {
   "cell_type": "code",
   "execution_count": null,
   "metadata": {
    "coq_kernel_metadata": {
     "auto_roll_back": true
    }
   },
   "outputs": [],
   "source": []
  },
  {
   "cell_type": "code",
   "execution_count": null,
   "metadata": {
    "coq_kernel_metadata": {
     "auto_roll_back": true
    }
   },
   "outputs": [],
   "source": []
  },
  {
   "cell_type": "code",
   "execution_count": null,
   "metadata": {
    "coq_kernel_metadata": {
     "auto_roll_back": true,
     "cell_id": "9d3243437bb94d0bb4834fde745019d0",
     "execution_id": "8dd2721c99ea4800944a9a0d5e78f0c5"
    }
   },
   "outputs": [],
   "source": [
    "Admitted. (* 最後にここを Qed. に変える。*)"
   ]
  },
  {
   "cell_type": "markdown",
   "metadata": {
    "coq_kernel_metadata": {
     "auto_roll_back": true
    }
   },
   "source": [
    "<a id=\"ex14\"></a>\n",
    "## 演習問題 1-4  作業用\n",
    "<font size=\"4\">次の定理を証明せよ。</font>\n",
    " <font color=\"blue\"　size=\"4\"><br> Theorem or1 : (forall A  B: Prop, A -> A \\\\/ B).</font>\n",
    "\n",
    "### ヒント\n",
    "- intros. でforallを消す。\n",
    "- left. でAを仮説に取り込む。\n",
    "- サブゴールと仮説が一致している。\n",
    "\n",
    "###  [解答を見る](#ans14) "
   ]
  },
  {
   "cell_type": "code",
   "execution_count": null,
   "metadata": {
    "coq_kernel_metadata": {
     "auto_roll_back": true,
     "cell_id": "d06dc20429e6492bb72b36dd77c81c1a",
     "execution_id": "74661e2fccf14c4db2b86132203fb26d"
    }
   },
   "outputs": [],
   "source": [
    "Theorem or1 : (forall A  B: Prop, A -> A \\/ B).\n",
    "Proof."
   ]
  },
  {
   "cell_type": "code",
   "execution_count": null,
   "metadata": {
    "coq_kernel_metadata": {
     "auto_roll_back": true
    }
   },
   "outputs": [],
   "source": []
  },
  {
   "cell_type": "code",
   "execution_count": null,
   "metadata": {
    "coq_kernel_metadata": {
     "auto_roll_back": true
    }
   },
   "outputs": [],
   "source": []
  },
  {
   "cell_type": "code",
   "execution_count": null,
   "metadata": {
    "coq_kernel_metadata": {
     "auto_roll_back": true
    }
   },
   "outputs": [],
   "source": []
  },
  {
   "cell_type": "code",
   "execution_count": null,
   "metadata": {
    "coq_kernel_metadata": {
     "auto_roll_back": true
    }
   },
   "outputs": [],
   "source": []
  },
  {
   "cell_type": "code",
   "execution_count": null,
   "metadata": {
    "coq_kernel_metadata": {
     "auto_roll_back": true
    }
   },
   "outputs": [],
   "source": []
  },
  {
   "cell_type": "code",
   "execution_count": null,
   "metadata": {
    "coq_kernel_metadata": {
     "auto_roll_back": true
    }
   },
   "outputs": [],
   "source": []
  },
  {
   "cell_type": "code",
   "execution_count": null,
   "metadata": {
    "coq_kernel_metadata": {
     "auto_roll_back": true
    }
   },
   "outputs": [],
   "source": []
  },
  {
   "cell_type": "code",
   "execution_count": null,
   "metadata": {
    "coq_kernel_metadata": {
     "auto_roll_back": true,
     "cell_id": "b24f36cb07bc449287847a7a9d3d178e",
     "execution_id": "89470ebf57b44771b0b607015a6c4a1d"
    }
   },
   "outputs": [],
   "source": [
    "Admitted. (* 最後にここを Qed. に変える。*)"
   ]
  },
  {
   "cell_type": "markdown",
   "metadata": {
    "coq_kernel_metadata": {
     "auto_roll_back": true
    }
   },
   "source": [
    "<a id=\"ex15\"></a>\n",
    "## 演習問題 1-5  作業用\n",
    "<font size=\"4\">次の定理を証明せよ。</font>\n",
    " <font color=\"blue\"　size=\"4\"><br> Theorem or2 : (forall A  B: Prop, B -> A \\\\/ B).</font>\n",
    "\n",
    "### ヒント\n",
    "- intros. でforallを消す。\n",
    "- right. でBを仮説に取り込む。\n",
    "- サブゴールと仮説が一致している。\n",
    "\n",
    "###  [解答を見る](#ans15) "
   ]
  },
  {
   "cell_type": "code",
   "execution_count": null,
   "metadata": {
    "coq_kernel_metadata": {
     "auto_roll_back": true,
     "cell_id": "2d462c6426bb49f0979b5992a929690a",
     "execution_id": "56f85b2559614ee692a8a04dd4b41deb"
    }
   },
   "outputs": [],
   "source": [
    "Theorem or2 : (forall A  B: Prop, B -> A \\/ B).\n",
    "Proof."
   ]
  },
  {
   "cell_type": "code",
   "execution_count": null,
   "metadata": {
    "coq_kernel_metadata": {
     "auto_roll_back": true
    }
   },
   "outputs": [],
   "source": []
  },
  {
   "cell_type": "code",
   "execution_count": null,
   "metadata": {
    "coq_kernel_metadata": {
     "auto_roll_back": true
    }
   },
   "outputs": [],
   "source": []
  },
  {
   "cell_type": "code",
   "execution_count": null,
   "metadata": {
    "coq_kernel_metadata": {
     "auto_roll_back": true
    }
   },
   "outputs": [],
   "source": []
  },
  {
   "cell_type": "code",
   "execution_count": null,
   "metadata": {
    "coq_kernel_metadata": {
     "auto_roll_back": true
    }
   },
   "outputs": [],
   "source": []
  },
  {
   "cell_type": "code",
   "execution_count": null,
   "metadata": {
    "coq_kernel_metadata": {
     "auto_roll_back": true
    }
   },
   "outputs": [],
   "source": []
  },
  {
   "cell_type": "code",
   "execution_count": null,
   "metadata": {
    "coq_kernel_metadata": {
     "auto_roll_back": true
    }
   },
   "outputs": [],
   "source": []
  },
  {
   "cell_type": "code",
   "execution_count": null,
   "metadata": {
    "coq_kernel_metadata": {
     "auto_roll_back": true,
     "cell_id": "0715f3e9ec214ce48ee5e18585252662",
     "execution_id": "60df69f95e464b519875fc1ef09b616b"
    }
   },
   "outputs": [],
   "source": [
    "Admitted. (* 最後にここを Qed. に変える。*)"
   ]
  },
  {
   "cell_type": "markdown",
   "metadata": {
    "coq_kernel_metadata": {
     "auto_roll_back": true
    }
   },
   "source": [
    "<a id=\"ex16\"></a>\n",
    "## 演習問題 1-6  作業用\n",
    "<font size=\"4\">次の定理を証明せよ。</font>\n",
    " <font color=\"blue\"　size=\"4\"><br> Theorem modus_ponens : (forall A  B: Prop, A -> (A -> B) ->B).</font>\n",
    "\n",
    "### ヒント\n",
    "- intros. で先頭のforall を削除する。\n",
    "- 再び intros で、AとA -> Bを仮説に移す。\n",
    "- 仮説A -> Bを仮説（この場合はA）に適用して、サブゴールをBに変える。applyを使う。\n",
    "- 仮説とサブゴールが一致する。\n",
    "\n",
    "###  [解答を見る](#ans16) "
   ]
  },
  {
   "cell_type": "code",
   "execution_count": null,
   "metadata": {
    "coq_kernel_metadata": {
     "auto_roll_back": true,
     "cell_id": "0ec03e61864d420cb9400479619fe760",
     "execution_id": "6c76ac76d33f470f85c148793f0e4c66"
    }
   },
   "outputs": [],
   "source": [
    "Theorem modus_ponens : (forall A  B: Prop, A -> (A -> B) ->B)\n",
    "Proof."
   ]
  },
  {
   "cell_type": "code",
   "execution_count": null,
   "metadata": {
    "coq_kernel_metadata": {
     "auto_roll_back": true
    }
   },
   "outputs": [],
   "source": []
  },
  {
   "cell_type": "code",
   "execution_count": null,
   "metadata": {
    "coq_kernel_metadata": {
     "auto_roll_back": true
    }
   },
   "outputs": [],
   "source": []
  },
  {
   "cell_type": "code",
   "execution_count": null,
   "metadata": {
    "coq_kernel_metadata": {
     "auto_roll_back": true
    }
   },
   "outputs": [],
   "source": []
  },
  {
   "cell_type": "code",
   "execution_count": null,
   "metadata": {
    "coq_kernel_metadata": {
     "auto_roll_back": true
    }
   },
   "outputs": [],
   "source": []
  },
  {
   "cell_type": "code",
   "execution_count": null,
   "metadata": {
    "coq_kernel_metadata": {
     "auto_roll_back": true
    }
   },
   "outputs": [],
   "source": []
  },
  {
   "cell_type": "code",
   "execution_count": null,
   "metadata": {
    "coq_kernel_metadata": {
     "auto_roll_back": true
    }
   },
   "outputs": [],
   "source": []
  },
  {
   "cell_type": "code",
   "execution_count": null,
   "metadata": {
    "coq_kernel_metadata": {
     "auto_roll_back": true,
     "cell_id": "fb52ddc1552b41b188a53731652b17af",
     "execution_id": "4ca23df865e445598270e4b321572ade"
    }
   },
   "outputs": [],
   "source": [
    "Admitted. (* 最後にここを Qed. に変える。*)"
   ]
  },
  {
   "cell_type": "markdown",
   "metadata": {
    "coq_kernel_metadata": {
     "auto_roll_back": true
    }
   },
   "source": [
    "<a id=\"ex17\"></a>\n",
    "## 演習問題 1-7  作業用\n",
    "<font size=\"4\">次の定理を証明せよ。</font>\n",
    " <font color=\"blue\"　size=\"4\"><br> Theorem modus_ponens2 : (forall A  B C: Prop, A -> (A -> B) ->(B ->C) -> C).</font>\n",
    "\n",
    "### ヒント\n",
    "- intros でforallを削除する。\n",
    "- intros で、全ての -> の前提部分を仮説に移す。この時、適当なラベルをつけておくと分かりやすくなる。この例の場合なら、intros Proof_of_A A_implies_B B_implies_C とか。\n",
    "- apply B_implies_C で、サブゴールをBに変える。\n",
    "- apply A_implies_B で、サブゴールをAに変える。\n",
    "- 仮説とサブゴールが一致している。\n",
    "\n",
    "###  [解答を見る](#ans17) "
   ]
  },
  {
   "cell_type": "code",
   "execution_count": null,
   "metadata": {
    "coq_kernel_metadata": {
     "auto_roll_back": true,
     "cell_id": "0ddc3e7c8faf4489aba643c3309f7975",
     "execution_id": "c0da09d80cba43c0bec1aff50ef0daa6"
    }
   },
   "outputs": [],
   "source": [
    "Theorem modus_ponens2 : (forall A  B C: Prop, A -> (A -> B) ->(B ->C) -> C).\n",
    "Proof."
   ]
  },
  {
   "cell_type": "code",
   "execution_count": null,
   "metadata": {
    "coq_kernel_metadata": {
     "auto_roll_back": true
    }
   },
   "outputs": [],
   "source": []
  },
  {
   "cell_type": "code",
   "execution_count": null,
   "metadata": {
    "coq_kernel_metadata": {
     "auto_roll_back": true
    }
   },
   "outputs": [],
   "source": []
  },
  {
   "cell_type": "code",
   "execution_count": null,
   "metadata": {
    "coq_kernel_metadata": {
     "auto_roll_back": true
    }
   },
   "outputs": [],
   "source": []
  },
  {
   "cell_type": "code",
   "execution_count": null,
   "metadata": {
    "coq_kernel_metadata": {
     "auto_roll_back": true
    }
   },
   "outputs": [],
   "source": []
  },
  {
   "cell_type": "code",
   "execution_count": null,
   "metadata": {
    "coq_kernel_metadata": {
     "auto_roll_back": true
    }
   },
   "outputs": [],
   "source": []
  },
  {
   "cell_type": "code",
   "execution_count": null,
   "metadata": {
    "coq_kernel_metadata": {
     "auto_roll_back": true
    }
   },
   "outputs": [],
   "source": []
  },
  {
   "cell_type": "code",
   "execution_count": null,
   "metadata": {
    "coq_kernel_metadata": {
     "auto_roll_back": true
    }
   },
   "outputs": [],
   "source": []
  },
  {
   "cell_type": "code",
   "execution_count": null,
   "metadata": {
    "coq_kernel_metadata": {
     "auto_roll_back": true,
     "cell_id": "02bf3aea8f1f44d7845513a3c043723a",
     "execution_id": "1ebc56b2c6d942e7827fc0797d817c20"
    }
   },
   "outputs": [],
   "source": [
    "Admitted. (* 最後にここを Qed. に変える。*)"
   ]
  },
  {
   "cell_type": "markdown",
   "metadata": {
    "coq_kernel_metadata": {
     "auto_roll_back": true
    }
   },
   "source": [
    "<a id=\"ex18\"></a>\n",
    "## 演習問題 1-8  作業用\n",
    "<font size=\"4\">次の定理を証明せよ。</font>\n",
    " <font color=\"blue\"　size=\"4\"><br> Theorem and_comm : (forall A  B: Prop, A /\\ B -> B /\\ A ).</font>\n",
    "\n",
    "### ヒント\n",
    "- intros で、forall を削除し、\"A /\\ B\" にH というラベルをつける 。\n",
    "- \"H: A/\\ B\" を destruct で分解し、A, B を仮説に追加する。　\n",
    "- サブゴール \"A\\/ B\" を split で、二つのサブゴールに分割する。　\n",
    "- 一つ目のサブゴールは仮説の一つと同じなので解ける。サブゴールは一つになる。\n",
    "- 残ったサブゴールも仮説の一つと一緒なので、解ける。\n",
    "- サブゴールは残っていないので証明終了。\n",
    "\n",
    "###  [解答を見る](#ans18) "
   ]
  },
  {
   "cell_type": "code",
   "execution_count": null,
   "metadata": {
    "coq_kernel_metadata": {
     "auto_roll_back": true,
     "cell_id": "c131094999854529b5a79652d05420db",
     "execution_id": "27c308f7df4b442b882e889a75b9b199"
    }
   },
   "outputs": [],
   "source": [
    "Theorem and_comm : (forall A  B: Prop, A /\\ B -> B /\\ A ).\n",
    "Proof."
   ]
  },
  {
   "cell_type": "code",
   "execution_count": null,
   "metadata": {
    "coq_kernel_metadata": {
     "auto_roll_back": true
    }
   },
   "outputs": [],
   "source": []
  },
  {
   "cell_type": "code",
   "execution_count": null,
   "metadata": {
    "coq_kernel_metadata": {
     "auto_roll_back": true
    }
   },
   "outputs": [],
   "source": []
  },
  {
   "cell_type": "code",
   "execution_count": null,
   "metadata": {
    "coq_kernel_metadata": {
     "auto_roll_back": true
    }
   },
   "outputs": [],
   "source": []
  },
  {
   "cell_type": "code",
   "execution_count": null,
   "metadata": {
    "coq_kernel_metadata": {
     "auto_roll_back": true
    }
   },
   "outputs": [],
   "source": []
  },
  {
   "cell_type": "code",
   "execution_count": null,
   "metadata": {
    "coq_kernel_metadata": {
     "auto_roll_back": true
    }
   },
   "outputs": [],
   "source": []
  },
  {
   "cell_type": "code",
   "execution_count": null,
   "metadata": {
    "coq_kernel_metadata": {
     "auto_roll_back": true
    }
   },
   "outputs": [],
   "source": []
  },
  {
   "cell_type": "code",
   "execution_count": null,
   "metadata": {
    "coq_kernel_metadata": {
     "auto_roll_back": true
    }
   },
   "outputs": [],
   "source": []
  },
  {
   "cell_type": "code",
   "execution_count": null,
   "metadata": {
    "coq_kernel_metadata": {
     "auto_roll_back": true,
     "cell_id": "ce5eb0a96f0d4b378814eae3360d244a",
     "execution_id": "13f117ae6a704850990301d9a602d46a"
    }
   },
   "outputs": [],
   "source": [
    "Admitted. (* 最後にここを Qed. に変える。*)"
   ]
  },
  {
   "cell_type": "markdown",
   "metadata": {
    "coq_kernel_metadata": {
     "auto_roll_back": true
    }
   },
   "source": [
    "<a id=\"ex19\"></a>\n",
    "## 演習問題 1-9  作業用\n",
    "<font size=\"4\">次の定理を証明せよ。</font>\n",
    " <font color=\"blue\"　size=\"4\"><br> Theorem or_comm : (forall A B: Prop, A \\\\/ B -> B \\\\/ A ) .</font>\n",
    "\n",
    "### ヒント\n",
    "-  intros で\"A \\/ B\" を仮定に移し、A_or_B というラベルをつける。\n",
    "-  A\\/B をdestructすると、Aが仮定に残り、サブゴールが二つに分割される。\n",
    "-  一つ目のサブゴールから、right でB\\/A の右の項Aをサブゴールに残す。 \n",
    "-  サブゴールと仮定が一致している。 サブゴールは一つになる。\n",
    "-  一つ目のサブゴールから、left でB\\/A の左の項Bをサブゴールに残す。 \n",
    "\n",
    "###  [解答を見る](#ans19) "
   ]
  },
  {
   "cell_type": "code",
   "execution_count": null,
   "metadata": {
    "coq_kernel_metadata": {
     "auto_roll_back": true,
     "cell_id": "595bf03b3b0b4eecbaf0e1593bbbeda2",
     "execution_id": "d84d8a9423324ac8a680cbade3654134"
    }
   },
   "outputs": [],
   "source": [
    "Theorem or_comm : (forall A B: Prop, A \\/ B -> B \\/ A ) .\n",
    "Proof."
   ]
  },
  {
   "cell_type": "code",
   "execution_count": null,
   "metadata": {
    "coq_kernel_metadata": {
     "auto_roll_back": true
    }
   },
   "outputs": [],
   "source": []
  },
  {
   "cell_type": "code",
   "execution_count": null,
   "metadata": {
    "coq_kernel_metadata": {
     "auto_roll_back": true
    }
   },
   "outputs": [],
   "source": []
  },
  {
   "cell_type": "code",
   "execution_count": null,
   "metadata": {
    "coq_kernel_metadata": {
     "auto_roll_back": true
    }
   },
   "outputs": [],
   "source": []
  },
  {
   "cell_type": "code",
   "execution_count": null,
   "metadata": {
    "coq_kernel_metadata": {
     "auto_roll_back": true
    }
   },
   "outputs": [],
   "source": []
  },
  {
   "cell_type": "code",
   "execution_count": null,
   "metadata": {
    "coq_kernel_metadata": {
     "auto_roll_back": true
    }
   },
   "outputs": [],
   "source": []
  },
  {
   "cell_type": "code",
   "execution_count": null,
   "metadata": {
    "coq_kernel_metadata": {
     "auto_roll_back": true
    }
   },
   "outputs": [],
   "source": []
  },
  {
   "cell_type": "code",
   "execution_count": null,
   "metadata": {
    "coq_kernel_metadata": {
     "auto_roll_back": true
    }
   },
   "outputs": [],
   "source": []
  },
  {
   "cell_type": "code",
   "execution_count": null,
   "metadata": {
    "coq_kernel_metadata": {
     "auto_roll_back": true,
     "cell_id": "a9426489c2fb43878ce6bc6e52317393",
     "execution_id": "950d943b665d419a8f4725837671c60c"
    }
   },
   "outputs": [],
   "source": [
    "Admitted. (* 最後にここを Qed. に変える。*)"
   ]
  },
  {
   "cell_type": "markdown",
   "metadata": {
    "coq_kernel_metadata": {
     "auto_roll_back": true
    }
   },
   "source": [
    "# <font color=\"blue\"> 演習問題 1  解答 </font>\n",
    "\n",
    "[演習問題 1-1 解答](#ans11)  [演習問題 1-2 解答](#ans12) [演習問題 1-3 解答](#ans13) [演習問題 1-4 解答](#ans14) [演習問題 1-5 解答](#ans15) [演習問題 1-6 解答](#ans16) [演習問題 1-7 解答](#ans17) [演習問題 1-8 解答](#ans18) [演習問題 1-9 解答](#ans19) "
   ]
  },
  {
   "cell_type": "markdown",
   "metadata": {
    "coq_kernel_metadata": {
     "auto_roll_back": true
    }
   },
   "source": [
    "<a id=\"ans11\" ></a>\n",
    "## 演習問題 1-1 解答 \n",
    "<font size=\"4\">次の定理を証明せよ。</font>\n",
    " <font color=\"blue\"　size=\"4\" ><br> Theorem my_first_proof : (forall A : Prop, A -> A).</font>\n",
    "\n",
    "[作業用ページで証明をして見る](#ex11)　/ [演習問題に戻る](./1-Logic.ipynb#ex11 ) \n",
    "\n",
    "## 解答\n",
    "```\n",
    "Theorem  my_first_proof : (forall A : Prop, A -> A).\n",
    "Proof.\n",
    "   intros.\n",
    "   intros.\n",
    "   assumption.\n",
    "Qed.\n",
    "```\n",
    "\n",
    "### 下のCellを実行して確かめよ。"
   ]
  },
  {
   "cell_type": "code",
   "execution_count": null,
   "metadata": {
    "coq_kernel_metadata": {
     "auto_roll_back": true,
     "cell_id": "559410a9d51b40e38ebb7bd1172aab8c",
     "execution_id": "6305d6f94ba444b18e7caab473560c56"
    }
   },
   "outputs": [],
   "source": [
    "Theorem  my_first_proof' : (forall A : Prop, A -> A).\n",
    "Proof.\n",
    "   intros.\n",
    "   intros.\n",
    "   exact H.\n",
    "Qed."
   ]
  },
  {
   "cell_type": "markdown",
   "metadata": {
    "coq_kernel_metadata": {
     "auto_roll_back": true
    }
   },
   "source": [
    "### 次のCell を一つづつ実行して、各tacticsの働きを確認せよ。"
   ]
  },
  {
   "cell_type": "code",
   "execution_count": null,
   "metadata": {
    "coq_kernel_metadata": {
     "auto_roll_back": true,
     "cell_id": "a88c75794bfd4fed8e4df38ff4ddc984",
     "execution_id": "08c2f57dacfa460f9964fb273d679540"
    }
   },
   "outputs": [],
   "source": [
    "Theorem  my_first_proof'' : (forall A : Prop, A -> A).\n",
    "Proof."
   ]
  },
  {
   "cell_type": "code",
   "execution_count": null,
   "metadata": {
    "coq_kernel_metadata": {
     "auto_roll_back": true,
     "cell_id": "25f6f393c1184a6f83ea7c2db8e23a3d",
     "execution_id": "ca54580852274ca48e17a99ffa1cb9d0"
    }
   },
   "outputs": [],
   "source": [
    "   intros."
   ]
  },
  {
   "cell_type": "code",
   "execution_count": null,
   "metadata": {
    "coq_kernel_metadata": {
     "auto_roll_back": true,
     "cell_id": "69bd3d1d31d143689c886e45f32d7099",
     "execution_id": "20abe598b2864efd8d6027dc98addc4c"
    }
   },
   "outputs": [],
   "source": [
    "   intros."
   ]
  },
  {
   "cell_type": "code",
   "execution_count": null,
   "metadata": {
    "coq_kernel_metadata": {
     "auto_roll_back": true,
     "cell_id": "3ac5ba8533ed4e13b8a2c872a3457d41",
     "execution_id": "4dc548defb1f494a822c0a8cde53e97e"
    }
   },
   "outputs": [],
   "source": [
    "   exact H."
   ]
  },
  {
   "cell_type": "code",
   "execution_count": null,
   "metadata": {
    "coq_kernel_metadata": {
     "auto_roll_back": true,
     "cell_id": "9eb5d974eb914f8983585308246078af",
     "execution_id": "30290da337d7414288a99c86613d2888"
    }
   },
   "outputs": [],
   "source": [
    "Qed."
   ]
  },
  {
   "cell_type": "markdown",
   "metadata": {
    "collapsed": true,
    "coq_kernel_metadata": {
     "auto_roll_back": true
    }
   },
   "source": [
    "<a id=\"ans12\" ></a>\n",
    "## 演習問題 1-2 解答\n",
    "<font size=\"4\">次の定理を証明せよ。</font>\n",
    " <font color=\"blue\" size=\"4\"><br> Theorem and1 : (forall A  B: Prop, A /\\ B -> A).</font>\n",
    "\n",
    "[作業用ページで証明をして見る]( #ex12)　/ [演習問題に戻る](./1-Logic.ipynb#ex12 )\n",
    "\n",
    "## 解答\n",
    "```\n",
    "Theorem  and1 : (forall A  B: Prop, A /\\ B -> A).\n",
    "Proof.\n",
    "   intros A B A_and_B.\n",
    "   destruct A_and_B.\n",
    "   assumption.\n",
    " Qed.\n",
    "```\n",
    "\n",
    "### 次を実行してみよ。"
   ]
  },
  {
   "cell_type": "code",
   "execution_count": null,
   "metadata": {
    "coq_kernel_metadata": {
     "auto_roll_back": true,
     "cell_id": "096fcc4512dd4eae92bcca0bf4270d3a",
     "execution_id": "1a78652e6e6c46bdae469e372664f80a"
    }
   },
   "outputs": [],
   "source": [
    "Theorem  and1' : (forall A  B: Prop, A /\\ B -> A).\n",
    "Proof.\n",
    "   intros A B A_and_B.\n",
    "   destruct A_and_B.\n",
    "   assumption.\n",
    " Qed."
   ]
  },
  {
   "cell_type": "markdown",
   "metadata": {
    "coq_kernel_metadata": {
     "auto_roll_back": true
    }
   },
   "source": [
    "### 次のCell を一つづつ実行して、各tacticsの働きを確認せよ。"
   ]
  },
  {
   "cell_type": "code",
   "execution_count": null,
   "metadata": {
    "coq_kernel_metadata": {
     "auto_roll_back": true,
     "cell_id": "9dcda4a39ce844b18ab47ec20a62a3e8",
     "execution_id": "d5ed4381dc6448088f06c37c25378511"
    }
   },
   "outputs": [],
   "source": [
    "Theorem  and1'' : (forall A  B: Prop, A /\\ B -> A).\n",
    "Proof."
   ]
  },
  {
   "cell_type": "code",
   "execution_count": null,
   "metadata": {
    "coq_kernel_metadata": {
     "auto_roll_back": true,
     "cell_id": "ea7915f6d8ba43cd9d82fc3fb681994b",
     "execution_id": "d81ededbb5934f9283f8b85e25f69291"
    }
   },
   "outputs": [],
   "source": [
    "   intros A B A_and_B."
   ]
  },
  {
   "cell_type": "code",
   "execution_count": null,
   "metadata": {
    "coq_kernel_metadata": {
     "auto_roll_back": true,
     "cell_id": "8747f9d1394f40498495075725a68f95",
     "execution_id": "5cadbf97b47f4bf38802347438dbc10e"
    }
   },
   "outputs": [],
   "source": [
    "   destruct A_and_B."
   ]
  },
  {
   "cell_type": "code",
   "execution_count": null,
   "metadata": {
    "coq_kernel_metadata": {
     "auto_roll_back": true,
     "cell_id": "d16d12666422421481a7a70f74facefd",
     "execution_id": "39338a1c955e4025a2a135c2c9efa5b2"
    }
   },
   "outputs": [],
   "source": [
    "   assumption."
   ]
  },
  {
   "cell_type": "code",
   "execution_count": null,
   "metadata": {
    "coq_kernel_metadata": {
     "auto_roll_back": true,
     "cell_id": "a1b7e95f08474f339bb3767cc2449edd",
     "execution_id": "ab60728da5444fb48cf791d1966d9b79"
    }
   },
   "outputs": [],
   "source": [
    " Qed."
   ]
  },
  {
   "cell_type": "markdown",
   "metadata": {
    "coq_kernel_metadata": {
     "auto_roll_back": true
    }
   },
   "source": [
    "<a id=\"ans13\" ></a>\n",
    "## 演習問題 1-3 解答\n",
    "<font size=\"4\">次の定理を証明せよ。</font>\n",
    " <font color=\"blue\"　size=\"4\"><br> Theorem and1 : (forall A  B: Prop, A /\\ B -> B).</font>\n",
    "\n",
    "[作業用ページで証明をして見る](#ex13)　/ [演習問題に戻る](./1-Logic.ipynb#ex13 )　\n",
    "\n",
    "## 解答\n",
    "```\n",
    "Theorem  and2 : (forall A  B: Prop, A /\\ B -> B).\n",
    "Proof.\n",
    "  intros A B A_and_B.\n",
    "  destruct A_and_B.\n",
    "  trivial.\n",
    "Qed.\n",
    "```\n",
    "### 次を実行して確かめよ。"
   ]
  },
  {
   "cell_type": "code",
   "execution_count": null,
   "metadata": {
    "coq_kernel_metadata": {
     "auto_roll_back": true,
     "cell_id": "debd95dc4a364e4281920222cb676cc5",
     "execution_id": "eda50189cfcc4d10a912a3cdce08a88d"
    }
   },
   "outputs": [],
   "source": [
    "Theorem  and2' : (forall A  B: Prop, A /\\ B -> B).\n",
    "Proof.\n",
    "  intros A B A_and_B.\n",
    "  destruct A_and_B.\n",
    "  trivial.\n",
    "Qed."
   ]
  },
  {
   "cell_type": "markdown",
   "metadata": {
    "coq_kernel_metadata": {
     "auto_roll_back": true
    }
   },
   "source": [
    "### 次のCell を一つづつ実行して、各tacticsの働きを確認せよ。"
   ]
  },
  {
   "cell_type": "code",
   "execution_count": null,
   "metadata": {
    "coq_kernel_metadata": {
     "auto_roll_back": true,
     "cell_id": "ca4387cd332441da8c7c1f9bba948e10",
     "execution_id": "0906422cbf2b4b8489b82532dc6e08a7"
    }
   },
   "outputs": [],
   "source": [
    "Theorem  and2'' : (forall A  B: Prop, A /\\ B -> B).\n",
    "Proof."
   ]
  },
  {
   "cell_type": "code",
   "execution_count": null,
   "metadata": {
    "coq_kernel_metadata": {
     "auto_roll_back": true,
     "cell_id": "d71a20c8e1ac49918c31e2854aeae7c9",
     "execution_id": "039a82cc80884e30ba54332ada87dd7e"
    }
   },
   "outputs": [],
   "source": [
    "  intros A B A_and_B."
   ]
  },
  {
   "cell_type": "code",
   "execution_count": null,
   "metadata": {
    "coq_kernel_metadata": {
     "auto_roll_back": true,
     "cell_id": "71028de7b5d04584984a4954d8600cba",
     "execution_id": "ce55ec768feb4b0db108fb0fa7758e7e"
    }
   },
   "outputs": [],
   "source": [
    "  destruct A_and_B."
   ]
  },
  {
   "cell_type": "code",
   "execution_count": null,
   "metadata": {
    "coq_kernel_metadata": {
     "auto_roll_back": true,
     "cell_id": "2e1167f081184f568d8acfffc3bfd0d1",
     "execution_id": "4ff0e6f517fc4b018f432c3dc7aac4e8"
    }
   },
   "outputs": [],
   "source": [
    "  trivial."
   ]
  },
  {
   "cell_type": "code",
   "execution_count": null,
   "metadata": {
    "coq_kernel_metadata": {
     "auto_roll_back": true,
     "cell_id": "aeba0e7bb216447f82ae01a0cc32d458",
     "execution_id": "39bab85cf1fb467c84438d7cd0c780e3"
    }
   },
   "outputs": [],
   "source": [
    "Qed."
   ]
  },
  {
   "cell_type": "markdown",
   "metadata": {
    "coq_kernel_metadata": {
     "auto_roll_back": true
    }
   },
   "source": [
    "<a id=\"ans14\" ></a>\n",
    "## 演習問題 1-4 解答\n",
    "<font size=\"4\">次の定理を証明せよ。</font>\n",
    " <font color=\"blue\"　size=\"4\"><br> Theorem or1 : (forall A  B: Prop, A -> A \\\\/ B).</font>\n",
    "\n",
    "[作業用ページで証明をして見る](#ex14) / [演習問題に戻る](./1-Logic.ipynb#ex14 )　\n",
    "\n",
    "## 解答\n",
    "```\n",
    "Theorem  or1 : (forall A  B: Prop, A -> A \\/ B).\n",
    "Proof.\n",
    "  intros .\n",
    "  left.\n",
    " trivial.\n",
    "Qed.\n",
    "```\n",
    "### 次を実行して確かめよ。"
   ]
  },
  {
   "cell_type": "code",
   "execution_count": null,
   "metadata": {
    "coq_kernel_metadata": {
     "auto_roll_back": true,
     "cell_id": "cb06a93e480a458fb2bca9731edf9227",
     "execution_id": "c6b5e0a5b36c4e2cac93dbbd9cf776ef"
    }
   },
   "outputs": [],
   "source": [
    "Theorem  or1' : (forall A  B: Prop, A -> A \\/ B).\n",
    "Proof.\n",
    "  intros .\n",
    "  left.\n",
    " trivial.\n",
    "Qed."
   ]
  },
  {
   "cell_type": "markdown",
   "metadata": {
    "coq_kernel_metadata": {
     "auto_roll_back": true
    }
   },
   "source": [
    "### 次のCell を一つづつ実行して、各tacticsの働きを確認せよ。"
   ]
  },
  {
   "cell_type": "code",
   "execution_count": null,
   "metadata": {
    "coq_kernel_metadata": {
     "auto_roll_back": true,
     "cell_id": "02c3e7c827314198ba76a4a9e260bc89",
     "execution_id": "a8e02d8aebb440fa99bb5947f228f5eb"
    }
   },
   "outputs": [],
   "source": [
    "Theorem  or1'' : (forall A  B: Prop, A -> A \\/ B).\n",
    "Proof."
   ]
  },
  {
   "cell_type": "code",
   "execution_count": null,
   "metadata": {
    "coq_kernel_metadata": {
     "auto_roll_back": true,
     "cell_id": "9a7eec4c7d4948d885109ad7c0215acf",
     "execution_id": "c31418111aec455d94f2d0284450dd41"
    }
   },
   "outputs": [],
   "source": [
    "  intros ."
   ]
  },
  {
   "cell_type": "code",
   "execution_count": null,
   "metadata": {
    "coq_kernel_metadata": {
     "auto_roll_back": true,
     "cell_id": "d36a0cad0fc14506852e4639dfa261a3",
     "execution_id": "a83b8139fa8346588ab0479f7ac39edb"
    }
   },
   "outputs": [],
   "source": [
    "  left."
   ]
  },
  {
   "cell_type": "code",
   "execution_count": null,
   "metadata": {
    "coq_kernel_metadata": {
     "auto_roll_back": true,
     "cell_id": "ded78ad76f60432e9874670f4f59519d",
     "execution_id": "99860d49ecd34f27825c860082699a82"
    }
   },
   "outputs": [],
   "source": [
    " trivial."
   ]
  },
  {
   "cell_type": "code",
   "execution_count": null,
   "metadata": {
    "coq_kernel_metadata": {
     "auto_roll_back": true,
     "cell_id": "51f89e4c180c493284d1eee72d40aec1",
     "execution_id": "d9a304cbfcef44fc80d15057522eca46"
    }
   },
   "outputs": [],
   "source": [
    "Qed."
   ]
  },
  {
   "cell_type": "markdown",
   "metadata": {
    "coq_kernel_metadata": {
     "auto_roll_back": true
    }
   },
   "source": [
    "<a id=\"ans15\" ></a>\n",
    "## 演習問題 1-5 解答\n",
    "<font size=\"4\">次の定理を証明せよ。</font>\n",
    " <font color=\"blue\"　size=\"4\"><br> Theorem or2 : (forall A  B: Prop, B -> A \\\\/ B).</font>\n",
    "\n",
    "[作業用ページで証明をして見る](#ex15)　/ [演習問題に戻る](./1-Logic.ipynb#ex15 )　\n",
    "\n",
    "## 解答\n",
    "```\n",
    "Theorem  or2 : (forall A  B: Prop, B -> A \\/ B).\n",
    "Proof.\n",
    "  intros .\n",
    "  right.\n",
    "  trivial.\n",
    "Qed.\n",
    "```\n",
    "### 次を実行して確かめよ。"
   ]
  },
  {
   "cell_type": "code",
   "execution_count": null,
   "metadata": {
    "coq_kernel_metadata": {
     "auto_roll_back": true,
     "cell_id": "6577c1becdc3436e8349b3eeef46a60c",
     "execution_id": "8e107ad076794a8f872e06bb5ea28925"
    }
   },
   "outputs": [],
   "source": [
    "Theorem  or2' : (forall A  B: Prop, B -> A \\/ B).\n",
    "Proof.\n",
    "  intros .\n",
    "  right.\n",
    "  trivial.\n",
    "Qed."
   ]
  },
  {
   "cell_type": "markdown",
   "metadata": {
    "coq_kernel_metadata": {
     "auto_roll_back": true
    }
   },
   "source": [
    "### 次のCell を一つづつ実行して、各tacticsの働きを確認せよ。"
   ]
  },
  {
   "cell_type": "code",
   "execution_count": null,
   "metadata": {
    "coq_kernel_metadata": {
     "auto_roll_back": true,
     "cell_id": "fa7b8bd10d7745bb88afb263dfb3f01a",
     "execution_id": "c722c6922b1e429b8da674701cb9d754"
    }
   },
   "outputs": [],
   "source": [
    "Theorem  or2'' : (forall A  B: Prop, B -> A \\/ B).\n",
    "Proof."
   ]
  },
  {
   "cell_type": "code",
   "execution_count": null,
   "metadata": {
    "coq_kernel_metadata": {
     "auto_roll_back": true,
     "cell_id": "e530c022b7a94c4d89cd8742952b956d",
     "execution_id": "41fb7216a5c24726900a2e24a8abdc23"
    }
   },
   "outputs": [],
   "source": [
    "  intros ."
   ]
  },
  {
   "cell_type": "code",
   "execution_count": null,
   "metadata": {
    "coq_kernel_metadata": {
     "auto_roll_back": true,
     "cell_id": "bb6350eb86ae4a6b8ba3a50b0e594d00",
     "execution_id": "1c2c8c1e5596426e80a3317b8bae78f1"
    }
   },
   "outputs": [],
   "source": [
    "  right."
   ]
  },
  {
   "cell_type": "code",
   "execution_count": null,
   "metadata": {
    "coq_kernel_metadata": {
     "auto_roll_back": true,
     "cell_id": "f20635bfd9aa48b7863a48d79dbf7b08",
     "execution_id": "0d7634b601aa4d6d89957c5f3610d591"
    }
   },
   "outputs": [],
   "source": [
    "  trivial."
   ]
  },
  {
   "cell_type": "code",
   "execution_count": null,
   "metadata": {
    "coq_kernel_metadata": {
     "auto_roll_back": true,
     "cell_id": "f30cd5b4191d4b8e8face4b2349019e8",
     "execution_id": "297c8de73087441ba86faa7cac266660"
    }
   },
   "outputs": [],
   "source": [
    "Qed."
   ]
  },
  {
   "cell_type": "markdown",
   "metadata": {
    "coq_kernel_metadata": {
     "auto_roll_back": true
    }
   },
   "source": [
    "<a id=\"ans16\" ></a>\n",
    "## 演習問題 1-6 解答\n",
    "<font size=\"4\">次の定理を証明せよ。</font>\n",
    " <font color=\"blue\"　size=\"4\"><br> Theorem modus_ponens : (forall A  B: Prop, A -> (A -> B) ->B).</font>\n",
    "\n",
    "[作業用ページで証明をして見る](#ex16)　/ [演習問題に戻る](./1-Logic.ipynb#ex16 )　\n",
    "\n",
    "## 解答\n",
    "```\n",
    "Theorem  modus_ponens : (forall A  B: Prop, A -> (A -> B) ->B).\n",
    "Proof.\n",
    "  intros A B.\n",
    "  intros  H A_implies_B.\n",
    "  apply A_implies_B.\n",
    "  assumption.\n",
    "Qed.\n",
    "```\n",
    "### 次の計算で確かめよ。"
   ]
  },
  {
   "cell_type": "code",
   "execution_count": null,
   "metadata": {
    "coq_kernel_metadata": {
     "auto_roll_back": true,
     "cell_id": "965e4280fcc84987afc9ca8d6895effc",
     "execution_id": "7bc67087f6ab48d18050e2eb05ce3d53"
    }
   },
   "outputs": [],
   "source": [
    "Theorem  modus_ponens' : (forall A  B: Prop, A -> (A -> B) ->B).\n",
    "Proof.\n",
    "  intros A B.\n",
    "  intros  H A_implies_B.\n",
    "  apply A_implies_B.\n",
    "  assumption.\n",
    "Qed."
   ]
  },
  {
   "cell_type": "markdown",
   "metadata": {
    "coq_kernel_metadata": {
     "auto_roll_back": true
    }
   },
   "source": [
    "### 次のCell を一つづつ実行して、各tacticsの働きを確認せよ。"
   ]
  },
  {
   "cell_type": "code",
   "execution_count": null,
   "metadata": {
    "coq_kernel_metadata": {
     "auto_roll_back": true,
     "cell_id": "cccd8ae11200483a93b53869cacd63d2",
     "execution_id": "b8c2c3619add4617af819cee66d27d8d"
    }
   },
   "outputs": [],
   "source": [
    "Theorem  modus_ponens'' : (forall A  B: Prop, A -> (A -> B) ->B).\n",
    "Proof."
   ]
  },
  {
   "cell_type": "code",
   "execution_count": null,
   "metadata": {
    "coq_kernel_metadata": {
     "auto_roll_back": true,
     "cell_id": "31f409e636714978b4428d590bbe6297",
     "execution_id": "0636c8ac12c842cf9843189e0a032817"
    }
   },
   "outputs": [],
   "source": [
    "  intros A B."
   ]
  },
  {
   "cell_type": "code",
   "execution_count": null,
   "metadata": {
    "coq_kernel_metadata": {
     "auto_roll_back": true,
     "cell_id": "bff45307b4164372866033c58682d696",
     "execution_id": "fa90ca1caaff45af80ba4dd6947fd041"
    },
    "scrolled": true
   },
   "outputs": [],
   "source": [
    "  intros  H A_implies_B."
   ]
  },
  {
   "cell_type": "code",
   "execution_count": null,
   "metadata": {
    "coq_kernel_metadata": {
     "auto_roll_back": true,
     "cell_id": "972ea64829684dc0887abe1a8f20bc0c",
     "execution_id": "4b97fc8135ae4fff813e55dfa49dabc7"
    },
    "scrolled": true
   },
   "outputs": [],
   "source": [
    "  apply A_implies_B."
   ]
  },
  {
   "cell_type": "code",
   "execution_count": null,
   "metadata": {
    "coq_kernel_metadata": {
     "auto_roll_back": true,
     "cell_id": "21481b7d9c9946cdbbf5eb9fa326699c",
     "execution_id": "a60bfd2a601f4ff89c9e240ab6ad3817"
    }
   },
   "outputs": [],
   "source": [
    "  assumption."
   ]
  },
  {
   "cell_type": "code",
   "execution_count": null,
   "metadata": {
    "coq_kernel_metadata": {
     "auto_roll_back": true,
     "cell_id": "32ff3daed4dc42848fa586f91bf71277",
     "execution_id": "acdd5f57edd64f768d60f7d470661f00"
    }
   },
   "outputs": [],
   "source": [
    "Qed."
   ]
  },
  {
   "cell_type": "markdown",
   "metadata": {
    "coq_kernel_metadata": {
     "auto_roll_back": true
    }
   },
   "source": [
    "<a id=\"ans17\" ></a>\n",
    "## 演習問題 1-7 解答\n",
    "<font size=\"4\">次の定理を証明せよ。</font>\n",
    " <font color=\"blue\"　size=\"4\"><br> Theorem modus_ponens2 : (forall A  B C: Prop, A -> (A -> B) ->(B ->C) -> C).</font>\n",
    "\n",
    "[作業用ページで証明をして見る](#ex17)　/ [演習問題に戻る](./1-Logic.ipynb#ex17 )　\n",
    "\n",
    "## 解答\n",
    "```\n",
    "Theorem  modus_ponens2 : (forall A  B C: Prop, A -> (A -> B) ->(B ->C) -> C).\n",
    "Proof.\n",
    "  intros A B C Proof_of_A  A_implies_B B_implies_C.\n",
    "  apply B_implies_C.\n",
    "  apply A_implies_B.\n",
    "  assumption.\n",
    "Qed.\n",
    "```\n",
    "### 次を実行して確かめよ"
   ]
  },
  {
   "cell_type": "code",
   "execution_count": null,
   "metadata": {
    "coq_kernel_metadata": {
     "auto_roll_back": true,
     "cell_id": "4905f14fa5e54718aa777b95e67441fa",
     "execution_id": "3602f96fe1e74ddca764fc09052b8774"
    }
   },
   "outputs": [],
   "source": [
    "Theorem  modus_ponens2' : (forall A  B C: Prop, A -> (A -> B) ->(B ->C) -> C).\n",
    "Proof.\n",
    "  intros A B C Proof_of_A  A_implies_B B_implies_C.\n",
    "  apply B_implies_C.\n",
    "  apply A_implies_B.\n",
    "  assumption.\n",
    "Qed."
   ]
  },
  {
   "cell_type": "markdown",
   "metadata": {
    "coq_kernel_metadata": {
     "auto_roll_back": true
    }
   },
   "source": [
    "### 次のCell を一つづつ実行して、各tacticsの働きを確認せよ。"
   ]
  },
  {
   "cell_type": "code",
   "execution_count": null,
   "metadata": {
    "coq_kernel_metadata": {
     "auto_roll_back": true,
     "cell_id": "8ebe9f2d83014cca9542ff8c2c83e2a8",
     "execution_id": "6f12dc69530249ff86d24f376c978dda"
    }
   },
   "outputs": [],
   "source": [
    "Theorem  modus_ponens2'' : (forall A  B C: Prop, A -> (A -> B) ->(B ->C) -> C).\n",
    "Proof."
   ]
  },
  {
   "cell_type": "code",
   "execution_count": null,
   "metadata": {
    "coq_kernel_metadata": {
     "auto_roll_back": true,
     "cell_id": "bb4330540287428b882c95295d8d6a9f",
     "execution_id": "5a33dcbecd4c466587e265261a38babe"
    }
   },
   "outputs": [],
   "source": [
    "  intros A B C Proof_of_A  A_implies_B B_implies_C."
   ]
  },
  {
   "cell_type": "code",
   "execution_count": null,
   "metadata": {
    "coq_kernel_metadata": {
     "auto_roll_back": true,
     "cell_id": "b37d086101d0417a8b020671c4f3cfb6",
     "execution_id": "d867c07e8417472581307a93307797e1"
    }
   },
   "outputs": [],
   "source": [
    "  apply B_implies_C."
   ]
  },
  {
   "cell_type": "code",
   "execution_count": null,
   "metadata": {
    "coq_kernel_metadata": {
     "auto_roll_back": true,
     "cell_id": "272c8c87cdd545e4844f306737829bc5",
     "execution_id": "768ecbd815244e71b71198fc091a95c3"
    }
   },
   "outputs": [],
   "source": [
    "  apply A_implies_B."
   ]
  },
  {
   "cell_type": "code",
   "execution_count": null,
   "metadata": {
    "coq_kernel_metadata": {
     "auto_roll_back": true,
     "cell_id": "da79b955da624315b032c5988d13b6f9",
     "execution_id": "08cf667ba49246248380fb6371741736"
    }
   },
   "outputs": [],
   "source": [
    "  assumption."
   ]
  },
  {
   "cell_type": "code",
   "execution_count": null,
   "metadata": {
    "coq_kernel_metadata": {
     "auto_roll_back": true,
     "cell_id": "df843e66656d4429a9f26dac2b0da259",
     "execution_id": "ca85b658c1c44eff86fde1779d8d6117"
    }
   },
   "outputs": [],
   "source": [
    "Qed."
   ]
  },
  {
   "cell_type": "markdown",
   "metadata": {
    "coq_kernel_metadata": {
     "auto_roll_back": true
    }
   },
   "source": [
    "<a id=\"ans18\" ></a>\n",
    "## 演習問題 1-8 解答\n",
    "<font size=\"4\">次の定理を証明せよ。</font>\n",
    " <font color=\"blue\"　size=\"4\"><br> Theorem and_comm : (forall A  B: Prop, A /\\ B -> B /\\ A ).</font>\n",
    "\n",
    "[作業用ページで証明をして見る](#ex18)　/ [演習問題に戻る](./1-Logic.ipynb#ans18 )　\n",
    "\n",
    "## 解答\n",
    "```\n",
    "Theorem  and_comm : (forall A  B: Prop, A /\\ B -> B /\\ A ).\n",
    "Proof.\n",
    "  intros A B H.\n",
    "  destruct H.\n",
    "  split.\n",
    "  assumption.\n",
    "  assumption.\n",
    "Qed.\n",
    "```\n",
    "### 次を実行して確かめよ。"
   ]
  },
  {
   "cell_type": "code",
   "execution_count": null,
   "metadata": {
    "coq_kernel_metadata": {
     "auto_roll_back": true,
     "cell_id": "4e895fc057b44fac8a58c4be52ed3ef6",
     "execution_id": "a8b08263be6847f9bc3f7be7a7e6a15b"
    }
   },
   "outputs": [],
   "source": [
    "Theorem  and_comm' : (forall A  B: Prop, A /\\ B -> B /\\ A ).\n",
    "Proof.\n",
    "  intros A B H.\n",
    "  destruct H.\n",
    "  split.\n",
    "  assumption.\n",
    "  assumption.\n",
    "Qed."
   ]
  },
  {
   "cell_type": "markdown",
   "metadata": {
    "coq_kernel_metadata": {
     "auto_roll_back": true
    }
   },
   "source": [
    "### 次のCell を一つづつ実行して、各tacticsの働きを確認せよ。"
   ]
  },
  {
   "cell_type": "code",
   "execution_count": null,
   "metadata": {
    "coq_kernel_metadata": {
     "auto_roll_back": true,
     "cell_id": "ec4e7c1398454edb852bec5abba32e4b",
     "execution_id": "ee1ac418f99847bf810118bc33a3e01a"
    }
   },
   "outputs": [],
   "source": [
    "Theorem  and_comm'' : (forall A  B: Prop, A /\\ B -> B /\\ A ).\n",
    "Proof."
   ]
  },
  {
   "cell_type": "code",
   "execution_count": null,
   "metadata": {
    "coq_kernel_metadata": {
     "auto_roll_back": true,
     "cell_id": "914877922cb44c93b6e7b496afe5daf2",
     "execution_id": "3d3f6b39fcce4e1aab595e1d0e164c85"
    }
   },
   "outputs": [],
   "source": [
    "  intros A B H."
   ]
  },
  {
   "cell_type": "code",
   "execution_count": null,
   "metadata": {
    "coq_kernel_metadata": {
     "auto_roll_back": true,
     "cell_id": "4d4d2baf2fc441aea1fca12e6acc5119",
     "execution_id": "ffa938b15feb438f8203a6090b145e4c"
    }
   },
   "outputs": [],
   "source": [
    "  destruct H."
   ]
  },
  {
   "cell_type": "code",
   "execution_count": null,
   "metadata": {
    "coq_kernel_metadata": {
     "auto_roll_back": true,
     "cell_id": "dec5f91a621540a090873ba923746df2",
     "execution_id": "add757c8b8c34835a27a36ac096329af"
    }
   },
   "outputs": [],
   "source": [
    "  split."
   ]
  },
  {
   "cell_type": "code",
   "execution_count": null,
   "metadata": {
    "coq_kernel_metadata": {
     "auto_roll_back": true,
     "cell_id": "4513bbd8838a4aca9b5bddcafd639970",
     "execution_id": "bbd437cff536463681bff9d98aca9c96"
    }
   },
   "outputs": [],
   "source": [
    "  assumption."
   ]
  },
  {
   "cell_type": "code",
   "execution_count": null,
   "metadata": {
    "coq_kernel_metadata": {
     "auto_roll_back": true,
     "cell_id": "610995a42749400ba37a6f3610885663",
     "execution_id": "93cfeb8119e34a38b835ee73de00a8b0"
    }
   },
   "outputs": [],
   "source": [
    "  assumption."
   ]
  },
  {
   "cell_type": "code",
   "execution_count": null,
   "metadata": {
    "coq_kernel_metadata": {
     "auto_roll_back": true,
     "cell_id": "c09a80f4110645bd89d1fec258ad1cfd",
     "execution_id": "982fa625684f4dcd848c7d32bb4ea191"
    }
   },
   "outputs": [],
   "source": [
    "Qed."
   ]
  },
  {
   "cell_type": "markdown",
   "metadata": {
    "coq_kernel_metadata": {
     "auto_roll_back": true
    }
   },
   "source": [
    "<a id=\"ans19\" ></a>\n",
    "## 演習問題 1-9 解答\n",
    "<font size=\"4\">次の定理を証明せよ。</font>\n",
    " <font color=\"blue\"　size=\"4\"><br> Theorem or_comm : (forall A B: Prop, A \\\\/ B -> B \\\\/ A ) .</font>\n",
    "\n",
    "[作業用ページで証明をして見る](#ex19)　/ [演習問題に戻る](./1-Logic.ipynb#ex19 )　\n",
    "\n",
    "## 解答\n",
    "```\n",
    "Theorem  or_comm : (forall A B: Prop, A \\/ B -> B \\/ A ).\n",
    "Proof.\n",
    "  intros A B A_or_B.\n",
    "  destruct A_or_B.\n",
    "  right.\n",
    "  assumption.\n",
    "  left.\n",
    "    assumption.\n",
    "Qed,\n",
    "```\n",
    "### 次を実行して確かめよ。"
   ]
  },
  {
   "cell_type": "code",
   "execution_count": null,
   "metadata": {
    "coq_kernel_metadata": {
     "auto_roll_back": true,
     "cell_id": "3c4cde30e0a6420b8f76a1262e26a942",
     "execution_id": "b98fab63f1764006821c1f8711130bcf"
    }
   },
   "outputs": [],
   "source": [
    "Theorem  or_comm' : (forall A B: Prop, A \\/ B -> B \\/ A ).\n",
    "Proof.\n",
    "  intros A B A_or_B.\n",
    "  destruct A_or_B.\n",
    "  right.\n",
    "  assumption.\n",
    "  left.\n",
    "    assumption.\n",
    "Qed."
   ]
  },
  {
   "cell_type": "markdown",
   "metadata": {
    "coq_kernel_metadata": {
     "auto_roll_back": true
    }
   },
   "source": [
    "### 次のCell を一つづつ実行して、各tacticsの働きを確認せよ。"
   ]
  },
  {
   "cell_type": "code",
   "execution_count": null,
   "metadata": {
    "coq_kernel_metadata": {
     "auto_roll_back": true,
     "cell_id": "10c351645a6c4ff389058c5c2dbb4001",
     "execution_id": "4ffc7d692fc84625b75c1220ed63af65"
    }
   },
   "outputs": [],
   "source": [
    "Theorem  or_comm'' : (forall A B: Prop, A \\/ B -> B \\/ A ).\n",
    "Proof."
   ]
  },
  {
   "cell_type": "code",
   "execution_count": null,
   "metadata": {
    "coq_kernel_metadata": {
     "auto_roll_back": true,
     "cell_id": "5a34223896144f11871436dd3d928f85",
     "execution_id": "1cd9f360ff2c4ae28fc4865c10168dcb"
    }
   },
   "outputs": [],
   "source": [
    "  intros A B A_or_B."
   ]
  },
  {
   "cell_type": "code",
   "execution_count": null,
   "metadata": {
    "coq_kernel_metadata": {
     "auto_roll_back": true,
     "cell_id": "053b56e6e7ac416c8c491dbae56383f3",
     "execution_id": "9355c2a663e24a1fbdebd03b892722b3"
    }
   },
   "outputs": [],
   "source": [
    "  destruct A_or_B."
   ]
  },
  {
   "cell_type": "code",
   "execution_count": null,
   "metadata": {
    "coq_kernel_metadata": {
     "auto_roll_back": true,
     "cell_id": "4d66771a2c284f5c84cdcbfa4fc8f4cc",
     "execution_id": "3c91cb702526489e8e72fe0929ea72e8"
    }
   },
   "outputs": [],
   "source": [
    "  right."
   ]
  },
  {
   "cell_type": "code",
   "execution_count": null,
   "metadata": {
    "coq_kernel_metadata": {
     "auto_roll_back": true,
     "cell_id": "4c4d050a567446158d4e35d883970aa3",
     "execution_id": "7a21e233320a4319940b064fb06b8ba4"
    }
   },
   "outputs": [],
   "source": [
    "  assumption."
   ]
  },
  {
   "cell_type": "code",
   "execution_count": null,
   "metadata": {
    "coq_kernel_metadata": {
     "auto_roll_back": true,
     "cell_id": "06f3d81df2954246b68095500c706797",
     "execution_id": "c3dd8673dd7c486482b6c9ecf5759390"
    }
   },
   "outputs": [],
   "source": [
    "  left."
   ]
  },
  {
   "cell_type": "code",
   "execution_count": null,
   "metadata": {
    "coq_kernel_metadata": {
     "auto_roll_back": true,
     "cell_id": "82d4b42c03734d969333f118566e85d5",
     "execution_id": "fca7f60892c045d080e369bd0fe796eb"
    }
   },
   "outputs": [],
   "source": [
    "    assumption."
   ]
  },
  {
   "cell_type": "code",
   "execution_count": null,
   "metadata": {
    "coq_kernel_metadata": {
     "auto_roll_back": true,
     "cell_id": "ad08875f4fd0487aad70d8732008b7e7",
     "execution_id": "80068731d5194fdfa698b812d5f5872d"
    }
   },
   "outputs": [],
   "source": [
    "Qed."
   ]
  }
 ],
 "metadata": {
  "kernelspec": {
   "display_name": "Coq",
   "language": "coq",
   "name": "coq"
  },
  "language_info": {
   "file_extension": ".v",
   "mimetype": "text/x-coq",
   "name": "coq",
   "version": "8.9.1"
  }
 },
 "nbformat": 4,
 "nbformat_minor": 2
}
