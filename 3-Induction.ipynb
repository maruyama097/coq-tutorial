{
 "cells": [
  {
   "cell_type": "markdown",
   "metadata": {
    "coq_kernel_metadata": {
     "auto_roll_back": true
    }
   },
   "source": [
    "<img src=\"./images/Logo1.png\"  width=\"500 px\" align=\"center\">"
   ]
  },
  {
   "cell_type": "markdown",
   "metadata": {
    "coq_kernel_metadata": {
     "auto_roll_back": true
    }
   },
   "source": [
    "# <font color=\"blue\">帰納法を用いた証明</font>"
   ]
  },
  {
   "cell_type": "code",
   "execution_count": null,
   "metadata": {
    "coq_kernel_metadata": {
     "auto_roll_back": true
    }
   },
   "outputs": [],
   "source": []
  },
  {
   "cell_type": "markdown",
   "metadata": {
    "coq_kernel_metadata": {
     "auto_roll_back": true
    }
   },
   "source": [
    "# <font color=\"blue\">演習問題 3</font>\n",
    "\n",
    "[演習問題 3-1](./3-Induction.ipynb#ex11) [演習問題 3-2](./3-Induction.ipynb#ex12) [演習問題 3-3](./3-Induction.ipynb#ex13) [演習問題 3-4](./3-Induction.ipynb#ex14) [演習問題 3-5](./3-Induction.ipynb#ex15) [演習問題 3-6](./3-Induction.ipynb#ex16) [演習問題 3-7](./3-Induction.ipynb#ex17) [演習問題 3-8](./3-Induction.ipynb#ex18) "
   ]
  },
  {
   "cell_type": "markdown",
   "metadata": {
    "coq_kernel_metadata": {
     "auto_roll_back": true
    }
   },
   "source": [
    "<a id=\"ex31\"></a>\n",
    "## 演習問題 3-1\n",
    "　<font size=\"4\">次の定理を証明せよ。</font>\n",
    " <font color=\"blue\"　size=\"4\"><br>　Theorem plus_n_O : (forall n : nat, n + 0 = n).</font>\n",
    "\n",
    "[作業用ページで証明をしてみる](3-induction-answer.ipynb#ex31) / [ヒント: 解答のコメントを読む](3-induction-answer.ipynb#hint31) / [解答を見る](3-induction-answer.ipynb#ans31) "
   ]
  },
  {
   "cell_type": "markdown",
   "metadata": {
    "coq_kernel_metadata": {
     "auto_roll_back": true
    }
   },
   "source": [
    "<a id=\"ex32\"></a>\n",
    "## 演習問題 3-2\n",
    "　<font size=\"4\">次の定理を証明せよ。</font>\n",
    " <font color=\"blue\"　size=\"4\"><br>　Theorem minus_diag : (forall n : nat, minus n n = 0).</font>\n",
    "\n",
    "[作業用ページで証明をしてみる](3-induction-answer.ipynb#ex32) / [ヒント: 解答のコメントを読む](3-induction-answer.ipynb#hint32) / [解答を見る](3-induction-answer.ipynb#ex32) "
   ]
  },
  {
   "cell_type": "markdown",
   "metadata": {
    "coq_kernel_metadata": {
     "auto_roll_back": true
    }
   },
   "source": [
    "<a id=\"ex33\"></a>\n",
    "## 演習問題 3-3\n",
    "　<font size=\"4\">次の定理を証明せよ。</font>\n",
    " <font color=\"blue\"　size=\"4\"><br>　Theorem mult_0_r : (forall n : nat,  n * 0 = 0).</font>\n",
    "\n",
    "[作業用ページで証明をしてみる](3-induction-answer.ipynb#ex33) / [ヒント: 解答のコメントを読む](3-induction-answer.ipynb#hint33) / [解答を見る](3-induction-answer.ipynb#ans33)  "
   ]
  },
  {
   "cell_type": "markdown",
   "metadata": {
    "coq_kernel_metadata": {
     "auto_roll_back": true
    }
   },
   "source": [
    "<a id=\"ex34\"></a>\n",
    "## 演習問題 3-4\n",
    "　<font size=\"4\">次の定理を証明せよ。</font>\n",
    " <font color=\"blue\"　size=\"4\"><br>　Theorem plus_n_Sm : (forall n m : nat, S (n + m) = n + (S m) ).</font>\n",
    "\n",
    "[作業用ページで証明をしてみる](3-induction-answer.ipynb#ex34) / [ヒント: 解答のコメントを読む](3-induction-answer.ipynb#hint34) / [解答を見る](3-induction-answer.ipynb#ans34) "
   ]
  },
  {
   "cell_type": "markdown",
   "metadata": {
    "coq_kernel_metadata": {
     "auto_roll_back": true
    }
   },
   "source": [
    "<a id=\"ex35\"></a>\n",
    "## 演習問題 3-5\n",
    "　<font size=\"4\">次の定理を証明せよ。</font>\n",
    " <font color=\"blue\"　size=\"4\"><br>　Theorem plus_comm : (forall n m : nat, n + m = m + n ).</font>\n",
    "\n",
    "[作業用ページで証明をしてみる](3-induction-answer.ipynb#ex35) / [ヒント: 解答のコメントを読む](3-induction-answer.ipynb#hint35) / [解答を見る](3-induction-answer.ipynb#ans35) "
   ]
  },
  {
   "cell_type": "markdown",
   "metadata": {
    "coq_kernel_metadata": {
     "auto_roll_back": true
    }
   },
   "source": [
    "<a id=\"ex36\"></a>\n",
    "## 演習問題 3-6\n",
    "　<font size=\"4\">次の定理を証明せよ。</font>\n",
    " <font color=\"blue\"　size=\"4\"><br>　Theorem plus_assoc : (forall n m o : nat, n + (m +o)  = (n + m) + o ).</font>\n",
    "\n",
    "[作業用ページで証明をしてみる](3-induction-answer.ipynb#ex36) / [ヒント: 解答のコメントを読む](3-induction-answer.ipynb#hint36) / [解答を見る](3-induction-answer.ipynb#ans36) "
   ]
  },
  {
   "cell_type": "markdown",
   "metadata": {
    "coq_kernel_metadata": {
     "auto_roll_back": true
    }
   },
   "source": [
    "<a id=\"ex37\"></a>\n",
    "## 演習問題 3-7\n",
    "　<font size=\"4\">次の定理を証明せよ。</font>\n",
    " <font color=\"blue\"　size=\"4\"><br>　Theorem mul_succ_r : forall n m : nat,  n \\* S m = n \\* m + n  ).</font>\n",
    "\n",
    "[作業用ページで証明をしてみる](3-induction-answer.ipynb#ex37) / [ヒント: 解答のコメントを読む](3-induction-answer.ipynb#hint37) / [解答を見る](3-induction-answer.ipynb#ans37) "
   ]
  },
  {
   "cell_type": "markdown",
   "metadata": {
    "coq_kernel_metadata": {
     "auto_roll_back": true
    }
   },
   "source": [
    "<a id=\"ex38\"></a>\n",
    "## 演習問題 3-8\n",
    "　<font size=\"4\">次の定理を証明せよ。</font>\n",
    " <font color=\"blue\"　size=\"4\"><br>　Theorem mult_comm : (forall n m : nat,  n \\* m = m \\* n ).</font>\n",
    "\n",
    "[作業用ページで証明をしてみる](3-induction-answer.ipynb#ex38) / [ヒント: 解答のコメントを読む](3-induction-answer.ipynb#hint38) / [解答を見る](3-induction-answer.ipynb#ans38) "
   ]
  }
 ],
 "metadata": {
  "kernelspec": {
   "display_name": "Coq",
   "language": "coq",
   "name": "coq"
  },
  "language_info": {
   "file_extension": ".v",
   "mimetype": "text/x-coq",
   "name": "coq",
   "version": "8.9.1"
  }
 },
 "nbformat": 4,
 "nbformat_minor": 2
}
