{
 "cells": [
  {
   "cell_type": "markdown",
   "metadata": {
    "coq_kernel_metadata": {
     "auto_roll_back": true
    }
   },
   "source": [
    "<img src=\"./images/Logo1.png\"  width=\"800 px\" align=\"center\">"
   ]
  },
  {
   "cell_type": "markdown",
   "metadata": {
    "coq_kernel_metadata": {
     "auto_roll_back": true
    }
   },
   "source": [
    "　　　　[全体目次](./0-Contents.ipynb) 　[この章の演習問題へ](./1-induction-answer.ipynb)　　[前の章へ](./2-Equality.ipynb)　"
   ]
  },
  {
   "cell_type": "markdown",
   "metadata": {
    "coq_kernel_metadata": {
     "auto_roll_back": true
    }
   },
   "source": [
    "# <font color=\"blue\" size=\"6\">帰納的データ型と帰納法を用いた証明</font>"
   ]
  },
  {
   "cell_type": "markdown",
   "metadata": {
    "coq_kernel_metadata": {
     "auto_roll_back": true
    }
   },
   "source": [
    "<a id=\"sec1\"></a>\n",
    "# Coq での「型」について\n",
    "\n",
    "Coqでは、様々な「型」が利用できます。\n",
    "\n",
    "先の章では、<font color=\"red\">関数が型を持つ</font>ことを述べました。例えば、 \n",
    "- 引数に与えられたブール値の否定のブール値を返す関数 negb は、型 <font color=\"red\">bool -> bool</font> を持ちます。\n",
    "- 引数に与えられた２つのブール値が等しいか否かをブール値で返す関数 eqb は、型 <font color=\"red\">bool -> bool -> bool</font> を持ちます。 \n",
    "\n",
    "Coqでは、関数の他に、様々なデータ構造が「型」を持つものとして、定義されます。これは、他のプログラミング言語でも普通に行われていることですね。\n",
    "\n",
    "この章では、まず、Coqでのデータ型の定義の仕方について学びます。"
   ]
  },
  {
   "cell_type": "markdown",
   "metadata": {
    "coq_kernel_metadata": {
     "auto_roll_back": true
    }
   },
   "source": [
    "<a id=\"sec2\"></a>\n",
    "# 列挙によるデータ型の定義\n",
    "\n",
    "もっとも簡単なCoqでのデータ型の定義は、そのデータ型を構成する値を列挙することです。\n",
    "\n",
    "<a id=\"sec21\"></a>\n",
    "### 型 bool は、Coqではあらかじめ、次のように定義されています。\n",
    "\n",
    "```\n",
    "     Inductive bool : Type :=\n",
    "       | true\n",
    "       | false.\n",
    "```\n",
    "これは、型 bool が、true とfalse という２つの値から構成されていることを示します。\n",
    "この true　と false を、型 bool のコンストラクタと呼びます。\n",
    "\n",
    "列挙の数は、いくつあっても構いません。次の型 rgb の例では、型 rgb は、３つのコンストラクタ red, green, blueから構成されています。\n",
    "\n",
    "<a id=\"sec22\"></a>\n",
    "### 型 rgb の定義例\n",
    "```\n",
    "     Inductive rgb : Type :=\n",
    "       | red\n",
    "       | green\n",
    "       | blue.\n",
    "```"
   ]
  },
  {
   "cell_type": "markdown",
   "metadata": {
    "coq_kernel_metadata": {
     "auto_roll_back": true
    }
   },
   "source": [
    "<a id=\"sec23\"></a>\n",
    "## 定義済みの型から、新しい型を定義する\n",
    "\n",
    "今、定義した型 rgb から、次のように新しい型 color を定義することができます。\n",
    "```\n",
    "     Inductive color : Type :=\n",
    "       | black\n",
    "       | white\n",
    "       | primary (p : rgb).\n",
    "```\n",
    "- red, green, blue は、型 rgb のコンストラクタでした。\n",
    "- ですので、redも greenも redも、型rgbに属します。\n",
    "- 型 color のコンストラクタは、black, white, primary です。\n",
    "- blackも whiteも、型color に属します。　\n",
    "\n",
    "#### colorのコンストラクタ primary は、どのような意味を持つのでしょう？　\n",
    "- primary はcolor のコンストラクタですので、それに引数 p を与えた結果の値は、colorに属します。\n",
    "- primaryの引数の p : rgbに注目してください。このコンストラクタが colorに属する値を返すのは、pがrgbに属する場合だけです。\n",
    "- ですので、primary red , primary green, primary blue が color に属することになります。\n",
    "- colorに属するのは、最初の black, whiteに加えて、この３つの場合、あわせて5つの場合だけです。\n",
    "\n",
    "このcolorの定義は、次のように書くこともできます。こちらの方が、コンストラクタの働きがみやすいかもしれません。\n",
    "\n",
    "```\n",
    "     Inductive color : Type :=\n",
    "       | black : color\n",
    "       | white : color\n",
    "       | primary : rgb -> color .\n",
    "```\n",
    "\n",
    "color型の定義の中に、color型が利用されています。"
   ]
  },
  {
   "cell_type": "markdown",
   "metadata": {
    "coq_kernel_metadata": {
     "auto_roll_back": true
    }
   },
   "source": [
    "<a id=\"sec3\"></a>\n",
    "# 帰納的データ型\n",
    "<a id=\"sec31\"></a>\n",
    "## Coqでの自然数の定義\n",
    "#### Coqでは、自然数の型 nat は次のように「帰納的」に定義されます。\n",
    "```\n",
    "    Inductive nat : Set :=\n",
    "      | O : nat\n",
    "      | S : nat -> nat.\n",
    "```\n",
    "この定義は、 nat型 はOとSという２つのコンストラクタから構成されることを表しています。\n",
    "Sの型は nat -> nat ですので、Sは natからnatへの関数です。\n",
    "\n",
    "- 最初のコンストラクタ O を見ると、O:nat ですので、Oはnat に属することがわかります。\n",
    "- 二つ目のコンストラクタを使うと、O:natですので、(S O)も、natに属することがわかります。S(O):natです。\n",
    "- (S O):nat がわかりましたので、再び、コンストラクタSを(S O)に適用すると、（S(S(O)))もnatに属すことが分かります。\n",
    "- こうして、O, （S O), (S (S O)), (S (S (S O)))), (S (S (S (S O)))), .... もnat に属することになります。\n",
    "- これが、0, 1, 2, 3, 4, ...に対応します。\n",
    "\n",
    "直観的には、Sは、ある自然数 nの次の自然数（Successor）を表しています。<font color=\"red\">S n = 1 + n</font> です。 \n"
   ]
  },
  {
   "cell_type": "markdown",
   "metadata": {
    "coq_kernel_metadata": {
     "auto_roll_back": true
    }
   },
   "source": [
    "<div class=\"alert alert-block alert-info\">\n",
    "\n",
    "<a id=\"sec32\"></a>\n",
    "## t : T という表記の意味\n",
    "\n",
    "これまで、なんども使っていながら、その意味をきちんと説明していなかった表記法があります。\n",
    "\n",
    "それは、コロンをはさんだ <font color=\"red\">t : T</font>という表記です。\n",
    "\n",
    "この章に入ってからも、たくさん出てきています\n",
    "```\n",
    "     Inductive bool : Type := ...\n",
    "     Inductive color : Type := ...\n",
    "     primary (p : rgb).\n",
    "     primary : rgb -> color.\n",
    "     Inductive nat : Set := ...\n",
    "     O : nat\n",
    "     S : nat -> nat.\n",
    "\n",
    "```\n",
    "### この表記は、<font color=\"blue\">term</font> : <font color=\"red\">Type</font> で、ある項 <font color=\"blue\">term</font>が型 <font color=\"red\">Type</font>に属することを意味します。<br>「ある項 <font color=\"blue\">term</font>が型 <font color=\"red\">Type</font>を持つ」と読んでも構いません。\n",
    "\n",
    "先の例について言えば、次のような意味になります。\n",
    "\n",
    "```\n",
    "     Inductive bool : Type := ...　　　　　　　　　boolは、型Typeに属する\n",
    "     Inductive color : Type := ...　　　　　　　　colorは、型Typeに属する \n",
    "     primary (p : rgb). 　　　　　　　　　　　　　　　　　　　　　　p は、型rgbに属する\n",
    "     primary : rgb -> color.　　　　　　　　　　　　　　　　primaryは、型 rgb -> color に属する　　　　　　　　　　　\n",
    "     Inductive nat : Set := ...　　　　　　　　　　　　　natは、型Setに属する\n",
    "     O : nat　　　　　　　　　　　　　　　　　　　　　　　　　　　　　　　　　　　　　　　 Oは、型nat に属する\n",
    "     S : nat -> nat.　　　　　　　　　　　　　　　　　　　　　　　　　　　　　Sは、型nat　-> natに属する\n",
    "\n",
    "```\n",
    "</div>"
   ]
  },
  {
   "cell_type": "markdown",
   "metadata": {
    "coq_kernel_metadata": {
     "auto_roll_back": true
    }
   },
   "source": [
    "<a id=\"sec4\"></a>\n",
    "# 帰納法を使った命題の証明\n",
    "\n",
    "#### 前章では、数学的帰納法を使わず、simpl (「計算」による「簡略化」)と rewrite(「代入」による「書き換え」)を使って、関数を含んだ証明を行なってきました。ただ、少なくない問題が、こうしたアプローチだけでは証明できません。<br>例えば、0 + n = n は示すことができるのですが、n + 0 = n を証明することはできません。 \n"
   ]
  },
  {
   "cell_type": "markdown",
   "metadata": {
    "coq_kernel_metadata": {
     "auto_roll_back": true
    }
   },
   "source": [
    "<a id=\"sec41\"></a>\n",
    "<div class=\"alert alert-block alert-info\">\n",
    "\n",
    "## 数学的帰納法について\n",
    "\n",
    "次のような推論を、数学的帰納法と呼びます。\n",
    "\n",
    "ある命題Pが全ての自然数で成り立つことを示すのに、次の２つの仮説を証明します。\n",
    "   1. <font color=\"blue\">Pはゼロで成り立つ。</font> <font color=\"red\">P(0).</font>\n",
    "   1. <font color=\"blue\">もし、Pがnで成り立つなら、Pはn+1でも成り立つ。</font><font color=\"red\">P(n) -> P(n+1).</font>\n",
    "\n",
    "この時、<font color=\"blue\">全ての自然数nについてPが成り立つ</font>ことが証明できます。</font><font color=\"red\"> forall n , P(n). </font>\n",
    "\n",
    "数学的帰納法は、その名前に反して、数学的演繹の強力な手段です。\n",
    "\n",
    "</div>"
   ]
  },
  {
   "cell_type": "markdown",
   "metadata": {
    "coq_kernel_metadata": {
     "auto_roll_back": true
    }
   },
   "source": [
    "<a id=\"sec42\"></a>\n",
    "## 帰納法を使った証明の例 1： n + 0 = n.\n",
    "\n",
    "次の定理を証明してみましょう。\n",
    "各セルを確認しながら、実行してみてください。"
   ]
  },
  {
   "cell_type": "code",
   "execution_count": 1,
   "metadata": {
    "coq_kernel_metadata": {
     "auto_roll_back": true,
     "cell_id": "05cd3f8a9fcd42d68cf688c36edf13d8",
     "evaluated": true,
     "execution_id": "a6a577e85ed44a9bb86df00a06a03f49",
     "rolled_back": false
    },
    "scrolled": true
   },
   "outputs": [
    {
     "data": {
      "text/html": [
       "\n",
       "<div class=\"coq_kernel_output_area\">\n",
       "    <pre>Proving: plus_n_O_sample\n",
       "\n",
       "1 subgoal\n",
       "\n",
       "1/1 -----------\n",
       "forall n : nat, n + 0 = n</pre>\n",
       "</div>\n",
       "\n",
       "<div class=\"coq_kernel_rich_cell_output coq_kernel_status_message_area\" style=\"padding: 5px 0px;\">\n",
       "    <i class=\"fa-check fa text-success\"></i>\n",
       "    <span>Cell evaluated.</span>\n",
       "</div>\n",
       "\n",
       "<div class=\"coq_kernel_rich_cell_output coq_kernel_status_message_area coq_kernel_rolled_back_status_message\" style=\"padding: 5px 0px; display: none;\">\n",
       "    <i class=\"fa-exclamation-circle fa text-info\"></i>\n",
       "    <span>Cell rolled back.</span>\n",
       "</div>\n",
       "\n",
       "<div class=\"coq_kernel_rich_cell_output coq_kernel_roll_back_controls_area\" style=\"display: none; position: relative;\">\n",
       "    <button class=\"btn btn-default btn-xs coq_kernel_roll_back_button\" onclick=\"CoqKernel.roll_back(this)\">\n",
       "        <i class=\"fa-step-backward fa\"></i>\n",
       "        <span class=\"toolbar-btn-label\">Rollback cell</span>\n",
       "    </button>\n",
       "\n",
       "    <div style=\"display: inline-block; vertical-align: middle; padding-left: 0; padding-right: 0;\">\n",
       "      <input class=\"coq_kernel_auto_roll_back_checkbox\" type=\"checkbox\" value=\"\" onchange=\"CoqKernel.toggle_auto_roll_back(this)\" checked>\n",
       "      <label\">Auto rollback</label>\n",
       "    </div>\n",
       "</div>\n"
      ],
      "text/plain": [
       "Proving: plus_n_O_sample\n",
       "\n",
       "1 subgoal\n",
       "\n",
       "1/1 -----------\n",
       "forall n : nat, n + 0 = n"
      ]
     },
     "execution_count": 3,
     "metadata": {
      "coq_kernel_evaluated": true,
      "coq_kernel_execution_id": "a6a577e85ed44a9bb86df00a06a03f49",
      "coq_kernel_rolled_back": false
     },
     "output_type": "execute_result"
    }
   ],
   "source": [
    "Theorem plus_n_O_sample : (forall n : nat, n + 0 = n).\n",
    "Proof."
   ]
  },
  {
   "cell_type": "code",
   "execution_count": 3,
   "metadata": {
    "coq_kernel_metadata": {
     "auto_roll_back": true,
     "cell_id": "dee54fd60c824e298a181a0565424c7b",
     "evaluated": true,
     "execution_id": "68e7c1090e3e4fe88ad3af99483c9001",
     "rolled_back": false
    }
   },
   "outputs": [
    {
     "data": {
      "text/html": [
       "\n",
       "<div class=\"coq_kernel_output_area\">\n",
       "    <pre>Proving: plus_n_O_sample\n",
       "\n",
       "1 subgoal\n",
       "\n",
       "n : nat\n",
       "\n",
       "1/1 -----------\n",
       "n + 0 = n</pre>\n",
       "</div>\n",
       "\n",
       "<div class=\"coq_kernel_rich_cell_output coq_kernel_status_message_area\" style=\"padding: 5px 0px;\">\n",
       "    <i class=\"fa-check fa text-success\"></i>\n",
       "    <span>Cell evaluated.</span>\n",
       "</div>\n",
       "\n",
       "<div class=\"coq_kernel_rich_cell_output coq_kernel_status_message_area coq_kernel_rolled_back_status_message\" style=\"padding: 5px 0px; display: none;\">\n",
       "    <i class=\"fa-exclamation-circle fa text-info\"></i>\n",
       "    <span>Cell rolled back.</span>\n",
       "</div>\n",
       "\n",
       "<div class=\"coq_kernel_rich_cell_output coq_kernel_roll_back_controls_area\" style=\"display: none; position: relative;\">\n",
       "    <button class=\"btn btn-default btn-xs coq_kernel_roll_back_button\" onclick=\"CoqKernel.roll_back(this)\">\n",
       "        <i class=\"fa-step-backward fa\"></i>\n",
       "        <span class=\"toolbar-btn-label\">Rollback cell</span>\n",
       "    </button>\n",
       "\n",
       "    <div style=\"display: inline-block; vertical-align: middle; padding-left: 0; padding-right: 0;\">\n",
       "      <input class=\"coq_kernel_auto_roll_back_checkbox\" type=\"checkbox\" value=\"\" onchange=\"CoqKernel.toggle_auto_roll_back(this)\" checked>\n",
       "      <label\">Auto rollback</label>\n",
       "    </div>\n",
       "</div>\n"
      ],
      "text/plain": [
       "Proving: plus_n_O_sample\n",
       "\n",
       "1 subgoal\n",
       "\n",
       "n : nat\n",
       "\n",
       "1/1 -----------\n",
       "n + 0 = n"
      ]
     },
     "execution_count": 4,
     "metadata": {
      "coq_kernel_evaluated": true,
      "coq_kernel_execution_id": "68e7c1090e3e4fe88ad3af99483c9001",
      "coq_kernel_rolled_back": false
     },
     "output_type": "execute_result"
    }
   ],
   "source": [
    "(* intros で forall を削除します*)\n",
    "intros."
   ]
  },
  {
   "cell_type": "code",
   "execution_count": 4,
   "metadata": {
    "coq_kernel_metadata": {
     "auto_roll_back": true,
     "cell_id": "d7dc3d216a974ef691ac64e8089c79b7",
     "evaluated": true,
     "execution_id": "8e575264a61440b297c6469201512e50",
     "rolled_back": false
    }
   },
   "outputs": [
    {
     "data": {
      "text/html": [
       "\n",
       "<div class=\"coq_kernel_output_area\">\n",
       "    <pre>Proving: plus_n_O_sample\n",
       "\n",
       "2 subgoals\n",
       "\n",
       "1/2 -----------\n",
       "0 + 0 = 0\n",
       "2/2 -----------\n",
       "S n + 0 = S n</pre>\n",
       "</div>\n",
       "\n",
       "<div class=\"coq_kernel_rich_cell_output coq_kernel_status_message_area\" style=\"padding: 5px 0px;\">\n",
       "    <i class=\"fa-check fa text-success\"></i>\n",
       "    <span>Cell evaluated.</span>\n",
       "</div>\n",
       "\n",
       "<div class=\"coq_kernel_rich_cell_output coq_kernel_status_message_area coq_kernel_rolled_back_status_message\" style=\"padding: 5px 0px; display: none;\">\n",
       "    <i class=\"fa-exclamation-circle fa text-info\"></i>\n",
       "    <span>Cell rolled back.</span>\n",
       "</div>\n",
       "\n",
       "<div class=\"coq_kernel_rich_cell_output coq_kernel_roll_back_controls_area\" style=\"display: none; position: relative;\">\n",
       "    <button class=\"btn btn-default btn-xs coq_kernel_roll_back_button\" onclick=\"CoqKernel.roll_back(this)\">\n",
       "        <i class=\"fa-step-backward fa\"></i>\n",
       "        <span class=\"toolbar-btn-label\">Rollback cell</span>\n",
       "    </button>\n",
       "\n",
       "    <div style=\"display: inline-block; vertical-align: middle; padding-left: 0; padding-right: 0;\">\n",
       "      <input class=\"coq_kernel_auto_roll_back_checkbox\" type=\"checkbox\" value=\"\" onchange=\"CoqKernel.toggle_auto_roll_back(this)\" checked>\n",
       "      <label\">Auto rollback</label>\n",
       "    </div>\n",
       "</div>\n"
      ],
      "text/plain": [
       "Proving: plus_n_O_sample\n",
       "\n",
       "2 subgoals\n",
       "\n",
       "1/2 -----------\n",
       "0 + 0 = 0\n",
       "2/2 -----------\n",
       "S n + 0 = S n"
      ]
     },
     "execution_count": 5,
     "metadata": {
      "coq_kernel_evaluated": true,
      "coq_kernel_execution_id": "8e575264a61440b297c6469201512e50",
      "coq_kernel_rolled_back": false
     },
     "output_type": "execute_result"
    }
   ],
   "source": [
    "(* nについての帰納法を使います。 *)\n",
    "induction n.\n",
    "\n",
    "(* n = 0 の場合と、それ以外の場合に、サブゴールが２つに分かれます。*)"
   ]
  },
  {
   "cell_type": "code",
   "execution_count": 5,
   "metadata": {
    "coq_kernel_metadata": {
     "auto_roll_back": true,
     "cell_id": "7a53139a433e49d18b1d089232c2342a",
     "evaluated": true,
     "execution_id": "4ca88caa48cf49d7844f14f28325e1e1",
     "rolled_back": false
    }
   },
   "outputs": [
    {
     "data": {
      "text/html": [
       "\n",
       "<div class=\"coq_kernel_output_area\">\n",
       "    <pre>Proving: plus_n_O_sample\n",
       "\n",
       "1 subgoal\n",
       "\n",
       "n : nat\n",
       "IHn : n + 0 = n\n",
       "\n",
       "1/1 -----------\n",
       "S n + 0 = S n</pre>\n",
       "</div>\n",
       "\n",
       "<div class=\"coq_kernel_rich_cell_output coq_kernel_status_message_area\" style=\"padding: 5px 0px;\">\n",
       "    <i class=\"fa-check fa text-success\"></i>\n",
       "    <span>Cell evaluated.</span>\n",
       "</div>\n",
       "\n",
       "<div class=\"coq_kernel_rich_cell_output coq_kernel_status_message_area coq_kernel_rolled_back_status_message\" style=\"padding: 5px 0px; display: none;\">\n",
       "    <i class=\"fa-exclamation-circle fa text-info\"></i>\n",
       "    <span>Cell rolled back.</span>\n",
       "</div>\n",
       "\n",
       "<div class=\"coq_kernel_rich_cell_output coq_kernel_roll_back_controls_area\" style=\"display: none; position: relative;\">\n",
       "    <button class=\"btn btn-default btn-xs coq_kernel_roll_back_button\" onclick=\"CoqKernel.roll_back(this)\">\n",
       "        <i class=\"fa-step-backward fa\"></i>\n",
       "        <span class=\"toolbar-btn-label\">Rollback cell</span>\n",
       "    </button>\n",
       "\n",
       "    <div style=\"display: inline-block; vertical-align: middle; padding-left: 0; padding-right: 0;\">\n",
       "      <input class=\"coq_kernel_auto_roll_back_checkbox\" type=\"checkbox\" value=\"\" onchange=\"CoqKernel.toggle_auto_roll_back(this)\" checked>\n",
       "      <label\">Auto rollback</label>\n",
       "    </div>\n",
       "</div>\n"
      ],
      "text/plain": [
       "Proving: plus_n_O_sample\n",
       "\n",
       "1 subgoal\n",
       "\n",
       "n : nat\n",
       "IHn : n + 0 = n\n",
       "\n",
       "1/1 -----------\n",
       "S n + 0 = S n"
      ]
     },
     "execution_count": 6,
     "metadata": {
      "coq_kernel_evaluated": true,
      "coq_kernel_execution_id": "4ca88caa48cf49d7844f14f28325e1e1",
      "coq_kernel_rolled_back": false
     },
     "output_type": "execute_result"
    }
   ],
   "source": [
    "(* n = 0 の場合のサブゴールは、reflexivity で証明できます。*)\n",
    "reflexivity.\n",
    "\n",
    "(* これでサブゴールが１つになります。*)"
   ]
  },
  {
   "cell_type": "code",
   "execution_count": 6,
   "metadata": {
    "coq_kernel_metadata": {
     "auto_roll_back": true,
     "cell_id": "5db58e609c394f88bfdf117807e34406",
     "evaluated": true,
     "execution_id": "400d63e129714f58a0a73bb96a75c4f7",
     "rolled_back": false
    },
    "scrolled": true
   },
   "outputs": [
    {
     "data": {
      "text/html": [
       "\n",
       "<div class=\"coq_kernel_output_area\">\n",
       "    <pre>Proving: plus_n_O_sample\n",
       "\n",
       "1 subgoal\n",
       "\n",
       "n : nat\n",
       "IHn : n + 0 = n\n",
       "\n",
       "1/1 -----------\n",
       "S (n + 0) = S n</pre>\n",
       "</div>\n",
       "\n",
       "<div class=\"coq_kernel_rich_cell_output coq_kernel_status_message_area\" style=\"padding: 5px 0px;\">\n",
       "    <i class=\"fa-check fa text-success\"></i>\n",
       "    <span>Cell evaluated.</span>\n",
       "</div>\n",
       "\n",
       "<div class=\"coq_kernel_rich_cell_output coq_kernel_status_message_area coq_kernel_rolled_back_status_message\" style=\"padding: 5px 0px; display: none;\">\n",
       "    <i class=\"fa-exclamation-circle fa text-info\"></i>\n",
       "    <span>Cell rolled back.</span>\n",
       "</div>\n",
       "\n",
       "<div class=\"coq_kernel_rich_cell_output coq_kernel_roll_back_controls_area\" style=\"display: none; position: relative;\">\n",
       "    <button class=\"btn btn-default btn-xs coq_kernel_roll_back_button\" onclick=\"CoqKernel.roll_back(this)\">\n",
       "        <i class=\"fa-step-backward fa\"></i>\n",
       "        <span class=\"toolbar-btn-label\">Rollback cell</span>\n",
       "    </button>\n",
       "\n",
       "    <div style=\"display: inline-block; vertical-align: middle; padding-left: 0; padding-right: 0;\">\n",
       "      <input class=\"coq_kernel_auto_roll_back_checkbox\" type=\"checkbox\" value=\"\" onchange=\"CoqKernel.toggle_auto_roll_back(this)\" checked>\n",
       "      <label\">Auto rollback</label>\n",
       "    </div>\n",
       "</div>\n"
      ],
      "text/plain": [
       "Proving: plus_n_O_sample\n",
       "\n",
       "1 subgoal\n",
       "\n",
       "n : nat\n",
       "IHn : n + 0 = n\n",
       "\n",
       "1/1 -----------\n",
       "S (n + 0) = S n"
      ]
     },
     "execution_count": 7,
     "metadata": {
      "coq_kernel_evaluated": true,
      "coq_kernel_execution_id": "400d63e129714f58a0a73bb96a75c4f7",
      "coq_kernel_rolled_back": false
     },
     "output_type": "execute_result"
    }
   ],
   "source": [
    "(* simpl でサブゴールを簡単にします。 *)\n",
    "simpl."
   ]
  },
  {
   "cell_type": "code",
   "execution_count": 7,
   "metadata": {
    "coq_kernel_metadata": {
     "auto_roll_back": true,
     "cell_id": "0b9885a48a7449d18f1f797f07db293f",
     "evaluated": true,
     "execution_id": "f590bd1152874ffa80a22eba765af074",
     "rolled_back": false
    }
   },
   "outputs": [
    {
     "data": {
      "text/html": [
       "\n",
       "<div class=\"coq_kernel_output_area\">\n",
       "    <pre>Proving: plus_n_O_sample\n",
       "\n",
       "1 subgoal\n",
       "\n",
       "n : nat\n",
       "IHn : n + 0 = n\n",
       "\n",
       "1/1 -----------\n",
       "S n = S n</pre>\n",
       "</div>\n",
       "\n",
       "<div class=\"coq_kernel_rich_cell_output coq_kernel_status_message_area\" style=\"padding: 5px 0px;\">\n",
       "    <i class=\"fa-check fa text-success\"></i>\n",
       "    <span>Cell evaluated.</span>\n",
       "</div>\n",
       "\n",
       "<div class=\"coq_kernel_rich_cell_output coq_kernel_status_message_area coq_kernel_rolled_back_status_message\" style=\"padding: 5px 0px; display: none;\">\n",
       "    <i class=\"fa-exclamation-circle fa text-info\"></i>\n",
       "    <span>Cell rolled back.</span>\n",
       "</div>\n",
       "\n",
       "<div class=\"coq_kernel_rich_cell_output coq_kernel_roll_back_controls_area\" style=\"display: none; position: relative;\">\n",
       "    <button class=\"btn btn-default btn-xs coq_kernel_roll_back_button\" onclick=\"CoqKernel.roll_back(this)\">\n",
       "        <i class=\"fa-step-backward fa\"></i>\n",
       "        <span class=\"toolbar-btn-label\">Rollback cell</span>\n",
       "    </button>\n",
       "\n",
       "    <div style=\"display: inline-block; vertical-align: middle; padding-left: 0; padding-right: 0;\">\n",
       "      <input class=\"coq_kernel_auto_roll_back_checkbox\" type=\"checkbox\" value=\"\" onchange=\"CoqKernel.toggle_auto_roll_back(this)\" checked>\n",
       "      <label\">Auto rollback</label>\n",
       "    </div>\n",
       "</div>\n"
      ],
      "text/plain": [
       "Proving: plus_n_O_sample\n",
       "\n",
       "1 subgoal\n",
       "\n",
       "n : nat\n",
       "IHn : n + 0 = n\n",
       "\n",
       "1/1 -----------\n",
       "S n = S n"
      ]
     },
     "execution_count": 8,
     "metadata": {
      "coq_kernel_evaluated": true,
      "coq_kernel_execution_id": "f590bd1152874ffa80a22eba765af074",
      "coq_kernel_rolled_back": false
     },
     "output_type": "execute_result"
    }
   ],
   "source": [
    "(* 仮説部の IHn の左項をサブゴールに代入します。*)\n",
    "rewrite -> IHn."
   ]
  },
  {
   "cell_type": "code",
   "execution_count": 8,
   "metadata": {
    "coq_kernel_metadata": {
     "auto_roll_back": true,
     "cell_id": "faa8fa7da6c3472ebe7ebec82b5d3828",
     "evaluated": true,
     "execution_id": "2c75b09756f64c58b488efbab4029192",
     "rolled_back": false
    }
   },
   "outputs": [
    {
     "data": {
      "text/html": [
       "\n",
       "<div class=\"coq_kernel_output_area\">\n",
       "    <pre>Proving: plus_n_O_sample\n",
       "\n",
       "No more subgoals</pre>\n",
       "</div>\n",
       "\n",
       "<div class=\"coq_kernel_rich_cell_output coq_kernel_status_message_area\" style=\"padding: 5px 0px;\">\n",
       "    <i class=\"fa-check fa text-success\"></i>\n",
       "    <span>Cell evaluated.</span>\n",
       "</div>\n",
       "\n",
       "<div class=\"coq_kernel_rich_cell_output coq_kernel_status_message_area coq_kernel_rolled_back_status_message\" style=\"padding: 5px 0px; display: none;\">\n",
       "    <i class=\"fa-exclamation-circle fa text-info\"></i>\n",
       "    <span>Cell rolled back.</span>\n",
       "</div>\n",
       "\n",
       "<div class=\"coq_kernel_rich_cell_output coq_kernel_roll_back_controls_area\" style=\"display: none; position: relative;\">\n",
       "    <button class=\"btn btn-default btn-xs coq_kernel_roll_back_button\" onclick=\"CoqKernel.roll_back(this)\">\n",
       "        <i class=\"fa-step-backward fa\"></i>\n",
       "        <span class=\"toolbar-btn-label\">Rollback cell</span>\n",
       "    </button>\n",
       "\n",
       "    <div style=\"display: inline-block; vertical-align: middle; padding-left: 0; padding-right: 0;\">\n",
       "      <input class=\"coq_kernel_auto_roll_back_checkbox\" type=\"checkbox\" value=\"\" onchange=\"CoqKernel.toggle_auto_roll_back(this)\" checked>\n",
       "      <label\">Auto rollback</label>\n",
       "    </div>\n",
       "</div>\n"
      ],
      "text/plain": [
       "Proving: plus_n_O_sample\n",
       "\n",
       "No more subgoals"
      ]
     },
     "execution_count": 9,
     "metadata": {
      "coq_kernel_evaluated": true,
      "coq_kernel_execution_id": "2c75b09756f64c58b488efbab4029192",
      "coq_kernel_rolled_back": false
     },
     "output_type": "execute_result"
    }
   ],
   "source": [
    "(* このサブゴールには、reflexivity が使えます。 *)\n",
    "reflexivity."
   ]
  },
  {
   "cell_type": "code",
   "execution_count": 9,
   "metadata": {
    "coq_kernel_metadata": {
     "auto_roll_back": true,
     "cell_id": "0640227fc4584b568f31cd6285d0291f",
     "evaluated": true,
     "execution_id": "0e4ada0e225e4536853291bc086ffb2d",
     "rolled_back": false
    },
    "scrolled": true
   },
   "outputs": [
    {
     "data": {
      "text/html": [
       "\n",
       "<div class=\"coq_kernel_output_area\">\n",
       "    <pre></pre>\n",
       "</div>\n",
       "\n",
       "<div class=\"coq_kernel_rich_cell_output coq_kernel_status_message_area\" style=\"padding: 5px 0px;\">\n",
       "    <i class=\"fa-check fa text-success\"></i>\n",
       "    <span>Cell evaluated.</span>\n",
       "</div>\n",
       "\n",
       "<div class=\"coq_kernel_rich_cell_output coq_kernel_status_message_area coq_kernel_rolled_back_status_message\" style=\"padding: 5px 0px; display: none;\">\n",
       "    <i class=\"fa-exclamation-circle fa text-info\"></i>\n",
       "    <span>Cell rolled back.</span>\n",
       "</div>\n",
       "\n",
       "<div class=\"coq_kernel_rich_cell_output coq_kernel_roll_back_controls_area\" style=\"display: none; position: relative;\">\n",
       "    <button class=\"btn btn-default btn-xs coq_kernel_roll_back_button\" onclick=\"CoqKernel.roll_back(this)\">\n",
       "        <i class=\"fa-step-backward fa\"></i>\n",
       "        <span class=\"toolbar-btn-label\">Rollback cell</span>\n",
       "    </button>\n",
       "\n",
       "    <div style=\"display: inline-block; vertical-align: middle; padding-left: 0; padding-right: 0;\">\n",
       "      <input class=\"coq_kernel_auto_roll_back_checkbox\" type=\"checkbox\" value=\"\" onchange=\"CoqKernel.toggle_auto_roll_back(this)\" checked>\n",
       "      <label\">Auto rollback</label>\n",
       "    </div>\n",
       "</div>\n"
      ],
      "text/plain": []
     },
     "execution_count": 10,
     "metadata": {
      "coq_kernel_evaluated": true,
      "coq_kernel_execution_id": "0e4ada0e225e4536853291bc086ffb2d",
      "coq_kernel_rolled_back": false
     },
     "output_type": "execute_result"
    }
   ],
   "source": [
    "(* これで、証明終わりです。 *)\n",
    "Qed."
   ]
  },
  {
   "cell_type": "markdown",
   "metadata": {
    "coq_kernel_metadata": {
     "auto_roll_back": true
    }
   },
   "source": [
    "<a id=\"sec43\"></a>\n",
    "## 帰納法を使った証明の例 2： S (n + m) = n + (S m).\n",
    "\n",
    "次の定理を証明してみましょう。\n",
    "各セルを確認しながら、実行してみてください。"
   ]
  },
  {
   "cell_type": "code",
   "execution_count": 10,
   "metadata": {
    "coq_kernel_metadata": {
     "auto_roll_back": true,
     "cell_id": "84f03886012347108d0275574af9d4e0",
     "evaluated": true,
     "execution_id": "1941758c2e074dd68142f20f21449e55",
     "rolled_back": false
    },
    "scrolled": true
   },
   "outputs": [
    {
     "data": {
      "text/html": [
       "\n",
       "<div class=\"coq_kernel_output_area\">\n",
       "    <pre>Proving: plus_n_Sm_sample\n",
       "\n",
       "1 subgoal\n",
       "\n",
       "1/1 -----------\n",
       "forall n m : nat, S (n + m) = n + S m</pre>\n",
       "</div>\n",
       "\n",
       "<div class=\"coq_kernel_rich_cell_output coq_kernel_status_message_area\" style=\"padding: 5px 0px;\">\n",
       "    <i class=\"fa-check fa text-success\"></i>\n",
       "    <span>Cell evaluated.</span>\n",
       "</div>\n",
       "\n",
       "<div class=\"coq_kernel_rich_cell_output coq_kernel_status_message_area coq_kernel_rolled_back_status_message\" style=\"padding: 5px 0px; display: none;\">\n",
       "    <i class=\"fa-exclamation-circle fa text-info\"></i>\n",
       "    <span>Cell rolled back.</span>\n",
       "</div>\n",
       "\n",
       "<div class=\"coq_kernel_rich_cell_output coq_kernel_roll_back_controls_area\" style=\"display: none; position: relative;\">\n",
       "    <button class=\"btn btn-default btn-xs coq_kernel_roll_back_button\" onclick=\"CoqKernel.roll_back(this)\">\n",
       "        <i class=\"fa-step-backward fa\"></i>\n",
       "        <span class=\"toolbar-btn-label\">Rollback cell</span>\n",
       "    </button>\n",
       "\n",
       "    <div style=\"display: inline-block; vertical-align: middle; padding-left: 0; padding-right: 0;\">\n",
       "      <input class=\"coq_kernel_auto_roll_back_checkbox\" type=\"checkbox\" value=\"\" onchange=\"CoqKernel.toggle_auto_roll_back(this)\" checked>\n",
       "      <label\">Auto rollback</label>\n",
       "    </div>\n",
       "</div>\n"
      ],
      "text/plain": [
       "Proving: plus_n_Sm_sample\n",
       "\n",
       "1 subgoal\n",
       "\n",
       "1/1 -----------\n",
       "forall n m : nat, S (n + m) = n + S m"
      ]
     },
     "execution_count": 12,
     "metadata": {
      "coq_kernel_evaluated": true,
      "coq_kernel_execution_id": "1941758c2e074dd68142f20f21449e55",
      "coq_kernel_rolled_back": false
     },
     "output_type": "execute_result"
    }
   ],
   "source": [
    "Theorem  plus_n_Sm_sample : (forall n m : nat, S (n + m) = n + (S m) ).\n",
    "Proof."
   ]
  },
  {
   "cell_type": "code",
   "execution_count": 12,
   "metadata": {
    "coq_kernel_metadata": {
     "auto_roll_back": true,
     "cell_id": "65a3b108f9014bdaa081b35ae32c0391",
     "evaluated": true,
     "execution_id": "e38bc997493e43ec8d202ed95a283666",
     "rolled_back": false
    }
   },
   "outputs": [
    {
     "data": {
      "text/html": [
       "\n",
       "<div class=\"coq_kernel_output_area\">\n",
       "    <pre>Proving: plus_n_Sm_sample\n",
       "\n",
       "1 subgoal\n",
       "\n",
       "n, m : nat\n",
       "\n",
       "1/1 -----------\n",
       "S (n + m) = n + S m</pre>\n",
       "</div>\n",
       "\n",
       "<div class=\"coq_kernel_rich_cell_output coq_kernel_status_message_area\" style=\"padding: 5px 0px;\">\n",
       "    <i class=\"fa-check fa text-success\"></i>\n",
       "    <span>Cell evaluated.</span>\n",
       "</div>\n",
       "\n",
       "<div class=\"coq_kernel_rich_cell_output coq_kernel_status_message_area coq_kernel_rolled_back_status_message\" style=\"padding: 5px 0px; display: none;\">\n",
       "    <i class=\"fa-exclamation-circle fa text-info\"></i>\n",
       "    <span>Cell rolled back.</span>\n",
       "</div>\n",
       "\n",
       "<div class=\"coq_kernel_rich_cell_output coq_kernel_roll_back_controls_area\" style=\"display: none; position: relative;\">\n",
       "    <button class=\"btn btn-default btn-xs coq_kernel_roll_back_button\" onclick=\"CoqKernel.roll_back(this)\">\n",
       "        <i class=\"fa-step-backward fa\"></i>\n",
       "        <span class=\"toolbar-btn-label\">Rollback cell</span>\n",
       "    </button>\n",
       "\n",
       "    <div style=\"display: inline-block; vertical-align: middle; padding-left: 0; padding-right: 0;\">\n",
       "      <input class=\"coq_kernel_auto_roll_back_checkbox\" type=\"checkbox\" value=\"\" onchange=\"CoqKernel.toggle_auto_roll_back(this)\" checked>\n",
       "      <label\">Auto rollback</label>\n",
       "    </div>\n",
       "</div>\n"
      ],
      "text/plain": [
       "Proving: plus_n_Sm_sample\n",
       "\n",
       "1 subgoal\n",
       "\n",
       "n, m : nat\n",
       "\n",
       "1/1 -----------\n",
       "S (n + m) = n + S m"
      ]
     },
     "execution_count": 13,
     "metadata": {
      "coq_kernel_evaluated": true,
      "coq_kernel_execution_id": "e38bc997493e43ec8d202ed95a283666",
      "coq_kernel_rolled_back": false
     },
     "output_type": "execute_result"
    }
   ],
   "source": [
    "(* intros で forall を削除します。 *)\n",
    "intros."
   ]
  },
  {
   "cell_type": "code",
   "execution_count": 13,
   "metadata": {
    "coq_kernel_metadata": {
     "auto_roll_back": true,
     "cell_id": "833d74c083b74a5e8e87e4143b5628ba",
     "evaluated": true,
     "execution_id": "1b5dc60383354ca488dcd5d6c871d12c",
     "rolled_back": false
    }
   },
   "outputs": [
    {
     "data": {
      "text/html": [
       "\n",
       "<div class=\"coq_kernel_output_area\">\n",
       "    <pre>Proving: plus_n_Sm_sample\n",
       "\n",
       "2 subgoals\n",
       "\n",
       "m : nat\n",
       "\n",
       "1/2 -----------\n",
       "S (0 + m) = 0 + S m\n",
       "2/2 -----------\n",
       "S (S n + m) = S n + S m</pre>\n",
       "</div>\n",
       "\n",
       "<div class=\"coq_kernel_rich_cell_output coq_kernel_status_message_area\" style=\"padding: 5px 0px;\">\n",
       "    <i class=\"fa-check fa text-success\"></i>\n",
       "    <span>Cell evaluated.</span>\n",
       "</div>\n",
       "\n",
       "<div class=\"coq_kernel_rich_cell_output coq_kernel_status_message_area coq_kernel_rolled_back_status_message\" style=\"padding: 5px 0px; display: none;\">\n",
       "    <i class=\"fa-exclamation-circle fa text-info\"></i>\n",
       "    <span>Cell rolled back.</span>\n",
       "</div>\n",
       "\n",
       "<div class=\"coq_kernel_rich_cell_output coq_kernel_roll_back_controls_area\" style=\"display: none; position: relative;\">\n",
       "    <button class=\"btn btn-default btn-xs coq_kernel_roll_back_button\" onclick=\"CoqKernel.roll_back(this)\">\n",
       "        <i class=\"fa-step-backward fa\"></i>\n",
       "        <span class=\"toolbar-btn-label\">Rollback cell</span>\n",
       "    </button>\n",
       "\n",
       "    <div style=\"display: inline-block; vertical-align: middle; padding-left: 0; padding-right: 0;\">\n",
       "      <input class=\"coq_kernel_auto_roll_back_checkbox\" type=\"checkbox\" value=\"\" onchange=\"CoqKernel.toggle_auto_roll_back(this)\" checked>\n",
       "      <label\">Auto rollback</label>\n",
       "    </div>\n",
       "</div>\n"
      ],
      "text/plain": [
       "Proving: plus_n_Sm_sample\n",
       "\n",
       "2 subgoals\n",
       "\n",
       "m : nat\n",
       "\n",
       "1/2 -----------\n",
       "S (0 + m) = 0 + S m\n",
       "2/2 -----------\n",
       "S (S n + m) = S n + S m"
      ]
     },
     "execution_count": 14,
     "metadata": {
      "coq_kernel_evaluated": true,
      "coq_kernel_execution_id": "1b5dc60383354ca488dcd5d6c871d12c",
      "coq_kernel_rolled_back": false
     },
     "output_type": "execute_result"
    }
   ],
   "source": [
    "(* n についての帰納法を使います。*)\n",
    "induction n.\n",
    "\n",
    "(* n = 0 の場合と、それ以外の場合に、サブゴールが２つに分かれます。*)"
   ]
  },
  {
   "cell_type": "code",
   "execution_count": 14,
   "metadata": {
    "coq_kernel_metadata": {
     "auto_roll_back": true,
     "cell_id": "d45a230b30f643538e54337262f48ac9",
     "evaluated": true,
     "execution_id": "73ada0b2cb2e424e8dce24e69dd9de33",
     "rolled_back": false
    }
   },
   "outputs": [
    {
     "data": {
      "text/html": [
       "\n",
       "<div class=\"coq_kernel_output_area\">\n",
       "    <pre>Proving: plus_n_Sm_sample\n",
       "\n",
       "2 subgoals\n",
       "\n",
       "m : nat\n",
       "\n",
       "1/2 -----------\n",
       "S m = S m\n",
       "2/2 -----------\n",
       "S (S n + m) = S n + S m</pre>\n",
       "</div>\n",
       "\n",
       "<div class=\"coq_kernel_rich_cell_output coq_kernel_status_message_area\" style=\"padding: 5px 0px;\">\n",
       "    <i class=\"fa-check fa text-success\"></i>\n",
       "    <span>Cell evaluated.</span>\n",
       "</div>\n",
       "\n",
       "<div class=\"coq_kernel_rich_cell_output coq_kernel_status_message_area coq_kernel_rolled_back_status_message\" style=\"padding: 5px 0px; display: none;\">\n",
       "    <i class=\"fa-exclamation-circle fa text-info\"></i>\n",
       "    <span>Cell rolled back.</span>\n",
       "</div>\n",
       "\n",
       "<div class=\"coq_kernel_rich_cell_output coq_kernel_roll_back_controls_area\" style=\"display: none; position: relative;\">\n",
       "    <button class=\"btn btn-default btn-xs coq_kernel_roll_back_button\" onclick=\"CoqKernel.roll_back(this)\">\n",
       "        <i class=\"fa-step-backward fa\"></i>\n",
       "        <span class=\"toolbar-btn-label\">Rollback cell</span>\n",
       "    </button>\n",
       "\n",
       "    <div style=\"display: inline-block; vertical-align: middle; padding-left: 0; padding-right: 0;\">\n",
       "      <input class=\"coq_kernel_auto_roll_back_checkbox\" type=\"checkbox\" value=\"\" onchange=\"CoqKernel.toggle_auto_roll_back(this)\" checked>\n",
       "      <label\">Auto rollback</label>\n",
       "    </div>\n",
       "</div>\n"
      ],
      "text/plain": [
       "Proving: plus_n_Sm_sample\n",
       "\n",
       "2 subgoals\n",
       "\n",
       "m : nat\n",
       "\n",
       "1/2 -----------\n",
       "S m = S m\n",
       "2/2 -----------\n",
       "S (S n + m) = S n + S m"
      ]
     },
     "execution_count": 15,
     "metadata": {
      "coq_kernel_evaluated": true,
      "coq_kernel_execution_id": "73ada0b2cb2e424e8dce24e69dd9de33",
      "coq_kernel_rolled_back": false
     },
     "output_type": "execute_result"
    }
   ],
   "source": [
    "(* simpl でサブゴールを簡単にします。 *)\n",
    "simpl."
   ]
  },
  {
   "cell_type": "code",
   "execution_count": 15,
   "metadata": {
    "coq_kernel_metadata": {
     "auto_roll_back": true,
     "cell_id": "b1b9b90b959d487a87ddb04bed19a80d",
     "evaluated": true,
     "execution_id": "e7fc40cfb7394ba78d6d1c625b488f7d",
     "rolled_back": false
    }
   },
   "outputs": [
    {
     "data": {
      "text/html": [
       "\n",
       "<div class=\"coq_kernel_output_area\">\n",
       "    <pre>Proving: plus_n_Sm_sample\n",
       "\n",
       "1 subgoal\n",
       "\n",
       "n, m : nat\n",
       "IHn : S (n + m) = n + S m\n",
       "\n",
       "1/1 -----------\n",
       "S (S n + m) = S n + S m</pre>\n",
       "</div>\n",
       "\n",
       "<div class=\"coq_kernel_rich_cell_output coq_kernel_status_message_area\" style=\"padding: 5px 0px;\">\n",
       "    <i class=\"fa-check fa text-success\"></i>\n",
       "    <span>Cell evaluated.</span>\n",
       "</div>\n",
       "\n",
       "<div class=\"coq_kernel_rich_cell_output coq_kernel_status_message_area coq_kernel_rolled_back_status_message\" style=\"padding: 5px 0px; display: none;\">\n",
       "    <i class=\"fa-exclamation-circle fa text-info\"></i>\n",
       "    <span>Cell rolled back.</span>\n",
       "</div>\n",
       "\n",
       "<div class=\"coq_kernel_rich_cell_output coq_kernel_roll_back_controls_area\" style=\"display: none; position: relative;\">\n",
       "    <button class=\"btn btn-default btn-xs coq_kernel_roll_back_button\" onclick=\"CoqKernel.roll_back(this)\">\n",
       "        <i class=\"fa-step-backward fa\"></i>\n",
       "        <span class=\"toolbar-btn-label\">Rollback cell</span>\n",
       "    </button>\n",
       "\n",
       "    <div style=\"display: inline-block; vertical-align: middle; padding-left: 0; padding-right: 0;\">\n",
       "      <input class=\"coq_kernel_auto_roll_back_checkbox\" type=\"checkbox\" value=\"\" onchange=\"CoqKernel.toggle_auto_roll_back(this)\" checked>\n",
       "      <label\">Auto rollback</label>\n",
       "    </div>\n",
       "</div>\n"
      ],
      "text/plain": [
       "Proving: plus_n_Sm_sample\n",
       "\n",
       "1 subgoal\n",
       "\n",
       "n, m : nat\n",
       "IHn : S (n + m) = n + S m\n",
       "\n",
       "1/1 -----------\n",
       "S (S n + m) = S n + S m"
      ]
     },
     "execution_count": 16,
     "metadata": {
      "coq_kernel_evaluated": true,
      "coq_kernel_execution_id": "e7fc40cfb7394ba78d6d1c625b488f7d",
      "coq_kernel_rolled_back": false
     },
     "output_type": "execute_result"
    }
   ],
   "source": [
    "(* １つ目のサブゴール（ n = 0 の場合）　にはreflexivity が使えます。*)\n",
    "reflexivity.\n",
    "\n",
    "(* これで n = 0 の場合が証明できました。サブゴールは１つになります。 *)"
   ]
  },
  {
   "cell_type": "code",
   "execution_count": 16,
   "metadata": {
    "coq_kernel_metadata": {
     "auto_roll_back": true,
     "cell_id": "d2dad4d452fe453182c12b46d456da0f",
     "evaluated": true,
     "execution_id": "4229eb3af6f74f968a0554035f84134e",
     "rolled_back": false
    }
   },
   "outputs": [
    {
     "data": {
      "text/html": [
       "\n",
       "<div class=\"coq_kernel_output_area\">\n",
       "    <pre>Proving: plus_n_Sm_sample\n",
       "\n",
       "1 subgoal\n",
       "\n",
       "n, m : nat\n",
       "IHn : S (n + m) = n + S m\n",
       "\n",
       "1/1 -----------\n",
       "S (S (n + m)) = S (n + S m)</pre>\n",
       "</div>\n",
       "\n",
       "<div class=\"coq_kernel_rich_cell_output coq_kernel_status_message_area\" style=\"padding: 5px 0px;\">\n",
       "    <i class=\"fa-check fa text-success\"></i>\n",
       "    <span>Cell evaluated.</span>\n",
       "</div>\n",
       "\n",
       "<div class=\"coq_kernel_rich_cell_output coq_kernel_status_message_area coq_kernel_rolled_back_status_message\" style=\"padding: 5px 0px; display: none;\">\n",
       "    <i class=\"fa-exclamation-circle fa text-info\"></i>\n",
       "    <span>Cell rolled back.</span>\n",
       "</div>\n",
       "\n",
       "<div class=\"coq_kernel_rich_cell_output coq_kernel_roll_back_controls_area\" style=\"display: none; position: relative;\">\n",
       "    <button class=\"btn btn-default btn-xs coq_kernel_roll_back_button\" onclick=\"CoqKernel.roll_back(this)\">\n",
       "        <i class=\"fa-step-backward fa\"></i>\n",
       "        <span class=\"toolbar-btn-label\">Rollback cell</span>\n",
       "    </button>\n",
       "\n",
       "    <div style=\"display: inline-block; vertical-align: middle; padding-left: 0; padding-right: 0;\">\n",
       "      <input class=\"coq_kernel_auto_roll_back_checkbox\" type=\"checkbox\" value=\"\" onchange=\"CoqKernel.toggle_auto_roll_back(this)\" checked>\n",
       "      <label\">Auto rollback</label>\n",
       "    </div>\n",
       "</div>\n"
      ],
      "text/plain": [
       "Proving: plus_n_Sm_sample\n",
       "\n",
       "1 subgoal\n",
       "\n",
       "n, m : nat\n",
       "IHn : S (n + m) = n + S m\n",
       "\n",
       "1/1 -----------\n",
       "S (S (n + m)) = S (n + S m)"
      ]
     },
     "execution_count": 17,
     "metadata": {
      "coq_kernel_evaluated": true,
      "coq_kernel_execution_id": "4229eb3af6f74f968a0554035f84134e",
      "coq_kernel_rolled_back": false
     },
     "output_type": "execute_result"
    }
   ],
   "source": [
    "(* simpl でサブゴールを簡単にします。 *)\n",
    "simpl."
   ]
  },
  {
   "cell_type": "code",
   "execution_count": 17,
   "metadata": {
    "coq_kernel_metadata": {
     "auto_roll_back": true,
     "cell_id": "f4b824f3b0244d239b12d681ff0b5196",
     "evaluated": true,
     "execution_id": "728217ff8d9a4fb1b236de2eae450442",
     "rolled_back": false
    },
    "scrolled": true
   },
   "outputs": [
    {
     "data": {
      "text/html": [
       "\n",
       "<div class=\"coq_kernel_output_area\">\n",
       "    <pre>Proving: plus_n_Sm_sample\n",
       "\n",
       "1 subgoal\n",
       "\n",
       "n, m : nat\n",
       "IHn : S (n + m) = n + S m\n",
       "\n",
       "1/1 -----------\n",
       "S (n + S m) = S (n + S m)</pre>\n",
       "</div>\n",
       "\n",
       "<div class=\"coq_kernel_rich_cell_output coq_kernel_status_message_area\" style=\"padding: 5px 0px;\">\n",
       "    <i class=\"fa-check fa text-success\"></i>\n",
       "    <span>Cell evaluated.</span>\n",
       "</div>\n",
       "\n",
       "<div class=\"coq_kernel_rich_cell_output coq_kernel_status_message_area coq_kernel_rolled_back_status_message\" style=\"padding: 5px 0px; display: none;\">\n",
       "    <i class=\"fa-exclamation-circle fa text-info\"></i>\n",
       "    <span>Cell rolled back.</span>\n",
       "</div>\n",
       "\n",
       "<div class=\"coq_kernel_rich_cell_output coq_kernel_roll_back_controls_area\" style=\"display: none; position: relative;\">\n",
       "    <button class=\"btn btn-default btn-xs coq_kernel_roll_back_button\" onclick=\"CoqKernel.roll_back(this)\">\n",
       "        <i class=\"fa-step-backward fa\"></i>\n",
       "        <span class=\"toolbar-btn-label\">Rollback cell</span>\n",
       "    </button>\n",
       "\n",
       "    <div style=\"display: inline-block; vertical-align: middle; padding-left: 0; padding-right: 0;\">\n",
       "      <input class=\"coq_kernel_auto_roll_back_checkbox\" type=\"checkbox\" value=\"\" onchange=\"CoqKernel.toggle_auto_roll_back(this)\" checked>\n",
       "      <label\">Auto rollback</label>\n",
       "    </div>\n",
       "</div>\n"
      ],
      "text/plain": [
       "Proving: plus_n_Sm_sample\n",
       "\n",
       "1 subgoal\n",
       "\n",
       "n, m : nat\n",
       "IHn : S (n + m) = n + S m\n",
       "\n",
       "1/1 -----------\n",
       "S (n + S m) = S (n + S m)"
      ]
     },
     "execution_count": 18,
     "metadata": {
      "coq_kernel_evaluated": true,
      "coq_kernel_execution_id": "728217ff8d9a4fb1b236de2eae450442",
      "coq_kernel_rolled_back": false
     },
     "output_type": "execute_result"
    }
   ],
   "source": [
    "(* 仮説 IHn　の左辺をサブゴールに代入します。 *)\n",
    "rewrite -> IHn."
   ]
  },
  {
   "cell_type": "code",
   "execution_count": 18,
   "metadata": {
    "coq_kernel_metadata": {
     "auto_roll_back": true,
     "cell_id": "bc93fb0388a144028b2d2f187c32f3eb",
     "evaluated": true,
     "execution_id": "50320fcbe3964538aa795acbfb78e5aa",
     "rolled_back": false
    }
   },
   "outputs": [
    {
     "data": {
      "text/html": [
       "\n",
       "<div class=\"coq_kernel_output_area\">\n",
       "    <pre>Proving: plus_n_Sm_sample\n",
       "\n",
       "No more subgoals</pre>\n",
       "</div>\n",
       "\n",
       "<div class=\"coq_kernel_rich_cell_output coq_kernel_status_message_area\" style=\"padding: 5px 0px;\">\n",
       "    <i class=\"fa-check fa text-success\"></i>\n",
       "    <span>Cell evaluated.</span>\n",
       "</div>\n",
       "\n",
       "<div class=\"coq_kernel_rich_cell_output coq_kernel_status_message_area coq_kernel_rolled_back_status_message\" style=\"padding: 5px 0px; display: none;\">\n",
       "    <i class=\"fa-exclamation-circle fa text-info\"></i>\n",
       "    <span>Cell rolled back.</span>\n",
       "</div>\n",
       "\n",
       "<div class=\"coq_kernel_rich_cell_output coq_kernel_roll_back_controls_area\" style=\"display: none; position: relative;\">\n",
       "    <button class=\"btn btn-default btn-xs coq_kernel_roll_back_button\" onclick=\"CoqKernel.roll_back(this)\">\n",
       "        <i class=\"fa-step-backward fa\"></i>\n",
       "        <span class=\"toolbar-btn-label\">Rollback cell</span>\n",
       "    </button>\n",
       "\n",
       "    <div style=\"display: inline-block; vertical-align: middle; padding-left: 0; padding-right: 0;\">\n",
       "      <input class=\"coq_kernel_auto_roll_back_checkbox\" type=\"checkbox\" value=\"\" onchange=\"CoqKernel.toggle_auto_roll_back(this)\" checked>\n",
       "      <label\">Auto rollback</label>\n",
       "    </div>\n",
       "</div>\n"
      ],
      "text/plain": [
       "Proving: plus_n_Sm_sample\n",
       "\n",
       "No more subgoals"
      ]
     },
     "execution_count": 19,
     "metadata": {
      "coq_kernel_evaluated": true,
      "coq_kernel_execution_id": "50320fcbe3964538aa795acbfb78e5aa",
      "coq_kernel_rolled_back": false
     },
     "output_type": "execute_result"
    }
   ],
   "source": [
    "(* これで、サブゴールにreflexivity が使えます。 *)\n",
    "reflexivity."
   ]
  },
  {
   "cell_type": "code",
   "execution_count": 19,
   "metadata": {
    "coq_kernel_metadata": {
     "auto_roll_back": true,
     "cell_id": "ab86cf476f15468cb6a1c0d15fd25919",
     "evaluated": true,
     "execution_id": "c22ff1c8b3b8401095e4e404c433747f",
     "rolled_back": false
    },
    "scrolled": true
   },
   "outputs": [
    {
     "data": {
      "text/html": [
       "\n",
       "<div class=\"coq_kernel_output_area\">\n",
       "    <pre></pre>\n",
       "</div>\n",
       "\n",
       "<div class=\"coq_kernel_rich_cell_output coq_kernel_status_message_area\" style=\"padding: 5px 0px;\">\n",
       "    <i class=\"fa-check fa text-success\"></i>\n",
       "    <span>Cell evaluated.</span>\n",
       "</div>\n",
       "\n",
       "<div class=\"coq_kernel_rich_cell_output coq_kernel_status_message_area coq_kernel_rolled_back_status_message\" style=\"padding: 5px 0px; display: none;\">\n",
       "    <i class=\"fa-exclamation-circle fa text-info\"></i>\n",
       "    <span>Cell rolled back.</span>\n",
       "</div>\n",
       "\n",
       "<div class=\"coq_kernel_rich_cell_output coq_kernel_roll_back_controls_area\" style=\"display: none; position: relative;\">\n",
       "    <button class=\"btn btn-default btn-xs coq_kernel_roll_back_button\" onclick=\"CoqKernel.roll_back(this)\">\n",
       "        <i class=\"fa-step-backward fa\"></i>\n",
       "        <span class=\"toolbar-btn-label\">Rollback cell</span>\n",
       "    </button>\n",
       "\n",
       "    <div style=\"display: inline-block; vertical-align: middle; padding-left: 0; padding-right: 0;\">\n",
       "      <input class=\"coq_kernel_auto_roll_back_checkbox\" type=\"checkbox\" value=\"\" onchange=\"CoqKernel.toggle_auto_roll_back(this)\" checked>\n",
       "      <label\">Auto rollback</label>\n",
       "    </div>\n",
       "</div>\n"
      ],
      "text/plain": []
     },
     "execution_count": 20,
     "metadata": {
      "coq_kernel_evaluated": true,
      "coq_kernel_execution_id": "c22ff1c8b3b8401095e4e404c433747f",
      "coq_kernel_rolled_back": false
     },
     "output_type": "execute_result"
    }
   ],
   "source": [
    "(* これで証明終わりです*)\n",
    "Qed."
   ]
  },
  {
   "cell_type": "markdown",
   "metadata": {
    "coq_kernel_metadata": {
     "auto_roll_back": true
    }
   },
   "source": [
    "<a id=\"sec5\"></a>\n",
    "# 帰納法を使う場合の証明の流れ\n",
    "\n",
    "改めて、帰納法の原理を確認しておきましょう。\n",
    "\n",
    "ある命題Pが全ての自然数で成り立つことを示すのに、次の２つの仮説を証明します。\n",
    "   1. ### <font color=\"blue\">Pはゼロで成り立つ。</font> <font color=\"red\">P(0).</font>\n",
    "   1.  ### <font color=\"blue\">もし、Pがnで成り立つなら、Pはn+1でも成り立つ。</font><font color=\"red\">P(n) -> P(n+1).</font>\n",
    "   \n",
    "<a id=\"sec51\"></a>\n",
    "### Coqでの帰納法による nについての証明の開始は、tactic <font color=\"red\">induction n.</font>を用います。\n",
    "-  このコマンドを投入すると、サブゴールが２つに分かれます。・\n",
    "-  ２つのサブゴールの１つ目は、n=0 の場合に P(0)が成り立つことの証明です。\n",
    "-  ２つのサブゴールの２つ目は、n=0 以外の場合、すなわち n = S n' の場合の証明です。\n",
    "-  この２つ目の証明は、もし、Pがnで成り立つなら、Pはn+1でも成り立つことの証明です。\n",
    "-  ２つのサブゴールの両方が証明できれば、全ての自然数 nに対して P(n)が成り立つことの証明ができます。\n",
    "\n",
    "<a id=\"sec52\"></a>\n",
    "### induction nを用いた証明の留意点\n",
    "\n",
    "- 証明の進行は、Coqが自動的にコントロールします。P(0)の証明から始まり、次に、P(n) -> P(n+1)の証明にステージが移ります。我々は、提示されたサブゴールを解くだけです。\n",
    "- 複数のサブゴールがある場合、それらのサブゴールは全て表示されますが、それぞれのサブゴールの仮説部分は、現在のサブゴールの仮説部分以外、表示されません。\n",
    "- nについての帰納法での証明の内部で、たとえばmについての帰納法を呼ぶことができます。こうした場合には特に、帰納法のステップのどのステージにいるかの確認が必要です。いろいろ対応の仕方はあるのですが、今回の解答では、コメントで注意する以外の方法は特に取っていません。\n",
    "- 演習問題 3-5 では、n についての帰納法の内部で、mについての帰納法を呼んでいます。他にも解き方はあるのですが。[演習問題3-5 の解答](./3-induction-answer.ipynb#ans35)のコメントを読んでみてください。"
   ]
  },
  {
   "cell_type": "markdown",
   "metadata": {
    "coq_kernel_metadata": {
     "auto_roll_back": true
    }
   },
   "source": [
    "<a id=\"sec6\"></a>\n",
    "# Coqのライブラリーの利用\n",
    "\n",
    "### 今回のハンズオンの演習問題では、演習問題として実際に自分で解いた証明済の定理のみを使って、証明を行うことを原則としています。\n",
    "\n",
    "それは、このハンズオンが、Coqでの証明スキルを学ぶことを目的にしているからです。\n",
    "\n",
    "第一章の最後に、tactic tauto を紹介しました。このtacticは、命題論理の大部分を自動的に証明します。実際には、わざわざ命題論理の命題を証明しなくても、Coqはそれを解いてくれます。それでも基本的な命題論理の証明方法を学ぶことは、Coqで証明を行う上での基本になります。\n",
    "\n",
    "同時に、「実際に自分で解いた証明済の定理のみを使う」というのは、Coqの実際の応用の場面では、とても強い制限になることに注意してください。\n",
    "\n",
    "ここでは、重要なことが二つあります。一つは、何かを証明するためには、証明済の命題のみに依拠しなければならないということです。「自明のことだろう」で済ますわけには行かないのです。それは、数学的な方法にとっては、本質的に重要なことです。\n",
    "\n",
    "ただ、もう一つ重要なことは、その命題を、「実際に自分で解く」必要はないということです。誰が証明したかわからなくても、さらには、その証明の詳細を知らなくても、「その定理が正しいものである限り」、我々はその定理を利用できます。\n",
    "\n",
    "それは、Coqの応用に限らず、数学の応用全般について言えることです。この原理はとても強力なものです。実際の場面では、この原理を利用しない手はないのです。\n",
    "\n",
    "<div class=\"alert alert-block alert-info\">\n",
    "今回は、詳しく述べることはできませんが、数学の自由な定理利用の背景には、「本当にその定理は正しいのか？」という基本的な疑問が潜在的には存在します。こうした厄介な問題にたいしても、Coqはとてもスマートな解決方法を提供します。それは、ある定理が、Coqでの証明という形で提供されているなら、その証明が正しいか否かを、我々は簡単に「検証」できるということです。\n",
    "\n",
    "ソフトウェア・エンジニアリングでの \"Deep Specification\" や、数学での \"UniMath\" といった注目すべきムーブメントは、Coqのこうした能力によってドライブされています。\n",
    "</div>"
   ]
  },
  {
   "cell_type": "markdown",
   "metadata": {
    "coq_kernel_metadata": {
     "auto_roll_back": true
    }
   },
   "source": [
    "<a id=\"sec61\"></a>\n",
    "### Coqでは、多数の証明済みの命題がライブラリーとして提供されています。\n",
    "\n",
    "実は、今回のハンズオンの演習課題の多くは、Coqのライブラリー Arith から採用したものです。例えば、\n",
    "- 「演習問題 3-3」 は、ライブラリー上では、Nat.mul_0_r として、証明済です。\n",
    "- 「演習問題 3-4」 は、ライブラリー上では、Nat.add_succ_r  (左右が逆だが)として、証明済です。\n",
    "- 「演習問題 3-5」 は、ライブラリー上では、Nat.add_comm として、証明済です。\n",
    "\n",
    "第一章の演習課題が、tauto を使えば瞬時に解けるように、この章の演習課題も、Coqのライブラリーを使えば、簡単に解けてしまいます。（詳細については、解答編の[「Coq ライブラリーの利用について」](./3-induction-answer.ipynb#coqlib)を参照ください。）それでは、証明スキルを学ぶことにはなりません。\n",
    "\n",
    "演習課題の一部は、ライブラリーの利用の練習も兼ねて、Coqライブラリーを使っています。次のサンプルを実行してみてください。\n",
    "\n",
    "<a id=\"sec62\"></a>\n",
    "## Coq ライブラリーを利用した証明の例 :   n * m = m * n\n",
    "\n",
    "冒頭の <font color=\"blue\">Require import Arith</font> が、ライブラリーの呼び出しです。\n",
    "\n",
    "この証明では、二箇所で、次のような形でCoqライブラリーを利用しています。\n",
    "- rewrite -> Nat.mul_0_r.\n",
    "- rewrite -> Nat.mul_succ_r.\n",
    "\n",
    "もっとも、この命題自身、Coqライブラリーでは、すでに証明済のものとして登録されています。"
   ]
  },
  {
   "cell_type": "code",
   "execution_count": 20,
   "metadata": {
    "coq_kernel_metadata": {
     "auto_roll_back": true,
     "cell_id": "52829c0362ef479484ba416a059a077a",
     "evaluated": true,
     "execution_id": "5ba66742a55b47eda39655c00087ac1a",
     "rolled_back": false
    }
   },
   "outputs": [
    {
     "data": {
      "text/html": [
       "\n",
       "<div class=\"coq_kernel_output_area\">\n",
       "    <pre>Proving: mult_comm_sample\n",
       "\n",
       "1 subgoal\n",
       "\n",
       "1/1 -----------\n",
       "forall n m : nat, n * m = m * n</pre>\n",
       "</div>\n",
       "\n",
       "<div class=\"coq_kernel_rich_cell_output coq_kernel_status_message_area\" style=\"padding: 5px 0px;\">\n",
       "    <i class=\"fa-check fa text-success\"></i>\n",
       "    <span>Cell evaluated.</span>\n",
       "</div>\n",
       "\n",
       "<div class=\"coq_kernel_rich_cell_output coq_kernel_status_message_area coq_kernel_rolled_back_status_message\" style=\"padding: 5px 0px; display: none;\">\n",
       "    <i class=\"fa-exclamation-circle fa text-info\"></i>\n",
       "    <span>Cell rolled back.</span>\n",
       "</div>\n",
       "\n",
       "<div class=\"coq_kernel_rich_cell_output coq_kernel_roll_back_controls_area\" style=\"display: none; position: relative;\">\n",
       "    <button class=\"btn btn-default btn-xs coq_kernel_roll_back_button\" onclick=\"CoqKernel.roll_back(this)\">\n",
       "        <i class=\"fa-step-backward fa\"></i>\n",
       "        <span class=\"toolbar-btn-label\">Rollback cell</span>\n",
       "    </button>\n",
       "\n",
       "    <div style=\"display: inline-block; vertical-align: middle; padding-left: 0; padding-right: 0;\">\n",
       "      <input class=\"coq_kernel_auto_roll_back_checkbox\" type=\"checkbox\" value=\"\" onchange=\"CoqKernel.toggle_auto_roll_back(this)\" checked>\n",
       "      <label\">Auto rollback</label>\n",
       "    </div>\n",
       "</div>\n"
      ],
      "text/plain": [
       "Proving: mult_comm_sample\n",
       "\n",
       "1 subgoal\n",
       "\n",
       "1/1 -----------\n",
       "forall n m : nat, n * m = m * n"
      ]
     },
     "execution_count": 23,
     "metadata": {
      "coq_kernel_evaluated": true,
      "coq_kernel_execution_id": "5ba66742a55b47eda39655c00087ac1a",
      "coq_kernel_rolled_back": false
     },
     "output_type": "execute_result"
    }
   ],
   "source": [
    "Require Import Arith.  (* Arith ライブラリーを読み込む*)\n",
    "\n",
    "Theorem  mult_comm_sample : (forall n m : nat,  n * m = m * n ).\n",
    "Proof."
   ]
  },
  {
   "cell_type": "code",
   "execution_count": 23,
   "metadata": {
    "coq_kernel_metadata": {
     "auto_roll_back": true,
     "cell_id": "9a5344ef387745be8a284f398013f1d2",
     "evaluated": true,
     "execution_id": "b8f1ad35725b43fc9738f80ad4e1af6a",
     "rolled_back": false
    }
   },
   "outputs": [
    {
     "data": {
      "text/html": [
       "\n",
       "<div class=\"coq_kernel_output_area\">\n",
       "    <pre>Proving: mult_comm_sample\n",
       "\n",
       "1 subgoal\n",
       "\n",
       "n, m : nat\n",
       "\n",
       "1/1 -----------\n",
       "n * m = m * n</pre>\n",
       "</div>\n",
       "\n",
       "<div class=\"coq_kernel_rich_cell_output coq_kernel_status_message_area\" style=\"padding: 5px 0px;\">\n",
       "    <i class=\"fa-check fa text-success\"></i>\n",
       "    <span>Cell evaluated.</span>\n",
       "</div>\n",
       "\n",
       "<div class=\"coq_kernel_rich_cell_output coq_kernel_status_message_area coq_kernel_rolled_back_status_message\" style=\"padding: 5px 0px; display: none;\">\n",
       "    <i class=\"fa-exclamation-circle fa text-info\"></i>\n",
       "    <span>Cell rolled back.</span>\n",
       "</div>\n",
       "\n",
       "<div class=\"coq_kernel_rich_cell_output coq_kernel_roll_back_controls_area\" style=\"display: none; position: relative;\">\n",
       "    <button class=\"btn btn-default btn-xs coq_kernel_roll_back_button\" onclick=\"CoqKernel.roll_back(this)\">\n",
       "        <i class=\"fa-step-backward fa\"></i>\n",
       "        <span class=\"toolbar-btn-label\">Rollback cell</span>\n",
       "    </button>\n",
       "\n",
       "    <div style=\"display: inline-block; vertical-align: middle; padding-left: 0; padding-right: 0;\">\n",
       "      <input class=\"coq_kernel_auto_roll_back_checkbox\" type=\"checkbox\" value=\"\" onchange=\"CoqKernel.toggle_auto_roll_back(this)\" checked>\n",
       "      <label\">Auto rollback</label>\n",
       "    </div>\n",
       "</div>\n"
      ],
      "text/plain": [
       "Proving: mult_comm_sample\n",
       "\n",
       "1 subgoal\n",
       "\n",
       "n, m : nat\n",
       "\n",
       "1/1 -----------\n",
       "n * m = m * n"
      ]
     },
     "execution_count": 24,
     "metadata": {
      "coq_kernel_evaluated": true,
      "coq_kernel_execution_id": "b8f1ad35725b43fc9738f80ad4e1af6a",
      "coq_kernel_rolled_back": false
     },
     "output_type": "execute_result"
    }
   ],
   "source": [
    "(* forall の削除 *)\n",
    "intros."
   ]
  },
  {
   "cell_type": "code",
   "execution_count": 24,
   "metadata": {
    "coq_kernel_metadata": {
     "auto_roll_back": true,
     "cell_id": "93bea9a7e4a1497c956a53d70ca603b7",
     "evaluated": true,
     "execution_id": "aa8fb54519164ca881662e656ea2fbfb",
     "rolled_back": false
    }
   },
   "outputs": [
    {
     "data": {
      "text/html": [
       "\n",
       "<div class=\"coq_kernel_output_area\">\n",
       "    <pre>Proving: mult_comm_sample\n",
       "\n",
       "2 subgoals\n",
       "\n",
       "m : nat\n",
       "\n",
       "1/2 -----------\n",
       "0 * m = m * 0\n",
       "2/2 -----------\n",
       "S n * m = m * S n</pre>\n",
       "</div>\n",
       "\n",
       "<div class=\"coq_kernel_rich_cell_output coq_kernel_status_message_area\" style=\"padding: 5px 0px;\">\n",
       "    <i class=\"fa-check fa text-success\"></i>\n",
       "    <span>Cell evaluated.</span>\n",
       "</div>\n",
       "\n",
       "<div class=\"coq_kernel_rich_cell_output coq_kernel_status_message_area coq_kernel_rolled_back_status_message\" style=\"padding: 5px 0px; display: none;\">\n",
       "    <i class=\"fa-exclamation-circle fa text-info\"></i>\n",
       "    <span>Cell rolled back.</span>\n",
       "</div>\n",
       "\n",
       "<div class=\"coq_kernel_rich_cell_output coq_kernel_roll_back_controls_area\" style=\"display: none; position: relative;\">\n",
       "    <button class=\"btn btn-default btn-xs coq_kernel_roll_back_button\" onclick=\"CoqKernel.roll_back(this)\">\n",
       "        <i class=\"fa-step-backward fa\"></i>\n",
       "        <span class=\"toolbar-btn-label\">Rollback cell</span>\n",
       "    </button>\n",
       "\n",
       "    <div style=\"display: inline-block; vertical-align: middle; padding-left: 0; padding-right: 0;\">\n",
       "      <input class=\"coq_kernel_auto_roll_back_checkbox\" type=\"checkbox\" value=\"\" onchange=\"CoqKernel.toggle_auto_roll_back(this)\" checked>\n",
       "      <label\">Auto rollback</label>\n",
       "    </div>\n",
       "</div>\n"
      ],
      "text/plain": [
       "Proving: mult_comm_sample\n",
       "\n",
       "2 subgoals\n",
       "\n",
       "m : nat\n",
       "\n",
       "1/2 -----------\n",
       "0 * m = m * 0\n",
       "2/2 -----------\n",
       "S n * m = m * S n"
      ]
     },
     "execution_count": 25,
     "metadata": {
      "coq_kernel_evaluated": true,
      "coq_kernel_execution_id": "aa8fb54519164ca881662e656ea2fbfb",
      "coq_kernel_rolled_back": false
     },
     "output_type": "execute_result"
    }
   ],
   "source": [
    "(* n についての帰納法を使う *)\n",
    "induction n.\n",
    "\n",
    "(* n = 0 　の場合と、\n",
    "　　　　n = S n' の場合で、サブゴールが二つに分かれる。 *)"
   ]
  },
  {
   "cell_type": "code",
   "execution_count": 25,
   "metadata": {
    "coq_kernel_metadata": {
     "auto_roll_back": true,
     "cell_id": "cd5061520f4141ca83e61001c7c9104b",
     "evaluated": true,
     "execution_id": "d4a84cda1c33476b94102d6e29b4ff26",
     "rolled_back": false
    }
   },
   "outputs": [
    {
     "data": {
      "text/html": [
       "\n",
       "<div class=\"coq_kernel_output_area\">\n",
       "    <pre>Proving: mult_comm_sample\n",
       "\n",
       "2 subgoals\n",
       "\n",
       "m : nat\n",
       "\n",
       "1/2 -----------\n",
       "0 = m * 0\n",
       "2/2 -----------\n",
       "S n * m = m * S n</pre>\n",
       "</div>\n",
       "\n",
       "<div class=\"coq_kernel_rich_cell_output coq_kernel_status_message_area\" style=\"padding: 5px 0px;\">\n",
       "    <i class=\"fa-check fa text-success\"></i>\n",
       "    <span>Cell evaluated.</span>\n",
       "</div>\n",
       "\n",
       "<div class=\"coq_kernel_rich_cell_output coq_kernel_status_message_area coq_kernel_rolled_back_status_message\" style=\"padding: 5px 0px; display: none;\">\n",
       "    <i class=\"fa-exclamation-circle fa text-info\"></i>\n",
       "    <span>Cell rolled back.</span>\n",
       "</div>\n",
       "\n",
       "<div class=\"coq_kernel_rich_cell_output coq_kernel_roll_back_controls_area\" style=\"display: none; position: relative;\">\n",
       "    <button class=\"btn btn-default btn-xs coq_kernel_roll_back_button\" onclick=\"CoqKernel.roll_back(this)\">\n",
       "        <i class=\"fa-step-backward fa\"></i>\n",
       "        <span class=\"toolbar-btn-label\">Rollback cell</span>\n",
       "    </button>\n",
       "\n",
       "    <div style=\"display: inline-block; vertical-align: middle; padding-left: 0; padding-right: 0;\">\n",
       "      <input class=\"coq_kernel_auto_roll_back_checkbox\" type=\"checkbox\" value=\"\" onchange=\"CoqKernel.toggle_auto_roll_back(this)\" checked>\n",
       "      <label\">Auto rollback</label>\n",
       "    </div>\n",
       "</div>\n"
      ],
      "text/plain": [
       "Proving: mult_comm_sample\n",
       "\n",
       "2 subgoals\n",
       "\n",
       "m : nat\n",
       "\n",
       "1/2 -----------\n",
       "0 = m * 0\n",
       "2/2 -----------\n",
       "S n * m = m * S n"
      ]
     },
     "execution_count": 26,
     "metadata": {
      "coq_kernel_evaluated": true,
      "coq_kernel_execution_id": "d4a84cda1c33476b94102d6e29b4ff26",
      "coq_kernel_rolled_back": false
     },
     "output_type": "execute_result"
    }
   ],
   "source": [
    "(* n = 0 の場合 *)\n",
    "(* サブゴールを簡単にする。 *)\n",
    "simpl."
   ]
  },
  {
   "cell_type": "code",
   "execution_count": 26,
   "metadata": {
    "coq_kernel_metadata": {
     "auto_roll_back": true,
     "cell_id": "1e70a53747ce47f284f38e5117d52fa2",
     "evaluated": true,
     "execution_id": "0d3f03ffadfe42d38689ee66cd2be54a",
     "rolled_back": false
    }
   },
   "outputs": [
    {
     "data": {
      "text/html": [
       "\n",
       "<div class=\"coq_kernel_output_area\">\n",
       "    <pre>Proving: mult_comm_sample\n",
       "\n",
       "2 subgoals\n",
       "\n",
       "m : nat\n",
       "\n",
       "1/2 -----------\n",
       "0 = 0\n",
       "2/2 -----------\n",
       "S n * m = m * S n</pre>\n",
       "</div>\n",
       "\n",
       "<div class=\"coq_kernel_rich_cell_output coq_kernel_status_message_area\" style=\"padding: 5px 0px;\">\n",
       "    <i class=\"fa-check fa text-success\"></i>\n",
       "    <span>Cell evaluated.</span>\n",
       "</div>\n",
       "\n",
       "<div class=\"coq_kernel_rich_cell_output coq_kernel_status_message_area coq_kernel_rolled_back_status_message\" style=\"padding: 5px 0px; display: none;\">\n",
       "    <i class=\"fa-exclamation-circle fa text-info\"></i>\n",
       "    <span>Cell rolled back.</span>\n",
       "</div>\n",
       "\n",
       "<div class=\"coq_kernel_rich_cell_output coq_kernel_roll_back_controls_area\" style=\"display: none; position: relative;\">\n",
       "    <button class=\"btn btn-default btn-xs coq_kernel_roll_back_button\" onclick=\"CoqKernel.roll_back(this)\">\n",
       "        <i class=\"fa-step-backward fa\"></i>\n",
       "        <span class=\"toolbar-btn-label\">Rollback cell</span>\n",
       "    </button>\n",
       "\n",
       "    <div style=\"display: inline-block; vertical-align: middle; padding-left: 0; padding-right: 0;\">\n",
       "      <input class=\"coq_kernel_auto_roll_back_checkbox\" type=\"checkbox\" value=\"\" onchange=\"CoqKernel.toggle_auto_roll_back(this)\" checked>\n",
       "      <label\">Auto rollback</label>\n",
       "    </div>\n",
       "</div>\n"
      ],
      "text/plain": [
       "Proving: mult_comm_sample\n",
       "\n",
       "2 subgoals\n",
       "\n",
       "m : nat\n",
       "\n",
       "1/2 -----------\n",
       "0 = 0\n",
       "2/2 -----------\n",
       "S n * m = m * S n"
      ]
     },
     "execution_count": 28,
     "metadata": {
      "coq_kernel_evaluated": true,
      "coq_kernel_execution_id": "0d3f03ffadfe42d38689ee66cd2be54a",
      "coq_kernel_rolled_back": false
     },
     "output_type": "execute_result"
    }
   ],
   "source": [
    "(* n = 0 の場合 *)\n",
    "(* サブゴールを、Nat.mul_0_r の左項で書き換える。 *)\n",
    "(* Nat.mul_0_r\n",
    "     : forall n : nat, n * 0 = 0\n",
    "で、「演習問題 3-3」で証明した　 mult_0_r と同じものである。*)\n",
    "\n",
    "rewrite -> Nat.mul_0_r."
   ]
  },
  {
   "cell_type": "code",
   "execution_count": 28,
   "metadata": {
    "coq_kernel_metadata": {
     "auto_roll_back": true,
     "cell_id": "4b3cdff0fccc451a981449cd0e3edd06",
     "evaluated": true,
     "execution_id": "8c956d7f43834087af456d78314c2c6f",
     "rolled_back": false
    }
   },
   "outputs": [
    {
     "data": {
      "text/html": [
       "\n",
       "<div class=\"coq_kernel_output_area\">\n",
       "    <pre>Proving: mult_comm_sample\n",
       "\n",
       "1 subgoal\n",
       "\n",
       "n, m : nat\n",
       "IHn : n * m = m * n\n",
       "\n",
       "1/1 -----------\n",
       "S n * m = m * S n</pre>\n",
       "</div>\n",
       "\n",
       "<div class=\"coq_kernel_rich_cell_output coq_kernel_status_message_area\" style=\"padding: 5px 0px;\">\n",
       "    <i class=\"fa-check fa text-success\"></i>\n",
       "    <span>Cell evaluated.</span>\n",
       "</div>\n",
       "\n",
       "<div class=\"coq_kernel_rich_cell_output coq_kernel_status_message_area coq_kernel_rolled_back_status_message\" style=\"padding: 5px 0px; display: none;\">\n",
       "    <i class=\"fa-exclamation-circle fa text-info\"></i>\n",
       "    <span>Cell rolled back.</span>\n",
       "</div>\n",
       "\n",
       "<div class=\"coq_kernel_rich_cell_output coq_kernel_roll_back_controls_area\" style=\"display: none; position: relative;\">\n",
       "    <button class=\"btn btn-default btn-xs coq_kernel_roll_back_button\" onclick=\"CoqKernel.roll_back(this)\">\n",
       "        <i class=\"fa-step-backward fa\"></i>\n",
       "        <span class=\"toolbar-btn-label\">Rollback cell</span>\n",
       "    </button>\n",
       "\n",
       "    <div style=\"display: inline-block; vertical-align: middle; padding-left: 0; padding-right: 0;\">\n",
       "      <input class=\"coq_kernel_auto_roll_back_checkbox\" type=\"checkbox\" value=\"\" onchange=\"CoqKernel.toggle_auto_roll_back(this)\" checked>\n",
       "      <label\">Auto rollback</label>\n",
       "    </div>\n",
       "</div>\n"
      ],
      "text/plain": [
       "Proving: mult_comm_sample\n",
       "\n",
       "1 subgoal\n",
       "\n",
       "n, m : nat\n",
       "IHn : n * m = m * n\n",
       "\n",
       "1/1 -----------\n",
       "S n * m = m * S n"
      ]
     },
     "execution_count": 29,
     "metadata": {
      "coq_kernel_evaluated": true,
      "coq_kernel_execution_id": "8c956d7f43834087af456d78314c2c6f",
      "coq_kernel_rolled_back": false
     },
     "output_type": "execute_result"
    }
   ],
   "source": [
    "(* n = 0 の場合 *)\n",
    "(* サブゴールにreflexivity が使える。 *)\n",
    "reflexivity.\n",
    "\n",
    "(* n = 0 の場合、証明終わり。サブゴールは一つになる。\n",
    "　　　　n = S n' の場合の証明に移る。*)"
   ]
  },
  {
   "cell_type": "code",
   "execution_count": 29,
   "metadata": {
    "coq_kernel_metadata": {
     "auto_roll_back": true,
     "cell_id": "5a763b26ea76404d90b58a43c783472b",
     "evaluated": true,
     "execution_id": "2b566b252fc9454f8f903edb80636337",
     "rolled_back": false
    }
   },
   "outputs": [
    {
     "data": {
      "text/html": [
       "\n",
       "<div class=\"coq_kernel_output_area\">\n",
       "    <pre>Proving: mult_comm_sample\n",
       "\n",
       "1 subgoal\n",
       "\n",
       "n, m : nat\n",
       "IHn : n * m = m * n\n",
       "\n",
       "1/1 -----------\n",
       "m + n * m = m * S n</pre>\n",
       "</div>\n",
       "\n",
       "<div class=\"coq_kernel_rich_cell_output coq_kernel_status_message_area\" style=\"padding: 5px 0px;\">\n",
       "    <i class=\"fa-check fa text-success\"></i>\n",
       "    <span>Cell evaluated.</span>\n",
       "</div>\n",
       "\n",
       "<div class=\"coq_kernel_rich_cell_output coq_kernel_status_message_area coq_kernel_rolled_back_status_message\" style=\"padding: 5px 0px; display: none;\">\n",
       "    <i class=\"fa-exclamation-circle fa text-info\"></i>\n",
       "    <span>Cell rolled back.</span>\n",
       "</div>\n",
       "\n",
       "<div class=\"coq_kernel_rich_cell_output coq_kernel_roll_back_controls_area\" style=\"display: none; position: relative;\">\n",
       "    <button class=\"btn btn-default btn-xs coq_kernel_roll_back_button\" onclick=\"CoqKernel.roll_back(this)\">\n",
       "        <i class=\"fa-step-backward fa\"></i>\n",
       "        <span class=\"toolbar-btn-label\">Rollback cell</span>\n",
       "    </button>\n",
       "\n",
       "    <div style=\"display: inline-block; vertical-align: middle; padding-left: 0; padding-right: 0;\">\n",
       "      <input class=\"coq_kernel_auto_roll_back_checkbox\" type=\"checkbox\" value=\"\" onchange=\"CoqKernel.toggle_auto_roll_back(this)\" checked>\n",
       "      <label\">Auto rollback</label>\n",
       "    </div>\n",
       "</div>\n"
      ],
      "text/plain": [
       "Proving: mult_comm_sample\n",
       "\n",
       "1 subgoal\n",
       "\n",
       "n, m : nat\n",
       "IHn : n * m = m * n\n",
       "\n",
       "1/1 -----------\n",
       "m + n * m = m * S n"
      ]
     },
     "execution_count": 30,
     "metadata": {
      "coq_kernel_evaluated": true,
      "coq_kernel_execution_id": "2b566b252fc9454f8f903edb80636337",
      "coq_kernel_rolled_back": false
     },
     "output_type": "execute_result"
    }
   ],
   "source": [
    "(* n = S n' の場合 *)\n",
    "(* サブゴールを簡単にする。*)\n",
    "simpl."
   ]
  },
  {
   "cell_type": "code",
   "execution_count": 30,
   "metadata": {
    "coq_kernel_metadata": {
     "auto_roll_back": true,
     "cell_id": "4760e067de934655810af6238b2a6552",
     "evaluated": true,
     "execution_id": "af5f4c3e07294f1d85b984a268586ac0",
     "rolled_back": false
    }
   },
   "outputs": [
    {
     "data": {
      "text/html": [
       "\n",
       "<div class=\"coq_kernel_output_area\">\n",
       "    <pre>Proving: mult_comm_sample\n",
       "\n",
       "1 subgoal\n",
       "\n",
       "n, m : nat\n",
       "IHn : n * m = m * n\n",
       "\n",
       "1/1 -----------\n",
       "m + m * n = m * S n</pre>\n",
       "</div>\n",
       "\n",
       "<div class=\"coq_kernel_rich_cell_output coq_kernel_status_message_area\" style=\"padding: 5px 0px;\">\n",
       "    <i class=\"fa-check fa text-success\"></i>\n",
       "    <span>Cell evaluated.</span>\n",
       "</div>\n",
       "\n",
       "<div class=\"coq_kernel_rich_cell_output coq_kernel_status_message_area coq_kernel_rolled_back_status_message\" style=\"padding: 5px 0px; display: none;\">\n",
       "    <i class=\"fa-exclamation-circle fa text-info\"></i>\n",
       "    <span>Cell rolled back.</span>\n",
       "</div>\n",
       "\n",
       "<div class=\"coq_kernel_rich_cell_output coq_kernel_roll_back_controls_area\" style=\"display: none; position: relative;\">\n",
       "    <button class=\"btn btn-default btn-xs coq_kernel_roll_back_button\" onclick=\"CoqKernel.roll_back(this)\">\n",
       "        <i class=\"fa-step-backward fa\"></i>\n",
       "        <span class=\"toolbar-btn-label\">Rollback cell</span>\n",
       "    </button>\n",
       "\n",
       "    <div style=\"display: inline-block; vertical-align: middle; padding-left: 0; padding-right: 0;\">\n",
       "      <input class=\"coq_kernel_auto_roll_back_checkbox\" type=\"checkbox\" value=\"\" onchange=\"CoqKernel.toggle_auto_roll_back(this)\" checked>\n",
       "      <label\">Auto rollback</label>\n",
       "    </div>\n",
       "</div>\n"
      ],
      "text/plain": [
       "Proving: mult_comm_sample\n",
       "\n",
       "1 subgoal\n",
       "\n",
       "n, m : nat\n",
       "IHn : n * m = m * n\n",
       "\n",
       "1/1 -----------\n",
       "m + m * n = m * S n"
      ]
     },
     "execution_count": 31,
     "metadata": {
      "coq_kernel_evaluated": true,
      "coq_kernel_execution_id": "af5f4c3e07294f1d85b984a268586ac0",
      "coq_kernel_rolled_back": false
     },
     "output_type": "execute_result"
    }
   ],
   "source": [
    "(* n = S n' の場合 *)\n",
    "(* サブゴールを IHnの左項で書き換える。*)\n",
    "rewrite -> IHn."
   ]
  },
  {
   "cell_type": "code",
   "execution_count": 31,
   "metadata": {
    "coq_kernel_metadata": {
     "auto_roll_back": true,
     "cell_id": "7a9e8e1a211d44428bbeda9b1ae5d947",
     "evaluated": true,
     "execution_id": "101bffa61a284e8fae5afbf985432feb",
     "rolled_back": false
    }
   },
   "outputs": [
    {
     "data": {
      "text/html": [
       "\n",
       "<div class=\"coq_kernel_output_area\">\n",
       "    <pre>Proving: mult_comm_sample\n",
       "\n",
       "1 subgoal\n",
       "\n",
       "n, m : nat\n",
       "IHn : n * m = m * n\n",
       "\n",
       "1/1 -----------\n",
       "m + m * n = m * n + m</pre>\n",
       "</div>\n",
       "\n",
       "<div class=\"coq_kernel_rich_cell_output coq_kernel_status_message_area\" style=\"padding: 5px 0px;\">\n",
       "    <i class=\"fa-check fa text-success\"></i>\n",
       "    <span>Cell evaluated.</span>\n",
       "</div>\n",
       "\n",
       "<div class=\"coq_kernel_rich_cell_output coq_kernel_status_message_area coq_kernel_rolled_back_status_message\" style=\"padding: 5px 0px; display: none;\">\n",
       "    <i class=\"fa-exclamation-circle fa text-info\"></i>\n",
       "    <span>Cell rolled back.</span>\n",
       "</div>\n",
       "\n",
       "<div class=\"coq_kernel_rich_cell_output coq_kernel_roll_back_controls_area\" style=\"display: none; position: relative;\">\n",
       "    <button class=\"btn btn-default btn-xs coq_kernel_roll_back_button\" onclick=\"CoqKernel.roll_back(this)\">\n",
       "        <i class=\"fa-step-backward fa\"></i>\n",
       "        <span class=\"toolbar-btn-label\">Rollback cell</span>\n",
       "    </button>\n",
       "\n",
       "    <div style=\"display: inline-block; vertical-align: middle; padding-left: 0; padding-right: 0;\">\n",
       "      <input class=\"coq_kernel_auto_roll_back_checkbox\" type=\"checkbox\" value=\"\" onchange=\"CoqKernel.toggle_auto_roll_back(this)\" checked>\n",
       "      <label\">Auto rollback</label>\n",
       "    </div>\n",
       "</div>\n"
      ],
      "text/plain": [
       "Proving: mult_comm_sample\n",
       "\n",
       "1 subgoal\n",
       "\n",
       "n, m : nat\n",
       "IHn : n * m = m * n\n",
       "\n",
       "1/1 -----------\n",
       "m + m * n = m * n + m"
      ]
     },
     "execution_count": 33,
     "metadata": {
      "coq_kernel_evaluated": true,
      "coq_kernel_execution_id": "101bffa61a284e8fae5afbf985432feb",
      "coq_kernel_rolled_back": false
     },
     "output_type": "execute_result"
    }
   ],
   "source": [
    "(* n = S n' の場合 *)\n",
    "(* サブゴールを Nat.mul_succ_r の左項で書き換える。*)\n",
    "(* Nat.add_succ_r\n",
    "     : forall n m : nat, n + S m = S (n + m)\n",
    "で、「演習問題　3-4」で証明した plus_n_Sm と同じものである。*)\n",
    "\n",
    "rewrite -> Nat.mul_succ_r."
   ]
  },
  {
   "cell_type": "code",
   "execution_count": null,
   "metadata": {
    "coq_kernel_metadata": {
     "auto_roll_back": true
    }
   },
   "outputs": [],
   "source": [
    "Qed."
   ]
  },
  {
   "cell_type": "markdown",
   "metadata": {
    "coq_kernel_metadata": {
     "auto_roll_back": true
    }
   },
   "source": [
    "　　　　[全体目次](./0-Contents.ipynb) 　[この章の演習問題へ](./1-induction-answer.ipynb)　　[前の章へ](./2-Equality.ipynb)　"
   ]
  },
  {
   "cell_type": "markdown",
   "metadata": {
    "coq_kernel_metadata": {
     "auto_roll_back": true
    }
   },
   "source": [
    "# <font color=\"blue\">演習問題 3</font>\n",
    "\n",
    "[演習問題 3-1](./3-Induction.ipynb#ex11) [演習問題 3-2](./3-Induction.ipynb#ex12) [演習問題 3-3](./3-Induction.ipynb#ex13) [演習問題 3-4](./3-Induction.ipynb#ex14) [演習問題 3-5](./3-Induction.ipynb#ex15) [演習問題 3-6](./3-Induction.ipynb#ex16) [演習問題 3-7](./3-Induction.ipynb#ex17) [演習問題 3-8](./3-Induction.ipynb#ex18) "
   ]
  },
  {
   "cell_type": "markdown",
   "metadata": {
    "coq_kernel_metadata": {
     "auto_roll_back": true
    }
   },
   "source": [
    "<a id=\"ex31\"></a>\n",
    "## 演習問題 3-1\n",
    "　<font size=\"4\">次の定理を証明せよ。</font>\n",
    " <font color=\"blue\"　size=\"4\"><br>　Theorem plus_n_O : (forall n : nat, n + 0 = n).</font>\n",
    "\n",
    "[作業用ページで証明をしてみる](3-induction-answer.ipynb#ex31) / [ヒント: 解答のコメントを読む](3-induction-answer.ipynb#hint31) / [解答を見る](3-induction-answer.ipynb#ans31) "
   ]
  },
  {
   "cell_type": "markdown",
   "metadata": {
    "coq_kernel_metadata": {
     "auto_roll_back": true
    }
   },
   "source": [
    "<a id=\"ex32\"></a>\n",
    "## 演習問題 3-2\n",
    "　<font size=\"4\">次の定理を証明せよ。</font>\n",
    " <font color=\"blue\"　size=\"4\"><br>　Theorem minus_diag : (forall n : nat, minus n n = 0).</font>\n",
    "\n",
    "[作業用ページで証明をしてみる](3-induction-answer.ipynb#ex32) / [ヒント: 解答のコメントを読む](3-induction-answer.ipynb#hint32) / [解答を見る](3-induction-answer.ipynb#ex32) "
   ]
  },
  {
   "cell_type": "markdown",
   "metadata": {
    "coq_kernel_metadata": {
     "auto_roll_back": true
    }
   },
   "source": [
    "<a id=\"ex33\"></a>\n",
    "## 演習問題 3-3\n",
    "　<font size=\"4\">次の定理を証明せよ。</font>\n",
    " <font color=\"blue\"　size=\"4\"><br>　Theorem mult_0_r : (forall n : nat,  n * 0 = 0).</font>\n",
    "\n",
    "[作業用ページで証明をしてみる](3-induction-answer.ipynb#ex33) / [ヒント: 解答のコメントを読む](3-induction-answer.ipynb#hint33) / [解答を見る](3-induction-answer.ipynb#ans33)  "
   ]
  },
  {
   "cell_type": "markdown",
   "metadata": {
    "coq_kernel_metadata": {
     "auto_roll_back": true
    }
   },
   "source": [
    "<a id=\"ex34\"></a>\n",
    "## 演習問題 3-4\n",
    "　<font size=\"4\">次の定理を証明せよ。</font>\n",
    " <font color=\"blue\"　size=\"4\"><br>　Theorem plus_n_Sm : (forall n m : nat, S (n + m) = n + (S m) ).</font>\n",
    "\n",
    "[作業用ページで証明をしてみる](3-induction-answer.ipynb#ex34) / [ヒント: 解答のコメントを読む](3-induction-answer.ipynb#hint34) / [解答を見る](3-induction-answer.ipynb#ans34) "
   ]
  },
  {
   "cell_type": "markdown",
   "metadata": {
    "coq_kernel_metadata": {
     "auto_roll_back": true
    }
   },
   "source": [
    "<a id=\"ex35\"></a>\n",
    "## 演習問題 3-5\n",
    "　<font size=\"4\">次の定理を証明せよ。</font>\n",
    " <font color=\"blue\"　size=\"4\"><br>　Theorem plus_comm : (forall n m : nat, n + m = m + n ).</font>\n",
    "\n",
    "[作業用ページで証明をしてみる](3-induction-answer.ipynb#ex35) / [ヒント: 解答のコメントを読む](3-induction-answer.ipynb#hint35) / [解答を見る](3-induction-answer.ipynb#ans35) "
   ]
  },
  {
   "cell_type": "markdown",
   "metadata": {
    "coq_kernel_metadata": {
     "auto_roll_back": true
    }
   },
   "source": [
    "<a id=\"ex36\"></a>\n",
    "## 演習問題 3-6\n",
    "　<font size=\"4\">次の定理を証明せよ。</font>\n",
    " <font color=\"blue\"　size=\"4\"><br>　Theorem plus_assoc : (forall n m o : nat, n + (m +o)  = (n + m) + o ).</font>\n",
    "\n",
    "[作業用ページで証明をしてみる](3-induction-answer.ipynb#ex36) / [ヒント: 解答のコメントを読む](3-induction-answer.ipynb#hint36) / [解答を見る](3-induction-answer.ipynb#ans36) "
   ]
  },
  {
   "cell_type": "markdown",
   "metadata": {
    "coq_kernel_metadata": {
     "auto_roll_back": true
    }
   },
   "source": [
    "<a id=\"ex37\"></a>\n",
    "## 演習問題 3-7\n",
    "　<font size=\"4\">次の定理を証明せよ。</font>\n",
    " <font color=\"blue\"　size=\"4\"><br>　Theorem mul_succ_r : forall n m : nat,  n \\* S m = n \\* m + n  ).</font>\n",
    "\n",
    "[作業用ページで証明をしてみる](3-induction-answer.ipynb#ex37) / [ヒント: 解答のコメントを読む](3-induction-answer.ipynb#hint37) / [解答を見る](3-induction-answer.ipynb#ans37) "
   ]
  },
  {
   "cell_type": "markdown",
   "metadata": {
    "coq_kernel_metadata": {
     "auto_roll_back": true
    }
   },
   "source": [
    "<a id=\"ex38\"></a>\n",
    "## 演習問題 3-8\n",
    "　<font size=\"4\">次の定理を証明せよ。</font>\n",
    " <font color=\"blue\"　size=\"4\"><br>　Theorem mult_comm : (forall n m : nat,  n \\* m = m \\* n ).</font>\n",
    "\n",
    "[作業用ページで証明をしてみる](3-induction-answer.ipynb#ex38) / [ヒント: 解答のコメントを読む](3-induction-answer.ipynb#hint38) / [解答を見る](3-induction-answer.ipynb#ans38) "
   ]
  },
  {
   "cell_type": "markdown",
   "metadata": {
    "coq_kernel_metadata": {
     "auto_roll_back": true
    }
   },
   "source": [
    "　　　　[全体目次](./0-Contents.ipynb) 　[この章の演習問題へ](./1-induction-answer.ipynb)　　[前の章へ](./2-Equality.ipynb)　"
   ]
  }
 ],
 "metadata": {
  "kernelspec": {
   "display_name": "Coq",
   "language": "coq",
   "name": "coq"
  },
  "language_info": {
   "file_extension": ".v",
   "mimetype": "text/x-coq",
   "name": "coq",
   "version": "8.9.1"
  }
 },
 "nbformat": 4,
 "nbformat_minor": 2
}
