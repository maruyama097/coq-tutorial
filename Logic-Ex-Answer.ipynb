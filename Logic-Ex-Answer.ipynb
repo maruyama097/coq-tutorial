{
 "cells": [
  {
   "cell_type": "markdown",
   "metadata": {
    "coq_kernel_metadata": {
     "auto_roll_back": true
    }
   },
   "source": [
    "# 演習問題 1  解答\n",
    "\n",
    "[演習問題 1-1](./Logic-Ex-Answer.ipynb#ex11) [演習問題 1-2](./Logic-Ex-Answer.ipynb#ex12) [演習問題 1-3](./Logic-Ex-Answer.ipynb#ex13) [演習問題 1-4](./Logic-Ex-Answer.ipynb#ex14) [演習問題 1-5](./Logic-Ex-Answer.ipynb#ex15) [演習問題 1-6](./Logic-Ex-Answer.ipynb#ex16) [演習問題 1-7](./Logic-Ex-Answer.ipynb#ex17) [演習問題 1-8](./Logic-Ex-Answer.ipynb#ex18) [演習問題 1-9](./Logic-Ex-Answer.ipynb#ex19) "
   ]
  },
  {
   "cell_type": "markdown",
   "metadata": {
    "coq_kernel_metadata": {
     "auto_roll_back": true
    }
   },
   "source": [
    "<a id=\"ex11\" ></a>\n",
    "## 演習問題 1-1 \n",
    "<font size=\"4\">次の定理を証明せよ。</font>\n",
    " <font color=\"blue\"　size=\"4\" ><br> Theorem my_first_proof : (forall A : Prop, A -> A).</font>\n",
    "\n",
    "[作業用ページで証明をして見る](./Logic-Ex-Work.ipynb#ex11)　/ [演習問題に戻る](./Logic-Ex.ipynb#ex11 ) \n",
    "\n",
    "## 解答\n",
    "```\n",
    "Theorem  my_first_proof : (forall A : Prop, A -> A).\n",
    "Proof.\n",
    "   intros.\n",
    "   intros.\n",
    "   assumption.\n",
    "Qed.\n",
    "```\n",
    "\n",
    "### 下のCellを実行して確かめよ。"
   ]
  },
  {
   "cell_type": "code",
   "execution_count": null,
   "metadata": {
    "coq_kernel_metadata": {
     "auto_roll_back": true,
     "cell_id": "8dfdf9fa3c554cae91e72ac710cabbbb",
     "execution_id": "89198ed2c84b4c2582350a964f22486c"
    }
   },
   "outputs": [],
   "source": [
    "Theorem  my_first_proof : (forall A : Prop, A -> A).\n",
    "Proof.\n",
    "   intros.\n",
    "   intros.\n",
    "   assumption.\n",
    "Qed."
   ]
  },
  {
   "cell_type": "markdown",
   "metadata": {
    "coq_kernel_metadata": {
     "auto_roll_back": true
    }
   },
   "source": [
    "### 次のCell を一つづつ実行して、各tacticsの働きを確認せよ。"
   ]
  },
  {
   "cell_type": "code",
   "execution_count": null,
   "metadata": {
    "coq_kernel_metadata": {
     "auto_roll_back": true
    }
   },
   "outputs": [],
   "source": [
    "Theorem  my_first_proof' : (forall A : Prop, A -> A).\n",
    "Proof."
   ]
  },
  {
   "cell_type": "code",
   "execution_count": null,
   "metadata": {
    "coq_kernel_metadata": {
     "auto_roll_back": true
    }
   },
   "outputs": [],
   "source": [
    "   intros."
   ]
  },
  {
   "cell_type": "code",
   "execution_count": null,
   "metadata": {
    "coq_kernel_metadata": {
     "auto_roll_back": true
    }
   },
   "outputs": [],
   "source": [
    "   intros."
   ]
  },
  {
   "cell_type": "code",
   "execution_count": null,
   "metadata": {
    "coq_kernel_metadata": {
     "auto_roll_back": true
    }
   },
   "outputs": [],
   "source": [
    "   assumption."
   ]
  },
  {
   "cell_type": "code",
   "execution_count": null,
   "metadata": {
    "coq_kernel_metadata": {
     "auto_roll_back": true
    }
   },
   "outputs": [],
   "source": [
    "Qed."
   ]
  },
  {
   "cell_type": "markdown",
   "metadata": {
    "collapsed": true,
    "coq_kernel_metadata": {
     "auto_roll_back": true
    }
   },
   "source": [
    "<a id=\"ex12\" ></a>\n",
    "## 演習問題 1-2\n",
    "<font size=\"4\">次の定理を証明せよ。</font>\n",
    " <font color=\"blue\" size=\"4\"><br> Theorem and1 : (forall A  B: Prop, A /\\ B -> A).</font>\n",
    "\n",
    "[作業用ページで証明をして見る](./Logic-Ex-Work.ipynb#ex12)　/ [演習問題に戻る](./Logic-Ex.ipynb#ex12 )\n",
    "\n",
    "## 解答\n",
    "```\n",
    "Theorem  and1 : (forall A  B: Prop, A /\\ B -> A).\n",
    "Proof.\n",
    "   intros A B A_and_B.\n",
    "   destruct A_and_B.\n",
    "   assumption.\n",
    " Qed.\n",
    "```\n",
    "\n",
    "### 次を実行してみよ。"
   ]
  },
  {
   "cell_type": "code",
   "execution_count": null,
   "metadata": {
    "coq_kernel_metadata": {
     "auto_roll_back": true,
     "cell_id": "05a784cd42ee471a80e7b44792996086",
     "execution_id": "d8101ce4e55f47438d9686ed071083b1"
    }
   },
   "outputs": [],
   "source": [
    "Theorem  and1 : (forall A  B: Prop, A /\\ B -> A).\n",
    "Proof.\n",
    "   intros A B A_and_B.\n",
    "   destruct A_and_B.\n",
    "   assumption.\n",
    " Qed."
   ]
  },
  {
   "cell_type": "markdown",
   "metadata": {
    "coq_kernel_metadata": {
     "auto_roll_back": true
    }
   },
   "source": [
    "### 次のCell を一つづつ実行して、各tacticsの働きを確認せよ。"
   ]
  },
  {
   "cell_type": "code",
   "execution_count": null,
   "metadata": {
    "coq_kernel_metadata": {
     "auto_roll_back": true
    }
   },
   "outputs": [],
   "source": [
    "Theorem  and1' : (forall A  B: Prop, A /\\ B -> A).\n",
    "Proof."
   ]
  },
  {
   "cell_type": "code",
   "execution_count": null,
   "metadata": {
    "coq_kernel_metadata": {
     "auto_roll_back": true
    }
   },
   "outputs": [],
   "source": [
    "   intros A B A_and_B."
   ]
  },
  {
   "cell_type": "code",
   "execution_count": null,
   "metadata": {
    "coq_kernel_metadata": {
     "auto_roll_back": true
    }
   },
   "outputs": [],
   "source": [
    "   destruct A_and_B."
   ]
  },
  {
   "cell_type": "code",
   "execution_count": null,
   "metadata": {
    "coq_kernel_metadata": {
     "auto_roll_back": true
    }
   },
   "outputs": [],
   "source": [
    "   assumption."
   ]
  },
  {
   "cell_type": "code",
   "execution_count": null,
   "metadata": {
    "coq_kernel_metadata": {
     "auto_roll_back": true
    }
   },
   "outputs": [],
   "source": [
    " Qed."
   ]
  },
  {
   "cell_type": "markdown",
   "metadata": {
    "coq_kernel_metadata": {
     "auto_roll_back": true
    }
   },
   "source": [
    "<a id=\"ex13\" ></a>\n",
    "## 演習問題 1-3\n",
    "<font size=\"4\">次の定理を証明せよ。</font>\n",
    " <font color=\"blue\"　size=\"4\"><br> Theorem and1 : (forall A  B: Prop, A /\\ B -> B).</font>\n",
    "\n",
    "[作業用ページで証明をして見る](./Logic-Ex-Work.ipynb#ex13)　/ [演習問題に戻る](./Logic-Ex.ipynb#ex13 )　\n",
    "\n",
    "## 解答\n",
    "```\n",
    "Theorem  and2 : (forall A  B: Prop, A /\\ B -> B).\n",
    "Proof.\n",
    "  intros A B A_and_B.\n",
    "  destruct A_and_B.\n",
    "  trivial.\n",
    "Qed.\n",
    "```\n",
    "### 次を実行して確かめよ。"
   ]
  },
  {
   "cell_type": "code",
   "execution_count": null,
   "metadata": {
    "coq_kernel_metadata": {
     "auto_roll_back": true,
     "cell_id": "b5f5c8e04c8f47f38f1a1d35502a15eb",
     "execution_id": "4f961bb7c53249089fe521525c33f611"
    }
   },
   "outputs": [],
   "source": [
    "Theorem  and2 : (forall A  B: Prop, A /\\ B -> B).\n",
    "Proof.\n",
    "  intros A B A_and_B.\n",
    "  destruct A_and_B.\n",
    "  trivial.\n",
    "Qed."
   ]
  },
  {
   "cell_type": "markdown",
   "metadata": {
    "coq_kernel_metadata": {
     "auto_roll_back": true
    }
   },
   "source": [
    "### 次のCell を一つづつ実行して、各tacticsの働きを確認せよ。"
   ]
  },
  {
   "cell_type": "code",
   "execution_count": null,
   "metadata": {
    "coq_kernel_metadata": {
     "auto_roll_back": true
    }
   },
   "outputs": [],
   "source": [
    "Theorem  and2' : (forall A  B: Prop, A /\\ B -> B).\n",
    "Proof."
   ]
  },
  {
   "cell_type": "code",
   "execution_count": null,
   "metadata": {
    "coq_kernel_metadata": {
     "auto_roll_back": true
    }
   },
   "outputs": [],
   "source": [
    "  intros A B A_and_B."
   ]
  },
  {
   "cell_type": "code",
   "execution_count": null,
   "metadata": {
    "coq_kernel_metadata": {
     "auto_roll_back": true
    }
   },
   "outputs": [],
   "source": [
    "  destruct A_and_B."
   ]
  },
  {
   "cell_type": "code",
   "execution_count": null,
   "metadata": {
    "coq_kernel_metadata": {
     "auto_roll_back": true
    }
   },
   "outputs": [],
   "source": [
    "  trivial."
   ]
  },
  {
   "cell_type": "code",
   "execution_count": null,
   "metadata": {
    "coq_kernel_metadata": {
     "auto_roll_back": true
    }
   },
   "outputs": [],
   "source": [
    "Qed."
   ]
  },
  {
   "cell_type": "markdown",
   "metadata": {
    "coq_kernel_metadata": {
     "auto_roll_back": true
    }
   },
   "source": [
    "<a id=\"ex14\" ></a>\n",
    "## 演習問題 1-4\n",
    "<font size=\"4\">次の定理を証明せよ。</font>\n",
    " <font color=\"blue\"　size=\"4\"><br> Theorem or1 : (forall A  B: Prop, A -> A \\\\/ B).</font>\n",
    "\n",
    "[作業用ページで証明をして見る](./Logic-Ex-Work.ipynb#ex14) / [演習問題に戻る](./Logic-Ex.ipynb#ex14 )　\n",
    "\n",
    "## 解答\n",
    "```\n",
    "Theorem  or1 : (forall A  B: Prop, A -> A \\/ B).\n",
    "Proof.\n",
    "  intros .\n",
    "  left.\n",
    " trivial.\n",
    "Qed.\n",
    "```\n",
    "### 次を実行して確かめよ。"
   ]
  },
  {
   "cell_type": "code",
   "execution_count": null,
   "metadata": {
    "coq_kernel_metadata": {
     "auto_roll_back": true,
     "cell_id": "e815c8d5f1da4451884e83bfd89f7a6d",
     "execution_id": "cb3dcc373a7d40c48a87b75ec46fecad"
    }
   },
   "outputs": [],
   "source": [
    "Theorem  or1 : (forall A  B: Prop, A -> A \\/ B).\n",
    "Proof.\n",
    "  intros .\n",
    "  left.\n",
    " trivial.\n",
    "Qed."
   ]
  },
  {
   "cell_type": "markdown",
   "metadata": {
    "coq_kernel_metadata": {
     "auto_roll_back": true
    }
   },
   "source": [
    "<a id=\"ex15\" ></a>\n",
    "## 演習問題 1-5\n",
    "<font size=\"4\">次の定理を証明せよ。</font>\n",
    " <font color=\"blue\"　size=\"4\"><br> Theorem or2 : (forall A  B: Prop, B -> A \\\\/ B).</font>\n",
    "\n",
    "[作業用ページで証明をして見る](./Logic-Ex-Work.ipyb#ex15)　/ [演習問題に戻る](./Logic-Ex.ipynb#ex15 )　\n",
    "\n",
    "## 解答\n",
    "```\n",
    "Theorem  or2 : (forall A  B: Prop, B -> A \\/ B).\n",
    "Proof.\n",
    "  intros .\n",
    "  right.\n",
    "  trivial.\n",
    "Qed.\n",
    "```\n",
    "### 次を実行して確かめよ。"
   ]
  },
  {
   "cell_type": "code",
   "execution_count": null,
   "metadata": {
    "coq_kernel_metadata": {
     "auto_roll_back": true,
     "cell_id": "c7eef95bc0714ed2ad5dc92fd06b4c88",
     "execution_id": "6d8ed0e1acfe43228cc7fa0b7267b441"
    }
   },
   "outputs": [],
   "source": [
    "Theorem  or2 : (forall A  B: Prop, B -> A \\/ B).\n",
    "Proof.\n",
    "  intros .\n",
    "  right.\n",
    "  trivial.\n",
    "Qed."
   ]
  },
  {
   "cell_type": "markdown",
   "metadata": {
    "coq_kernel_metadata": {
     "auto_roll_back": true
    }
   },
   "source": [
    "### 次のCell を一つづつ実行して、各tacticsの働きを確認せよ。"
   ]
  },
  {
   "cell_type": "code",
   "execution_count": null,
   "metadata": {
    "coq_kernel_metadata": {
     "auto_roll_back": true
    }
   },
   "outputs": [],
   "source": [
    "Theorem  or2 : (forall A  B: Prop, B -> A \\/ B).\n",
    "Proof."
   ]
  },
  {
   "cell_type": "code",
   "execution_count": null,
   "metadata": {
    "coq_kernel_metadata": {
     "auto_roll_back": true
    }
   },
   "outputs": [],
   "source": [
    "  intros ."
   ]
  },
  {
   "cell_type": "code",
   "execution_count": null,
   "metadata": {
    "coq_kernel_metadata": {
     "auto_roll_back": true
    }
   },
   "outputs": [],
   "source": [
    "  right."
   ]
  },
  {
   "cell_type": "code",
   "execution_count": null,
   "metadata": {
    "coq_kernel_metadata": {
     "auto_roll_back": true
    }
   },
   "outputs": [],
   "source": [
    "  trivial."
   ]
  },
  {
   "cell_type": "code",
   "execution_count": null,
   "metadata": {
    "coq_kernel_metadata": {
     "auto_roll_back": true
    }
   },
   "outputs": [],
   "source": [
    "Qed."
   ]
  },
  {
   "cell_type": "markdown",
   "metadata": {
    "coq_kernel_metadata": {
     "auto_roll_back": true
    }
   },
   "source": [
    "<a id=\"ex16\" ></a>\n",
    "## 演習問題 1-6\n",
    "<font size=\"4\">次の定理を証明せよ。</font>\n",
    " <font color=\"blue\"　size=\"4\"><br> Theorem modus_ponens : (forall A  B: Prop, A -> (A -> B) ->B).</font>\n",
    "\n",
    "[作業用ページで証明をして見る](./Logic-Ex-Work.ipynb#16)　/ [演習問題に戻る](./Logic-Ex.ipynb#16 )　\n",
    "\n",
    "## 解答\n",
    "```\n",
    "Theorem  modus_ponens : (forall A  B: Prop, A -> (A -> B) ->B).\n",
    "Proof.\n",
    "  intros A B.\n",
    "  intros  H A_implies_B.\n",
    "  apply A_implies_B.\n",
    "  assumption.\n",
    "Qed.\n",
    "```\n",
    "### 次の計算で確かめよ。"
   ]
  },
  {
   "cell_type": "code",
   "execution_count": null,
   "metadata": {
    "coq_kernel_metadata": {
     "auto_roll_back": true,
     "cell_id": "359275769e3c4709abb80b82075de1fd",
     "execution_id": "06a2eab03610463ea18195004e9a2359"
    }
   },
   "outputs": [],
   "source": [
    "Theorem  modus_ponens : (forall A  B: Prop, A -> (A -> B) ->B).\n",
    "Proof.\n",
    "  intros A B.\n",
    "  intros  H A_implies_B.\n",
    "  apply A_implies_B.\n",
    "  assumption.\n",
    "Qed."
   ]
  },
  {
   "cell_type": "markdown",
   "metadata": {
    "coq_kernel_metadata": {
     "auto_roll_back": true
    }
   },
   "source": [
    "### 次のCell を一つづつ実行して、各tacticsの働きを確認せよ。"
   ]
  },
  {
   "cell_type": "code",
   "execution_count": null,
   "metadata": {
    "coq_kernel_metadata": {
     "auto_roll_back": true
    }
   },
   "outputs": [],
   "source": [
    "Theorem  modus_ponens : (forall A  B: Prop, A -> (A -> B) ->B).\n",
    "Proof."
   ]
  },
  {
   "cell_type": "code",
   "execution_count": null,
   "metadata": {
    "coq_kernel_metadata": {
     "auto_roll_back": true
    }
   },
   "outputs": [],
   "source": [
    "  intros A B."
   ]
  },
  {
   "cell_type": "code",
   "execution_count": null,
   "metadata": {
    "coq_kernel_metadata": {
     "auto_roll_back": true
    }
   },
   "outputs": [],
   "source": [
    "  intros  H A_implies_B."
   ]
  },
  {
   "cell_type": "code",
   "execution_count": null,
   "metadata": {
    "coq_kernel_metadata": {
     "auto_roll_back": true
    }
   },
   "outputs": [],
   "source": [
    "  apply A_implies_B."
   ]
  },
  {
   "cell_type": "code",
   "execution_count": null,
   "metadata": {
    "coq_kernel_metadata": {
     "auto_roll_back": true
    }
   },
   "outputs": [],
   "source": [
    "  assumption."
   ]
  },
  {
   "cell_type": "code",
   "execution_count": null,
   "metadata": {
    "coq_kernel_metadata": {
     "auto_roll_back": true
    }
   },
   "outputs": [],
   "source": [
    "Qed."
   ]
  },
  {
   "cell_type": "markdown",
   "metadata": {
    "coq_kernel_metadata": {
     "auto_roll_back": true
    }
   },
   "source": [
    "<a id=\"ex17\" ></a>\n",
    "## 演習問題 1-7\n",
    "<font size=\"4\">次の定理を証明せよ。</font>\n",
    " <font color=\"blue\"　size=\"4\"><br> Theorem modus_ponens2 : (forall A  B C: Prop, A -> (A -> B) ->(B ->C) -> C).</font>\n",
    "\n",
    "[作業用ページで証明をして見る](./Logic-Ex-Work.ipynb#ex17)　/ [演習問題に戻る](./Logic-Ex.ipynb#ex17 )　\n",
    "\n",
    "## 解答\n",
    "```\n",
    "Theorem  modus_ponens2 : (forall A  B C: Prop, A -> (A -> B) ->(B ->C) -> C).\n",
    "Proof.\n",
    "  intros A B C Proof_of_A  A_implies_B B_implies_C.\n",
    "  apply B_implies_C.\n",
    "  apply A_implies_B.\n",
    "  assumption.\n",
    "Qed.\n",
    "```\n",
    "### 次を実行して確かめよ"
   ]
  },
  {
   "cell_type": "code",
   "execution_count": null,
   "metadata": {
    "coq_kernel_metadata": {
     "auto_roll_back": true
    }
   },
   "outputs": [],
   "source": [
    "Theorem  modus_ponens2 : (forall A  B C: Prop, A -> (A -> B) ->(B ->C) -> C).\n",
    "Proof.\n",
    "  intros A B C Proof_of_A  A_implies_B B_implies_C.\n",
    "  apply B_implies_C.\n",
    "  apply A_implies_B.\n",
    "  assumption.\n",
    "Qed."
   ]
  },
  {
   "cell_type": "markdown",
   "metadata": {
    "coq_kernel_metadata": {
     "auto_roll_back": true
    }
   },
   "source": [
    "### 次のCell を一つづつ実行して、各tacticsの働きを確認せよ。"
   ]
  },
  {
   "cell_type": "code",
   "execution_count": null,
   "metadata": {
    "coq_kernel_metadata": {
     "auto_roll_back": true
    }
   },
   "outputs": [],
   "source": [
    "Theorem  modus_ponens2 : (forall A  B C: Prop, A -> (A -> B) ->(B ->C) -> C).\n",
    "Proof."
   ]
  },
  {
   "cell_type": "code",
   "execution_count": null,
   "metadata": {
    "coq_kernel_metadata": {
     "auto_roll_back": true
    }
   },
   "outputs": [],
   "source": [
    "  intros A B C Proof_of_A  A_implies_B B_implies_C."
   ]
  },
  {
   "cell_type": "code",
   "execution_count": null,
   "metadata": {
    "coq_kernel_metadata": {
     "auto_roll_back": true
    }
   },
   "outputs": [],
   "source": [
    "  apply B_implies_C."
   ]
  },
  {
   "cell_type": "code",
   "execution_count": null,
   "metadata": {
    "coq_kernel_metadata": {
     "auto_roll_back": true
    }
   },
   "outputs": [],
   "source": [
    "  apply A_implies_B."
   ]
  },
  {
   "cell_type": "code",
   "execution_count": null,
   "metadata": {
    "coq_kernel_metadata": {
     "auto_roll_back": true
    }
   },
   "outputs": [],
   "source": [
    "  assumption."
   ]
  },
  {
   "cell_type": "code",
   "execution_count": null,
   "metadata": {
    "coq_kernel_metadata": {
     "auto_roll_back": true,
     "cell_id": "94491ec0b0be479d920d6a84a2fd3ff5",
     "execution_id": "f3ddd35a6bf54c85884760f160dbf554"
    }
   },
   "outputs": [],
   "source": [
    "Qed."
   ]
  },
  {
   "cell_type": "markdown",
   "metadata": {
    "coq_kernel_metadata": {
     "auto_roll_back": true
    }
   },
   "source": [
    "<a id=\"ex18\" ></a>\n",
    "## 演習問題 1-8\n",
    "<font size=\"4\">次の定理を証明せよ。</font>\n",
    " <font color=\"blue\"　size=\"4\"><br> Theorem and_comm : (forall A  B: Prop, A /\\ B -> B /\\ A ).</font>\n",
    "\n",
    "[作業用ページで証明をして見る](./Logic-Ex-Work.ipynb#18)　/ [演習問題に戻る](./Logic-Ex.ipynb#18 )　\n",
    "\n",
    "## 解答\n",
    "```\n",
    "Theorem  and_comm : (forall A  B: Prop, A /\\ B -> B /\\ A ).\n",
    "Proof.\n",
    "  intros A B H.\n",
    "  destruct H.\n",
    "  split.\n",
    "  assumption.\n",
    "  assumption.\n",
    "Qed.\n",
    "```\n",
    "### 次を実行して確かめよ。"
   ]
  },
  {
   "cell_type": "code",
   "execution_count": null,
   "metadata": {
    "coq_kernel_metadata": {
     "auto_roll_back": true,
     "cell_id": "564df98137f44a66834f58b354f2117f",
     "execution_id": "a0da91e2e2bd4e2abc226b1a5953a6fb"
    }
   },
   "outputs": [],
   "source": [
    "Theorem  and_comm : (forall A  B: Prop, A /\\ B -> B /\\ A ).\n",
    "Proof.\n",
    "  intros A B H.\n",
    "  destruct H.\n",
    "  split.\n",
    "  assumption.\n",
    "  assumption.\n",
    "Qed."
   ]
  },
  {
   "cell_type": "markdown",
   "metadata": {
    "coq_kernel_metadata": {
     "auto_roll_back": true
    }
   },
   "source": [
    "### 次のCell を一つづつ実行して、各tacticsの働きを確認せよ。"
   ]
  },
  {
   "cell_type": "code",
   "execution_count": null,
   "metadata": {
    "coq_kernel_metadata": {
     "auto_roll_back": true
    }
   },
   "outputs": [],
   "source": [
    "Theorem  and_comm : (forall A  B: Prop, A /\\ B -> B /\\ A ).\n",
    "Proof."
   ]
  },
  {
   "cell_type": "code",
   "execution_count": null,
   "metadata": {
    "coq_kernel_metadata": {
     "auto_roll_back": true
    }
   },
   "outputs": [],
   "source": [
    "  intros A B H."
   ]
  },
  {
   "cell_type": "code",
   "execution_count": null,
   "metadata": {
    "coq_kernel_metadata": {
     "auto_roll_back": true
    }
   },
   "outputs": [],
   "source": [
    "  destruct H."
   ]
  },
  {
   "cell_type": "code",
   "execution_count": null,
   "metadata": {
    "coq_kernel_metadata": {
     "auto_roll_back": true
    }
   },
   "outputs": [],
   "source": [
    "  split."
   ]
  },
  {
   "cell_type": "code",
   "execution_count": null,
   "metadata": {
    "coq_kernel_metadata": {
     "auto_roll_back": true
    }
   },
   "outputs": [],
   "source": [
    "  assumption."
   ]
  },
  {
   "cell_type": "code",
   "execution_count": null,
   "metadata": {
    "coq_kernel_metadata": {
     "auto_roll_back": true
    }
   },
   "outputs": [],
   "source": [
    "  assumption."
   ]
  },
  {
   "cell_type": "code",
   "execution_count": null,
   "metadata": {
    "coq_kernel_metadata": {
     "auto_roll_back": true
    }
   },
   "outputs": [],
   "source": [
    "Qed."
   ]
  },
  {
   "cell_type": "markdown",
   "metadata": {
    "coq_kernel_metadata": {
     "auto_roll_back": true
    }
   },
   "source": [
    "<a id=\"ex19\" ></a>\n",
    "## 演習問題 1-9\n",
    "<font size=\"4\">次の定理を証明せよ。</font>\n",
    " <font color=\"blue\"　size=\"4\"><br> Theorem or_comm : (forall A B: Prop, A \\\\/ B -> B \\\\/ A ) .</font>\n",
    "\n",
    "[作業用ページで証明をして見る](./Logic-Ex-Work.ipynb#19)　/ [演習問題に戻る](./Logic-Ex.ipynb#19 )　\n",
    "\n",
    "## 解答\n",
    "```\n",
    "Theorem  or_comm : (forall A B: Prop, A \\/ B -> B \\/ A ).\n",
    "Proof.\n",
    "  intros A B A_or_B.\n",
    "  destruct A_or_B.\n",
    "  right.\n",
    "  assumption.\n",
    "  left.\n",
    "    assumption.\n",
    "Qed,\n",
    "```\n",
    "### 次を実行して確かめよ。"
   ]
  },
  {
   "cell_type": "code",
   "execution_count": null,
   "metadata": {
    "coq_kernel_metadata": {
     "auto_roll_back": true,
     "cell_id": "d5115ef49c164d808a348d273307d145",
     "execution_id": "34763a615aeb4e21b7d2cc127d62039c"
    }
   },
   "outputs": [],
   "source": [
    "Theorem  or_comm : (forall A B: Prop, A \\/ B -> B \\/ A ).\n",
    "Proof.\n",
    "  intros A B A_or_B.\n",
    "  destruct A_or_B.\n",
    "  right.\n",
    "  assumption.\n",
    "  left.\n",
    "    assumption.\n",
    "Qed."
   ]
  },
  {
   "cell_type": "markdown",
   "metadata": {
    "coq_kernel_metadata": {
     "auto_roll_back": true
    }
   },
   "source": [
    "### 次のCell を一つづつ実行して、各tacticsの働きを確認せよ。"
   ]
  },
  {
   "cell_type": "code",
   "execution_count": null,
   "metadata": {
    "coq_kernel_metadata": {
     "auto_roll_back": true
    }
   },
   "outputs": [],
   "source": [
    "Theorem  or_comm : (forall A B: Prop, A \\/ B -> B \\/ A ).\n",
    "Proof."
   ]
  },
  {
   "cell_type": "code",
   "execution_count": null,
   "metadata": {
    "coq_kernel_metadata": {
     "auto_roll_back": true
    }
   },
   "outputs": [],
   "source": [
    "  intros A B A_or_B."
   ]
  },
  {
   "cell_type": "code",
   "execution_count": null,
   "metadata": {
    "coq_kernel_metadata": {
     "auto_roll_back": true
    }
   },
   "outputs": [],
   "source": [
    "  destruct A_or_B."
   ]
  },
  {
   "cell_type": "code",
   "execution_count": null,
   "metadata": {
    "coq_kernel_metadata": {
     "auto_roll_back": true
    }
   },
   "outputs": [],
   "source": [
    "  right."
   ]
  },
  {
   "cell_type": "code",
   "execution_count": null,
   "metadata": {
    "coq_kernel_metadata": {
     "auto_roll_back": true
    }
   },
   "outputs": [],
   "source": [
    "  assumption."
   ]
  },
  {
   "cell_type": "code",
   "execution_count": null,
   "metadata": {
    "coq_kernel_metadata": {
     "auto_roll_back": true
    }
   },
   "outputs": [],
   "source": [
    "  left."
   ]
  },
  {
   "cell_type": "code",
   "execution_count": null,
   "metadata": {
    "coq_kernel_metadata": {
     "auto_roll_back": true
    }
   },
   "outputs": [],
   "source": [
    "    assumption."
   ]
  },
  {
   "cell_type": "code",
   "execution_count": null,
   "metadata": {
    "coq_kernel_metadata": {
     "auto_roll_back": true
    }
   },
   "outputs": [],
   "source": [
    "Qed."
   ]
  }
 ],
 "metadata": {
  "kernelspec": {
   "display_name": "Coq",
   "language": "coq",
   "name": "coq"
  },
  "language_info": {
   "file_extension": ".v",
   "mimetype": "text/x-coq",
   "name": "coq",
   "version": "8.9.1"
  }
 },
 "nbformat": 4,
 "nbformat_minor": 2
}
