{
 "cells": [
  {
   "cell_type": "markdown",
   "metadata": {
    "coq_kernel_metadata": {
     "auto_roll_back": true
    }
   },
   "source": [
    "# 演習問題 2  作業用ページ\n",
    "\n",
    "[演習問題 2-1](#ex21) [演習問題 2-2](#ex22) [演習問題 2-3](#ex23) [演習問題 2-4](#ex24) [演習問題 2-5](#ex25) [演習問題 2-6](#ex26) [演習問題 2-7](#ex27) "
   ]
  },
  {
   "cell_type": "markdown",
   "metadata": {
    "coq_kernel_metadata": {
     "auto_roll_back": true
    }
   },
   "source": [
    "<a id=\"ex21\"></a>\n",
    "## 演習問題 2-1  作業用\n",
    "　<font size=\"4\">次の定理を証明せよ。</font>\n",
    " <font color=\"blue\"　size=\"4\"><br>　Theorem plus_O_n : (forall n : nat , 0+n = n ).</font>\n",
    "\n",
    "### ヒント\n",
    "- 冒頭の forall を intros で削除する。\n",
    "- A -> A の最初のAを intros で仮説に入れる。\n",
    "- そうすると、サブゴールが仮説の一つと一致していることがわかるので、assumption  または、exact  を使う。\n",
    "\n",
    "###  [解答を見る](#ans21) "
   ]
  },
  {
   "cell_type": "code",
   "execution_count": null,
   "metadata": {
    "coq_kernel_metadata": {
     "auto_roll_back": true,
     "cell_id": "21fd247ca2b1489d8496ff585c2dec7e",
     "execution_id": "e9a9b20cc5f84d969ba7cbfef57b2090"
    },
    "scrolled": true
   },
   "outputs": [],
   "source": [
    "Theorem plus_O_n : (forall n : nat , 0+n = n ).\n",
    "Proof."
   ]
  },
  {
   "cell_type": "code",
   "execution_count": null,
   "metadata": {
    "coq_kernel_metadata": {
     "auto_roll_back": true
    }
   },
   "outputs": [],
   "source": []
  },
  {
   "cell_type": "code",
   "execution_count": null,
   "metadata": {
    "coq_kernel_metadata": {
     "auto_roll_back": true
    }
   },
   "outputs": [],
   "source": []
  },
  {
   "cell_type": "code",
   "execution_count": null,
   "metadata": {
    "coq_kernel_metadata": {
     "auto_roll_back": true
    }
   },
   "outputs": [],
   "source": []
  },
  {
   "cell_type": "code",
   "execution_count": null,
   "metadata": {
    "coq_kernel_metadata": {
     "auto_roll_back": true
    }
   },
   "outputs": [],
   "source": []
  },
  {
   "cell_type": "code",
   "execution_count": null,
   "metadata": {
    "coq_kernel_metadata": {
     "auto_roll_back": true
    }
   },
   "outputs": [],
   "source": []
  },
  {
   "cell_type": "code",
   "execution_count": null,
   "metadata": {
    "coq_kernel_metadata": {
     "auto_roll_back": true,
     "cell_id": "c5060452a499401b8d34d1d72108c697",
     "execution_id": "6ac4e424bd4047fa8c103a1e4f2a478a"
    }
   },
   "outputs": [],
   "source": [
    "Admitted. (* 最後にここを Qed. に変える。*)"
   ]
  },
  {
   "cell_type": "markdown",
   "metadata": {
    "coq_kernel_metadata": {
     "auto_roll_back": true
    }
   },
   "source": [
    "<a id=\"ex22\"></a>\n",
    "## 演習問題 2-2  作業用\n",
    "　<font size=\"4\">次の定理を証明せよ。</font>\n",
    " <font color=\"blue\"　size=\"4\"><br> Theorem plus_1_n : (forall n : nat , 1+n = S n ).</font>\n",
    "\n",
    "### ヒント\n",
    "- intros で forall を削除する。\n",
    "- simpl. で、サブゴールの計算式を簡単にする。\n",
    "- 左項と右項が等しかったら reflexivity を使う。\n",
    "\n",
    "###  [解答を見る](#ans22) "
   ]
  },
  {
   "cell_type": "code",
   "execution_count": null,
   "metadata": {
    "coq_kernel_metadata": {
     "auto_roll_back": true,
     "cell_id": "bbaf747914cf49a68e5551deb3a3b9b1",
     "execution_id": "c766a92e1232401c85db3be9e5f0ad36"
    }
   },
   "outputs": [],
   "source": [
    "Theorem plus_1_n : (forall n : nat , 1+n = S n ).\n",
    "Proof."
   ]
  },
  {
   "cell_type": "code",
   "execution_count": null,
   "metadata": {
    "coq_kernel_metadata": {
     "auto_roll_back": true
    }
   },
   "outputs": [],
   "source": []
  },
  {
   "cell_type": "code",
   "execution_count": null,
   "metadata": {
    "coq_kernel_metadata": {
     "auto_roll_back": true
    }
   },
   "outputs": [],
   "source": []
  },
  {
   "cell_type": "code",
   "execution_count": null,
   "metadata": {
    "coq_kernel_metadata": {
     "auto_roll_back": true
    }
   },
   "outputs": [],
   "source": []
  },
  {
   "cell_type": "code",
   "execution_count": null,
   "metadata": {
    "coq_kernel_metadata": {
     "auto_roll_back": true
    }
   },
   "outputs": [],
   "source": []
  },
  {
   "cell_type": "code",
   "execution_count": null,
   "metadata": {
    "coq_kernel_metadata": {
     "auto_roll_back": true
    }
   },
   "outputs": [],
   "source": []
  },
  {
   "cell_type": "code",
   "execution_count": null,
   "metadata": {
    "coq_kernel_metadata": {
     "auto_roll_back": true
    }
   },
   "outputs": [],
   "source": []
  },
  {
   "cell_type": "code",
   "execution_count": null,
   "metadata": {
    "coq_kernel_metadata": {
     "auto_roll_back": true
    }
   },
   "outputs": [],
   "source": []
  },
  {
   "cell_type": "code",
   "execution_count": null,
   "metadata": {
    "coq_kernel_metadata": {
     "auto_roll_back": true,
     "cell_id": "8b02f853fae44d3b83a93463f61077dc",
     "execution_id": "f7dcb70e076f4a0c85986a3d73179c48"
    }
   },
   "outputs": [],
   "source": [
    "Admitted. (* 最後にここを Qed. に変える。*)"
   ]
  },
  {
   "cell_type": "markdown",
   "metadata": {
    "coq_kernel_metadata": {
     "auto_roll_back": true
    }
   },
   "source": [
    "<a id=\"ex23\"></a>\n",
    "## 演習問題 2-3  作業用\n",
    "　<font size=\"4\">次の定理を証明せよ。</font>\n",
    " <font color=\"blue\"　size=\"4\"><br> Theorem mult_0_n : (forall n : nat , 0 * n =  0 ).</font>\n",
    "\n",
    "### ヒント\n",
    "- intros で forall を削除する。\n",
    "- simpl. で、サブゴールの計算式を簡単にする。\n",
    "- 左項と右項が等しかったら reflexivity を使う。\n",
    "\n",
    "###  [解答を見る](#ans23) "
   ]
  },
  {
   "cell_type": "markdown",
   "metadata": {
    "coq_kernel_metadata": {
     "auto_roll_back": true
    }
   },
   "source": [
    "<a id=\"ex24\"></a>\n",
    "## 演習問題 2-4  作業用\n",
    "　<font size=\"4\">次の定理を証明せよ。</font>\n",
    " <font color=\"blue\"　size=\"4\"><br> Theorem plus_id_nm : (forall n m : nat , n = m -> n+n = m + m ).</font>\n",
    "\n",
    "### ヒント\n",
    "- intros で forall を消す。\n",
    "- サブゴールの前提部分を intros で仮定に移す。\n",
    "- サブゴールの左項を、等式Hを使って rewriite で書き換える。\n",
    "- サブゴールの左項と右項が等しいので、reflexivity を使う。\n",
    "\n",
    "###  [解答を見る](#ans24) "
   ]
  },
  {
   "cell_type": "code",
   "execution_count": null,
   "metadata": {
    "coq_kernel_metadata": {
     "auto_roll_back": true,
     "cell_id": "6be435a600614d0ba5954a4318d40b7d",
     "execution_id": "2a13fb16d08345ca962ad7f7448b392b"
    }
   },
   "outputs": [],
   "source": [
    "Theorem plus_id_nm : (forall n m : nat , n = m -> n+n = m + m ).\n",
    "Proof."
   ]
  },
  {
   "cell_type": "code",
   "execution_count": null,
   "metadata": {
    "coq_kernel_metadata": {
     "auto_roll_back": true
    }
   },
   "outputs": [],
   "source": []
  },
  {
   "cell_type": "code",
   "execution_count": null,
   "metadata": {
    "coq_kernel_metadata": {
     "auto_roll_back": true
    }
   },
   "outputs": [],
   "source": []
  },
  {
   "cell_type": "code",
   "execution_count": null,
   "metadata": {
    "coq_kernel_metadata": {
     "auto_roll_back": true
    }
   },
   "outputs": [],
   "source": []
  },
  {
   "cell_type": "code",
   "execution_count": null,
   "metadata": {
    "coq_kernel_metadata": {
     "auto_roll_back": true
    }
   },
   "outputs": [],
   "source": []
  },
  {
   "cell_type": "code",
   "execution_count": null,
   "metadata": {
    "coq_kernel_metadata": {
     "auto_roll_back": true
    }
   },
   "outputs": [],
   "source": []
  },
  {
   "cell_type": "code",
   "execution_count": null,
   "metadata": {
    "coq_kernel_metadata": {
     "auto_roll_back": true,
     "cell_id": "7ef4b291ec95478e907d0921284474e2",
     "execution_id": "c50f6cbf24b1422db51564b094f338b7"
    }
   },
   "outputs": [],
   "source": [
    "Admitted. (* 最後にここを Qed. に変える。*)"
   ]
  },
  {
   "cell_type": "markdown",
   "metadata": {
    "coq_kernel_metadata": {
     "auto_roll_back": true
    }
   },
   "source": [
    "<a id=\"ex25\"></a>\n",
    "## 演習問題 2-5  作業用\n",
    "　<font size=\"4\">次の定理を証明せよ。</font>\n",
    "  <font color=\"blue\"　size=\"4\"><br> Theorem plus_id : (forall n m o : nat , n = m -> m = o -> n + m = m + o ).</font>\n",
    "\n",
    "### ヒント\n",
    "- intros で forall を削除 \n",
    "- intoros で、前提部分を仮説に移す。\n",
    "- 等式　n_eq_m　の左辺 を使って、rewriteでサブゴールを書き換える。\n",
    "- 等式　m_eq_o の右辺を使って、rewriteでサブゴールのを書き換える。\n",
    "- サブゴールの等式の左辺と右辺が等しくなるので reflexivity を使う。\n",
    "\n",
    "###  [解答を見る](#ans25) "
   ]
  },
  {
   "cell_type": "code",
   "execution_count": null,
   "metadata": {
    "coq_kernel_metadata": {
     "auto_roll_back": true,
     "cell_id": "20c6973ef3af47528dd0b5e111a83ddb",
     "execution_id": "dc98cad993a54371ac28c68d70ef75e9"
    }
   },
   "outputs": [],
   "source": [
    "Theorem plus_id : (forall n m o : nat , n = m -> m = o -> n + m = m + o ).\n",
    "Proof."
   ]
  },
  {
   "cell_type": "code",
   "execution_count": null,
   "metadata": {
    "coq_kernel_metadata": {
     "auto_roll_back": true
    }
   },
   "outputs": [],
   "source": []
  },
  {
   "cell_type": "code",
   "execution_count": null,
   "metadata": {
    "coq_kernel_metadata": {
     "auto_roll_back": true
    }
   },
   "outputs": [],
   "source": []
  },
  {
   "cell_type": "code",
   "execution_count": null,
   "metadata": {
    "coq_kernel_metadata": {
     "auto_roll_back": true
    }
   },
   "outputs": [],
   "source": []
  },
  {
   "cell_type": "code",
   "execution_count": null,
   "metadata": {
    "coq_kernel_metadata": {
     "auto_roll_back": true
    }
   },
   "outputs": [],
   "source": []
  },
  {
   "cell_type": "code",
   "execution_count": null,
   "metadata": {
    "coq_kernel_metadata": {
     "auto_roll_back": true
    }
   },
   "outputs": [],
   "source": []
  },
  {
   "cell_type": "code",
   "execution_count": null,
   "metadata": {
    "coq_kernel_metadata": {
     "auto_roll_back": true
    }
   },
   "outputs": [],
   "source": []
  },
  {
   "cell_type": "code",
   "execution_count": null,
   "metadata": {
    "coq_kernel_metadata": {
     "auto_roll_back": true
    }
   },
   "outputs": [],
   "source": []
  },
  {
   "cell_type": "code",
   "execution_count": null,
   "metadata": {
    "coq_kernel_metadata": {
     "auto_roll_back": true
    }
   },
   "outputs": [],
   "source": []
  },
  {
   "cell_type": "code",
   "execution_count": null,
   "metadata": {
    "coq_kernel_metadata": {
     "auto_roll_back": true
    }
   },
   "outputs": [],
   "source": []
  },
  {
   "cell_type": "code",
   "execution_count": null,
   "metadata": {
    "coq_kernel_metadata": {
     "auto_roll_back": true,
     "cell_id": "b62ea6df3f0541cd94c4ca5d008ad3a8",
     "execution_id": "e52baf520cc0468081af006f46982509"
    }
   },
   "outputs": [],
   "source": [
    "Admitted. (* 最後にここを Qed. に変える。*)"
   ]
  },
  {
   "cell_type": "markdown",
   "metadata": {
    "coq_kernel_metadata": {
     "auto_roll_back": true
    }
   },
   "source": [
    "<a id=\"ex26\"></a>\n",
    "## 演習問題 2-6  作業用\n",
    "　<font size=\"4\">次の定理を証明せよ。</font>\n",
    " <font color=\"blue\"　size=\"4\"><br> Theorem mult_0_plus : (forall n m : nat , ( 0 + n ) \\* m =  n \\* m ).</font>\n",
    "\n",
    "### ヒント\n",
    "- intros で forall を消す。\n",
    "- simpl.　で、サブゴール中の計算式を簡単なものにする。\n",
    "- 左辺と右辺が等しいので、reflexivity を使う。\n",
    "\n",
    "###  [解答を見る](#ans26) "
   ]
  },
  {
   "cell_type": "code",
   "execution_count": null,
   "metadata": {
    "coq_kernel_metadata": {
     "auto_roll_back": true,
     "cell_id": "d7894348b4354a2f98e01b9810d2ed87",
     "execution_id": "3d6c996c570f48e6b346325c86e6f895"
    }
   },
   "outputs": [],
   "source": [
    "Theorem mult_0_plus : (forall n m : nat , ( 0 + n ) * m =  n * m ).\n",
    "Proof."
   ]
  },
  {
   "cell_type": "code",
   "execution_count": null,
   "metadata": {
    "coq_kernel_metadata": {
     "auto_roll_back": true
    }
   },
   "outputs": [],
   "source": []
  },
  {
   "cell_type": "code",
   "execution_count": null,
   "metadata": {
    "coq_kernel_metadata": {
     "auto_roll_back": true
    }
   },
   "outputs": [],
   "source": []
  },
  {
   "cell_type": "code",
   "execution_count": null,
   "metadata": {
    "coq_kernel_metadata": {
     "auto_roll_back": true
    }
   },
   "outputs": [],
   "source": []
  },
  {
   "cell_type": "code",
   "execution_count": null,
   "metadata": {
    "coq_kernel_metadata": {
     "auto_roll_back": true
    }
   },
   "outputs": [],
   "source": []
  },
  {
   "cell_type": "code",
   "execution_count": null,
   "metadata": {
    "coq_kernel_metadata": {
     "auto_roll_back": true
    }
   },
   "outputs": [],
   "source": []
  },
  {
   "cell_type": "code",
   "execution_count": null,
   "metadata": {
    "coq_kernel_metadata": {
     "auto_roll_back": true
    }
   },
   "outputs": [],
   "source": []
  },
  {
   "cell_type": "code",
   "execution_count": null,
   "metadata": {
    "coq_kernel_metadata": {
     "auto_roll_back": true
    }
   },
   "outputs": [],
   "source": []
  },
  {
   "cell_type": "code",
   "execution_count": null,
   "metadata": {
    "coq_kernel_metadata": {
     "auto_roll_back": true,
     "cell_id": "ad32907a53264903885b20768c1bdc39",
     "execution_id": "c7f0678ca7074fbd8ca3b414c9babccb"
    }
   },
   "outputs": [],
   "source": [
    "Admitted. (* 最後にここを Qed. に変える。*)"
   ]
  },
  {
   "cell_type": "markdown",
   "metadata": {
    "coq_kernel_metadata": {
     "auto_roll_back": true
    }
   },
   "source": [
    "<a id=\"ex27\"></a>\n",
    "## 演習問題 2-7  作業用\n",
    "　<font size=\"4\">次の定理を証明せよ。</font>\n",
    " <font color=\"blue\"　size=\"4\"><br> Theorem mult_S_1 : (forall n m : nat, m = S n -> m \\* (1 + n) = m \\* m).</font>\n",
    "\n",
    "### ヒント\n",
    "- intros で　forall を消し、前提を仮説に移す。\n",
    "- サブゴールの計算式を simpl で簡単にする。\n",
    "- rewriteで、サブゴールを m_eq_Sn を使って書き換える。\n",
    "- サブゴールの左辺と右辺は等しい。\n",
    "\n",
    "###  [解答を見る](#ans27) "
   ]
  },
  {
   "cell_type": "code",
   "execution_count": null,
   "metadata": {
    "coq_kernel_metadata": {
     "auto_roll_back": true,
     "cell_id": "bceb79fd22f54145811b7c1168faa3ad",
     "execution_id": "d2f5b02a4f7a42a6862d18b9a5055ba7"
    }
   },
   "outputs": [],
   "source": [
    "Theorem mult_S_1 : (forall n m : nat, m = S n -> m * (1 + n) = m * m).\n",
    "Proof."
   ]
  },
  {
   "cell_type": "code",
   "execution_count": null,
   "metadata": {
    "coq_kernel_metadata": {
     "auto_roll_back": true
    }
   },
   "outputs": [],
   "source": []
  },
  {
   "cell_type": "code",
   "execution_count": null,
   "metadata": {
    "coq_kernel_metadata": {
     "auto_roll_back": true
    }
   },
   "outputs": [],
   "source": []
  },
  {
   "cell_type": "code",
   "execution_count": null,
   "metadata": {
    "coq_kernel_metadata": {
     "auto_roll_back": true
    }
   },
   "outputs": [],
   "source": []
  },
  {
   "cell_type": "code",
   "execution_count": null,
   "metadata": {
    "coq_kernel_metadata": {
     "auto_roll_back": true
    }
   },
   "outputs": [],
   "source": []
  },
  {
   "cell_type": "code",
   "execution_count": null,
   "metadata": {
    "coq_kernel_metadata": {
     "auto_roll_back": true
    }
   },
   "outputs": [],
   "source": []
  },
  {
   "cell_type": "code",
   "execution_count": null,
   "metadata": {
    "coq_kernel_metadata": {
     "auto_roll_back": true
    }
   },
   "outputs": [],
   "source": []
  },
  {
   "cell_type": "code",
   "execution_count": null,
   "metadata": {
    "coq_kernel_metadata": {
     "auto_roll_back": true
    }
   },
   "outputs": [],
   "source": []
  },
  {
   "cell_type": "code",
   "execution_count": null,
   "metadata": {
    "coq_kernel_metadata": {
     "auto_roll_back": true,
     "cell_id": "86d06e9daaf044a3a73e85a8760c8994",
     "execution_id": "2678fe7a88274742895191e245a1076a"
    }
   },
   "outputs": [],
   "source": [
    "Admitted. (* 最後にここを Qed. に変える。*)"
   ]
  },
  {
   "cell_type": "markdown",
   "metadata": {
    "coq_kernel_metadata": {
     "auto_roll_back": true
    }
   },
   "source": [
    "\n",
    "# <font color=\"blue\">演習問題 2 解答</font>\n",
    "\n",
    "[演習問題 2-1](#ans21) [演習問題 2-2](#ans22) [演習問題 2-3](#ans23) [演習問題 2-4](#ans24) [演習問題 2-5](#ans25) [演習問題 2-6](#ans26) [演習問題 2-7](#ans27) "
   ]
  },
  {
   "cell_type": "markdown",
   "metadata": {
    "coq_kernel_metadata": {
     "auto_roll_back": true
    }
   },
   "source": [
    "<a id=\"ans21\"></a>\n",
    "## 演習問題 2-1  解答\n",
    "　<font size=\"4\">次の定理を証明せよ。</font>\n",
    " <font color=\"blue\"　size=\"4\"><br>　Theorem plus_O_n : (forall n : nat , 0+n = n ).</font>\n",
    "\n",
    "[作業用ページで証明をして見る](#ex21)　/ [演習問題に戻る](./2-Equal.ipynb#ex21 ) \n",
    "\n",
    "## 解答\n",
    "```\n",
    "Theorem  plus_O_n : (forall n : nat , 0+n = n ).\n",
    "Proof.\n",
    "  intro n.\n",
    "  simpl.\n",
    "  reflexivity.\n",
    "Qed.  \n",
    "```\n",
    "\n",
    "### 下のCellを実行して確かめよ。"
   ]
  },
  {
   "cell_type": "code",
   "execution_count": null,
   "metadata": {
    "coq_kernel_metadata": {
     "auto_roll_back": true,
     "cell_id": "8b9c108ae9cf4442b59e384bba00ef48",
     "execution_id": "ed7aae7762b74c179b2f0d60107f0100"
    }
   },
   "outputs": [],
   "source": [
    "Theorem  plus_O_n' : (forall n : nat , 0+n = n ).\n",
    "Proof.\n",
    "  intro n.\n",
    "  simpl.\n",
    "  reflexivity.\n",
    "Qed.  "
   ]
  },
  {
   "cell_type": "markdown",
   "metadata": {
    "coq_kernel_metadata": {
     "auto_roll_back": true
    }
   },
   "source": [
    "### 次のCell を一つづつ実行して、各tacticsの働きを確認せよ。"
   ]
  },
  {
   "cell_type": "code",
   "execution_count": null,
   "metadata": {
    "coq_kernel_metadata": {
     "auto_roll_back": true,
     "cell_id": "bc13511efdd54916aa63be3bc54f81a6",
     "execution_id": "7694e6b3dcd749578cb3f4c2dc329c0a"
    }
   },
   "outputs": [],
   "source": [
    "Theorem  plus_O_n'' : (forall n : nat , 0+n = n ).\n",
    "Proof."
   ]
  },
  {
   "cell_type": "code",
   "execution_count": null,
   "metadata": {
    "coq_kernel_metadata": {
     "auto_roll_back": true,
     "cell_id": "226594b03d2f4cd18d7a84acebfc66e3",
     "execution_id": "d12184aa7b77426793c4aeddcc9b23d4"
    }
   },
   "outputs": [],
   "source": [
    "  intro n."
   ]
  },
  {
   "cell_type": "code",
   "execution_count": null,
   "metadata": {
    "coq_kernel_metadata": {
     "auto_roll_back": true,
     "cell_id": "e12cdc9991ef40fa9d7d226a68cb8c5a",
     "execution_id": "71b79196c35b4281811b599d7f23740f"
    }
   },
   "outputs": [],
   "source": [
    "  simpl."
   ]
  },
  {
   "cell_type": "code",
   "execution_count": null,
   "metadata": {
    "coq_kernel_metadata": {
     "auto_roll_back": true,
     "cell_id": "fa17fab9d3c943518d21de393eeeddfe",
     "execution_id": "0814ad18236f4f398f4b2f28f0c61157"
    }
   },
   "outputs": [],
   "source": [
    "  reflexivity."
   ]
  },
  {
   "cell_type": "code",
   "execution_count": null,
   "metadata": {
    "coq_kernel_metadata": {
     "auto_roll_back": true,
     "cell_id": "7e89f14168e649489dde23be98a49e35",
     "execution_id": "d91f926db3a74af58116c7c476457d4b"
    }
   },
   "outputs": [],
   "source": [
    "Qed.  "
   ]
  },
  {
   "cell_type": "markdown",
   "metadata": {
    "coq_kernel_metadata": {
     "auto_roll_back": true
    }
   },
   "source": [
    "<a id=\"ans22\"></a>\n",
    "## 演習問題 2-2  解答\n",
    "　<font size=\"4\">次の定理を証明せよ。</font>\n",
    " <font color=\"blue\"　size=\"4\"><br> Theorem plus_1_n : (forall n : nat , 1+n = S n ).</font>\n",
    "\n",
    "[作業用ページで証明をして見る](#ex22)　/ [演習問題に戻る](./2-Equal.ipynb#ex22 ) \n",
    "\n",
    "## 解答\n",
    "```\n",
    "Theorem  plus_1_n : (forall n : nat , 1+n = S n ).\n",
    "Proof.\n",
    "  intros n.\n",
    "  simpl.\n",
    "  reflexivity.\n",
    "Qed.\n",
    "```\n",
    "\n",
    "### 下のCellを実行して確かめよ。"
   ]
  },
  {
   "cell_type": "code",
   "execution_count": null,
   "metadata": {
    "coq_kernel_metadata": {
     "auto_roll_back": true,
     "cell_id": "eccb58c305524b7b86a014a83b3e731f",
     "execution_id": "df798f69d6a544ee8339474a24732805"
    }
   },
   "outputs": [],
   "source": [
    "Theorem  plus_1_n' : (forall n : nat , 1+n = S n ).\n",
    "Proof.\n",
    "  intros n.\n",
    "  simpl.\n",
    "  reflexivity.\n",
    "Qed."
   ]
  },
  {
   "cell_type": "markdown",
   "metadata": {
    "coq_kernel_metadata": {
     "auto_roll_back": true
    }
   },
   "source": [
    "### 次のCell を一つづつ実行して、各tacticsの働きを確認せよ。"
   ]
  },
  {
   "cell_type": "code",
   "execution_count": null,
   "metadata": {
    "coq_kernel_metadata": {
     "auto_roll_back": true,
     "cell_id": "f634807b483145308e2a0ba6c8cb6e7b",
     "execution_id": "688c755f5aa446799efee88f1745933f"
    }
   },
   "outputs": [],
   "source": [
    "Theorem  plus_1_n'' : (forall n : nat , 1+n = S n ).\n",
    "Proof."
   ]
  },
  {
   "cell_type": "code",
   "execution_count": null,
   "metadata": {
    "coq_kernel_metadata": {
     "auto_roll_back": true,
     "cell_id": "4a8c324909ae4c2d8371d615004232c3",
     "execution_id": "93218ea3901043fc90d91bd3409ea7f7"
    }
   },
   "outputs": [],
   "source": [
    "  intros n."
   ]
  },
  {
   "cell_type": "code",
   "execution_count": null,
   "metadata": {
    "coq_kernel_metadata": {
     "auto_roll_back": true,
     "cell_id": "de871de95f9c4bfca256f19e209fc550",
     "execution_id": "bb729a989b854a1a8b945152db23a30e"
    }
   },
   "outputs": [],
   "source": [
    "  simpl."
   ]
  },
  {
   "cell_type": "code",
   "execution_count": null,
   "metadata": {
    "coq_kernel_metadata": {
     "auto_roll_back": true,
     "cell_id": "21c09fd33c034fa189a137dbadb52dfe",
     "execution_id": "ef509b2fd1a04a338626b8129c7fd7ae"
    }
   },
   "outputs": [],
   "source": [
    "  reflexivity."
   ]
  },
  {
   "cell_type": "code",
   "execution_count": null,
   "metadata": {
    "coq_kernel_metadata": {
     "auto_roll_back": true,
     "cell_id": "73bd64ecd4f049b98d786a509570395e",
     "execution_id": "b7e3e9bf00004a30869d406b79fa3766"
    }
   },
   "outputs": [],
   "source": [
    "Qed."
   ]
  },
  {
   "cell_type": "markdown",
   "metadata": {
    "coq_kernel_metadata": {
     "auto_roll_back": true
    }
   },
   "source": [
    "<a id=\"ans23\"></a>\n",
    "## 演習問題 2-3  解答\n",
    "　<font size=\"4\">次の定理を証明せよ。</font>\n",
    " <font color=\"blue\"　size=\"4\"><br> Theorem mult_0_n : (forall n : nat , 0 * n =  0 ).</font>\n",
    "\n",
    "[作業用ページで証明をして見る](#ex23)　/ [演習問題に戻る](./2-Equal.ipynb#ex23 ) \n",
    "\n",
    "## 解答\n",
    "```\n",
    "Theorem  mult_0_n : (forall n : nat , 0 * n =  0 ).\n",
    "Proof.\n",
    "  intros n.\n",
    "  simpl.\n",
    "  reflexivity.\n",
    "Qed.\n",
    "```\n",
    "\n",
    "### 下のCellを実行して確かめよ。"
   ]
  },
  {
   "cell_type": "code",
   "execution_count": null,
   "metadata": {
    "coq_kernel_metadata": {
     "auto_roll_back": true,
     "cell_id": "b736cc76c166428aa2aa36ce8a2fdef5",
     "execution_id": "e86c7f43e34640f8826ec32b6d0cc527"
    }
   },
   "outputs": [],
   "source": [
    "Theorem  mult_0_n' : (forall n : nat , 0 * n =  0 ).\n",
    "Proof.\n",
    "  intros n.\n",
    "  simpl.\n",
    "  reflexivity.\n",
    "Qed."
   ]
  },
  {
   "cell_type": "markdown",
   "metadata": {
    "coq_kernel_metadata": {
     "auto_roll_back": true
    }
   },
   "source": [
    "### 次のCell を一つづつ実行して、各tacticsの働きを確認せよ。"
   ]
  },
  {
   "cell_type": "code",
   "execution_count": null,
   "metadata": {
    "coq_kernel_metadata": {
     "auto_roll_back": true,
     "cell_id": "9eaebb7e4bd44c978c3114925da2e96a",
     "execution_id": "aa75ce70473b400593664ab59964cbae"
    }
   },
   "outputs": [],
   "source": [
    "Theorem  mult_0_n'' : (forall n : nat , 0 * n =  0 ).\n",
    "Proof."
   ]
  },
  {
   "cell_type": "code",
   "execution_count": null,
   "metadata": {
    "coq_kernel_metadata": {
     "auto_roll_back": true,
     "cell_id": "36e34580ac2c480785978980dd1fc294",
     "execution_id": "17f3a7c4b2c24fd18f5d78c65b47a901"
    }
   },
   "outputs": [],
   "source": [
    "  intros n."
   ]
  },
  {
   "cell_type": "code",
   "execution_count": null,
   "metadata": {
    "coq_kernel_metadata": {
     "auto_roll_back": true,
     "cell_id": "5274a45444774c40883b3ca146e00759",
     "execution_id": "cf081195578243cf890860516e39753e"
    }
   },
   "outputs": [],
   "source": [
    "  simpl."
   ]
  },
  {
   "cell_type": "code",
   "execution_count": null,
   "metadata": {
    "coq_kernel_metadata": {
     "auto_roll_back": true,
     "cell_id": "2956f73a8f7448ef9ee2a19f100e629e",
     "execution_id": "509135f195f348d6bef4485194de6421"
    }
   },
   "outputs": [],
   "source": [
    "  reflexivity."
   ]
  },
  {
   "cell_type": "code",
   "execution_count": null,
   "metadata": {
    "coq_kernel_metadata": {
     "auto_roll_back": true,
     "cell_id": "af5bff4b84ae43f88b14774d970e446e",
     "execution_id": "7b33ab3821124ca9a1edf1d68e134b1a"
    }
   },
   "outputs": [],
   "source": [
    "Qed."
   ]
  },
  {
   "cell_type": "markdown",
   "metadata": {
    "coq_kernel_metadata": {
     "auto_roll_back": true
    }
   },
   "source": [
    "<a id=\"ans24\"></a>\n",
    "## 演習問題 2-4  解答\n",
    "　<font size=\"4\">次の定理を証明せよ。</font>\n",
    " <font color=\"blue\"　size=\"4\"><br> Theorem plus_id_nm : (forall n m : nat , n = m -> n+n = m + m ).</font>\n",
    "\n",
    "[作業用ページで証明をして見る](#ex21)　/ [演習問題に戻る](./2-Equal.ipynb#ex21 ) \n",
    "\n",
    "## 解答\n",
    "```\n",
    "Theorem  plus_id_nm : (forall n m : nat , n = m -> n+n = m + m ).\n",
    "Proof.\n",
    "  intros n m.\n",
    "  intros H.\n",
    "  rewrite -> H.\n",
    "  reflexivity.\n",
    "Qed.\n",
    "```\n",
    "\n",
    "### 下のCellを実行して確かめよ。"
   ]
  },
  {
   "cell_type": "code",
   "execution_count": null,
   "metadata": {
    "coq_kernel_metadata": {
     "auto_roll_back": true,
     "cell_id": "a49aed49a4cb43e8a4a4880383aeb418",
     "execution_id": "370ef16aa285434180fb9431f7b5e54b"
    }
   },
   "outputs": [],
   "source": [
    "Theorem  plus_id_nm' : (forall n m : nat , n = m -> n+n = m + m ).\n",
    "Proof.\n",
    "  intros n m.\n",
    "  intros H.\n",
    "  rewrite -> H.\n",
    "  reflexivity.\n",
    "Qed."
   ]
  },
  {
   "cell_type": "markdown",
   "metadata": {
    "coq_kernel_metadata": {
     "auto_roll_back": true
    }
   },
   "source": [
    "### 次のCell を一つづつ実行して、各tacticsの働きを確認せよ。"
   ]
  },
  {
   "cell_type": "code",
   "execution_count": null,
   "metadata": {
    "coq_kernel_metadata": {
     "auto_roll_back": true,
     "cell_id": "a8c76461268a4a3da04abf0ed047cf31",
     "execution_id": "5ce076f813424fdba55fc37d987be364"
    }
   },
   "outputs": [],
   "source": [
    "Theorem  plus_id_nm'' : (forall n m : nat , n = m -> n+n = m + m ).\n",
    "Proof."
   ]
  },
  {
   "cell_type": "code",
   "execution_count": null,
   "metadata": {
    "coq_kernel_metadata": {
     "auto_roll_back": true,
     "cell_id": "d71598064ae24293a70fefe803bc1ab6",
     "execution_id": "e61a62c211be417dbce379fc01c7753a"
    }
   },
   "outputs": [],
   "source": [
    "  intros n m."
   ]
  },
  {
   "cell_type": "code",
   "execution_count": null,
   "metadata": {
    "coq_kernel_metadata": {
     "auto_roll_back": true,
     "cell_id": "4fd93578d6ef49ed8cad4157da5eba06",
     "execution_id": "8e4fa41fbc024a818836a48421c6286c"
    }
   },
   "outputs": [],
   "source": [
    "  intros H."
   ]
  },
  {
   "cell_type": "code",
   "execution_count": null,
   "metadata": {
    "coq_kernel_metadata": {
     "auto_roll_back": true,
     "cell_id": "84037f76f003429095c7bc848710ead8",
     "execution_id": "53ef36d186cd485b83fac53d69eedcc5"
    }
   },
   "outputs": [],
   "source": [
    "  rewrite -> H."
   ]
  },
  {
   "cell_type": "code",
   "execution_count": null,
   "metadata": {
    "coq_kernel_metadata": {
     "auto_roll_back": true,
     "cell_id": "eb80e2833db44c078b8a6a4cd3bc3d6a",
     "execution_id": "a79df997bbdf468294fc9ab8bb7be0ab"
    }
   },
   "outputs": [],
   "source": [
    "  reflexivity."
   ]
  },
  {
   "cell_type": "code",
   "execution_count": null,
   "metadata": {
    "coq_kernel_metadata": {
     "auto_roll_back": true,
     "cell_id": "ac427504fd904b1786162f6474eb7e03",
     "execution_id": "e652d3af5ad34e109db66effadc35cb0"
    }
   },
   "outputs": [],
   "source": [
    "Qed."
   ]
  },
  {
   "cell_type": "markdown",
   "metadata": {
    "coq_kernel_metadata": {
     "auto_roll_back": true
    }
   },
   "source": [
    "<a id=\"ans25\"></a>\n",
    "## 演習問題 2-5  解答\n",
    "　<font size=\"4\">次の定理を証明せよ。</font>\n",
    "  <font color=\"blue\"　size=\"4\"><br> Theorem plus_id : (forall n m o : nat , n = m -> m = o -> n + m = m + o ).</font>\n",
    "\n",
    "[作業用ページで証明をして見る](#ex25)　/ [演習問題に戻る](./2-Equal.ipynb#ex25 ) \n",
    "\n",
    "## 解答\n",
    "```\n",
    "Theorem  plus_id : (forall n m o : nat , n = m -> m = o -> n + m = m + o ).\n",
    "Proof.\n",
    "  intros n m o.\n",
    "  intros n_eq_m m_eq_o.\n",
    "  rewrite -> n_eq_m.\n",
    "  rewrite <- m_eq_o.\n",
    "  reflexivity.\n",
    "Qed.\n",
    "```\n",
    "\n",
    "### 下のCellを実行して確かめよ。"
   ]
  },
  {
   "cell_type": "code",
   "execution_count": null,
   "metadata": {
    "coq_kernel_metadata": {
     "auto_roll_back": true,
     "cell_id": "fa83f5d8ef4f4b768be89555b854bb38",
     "execution_id": "3a22607b0dfc4958808eb0e4f8464c16"
    }
   },
   "outputs": [],
   "source": [
    "Theorem  plus_id' : (forall n m o : nat , n = m -> m = o -> n + m = m + o ).\n",
    "Proof.\n",
    "  intros n m o.\n",
    "  intros n_eq_m m_eq_o.\n",
    "  rewrite -> n_eq_m.\n",
    "  rewrite <- m_eq_o.\n",
    "  reflexivity.\n",
    "Qed."
   ]
  },
  {
   "cell_type": "markdown",
   "metadata": {
    "coq_kernel_metadata": {
     "auto_roll_back": true
    }
   },
   "source": [
    "### 次のCell を一つづつ実行して、各tacticsの働きを確認せよ。"
   ]
  },
  {
   "cell_type": "code",
   "execution_count": null,
   "metadata": {
    "coq_kernel_metadata": {
     "auto_roll_back": true,
     "cell_id": "83cfabb8e17a47208655e14fbb596b07",
     "execution_id": "f5dc6ba4eb8a46a39e1978218cb6f265"
    }
   },
   "outputs": [],
   "source": [
    "Theorem  plus_id'' : (forall n m o : nat , n = m -> m = o -> n + m = m + o ).\n",
    "Proof."
   ]
  },
  {
   "cell_type": "code",
   "execution_count": null,
   "metadata": {
    "coq_kernel_metadata": {
     "auto_roll_back": true,
     "cell_id": "4580499d9ef14d00b46af5bebb1f1188",
     "execution_id": "2939e6b658b748e081271341187a8480"
    }
   },
   "outputs": [],
   "source": [
    "  intros n m o."
   ]
  },
  {
   "cell_type": "code",
   "execution_count": null,
   "metadata": {
    "coq_kernel_metadata": {
     "auto_roll_back": true,
     "cell_id": "aa82923cd0f94b169fc0af0bf16d56d4",
     "execution_id": "89807ca60aea47a79565835476260dbf"
    }
   },
   "outputs": [],
   "source": [
    "  intros n_eq_m m_eq_o."
   ]
  },
  {
   "cell_type": "code",
   "execution_count": null,
   "metadata": {
    "coq_kernel_metadata": {
     "auto_roll_back": true,
     "cell_id": "0c4df51b71904210bc19e5e224648ded",
     "execution_id": "44c5a197f9a74d1b90f9f1e2e6bd58dc"
    }
   },
   "outputs": [],
   "source": [
    "  rewrite -> n_eq_m."
   ]
  },
  {
   "cell_type": "code",
   "execution_count": null,
   "metadata": {
    "coq_kernel_metadata": {
     "auto_roll_back": true,
     "cell_id": "59474170d17e41b28954b1a63496918a",
     "execution_id": "19106ae0291f4942894aa04e334fe4ee"
    }
   },
   "outputs": [],
   "source": [
    "  rewrite <- m_eq_o."
   ]
  },
  {
   "cell_type": "code",
   "execution_count": null,
   "metadata": {
    "coq_kernel_metadata": {
     "auto_roll_back": true,
     "cell_id": "5cdaf6f5ad7440fabf472a35074dfa4c",
     "execution_id": "071cb3f85f9146b0804987db9666841d"
    }
   },
   "outputs": [],
   "source": [
    "  reflexivity."
   ]
  },
  {
   "cell_type": "code",
   "execution_count": null,
   "metadata": {
    "coq_kernel_metadata": {
     "auto_roll_back": true,
     "cell_id": "b105484bcd2a42ba8895228d3d913209",
     "execution_id": "ba3cd47f67324ad2ad76ab98a3365e0f"
    }
   },
   "outputs": [],
   "source": [
    "Qed."
   ]
  },
  {
   "cell_type": "markdown",
   "metadata": {
    "coq_kernel_metadata": {
     "auto_roll_back": true
    }
   },
   "source": [
    "<a id=\"ans26\"></a>\n",
    "## 演習問題 2-6  解答\n",
    "　<font size=\"4\">次の定理を証明せよ。</font>\n",
    " <font color=\"blue\"　size=\"4\"><br> Theorem mult_0_plus : (forall n m : nat , ( 0 + n ) \\* m =  n \\* m ).</font>\n",
    "\n",
    "[作業用ページで証明をして見る](#ex26)　/ [演習問題に戻る](./2-Equal.ipynb#ex26 ) \n",
    "\n",
    "## 解答\n",
    "```\n",
    "Theorem  mult_0_plus : (forall n m : nat , ( 0 + n ) * m =  n * m ).\n",
    "Proof.\n",
    "  intros.\n",
    "  simpl.\n",
    "  reflexivity.\n",
    "Qed.\n",
    "```\n",
    "\n",
    "### 下のCellを実行して確かめよ。"
   ]
  },
  {
   "cell_type": "code",
   "execution_count": null,
   "metadata": {
    "coq_kernel_metadata": {
     "auto_roll_back": true,
     "cell_id": "e49033869b214d8c8d346dd2c3296546",
     "execution_id": "5c1539e0becc40cc9eee12e4d66ed676"
    }
   },
   "outputs": [],
   "source": [
    "Theorem  mult_0_plus' : (forall n m : nat , ( 0 + n ) * m =  n * m ).\n",
    "Proof.\n",
    "  intros.\n",
    "  simpl.\n",
    "  reflexivity.\n",
    "Qed."
   ]
  },
  {
   "cell_type": "markdown",
   "metadata": {
    "coq_kernel_metadata": {
     "auto_roll_back": true
    }
   },
   "source": [
    "### 次のCell を一つづつ実行して、各tacticsの働きを確認せよ。"
   ]
  },
  {
   "cell_type": "code",
   "execution_count": null,
   "metadata": {
    "coq_kernel_metadata": {
     "auto_roll_back": true,
     "cell_id": "6fcbbe0785014fee9640938f9122ae38",
     "execution_id": "c1657dea40bf4e359eab919e2b605001"
    }
   },
   "outputs": [],
   "source": [
    "Theorem  mult_0_plus'' : (forall n m : nat , ( 0 + n ) * m =  n * m ).\n",
    "Proof."
   ]
  },
  {
   "cell_type": "code",
   "execution_count": null,
   "metadata": {
    "coq_kernel_metadata": {
     "auto_roll_back": true,
     "cell_id": "352080e8b7d14ad98e8abdb6fd3dea37",
     "execution_id": "ba0f0df2e22b4c0c84b2dd91825f236e"
    }
   },
   "outputs": [],
   "source": [
    "  intros."
   ]
  },
  {
   "cell_type": "code",
   "execution_count": null,
   "metadata": {
    "coq_kernel_metadata": {
     "auto_roll_back": true,
     "cell_id": "26a31562ca37427b91a8041253f1b43f",
     "execution_id": "3278cf593d1c4aa78b6fb485e9e972e3"
    }
   },
   "outputs": [],
   "source": [
    "  simpl."
   ]
  },
  {
   "cell_type": "code",
   "execution_count": null,
   "metadata": {
    "coq_kernel_metadata": {
     "auto_roll_back": true,
     "cell_id": "5ddc3c68fa56466c86cf7a0beb8b7142",
     "execution_id": "159f48880f0b4f9c812cd7b90f7e44b3"
    }
   },
   "outputs": [],
   "source": [
    "  reflexivity."
   ]
  },
  {
   "cell_type": "code",
   "execution_count": null,
   "metadata": {
    "coq_kernel_metadata": {
     "auto_roll_back": true,
     "cell_id": "68c4b72319484203849d2393557264b3",
     "execution_id": "64e0751844474d538000cf4564f2f258"
    }
   },
   "outputs": [],
   "source": [
    "Qed."
   ]
  },
  {
   "cell_type": "markdown",
   "metadata": {
    "coq_kernel_metadata": {
     "auto_roll_back": true
    }
   },
   "source": [
    "<a id=\"ans27\"></a>\n",
    "## 演習問題 2-7  解答\n",
    "　<font size=\"4\">次の定理を証明せよ。</font>\n",
    " <font color=\"blue\"　size=\"4\"><br> Theorem mult_S_1 : (forall n m : nat, m = S n -> m \\* (1 + n) = m \\* m).</font>\n",
    "\n",
    "[作業用ページで証明をして見る](#ex27)　/ [演習問題に戻る](./2-Equal.ipynb#ex27 ) \n",
    "\n",
    "## 解答\n",
    "```\n",
    "Theorem  mult_S_1 : (forall n m : nat, m = S n -> m * (1 + n) = m * m).\n",
    "Proof.\n",
    "  intros n m m_eq_Sn.\n",
    "  simpl.\n",
    "  rewrite -> m_eq_Sn.\n",
    "  reflexivity.\n",
    "Qed.\n",
    "```\n",
    "\n",
    "### 下のCellを実行して確かめよ。"
   ]
  },
  {
   "cell_type": "code",
   "execution_count": null,
   "metadata": {
    "coq_kernel_metadata": {
     "auto_roll_back": true,
     "cell_id": "5a6dbc06fcc043a49e941f2a1b78d0e1",
     "execution_id": "6907efc130a34bfcaa4df253744a60ed"
    }
   },
   "outputs": [],
   "source": [
    "Theorem  mult_S_1' : (forall n m : nat, m = S n -> m * (1 + n) = m * m).\n",
    "Proof.\n",
    "  intros n m m_eq_Sn.\n",
    "  simpl.\n",
    "  rewrite -> m_eq_Sn.\n",
    "  reflexivity.\n",
    "Qed."
   ]
  },
  {
   "cell_type": "markdown",
   "metadata": {
    "coq_kernel_metadata": {
     "auto_roll_back": true
    }
   },
   "source": [
    "### 次のCell を一つづつ実行して、各tacticsの働きを確認せよ。"
   ]
  },
  {
   "cell_type": "code",
   "execution_count": null,
   "metadata": {
    "coq_kernel_metadata": {
     "auto_roll_back": true,
     "cell_id": "d33b3bc8cbc847cd85af8f972f70a815",
     "execution_id": "c4dc48f673dc42b1970d8b363e899144"
    }
   },
   "outputs": [],
   "source": [
    "Theorem  mult_S_1'' : (forall n m : nat, m = S n -> m * (1 + n) = m * m).\n",
    "Proof."
   ]
  },
  {
   "cell_type": "code",
   "execution_count": null,
   "metadata": {
    "coq_kernel_metadata": {
     "auto_roll_back": true,
     "cell_id": "654559204728428d82a8abbb5c0b70d9",
     "execution_id": "d2ab2a932a6142dd8579e7fd19ec5ca8"
    }
   },
   "outputs": [],
   "source": [
    "  intros n m m_eq_Sn."
   ]
  },
  {
   "cell_type": "code",
   "execution_count": null,
   "metadata": {
    "coq_kernel_metadata": {
     "auto_roll_back": true,
     "cell_id": "61f1a34c7fa14135a271b350ff2b98d9",
     "execution_id": "6fb58aacf2654d9b9b2772dd2b046209"
    }
   },
   "outputs": [],
   "source": [
    "  simpl."
   ]
  },
  {
   "cell_type": "code",
   "execution_count": null,
   "metadata": {
    "coq_kernel_metadata": {
     "auto_roll_back": true,
     "cell_id": "8887da4607a644ef84819291a393d3aa",
     "execution_id": "a3b03e1cf21446858437aaeee66ee853"
    }
   },
   "outputs": [],
   "source": [
    "  rewrite -> m_eq_Sn.\n",
    " "
   ]
  },
  {
   "cell_type": "code",
   "execution_count": null,
   "metadata": {
    "coq_kernel_metadata": {
     "auto_roll_back": true,
     "cell_id": "b1e7ff2179b24c749d5bd1ecbda9c9e3",
     "execution_id": "64b44f3322824d068e12241c437b6c40"
    }
   },
   "outputs": [],
   "source": [
    " reflexivity."
   ]
  },
  {
   "cell_type": "code",
   "execution_count": null,
   "metadata": {
    "coq_kernel_metadata": {
     "auto_roll_back": true,
     "cell_id": "5e4eb9a66ec44c5eacefd6c6c3ee4444",
     "execution_id": "6442ea1199f4443699709b25a8b452fc"
    }
   },
   "outputs": [],
   "source": [
    "Qed."
   ]
  },
  {
   "cell_type": "code",
   "execution_count": null,
   "metadata": {
    "coq_kernel_metadata": {
     "auto_roll_back": true
    }
   },
   "outputs": [],
   "source": []
  }
 ],
 "metadata": {
  "kernelspec": {
   "display_name": "Coq",
   "language": "coq",
   "name": "coq"
  },
  "language_info": {
   "file_extension": ".v",
   "mimetype": "text/x-coq",
   "name": "coq",
   "version": "8.9.1"
  }
 },
 "nbformat": 4,
 "nbformat_minor": 2
}
