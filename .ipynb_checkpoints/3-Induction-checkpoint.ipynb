{
 "cells": [
  {
   "cell_type": "markdown",
   "metadata": {
    "coq_kernel_metadata": {
     "auto_roll_back": true
    }
   },
   "source": [
    "<img src=\"./images/Logo1.png\"  width=\"800 px\" align=\"center\">"
   ]
  },
  {
   "cell_type": "markdown",
   "metadata": {
    "coq_kernel_metadata": {
     "auto_roll_back": true
    }
   },
   "source": [
    "　　　　[全体目次](./0-Contents.ipynb) 　[この章の演習問題へ](./1-induction-answer.ipynb)　　[前の章へ](./2-Equality.ipynb)　"
   ]
  },
  {
   "cell_type": "markdown",
   "metadata": {
    "coq_kernel_metadata": {
     "auto_roll_back": true
    }
   },
   "source": [
    "# <font color=\"blue\" size=\"6\">帰納的データ型と帰納法を用いた証明</font>"
   ]
  },
  {
   "cell_type": "markdown",
   "metadata": {
    "coq_kernel_metadata": {
     "auto_roll_back": true
    }
   },
   "source": [
    "<a id=\"sec1\"></a>\n",
    "# Coq での「型」について\n",
    "\n",
    "Coqでは、様々な「型」が利用できます。\n",
    "\n",
    "先の章では、<font color=\"red\">関数が型を持つ</font>ことを述べました。例えば、 \n",
    "- 引数に与えられたブール値の否定のブール値を返す関数 negb は、型 <font color=\"red\">bool -> bool</font> を持ちます。\n",
    "- 引数に与えられた２つのブール値が等しいか否かをブール値で返す関数 eqb は、型 <font color=\"red\">bool -> bool -> bool</font> を持ちます。 \n",
    "\n",
    "Coqでは、関数の他に、様々なデータ構造が「型」を持つものとして、定義されます。これは、他のプログラミング言語でも普通に行われていることですね。\n",
    "\n",
    "この章では、まず、Coqでのデータ型の定義の仕方について学びます。"
   ]
  },
  {
   "cell_type": "markdown",
   "metadata": {
    "coq_kernel_metadata": {
     "auto_roll_back": true
    }
   },
   "source": [
    "<a id=\"sec2\"></a>\n",
    "# 列挙によるデータ型の定義\n",
    "\n",
    "もっとも簡単なCoqでのデータ型の定義は、そのデータ型を構成する値を列挙することです。\n",
    "\n",
    "<a id=\"sec21\"></a>\n",
    "### 型 bool は、Coqではあらかじめ、次のように定義されています。\n",
    "\n",
    "```\n",
    "     Inductive bool : Type :=\n",
    "       | true\n",
    "       | false.\n",
    "```\n",
    "これは、型 bool が、true とfalse という２つの値から構成されていることを示します。\n",
    "この true　と false を、型 bool のコンストラクタと呼びます。\n",
    "\n",
    "列挙の数は、いくつあっても構いません。次の型 rgb の例では、型 rgb は、３つのコンストラクタ red, green, blueから構成されています。\n",
    "\n",
    "<a id=\"sec22\"></a>\n",
    "### 型 rgb の定義例\n",
    "```\n",
    "     Inductive rgb : Type :=\n",
    "       | red\n",
    "       | green\n",
    "       | blue.\n",
    "```"
   ]
  },
  {
   "cell_type": "markdown",
   "metadata": {
    "coq_kernel_metadata": {
     "auto_roll_back": true
    }
   },
   "source": [
    "<a id=\"sec23\"></a>\n",
    "## 定義済みの型から、新しい型を定義する\n",
    "\n",
    "今、定義した型 rgb から、次のように新しい型 color を定義することができます。\n",
    "```\n",
    "     Inductive color : Type :=\n",
    "       | black\n",
    "       | white\n",
    "       | primary (p : rgb).\n",
    "```\n",
    "- red, green, blue は、型 rgb のコンストラクタでした。\n",
    "- ですので、redも greenも redも、型rgbに属します。\n",
    "- 型 color のコンストラクタは、black, white, primary です。\n",
    "- blackも whiteも、型color に属します。　\n",
    "\n",
    "#### colorのコンストラクタ primary は、どのような意味を持つのでしょう？　\n",
    "- primary はcolor のコンストラクタですので、それに引数 p を与えた結果の値は、colorに属します。\n",
    "- primaryの引数の p : rgbに注目してください。このコンストラクタが colorに属する値を返すのは、pがrgbに属する場合だけです。\n",
    "- ですので、primary red , primary green, primary blue が color に属することになります。\n",
    "- colorに属するのは、最初の black, whiteに加えて、この３つの場合、あわせて5つの場合だけです。\n",
    "\n",
    "このcolorの定義は、次のように書くこともできます。こちらの方が、コンストラクタの働きがみやすいかもしれません。\n",
    "\n",
    "```\n",
    "     Inductive color : Type :=\n",
    "       | black : color\n",
    "       | white : color\n",
    "       | primary : rgb -> color .\n",
    "```\n",
    "\n",
    "color型の定義の中に、color型が利用されています。"
   ]
  },
  {
   "cell_type": "markdown",
   "metadata": {
    "coq_kernel_metadata": {
     "auto_roll_back": true
    }
   },
   "source": [
    "<a id=\"sec3\"></a>\n",
    "# 帰納的データ型\n",
    "<a id=\"sec31\"></a>\n",
    "## Coqでの自然数の定義\n",
    "#### Coqでは、自然数の型 nat は次のように「帰納的」に定義されます。\n",
    "```\n",
    "    Inductive nat : Set :=\n",
    "      | O : nat\n",
    "      | S : nat -> nat.\n",
    "```\n",
    "この定義は、 nat型 はOとSという２つのコンストラクタから構成されることを表しています。\n",
    "Sの型は nat -> nat ですので、Sは natからnatへの関数です。\n",
    "\n",
    "- 最初のコンストラクタ O を見ると、O:nat ですので、Oはnat に属することがわかります。\n",
    "- 二つ目のコンストラクタを使うと、O:natですので、(S O)も、natに属することがわかります。S(O):natです。\n",
    "- (S O):nat がわかりましたので、再び、コンストラクタSを(S O)に適用すると、（S(S(O)))もnatに属すことが分かります。\n",
    "- こうして、O, （S O), (S (S O)), (S (S (S O)))), (S (S (S (S O)))), .... もnat に属することになります。\n",
    "- これが、0, 1, 2, 3, 4, ...に対応します。\n",
    "\n",
    "直観的には、Sは、ある自然数 nの次の自然数（Successor）を表しています。<font color=\"red\">S n = 1 + n</font> です。 \n"
   ]
  },
  {
   "cell_type": "markdown",
   "metadata": {
    "coq_kernel_metadata": {
     "auto_roll_back": true
    }
   },
   "source": [
    "<div class=\"alert alert-block alert-info\">\n",
    "\n",
    "<a id=\"sec32\"></a>\n",
    "## t : T という表記の意味\n",
    "\n",
    "これまで、なんども使っていながら、その意味をきちんと説明していなかった表記法があります。\n",
    "\n",
    "それは、コロンをはさんだ <font color=\"red\">t : T</font>という表記です。\n",
    "\n",
    "この章に入ってからも、たくさん出てきています\n",
    "```\n",
    "     Inductive bool : Type := ...\n",
    "     Inductive color : Type := ...\n",
    "     primary (p : rgb).\n",
    "     primary : rgb -> color.\n",
    "     Inductive nat : Set := ...\n",
    "     O : nat\n",
    "     S : nat -> nat.\n",
    "\n",
    "```\n",
    "### この表記は、<font color=\"blue\">term</font> : <font color=\"red\">Type</font> で、ある項 <font color=\"blue\">term</font>が型 <font color=\"red\">Type</font>に属することを意味します。<br>「ある項 <font color=\"blue\">term</font>が型 <font color=\"red\">Type</font>を持つ」と読んでも構いません。\n",
    "\n",
    "先の例について言えば、次のような意味になります。\n",
    "\n",
    "```\n",
    "     Inductive bool : Type := ...　　　　　　　　　boolは、型Typeに属する\n",
    "     Inductive color : Type := ...　　　　　　　　colorは、型Typeに属する \n",
    "     primary (p : rgb). 　　　　　　　　　　　　　　　　　　　　　　p は、型rgbに属する\n",
    "     primary : rgb -> color.　　　　　　　　　　　　　　　　primaryは、型 rgb -> color に属する　　　　　　　　　　　\n",
    "     Inductive nat : Set := ...　　　　　　　　　　　　　natは、型Setに属する\n",
    "     O : nat　　　　　　　　　　　　　　　　　　　　　　　　　　　　　　　　　　　　　　　 Oは、型nat に属する\n",
    "     S : nat -> nat.　　　　　　　　　　　　　　　　　　　　　　　　　　　　　Sは、型natに属する\n",
    "\n",
    "```\n",
    "</div>"
   ]
  },
  {
   "cell_type": "markdown",
   "metadata": {
    "coq_kernel_metadata": {
     "auto_roll_back": true
    }
   },
   "source": [
    "<a id=\"sec4\"></a>\n",
    "# 帰納法を使った命題の証明\n",
    "\n",
    "#### 前章では、数学的帰納法を使わず、simpl (「計算」による「簡略化」)と rewrite(「代入」による「書き換え」)を使って、関数を含んだ証明を行なってきました。ただ、少なくない問題が、こうしたアプローチだけでは証明できません。<br>例えば、0 + n = n は示すことができるのですが、n + 0 = n を証明することはできません。 \n"
   ]
  },
  {
   "cell_type": "markdown",
   "metadata": {
    "coq_kernel_metadata": {
     "auto_roll_back": true
    }
   },
   "source": [
    "<a id=\"sec41\"></a>\n",
    "<div class=\"alert alert-block alert-info\">\n",
    "\n",
    "## 数学的帰納法について\n",
    "\n",
    "次のような推論を、数学的帰納法と呼びます。\n",
    "\n",
    "ある命題Pが全ての自然数で成り立つことを示すのに、次の２つの仮説を証明します。\n",
    "   1. <font color=\"blue\">Pはゼロで成り立つ。</font> <font color=\"red\">P(0).</font>\n",
    "   1. <font color=\"blue\">もし、Pがnで成り立つなら、Pはn+1でも成り立つ。</font><font color=\"red\">P(n) -> P(n+1).</font>\n",
    "\n",
    "この時、<font color=\"blue\">全ての自然数nについてPが成り立つ</font>ことが証明できます。</font><font color=\"red\"> forall n , P(n). </font>\n",
    "\n",
    "数学的帰納法は、その名前に反して、数学的演繹の強力な手段です。\n",
    "\n",
    "</div>"
   ]
  },
  {
   "cell_type": "markdown",
   "metadata": {
    "coq_kernel_metadata": {
     "auto_roll_back": true
    }
   },
   "source": [
    "<a id=\"sec42\"></a>\n",
    "## 帰納法を使った証明の例 1： n + 0 = n.\n",
    "\n",
    "次の定理を証明してみましょう。\n",
    "各セルを確認しながら、実行してみてください。"
   ]
  },
  {
   "cell_type": "code",
   "execution_count": null,
   "metadata": {
    "coq_kernel_metadata": {
     "auto_roll_back": true,
     "cell_id": "de3e5317c3954cee9ba70909222bc9ef",
     "execution_id": "dcad24ffe740485fa65759e4406030ee"
    },
    "scrolled": true
   },
   "outputs": [],
   "source": [
    "Theorem plus_n_O_sample : (forall n : nat, n + 0 = n).\n",
    "Proof."
   ]
  },
  {
   "cell_type": "code",
   "execution_count": null,
   "metadata": {
    "coq_kernel_metadata": {
     "auto_roll_back": true,
     "cell_id": "89a8a2580d36481d8aa567e74ee7bd69",
     "execution_id": "53ab6992af444d85b9ff69f23ed7dd8a"
    }
   },
   "outputs": [],
   "source": [
    "(* intros で forall を削除します*)\n",
    "intros."
   ]
  },
  {
   "cell_type": "code",
   "execution_count": null,
   "metadata": {
    "coq_kernel_metadata": {
     "auto_roll_back": true,
     "cell_id": "b8d0771103f3440ebac95fc57e7cc70e",
     "execution_id": "b3ee861252594cff921096502a1478a8"
    }
   },
   "outputs": [],
   "source": [
    "(* nについての帰納法を使います。 *)\n",
    "induction n.\n",
    "\n",
    "(* n = 0 の場合と、それ以外の場合に、サブゴールが２つに分かれます。*)"
   ]
  },
  {
   "cell_type": "code",
   "execution_count": null,
   "metadata": {
    "coq_kernel_metadata": {
     "auto_roll_back": true,
     "cell_id": "8d33d5ae9e69439681cd08ceca296d6f",
     "execution_id": "9dc54c8555774a029d1addf6493b9949"
    }
   },
   "outputs": [],
   "source": [
    "(* n = 0 の場合のサブゴールは、reflexivity で証明できます。*)\n",
    "reflexivity.\n",
    "\n",
    "(* これでサブゴールが１つになります。*)"
   ]
  },
  {
   "cell_type": "code",
   "execution_count": null,
   "metadata": {
    "coq_kernel_metadata": {
     "auto_roll_back": true,
     "cell_id": "fdd50c36e2794f2697dd1f6cb44f3a41",
     "execution_id": "5838f44a27e042fc84009e001ecdcc4d"
    }
   },
   "outputs": [],
   "source": [
    "(* simpl でサブゴールを簡単にします。 *)\n",
    "simpl."
   ]
  },
  {
   "cell_type": "code",
   "execution_count": null,
   "metadata": {
    "coq_kernel_metadata": {
     "auto_roll_back": true,
     "cell_id": "dd83a83341294653adceed3a9a54e0b6",
     "execution_id": "79963099a15d4fc6844ebfc770652f28"
    }
   },
   "outputs": [],
   "source": [
    "(* 仮説部の IHn の左項をサブゴールに代入します。*)\n",
    "rewrite -> IHn."
   ]
  },
  {
   "cell_type": "code",
   "execution_count": null,
   "metadata": {
    "coq_kernel_metadata": {
     "auto_roll_back": true,
     "cell_id": "ec31710d72e64e4f97c77d7d6ecab406",
     "execution_id": "46654a3c945a49bc99fb61c78f5023bd"
    }
   },
   "outputs": [],
   "source": [
    "(* このサブゴールには、reflexivity が使えます。 *)\n",
    "reflexivity."
   ]
  },
  {
   "cell_type": "code",
   "execution_count": null,
   "metadata": {
    "coq_kernel_metadata": {
     "auto_roll_back": true,
     "cell_id": "bd47b455223b49c786af762c171625c9",
     "execution_id": "2452c30bc6f9490d8c89927d4bb00ea2"
    },
    "scrolled": true
   },
   "outputs": [],
   "source": [
    "(* これで、証明終わりです。 *)\n",
    "Qed."
   ]
  },
  {
   "cell_type": "markdown",
   "metadata": {
    "coq_kernel_metadata": {
     "auto_roll_back": true
    }
   },
   "source": [
    "<a id=\"sec43\"></a>\n",
    "## 帰納法を使った証明の例 2： S (n + m) = n + (S m).\n",
    "\n",
    "次の定理を証明してみましょう。\n",
    "各セルを確認しながら、実行してみてください。"
   ]
  },
  {
   "cell_type": "code",
   "execution_count": null,
   "metadata": {
    "coq_kernel_metadata": {
     "auto_roll_back": true,
     "cell_id": "9b9b03330dff4a118db9613fea507f03",
     "execution_id": "e138d3836be44afd8de504abe64b26fe"
    },
    "scrolled": true
   },
   "outputs": [],
   "source": [
    "Theorem  plus_n_Sm_sample : (forall n m : nat, S (n + m) = n + (S m) ).\n",
    "Proof."
   ]
  },
  {
   "cell_type": "code",
   "execution_count": null,
   "metadata": {
    "coq_kernel_metadata": {
     "auto_roll_back": true,
     "cell_id": "5504e7fc0ede4e8397de9a2c474c26a3",
     "execution_id": "3c2dc5d3eae642958c358e96c65cb820"
    }
   },
   "outputs": [],
   "source": [
    "(* intros で forall を削除します。 *)\n",
    "intros."
   ]
  },
  {
   "cell_type": "code",
   "execution_count": null,
   "metadata": {
    "coq_kernel_metadata": {
     "auto_roll_back": true,
     "cell_id": "a8e1ff4ed74148ca89a5c15f11aea1db",
     "execution_id": "09e349d6473b4d9baff0106650967c79"
    }
   },
   "outputs": [],
   "source": [
    "(* n についての帰納法を使います。*)\n",
    "induction n.\n",
    "\n",
    "(* n = 0 の場合と、それ以外の場合に、サブゴールが２つに分かれます。*)"
   ]
  },
  {
   "cell_type": "code",
   "execution_count": null,
   "metadata": {
    "coq_kernel_metadata": {
     "auto_roll_back": true,
     "cell_id": "40881130d4444dc5874e1e1933bc93a2",
     "execution_id": "7aa870d734b045ebaafdbf33ae21fb29"
    }
   },
   "outputs": [],
   "source": [
    "(* simpl でサブゴールを簡単にします。 *)\n",
    "simpl."
   ]
  },
  {
   "cell_type": "code",
   "execution_count": null,
   "metadata": {
    "coq_kernel_metadata": {
     "auto_roll_back": true,
     "cell_id": "cb611fc2fcc94ef68ee9612d53b736c4",
     "execution_id": "32e4d21b636e481b80ea5ffd6991cf85"
    }
   },
   "outputs": [],
   "source": [
    "(* １つ目のサブゴール（ n = 0 の場合）　にはreflexivity が使えます。*)\n",
    "reflexivity.\n",
    "\n",
    "(* これで n = 0 の場合が証明できました。サブゴールは１つになります。 *)"
   ]
  },
  {
   "cell_type": "code",
   "execution_count": null,
   "metadata": {
    "coq_kernel_metadata": {
     "auto_roll_back": true,
     "cell_id": "b0febbe539c345ea8754d55f0578e3ce",
     "execution_id": "1fe423bdbf024c25b22bd2330601e332"
    }
   },
   "outputs": [],
   "source": [
    "(* simpl でサブゴールを簡単にします。 *)\n",
    "simpl."
   ]
  },
  {
   "cell_type": "code",
   "execution_count": null,
   "metadata": {
    "coq_kernel_metadata": {
     "auto_roll_back": true,
     "cell_id": "fb36ed06a39242638daf30b99c23fb99",
     "execution_id": "7e099d0e0da24448b39950ec208439e5"
    },
    "scrolled": true
   },
   "outputs": [],
   "source": [
    "(* 仮説 IHn　の左辺をサブゴールに代入します。 *)\n",
    "rewrite -> IHn."
   ]
  },
  {
   "cell_type": "code",
   "execution_count": null,
   "metadata": {
    "coq_kernel_metadata": {
     "auto_roll_back": true,
     "cell_id": "edc966fdf23041b980aa233a5c7bc9e1",
     "execution_id": "31a350396eb843d6b29d61f473d3f3d1"
    }
   },
   "outputs": [],
   "source": [
    "(* これで、サブゴールにreflexivity が使えます。 *)\n",
    "reflexivity."
   ]
  },
  {
   "cell_type": "code",
   "execution_count": null,
   "metadata": {
    "coq_kernel_metadata": {
     "auto_roll_back": true,
     "cell_id": "264c2ccc6b2e4a6badf07536c469c117",
     "execution_id": "233ff8b0e0be4b0183d926270b94cf01"
    },
    "scrolled": true
   },
   "outputs": [],
   "source": [
    "(* これで証明終わりです*)\n",
    "Qed."
   ]
  },
  {
   "cell_type": "markdown",
   "metadata": {
    "coq_kernel_metadata": {
     "auto_roll_back": true
    }
   },
   "source": [
    "<a id=\"sec5\"></a>\n",
    "# 帰納法を使う場合の証明の流れ\n",
    "\n",
    "改めて、帰納法の原理を確認しておきましょう。\n",
    "\n",
    "ある命題Pが全ての自然数で成り立つことを示すのに、次の２つの仮説を証明します。\n",
    "   1. ### <font color=\"blue\">Pはゼロで成り立つ。</font> <font color=\"red\">P(0).</font>\n",
    "   1.  ### <font color=\"blue\">もし、Pがnで成り立つなら、Pはn+1でも成り立つ。</font><font color=\"red\">P(n) -> P(n+1).</font>\n",
    "   \n",
    "<a id=\"sec51\"></a>\n",
    "### Coqでの帰納法による nについての証明の開始は、tactic <font color=\"red\">induction n.</font>を用います。\n",
    "-  このコマンドを投入すると、サブゴールが２つに分かれます。・\n",
    "-  ２つのサブゴールの１つ目は、n=0 の場合に P(0)が成り立つことの証明です。\n",
    "-  ２つのサブゴールの２つ目は、n=0 以外の場合、すなわち n = S n' の場合の証明です。\n",
    "-  この２つ目の証明は、もし、Pがnで成り立つなら、Pはn+1でも成り立つことの証明です。\n",
    "-  ２つのサブゴールの両方が証明できれば、全ての自然数 nに対して P(n)が成り立つことの証明ができます。\n",
    "\n",
    "<a id=\"sec52\"></a>\n",
    "### induction nを用いた証明の留意点\n",
    "\n",
    "- 証明の進行は、Coqが自動的にコントロールします。P(0)の証明から始まり、次に、P(n) -> P(n+1)の証明にステージが移ります。我々は、提示されたサブゴールを解くだけです。\n",
    "- 複数のサブゴールがある場合、それらのサブゴールは全て表示されますが、それぞれのサブゴールの仮説部分は、現在のサブゴールの仮説部分以外、表示されません。\n",
    "- nについての帰納法での証明の内部で、たとえばmについての帰納法を呼ぶことができます。こうした場合には特に、帰納法のステップのどのステージにいるかの確認が必要です。いろいろ対応の仕方はあるのですが、今回の解答では、コメントで注意する以外の方法は特に取っていません。\n",
    "- 演習問題 3-5 では、n についての帰納法の内部で、mについての帰納法を呼んでいます。他にも解き方はあるのですが。[演習問題3-5 の解答](./3-induction-answer.ipynb#ans35)のコメントを読んでみてください。"
   ]
  },
  {
   "cell_type": "markdown",
   "metadata": {
    "coq_kernel_metadata": {
     "auto_roll_back": true
    }
   },
   "source": [
    "<a id=\"sec6\"></a>\n",
    "# Coqのライブラリーの利用\n",
    "\n",
    "### 今回のハンズオンの演習問題では、演習問題として実際に自分で解いた証明済の定理のみを使って、証明を行うことを原則としています。\n",
    "\n",
    "それは、このハンズオンが、Coqでの証明スキルを学ぶことを目的にしているからです。\n",
    "\n",
    "第一章の最後に、tactic tauto を紹介しました。このtacticは、命題論理の大部分を自動的に証明します。実際には、わざわざ命題論理の命題を証明しなくても、Coqはそれを解いてくれます。それでも基本的な命題論理の証明方法を学ぶことは、Coqで証明を行う上での基本になります。\n",
    "\n",
    "同時に、「実際に自分で解いた証明済の定理のみを使う」というのは、Coqの実際の応用の場面では、とても強い制限になることに注意してください。\n",
    "\n",
    "ここでは、重要なことが二つあります。一つは、何かを証明するためには、証明済の命題のみに依拠しなければならないということです。「自明のことだろう」で済ますわけには行かないのです。それは、数学的な方法にとっては、本質的に重要なことです。\n",
    "\n",
    "ただ、もう一つ重要なことは、その命題を、「実際に自分で解く」必要はないということです。誰が証明したかわからなくても、さらには、その証明の詳細を知らなくても、「その定理が正しいものである限り」、我々はその定理を利用できます。\n",
    "\n",
    "それは、Coqの応用に限らず、数学の応用全般について言えることです。この原理はとても強力なものです。実際の場面では、この原理を利用しない手はないのです。\n",
    "\n",
    "<div class=\"alert alert-block alert-info\">\n",
    "今回は、詳しく述べることはできませんが、数学の自由な定理利用の背景には、「本当にその定理は正しいのか？」という基本的な疑問が潜在的には存在します。こうした厄介な問題にたいしても、Coqはとてもスマートな解決方法を提供します。それは、ある定理が、Coqでの証明という形で提供されているなら、その証明が正しいか否かを、我々は簡単に「検証」できるということです。\n",
    "\n",
    "ソフトウェア・エンジニアリングでの \"Deep Specification\" や、数学での \"UniMath\" といった注目すべきムーブメントは、Coqのこうした能力によってドライブされています。\n",
    "</div>"
   ]
  },
  {
   "cell_type": "markdown",
   "metadata": {
    "coq_kernel_metadata": {
     "auto_roll_back": true
    }
   },
   "source": [
    "<a id=\"sec61\"></a>\n",
    "### Coqでは、多数の証明済みの命題がライブラリーとして提供されています。\n",
    "\n",
    "実は、今回のハンズオンの演習課題の多くは、Coqのライブラリー Arith から採用したものです。例えば、\n",
    "- 「演習問題 3-3」 は、ライブラリー上では、Nat.mul_0_r として、証明済です。\n",
    "- 「演習問題 3-4」 は、ライブラリー上では、Nat.add_succ_r  (左右が逆だが)として、証明済です。\n",
    "- 「演習問題 3-5」 は、ライブラリー上では、Nat.add_comm として、証明済です。\n",
    "\n",
    "第一章の演習課題が、tauto を使えば瞬時に解けるように、この章の演習課題も、Coqのライブラリーを使えば、簡単に解けてしまいます。（詳細については、解答編の[「Coq ライブラリーの利用について」](./3-induction-answer.ipynb#coqlib)を参照ください。）それでは、証明スキルを学ぶことにはなりません。\n",
    "\n",
    "演習課題の一部は、ライブラリーの利用の練習も兼ねて、Coqライブラリーを使っています。次のサンプルを実行してみてください。\n",
    "\n",
    "<a id=\"sec62\"></a>\n",
    "## Coq ライブラリーを利用した証明の例 :   n * m = m * n\n",
    "\n",
    "冒頭の <font color=\"blue\">Require import Arith</font> が、ライブラリーの呼び出しです。\n",
    "\n",
    "この証明では、二箇所で、次のような形でCoqライブラリーを利用しています。\n",
    "- rewrite -> Nat.mul_0_r.\n",
    "- rewrite -> Nat.mul_succ_r.\n",
    "\n",
    "もっとも、この命題自身、Coqライブラリーでは、すでに証明済のものとして登録されています。"
   ]
  },
  {
   "cell_type": "code",
   "execution_count": null,
   "metadata": {
    "coq_kernel_metadata": {
     "auto_roll_back": true
    }
   },
   "outputs": [],
   "source": [
    "Require Import Arith.  (* Arith ライブラリーを読み込む*)\n",
    "\n",
    "Theorem  mult_comm_sample : (forall n m : nat,  n * m = m * n ).\n",
    "Proof."
   ]
  },
  {
   "cell_type": "code",
   "execution_count": null,
   "metadata": {
    "coq_kernel_metadata": {
     "auto_roll_back": true
    }
   },
   "outputs": [],
   "source": [
    "(* forall の削除 *)\n",
    "intros."
   ]
  },
  {
   "cell_type": "code",
   "execution_count": null,
   "metadata": {
    "coq_kernel_metadata": {
     "auto_roll_back": true
    }
   },
   "outputs": [],
   "source": [
    "(* n についての帰納法を使う *)\n",
    "induction n.\n",
    "\n",
    "(* n = 0 　の場合と、\n",
    "　　　　n = S n' の場合で、サブゴールが二つに分かれる。 *)"
   ]
  },
  {
   "cell_type": "code",
   "execution_count": null,
   "metadata": {
    "coq_kernel_metadata": {
     "auto_roll_back": true
    }
   },
   "outputs": [],
   "source": [
    "(* n = 0 の場合 *)\n",
    "(* サブゴールを簡単にする。 *)\n",
    "simpl."
   ]
  },
  {
   "cell_type": "code",
   "execution_count": null,
   "metadata": {
    "coq_kernel_metadata": {
     "auto_roll_back": true
    }
   },
   "outputs": [],
   "source": [
    "(* n = 0 の場合 *)\n",
    "(* サブゴールを、Nat.mul_0_r の左項で書き換える。 *)\n",
    "(* Nat.mul_0_r\n",
    "     : forall n : nat, n * 0 = 0\n",
    "で、「演習問題 3-3」で証明した　 mult_0_r と同じものである。*)\n",
    "\n",
    "rewrite -> Nat.mul_0_r."
   ]
  },
  {
   "cell_type": "code",
   "execution_count": null,
   "metadata": {
    "coq_kernel_metadata": {
     "auto_roll_back": true
    }
   },
   "outputs": [],
   "source": [
    "(* n = 0 の場合 *)\n",
    "(* サブゴールにreflexivity が使える。 *)\n",
    "reflexivity.\n",
    "\n",
    "(* n = 0 の場合、証明終わり。サブゴールは一つになる。\n",
    "　　　　n = S n' の場合の証明に移る。*)"
   ]
  },
  {
   "cell_type": "code",
   "execution_count": null,
   "metadata": {
    "coq_kernel_metadata": {
     "auto_roll_back": true
    }
   },
   "outputs": [],
   "source": [
    "(* n = S n' の場合 *)\n",
    "(* サブゴールを簡単にする。*)\n",
    "simpl."
   ]
  },
  {
   "cell_type": "code",
   "execution_count": null,
   "metadata": {
    "coq_kernel_metadata": {
     "auto_roll_back": true
    }
   },
   "outputs": [],
   "source": [
    "(* n = S n' の場合 *)\n",
    "(* サブゴールを IHnの左項で書き換える。*)\n",
    "rewrite -> IHn."
   ]
  },
  {
   "cell_type": "code",
   "execution_count": null,
   "metadata": {
    "coq_kernel_metadata": {
     "auto_roll_back": true
    }
   },
   "outputs": [],
   "source": [
    "(* n = S n' の場合 *)\n",
    "(* サブゴールを Nat.mul_succ_r の左項で書き換える。*)\n",
    "(* Nat.add_succ_r\n",
    "     : forall n m : nat, n + S m = S (n + m)\n",
    "で、「演習問題　3-4」で証明した plus_n_Sm と同じものである。*)\n",
    "\n",
    "rewrite -> Nat.mul_succ_r."
   ]
  },
  {
   "cell_type": "code",
   "execution_count": null,
   "metadata": {
    "coq_kernel_metadata": {
     "auto_roll_back": true
    }
   },
   "outputs": [],
   "source": [
    "Qed."
   ]
  },
  {
   "cell_type": "markdown",
   "metadata": {
    "coq_kernel_metadata": {
     "auto_roll_back": true
    }
   },
   "source": [
    "　　　　[全体目次](./0-Contents.ipynb) 　[この章の演習問題へ](./1-induction-answer.ipynb)　　[前の章へ](./2-Equality.ipynb)　"
   ]
  },
  {
   "cell_type": "markdown",
   "metadata": {
    "coq_kernel_metadata": {
     "auto_roll_back": true
    }
   },
   "source": [
    "# <font color=\"blue\">演習問題 3</font>\n",
    "\n",
    "[演習問題 3-1](./3-Induction.ipynb#ex11) [演習問題 3-2](./3-Induction.ipynb#ex12) [演習問題 3-3](./3-Induction.ipynb#ex13) [演習問題 3-4](./3-Induction.ipynb#ex14) [演習問題 3-5](./3-Induction.ipynb#ex15) [演習問題 3-6](./3-Induction.ipynb#ex16) [演習問題 3-7](./3-Induction.ipynb#ex17) [演習問題 3-8](./3-Induction.ipynb#ex18) "
   ]
  },
  {
   "cell_type": "markdown",
   "metadata": {
    "coq_kernel_metadata": {
     "auto_roll_back": true
    }
   },
   "source": [
    "<a id=\"ex31\"></a>\n",
    "## 演習問題 3-1\n",
    "　<font size=\"4\">次の定理を証明せよ。</font>\n",
    " <font color=\"blue\"　size=\"4\"><br>　Theorem plus_n_O : (forall n : nat, n + 0 = n).</font>\n",
    "\n",
    "[作業用ページで証明をしてみる](3-induction-answer.ipynb#ex31) / [ヒント: 解答のコメントを読む](3-induction-answer.ipynb#hint31) / [解答を見る](3-induction-answer.ipynb#ans31) "
   ]
  },
  {
   "cell_type": "markdown",
   "metadata": {
    "coq_kernel_metadata": {
     "auto_roll_back": true
    }
   },
   "source": [
    "<a id=\"ex32\"></a>\n",
    "## 演習問題 3-2\n",
    "　<font size=\"4\">次の定理を証明せよ。</font>\n",
    " <font color=\"blue\"　size=\"4\"><br>　Theorem minus_diag : (forall n : nat, minus n n = 0).</font>\n",
    "\n",
    "[作業用ページで証明をしてみる](3-induction-answer.ipynb#ex32) / [ヒント: 解答のコメントを読む](3-induction-answer.ipynb#hint32) / [解答を見る](3-induction-answer.ipynb#ex32) "
   ]
  },
  {
   "cell_type": "markdown",
   "metadata": {
    "coq_kernel_metadata": {
     "auto_roll_back": true
    }
   },
   "source": [
    "<a id=\"ex33\"></a>\n",
    "## 演習問題 3-3\n",
    "　<font size=\"4\">次の定理を証明せよ。</font>\n",
    " <font color=\"blue\"　size=\"4\"><br>　Theorem mult_0_r : (forall n : nat,  n * 0 = 0).</font>\n",
    "\n",
    "[作業用ページで証明をしてみる](3-induction-answer.ipynb#ex33) / [ヒント: 解答のコメントを読む](3-induction-answer.ipynb#hint33) / [解答を見る](3-induction-answer.ipynb#ans33)  "
   ]
  },
  {
   "cell_type": "markdown",
   "metadata": {
    "coq_kernel_metadata": {
     "auto_roll_back": true
    }
   },
   "source": [
    "<a id=\"ex34\"></a>\n",
    "## 演習問題 3-4\n",
    "　<font size=\"4\">次の定理を証明せよ。</font>\n",
    " <font color=\"blue\"　size=\"4\"><br>　Theorem plus_n_Sm : (forall n m : nat, S (n + m) = n + (S m) ).</font>\n",
    "\n",
    "[作業用ページで証明をしてみる](3-induction-answer.ipynb#ex34) / [ヒント: 解答のコメントを読む](3-induction-answer.ipynb#hint34) / [解答を見る](3-induction-answer.ipynb#ans34) "
   ]
  },
  {
   "cell_type": "markdown",
   "metadata": {
    "coq_kernel_metadata": {
     "auto_roll_back": true
    }
   },
   "source": [
    "<a id=\"ex35\"></a>\n",
    "## 演習問題 3-5\n",
    "　<font size=\"4\">次の定理を証明せよ。</font>\n",
    " <font color=\"blue\"　size=\"4\"><br>　Theorem plus_comm : (forall n m : nat, n + m = m + n ).</font>\n",
    "\n",
    "[作業用ページで証明をしてみる](3-induction-answer.ipynb#ex35) / [ヒント: 解答のコメントを読む](3-induction-answer.ipynb#hint35) / [解答を見る](3-induction-answer.ipynb#ans35) "
   ]
  },
  {
   "cell_type": "markdown",
   "metadata": {
    "coq_kernel_metadata": {
     "auto_roll_back": true
    }
   },
   "source": [
    "<a id=\"ex36\"></a>\n",
    "## 演習問題 3-6\n",
    "　<font size=\"4\">次の定理を証明せよ。</font>\n",
    " <font color=\"blue\"　size=\"4\"><br>　Theorem plus_assoc : (forall n m o : nat, n + (m +o)  = (n + m) + o ).</font>\n",
    "\n",
    "[作業用ページで証明をしてみる](3-induction-answer.ipynb#ex36) / [ヒント: 解答のコメントを読む](3-induction-answer.ipynb#hint36) / [解答を見る](3-induction-answer.ipynb#ans36) "
   ]
  },
  {
   "cell_type": "markdown",
   "metadata": {
    "coq_kernel_metadata": {
     "auto_roll_back": true
    }
   },
   "source": [
    "<a id=\"ex37\"></a>\n",
    "## 演習問題 3-7\n",
    "　<font size=\"4\">次の定理を証明せよ。</font>\n",
    " <font color=\"blue\"　size=\"4\"><br>　Theorem mul_succ_r : forall n m : nat,  n \\* S m = n \\* m + n  ).</font>\n",
    "\n",
    "[作業用ページで証明をしてみる](3-induction-answer.ipynb#ex37) / [ヒント: 解答のコメントを読む](3-induction-answer.ipynb#hint37) / [解答を見る](3-induction-answer.ipynb#ans37) "
   ]
  },
  {
   "cell_type": "markdown",
   "metadata": {
    "coq_kernel_metadata": {
     "auto_roll_back": true
    }
   },
   "source": [
    "<a id=\"ex38\"></a>\n",
    "## 演習問題 3-8\n",
    "　<font size=\"4\">次の定理を証明せよ。</font>\n",
    " <font color=\"blue\"　size=\"4\"><br>　Theorem mult_comm : (forall n m : nat,  n \\* m = m \\* n ).</font>\n",
    "\n",
    "[作業用ページで証明をしてみる](3-induction-answer.ipynb#ex38) / [ヒント: 解答のコメントを読む](3-induction-answer.ipynb#hint38) / [解答を見る](3-induction-answer.ipynb#ans38) "
   ]
  },
  {
   "cell_type": "markdown",
   "metadata": {
    "coq_kernel_metadata": {
     "auto_roll_back": true
    }
   },
   "source": [
    "　　　　[全体目次](./0-Contents.ipynb) 　[この章の演習問題へ](./1-induction-answer.ipynb)　　[前の章へ](./2-Equality.ipynb)　"
   ]
  }
 ],
 "metadata": {
  "kernelspec": {
   "display_name": "Coq",
   "language": "coq",
   "name": "coq"
  },
  "language_info": {
   "file_extension": ".v",
   "mimetype": "text/x-coq",
   "name": "coq",
   "version": "8.9.1"
  }
 },
 "nbformat": 4,
 "nbformat_minor": 2
}
