{
 "cells": [
  {
   "cell_type": "markdown",
   "metadata": {
    "coq_kernel_metadata": {
     "auto_roll_back": true
    }
   },
   "source": [
    "# 演習問題 3　作業用ページ\n",
    "\n",
    "[演習問題 3-1](./3-induction-answer.ipynb#ex11) [演習問題 3-2](./3-induction-answer.ipynb#ex12) [演習問題 3-3](./3-induction-answer.ipynb#ex13) [演習問題 3-4](./3-induction-answer.ipynb#ex14) [演習問題 3-5](./3-induction-answer.ipynb#ex15) [演習問題 3-6](./3-induction-answer.ipynb#ex16) [演習問題 3-7](./3-induction-answer.ipynb#ex17) [演習問題 3-8](./3-induction-answer.ipynb#ex18) "
   ]
  },
  {
   "cell_type": "markdown",
   "metadata": {
    "coq_kernel_metadata": {
     "auto_roll_back": true
    }
   },
   "source": [
    "<a id=\"ex31\"></a>\n",
    "## 演習問題 3-1  作業用\n",
    "　<font size=\"4\">次の定理を証明せよ。</font>\n",
    " <font color=\"blue\"　size=\"4\"><br>　Theorem plus_n_O : (forall n : nat, n + 0 = n).</font>\n",
    "\n",
    "### 下記の証明を完成させよ。\n",
    "#### [ヒント: 解答のコメントを読む](./3-induction-answer.ipynb#hint31) /  [解答を見る](./3-induction-answer.ipynb#ex31) "
   ]
  },
  {
   "cell_type": "code",
   "execution_count": null,
   "metadata": {
    "coq_kernel_metadata": {
     "auto_roll_back": true
    }
   },
   "outputs": [],
   "source": [
    "Theorem plus_n_O : (forall n : nat, n + 0 = n).\n",
    "Proof."
   ]
  },
  {
   "cell_type": "code",
   "execution_count": null,
   "metadata": {
    "coq_kernel_metadata": {
     "auto_roll_back": true
    }
   },
   "outputs": [],
   "source": []
  },
  {
   "cell_type": "code",
   "execution_count": null,
   "metadata": {
    "coq_kernel_metadata": {
     "auto_roll_back": true
    }
   },
   "outputs": [],
   "source": []
  },
  {
   "cell_type": "code",
   "execution_count": null,
   "metadata": {
    "coq_kernel_metadata": {
     "auto_roll_back": true
    }
   },
   "outputs": [],
   "source": []
  },
  {
   "cell_type": "code",
   "execution_count": null,
   "metadata": {
    "coq_kernel_metadata": {
     "auto_roll_back": true
    }
   },
   "outputs": [],
   "source": []
  },
  {
   "cell_type": "code",
   "execution_count": null,
   "metadata": {
    "coq_kernel_metadata": {
     "auto_roll_back": true
    }
   },
   "outputs": [],
   "source": []
  },
  {
   "cell_type": "code",
   "execution_count": null,
   "metadata": {
    "coq_kernel_metadata": {
     "auto_roll_back": true
    }
   },
   "outputs": [],
   "source": []
  },
  {
   "cell_type": "code",
   "execution_count": null,
   "metadata": {
    "coq_kernel_metadata": {
     "auto_roll_back": true
    }
   },
   "outputs": [],
   "source": []
  },
  {
   "cell_type": "code",
   "execution_count": null,
   "metadata": {
    "coq_kernel_metadata": {
     "auto_roll_back": true
    }
   },
   "outputs": [],
   "source": []
  },
  {
   "cell_type": "code",
   "execution_count": null,
   "metadata": {
    "coq_kernel_metadata": {
     "auto_roll_back": true
    }
   },
   "outputs": [],
   "source": [
    "Admitted. (* 最後にここを Qed. に変える。*)"
   ]
  },
  {
   "cell_type": "markdown",
   "metadata": {
    "coq_kernel_metadata": {
     "auto_roll_back": true
    }
   },
   "source": [
    "<a id=\"ex32\"></a>\n",
    "## 演習問題 3-2  作業用\n",
    "　<font size=\"4\">次の定理を証明せよ。</font>\n",
    " <font color=\"blue\"　size=\"4\"><br>　Theorem minus_diag : (forall n : nat, minus n n = 0).</font>\n",
    "\n",
    "### 下記の証明を完成させよ。\n",
    "#### [ヒント: 解答のコメントを読む](./3-induction-answer.ipynb#hint32) /  [解答を見る](./3-induction-answer.ipynb#ex32) "
   ]
  },
  {
   "cell_type": "code",
   "execution_count": null,
   "metadata": {
    "coq_kernel_metadata": {
     "auto_roll_back": true
    }
   },
   "outputs": [],
   "source": [
    "Theorem minus_diag : (forall n : nat, minus n n = 0).\n",
    "Proof."
   ]
  },
  {
   "cell_type": "code",
   "execution_count": null,
   "metadata": {
    "coq_kernel_metadata": {
     "auto_roll_back": true
    }
   },
   "outputs": [],
   "source": []
  },
  {
   "cell_type": "code",
   "execution_count": null,
   "metadata": {
    "coq_kernel_metadata": {
     "auto_roll_back": true
    }
   },
   "outputs": [],
   "source": []
  },
  {
   "cell_type": "code",
   "execution_count": null,
   "metadata": {
    "coq_kernel_metadata": {
     "auto_roll_back": true
    }
   },
   "outputs": [],
   "source": []
  },
  {
   "cell_type": "code",
   "execution_count": null,
   "metadata": {
    "coq_kernel_metadata": {
     "auto_roll_back": true
    }
   },
   "outputs": [],
   "source": []
  },
  {
   "cell_type": "code",
   "execution_count": null,
   "metadata": {
    "coq_kernel_metadata": {
     "auto_roll_back": true
    }
   },
   "outputs": [],
   "source": []
  },
  {
   "cell_type": "code",
   "execution_count": null,
   "metadata": {
    "coq_kernel_metadata": {
     "auto_roll_back": true
    }
   },
   "outputs": [],
   "source": []
  },
  {
   "cell_type": "code",
   "execution_count": null,
   "metadata": {
    "coq_kernel_metadata": {
     "auto_roll_back": true
    }
   },
   "outputs": [],
   "source": []
  },
  {
   "cell_type": "code",
   "execution_count": null,
   "metadata": {
    "coq_kernel_metadata": {
     "auto_roll_back": true
    }
   },
   "outputs": [],
   "source": []
  },
  {
   "cell_type": "code",
   "execution_count": null,
   "metadata": {
    "coq_kernel_metadata": {
     "auto_roll_back": true
    }
   },
   "outputs": [],
   "source": [
    "Admitted. (* 最後にここを Qed. に変える。*)"
   ]
  },
  {
   "cell_type": "markdown",
   "metadata": {
    "coq_kernel_metadata": {
     "auto_roll_back": true
    }
   },
   "source": [
    "<a id=\"ex33\"></a>\n",
    "## 演習問題 3-3  作業用\n",
    "　<font size=\"4\">次の定理を証明せよ。</font>\n",
    " <font color=\"blue\"　size=\"4\"><br>　Theorem mult_0_r : (forall n : nat,  n * 0 = 0).</font>\n",
    "\n",
    "### 下記の証明を完成させよ。\n",
    "#### [ヒント: 解答のコメントを読む](./3-induction-answer.ipynb#hint33) /  [解答を見る](./3-induction-answer.ipynb#ex33) "
   ]
  },
  {
   "cell_type": "code",
   "execution_count": null,
   "metadata": {
    "coq_kernel_metadata": {
     "auto_roll_back": true
    }
   },
   "outputs": [],
   "source": [
    "Theorem mult_0_r : (forall n : nat,  n * 0 = 0).\n",
    "Proof."
   ]
  },
  {
   "cell_type": "code",
   "execution_count": null,
   "metadata": {
    "coq_kernel_metadata": {
     "auto_roll_back": true
    }
   },
   "outputs": [],
   "source": []
  },
  {
   "cell_type": "code",
   "execution_count": null,
   "metadata": {
    "coq_kernel_metadata": {
     "auto_roll_back": true
    }
   },
   "outputs": [],
   "source": []
  },
  {
   "cell_type": "code",
   "execution_count": null,
   "metadata": {
    "coq_kernel_metadata": {
     "auto_roll_back": true
    }
   },
   "outputs": [],
   "source": []
  },
  {
   "cell_type": "code",
   "execution_count": null,
   "metadata": {
    "coq_kernel_metadata": {
     "auto_roll_back": true
    }
   },
   "outputs": [],
   "source": []
  },
  {
   "cell_type": "code",
   "execution_count": null,
   "metadata": {
    "coq_kernel_metadata": {
     "auto_roll_back": true
    }
   },
   "outputs": [],
   "source": []
  },
  {
   "cell_type": "code",
   "execution_count": null,
   "metadata": {
    "coq_kernel_metadata": {
     "auto_roll_back": true
    }
   },
   "outputs": [],
   "source": []
  },
  {
   "cell_type": "code",
   "execution_count": null,
   "metadata": {
    "coq_kernel_metadata": {
     "auto_roll_back": true
    }
   },
   "outputs": [],
   "source": []
  },
  {
   "cell_type": "code",
   "execution_count": null,
   "metadata": {
    "coq_kernel_metadata": {
     "auto_roll_back": true
    }
   },
   "outputs": [],
   "source": []
  },
  {
   "cell_type": "code",
   "execution_count": null,
   "metadata": {
    "coq_kernel_metadata": {
     "auto_roll_back": true
    }
   },
   "outputs": [],
   "source": []
  },
  {
   "cell_type": "code",
   "execution_count": null,
   "metadata": {
    "coq_kernel_metadata": {
     "auto_roll_back": true
    }
   },
   "outputs": [],
   "source": []
  },
  {
   "cell_type": "code",
   "execution_count": null,
   "metadata": {
    "coq_kernel_metadata": {
     "auto_roll_back": true
    }
   },
   "outputs": [],
   "source": [
    "Admitted. (* 最後にここを Qed. に変える。*)"
   ]
  },
  {
   "cell_type": "markdown",
   "metadata": {
    "coq_kernel_metadata": {
     "auto_roll_back": true
    }
   },
   "source": [
    "<a id=\"ex34\"></a>\n",
    "## 演習問題 3-4  作業用\n",
    "　<font size=\"4\">次の定理を証明せよ。</font>\n",
    " <font color=\"blue\"　size=\"4\"><br>　Theorem plus_n_Sm : (forall n m : nat, S (n + m) = n + (S m) ).</font>\n",
    "\n",
    "### 下記の証明を完成させよ。\n",
    "#### [ヒント: 解答のコメントを読む](./3-induction-answer.ipynb#hint34) /  [解答を見る](./3-induction-answer.ipynb#ex34) "
   ]
  },
  {
   "cell_type": "code",
   "execution_count": null,
   "metadata": {
    "coq_kernel_metadata": {
     "auto_roll_back": true
    }
   },
   "outputs": [],
   "source": [
    "Theorem plus_n_Sm : (forall n m : nat, S (n + m) = n + (S m) ).\n",
    "Proof."
   ]
  },
  {
   "cell_type": "code",
   "execution_count": null,
   "metadata": {
    "coq_kernel_metadata": {
     "auto_roll_back": true
    }
   },
   "outputs": [],
   "source": []
  },
  {
   "cell_type": "code",
   "execution_count": null,
   "metadata": {
    "coq_kernel_metadata": {
     "auto_roll_back": true
    }
   },
   "outputs": [],
   "source": []
  },
  {
   "cell_type": "code",
   "execution_count": null,
   "metadata": {
    "coq_kernel_metadata": {
     "auto_roll_back": true
    }
   },
   "outputs": [],
   "source": []
  },
  {
   "cell_type": "code",
   "execution_count": null,
   "metadata": {
    "coq_kernel_metadata": {
     "auto_roll_back": true
    }
   },
   "outputs": [],
   "source": []
  },
  {
   "cell_type": "code",
   "execution_count": null,
   "metadata": {
    "coq_kernel_metadata": {
     "auto_roll_back": true
    }
   },
   "outputs": [],
   "source": []
  },
  {
   "cell_type": "code",
   "execution_count": null,
   "metadata": {
    "coq_kernel_metadata": {
     "auto_roll_back": true
    }
   },
   "outputs": [],
   "source": []
  },
  {
   "cell_type": "code",
   "execution_count": null,
   "metadata": {
    "coq_kernel_metadata": {
     "auto_roll_back": true
    }
   },
   "outputs": [],
   "source": []
  },
  {
   "cell_type": "code",
   "execution_count": null,
   "metadata": {
    "coq_kernel_metadata": {
     "auto_roll_back": true
    }
   },
   "outputs": [],
   "source": [
    "Admitted. (* 最後にここを Qed. に変える。*)"
   ]
  },
  {
   "cell_type": "markdown",
   "metadata": {
    "coq_kernel_metadata": {
     "auto_roll_back": true
    }
   },
   "source": [
    "<a id=\"ex35\"></a>\n",
    "## 演習問題 3-5  作業用\n",
    "　<font size=\"4\">次の定理を証明せよ。</font>\n",
    " <font color=\"blue\"　size=\"4\"><br>　Theorem plus_comm : (forall n m : nat, n + m = m + n ).</font>\n",
    "\n",
    "### 下記の証明を完成させよ。\n",
    "#### [ヒント: 解答のコメントを読む](./3-induction-answer.ipynb#hint35) /  [解答を見る](./3-induction-answer.ipynb#ex35) "
   ]
  },
  {
   "cell_type": "code",
   "execution_count": null,
   "metadata": {
    "coq_kernel_metadata": {
     "auto_roll_back": true
    }
   },
   "outputs": [],
   "source": [
    "Theorem plus_comm : (forall n m : nat, n + m = m + n ).\n",
    "Proof."
   ]
  },
  {
   "cell_type": "code",
   "execution_count": null,
   "metadata": {
    "coq_kernel_metadata": {
     "auto_roll_back": true
    }
   },
   "outputs": [],
   "source": []
  },
  {
   "cell_type": "code",
   "execution_count": null,
   "metadata": {
    "coq_kernel_metadata": {
     "auto_roll_back": true
    }
   },
   "outputs": [],
   "source": []
  },
  {
   "cell_type": "code",
   "execution_count": null,
   "metadata": {
    "coq_kernel_metadata": {
     "auto_roll_back": true
    }
   },
   "outputs": [],
   "source": []
  },
  {
   "cell_type": "code",
   "execution_count": null,
   "metadata": {
    "coq_kernel_metadata": {
     "auto_roll_back": true
    }
   },
   "outputs": [],
   "source": []
  },
  {
   "cell_type": "code",
   "execution_count": null,
   "metadata": {
    "coq_kernel_metadata": {
     "auto_roll_back": true
    }
   },
   "outputs": [],
   "source": []
  },
  {
   "cell_type": "code",
   "execution_count": null,
   "metadata": {
    "coq_kernel_metadata": {
     "auto_roll_back": true
    }
   },
   "outputs": [],
   "source": []
  },
  {
   "cell_type": "code",
   "execution_count": null,
   "metadata": {
    "coq_kernel_metadata": {
     "auto_roll_back": true
    }
   },
   "outputs": [],
   "source": []
  },
  {
   "cell_type": "code",
   "execution_count": null,
   "metadata": {
    "coq_kernel_metadata": {
     "auto_roll_back": true
    }
   },
   "outputs": [],
   "source": []
  },
  {
   "cell_type": "code",
   "execution_count": null,
   "metadata": {
    "coq_kernel_metadata": {
     "auto_roll_back": true
    }
   },
   "outputs": [],
   "source": []
  },
  {
   "cell_type": "code",
   "execution_count": null,
   "metadata": {
    "coq_kernel_metadata": {
     "auto_roll_back": true
    }
   },
   "outputs": [],
   "source": []
  },
  {
   "cell_type": "code",
   "execution_count": null,
   "metadata": {
    "coq_kernel_metadata": {
     "auto_roll_back": true
    }
   },
   "outputs": [],
   "source": [
    "Admitted. (* 最後にここを Qed. に変える。*)"
   ]
  },
  {
   "cell_type": "markdown",
   "metadata": {
    "coq_kernel_metadata": {
     "auto_roll_back": true
    }
   },
   "source": [
    "<a id=\"ex36\"></a>\n",
    "## 演習問題 3-6  作業用\n",
    "　<font size=\"4\">次の定理を証明せよ。</font>\n",
    " <font color=\"blue\"　size=\"4\"><br>　Theorem plus_assoc : (forall n m o : nat, n + (m +o)  = (n + m) + o ).</font>\n",
    "\n",
    "### 下記の証明を完成させよ。\n",
    "#### [ヒント: 解答のコメントを読む](./3-induction-answer.ipynb#hint36) /  [解答を見る](./3-induction-answer.ipynb#ex36) "
   ]
  },
  {
   "cell_type": "code",
   "execution_count": null,
   "metadata": {
    "coq_kernel_metadata": {
     "auto_roll_back": true
    }
   },
   "outputs": [],
   "source": [
    "Theorem plus_assoc : (forall n m o : nat, n + (m +o)  = (n + m) + o ).\n",
    "Proof."
   ]
  },
  {
   "cell_type": "code",
   "execution_count": null,
   "metadata": {
    "coq_kernel_metadata": {
     "auto_roll_back": true
    }
   },
   "outputs": [],
   "source": []
  },
  {
   "cell_type": "code",
   "execution_count": null,
   "metadata": {
    "coq_kernel_metadata": {
     "auto_roll_back": true
    }
   },
   "outputs": [],
   "source": []
  },
  {
   "cell_type": "code",
   "execution_count": null,
   "metadata": {
    "coq_kernel_metadata": {
     "auto_roll_back": true
    }
   },
   "outputs": [],
   "source": []
  },
  {
   "cell_type": "code",
   "execution_count": null,
   "metadata": {
    "coq_kernel_metadata": {
     "auto_roll_back": true
    }
   },
   "outputs": [],
   "source": []
  },
  {
   "cell_type": "code",
   "execution_count": null,
   "metadata": {
    "coq_kernel_metadata": {
     "auto_roll_back": true
    }
   },
   "outputs": [],
   "source": []
  },
  {
   "cell_type": "code",
   "execution_count": null,
   "metadata": {
    "coq_kernel_metadata": {
     "auto_roll_back": true
    }
   },
   "outputs": [],
   "source": []
  },
  {
   "cell_type": "code",
   "execution_count": null,
   "metadata": {
    "coq_kernel_metadata": {
     "auto_roll_back": true
    }
   },
   "outputs": [],
   "source": []
  },
  {
   "cell_type": "code",
   "execution_count": null,
   "metadata": {
    "coq_kernel_metadata": {
     "auto_roll_back": true
    }
   },
   "outputs": [],
   "source": []
  },
  {
   "cell_type": "code",
   "execution_count": null,
   "metadata": {
    "coq_kernel_metadata": {
     "auto_roll_back": true
    }
   },
   "outputs": [],
   "source": []
  },
  {
   "cell_type": "code",
   "execution_count": null,
   "metadata": {
    "coq_kernel_metadata": {
     "auto_roll_back": true
    }
   },
   "outputs": [],
   "source": [
    "Admitted. (* 最後にここを Qed. に変える。*)"
   ]
  },
  {
   "cell_type": "markdown",
   "metadata": {
    "coq_kernel_metadata": {
     "auto_roll_back": true
    }
   },
   "source": [
    "<a id=\"ex37\"></a>\n",
    "## 演習問題 3-7  作業用\n",
    "　<font size=\"4\">次の定理を証明せよ。</font>\n",
    " <font color=\"blue\"　size=\"4\"><br>　Theorem mul_succ_r : forall n m : nat,  n \\* S m = n \\* m + n  ).</font>\n",
    "\n",
    "### 下記の証明を完成させよ。\n",
    "#### [ヒント: 解答のコメントを読む](./3-induction-answer.ipynb#hint37) /  [解答を見る](./3-induction-answer.ipynb#ex37) "
   ]
  },
  {
   "cell_type": "code",
   "execution_count": null,
   "metadata": {
    "coq_kernel_metadata": {
     "auto_roll_back": true
    }
   },
   "outputs": [],
   "source": [
    "Theorem mul_succ_r : forall n m : nat,  n * S m = n * m + n  ).\n",
    "Proof."
   ]
  },
  {
   "cell_type": "code",
   "execution_count": null,
   "metadata": {
    "coq_kernel_metadata": {
     "auto_roll_back": true
    }
   },
   "outputs": [],
   "source": []
  },
  {
   "cell_type": "code",
   "execution_count": null,
   "metadata": {
    "coq_kernel_metadata": {
     "auto_roll_back": true
    }
   },
   "outputs": [],
   "source": []
  },
  {
   "cell_type": "code",
   "execution_count": null,
   "metadata": {
    "coq_kernel_metadata": {
     "auto_roll_back": true
    }
   },
   "outputs": [],
   "source": []
  },
  {
   "cell_type": "code",
   "execution_count": null,
   "metadata": {
    "coq_kernel_metadata": {
     "auto_roll_back": true
    }
   },
   "outputs": [],
   "source": []
  },
  {
   "cell_type": "code",
   "execution_count": null,
   "metadata": {
    "coq_kernel_metadata": {
     "auto_roll_back": true
    }
   },
   "outputs": [],
   "source": []
  },
  {
   "cell_type": "code",
   "execution_count": null,
   "metadata": {
    "coq_kernel_metadata": {
     "auto_roll_back": true
    }
   },
   "outputs": [],
   "source": []
  },
  {
   "cell_type": "code",
   "execution_count": null,
   "metadata": {
    "coq_kernel_metadata": {
     "auto_roll_back": true
    }
   },
   "outputs": [],
   "source": []
  },
  {
   "cell_type": "code",
   "execution_count": null,
   "metadata": {
    "coq_kernel_metadata": {
     "auto_roll_back": true
    }
   },
   "outputs": [],
   "source": [
    "Admitted. (* 最後にここを Qed. に変える。*)"
   ]
  },
  {
   "cell_type": "markdown",
   "metadata": {
    "coq_kernel_metadata": {
     "auto_roll_back": true
    }
   },
   "source": [
    "<a id=\"ex38\"></a>\n",
    "## 演習問題 3-8  作業用\n",
    "　<font size=\"4\">次の定理を証明せよ。</font>\n",
    " <font color=\"blue\"　size=\"4\"><br>　Theorem mult_comm : (forall n m : nat,  n \\* m = m \\* n ).</font>\n",
    "\n",
    "### 下記の証明を完成させよ。\n",
    "#### [ヒント: 解答のコメントを読む](./3-induction-answer.ipynb#hint38) /  [解答を見る](./3-induction-answer.ipynb#ex38) "
   ]
  },
  {
   "cell_type": "code",
   "execution_count": null,
   "metadata": {
    "coq_kernel_metadata": {
     "auto_roll_back": true
    }
   },
   "outputs": [],
   "source": [
    "Theorem mult_comm : (forall n m : nat,  n * m = m * n ).\n",
    "Proof."
   ]
  },
  {
   "cell_type": "code",
   "execution_count": null,
   "metadata": {
    "coq_kernel_metadata": {
     "auto_roll_back": true
    }
   },
   "outputs": [],
   "source": []
  },
  {
   "cell_type": "code",
   "execution_count": null,
   "metadata": {
    "coq_kernel_metadata": {
     "auto_roll_back": true
    }
   },
   "outputs": [],
   "source": []
  },
  {
   "cell_type": "code",
   "execution_count": null,
   "metadata": {
    "coq_kernel_metadata": {
     "auto_roll_back": true
    }
   },
   "outputs": [],
   "source": []
  },
  {
   "cell_type": "code",
   "execution_count": null,
   "metadata": {
    "coq_kernel_metadata": {
     "auto_roll_back": true
    }
   },
   "outputs": [],
   "source": []
  },
  {
   "cell_type": "code",
   "execution_count": null,
   "metadata": {
    "coq_kernel_metadata": {
     "auto_roll_back": true
    }
   },
   "outputs": [],
   "source": []
  },
  {
   "cell_type": "code",
   "execution_count": null,
   "metadata": {
    "coq_kernel_metadata": {
     "auto_roll_back": true
    }
   },
   "outputs": [],
   "source": []
  },
  {
   "cell_type": "code",
   "execution_count": null,
   "metadata": {
    "coq_kernel_metadata": {
     "auto_roll_back": true
    }
   },
   "outputs": [],
   "source": []
  },
  {
   "cell_type": "code",
   "execution_count": null,
   "metadata": {
    "coq_kernel_metadata": {
     "auto_roll_back": true
    }
   },
   "outputs": [],
   "source": [
    "Admitted. (* 最後にここを Qed. に変える。*)"
   ]
  },
  {
   "cell_type": "markdown",
   "metadata": {
    "coq_kernel_metadata": {
     "auto_roll_back": true
    }
   },
   "source": [
    "# <font color=\"blue\">演習問題 3　解答</font>\n",
    "\n",
    "[演習問題 3-1](./3-induction-answer.ipynb#ans11) [演習問題 3-2](./3-induction-answer.ipynb#ans12) [演習問題 3-3](./3-induction-answer.ipynb#ans13) [演習問題 3-4](./3-induction-answer.ipynb#ans14) [演習問題 3-5](./3-induction-answer.ipynb#ans15) [演習問題 3-6](./3-induction-answer.ipynb#ans16) [演習問題 3-7](./3-induction-answer.ipynb#ans17) [演習問題 3-8](./3-induction-answer.ipynb#ans18) "
   ]
  },
  {
   "cell_type": "markdown",
   "metadata": {
    "coq_kernel_metadata": {
     "auto_roll_back": true
    }
   },
   "source": [
    "<a id=\"ans31\"></a>\n",
    "## 演習問題 3-1  解答\n",
    "　<font size=\"4\">次の定理を証明せよ。</font>\n",
    " <font color=\"blue\"　size=\"4\"><br>　Theorem plus_n_O : (forall n : nat, n + 0 = n).</font>\n",
    "\n",
    "## 解答\n",
    "### 下のCellを実行して確かめよ。\n",
    "\n",
    "<a id=\"hint31\"></a>"
   ]
  },
  {
   "cell_type": "code",
   "execution_count": null,
   "metadata": {
    "coq_kernel_metadata": {
     "auto_roll_back": true,
     "cell_id": "ed17a873501d4e418f8825d92d0d4f93",
     "execution_id": "65a727c1c9bb447c8461933089af17f2"
    }
   },
   "outputs": [],
   "source": [
    "Theorem  plus_n_O : (forall n : nat, n + 0 = n).\n",
    "Proof."
   ]
  },
  {
   "cell_type": "code",
   "execution_count": null,
   "metadata": {
    "coq_kernel_metadata": {
     "auto_roll_back": true,
     "cell_id": "309a6c24d33648808fcecd83051ca7b3",
     "execution_id": "ef73f04786fe4e91be71bdaea3234693"
    }
   },
   "outputs": [],
   "source": [
    " (* forall の削除 *)\n",
    " intros ."
   ]
  },
  {
   "cell_type": "code",
   "execution_count": null,
   "metadata": {
    "coq_kernel_metadata": {
     "auto_roll_back": true,
     "cell_id": "e78d1ef250fd44958cc11d3630fd0e88",
     "execution_id": "31f7e6e7223c421f8e5e9fd987060d5d"
    }
   },
   "outputs": [],
   "source": [
    "(* nについての帰納法を使う *)\n",
    "induction n.\n",
    "\n",
    "(* n = 0 　の場合と、\n",
    "　　　　n = S n' の場合で、サブゴールが二つに分かれる。 *)"
   ]
  },
  {
   "cell_type": "code",
   "execution_count": null,
   "metadata": {
    "coq_kernel_metadata": {
     "auto_roll_back": true,
     "cell_id": "5096a8afccfe40f98f37468ec6ecb632",
     "execution_id": "a5bf8d72f1ce4436988f42105f43d025"
    }
   },
   "outputs": [],
   "source": [
    "(* n = 0 の場合。\n",
    "サブゴールをsimpl で単純にする。*)\n",
    "simpl."
   ]
  },
  {
   "cell_type": "code",
   "execution_count": null,
   "metadata": {
    "coq_kernel_metadata": {
     "auto_roll_back": true,
     "cell_id": "d72385849d0045249fd3377bad28326e",
     "execution_id": "a60baf690e5c42daadffad54254d3df9"
    }
   },
   "outputs": [],
   "source": [
    "(* n = 0 の場合。\n",
    "サブゴールにreflexivity が使える。*)\n",
    "reflexivity.\n",
    "\n",
    "(* n = 0 の場合、証明終わる。サブゴールは一つになる。*)."
   ]
  },
  {
   "cell_type": "code",
   "execution_count": null,
   "metadata": {
    "coq_kernel_metadata": {
     "auto_roll_back": true,
     "cell_id": "a1eba5c1697f4cfa82f7aac30a2a8b41",
     "execution_id": "f8206bac2b50435f8c6441f6e3f136ce"
    }
   },
   "outputs": [],
   "source": [
    "(*  n = S n' の場合。\n",
    "サブゴールを、simpl で単純にする。*)\n",
    " simpl."
   ]
  },
  {
   "cell_type": "code",
   "execution_count": null,
   "metadata": {
    "coq_kernel_metadata": {
     "auto_roll_back": true,
     "cell_id": "c3c439b4ea0e47e3946464ac16bc6760",
     "execution_id": "55ca6a1bd9d94505914411449d6982d1"
    }
   },
   "outputs": [],
   "source": [
    "(*  n = S n' の場合。\n",
    "サブゴールを、IHnの左項で書き換える 。*)\n",
    "rewrite -> IHn."
   ]
  },
  {
   "cell_type": "code",
   "execution_count": null,
   "metadata": {
    "coq_kernel_metadata": {
     "auto_roll_back": true,
     "cell_id": "2bb10cc5ec084d259e2a252a993787ef",
     "execution_id": "c12e93e62c274a62895eb9f2188969a0"
    }
   },
   "outputs": [],
   "source": [
    "(*  n = S n' の場合。\n",
    "サブゴールに reflexivity が使える。*)\n",
    "reflexivity.\n",
    "\n",
    "(*  n = S n' の場合、証明終わり。 *)"
   ]
  },
  {
   "cell_type": "code",
   "execution_count": null,
   "metadata": {
    "coq_kernel_metadata": {
     "auto_roll_back": true,
     "cell_id": "0f083c2a08194cdb82ee02815fac0573",
     "execution_id": "dbca8992f7584db89e3600626e2b68b7"
    }
   },
   "outputs": [],
   "source": [
    "Qed."
   ]
  },
  {
   "cell_type": "markdown",
   "metadata": {
    "coq_kernel_metadata": {
     "auto_roll_back": true
    }
   },
   "source": [
    "<a id=\"ans32\"></a>\n",
    "## 演習問題 3-2  解答\n",
    "　<font size=\"4\">次の定理を証明せよ。</font>\n",
    " <font color=\"blue\"　size=\"4\"><br>　Theorem minus_diag : (forall n : nat, minus n n = 0).</font>\n",
    "\n",
    "## 解答\n",
    "### 下のCellを実行して確かめよ。\n",
    "\n",
    "<a id=\"hint32\"></a>"
   ]
  },
  {
   "cell_type": "code",
   "execution_count": null,
   "metadata": {
    "coq_kernel_metadata": {
     "auto_roll_back": true,
     "cell_id": "c28248416e534ff4875f2ea7a595d172",
     "execution_id": "f39de9b9cbbf4f4598170e2397172663"
    }
   },
   "outputs": [],
   "source": [
    "Theorem  minus_diag : (forall n : nat, minus n n = 0).\n",
    "Proof."
   ]
  },
  {
   "cell_type": "code",
   "execution_count": null,
   "metadata": {
    "coq_kernel_metadata": {
     "auto_roll_back": true,
     "cell_id": "b2d5b37db4ef4f6da81b86569e04e43b",
     "execution_id": "6d9499471a47433eaf850dea37ed32d9"
    }
   },
   "outputs": [],
   "source": [
    "(* forall の削除*)\n",
    "intros."
   ]
  },
  {
   "cell_type": "code",
   "execution_count": null,
   "metadata": {
    "coq_kernel_metadata": {
     "auto_roll_back": true,
     "cell_id": "bc8a9c040636499f8b1ad1ceb7f19c67",
     "execution_id": "15abd67f870f40f1877730c45530852c"
    }
   },
   "outputs": [],
   "source": [
    "(* nについての帰納法を使う *)\n",
    "induction n.\n",
    "\n",
    "(* n = 0 　の場合と、\n",
    "　　　　n = S n' の場合で、サブゴールが二つに分かれる。 *)"
   ]
  },
  {
   "cell_type": "code",
   "execution_count": null,
   "metadata": {
    "coq_kernel_metadata": {
     "auto_roll_back": true,
     "cell_id": "1819991f1dbb43108334880e8a352187",
     "execution_id": "e052ff2bde5643db86170a75df6ea7d2"
    }
   },
   "outputs": [],
   "source": [
    "(* n = 0 の場合。\n",
    "サブゴールをsimpl で単純にする。*)\n",
    "simpl."
   ]
  },
  {
   "cell_type": "code",
   "execution_count": null,
   "metadata": {
    "coq_kernel_metadata": {
     "auto_roll_back": true,
     "cell_id": "c335efa2b4b34583a3a6fc5e389f13e9",
     "execution_id": "937dc8793bf647888fd4d299ba4969f4"
    }
   },
   "outputs": [],
   "source": [
    "(* n = 0 の場合。\n",
    "サブゴールにreflexivity が使える。*)\n",
    "reflexivity.\n",
    "\n",
    "(* n = 0 の場合、証明終わる。サブゴールは一つになる。*)"
   ]
  },
  {
   "cell_type": "code",
   "execution_count": null,
   "metadata": {
    "coq_kernel_metadata": {
     "auto_roll_back": true,
     "cell_id": "9ad99f38ac8540228b2d595866f3f96f",
     "execution_id": "418c81165ef6450e97a90d3cbce4e902"
    }
   },
   "outputs": [],
   "source": [
    " (*  n = S n' の場合。simpl で単純にする。*)\n",
    " simpl."
   ]
  },
  {
   "cell_type": "code",
   "execution_count": null,
   "metadata": {
    "coq_kernel_metadata": {
     "auto_roll_back": true,
     "cell_id": "789c14e73e7743e9a8d1184048f07d3e",
     "execution_id": "8b810c721d0c451e8b91a0df48e5e955"
    }
   },
   "outputs": [],
   "source": [
    "(* 仮説の中に、サブゴールと同じものが含まれている。 *)\n",
    "assumption."
   ]
  },
  {
   "cell_type": "code",
   "execution_count": null,
   "metadata": {
    "coq_kernel_metadata": {
     "auto_roll_back": true,
     "cell_id": "b0a7c09e71c842d18816b8cec5e278a1",
     "execution_id": "6cd386c9d983408ebf8c3511d53a4eff"
    }
   },
   "outputs": [],
   "source": [
    "Qed."
   ]
  },
  {
   "cell_type": "markdown",
   "metadata": {
    "coq_kernel_metadata": {
     "auto_roll_back": true
    }
   },
   "source": [
    "<a id=\"ans33\"></a>\n",
    "## 演習問題 3-3  解答\n",
    "　<font size=\"4\">次の定理を証明せよ。</font>\n",
    " <font color=\"blue\"　size=\"4\"><br>　Theorem mult_0_r : (forall n : nat,  n * 0 = 0).</font>\n",
    "\n",
    "## 解答\n",
    "### 下のCellを実行して確かめよ。\n",
    "\n",
    "<a id=\"hint33\"></a>"
   ]
  },
  {
   "cell_type": "code",
   "execution_count": null,
   "metadata": {
    "coq_kernel_metadata": {
     "auto_roll_back": true,
     "cell_id": "d6d0eee162a946d3aef0dddf4798aeb2",
     "execution_id": "d997eedbd5e843d681fb986639a33c00"
    }
   },
   "outputs": [],
   "source": [
    "Theorem  mult_0_r : (forall n : nat,  n * 0 = 0).\n",
    "Proof."
   ]
  },
  {
   "cell_type": "code",
   "execution_count": null,
   "metadata": {
    "coq_kernel_metadata": {
     "auto_roll_back": true,
     "cell_id": "e3b808bf765b43f78920f28b46e77afa",
     "execution_id": "fd5060992efa4568ac0f8811bdef8554"
    }
   },
   "outputs": [],
   "source": [
    "(* forall の削除 *)\n",
    "intros."
   ]
  },
  {
   "cell_type": "code",
   "execution_count": null,
   "metadata": {
    "coq_kernel_metadata": {
     "auto_roll_back": true,
     "cell_id": "59be021a38304b0f8dbe4c80b3630515",
     "execution_id": "8259a47be21b4d7b85c2a5524066281e"
    }
   },
   "outputs": [],
   "source": [
    "(* nについての帰納法を使う。*)\n",
    "induction n.\n",
    "(* n = 0 　の場合と、\n",
    "　　　　n = S n' の場合で、サブゴールが二つに分かれる。 *)"
   ]
  },
  {
   "cell_type": "code",
   "execution_count": null,
   "metadata": {
    "coq_kernel_metadata": {
     "auto_roll_back": true,
     "cell_id": "a0acdc6aa8034075801fc5eecdf2d601",
     "execution_id": "61e0548dc37d47a297c22d0cf33d846a"
    }
   },
   "outputs": [],
   "source": [
    "(* n = 0 の場合。単純化する。 *)\n",
    "simpl."
   ]
  },
  {
   "cell_type": "code",
   "execution_count": null,
   "metadata": {
    "coq_kernel_metadata": {
     "auto_roll_back": true,
     "cell_id": "93376140e02d4b588713021eba5ba7cb",
     "execution_id": "f117943dc3f04048809182589b4fa5a3"
    }
   },
   "outputs": [],
   "source": [
    "(* n =0  の場合。reflexivity が使える。*)\n",
    "reflexivity.\n",
    "(* n =0  の場合、証明終わる。サブゴールは一つになる。*)"
   ]
  },
  {
   "cell_type": "code",
   "execution_count": null,
   "metadata": {
    "coq_kernel_metadata": {
     "auto_roll_back": true,
     "cell_id": "4d0c3cd4ef7842508415d8be0f7a8ff3",
     "execution_id": "80d5e196856646c68e0ff3ca1bcd1e89"
    }
   },
   "outputs": [],
   "source": [
    "(* n = S n' の場合。単純化する。*)\n",
    "simpl."
   ]
  },
  {
   "cell_type": "code",
   "execution_count": null,
   "metadata": {
    "coq_kernel_metadata": {
     "auto_roll_back": true,
     "cell_id": "aa916e9d4c424f488af3b9605832f439",
     "execution_id": "e4b47b8d304d4c4c851d884ae34b2521"
    }
   },
   "outputs": [],
   "source": [
    "(* n = S n' の場合。IHnの左項でサブゴールを書き換える。*)\n",
    "\n",
    "rewrite -> IHn."
   ]
  },
  {
   "cell_type": "code",
   "execution_count": null,
   "metadata": {
    "coq_kernel_metadata": {
     "auto_roll_back": true,
     "cell_id": "6425138198004d178fcf55821a273811",
     "execution_id": "1b97acdfb1fe43468ef05f4e5c3ba3b6"
    }
   },
   "outputs": [],
   "source": [
    "(* n = S n' の場合。Ireflexivity が使える。 *)\n",
    " reflexivity.\n",
    "(* n = S n' の場合。証明終わる。 *)"
   ]
  },
  {
   "cell_type": "code",
   "execution_count": null,
   "metadata": {
    "coq_kernel_metadata": {
     "auto_roll_back": true,
     "cell_id": "6ac63438d3ab48378def0cae51adc4c7",
     "execution_id": "ef4af1f6f42e487d80a9ffaa0e3742f3"
    }
   },
   "outputs": [],
   "source": [
    "Qed."
   ]
  },
  {
   "cell_type": "markdown",
   "metadata": {
    "coq_kernel_metadata": {
     "auto_roll_back": true
    }
   },
   "source": [
    "<a id=\"ans34\"></a>\n",
    "## 演習問題 3-4  解答\n",
    "　<font size=\"4\">次の定理を証明せよ。</font>\n",
    " <font color=\"blue\"　size=\"4\"><br>　Theorem plus_n_Sm : (forall n m : nat, S (n + m) = n + (S m) ).</font>\n",
    "\n",
    "## 解答\n",
    "### 下のCellを実行して確かめよ。\n",
    "\n",
    "<a id=\"hint34\"></a>"
   ]
  },
  {
   "cell_type": "code",
   "execution_count": null,
   "metadata": {
    "coq_kernel_metadata": {
     "auto_roll_back": true,
     "cell_id": "2daeeee5f0cc4f7a888ab49dfa8aa60a",
     "execution_id": "03935d698b54491e87c89654f64ba5b3"
    }
   },
   "outputs": [],
   "source": [
    "Theorem  plus_n_Sm : (forall n m : nat, S (n + m) = n + (S m) ).\n",
    "Proof."
   ]
  },
  {
   "cell_type": "code",
   "execution_count": null,
   "metadata": {
    "coq_kernel_metadata": {
     "auto_roll_back": true,
     "cell_id": "1b8eba3945d740438fce438773ee82f2",
     "execution_id": "ea1ae713733e4f9b8cc9f54e094df826"
    }
   },
   "outputs": [],
   "source": [
    "(* introsで forall を消す。*)\n",
    "intros."
   ]
  },
  {
   "cell_type": "code",
   "execution_count": null,
   "metadata": {
    "coq_kernel_metadata": {
     "auto_roll_back": true,
     "cell_id": "a7e4b4ba1b0d45f89c901d6defeedede",
     "execution_id": "88bdb3747ed241d38b1539f00771ef3e"
    }
   },
   "outputs": [],
   "source": [
    "(* induction nで帰納法を使う。*)\n",
    "induction n.\n",
    "(* n = 0 　の場合と、\n",
    "　　　　n = S n' の場合で、サブゴールが二つに分かれる。 *)"
   ]
  },
  {
   "cell_type": "code",
   "execution_count": null,
   "metadata": {
    "coq_kernel_metadata": {
     "auto_roll_back": true,
     "cell_id": "85c7277c6b5f4e2085ed29577de996d7",
     "execution_id": "7d138eb879124367865ab4c8fa71a051"
    }
   },
   "outputs": [],
   "source": [
    "(* n = 0の場合。simpl で、サブゴールを簡単にする。*)\n",
    "simpl."
   ]
  },
  {
   "cell_type": "code",
   "execution_count": null,
   "metadata": {
    "coq_kernel_metadata": {
     "auto_roll_back": true,
     "cell_id": "de5402ac3e91422a97cc673211e71e80",
     "execution_id": "ea9b52f3cb9d40728893e6e9c0d3fc78"
    }
   },
   "outputs": [],
   "source": [
    "(* n=0 の場合。reflexivity が使える。*)\n",
    "reflexivity.\n",
    "(* n=0 の場合、証明終わり。サブゴールが一つになる。*)"
   ]
  },
  {
   "cell_type": "code",
   "execution_count": null,
   "metadata": {
    "coq_kernel_metadata": {
     "auto_roll_back": true,
     "cell_id": "417c7561a1cd44e185f5749dec61ef76",
     "execution_id": "f334c41b91744ce88562afcbceb6dc29"
    }
   },
   "outputs": [],
   "source": [
    "(* n = S n' の場合。残ったサブゴールを、simpl で簡単にする。*)\n",
    "simpl."
   ]
  },
  {
   "cell_type": "code",
   "execution_count": null,
   "metadata": {
    "coq_kernel_metadata": {
     "auto_roll_back": true,
     "cell_id": "376f762cd85b4c489cb7a0424042c020",
     "execution_id": "68f71e761e2a4b6b8d51e924eeeead31"
    }
   },
   "outputs": [],
   "source": [
    "(* n = S n' の場合。*)\n",
    "(* IHnの左項でサブゴールを書き換える。*)\n",
    "rewrite -> IHn."
   ]
  },
  {
   "cell_type": "code",
   "execution_count": null,
   "metadata": {
    "coq_kernel_metadata": {
     "auto_roll_back": true,
     "cell_id": "561c700408fa4f0a8053db0b2a19804d",
     "execution_id": "81ba0863ed1544098ddafce882a1bbba"
    }
   },
   "outputs": [],
   "source": [
    "(* n = S n' の場合。*)\n",
    "(* reflexivity が使える。*)\n",
    "reflexivity.\n",
    "(* n = S n' の場合、証明終り。 *)"
   ]
  },
  {
   "cell_type": "code",
   "execution_count": null,
   "metadata": {
    "coq_kernel_metadata": {
     "auto_roll_back": true,
     "cell_id": "ec69daa8e6cc4fdc8c0843a2b2798932",
     "execution_id": "3777df3d858845b69b3b6fa1e263a17f"
    }
   },
   "outputs": [],
   "source": [
    "Qed."
   ]
  },
  {
   "cell_type": "markdown",
   "metadata": {
    "coq_kernel_metadata": {
     "auto_roll_back": true
    }
   },
   "source": [
    "<a id=\"ans35\"></a>\n",
    "## 演習問題 3-5  解答\n",
    "　<font size=\"4\">次の定理を証明せよ。</font>\n",
    " <font color=\"blue\"　size=\"4\"><br>　Theorem plus_comm : (forall n m : nat, n + m = m + n ).</font>\n",
    "\n",
    "## 解答\n",
    "### 下のCellを実行して確かめよ。\n",
    "\n",
    "<a id=\"hint35\"></a>"
   ]
  },
  {
   "cell_type": "code",
   "execution_count": null,
   "metadata": {
    "coq_kernel_metadata": {
     "auto_roll_back": true,
     "cell_id": "6e6d3025e8df46169363c842b094705d",
     "execution_id": "4f86bbea8f0d4708a5de00e622e64ffa"
    }
   },
   "outputs": [],
   "source": [
    "Theorem  plus_comm : (forall n m : nat, n + m = m + n ).\n",
    "Proof."
   ]
  },
  {
   "cell_type": "code",
   "execution_count": null,
   "metadata": {
    "coq_kernel_metadata": {
     "auto_roll_back": true,
     "cell_id": "64ea4ffe87ff4d9985f282536b2ff734",
     "execution_id": "1e49fcfae0ee42ab8bdc1fe30b3222e4"
    }
   },
   "outputs": [],
   "source": [
    "(* forall の削除 *)\n",
    "intros."
   ]
  },
  {
   "cell_type": "code",
   "execution_count": null,
   "metadata": {
    "coq_kernel_metadata": {
     "auto_roll_back": true,
     "cell_id": "49dc1092269f4186b0aa0dc7c74832a4",
     "execution_id": "6710a8a477824ffeb66c57a775fc4fff"
    }
   },
   "outputs": [],
   "source": [
    "  (* nについての帰納法を使う。*)\n",
    "  induction n.\n",
    "  (* n = 0 　の場合と、\n",
    "　　　　n = S n' の場合で、サブゴールが二つに分かれる。 *)"
   ]
  },
  {
   "cell_type": "code",
   "execution_count": null,
   "metadata": {
    "coq_kernel_metadata": {
     "auto_roll_back": true,
     "cell_id": "f57756f5a8f844da886caaf3b786fc2c",
     "execution_id": "cae60f86f3d8420c9ba4b245db64e226"
    },
    "scrolled": true
   },
   "outputs": [],
   "source": [
    "     (* 　n = 0 の場合　*)\n",
    "     (* サブゴールを簡単にする。*)\n",
    "     simpl."
   ]
  },
  {
   "cell_type": "code",
   "execution_count": null,
   "metadata": {
    "coq_kernel_metadata": {
     "auto_roll_back": true,
     "cell_id": "ce3dfe9033f5490f81ca14fd8ea1d7e4",
     "execution_id": "df6285d00d8440b4af9459b879b53f06"
    },
    "scrolled": true
   },
   "outputs": [],
   "source": [
    "(* 　n = 0 の場合が続いている。　*) \n",
    "(* m についての帰納法を使う。 *)\n",
    "induction m.\n",
    "\n",
    "(* m = 0 　の場合と、\n",
    "　　　　　m = S m' の場合で、サブゴールが二つ追加される。 \n",
    "     先のサブゴールと合わせて、サブゴールは三つになる。*)"
   ]
  },
  {
   "cell_type": "code",
   "execution_count": null,
   "metadata": {
    "coq_kernel_metadata": {
     "auto_roll_back": true,
     "cell_id": "3c077c3ab40d487ea6cb91b3762e73a2",
     "execution_id": "e5bea2a8ed7c48bf97b3ad2ba96d32e3"
    },
    "scrolled": true
   },
   "outputs": [],
   "source": [
    "(* 　n = 0 の場合が続いている。　*)\n",
    "(* 　m = 0 のサブゴールを簡単にする。　*)\n",
    "simpl."
   ]
  },
  {
   "cell_type": "code",
   "execution_count": null,
   "metadata": {
    "coq_kernel_metadata": {
     "auto_roll_back": true,
     "cell_id": "2557d427e5e345079bf176576d6c2894",
     "execution_id": "3c02653b872747f383f4c993816aa0b2"
    },
    "scrolled": true
   },
   "outputs": [],
   "source": [
    "(* 　n = 0 の場合が続いている。　*)\n",
    "(* 　m = 0 のサブゴールにreflexivity が使える。　*)\n",
    "reflexivity.\n",
    "(* 　m = 0 のサブゴールが消えて、サブゴールは二つになる。　*)"
   ]
  },
  {
   "cell_type": "code",
   "execution_count": null,
   "metadata": {
    "coq_kernel_metadata": {
     "auto_roll_back": true,
     "cell_id": "15b495bdd9104d398ba2a580f874b49d",
     "execution_id": "4a878469f64e4a4e84f70dfab09e4b4a"
    },
    "scrolled": true
   },
   "outputs": [],
   "source": [
    "(* 　n = 0 の場合が続いている。　*)\n",
    "(* 　m = S m'の場合のサブゴールを簡単にする。　*)\n",
    "simpl."
   ]
  },
  {
   "cell_type": "code",
   "execution_count": null,
   "metadata": {
    "coq_kernel_metadata": {
     "auto_roll_back": true,
     "cell_id": "266dd86de8a94eb880b5c46675eb8dca",
     "execution_id": "f0781686e24042da9607195545616b3f"
    },
    "scrolled": true
   },
   "outputs": [],
   "source": [
    "(* 　n = 0 の場合が続いている。　*)\n",
    "(* 　m = S m'の場合のサブゴールを IHmの右項を使って書き換える。　*)\n",
    "rewrite <- IHm."
   ]
  },
  {
   "cell_type": "code",
   "execution_count": null,
   "metadata": {
    "coq_kernel_metadata": {
     "auto_roll_back": true,
     "cell_id": "65085015a04a4a5a8f8ea22a34d4dea9",
     "execution_id": "b203f95d389b48fb8d8a06010b6bed8b"
    },
    "scrolled": true
   },
   "outputs": [],
   "source": [
    "(* 　n = 0 の場合が続いている。　*)\n",
    "(* 　m = S m'の場合のサブゴールに reflexivity が使える。　*)\n",
    "reflexivity.\n",
    "(* mについての帰納法の証明終わり。サブゴールが一つになる。*)\n",
    "(* n = S n' の場合の証明に移る。*)"
   ]
  },
  {
   "cell_type": "code",
   "execution_count": null,
   "metadata": {
    "coq_kernel_metadata": {
     "auto_roll_back": true,
     "cell_id": "a5c9225461ed46468b29e54200530127",
     "execution_id": "f74abdcf83354f088ec037e58ff40708"
    },
    "scrolled": true
   },
   "outputs": [],
   "source": [
    "(* n = S n' の場合 *)\n",
    "(* サブゴールを、「演習問題 3-4」で証明した、plus_n_Smの右項で書き換える *)\n",
    "(* Theorem plus_n_Sm : (forall n m : nat, S (n + m) = n + (S m) である。*)\n",
    "(* ここでエラーが出る人は、次の「Coqライブラリーの利用について」を参照すること *)\n",
    "\n",
    "rewrite <- plus_n_Sm."
   ]
  },
  {
   "cell_type": "code",
   "execution_count": null,
   "metadata": {
    "coq_kernel_metadata": {
     "auto_roll_back": true,
     "cell_id": "b1093dddbbc34f7e8a862d6765998585",
     "execution_id": "a1335710998f472eb377a0ac4a6bf6ee"
    },
    "scrolled": false
   },
   "outputs": [],
   "source": [
    "(* n = S n' の場合 *)\n",
    "(* サブゴールを、IHnの右項で書き換える *)\n",
    "rewrite <- IHn."
   ]
  },
  {
   "cell_type": "code",
   "execution_count": null,
   "metadata": {
    "coq_kernel_metadata": {
     "auto_roll_back": true,
     "cell_id": "3e350eb4d48540b184f907ccb81c64cf",
     "execution_id": "1f766c55a5ae47dd942bdd52bb862f77"
    }
   },
   "outputs": [],
   "source": [
    "(* n = S n' の場合 *)\n",
    "(* サブゴールを、単純にする。 *)\n",
    "simpl."
   ]
  },
  {
   "cell_type": "code",
   "execution_count": null,
   "metadata": {
    "coq_kernel_metadata": {
     "auto_roll_back": true,
     "cell_id": "4d8a6f0ddbea489d9cf4a89f1fefdc4f",
     "execution_id": "ad2f9c116c9545aa813f1e073db5d3f6"
    },
    "scrolled": true
   },
   "outputs": [],
   "source": [
    "(* n = S n' の場合 *)\n",
    "(* サブゴールに、reflexivityが使える。 *)\n",
    "reflexivity.\n",
    "(* n = S n' の場合 、証明終わり。*)"
   ]
  },
  {
   "cell_type": "code",
   "execution_count": null,
   "metadata": {
    "coq_kernel_metadata": {
     "auto_roll_back": true,
     "cell_id": "f7d34a1a8bf24afd80e84fa6fe2f84c9",
     "execution_id": "b86375be242c4bc1a344d55a93448dd9"
    }
   },
   "outputs": [],
   "source": [
    "Qed."
   ]
  },
  {
   "cell_type": "markdown",
   "metadata": {
    "coq_kernel_metadata": {
     "auto_roll_back": true,
     "cell_id": "fd4eb61f532b4a8b812eb0634b2d50f4",
     "execution_id": "790082d21bc547c18747c4269ae53df2"
    }
   },
   "source": [
    " ## Coq ライブラリーの利用について\n",
    " ここでは、先の「演習問題 3-4」で証明した、定理 plus_n_Sm を利用している。\n",
    "　　　　　   Theorem plus_n_Sm : (forall n m : nat, S (n + m) = n + (S m) である。\n",
    " この証明では、「演習問題 3-4」を解いてあることが、前提となっている。\n",
    "        \n",
    "ただ、皆が順番に演習問題を解いている保証はないので、ここは、少しちがったやり方を考えてみよう。\n",
    "\n",
    "実は、CoqのライブラリーArithには、この「演習問題 3-4」の定理 plus_n_Sm と、ほぼ同じものが、\n",
    "別の名前で登録されている。\n",
    "        \n",
    "次のコマンドを実行してみよう。"
   ]
  },
  {
   "cell_type": "code",
   "execution_count": null,
   "metadata": {
    "coq_kernel_metadata": {
     "auto_roll_back": true,
     "cell_id": "5f3a5acc8ddc4307961ea9da2a6732d3",
     "execution_id": "2611adc4b3f4401e86d2145c946aa673"
    }
   },
   "outputs": [],
   "source": [
    "Require Import Arith. \n",
    "Check Nat.add_succ_r."
   ]
  },
  {
   "cell_type": "markdown",
   "metadata": {
    "coq_kernel_metadata": {
     "auto_roll_back": true,
     "cell_id": "70a03fa464534a748790cb5b7a87ec54",
     "execution_id": "790082d21bc547c18747c4269ae53df2"
    }
   },
   "source": []
  },
  {
   "cell_type": "markdown",
   "metadata": {
    "coq_kernel_metadata": {
     "auto_roll_back": true,
     "cell_id": "b242bab15aae413f831c32b5abea736b",
     "execution_id": "790082d21bc547c18747c4269ae53df2"
    }
   },
   "source": [
    " この定理 Nat.add_succ_r は、「演習問題 3-4」の定理 plus_n_Sm と、ほぼ同じもので\n",
    " あることがわかる。ただし、等式の左右が逆である。\n",
    " \n",
    " だから 先の証明で使った \n",
    "    rewrite <- plus_n_Sm. \n",
    " の代わりに、\n",
    "    rewrite -> Nat.add_succ_r  　(左右が逆だから、rewriteの矢印は逆になる。)\n",
    " を使っても、証明はできる。\n",
    "\n",
    "<font color=\"blue\">ただし、今回のハンズオンの演習問題では、演習問題として既に証明済の定理のみを使って、証明をすることを原則としている。実は、今回のハンズオンの演習課題の多くは、ライブラリー Arith から採用したものである。</font>"
   ]
  },
  {
   "cell_type": "code",
   "execution_count": null,
   "metadata": {
    "coq_kernel_metadata": {
     "auto_roll_back": true,
     "cell_id": "4d08eb92833c4b619553fdf47bd689b9",
     "execution_id": "d65f9b4499274843959b050918680651"
    }
   },
   "outputs": [],
   "source": [
    "Check Nat.mul_0_r."
   ]
  },
  {
   "cell_type": "code",
   "execution_count": null,
   "metadata": {
    "coq_kernel_metadata": {
     "auto_roll_back": true,
     "cell_id": "1cefb85bfd92421c8a8cbe6b10b96637",
     "execution_id": "ea896d75c5d54a1a94068f14030d487a"
    }
   },
   "outputs": [],
   "source": [
    "(* 例えば、「演習問題 3-3」 は、ライブラリー上では、Nat.mul_0_r として、証明済である *)\n",
    "\n",
    "Theorem mult_0_r' : (forall n : nat,  n * 0 = 0).\n",
    "Proof.\n",
    "   exact  Nat.mul_0_r .\n",
    "Qed.  "
   ]
  },
  {
   "cell_type": "code",
   "execution_count": null,
   "metadata": {
    "coq_kernel_metadata": {
     "auto_roll_back": true,
     "cell_id": "c807fa596f4a447aba45ef22b1e95072",
     "execution_id": "1207d51a31ee4d5d9aad5ddd65bfbe8c"
    },
    "scrolled": true
   },
   "outputs": [],
   "source": [
    "Check Nat.add_succ_r."
   ]
  },
  {
   "cell_type": "code",
   "execution_count": null,
   "metadata": {
    "coq_kernel_metadata": {
     "auto_roll_back": true,
     "cell_id": "b78d4fff1fc7428280411f3008148030",
     "execution_id": "8a22a2fb014c446c84a6219ffaea5966"
    }
   },
   "outputs": [],
   "source": [
    "(* 「演習問題 3-4」 は、ライブラリー上では、Nat.add_succ_r  (左右が逆だが)として、証明済である *)\n",
    "\n",
    "Theorem  plus_n_Sm' : (forall n m : nat, S (n + m) = n + (S m) ).\n",
    "Proof.\n",
    "   symmetry. (* 左辺と右辺を入れ替える*)\n",
    "   apply  Nat.add_succ_r.\n",
    "Qed.  "
   ]
  },
  {
   "cell_type": "markdown",
   "metadata": {
    "coq_kernel_metadata": {
     "auto_roll_back": true,
     "cell_id": "6a5c4000bde946819d06d28c18a27790",
     "execution_id": "790082d21bc547c18747c4269ae53df2"
    }
   },
   "source": [
    "同様に、今回の和の交換則を証明する「演習問題 3-5」も、ライブラリーでは。Nat.add_comm として、証明済である。次を実行してみよ。"
   ]
  },
  {
   "cell_type": "code",
   "execution_count": null,
   "metadata": {
    "coq_kernel_metadata": {
     "auto_roll_back": true,
     "cell_id": "aa469bdb53d04ce7b3c7b4032923bfc5",
     "execution_id": "e6b3b91a259c4a00bd532768f59336a0"
    },
    "scrolled": true
   },
   "outputs": [],
   "source": [
    "Check Nat.add_comm."
   ]
  },
  {
   "cell_type": "code",
   "execution_count": null,
   "metadata": {
    "coq_kernel_metadata": {
     "auto_roll_back": true,
     "cell_id": "b0b4dd929904424098bafcbcd9f2f383",
     "execution_id": "7a896c4e90ab431b8bebbe6ba0e2f15e"
    }
   },
   "outputs": [],
   "source": [
    "(* 「演習問題 3-5」 は、ライブラリー上では、Nat.add_comm として、証明済である *)\n",
    "\n",
    "Theorem  plus_comm' : (forall n m : nat, n + m = m + n ).\n",
    "Proof.\n",
    "   exact  Nat.add_comm .\n",
    "Qed.  "
   ]
  },
  {
   "cell_type": "markdown",
   "metadata": {
    "coq_kernel_metadata": {
     "auto_roll_back": true
    }
   },
   "source": [
    "<a id=\"ans36\"></a>\n",
    "## 演習問題 3-6  解答\n",
    "　<font size=\"4\">次の定理を証明せよ。</font>\n",
    " <font color=\"blue\"　size=\"4\"><br>　Theorem plus_assoc : (forall n m o : nat, n + (m +o)  = (n + m) + o ).</font>\n",
    "\n",
    "## 解答\n",
    "### 下のCellを実行して確かめよ。\n",
    "\n",
    "<a id=\"hint36\"></a>"
   ]
  },
  {
   "cell_type": "code",
   "execution_count": null,
   "metadata": {
    "coq_kernel_metadata": {
     "auto_roll_back": true,
     "cell_id": "694cb1ed4d9b42f2825a605f2047f91a",
     "execution_id": "b18a65a397db4dc89d5e20b2c7f4c0b2"
    }
   },
   "outputs": [],
   "source": [
    "Theorem  plus_assoc : (forall n m o : nat, n + (m +o)  = (n + m) + o ).\n",
    "Proof."
   ]
  },
  {
   "cell_type": "code",
   "execution_count": null,
   "metadata": {
    "coq_kernel_metadata": {
     "auto_roll_back": true,
     "cell_id": "bad520e4b8ef42ef8ddbb39e22bc7611",
     "execution_id": "dee6d9097317458497074d8a3174f77d"
    }
   },
   "outputs": [],
   "source": [
    "(* forall を削除*)\n",
    "intros."
   ]
  },
  {
   "cell_type": "code",
   "execution_count": null,
   "metadata": {
    "coq_kernel_metadata": {
     "auto_roll_back": true,
     "cell_id": "a47bbd0732bb4635852815dea52de00d",
     "execution_id": "48dc61fd50164cefb87240161a7e80f4"
    }
   },
   "outputs": [],
   "source": [
    "(* n についての帰納法を使う。*)\n",
    "induction n.\n",
    "(* n = 0 　の場合と、\n",
    "　　　　n = S n' の場合で、サブゴールが二つに分かれる。 *)"
   ]
  },
  {
   "cell_type": "code",
   "execution_count": null,
   "metadata": {
    "coq_kernel_metadata": {
     "auto_roll_back": true,
     "cell_id": "ed04b9d529974f5bbdd9c429da073a7e",
     "execution_id": "a91d391bb7ba442696ba4e4dd419eaa2"
    }
   },
   "outputs": [],
   "source": [
    "(* n = 0 　の場合 *)\n",
    "(* サブゴールを単純にする。*)\n",
    "simpl."
   ]
  },
  {
   "cell_type": "code",
   "execution_count": null,
   "metadata": {
    "coq_kernel_metadata": {
     "auto_roll_back": true,
     "cell_id": "bd26b5414f774eea9c45fe74c2479768",
     "execution_id": "64f6a8fa65b84a3eb6e0115b0eec40a5"
    }
   },
   "outputs": [],
   "source": [
    "(* n = 0 　の場合 *)\n",
    "(* サブゴールにreflexivityが使える。*)\n",
    "reflexivity.\n",
    "(* n =0 の場合、証明終わり。 サブゴールが一つになる。 *)\n",
    "(* n = Sn' の場合の証明に入る。 *)"
   ]
  },
  {
   "cell_type": "code",
   "execution_count": null,
   "metadata": {
    "coq_kernel_metadata": {
     "auto_roll_back": true,
     "cell_id": "53d60b7f6ca04cbbab0d927d2d9e1e49",
     "execution_id": "f6e2b2e8756b4aebb53a64c0495dff89"
    }
   },
   "outputs": [],
   "source": [
    "(* n = S n' の場合*)\n",
    "(* サブゴールを単純にする。*)\n",
    "simpl."
   ]
  },
  {
   "cell_type": "code",
   "execution_count": null,
   "metadata": {
    "coq_kernel_metadata": {
     "auto_roll_back": true,
     "cell_id": "36068b5db36e45199df8507a8993ebe4",
     "execution_id": "9141013857314cad862304c40a0816c5"
    }
   },
   "outputs": [],
   "source": [
    "(* n = S n' の場合*)\n",
    "(* サブゴールを IHnの左項で書き換える。*)\n",
    "rewrite -> IHn."
   ]
  },
  {
   "cell_type": "code",
   "execution_count": null,
   "metadata": {
    "coq_kernel_metadata": {
     "auto_roll_back": true,
     "cell_id": "addc7b196d5741bd852ea4a3445b434b",
     "execution_id": "a362adb56b2e4a8d9f698cb576ecbd86"
    }
   },
   "outputs": [],
   "source": [
    "(* n = S n' の場合*)\n",
    "(* サブゴールに reflexivity が使える。*)\n",
    "reflexivity.\n",
    "(* n = S n' の場合、証明終わり。 *)"
   ]
  },
  {
   "cell_type": "code",
   "execution_count": null,
   "metadata": {
    "coq_kernel_metadata": {
     "auto_roll_back": true,
     "cell_id": "389ce05c4f6440629f56a7b5783a9ac9",
     "execution_id": "2250e560d6a4437cbde309c3e4013569"
    }
   },
   "outputs": [],
   "source": [
    "Qed."
   ]
  },
  {
   "cell_type": "markdown",
   "metadata": {
    "coq_kernel_metadata": {
     "auto_roll_back": true
    }
   },
   "source": [
    "<a id=\"ans37\"></a>\n",
    "## 演習問題 3-7  解答\n",
    "　<font size=\"4\">次の定理を証明せよ。</font>\n",
    " <font color=\"blue\"　size=\"4\"><br>　Theorem mul_succ_r : forall n m : nat,  n \\* S m = n \\* m + n  ).</font>\n",
    "\n",
    "## 解答\n",
    "### 下のCellを実行して確かめよ。\n",
    "#### <font color=\"red\">この証明では Coqライブラリーを利用していることに注意。</font>\n",
    "\n",
    "<a id=\"hint32\"></a>"
   ]
  },
  {
   "cell_type": "code",
   "execution_count": null,
   "metadata": {
    "coq_kernel_metadata": {
     "auto_roll_back": true,
     "cell_id": "b6200720d23f4c6a823226360851c3e3",
     "execution_id": "73299f2b5090460a8a9babce6e550160"
    }
   },
   "outputs": [],
   "source": [
    "Require Import Arith. \n",
    "\n",
    "Theorem  mul_succ_r : ( forall n m : nat,  n * S m = n * m + n  ).\n",
    "Proof."
   ]
  },
  {
   "cell_type": "code",
   "execution_count": null,
   "metadata": {
    "coq_kernel_metadata": {
     "auto_roll_back": true,
     "cell_id": "f7e79444c6364542995b7e3dc0ec267d",
     "execution_id": "e44775b078dc4ddd8828dea1d4d6dbbe"
    }
   },
   "outputs": [],
   "source": [
    "(* forall の削除*)\n",
    "intros."
   ]
  },
  {
   "cell_type": "code",
   "execution_count": null,
   "metadata": {
    "coq_kernel_metadata": {
     "auto_roll_back": true,
     "cell_id": "c445459d847e4a4480ff602a2b037add",
     "execution_id": "388aa745c00f43eb8e50a70aaab33ae8"
    }
   },
   "outputs": [],
   "source": [
    "(* n についての帰納法を使う *)\n",
    "induction n.\n",
    "(* n = 0 　の場合と、\n",
    "　　　　n = S n' の場合で、サブゴールが二つに分かれる。 *)"
   ]
  },
  {
   "cell_type": "code",
   "execution_count": null,
   "metadata": {
    "coq_kernel_metadata": {
     "auto_roll_back": true,
     "cell_id": "d71c9b3c759c41ee8f78f11c7a9c9f5e",
     "execution_id": "a2f2cfdcac184b3a865fdc06d1e949da"
    }
   },
   "outputs": [],
   "source": [
    "(* n = 0 の場合 *)\n",
    "(* サブゴールを簡単にする。 *)\n",
    "simpl."
   ]
  },
  {
   "cell_type": "code",
   "execution_count": null,
   "metadata": {
    "coq_kernel_metadata": {
     "auto_roll_back": true,
     "cell_id": "e5ff585b586b4f269f3c9a829ad268cd",
     "execution_id": "5cf98c6c362b4fb5a3aed127683dd8ee"
    }
   },
   "outputs": [],
   "source": [
    "(* n = 0 の場合 *)\n",
    "(* サブゴールにreflexivity が使える。 *)\n",
    "reflexivity.\n",
    "(* n = 0 の場合、証明終わり。サブゴールは一つになる。\n",
    "　　　　n = S n' の場合の証明に移る。*)"
   ]
  },
  {
   "cell_type": "code",
   "execution_count": null,
   "metadata": {
    "coq_kernel_metadata": {
     "auto_roll_back": true,
     "cell_id": "36ec18bd0031468a8b15d521b658071e",
     "execution_id": "81630c3c3e26496983497251ca17b328"
    }
   },
   "outputs": [],
   "source": [
    "(*　n = S n' の場合 *)\n",
    "(* サブゴールを簡単にする。　*)\n",
    "simpl."
   ]
  },
  {
   "cell_type": "code",
   "execution_count": null,
   "metadata": {
    "coq_kernel_metadata": {
     "auto_roll_back": true,
     "cell_id": "a55dbe19ae3f47dd877c469cda275452",
     "execution_id": "894525d60d744d3cbc93ed6db135044d"
    },
    "scrolled": true
   },
   "outputs": [],
   "source": [
    "(*　n = S n' の場合 *)\n",
    "(* サブゴールを、IHnの左項で書き換える。　*)\n",
    "rewrite -> IHn."
   ]
  },
  {
   "cell_type": "code",
   "execution_count": null,
   "metadata": {
    "coq_kernel_metadata": {
     "auto_roll_back": true,
     "cell_id": "1811a2ddd0a64a088814fe2a53c6f741",
     "execution_id": "2167dfca023e41cb858c230de79c31be"
    },
    "scrolled": true
   },
   "outputs": [],
   "source": [
    "(*　n = S n' の場合 *)\n",
    "(* サブゴールを、Nat.add_succ_rの右項で書き換える。　*)\n",
    "(* Nat.add_succ_r\n",
    "     : forall n m : nat, n + S m = S (n + m)\n",
    "で、「演習問題　3-4」で証明した plus_n_Sm と同じものである。*)\n",
    "\n",
    "rewrite <- Nat.add_succ_r."
   ]
  },
  {
   "cell_type": "code",
   "execution_count": null,
   "metadata": {
    "coq_kernel_metadata": {
     "auto_roll_back": true,
     "cell_id": "2a5aaca51a95433b8bbe6394f9b45955",
     "execution_id": "15844cb75c614e359f80945c0cef0348"
    },
    "scrolled": true
   },
   "outputs": [],
   "source": [
    "(*　n = S n' の場合 *)\n",
    "(* サブゴールを、再び、Nat.add_succ_rの右項で書き換える。　*)\n",
    "\n",
    "rewrite <- Nat.add_succ_r."
   ]
  },
  {
   "cell_type": "code",
   "execution_count": null,
   "metadata": {
    "coq_kernel_metadata": {
     "auto_roll_back": true,
     "cell_id": "a1397540a8a94994852fd3c014c3da2b",
     "execution_id": "ae54e354f22844fd88fef2d726f3db43"
    },
    "scrolled": true
   },
   "outputs": [],
   "source": [
    "(*　n = S n' の場合 *)\n",
    "(* サブゴールを、Nat.add_assocの左項で書き換える。　*)\n",
    "(* Nat.add_assoc\n",
    "     : forall n m p : nat, n + (m + p) = n + m + p\n",
    " で、「演習問題 3-6」　で証明した plus_assoc と同じものである。 *)\n",
    "\n",
    "rewrite -> Nat.add_assoc."
   ]
  },
  {
   "cell_type": "code",
   "execution_count": null,
   "metadata": {
    "coq_kernel_metadata": {
     "auto_roll_back": true,
     "cell_id": "acd9b95f58284ce9af84d416ab74eb78",
     "execution_id": "4082c10b8def466f84a9c43a60848474"
    },
    "scrolled": true
   },
   "outputs": [],
   "source": [
    "(*　n = S n' の場合 *)\n",
    "(* サブゴールに reflexivity が使える。　*)\n",
    "reflexivity.\n",
    "(*　n = S n' の場合、証明終わり。 *)"
   ]
  },
  {
   "cell_type": "code",
   "execution_count": null,
   "metadata": {
    "coq_kernel_metadata": {
     "auto_roll_back": true,
     "cell_id": "7d412c29bbea4b218d8a49aeaf3b1535",
     "execution_id": "6a487a52b7eb4fd191878bdde358d176"
    }
   },
   "outputs": [],
   "source": [
    "Qed."
   ]
  },
  {
   "cell_type": "markdown",
   "metadata": {
    "coq_kernel_metadata": {
     "auto_roll_back": true
    }
   },
   "source": [
    "<a id=\"ans38\"></a>\n",
    "## 演習問題 3-8  解答\n",
    "　<font size=\"4\">次の定理を証明せよ。</font>\n",
    " <font color=\"blue\"　size=\"4\"><br>　Theorem mult_comm : (forall n m : nat,  n \\* m = m \\* n ).</font>\n",
    "\n",
    "## 解答\n",
    "### 下のCellを実行して確かめよ。\n",
    "#### <font color=\"red\">この証明では Coqライブラリーを利用していることに注意。</font>\n",
    "\n",
    "<a id=\"hint38\"></a>"
   ]
  },
  {
   "cell_type": "code",
   "execution_count": null,
   "metadata": {
    "coq_kernel_metadata": {
     "auto_roll_back": true,
     "cell_id": "87524426307449238ff8b6be75e267b2",
     "execution_id": "31b61fe14b99422d9e8f6100bc1ff653"
    }
   },
   "outputs": [],
   "source": [
    " Require Import Arith. \n",
    "\n",
    "Theorem  mult_comm : (forall n m : nat,  n * m = m * n ).\n",
    "Proof."
   ]
  },
  {
   "cell_type": "code",
   "execution_count": null,
   "metadata": {
    "coq_kernel_metadata": {
     "auto_roll_back": true,
     "cell_id": "0d9ae9ae8ffb4024b5bb31028cda810e",
     "execution_id": "8a9604eeda9441bbae34ac99d55ddc95"
    }
   },
   "outputs": [],
   "source": [
    "(* forall の削除 *)\n",
    "intros."
   ]
  },
  {
   "cell_type": "code",
   "execution_count": null,
   "metadata": {
    "coq_kernel_metadata": {
     "auto_roll_back": true,
     "cell_id": "4537a0ea722240478b7c434822802d96",
     "execution_id": "47442b1d80474cbd854f3bb176764dff"
    }
   },
   "outputs": [],
   "source": [
    "(* n についての帰納法を使う *)\n",
    "induction n.\n",
    "(* n = 0 　の場合と、\n",
    "　　　　n = S n' の場合で、サブゴールが二つに分かれる。 *)"
   ]
  },
  {
   "cell_type": "code",
   "execution_count": null,
   "metadata": {
    "coq_kernel_metadata": {
     "auto_roll_back": true,
     "cell_id": "629efc744554480dab139e7c37aebcf7",
     "execution_id": "7eda2db59f3849c687687cb662dba919"
    }
   },
   "outputs": [],
   "source": [
    "(* n = 0 の場合 *)\n",
    "(* サブゴールを簡単にする。 *)\n",
    "simpl."
   ]
  },
  {
   "cell_type": "code",
   "execution_count": null,
   "metadata": {
    "coq_kernel_metadata": {
     "auto_roll_back": true,
     "cell_id": "93e576a1a5f84de68f5af1fb9b2a0395",
     "execution_id": "fdb96e8397a74a9989c9d42668e03532"
    }
   },
   "outputs": [],
   "source": [
    "(* n = 0 の場合 *)\n",
    "(* サブゴールを、Nat.mul_0_r の左項で書き換える。 *)\n",
    "(* Nat.mul_0_r\n",
    "     : forall n : nat, n * 0 = 0\n",
    "で、「演習問題 3-3」で証明した　 mult_0_r と同じものである。*)\n",
    "\n",
    "rewrite -> Nat.mul_0_r."
   ]
  },
  {
   "cell_type": "code",
   "execution_count": null,
   "metadata": {
    "coq_kernel_metadata": {
     "auto_roll_back": true,
     "cell_id": "0b2ae17398f645e6a3a64529a680e2bf",
     "execution_id": "a84ad0d4a8764b218d80dbd671212b86"
    }
   },
   "outputs": [],
   "source": [
    "(* n = 0 の場合 *)\n",
    "(* サブゴールにreflexivity が使える。 *)\n",
    "reflexivity.\n",
    "(* n = 0 の場合、証明終わり。サブゴールは一つになる。\n",
    "　　　　n = S n' の場合の証明に移る。*)"
   ]
  },
  {
   "cell_type": "code",
   "execution_count": null,
   "metadata": {
    "coq_kernel_metadata": {
     "auto_roll_back": true,
     "cell_id": "24d2d7e03ca04e5f86051ea1edf64c76",
     "execution_id": "f10d007e40bd4a8e80931ba924f5485c"
    }
   },
   "outputs": [],
   "source": [
    "(* n = S n' の場合 *)\n",
    "(* サブゴールを簡単にする。*)\n",
    "simpl."
   ]
  },
  {
   "cell_type": "code",
   "execution_count": null,
   "metadata": {
    "coq_kernel_metadata": {
     "auto_roll_back": true,
     "cell_id": "1896ee42875c4f1384ea86f029ee2ac7",
     "execution_id": "64f9f864799644898ff24512194839eb"
    }
   },
   "outputs": [],
   "source": [
    "(* n = S n' の場合 *)\n",
    "(* サブゴールを IHnの左項で書き換える。*)\n",
    "rewrite -> IHn."
   ]
  },
  {
   "cell_type": "code",
   "execution_count": null,
   "metadata": {
    "coq_kernel_metadata": {
     "auto_roll_back": true,
     "cell_id": "fe54b33aeafe41d6ab1fb4a7369e60f3",
     "execution_id": "d687040054194c948fe55ea5942e3482"
    }
   },
   "outputs": [],
   "source": [
    "(* n = S n' の場合 *)\n",
    "(* サブゴールを Nat.mul_succ_r の左項で書き換える。*)\n",
    "(* Nat.add_succ_r\n",
    "     : forall n m : nat, n + S m = S (n + m)\n",
    "で、「演習問題　3-4」で証明した plus_n_Sm と同じものである。*)\n",
    "\n",
    "rewrite -> Nat.mul_succ_r."
   ]
  },
  {
   "cell_type": "code",
   "execution_count": null,
   "metadata": {
    "coq_kernel_metadata": {
     "auto_roll_back": true,
     "cell_id": "a92c8804a7684ddb8aab400bf1098c97",
     "execution_id": "f7a85603e6ae47c4804ced485d807cd6"
    }
   },
   "outputs": [],
   "source": [
    "(* n = S n' の場合 *)\n",
    "(* Nat.add_comm.（加法の可換律）を適用する。*)\n",
    "(* Nat.add_comm\n",
    "     : forall n m : nat, n + m = m + n\n",
    " で、「演習問題 3-5」で証明した plus_comm と同じである。*)\n",
    "apply Nat.add_comm.\n",
    "(* n = S n' の場合、証明終わり。 *)"
   ]
  },
  {
   "cell_type": "code",
   "execution_count": null,
   "metadata": {
    "coq_kernel_metadata": {
     "auto_roll_back": true,
     "cell_id": "11affa98581b4fbf8eaa513927166e77",
     "execution_id": "db43c0476a3649ec901e32b645d3262a"
    }
   },
   "outputs": [],
   "source": [
    "Qed."
   ]
  },
  {
   "cell_type": "code",
   "execution_count": null,
   "metadata": {
    "coq_kernel_metadata": {
     "auto_roll_back": true
    }
   },
   "outputs": [],
   "source": []
  }
 ],
 "metadata": {
  "kernelspec": {
   "display_name": "Coq",
   "language": "coq",
   "name": "coq"
  },
  "language_info": {
   "file_extension": ".v",
   "mimetype": "text/x-coq",
   "name": "coq",
   "version": "8.9.1"
  }
 },
 "nbformat": 4,
 "nbformat_minor": 2
}
