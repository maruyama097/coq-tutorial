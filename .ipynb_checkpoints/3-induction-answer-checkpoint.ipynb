{
 "cells": [
  {
   "cell_type": "markdown",
   "metadata": {
    "coq_kernel_metadata": {
     "auto_roll_back": true
    }
   },
   "source": [
    "# 演習問題 3　作業用ページ\n",
    "\n",
    "[演習問題 3-1](#ex11) [演習問題 3-2](#ex12) [演習問題 3-3](#ex13) [演習問題 3-4](#ex14) [演習問題 3-5](#ex15) [演習問題 3-6](#ex16) [演習問題 3-7](#ex17) [演習問題 3-8]( #ex18) "
   ]
  },
  {
   "cell_type": "markdown",
   "metadata": {
    "coq_kernel_metadata": {
     "auto_roll_back": true
    }
   },
   "source": [
    "<a id=\"ex31\"></a>\n",
    "## 演習問題 3-1  作業用\n",
    "　<font size=\"4\">次の定理を証明せよ。</font>\n",
    " <font color=\"blue\"　size=\"4\"><br>　Theorem plus_n_O : (forall n : nat, n + 0 = n).</font>\n",
    "\n",
    "### 下記の証明を完成させよ。\n",
    "#### [ヒント: 解答のコメントを読む](#hint31) /  [解答を見る](#ans31) "
   ]
  },
  {
   "cell_type": "code",
   "execution_count": null,
   "metadata": {
    "coq_kernel_metadata": {
     "auto_roll_back": true
    }
   },
   "outputs": [],
   "source": [
    "Theorem plus_n_O : (forall n : nat, n + 0 = n).\n",
    "Proof."
   ]
  },
  {
   "cell_type": "code",
   "execution_count": null,
   "metadata": {
    "coq_kernel_metadata": {
     "auto_roll_back": true
    }
   },
   "outputs": [],
   "source": []
  },
  {
   "cell_type": "code",
   "execution_count": null,
   "metadata": {
    "coq_kernel_metadata": {
     "auto_roll_back": true
    }
   },
   "outputs": [],
   "source": []
  },
  {
   "cell_type": "code",
   "execution_count": null,
   "metadata": {
    "coq_kernel_metadata": {
     "auto_roll_back": true
    }
   },
   "outputs": [],
   "source": []
  },
  {
   "cell_type": "code",
   "execution_count": null,
   "metadata": {
    "coq_kernel_metadata": {
     "auto_roll_back": true
    }
   },
   "outputs": [],
   "source": []
  },
  {
   "cell_type": "code",
   "execution_count": null,
   "metadata": {
    "coq_kernel_metadata": {
     "auto_roll_back": true
    }
   },
   "outputs": [],
   "source": []
  },
  {
   "cell_type": "code",
   "execution_count": null,
   "metadata": {
    "coq_kernel_metadata": {
     "auto_roll_back": true
    }
   },
   "outputs": [],
   "source": []
  },
  {
   "cell_type": "code",
   "execution_count": null,
   "metadata": {
    "coq_kernel_metadata": {
     "auto_roll_back": true
    }
   },
   "outputs": [],
   "source": []
  },
  {
   "cell_type": "code",
   "execution_count": null,
   "metadata": {
    "coq_kernel_metadata": {
     "auto_roll_back": true
    }
   },
   "outputs": [],
   "source": []
  },
  {
   "cell_type": "code",
   "execution_count": null,
   "metadata": {
    "coq_kernel_metadata": {
     "auto_roll_back": true
    }
   },
   "outputs": [],
   "source": [
    "Admitted. (* 最後にここを Qed. に変える。*)"
   ]
  },
  {
   "cell_type": "markdown",
   "metadata": {
    "coq_kernel_metadata": {
     "auto_roll_back": true
    }
   },
   "source": [
    "<a id=\"ex32\"></a>\n",
    "## 演習問題 3-2  作業用\n",
    "　<font size=\"4\">次の定理を証明せよ。</font>\n",
    " <font color=\"blue\"　size=\"4\"><br>　Theorem minus_diag : (forall n : nat, minus n n = 0).</font>\n",
    "\n",
    "### 下記の証明を完成させよ。\n",
    "#### [ヒント: 解答のコメントを読む](#hint32) /  [解答を見る](#ans32) "
   ]
  },
  {
   "cell_type": "code",
   "execution_count": null,
   "metadata": {
    "coq_kernel_metadata": {
     "auto_roll_back": true
    }
   },
   "outputs": [],
   "source": [
    "Theorem minus_diag : (forall n : nat, minus n n = 0).\n",
    "Proof."
   ]
  },
  {
   "cell_type": "code",
   "execution_count": null,
   "metadata": {
    "coq_kernel_metadata": {
     "auto_roll_back": true
    }
   },
   "outputs": [],
   "source": []
  },
  {
   "cell_type": "code",
   "execution_count": null,
   "metadata": {
    "coq_kernel_metadata": {
     "auto_roll_back": true
    }
   },
   "outputs": [],
   "source": []
  },
  {
   "cell_type": "code",
   "execution_count": null,
   "metadata": {
    "coq_kernel_metadata": {
     "auto_roll_back": true
    }
   },
   "outputs": [],
   "source": []
  },
  {
   "cell_type": "code",
   "execution_count": null,
   "metadata": {
    "coq_kernel_metadata": {
     "auto_roll_back": true
    }
   },
   "outputs": [],
   "source": []
  },
  {
   "cell_type": "code",
   "execution_count": null,
   "metadata": {
    "coq_kernel_metadata": {
     "auto_roll_back": true
    }
   },
   "outputs": [],
   "source": []
  },
  {
   "cell_type": "code",
   "execution_count": null,
   "metadata": {
    "coq_kernel_metadata": {
     "auto_roll_back": true
    }
   },
   "outputs": [],
   "source": []
  },
  {
   "cell_type": "code",
   "execution_count": null,
   "metadata": {
    "coq_kernel_metadata": {
     "auto_roll_back": true
    }
   },
   "outputs": [],
   "source": []
  },
  {
   "cell_type": "code",
   "execution_count": null,
   "metadata": {
    "coq_kernel_metadata": {
     "auto_roll_back": true
    }
   },
   "outputs": [],
   "source": []
  },
  {
   "cell_type": "code",
   "execution_count": null,
   "metadata": {
    "coq_kernel_metadata": {
     "auto_roll_back": true
    }
   },
   "outputs": [],
   "source": [
    "Admitted. (* 最後にここを Qed. に変える。*)"
   ]
  },
  {
   "cell_type": "markdown",
   "metadata": {
    "coq_kernel_metadata": {
     "auto_roll_back": true
    }
   },
   "source": [
    "<a id=\"ex33\"></a>\n",
    "## 演習問題 3-3  作業用\n",
    "　<font size=\"4\">次の定理を証明せよ。</font>\n",
    " <font color=\"blue\"　size=\"4\"><br>　Theorem mult_0_r : (forall n : nat,  n * 0 = 0).</font>\n",
    "\n",
    "### 下記の証明を完成させよ。\n",
    "#### [ヒント: 解答のコメントを読む](#hint33) /  [解答を見る](#ans33) "
   ]
  },
  {
   "cell_type": "code",
   "execution_count": null,
   "metadata": {
    "coq_kernel_metadata": {
     "auto_roll_back": true
    }
   },
   "outputs": [],
   "source": [
    "Theorem mult_0_r : (forall n : nat,  n * 0 = 0).\n",
    "Proof."
   ]
  },
  {
   "cell_type": "code",
   "execution_count": null,
   "metadata": {
    "coq_kernel_metadata": {
     "auto_roll_back": true
    }
   },
   "outputs": [],
   "source": []
  },
  {
   "cell_type": "code",
   "execution_count": null,
   "metadata": {
    "coq_kernel_metadata": {
     "auto_roll_back": true
    }
   },
   "outputs": [],
   "source": []
  },
  {
   "cell_type": "code",
   "execution_count": null,
   "metadata": {
    "coq_kernel_metadata": {
     "auto_roll_back": true
    }
   },
   "outputs": [],
   "source": []
  },
  {
   "cell_type": "code",
   "execution_count": null,
   "metadata": {
    "coq_kernel_metadata": {
     "auto_roll_back": true
    }
   },
   "outputs": [],
   "source": []
  },
  {
   "cell_type": "code",
   "execution_count": null,
   "metadata": {
    "coq_kernel_metadata": {
     "auto_roll_back": true
    }
   },
   "outputs": [],
   "source": []
  },
  {
   "cell_type": "code",
   "execution_count": null,
   "metadata": {
    "coq_kernel_metadata": {
     "auto_roll_back": true
    }
   },
   "outputs": [],
   "source": []
  },
  {
   "cell_type": "code",
   "execution_count": null,
   "metadata": {
    "coq_kernel_metadata": {
     "auto_roll_back": true
    }
   },
   "outputs": [],
   "source": []
  },
  {
   "cell_type": "code",
   "execution_count": null,
   "metadata": {
    "coq_kernel_metadata": {
     "auto_roll_back": true
    }
   },
   "outputs": [],
   "source": []
  },
  {
   "cell_type": "code",
   "execution_count": null,
   "metadata": {
    "coq_kernel_metadata": {
     "auto_roll_back": true
    }
   },
   "outputs": [],
   "source": []
  },
  {
   "cell_type": "code",
   "execution_count": null,
   "metadata": {
    "coq_kernel_metadata": {
     "auto_roll_back": true
    }
   },
   "outputs": [],
   "source": []
  },
  {
   "cell_type": "code",
   "execution_count": null,
   "metadata": {
    "coq_kernel_metadata": {
     "auto_roll_back": true
    }
   },
   "outputs": [],
   "source": [
    "Admitted. (* 最後にここを Qed. に変える。*)"
   ]
  },
  {
   "cell_type": "markdown",
   "metadata": {
    "coq_kernel_metadata": {
     "auto_roll_back": true
    }
   },
   "source": [
    "<a id=\"ex34\"></a>\n",
    "## 演習問題 3-4  作業用\n",
    "　<font size=\"4\">次の定理を証明せよ。</font>\n",
    " <font color=\"blue\"　size=\"4\"><br>　Theorem plus_n_Sm : (forall n m : nat, S (n + m) = n + (S m) ).</font>\n",
    "\n",
    "### 下記の証明を完成させよ。\n",
    "#### [ヒント: 解答のコメントを読む](#hint34) /  [解答を見る](#ans34) "
   ]
  },
  {
   "cell_type": "code",
   "execution_count": null,
   "metadata": {
    "coq_kernel_metadata": {
     "auto_roll_back": true
    }
   },
   "outputs": [],
   "source": [
    "Theorem plus_n_Sm : (forall n m : nat, S (n + m) = n + (S m) ).\n",
    "Proof."
   ]
  },
  {
   "cell_type": "code",
   "execution_count": null,
   "metadata": {
    "coq_kernel_metadata": {
     "auto_roll_back": true
    }
   },
   "outputs": [],
   "source": []
  },
  {
   "cell_type": "code",
   "execution_count": null,
   "metadata": {
    "coq_kernel_metadata": {
     "auto_roll_back": true
    }
   },
   "outputs": [],
   "source": []
  },
  {
   "cell_type": "code",
   "execution_count": null,
   "metadata": {
    "coq_kernel_metadata": {
     "auto_roll_back": true
    }
   },
   "outputs": [],
   "source": []
  },
  {
   "cell_type": "code",
   "execution_count": null,
   "metadata": {
    "coq_kernel_metadata": {
     "auto_roll_back": true
    }
   },
   "outputs": [],
   "source": []
  },
  {
   "cell_type": "code",
   "execution_count": null,
   "metadata": {
    "coq_kernel_metadata": {
     "auto_roll_back": true
    }
   },
   "outputs": [],
   "source": []
  },
  {
   "cell_type": "code",
   "execution_count": null,
   "metadata": {
    "coq_kernel_metadata": {
     "auto_roll_back": true
    }
   },
   "outputs": [],
   "source": []
  },
  {
   "cell_type": "code",
   "execution_count": null,
   "metadata": {
    "coq_kernel_metadata": {
     "auto_roll_back": true
    }
   },
   "outputs": [],
   "source": []
  },
  {
   "cell_type": "code",
   "execution_count": null,
   "metadata": {
    "coq_kernel_metadata": {
     "auto_roll_back": true
    }
   },
   "outputs": [],
   "source": [
    "Admitted. (* 最後にここを Qed. に変える。*)"
   ]
  },
  {
   "cell_type": "markdown",
   "metadata": {
    "coq_kernel_metadata": {
     "auto_roll_back": true
    }
   },
   "source": [
    "<a id=\"ex35\"></a>\n",
    "## 演習問題 3-5  作業用\n",
    "　<font size=\"4\">次の定理を証明せよ。</font>\n",
    " <font color=\"blue\"　size=\"4\"><br>　Theorem plus_comm : (forall n m : nat, n + m = m + n ).</font>\n",
    "\n",
    "### 下記の証明を完成させよ。\n",
    "#### [ヒント: 解答のコメントを読む](#hint35) /  [解答を見る](#ans35) "
   ]
  },
  {
   "cell_type": "code",
   "execution_count": null,
   "metadata": {
    "coq_kernel_metadata": {
     "auto_roll_back": true
    }
   },
   "outputs": [],
   "source": [
    "Theorem plus_comm : (forall n m : nat, n + m = m + n ).\n",
    "Proof."
   ]
  },
  {
   "cell_type": "code",
   "execution_count": null,
   "metadata": {
    "coq_kernel_metadata": {
     "auto_roll_back": true
    }
   },
   "outputs": [],
   "source": []
  },
  {
   "cell_type": "code",
   "execution_count": null,
   "metadata": {
    "coq_kernel_metadata": {
     "auto_roll_back": true
    }
   },
   "outputs": [],
   "source": []
  },
  {
   "cell_type": "code",
   "execution_count": null,
   "metadata": {
    "coq_kernel_metadata": {
     "auto_roll_back": true
    }
   },
   "outputs": [],
   "source": []
  },
  {
   "cell_type": "code",
   "execution_count": null,
   "metadata": {
    "coq_kernel_metadata": {
     "auto_roll_back": true
    }
   },
   "outputs": [],
   "source": []
  },
  {
   "cell_type": "code",
   "execution_count": null,
   "metadata": {
    "coq_kernel_metadata": {
     "auto_roll_back": true
    }
   },
   "outputs": [],
   "source": []
  },
  {
   "cell_type": "code",
   "execution_count": null,
   "metadata": {
    "coq_kernel_metadata": {
     "auto_roll_back": true
    }
   },
   "outputs": [],
   "source": []
  },
  {
   "cell_type": "code",
   "execution_count": null,
   "metadata": {
    "coq_kernel_metadata": {
     "auto_roll_back": true
    }
   },
   "outputs": [],
   "source": []
  },
  {
   "cell_type": "code",
   "execution_count": null,
   "metadata": {
    "coq_kernel_metadata": {
     "auto_roll_back": true
    }
   },
   "outputs": [],
   "source": []
  },
  {
   "cell_type": "code",
   "execution_count": null,
   "metadata": {
    "coq_kernel_metadata": {
     "auto_roll_back": true
    }
   },
   "outputs": [],
   "source": []
  },
  {
   "cell_type": "code",
   "execution_count": null,
   "metadata": {
    "coq_kernel_metadata": {
     "auto_roll_back": true
    }
   },
   "outputs": [],
   "source": []
  },
  {
   "cell_type": "code",
   "execution_count": null,
   "metadata": {
    "coq_kernel_metadata": {
     "auto_roll_back": true
    }
   },
   "outputs": [],
   "source": [
    "Admitted. (* 最後にここを Qed. に変える。*)"
   ]
  },
  {
   "cell_type": "markdown",
   "metadata": {
    "coq_kernel_metadata": {
     "auto_roll_back": true
    }
   },
   "source": [
    "<a id=\"ex36\"></a>\n",
    "## 演習問題 3-6  作業用\n",
    "　<font size=\"4\">次の定理を証明せよ。</font>\n",
    " <font color=\"blue\"　size=\"4\"><br>　Theorem plus_assoc : (forall n m o : nat, n + (m +o)  = (n + m) + o ).</font>\n",
    "\n",
    "### 下記の証明を完成させよ。\n",
    "#### [ヒント: 解答のコメントを読む](#hint36) /  [解答を見る](#ans36) "
   ]
  },
  {
   "cell_type": "code",
   "execution_count": null,
   "metadata": {
    "coq_kernel_metadata": {
     "auto_roll_back": true
    }
   },
   "outputs": [],
   "source": [
    "Theorem plus_assoc : (forall n m o : nat, n + (m +o)  = (n + m) + o ).\n",
    "Proof."
   ]
  },
  {
   "cell_type": "code",
   "execution_count": null,
   "metadata": {
    "coq_kernel_metadata": {
     "auto_roll_back": true
    }
   },
   "outputs": [],
   "source": []
  },
  {
   "cell_type": "code",
   "execution_count": null,
   "metadata": {
    "coq_kernel_metadata": {
     "auto_roll_back": true
    }
   },
   "outputs": [],
   "source": []
  },
  {
   "cell_type": "code",
   "execution_count": null,
   "metadata": {
    "coq_kernel_metadata": {
     "auto_roll_back": true
    }
   },
   "outputs": [],
   "source": []
  },
  {
   "cell_type": "code",
   "execution_count": null,
   "metadata": {
    "coq_kernel_metadata": {
     "auto_roll_back": true
    }
   },
   "outputs": [],
   "source": []
  },
  {
   "cell_type": "code",
   "execution_count": null,
   "metadata": {
    "coq_kernel_metadata": {
     "auto_roll_back": true
    }
   },
   "outputs": [],
   "source": []
  },
  {
   "cell_type": "code",
   "execution_count": null,
   "metadata": {
    "coq_kernel_metadata": {
     "auto_roll_back": true
    }
   },
   "outputs": [],
   "source": []
  },
  {
   "cell_type": "code",
   "execution_count": null,
   "metadata": {
    "coq_kernel_metadata": {
     "auto_roll_back": true
    }
   },
   "outputs": [],
   "source": []
  },
  {
   "cell_type": "code",
   "execution_count": null,
   "metadata": {
    "coq_kernel_metadata": {
     "auto_roll_back": true
    }
   },
   "outputs": [],
   "source": []
  },
  {
   "cell_type": "code",
   "execution_count": null,
   "metadata": {
    "coq_kernel_metadata": {
     "auto_roll_back": true
    }
   },
   "outputs": [],
   "source": []
  },
  {
   "cell_type": "code",
   "execution_count": null,
   "metadata": {
    "coq_kernel_metadata": {
     "auto_roll_back": true
    }
   },
   "outputs": [],
   "source": [
    "Admitted. (* 最後にここを Qed. に変える。*)"
   ]
  },
  {
   "cell_type": "markdown",
   "metadata": {
    "coq_kernel_metadata": {
     "auto_roll_back": true
    }
   },
   "source": [
    "<a id=\"ex37\"></a>\n",
    "## 演習問題 3-7  作業用\n",
    "　<font size=\"4\">次の定理を証明せよ。</font>\n",
    " <font color=\"blue\"　size=\"4\"><br>　Theorem mul_succ_r : forall n m : nat,  n \\* S m = n \\* m + n  ).</font>\n",
    "\n",
    "### 下記の証明を完成させよ。\n",
    "#### [ヒント: 解答のコメントを読む](#hint37) /  [解答を見る](#ans37) "
   ]
  },
  {
   "cell_type": "code",
   "execution_count": null,
   "metadata": {
    "coq_kernel_metadata": {
     "auto_roll_back": true
    }
   },
   "outputs": [],
   "source": [
    "Theorem mul_succ_r : forall n m : nat,  n * S m = n * m + n  ).\n",
    "Proof."
   ]
  },
  {
   "cell_type": "code",
   "execution_count": null,
   "metadata": {
    "coq_kernel_metadata": {
     "auto_roll_back": true
    }
   },
   "outputs": [],
   "source": []
  },
  {
   "cell_type": "code",
   "execution_count": null,
   "metadata": {
    "coq_kernel_metadata": {
     "auto_roll_back": true
    }
   },
   "outputs": [],
   "source": []
  },
  {
   "cell_type": "code",
   "execution_count": null,
   "metadata": {
    "coq_kernel_metadata": {
     "auto_roll_back": true
    }
   },
   "outputs": [],
   "source": []
  },
  {
   "cell_type": "code",
   "execution_count": null,
   "metadata": {
    "coq_kernel_metadata": {
     "auto_roll_back": true
    }
   },
   "outputs": [],
   "source": []
  },
  {
   "cell_type": "code",
   "execution_count": null,
   "metadata": {
    "coq_kernel_metadata": {
     "auto_roll_back": true
    }
   },
   "outputs": [],
   "source": []
  },
  {
   "cell_type": "code",
   "execution_count": null,
   "metadata": {
    "coq_kernel_metadata": {
     "auto_roll_back": true
    }
   },
   "outputs": [],
   "source": []
  },
  {
   "cell_type": "code",
   "execution_count": null,
   "metadata": {
    "coq_kernel_metadata": {
     "auto_roll_back": true
    }
   },
   "outputs": [],
   "source": []
  },
  {
   "cell_type": "code",
   "execution_count": null,
   "metadata": {
    "coq_kernel_metadata": {
     "auto_roll_back": true
    }
   },
   "outputs": [],
   "source": [
    "Admitted. (* 最後にここを Qed. に変える。*)"
   ]
  },
  {
   "cell_type": "markdown",
   "metadata": {
    "coq_kernel_metadata": {
     "auto_roll_back": true
    }
   },
   "source": [
    "<a id=\"ex38\"></a>\n",
    "## 演習問題 3-8  作業用\n",
    "　<font size=\"4\">次の定理を証明せよ。</font>\n",
    " <font color=\"blue\"　size=\"4\"><br>　Theorem mult_comm : (forall n m : nat,  n \\* m = m \\* n ).</font>\n",
    "\n",
    "### 下記の証明を完成させよ。\n",
    "#### [ヒント: 解答のコメントを読む](#hint38) /  [解答を見る](#ans38) "
   ]
  },
  {
   "cell_type": "code",
   "execution_count": null,
   "metadata": {
    "coq_kernel_metadata": {
     "auto_roll_back": true
    }
   },
   "outputs": [],
   "source": [
    "Theorem mult_comm : (forall n m : nat,  n * m = m * n ).\n",
    "Proof."
   ]
  },
  {
   "cell_type": "code",
   "execution_count": null,
   "metadata": {
    "coq_kernel_metadata": {
     "auto_roll_back": true
    }
   },
   "outputs": [],
   "source": []
  },
  {
   "cell_type": "code",
   "execution_count": null,
   "metadata": {
    "coq_kernel_metadata": {
     "auto_roll_back": true
    }
   },
   "outputs": [],
   "source": []
  },
  {
   "cell_type": "code",
   "execution_count": null,
   "metadata": {
    "coq_kernel_metadata": {
     "auto_roll_back": true
    }
   },
   "outputs": [],
   "source": []
  },
  {
   "cell_type": "code",
   "execution_count": null,
   "metadata": {
    "coq_kernel_metadata": {
     "auto_roll_back": true
    }
   },
   "outputs": [],
   "source": []
  },
  {
   "cell_type": "code",
   "execution_count": null,
   "metadata": {
    "coq_kernel_metadata": {
     "auto_roll_back": true
    }
   },
   "outputs": [],
   "source": []
  },
  {
   "cell_type": "code",
   "execution_count": null,
   "metadata": {
    "coq_kernel_metadata": {
     "auto_roll_back": true
    }
   },
   "outputs": [],
   "source": []
  },
  {
   "cell_type": "code",
   "execution_count": null,
   "metadata": {
    "coq_kernel_metadata": {
     "auto_roll_back": true
    }
   },
   "outputs": [],
   "source": []
  },
  {
   "cell_type": "code",
   "execution_count": null,
   "metadata": {
    "coq_kernel_metadata": {
     "auto_roll_back": true
    }
   },
   "outputs": [],
   "source": [
    "Admitted. (* 最後にここを Qed. に変える。*)"
   ]
  },
  {
   "cell_type": "markdown",
   "metadata": {
    "coq_kernel_metadata": {
     "auto_roll_back": true
    }
   },
   "source": [
    "# <font color=\"blue\">演習問題 3　解答</font>\n",
    "\n",
    "[演習問題 3-1](#ans11) [演習問題 3-2](#ans12) [演習問題 3-3](#ans13) [演習問題 3-4](#ans14) [演習問題 3-5](#ans15) [演習問題 3-6](#ans16) [演習問題 3-7](#ans17) [演習問題 3-8](#ans18) "
   ]
  },
  {
   "cell_type": "markdown",
   "metadata": {
    "coq_kernel_metadata": {
     "auto_roll_back": true
    }
   },
   "source": [
    "<a id=\"ans31\"></a>\n",
    "## 演習問題 3-1  解答\n",
    "　<font size=\"4\">次の定理を証明せよ。</font>\n",
    " <font color=\"blue\"　size=\"4\"><br>　Theorem plus_n_O : (forall n : nat, n + 0 = n).</font>\n",
    "\n",
    "## 解答\n",
    "### 下のCellを実行して確かめよ。\n",
    "\n",
    "<a id=\"hint31\"></a>"
   ]
  },
  {
   "cell_type": "code",
   "execution_count": null,
   "metadata": {
    "coq_kernel_metadata": {
     "auto_roll_back": true,
     "cell_id": "4a5829b149d5446f84383b6b494065f7",
     "execution_id": "65a727c1c9bb447c8461933089af17f2"
    }
   },
   "outputs": [],
   "source": [
    "Theorem  plus_n_O : (forall n : nat, n + 0 = n).\n",
    "Proof."
   ]
  },
  {
   "cell_type": "code",
   "execution_count": null,
   "metadata": {
    "coq_kernel_metadata": {
     "auto_roll_back": true,
     "cell_id": "d279d0b6aa2a45108025fd55b7a3ad2f",
     "execution_id": "ef73f04786fe4e91be71bdaea3234693"
    }
   },
   "outputs": [],
   "source": [
    " (* forall の削除 *)\n",
    " intros ."
   ]
  },
  {
   "cell_type": "code",
   "execution_count": null,
   "metadata": {
    "coq_kernel_metadata": {
     "auto_roll_back": true,
     "cell_id": "e2c00a4e4b224d428dfe1b33d481dfcb",
     "execution_id": "31f7e6e7223c421f8e5e9fd987060d5d"
    }
   },
   "outputs": [],
   "source": [
    "(* nについての帰納法を使う *)\n",
    "induction n.\n",
    "\n",
    "(* n = 0 　の場合と、\n",
    "　　　　n = S n' の場合で、サブゴールが二つに分かれる。 *)"
   ]
  },
  {
   "cell_type": "code",
   "execution_count": null,
   "metadata": {
    "coq_kernel_metadata": {
     "auto_roll_back": true,
     "cell_id": "9ca35d2190f84f569592b18fb95d5ab6",
     "execution_id": "a5bf8d72f1ce4436988f42105f43d025"
    }
   },
   "outputs": [],
   "source": [
    "(* n = 0 の場合。\n",
    "サブゴールをsimpl で単純にする。*)\n",
    "simpl."
   ]
  },
  {
   "cell_type": "code",
   "execution_count": null,
   "metadata": {
    "coq_kernel_metadata": {
     "auto_roll_back": true,
     "cell_id": "5c7e161fbd234f58a6b0bf3d533e2bf2",
     "execution_id": "a60baf690e5c42daadffad54254d3df9"
    }
   },
   "outputs": [],
   "source": [
    "(* n = 0 の場合。\n",
    "サブゴールにreflexivity が使える。*)\n",
    "reflexivity.\n",
    "\n",
    "(* n = 0 の場合、証明終わる。サブゴールは一つになる。*)."
   ]
  },
  {
   "cell_type": "code",
   "execution_count": null,
   "metadata": {
    "coq_kernel_metadata": {
     "auto_roll_back": true,
     "cell_id": "306c636ef19c48a88dc89820d60fe8c4",
     "execution_id": "f8206bac2b50435f8c6441f6e3f136ce"
    }
   },
   "outputs": [],
   "source": [
    "(*  n = S n' の場合。\n",
    "サブゴールを、simpl で単純にする。*)\n",
    " simpl."
   ]
  },
  {
   "cell_type": "code",
   "execution_count": null,
   "metadata": {
    "coq_kernel_metadata": {
     "auto_roll_back": true,
     "cell_id": "a224b913bb804b0a8cbb68856a71fa41",
     "execution_id": "55ca6a1bd9d94505914411449d6982d1"
    }
   },
   "outputs": [],
   "source": [
    "(*  n = S n' の場合。\n",
    "サブゴールを、IHnの左項で書き換える 。*)\n",
    "rewrite -> IHn."
   ]
  },
  {
   "cell_type": "code",
   "execution_count": null,
   "metadata": {
    "coq_kernel_metadata": {
     "auto_roll_back": true,
     "cell_id": "32472f79950d41898de7ad5c0fec7c3a",
     "execution_id": "c12e93e62c274a62895eb9f2188969a0"
    }
   },
   "outputs": [],
   "source": [
    "(*  n = S n' の場合。\n",
    "サブゴールに reflexivity が使える。*)\n",
    "reflexivity.\n",
    "\n",
    "(*  n = S n' の場合、証明終わり。 *)"
   ]
  },
  {
   "cell_type": "code",
   "execution_count": null,
   "metadata": {
    "coq_kernel_metadata": {
     "auto_roll_back": true,
     "cell_id": "dfbbbd3e192e43fe872f0459f60d9090",
     "execution_id": "dbca8992f7584db89e3600626e2b68b7"
    }
   },
   "outputs": [],
   "source": [
    "Qed."
   ]
  },
  {
   "cell_type": "markdown",
   "metadata": {
    "coq_kernel_metadata": {
     "auto_roll_back": true
    }
   },
   "source": [
    "### [作業用ページに戻る](#ex31)"
   ]
  },
  {
   "cell_type": "markdown",
   "metadata": {
    "coq_kernel_metadata": {
     "auto_roll_back": true
    }
   },
   "source": [
    "<a id=\"ans32\"></a>\n",
    "## 演習問題 3-2  解答\n",
    "　<font size=\"4\">次の定理を証明せよ。</font>\n",
    " <font color=\"blue\"　size=\"4\"><br>　Theorem minus_diag : (forall n : nat, minus n n = 0).</font>\n",
    "\n",
    "## 解答\n",
    "### 下のCellを実行して確かめよ。\n",
    "\n",
    "<a id=\"hint32\"></a>"
   ]
  },
  {
   "cell_type": "code",
   "execution_count": null,
   "metadata": {
    "coq_kernel_metadata": {
     "auto_roll_back": true,
     "cell_id": "68f197617dfc4b448061c7ad64154bde",
     "execution_id": "f39de9b9cbbf4f4598170e2397172663"
    }
   },
   "outputs": [],
   "source": [
    "Theorem  minus_diag : (forall n : nat, minus n n = 0).\n",
    "Proof."
   ]
  },
  {
   "cell_type": "code",
   "execution_count": null,
   "metadata": {
    "coq_kernel_metadata": {
     "auto_roll_back": true,
     "cell_id": "b3b4c6c323d1476c8dcc618218399b46",
     "execution_id": "6d9499471a47433eaf850dea37ed32d9"
    }
   },
   "outputs": [],
   "source": [
    "(* forall の削除*)\n",
    "intros."
   ]
  },
  {
   "cell_type": "code",
   "execution_count": null,
   "metadata": {
    "coq_kernel_metadata": {
     "auto_roll_back": true,
     "cell_id": "a477a0e5407c43b09196f97a73a6cc3f",
     "execution_id": "15abd67f870f40f1877730c45530852c"
    }
   },
   "outputs": [],
   "source": [
    "(* nについての帰納法を使う *)\n",
    "induction n.\n",
    "\n",
    "(* n = 0 　の場合と、\n",
    "　　　　n = S n' の場合で、サブゴールが二つに分かれる。 *)"
   ]
  },
  {
   "cell_type": "code",
   "execution_count": null,
   "metadata": {
    "coq_kernel_metadata": {
     "auto_roll_back": true,
     "cell_id": "b475c53f8e0b46f18b96f376ffb54da2",
     "execution_id": "e052ff2bde5643db86170a75df6ea7d2"
    }
   },
   "outputs": [],
   "source": [
    "(* n = 0 の場合。\n",
    "サブゴールをsimpl で単純にする。*)\n",
    "simpl."
   ]
  },
  {
   "cell_type": "code",
   "execution_count": null,
   "metadata": {
    "coq_kernel_metadata": {
     "auto_roll_back": true,
     "cell_id": "4457eada261d49f991ef2e0abad70c5c",
     "execution_id": "937dc8793bf647888fd4d299ba4969f4"
    }
   },
   "outputs": [],
   "source": [
    "(* n = 0 の場合。\n",
    "サブゴールにreflexivity が使える。*)\n",
    "reflexivity.\n",
    "\n",
    "(* n = 0 の場合、証明終わる。サブゴールは一つになる。*)"
   ]
  },
  {
   "cell_type": "code",
   "execution_count": null,
   "metadata": {
    "coq_kernel_metadata": {
     "auto_roll_back": true,
     "cell_id": "4466e9896f8646559fa9617bffdc763a",
     "execution_id": "418c81165ef6450e97a90d3cbce4e902"
    }
   },
   "outputs": [],
   "source": [
    " (*  n = S n' の場合。simpl で単純にする。*)\n",
    " simpl."
   ]
  },
  {
   "cell_type": "code",
   "execution_count": null,
   "metadata": {
    "coq_kernel_metadata": {
     "auto_roll_back": true,
     "cell_id": "feb9b2b57fbd4becb701c57d43ce9bd3",
     "execution_id": "8b810c721d0c451e8b91a0df48e5e955"
    }
   },
   "outputs": [],
   "source": [
    "(* 仮説の中に、サブゴールと同じものが含まれている。 *)\n",
    "assumption."
   ]
  },
  {
   "cell_type": "code",
   "execution_count": null,
   "metadata": {
    "coq_kernel_metadata": {
     "auto_roll_back": true,
     "cell_id": "74633de6affc4d078473236447f358b8",
     "execution_id": "6cd386c9d983408ebf8c3511d53a4eff"
    }
   },
   "outputs": [],
   "source": [
    "Qed."
   ]
  },
  {
   "cell_type": "markdown",
   "metadata": {
    "coq_kernel_metadata": {
     "auto_roll_back": true
    }
   },
   "source": [
    "### [作業用ページに戻る](#ex32)"
   ]
  },
  {
   "cell_type": "markdown",
   "metadata": {
    "coq_kernel_metadata": {
     "auto_roll_back": true
    }
   },
   "source": [
    "<a id=\"ans33\"></a>\n",
    "## 演習問題 3-3  解答\n",
    "　<font size=\"4\">次の定理を証明せよ。</font>\n",
    " <font color=\"blue\"　size=\"4\"><br>　Theorem mult_0_r : (forall n : nat,  n * 0 = 0).</font>\n",
    "\n",
    "## 解答\n",
    "### 下のCellを実行して確かめよ。\n",
    "\n",
    "<a id=\"hint33\"></a>"
   ]
  },
  {
   "cell_type": "code",
   "execution_count": null,
   "metadata": {
    "coq_kernel_metadata": {
     "auto_roll_back": true,
     "cell_id": "55dba32b39ad42c0aaf0a9d18c7bbb09",
     "execution_id": "d997eedbd5e843d681fb986639a33c00"
    }
   },
   "outputs": [],
   "source": [
    "Theorem  mult_0_r : (forall n : nat,  n * 0 = 0).\n",
    "Proof."
   ]
  },
  {
   "cell_type": "code",
   "execution_count": null,
   "metadata": {
    "coq_kernel_metadata": {
     "auto_roll_back": true,
     "cell_id": "b710e1878ac6429e985120869622f10b",
     "execution_id": "fd5060992efa4568ac0f8811bdef8554"
    }
   },
   "outputs": [],
   "source": [
    "(* forall の削除 *)\n",
    "intros."
   ]
  },
  {
   "cell_type": "code",
   "execution_count": null,
   "metadata": {
    "coq_kernel_metadata": {
     "auto_roll_back": true,
     "cell_id": "e374332cc8424984a5a8747f51e4d8f1",
     "execution_id": "8259a47be21b4d7b85c2a5524066281e"
    }
   },
   "outputs": [],
   "source": [
    "(* nについての帰納法を使う。*)\n",
    "induction n.\n",
    "(* n = 0 　の場合と、\n",
    "　　　　n = S n' の場合で、サブゴールが二つに分かれる。 *)"
   ]
  },
  {
   "cell_type": "code",
   "execution_count": null,
   "metadata": {
    "coq_kernel_metadata": {
     "auto_roll_back": true,
     "cell_id": "245d2540a05c49638f4dc9c82b3ba26b",
     "execution_id": "61e0548dc37d47a297c22d0cf33d846a"
    }
   },
   "outputs": [],
   "source": [
    "(* n = 0 の場合。単純化する。 *)\n",
    "simpl."
   ]
  },
  {
   "cell_type": "code",
   "execution_count": null,
   "metadata": {
    "coq_kernel_metadata": {
     "auto_roll_back": true,
     "cell_id": "0d9aaf5ec4544add809cddecbd269e7d",
     "execution_id": "f117943dc3f04048809182589b4fa5a3"
    }
   },
   "outputs": [],
   "source": [
    "(* n =0  の場合。reflexivity が使える。*)\n",
    "reflexivity.\n",
    "(* n =0  の場合、証明終わる。サブゴールは一つになる。*)"
   ]
  },
  {
   "cell_type": "code",
   "execution_count": null,
   "metadata": {
    "coq_kernel_metadata": {
     "auto_roll_back": true,
     "cell_id": "ca3846b3e7db476e8c071b90ead13ca3",
     "execution_id": "80d5e196856646c68e0ff3ca1bcd1e89"
    }
   },
   "outputs": [],
   "source": [
    "(* n = S n' の場合。単純化する。*)\n",
    "simpl."
   ]
  },
  {
   "cell_type": "code",
   "execution_count": null,
   "metadata": {
    "coq_kernel_metadata": {
     "auto_roll_back": true,
     "cell_id": "f6a2b0f71a1f4cc8868710bd64931079",
     "execution_id": "e4b47b8d304d4c4c851d884ae34b2521"
    }
   },
   "outputs": [],
   "source": [
    "(* n = S n' の場合。IHnの左項でサブゴールを書き換える。*)\n",
    "\n",
    "rewrite -> IHn."
   ]
  },
  {
   "cell_type": "code",
   "execution_count": null,
   "metadata": {
    "coq_kernel_metadata": {
     "auto_roll_back": true,
     "cell_id": "0e7429667c92401eb25e3c7f22ceba82",
     "execution_id": "1b97acdfb1fe43468ef05f4e5c3ba3b6"
    }
   },
   "outputs": [],
   "source": [
    "(* n = S n' の場合。Ireflexivity が使える。 *)\n",
    " reflexivity.\n",
    "(* n = S n' の場合。証明終わる。 *)"
   ]
  },
  {
   "cell_type": "code",
   "execution_count": null,
   "metadata": {
    "coq_kernel_metadata": {
     "auto_roll_back": true,
     "cell_id": "e56624a71fd94f708816d972b4b93793",
     "execution_id": "ef4af1f6f42e487d80a9ffaa0e3742f3"
    }
   },
   "outputs": [],
   "source": [
    "Qed."
   ]
  },
  {
   "cell_type": "markdown",
   "metadata": {
    "coq_kernel_metadata": {
     "auto_roll_back": true
    }
   },
   "source": [
    "### [作業用ページに戻る](#ex33)"
   ]
  },
  {
   "cell_type": "markdown",
   "metadata": {
    "coq_kernel_metadata": {
     "auto_roll_back": true
    }
   },
   "source": [
    "<a id=\"ans34\"></a>\n",
    "## 演習問題 3-4  解答\n",
    "　<font size=\"4\">次の定理を証明せよ。</font>\n",
    " <font color=\"blue\"　size=\"4\"><br>　Theorem plus_n_Sm : (forall n m : nat, S (n + m) = n + (S m) ).</font>\n",
    "\n",
    "## 解答\n",
    "### 下のCellを実行して確かめよ。\n",
    "\n",
    "<a id=\"hint34\"></a>"
   ]
  },
  {
   "cell_type": "code",
   "execution_count": null,
   "metadata": {
    "coq_kernel_metadata": {
     "auto_roll_back": true,
     "cell_id": "7df25e7cd36a4a369c1dc249b1593a59",
     "execution_id": "03935d698b54491e87c89654f64ba5b3"
    }
   },
   "outputs": [],
   "source": [
    "Theorem  plus_n_Sm : (forall n m : nat, S (n + m) = n + (S m) ).\n",
    "Proof."
   ]
  },
  {
   "cell_type": "code",
   "execution_count": null,
   "metadata": {
    "coq_kernel_metadata": {
     "auto_roll_back": true,
     "cell_id": "fa907f40172b4689893161fa48e3d539",
     "execution_id": "ea1ae713733e4f9b8cc9f54e094df826"
    }
   },
   "outputs": [],
   "source": [
    "(* introsで forall を消す。*)\n",
    "intros."
   ]
  },
  {
   "cell_type": "code",
   "execution_count": null,
   "metadata": {
    "coq_kernel_metadata": {
     "auto_roll_back": true,
     "cell_id": "37881e0dd33b4efd801d8aaec49fca3a",
     "execution_id": "88bdb3747ed241d38b1539f00771ef3e"
    }
   },
   "outputs": [],
   "source": [
    "(* induction nで帰納法を使う。*)\n",
    "induction n.\n",
    "(* n = 0 　の場合と、\n",
    "　　　　n = S n' の場合で、サブゴールが二つに分かれる。 *)"
   ]
  },
  {
   "cell_type": "code",
   "execution_count": null,
   "metadata": {
    "coq_kernel_metadata": {
     "auto_roll_back": true,
     "cell_id": "b4a0268bd8f84e198ee7079091a1f692",
     "execution_id": "7d138eb879124367865ab4c8fa71a051"
    }
   },
   "outputs": [],
   "source": [
    "(* n = 0の場合。simpl で、サブゴールを簡単にする。*)\n",
    "simpl."
   ]
  },
  {
   "cell_type": "code",
   "execution_count": null,
   "metadata": {
    "coq_kernel_metadata": {
     "auto_roll_back": true,
     "cell_id": "cd4d55a185884fbd94d04c885ef0727e",
     "execution_id": "ea9b52f3cb9d40728893e6e9c0d3fc78"
    }
   },
   "outputs": [],
   "source": [
    "(* n=0 の場合。reflexivity が使える。*)\n",
    "reflexivity.\n",
    "(* n=0 の場合、証明終わり。サブゴールが一つになる。*)"
   ]
  },
  {
   "cell_type": "code",
   "execution_count": null,
   "metadata": {
    "coq_kernel_metadata": {
     "auto_roll_back": true,
     "cell_id": "398990ac652c4a949a25240b0dbaf31e",
     "execution_id": "f334c41b91744ce88562afcbceb6dc29"
    }
   },
   "outputs": [],
   "source": [
    "(* n = S n' の場合。残ったサブゴールを、simpl で簡単にする。*)\n",
    "simpl."
   ]
  },
  {
   "cell_type": "code",
   "execution_count": null,
   "metadata": {
    "coq_kernel_metadata": {
     "auto_roll_back": true,
     "cell_id": "2c1d6976e2b8439f905cc13aabdfbdb2",
     "execution_id": "68f71e761e2a4b6b8d51e924eeeead31"
    }
   },
   "outputs": [],
   "source": [
    "(* n = S n' の場合。*)\n",
    "(* IHnの左項でサブゴールを書き換える。*)\n",
    "rewrite -> IHn."
   ]
  },
  {
   "cell_type": "code",
   "execution_count": null,
   "metadata": {
    "coq_kernel_metadata": {
     "auto_roll_back": true,
     "cell_id": "5ce306948e0246278c0114173c1e0393",
     "execution_id": "81ba0863ed1544098ddafce882a1bbba"
    }
   },
   "outputs": [],
   "source": [
    "(* n = S n' の場合。*)\n",
    "(* reflexivity が使える。*)\n",
    "reflexivity.\n",
    "(* n = S n' の場合、証明終り。 *)"
   ]
  },
  {
   "cell_type": "code",
   "execution_count": null,
   "metadata": {
    "coq_kernel_metadata": {
     "auto_roll_back": true,
     "cell_id": "980cae7c965e465f85bffed78649daf1",
     "execution_id": "3777df3d858845b69b3b6fa1e263a17f"
    }
   },
   "outputs": [],
   "source": [
    "Qed."
   ]
  },
  {
   "cell_type": "markdown",
   "metadata": {
    "coq_kernel_metadata": {
     "auto_roll_back": true
    }
   },
   "source": [
    "### [作業用ページに戻る](#ex34)"
   ]
  },
  {
   "cell_type": "markdown",
   "metadata": {
    "coq_kernel_metadata": {
     "auto_roll_back": true
    }
   },
   "source": [
    "<a id=\"ans35\"></a>\n",
    "## 演習問題 3-5  解答\n",
    "　<font size=\"4\">次の定理を証明せよ。</font>\n",
    " <font color=\"blue\"　size=\"4\"><br>　Theorem plus_comm : (forall n m : nat, n + m = m + n ).</font>\n",
    "\n",
    "## 解答\n",
    "### 下のCellを実行して確かめよ。\n",
    "\n",
    "<a id=\"hint35\"></a>"
   ]
  },
  {
   "cell_type": "code",
   "execution_count": null,
   "metadata": {
    "coq_kernel_metadata": {
     "auto_roll_back": true,
     "cell_id": "9ec4722b1dc34f7cbccc6bb622544c59",
     "execution_id": "4f86bbea8f0d4708a5de00e622e64ffa"
    }
   },
   "outputs": [],
   "source": [
    "Theorem  plus_comm : (forall n m : nat, n + m = m + n ).\n",
    "Proof."
   ]
  },
  {
   "cell_type": "code",
   "execution_count": null,
   "metadata": {
    "coq_kernel_metadata": {
     "auto_roll_back": true,
     "cell_id": "b373b3dba37f4999878b2f7e26552322",
     "execution_id": "1e49fcfae0ee42ab8bdc1fe30b3222e4"
    }
   },
   "outputs": [],
   "source": [
    "(* forall の削除 *)\n",
    "intros."
   ]
  },
  {
   "cell_type": "code",
   "execution_count": null,
   "metadata": {
    "coq_kernel_metadata": {
     "auto_roll_back": true,
     "cell_id": "c65b39cf146b4c2f8e88e5b6dcf95f6c",
     "execution_id": "6710a8a477824ffeb66c57a775fc4fff"
    }
   },
   "outputs": [],
   "source": [
    "  (* nについての帰納法を使う。*)\n",
    "  induction n.\n",
    "  (* n = 0 　の場合と、\n",
    "　　　　n = S n' の場合で、サブゴールが二つに分かれる。 *)"
   ]
  },
  {
   "cell_type": "code",
   "execution_count": null,
   "metadata": {
    "coq_kernel_metadata": {
     "auto_roll_back": true,
     "cell_id": "04987508229440b99056e9208b6ab6ce",
     "execution_id": "cae60f86f3d8420c9ba4b245db64e226"
    },
    "scrolled": true
   },
   "outputs": [],
   "source": [
    "     (* 　n = 0 の場合　*)\n",
    "     (* サブゴールを簡単にする。*)\n",
    "     simpl."
   ]
  },
  {
   "cell_type": "code",
   "execution_count": null,
   "metadata": {
    "coq_kernel_metadata": {
     "auto_roll_back": true,
     "cell_id": "18a695117c254e1e81eb87cb01340474",
     "execution_id": "df6285d00d8440b4af9459b879b53f06"
    },
    "scrolled": true
   },
   "outputs": [],
   "source": [
    "(* 　n = 0 の場合が続いている。　*) \n",
    "(* m についての帰納法を使う。 *)\n",
    "induction m.\n",
    "\n",
    "(* m = 0 　の場合と、\n",
    "　　　　　m = S m' の場合で、サブゴールが二つ追加される。 \n",
    "     先のサブゴールと合わせて、サブゴールは三つになる。*)"
   ]
  },
  {
   "cell_type": "code",
   "execution_count": null,
   "metadata": {
    "coq_kernel_metadata": {
     "auto_roll_back": true,
     "cell_id": "d12db2df972c4aee87fa367732d448af",
     "execution_id": "e5bea2a8ed7c48bf97b3ad2ba96d32e3"
    },
    "scrolled": true
   },
   "outputs": [],
   "source": [
    "(* 　n = 0 の場合が続いている。　*)\n",
    "(* 　m = 0 のサブゴールを簡単にする。　*)\n",
    "simpl."
   ]
  },
  {
   "cell_type": "code",
   "execution_count": null,
   "metadata": {
    "coq_kernel_metadata": {
     "auto_roll_back": true,
     "cell_id": "5a28237d3c97401d908eff5dbde56cc7",
     "execution_id": "3c02653b872747f383f4c993816aa0b2"
    },
    "scrolled": true
   },
   "outputs": [],
   "source": [
    "(* 　n = 0 の場合が続いている。　*)\n",
    "(* 　m = 0 のサブゴールにreflexivity が使える。　*)\n",
    "reflexivity.\n",
    "(* 　m = 0 のサブゴールが消えて、サブゴールは二つになる。　*)"
   ]
  },
  {
   "cell_type": "code",
   "execution_count": null,
   "metadata": {
    "coq_kernel_metadata": {
     "auto_roll_back": true,
     "cell_id": "0bdb3a137da84d0ba5f3c659be5c4899",
     "execution_id": "4a878469f64e4a4e84f70dfab09e4b4a"
    },
    "scrolled": true
   },
   "outputs": [],
   "source": [
    "(* 　n = 0 の場合が続いている。　*)\n",
    "(* 　m = S m'の場合のサブゴールを簡単にする。　*)\n",
    "simpl."
   ]
  },
  {
   "cell_type": "code",
   "execution_count": null,
   "metadata": {
    "coq_kernel_metadata": {
     "auto_roll_back": true,
     "cell_id": "1cc4cf5e64d64dc88061433a3308d5d9",
     "execution_id": "f0781686e24042da9607195545616b3f"
    },
    "scrolled": true
   },
   "outputs": [],
   "source": [
    "(* 　n = 0 の場合が続いている。　*)\n",
    "(* 　m = S m'の場合のサブゴールを IHmの右項を使って書き換える。　*)\n",
    "rewrite <- IHm."
   ]
  },
  {
   "cell_type": "code",
   "execution_count": null,
   "metadata": {
    "coq_kernel_metadata": {
     "auto_roll_back": true,
     "cell_id": "0d2ae2fce91f459bab0ab8f83fd8daaa",
     "execution_id": "b203f95d389b48fb8d8a06010b6bed8b"
    },
    "scrolled": true
   },
   "outputs": [],
   "source": [
    "(* 　n = 0 の場合が続いている。　*)\n",
    "(* 　m = S m'の場合のサブゴールに reflexivity が使える。　*)\n",
    "reflexivity.\n",
    "(* mについての帰納法の証明終わり。サブゴールが一つになる。*)\n",
    "(* n = S n' の場合の証明に移る。*)"
   ]
  },
  {
   "cell_type": "code",
   "execution_count": null,
   "metadata": {
    "coq_kernel_metadata": {
     "auto_roll_back": true,
     "cell_id": "16435a56cd004a81952c900252d3dcd9",
     "execution_id": "f74abdcf83354f088ec037e58ff40708"
    },
    "scrolled": true
   },
   "outputs": [],
   "source": [
    "(* n = S n' の場合 *)\n",
    "(* サブゴールを、「演習問題 3-4」で証明した、plus_n_Smの右項で書き換える *)\n",
    "(* Theorem plus_n_Sm : (forall n m : nat, S (n + m) = n + (S m) である。*)\n",
    "(* ここでエラーが出る人は、次の「Coqライブラリーの利用について」を参照すること *)\n",
    "\n",
    "rewrite <- plus_n_Sm."
   ]
  },
  {
   "cell_type": "code",
   "execution_count": null,
   "metadata": {
    "coq_kernel_metadata": {
     "auto_roll_back": true,
     "cell_id": "b1b85f981a234cf598b81702c21904de",
     "execution_id": "a1335710998f472eb377a0ac4a6bf6ee"
    },
    "scrolled": false
   },
   "outputs": [],
   "source": [
    "(* n = S n' の場合 *)\n",
    "(* サブゴールを、IHnの右項で書き換える *)\n",
    "rewrite <- IHn."
   ]
  },
  {
   "cell_type": "code",
   "execution_count": null,
   "metadata": {
    "coq_kernel_metadata": {
     "auto_roll_back": true,
     "cell_id": "4e33180874944ac495813d0d940d9cf2",
     "execution_id": "1f766c55a5ae47dd942bdd52bb862f77"
    }
   },
   "outputs": [],
   "source": [
    "(* n = S n' の場合 *)\n",
    "(* サブゴールを、単純にする。 *)\n",
    "simpl."
   ]
  },
  {
   "cell_type": "code",
   "execution_count": null,
   "metadata": {
    "coq_kernel_metadata": {
     "auto_roll_back": true,
     "cell_id": "08a2e3c99e6c4fc894cdab56940ac803",
     "execution_id": "ad2f9c116c9545aa813f1e073db5d3f6"
    },
    "scrolled": true
   },
   "outputs": [],
   "source": [
    "(* n = S n' の場合 *)\n",
    "(* サブゴールに、reflexivityが使える。 *)\n",
    "reflexivity.\n",
    "(* n = S n' の場合 、証明終わり。*)"
   ]
  },
  {
   "cell_type": "code",
   "execution_count": null,
   "metadata": {
    "coq_kernel_metadata": {
     "auto_roll_back": true,
     "cell_id": "07ef6b04d76f4b6db78288a6193a37b1",
     "execution_id": "b86375be242c4bc1a344d55a93448dd9"
    }
   },
   "outputs": [],
   "source": [
    "Qed."
   ]
  },
  {
   "cell_type": "markdown",
   "metadata": {
    "coq_kernel_metadata": {
     "auto_roll_back": true
    }
   },
   "source": [
    "### [作業用ページに戻る](#ex35)"
   ]
  },
  {
   "cell_type": "markdown",
   "metadata": {
    "coq_kernel_metadata": {
     "auto_roll_back": true,
     "cell_id": "c00ab08cfd1a414c9c8cca22e97dae34",
     "execution_id": "790082d21bc547c18747c4269ae53df2"
    }
   },
   "source": [
    " ## Coq ライブラリーの利用について\n",
    " ここでは、先の「演習問題 3-4」で証明した、定理 plus_n_Sm を利用している。\n",
    "　　　　　   Theorem plus_n_Sm : (forall n m : nat, S (n + m) = n + (S m) である。\n",
    " この証明では、「演習問題 3-4」を解いてあることが、前提となっている。\n",
    "        \n",
    "ただ、皆が順番に演習問題を解いている保証はないので、ここは、少しちがったやり方を考えてみよう。\n",
    "\n",
    "実は、CoqのライブラリーArithには、この「演習問題 3-4」の定理 plus_n_Sm と、ほぼ同じものが、\n",
    "別の名前で登録されている。\n",
    "        \n",
    "次のコマンドを実行してみよう。"
   ]
  },
  {
   "cell_type": "code",
   "execution_count": null,
   "metadata": {
    "coq_kernel_metadata": {
     "auto_roll_back": true,
     "cell_id": "4e74cd3aab504dcf862954285147d148",
     "execution_id": "2611adc4b3f4401e86d2145c946aa673"
    }
   },
   "outputs": [],
   "source": [
    "Require Import Arith. \n",
    "Check Nat.add_succ_r."
   ]
  },
  {
   "cell_type": "markdown",
   "metadata": {
    "coq_kernel_metadata": {
     "auto_roll_back": true,
     "cell_id": "30a6cafe744841759cd7381390ff4220",
     "execution_id": "790082d21bc547c18747c4269ae53df2"
    }
   },
   "source": []
  },
  {
   "cell_type": "markdown",
   "metadata": {
    "coq_kernel_metadata": {
     "auto_roll_back": true,
     "cell_id": "89299c3133834717be4bd7d12d70869b",
     "execution_id": "790082d21bc547c18747c4269ae53df2"
    }
   },
   "source": [
    " この定理 Nat.add_succ_r は、「演習問題 3-4」の定理 plus_n_Sm と、ほぼ同じもので\n",
    " あることがわかる。ただし、等式の左右が逆である。\n",
    " \n",
    " だから 先の証明で使った \n",
    "    rewrite <- plus_n_Sm. \n",
    " の代わりに、\n",
    "    rewrite -> Nat.add_succ_r  　(左右が逆だから、rewriteの矢印は逆になる。)\n",
    " を使っても、証明はできる。\n",
    "\n",
    "<font color=\"blue\">ただし、今回のハンズオンの演習問題では、演習問題として既に証明済の定理のみを使って、証明をすることを原則としている。実は、今回のハンズオンの演習課題の多くは、ライブラリー Arith から採用したものである。</font>"
   ]
  },
  {
   "cell_type": "code",
   "execution_count": null,
   "metadata": {
    "coq_kernel_metadata": {
     "auto_roll_back": true,
     "cell_id": "99b8f3470f274b5193bf69d83946fe91",
     "execution_id": "d65f9b4499274843959b050918680651"
    }
   },
   "outputs": [],
   "source": [
    "Check Nat.mul_0_r."
   ]
  },
  {
   "cell_type": "code",
   "execution_count": null,
   "metadata": {
    "coq_kernel_metadata": {
     "auto_roll_back": true,
     "cell_id": "fb908c26e1cb4d2d850687dccc2e2712",
     "execution_id": "ea896d75c5d54a1a94068f14030d487a"
    }
   },
   "outputs": [],
   "source": [
    "(* 例えば、「演習問題 3-3」 は、ライブラリー上では、Nat.mul_0_r として、証明済である *)\n",
    "\n",
    "Theorem mult_0_r' : (forall n : nat,  n * 0 = 0).\n",
    "Proof.\n",
    "   exact  Nat.mul_0_r .\n",
    "Qed.  "
   ]
  },
  {
   "cell_type": "code",
   "execution_count": null,
   "metadata": {
    "coq_kernel_metadata": {
     "auto_roll_back": true,
     "cell_id": "ab5341414fa34c9a8647b32a25106c6b",
     "execution_id": "1207d51a31ee4d5d9aad5ddd65bfbe8c"
    },
    "scrolled": true
   },
   "outputs": [],
   "source": [
    "Check Nat.add_succ_r."
   ]
  },
  {
   "cell_type": "code",
   "execution_count": null,
   "metadata": {
    "coq_kernel_metadata": {
     "auto_roll_back": true,
     "cell_id": "5db51ca2318b43f0941b7391b234f9fa",
     "execution_id": "8a22a2fb014c446c84a6219ffaea5966"
    }
   },
   "outputs": [],
   "source": [
    "(* 「演習問題 3-4」 は、ライブラリー上では、Nat.add_succ_r  (左右が逆だが)として、証明済である *)\n",
    "\n",
    "Theorem  plus_n_Sm' : (forall n m : nat, S (n + m) = n + (S m) ).\n",
    "Proof.\n",
    "   symmetry. (* 左辺と右辺を入れ替える*)\n",
    "   apply  Nat.add_succ_r.\n",
    "Qed.  "
   ]
  },
  {
   "cell_type": "markdown",
   "metadata": {
    "coq_kernel_metadata": {
     "auto_roll_back": true,
     "cell_id": "b53f8f960b9949a6802c8f149cd6db74",
     "execution_id": "790082d21bc547c18747c4269ae53df2"
    }
   },
   "source": [
    "同様に、今回の和の交換則を証明する「演習問題 3-5」も、ライブラリーでは。Nat.add_comm として、証明済である。次を実行してみよ。"
   ]
  },
  {
   "cell_type": "code",
   "execution_count": null,
   "metadata": {
    "coq_kernel_metadata": {
     "auto_roll_back": true,
     "cell_id": "45c5c44a19654b698d6448e975619e1f",
     "execution_id": "e6b3b91a259c4a00bd532768f59336a0"
    },
    "scrolled": true
   },
   "outputs": [],
   "source": [
    "Check Nat.add_comm."
   ]
  },
  {
   "cell_type": "code",
   "execution_count": null,
   "metadata": {
    "coq_kernel_metadata": {
     "auto_roll_back": true,
     "cell_id": "84b191fd961644c98c0785963945d23e",
     "execution_id": "7a896c4e90ab431b8bebbe6ba0e2f15e"
    }
   },
   "outputs": [],
   "source": [
    "(* 「演習問題 3-5」 は、ライブラリー上では、Nat.add_comm として、証明済である *)\n",
    "\n",
    "Theorem  plus_comm' : (forall n m : nat, n + m = m + n ).\n",
    "Proof.\n",
    "   exact  Nat.add_comm .\n",
    "Qed.  "
   ]
  },
  {
   "cell_type": "markdown",
   "metadata": {
    "coq_kernel_metadata": {
     "auto_roll_back": true
    }
   },
   "source": [
    "<a id=\"ans36\"></a>\n",
    "## 演習問題 3-6  解答\n",
    "　<font size=\"4\">次の定理を証明せよ。</font>\n",
    " <font color=\"blue\"　size=\"4\"><br>　Theorem plus_assoc : (forall n m o : nat, n + (m +o)  = (n + m) + o ).</font>\n",
    "\n",
    "## 解答\n",
    "### 下のCellを実行して確かめよ。\n",
    "\n",
    "<a id=\"hint36\"></a>"
   ]
  },
  {
   "cell_type": "code",
   "execution_count": null,
   "metadata": {
    "coq_kernel_metadata": {
     "auto_roll_back": true,
     "cell_id": "1876197d9a4d4bd288396a01fb5884f5",
     "execution_id": "b18a65a397db4dc89d5e20b2c7f4c0b2"
    }
   },
   "outputs": [],
   "source": [
    "Theorem  plus_assoc : (forall n m o : nat, n + (m +o)  = (n + m) + o ).\n",
    "Proof."
   ]
  },
  {
   "cell_type": "code",
   "execution_count": null,
   "metadata": {
    "coq_kernel_metadata": {
     "auto_roll_back": true,
     "cell_id": "29f8ebcd6c28421ba7fcfe420b4af1a2",
     "execution_id": "dee6d9097317458497074d8a3174f77d"
    }
   },
   "outputs": [],
   "source": [
    "(* forall を削除*)\n",
    "intros."
   ]
  },
  {
   "cell_type": "code",
   "execution_count": null,
   "metadata": {
    "coq_kernel_metadata": {
     "auto_roll_back": true,
     "cell_id": "f44d4b9e76f040949b7ede1de98d0ab8",
     "execution_id": "48dc61fd50164cefb87240161a7e80f4"
    }
   },
   "outputs": [],
   "source": [
    "(* n についての帰納法を使う。*)\n",
    "induction n.\n",
    "(* n = 0 　の場合と、\n",
    "　　　　n = S n' の場合で、サブゴールが二つに分かれる。 *)"
   ]
  },
  {
   "cell_type": "code",
   "execution_count": null,
   "metadata": {
    "coq_kernel_metadata": {
     "auto_roll_back": true,
     "cell_id": "5ca2ca33da5e4538ada95bdcefd773ea",
     "execution_id": "a91d391bb7ba442696ba4e4dd419eaa2"
    }
   },
   "outputs": [],
   "source": [
    "(* n = 0 　の場合 *)\n",
    "(* サブゴールを単純にする。*)\n",
    "simpl."
   ]
  },
  {
   "cell_type": "code",
   "execution_count": null,
   "metadata": {
    "coq_kernel_metadata": {
     "auto_roll_back": true,
     "cell_id": "6b5e02d5da75437891366279e50547d2",
     "execution_id": "64f6a8fa65b84a3eb6e0115b0eec40a5"
    }
   },
   "outputs": [],
   "source": [
    "(* n = 0 　の場合 *)\n",
    "(* サブゴールにreflexivityが使える。*)\n",
    "reflexivity.\n",
    "(* n =0 の場合、証明終わり。 サブゴールが一つになる。 *)\n",
    "(* n = Sn' の場合の証明に入る。 *)"
   ]
  },
  {
   "cell_type": "code",
   "execution_count": null,
   "metadata": {
    "coq_kernel_metadata": {
     "auto_roll_back": true,
     "cell_id": "195586fc96e64b12830b31e39758b065",
     "execution_id": "f6e2b2e8756b4aebb53a64c0495dff89"
    }
   },
   "outputs": [],
   "source": [
    "(* n = S n' の場合*)\n",
    "(* サブゴールを単純にする。*)\n",
    "simpl."
   ]
  },
  {
   "cell_type": "code",
   "execution_count": null,
   "metadata": {
    "coq_kernel_metadata": {
     "auto_roll_back": true,
     "cell_id": "d5dd7ba81a0c40348708872085341334",
     "execution_id": "9141013857314cad862304c40a0816c5"
    }
   },
   "outputs": [],
   "source": [
    "(* n = S n' の場合*)\n",
    "(* サブゴールを IHnの左項で書き換える。*)\n",
    "rewrite -> IHn."
   ]
  },
  {
   "cell_type": "code",
   "execution_count": null,
   "metadata": {
    "coq_kernel_metadata": {
     "auto_roll_back": true,
     "cell_id": "c594e59941bc47948248bc4cf5897773",
     "execution_id": "a362adb56b2e4a8d9f698cb576ecbd86"
    }
   },
   "outputs": [],
   "source": [
    "(* n = S n' の場合*)\n",
    "(* サブゴールに reflexivity が使える。*)\n",
    "reflexivity.\n",
    "(* n = S n' の場合、証明終わり。 *)"
   ]
  },
  {
   "cell_type": "code",
   "execution_count": null,
   "metadata": {
    "coq_kernel_metadata": {
     "auto_roll_back": true,
     "cell_id": "d0fc263a5445431398ef5b3bebec441a",
     "execution_id": "2250e560d6a4437cbde309c3e4013569"
    }
   },
   "outputs": [],
   "source": [
    "Qed."
   ]
  },
  {
   "cell_type": "markdown",
   "metadata": {
    "coq_kernel_metadata": {
     "auto_roll_back": true
    }
   },
   "source": [
    "### [作業用ページに戻る](#ex36)"
   ]
  },
  {
   "cell_type": "markdown",
   "metadata": {
    "coq_kernel_metadata": {
     "auto_roll_back": true
    }
   },
   "source": [
    "<a id=\"ans37\"></a>\n",
    "## 演習問題 3-7  解答\n",
    "　<font size=\"4\">次の定理を証明せよ。</font>\n",
    " <font color=\"blue\"　size=\"4\"><br>　Theorem mul_succ_r : forall n m : nat,  n \\* S m = n \\* m + n  ).</font>\n",
    "\n",
    "## 解答\n",
    "### 下のCellを実行して確かめよ。\n",
    "#### <font color=\"red\">この証明では Coqライブラリーを利用していることに注意。</font>\n",
    "\n",
    "<a id=\"hint32\"></a>"
   ]
  },
  {
   "cell_type": "code",
   "execution_count": null,
   "metadata": {
    "coq_kernel_metadata": {
     "auto_roll_back": true,
     "cell_id": "337421be14cd477c9e61f025fe772a04",
     "execution_id": "73299f2b5090460a8a9babce6e550160"
    }
   },
   "outputs": [],
   "source": [
    "Require Import Arith. \n",
    "\n",
    "Theorem  mul_succ_r : ( forall n m : nat,  n * S m = n * m + n  ).\n",
    "Proof."
   ]
  },
  {
   "cell_type": "code",
   "execution_count": null,
   "metadata": {
    "coq_kernel_metadata": {
     "auto_roll_back": true,
     "cell_id": "7dfef4d93bd04e9c80dc20c3749e863a",
     "execution_id": "e44775b078dc4ddd8828dea1d4d6dbbe"
    }
   },
   "outputs": [],
   "source": [
    "(* forall の削除*)\n",
    "intros."
   ]
  },
  {
   "cell_type": "code",
   "execution_count": null,
   "metadata": {
    "coq_kernel_metadata": {
     "auto_roll_back": true,
     "cell_id": "e3b73fd014be42258fa88e25f5088254",
     "execution_id": "388aa745c00f43eb8e50a70aaab33ae8"
    }
   },
   "outputs": [],
   "source": [
    "(* n についての帰納法を使う *)\n",
    "induction n.\n",
    "(* n = 0 　の場合と、\n",
    "　　　　n = S n' の場合で、サブゴールが二つに分かれる。 *)"
   ]
  },
  {
   "cell_type": "code",
   "execution_count": null,
   "metadata": {
    "coq_kernel_metadata": {
     "auto_roll_back": true,
     "cell_id": "0b47780f0dff43b980d81a194ed64967",
     "execution_id": "a2f2cfdcac184b3a865fdc06d1e949da"
    }
   },
   "outputs": [],
   "source": [
    "(* n = 0 の場合 *)\n",
    "(* サブゴールを簡単にする。 *)\n",
    "simpl."
   ]
  },
  {
   "cell_type": "code",
   "execution_count": null,
   "metadata": {
    "coq_kernel_metadata": {
     "auto_roll_back": true,
     "cell_id": "f57d7706f6394459a2fbefc4d0368e6b",
     "execution_id": "5cf98c6c362b4fb5a3aed127683dd8ee"
    }
   },
   "outputs": [],
   "source": [
    "(* n = 0 の場合 *)\n",
    "(* サブゴールにreflexivity が使える。 *)\n",
    "reflexivity.\n",
    "(* n = 0 の場合、証明終わり。サブゴールは一つになる。\n",
    "　　　　n = S n' の場合の証明に移る。*)"
   ]
  },
  {
   "cell_type": "code",
   "execution_count": null,
   "metadata": {
    "coq_kernel_metadata": {
     "auto_roll_back": true,
     "cell_id": "a841da81067a469292a57f60a92b33fc",
     "execution_id": "81630c3c3e26496983497251ca17b328"
    }
   },
   "outputs": [],
   "source": [
    "(*　n = S n' の場合 *)\n",
    "(* サブゴールを簡単にする。　*)\n",
    "simpl."
   ]
  },
  {
   "cell_type": "code",
   "execution_count": null,
   "metadata": {
    "coq_kernel_metadata": {
     "auto_roll_back": true,
     "cell_id": "0332a07ffef2417788a154f0bccd1431",
     "execution_id": "894525d60d744d3cbc93ed6db135044d"
    },
    "scrolled": true
   },
   "outputs": [],
   "source": [
    "(*　n = S n' の場合 *)\n",
    "(* サブゴールを、IHnの左項で書き換える。　*)\n",
    "rewrite -> IHn."
   ]
  },
  {
   "cell_type": "code",
   "execution_count": null,
   "metadata": {
    "coq_kernel_metadata": {
     "auto_roll_back": true,
     "cell_id": "260af39a03be465f88393011cde55315",
     "execution_id": "2167dfca023e41cb858c230de79c31be"
    },
    "scrolled": true
   },
   "outputs": [],
   "source": [
    "(*　n = S n' の場合 *)\n",
    "(* サブゴールを、Nat.add_succ_rの右項で書き換える。　*)\n",
    "(* Nat.add_succ_r\n",
    "     : forall n m : nat, n + S m = S (n + m)\n",
    "で、「演習問題　3-4」で証明した plus_n_Sm と同じものである。*)\n",
    "\n",
    "rewrite <- Nat.add_succ_r."
   ]
  },
  {
   "cell_type": "code",
   "execution_count": null,
   "metadata": {
    "coq_kernel_metadata": {
     "auto_roll_back": true,
     "cell_id": "4bbd0eb14dd84ac188646da77352ce3d",
     "execution_id": "15844cb75c614e359f80945c0cef0348"
    },
    "scrolled": true
   },
   "outputs": [],
   "source": [
    "(*　n = S n' の場合 *)\n",
    "(* サブゴールを、再び、Nat.add_succ_rの右項で書き換える。　*)\n",
    "\n",
    "rewrite <- Nat.add_succ_r."
   ]
  },
  {
   "cell_type": "code",
   "execution_count": null,
   "metadata": {
    "coq_kernel_metadata": {
     "auto_roll_back": true,
     "cell_id": "9fc7b0e3b0e94be48e4d68f2b6dd1339",
     "execution_id": "ae54e354f22844fd88fef2d726f3db43"
    },
    "scrolled": true
   },
   "outputs": [],
   "source": [
    "(*　n = S n' の場合 *)\n",
    "(* サブゴールを、Nat.add_assocの左項で書き換える。　*)\n",
    "(* Nat.add_assoc\n",
    "     : forall n m p : nat, n + (m + p) = n + m + p\n",
    " で、「演習問題 3-6」　で証明した plus_assoc と同じものである。 *)\n",
    "\n",
    "rewrite -> Nat.add_assoc."
   ]
  },
  {
   "cell_type": "code",
   "execution_count": null,
   "metadata": {
    "coq_kernel_metadata": {
     "auto_roll_back": true,
     "cell_id": "f2cf7dfbbbb344d38ce0818b541c61f2",
     "execution_id": "4082c10b8def466f84a9c43a60848474"
    },
    "scrolled": true
   },
   "outputs": [],
   "source": [
    "(*　n = S n' の場合 *)\n",
    "(* サブゴールに reflexivity が使える。　*)\n",
    "reflexivity.\n",
    "(*　n = S n' の場合、証明終わり。 *)"
   ]
  },
  {
   "cell_type": "code",
   "execution_count": null,
   "metadata": {
    "coq_kernel_metadata": {
     "auto_roll_back": true,
     "cell_id": "ada56c30910d419f90ebaca85f7473ec",
     "execution_id": "6a487a52b7eb4fd191878bdde358d176"
    }
   },
   "outputs": [],
   "source": [
    "Qed."
   ]
  },
  {
   "cell_type": "markdown",
   "metadata": {
    "coq_kernel_metadata": {
     "auto_roll_back": true
    }
   },
   "source": [
    "### [作業用ページに戻る](#ex37)"
   ]
  },
  {
   "cell_type": "markdown",
   "metadata": {
    "coq_kernel_metadata": {
     "auto_roll_back": true
    }
   },
   "source": [
    "<a id=\"ans38\"></a>\n",
    "## 演習問題 3-8  解答\n",
    "　<font size=\"4\">次の定理を証明せよ。</font>\n",
    " <font color=\"blue\"　size=\"4\"><br>　Theorem mult_comm : (forall n m : nat,  n \\* m = m \\* n ).</font>\n",
    "\n",
    "## 解答\n",
    "### 下のCellを実行して確かめよ。\n",
    "#### <font color=\"red\">この証明では Coqライブラリーを利用していることに注意。</font>\n",
    "\n",
    "<a id=\"hint38\"></a>"
   ]
  },
  {
   "cell_type": "code",
   "execution_count": null,
   "metadata": {
    "coq_kernel_metadata": {
     "auto_roll_back": true,
     "cell_id": "d83f6a5175f54a4f9124fd6f026c4494",
     "execution_id": "31b61fe14b99422d9e8f6100bc1ff653"
    }
   },
   "outputs": [],
   "source": [
    " Require Import Arith. \n",
    "\n",
    "Theorem  mult_comm : (forall n m : nat,  n * m = m * n ).\n",
    "Proof."
   ]
  },
  {
   "cell_type": "code",
   "execution_count": null,
   "metadata": {
    "coq_kernel_metadata": {
     "auto_roll_back": true,
     "cell_id": "d2ba6244d0814e5084db1bdc37f76628",
     "execution_id": "8a9604eeda9441bbae34ac99d55ddc95"
    }
   },
   "outputs": [],
   "source": [
    "(* forall の削除 *)\n",
    "intros."
   ]
  },
  {
   "cell_type": "code",
   "execution_count": null,
   "metadata": {
    "coq_kernel_metadata": {
     "auto_roll_back": true,
     "cell_id": "75d980331e004650beb4aa5ccb2d7d96",
     "execution_id": "47442b1d80474cbd854f3bb176764dff"
    }
   },
   "outputs": [],
   "source": [
    "(* n についての帰納法を使う *)\n",
    "induction n.\n",
    "(* n = 0 　の場合と、\n",
    "　　　　n = S n' の場合で、サブゴールが二つに分かれる。 *)"
   ]
  },
  {
   "cell_type": "code",
   "execution_count": null,
   "metadata": {
    "coq_kernel_metadata": {
     "auto_roll_back": true,
     "cell_id": "1ca4c46fd4e24fdc879e0cd8b3b5d017",
     "execution_id": "7eda2db59f3849c687687cb662dba919"
    }
   },
   "outputs": [],
   "source": [
    "(* n = 0 の場合 *)\n",
    "(* サブゴールを簡単にする。 *)\n",
    "simpl."
   ]
  },
  {
   "cell_type": "code",
   "execution_count": null,
   "metadata": {
    "coq_kernel_metadata": {
     "auto_roll_back": true,
     "cell_id": "fc342115a9fd44dfbed6152105b21361",
     "execution_id": "fdb96e8397a74a9989c9d42668e03532"
    }
   },
   "outputs": [],
   "source": [
    "(* n = 0 の場合 *)\n",
    "(* サブゴールを、Nat.mul_0_r の左項で書き換える。 *)\n",
    "(* Nat.mul_0_r\n",
    "     : forall n : nat, n * 0 = 0\n",
    "で、「演習問題 3-3」で証明した　 mult_0_r と同じものである。*)\n",
    "\n",
    "rewrite -> Nat.mul_0_r."
   ]
  },
  {
   "cell_type": "code",
   "execution_count": null,
   "metadata": {
    "coq_kernel_metadata": {
     "auto_roll_back": true,
     "cell_id": "231738204ec943968be40d0feec98043",
     "execution_id": "a84ad0d4a8764b218d80dbd671212b86"
    }
   },
   "outputs": [],
   "source": [
    "(* n = 0 の場合 *)\n",
    "(* サブゴールにreflexivity が使える。 *)\n",
    "reflexivity.\n",
    "(* n = 0 の場合、証明終わり。サブゴールは一つになる。\n",
    "　　　　n = S n' の場合の証明に移る。*)"
   ]
  },
  {
   "cell_type": "code",
   "execution_count": null,
   "metadata": {
    "coq_kernel_metadata": {
     "auto_roll_back": true,
     "cell_id": "d0eae1eda1cb4cf48a03317e23cda073",
     "execution_id": "f10d007e40bd4a8e80931ba924f5485c"
    }
   },
   "outputs": [],
   "source": [
    "(* n = S n' の場合 *)\n",
    "(* サブゴールを簡単にする。*)\n",
    "simpl."
   ]
  },
  {
   "cell_type": "code",
   "execution_count": null,
   "metadata": {
    "coq_kernel_metadata": {
     "auto_roll_back": true,
     "cell_id": "815aac624e25413dac3f407c21e14e34",
     "execution_id": "64f9f864799644898ff24512194839eb"
    }
   },
   "outputs": [],
   "source": [
    "(* n = S n' の場合 *)\n",
    "(* サブゴールを IHnの左項で書き換える。*)\n",
    "rewrite -> IHn."
   ]
  },
  {
   "cell_type": "code",
   "execution_count": null,
   "metadata": {
    "coq_kernel_metadata": {
     "auto_roll_back": true,
     "cell_id": "1bc0b0b0fd034b84aedfa70ad611b0e1",
     "execution_id": "d687040054194c948fe55ea5942e3482"
    }
   },
   "outputs": [],
   "source": [
    "(* n = S n' の場合 *)\n",
    "(* サブゴールを Nat.mul_succ_r の左項で書き換える。*)\n",
    "(* Nat.add_succ_r\n",
    "     : forall n m : nat, n + S m = S (n + m)\n",
    "で、「演習問題　3-4」で証明した plus_n_Sm と同じものである。*)\n",
    "\n",
    "rewrite -> Nat.mul_succ_r."
   ]
  },
  {
   "cell_type": "code",
   "execution_count": null,
   "metadata": {
    "coq_kernel_metadata": {
     "auto_roll_back": true,
     "cell_id": "d282c8b6c5664a7796dd678bb2b37dcc",
     "execution_id": "f7a85603e6ae47c4804ced485d807cd6"
    }
   },
   "outputs": [],
   "source": [
    "(* n = S n' の場合 *)\n",
    "(* Nat.add_comm.（加法の可換律）を適用する。*)\n",
    "(* Nat.add_comm\n",
    "     : forall n m : nat, n + m = m + n\n",
    " で、「演習問題 3-5」で証明した plus_comm と同じである。*)\n",
    "apply Nat.add_comm.\n",
    "(* n = S n' の場合、証明終わり。 *)"
   ]
  },
  {
   "cell_type": "code",
   "execution_count": null,
   "metadata": {
    "coq_kernel_metadata": {
     "auto_roll_back": true,
     "cell_id": "205b40b365c140eb8ffde60fa3821e58",
     "execution_id": "db43c0476a3649ec901e32b645d3262a"
    }
   },
   "outputs": [],
   "source": [
    "Qed."
   ]
  },
  {
   "cell_type": "markdown",
   "metadata": {
    "coq_kernel_metadata": {
     "auto_roll_back": true
    }
   },
   "source": [
    "### [作業用ページに戻る](#ex38)"
   ]
  },
  {
   "cell_type": "code",
   "execution_count": null,
   "metadata": {
    "coq_kernel_metadata": {
     "auto_roll_back": true
    }
   },
   "outputs": [],
   "source": []
  }
 ],
 "metadata": {
  "kernelspec": {
   "display_name": "Coq",
   "language": "coq",
   "name": "coq"
  },
  "language_info": {
   "file_extension": ".v",
   "mimetype": "text/x-coq",
   "name": "coq",
   "version": "8.9.1"
  }
 },
 "nbformat": 4,
 "nbformat_minor": 2
}
