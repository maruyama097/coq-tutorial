{
 "cells": [
  {
   "cell_type": "markdown",
   "metadata": {
    "coq_kernel_metadata": {
     "auto_roll_back": true
    }
   },
   "source": [
    "# 演習問題 1 作業用ページ\n",
    "\n",
    "[演習問題 1-1](./Logic-Ex-Work.ipynb#ex11) [演習問題 1-2](./Logic-Ex-Work.ipynb#ex12) [演習問題 1-3](./Logic-Ex-Work-Work.ipynb#ex13) [演習問題 1-4](./Logic-Ex-Work-Work.ipynb#ex14) [演習問題 1-5](./Logic-Ex-Work.ipynb#ex15) [演習問題 1-6](./Logic-Ex-Work.ipynb#ex16) [演習問題 1-7](./Logic-Ex-Work.ipynb#ex17) [演習問題 1-8](./Logic-Ex-Work.ipynb#ex18) [演習問題 1-9](./Logic-Ex-Work.ipynb#ex19) "
   ]
  },
  {
   "cell_type": "markdown",
   "metadata": {
    "coq_kernel_metadata": {
     "auto_roll_back": true
    }
   },
   "source": [
    "<a id=\"ex11\"></a>\n",
    "## 演習問題 1-1 \n",
    "<font size=\"4\">次の定理を証明せよ。</font>\n",
    " <font color=\"blue\"　size=\"4\" ><br> Theorem my_first_proof : (forall A : Prop, A -> A).</font>\n",
    "\n",
    "### ヒント\n",
    "- 冒頭の forall を intros で削除する。（Rule 1）\n",
    "- A -> A の最初のAを intros で仮説に入れる。(Rule 2)\n",
    "- そうすると、サブゴールが仮説の一つと一致していることがわかるので、assumption (Rule 3) または、exact (Rule 4) を使う。\n",
    "\n",
    "###  [解答を見る](./Logic-Ex-Answer.ipynb#ex11) "
   ]
  },
  {
   "cell_type": "code",
   "execution_count": null,
   "metadata": {
    "coq_kernel_metadata": {
     "auto_roll_back": true
    }
   },
   "outputs": [],
   "source": [
    "Theorem  my_first_proof : (forall A : Prop, A -> A).\n",
    "Proof."
   ]
  },
  {
   "cell_type": "code",
   "execution_count": null,
   "metadata": {
    "coq_kernel_metadata": {
     "auto_roll_back": true
    }
   },
   "outputs": [],
   "source": []
  },
  {
   "cell_type": "code",
   "execution_count": null,
   "metadata": {
    "coq_kernel_metadata": {
     "auto_roll_back": true
    }
   },
   "outputs": [],
   "source": []
  },
  {
   "cell_type": "code",
   "execution_count": null,
   "metadata": {
    "coq_kernel_metadata": {
     "auto_roll_back": true
    }
   },
   "outputs": [],
   "source": []
  },
  {
   "cell_type": "code",
   "execution_count": null,
   "metadata": {
    "coq_kernel_metadata": {
     "auto_roll_back": true
    }
   },
   "outputs": [],
   "source": []
  },
  {
   "cell_type": "code",
   "execution_count": null,
   "metadata": {
    "coq_kernel_metadata": {
     "auto_roll_back": true
    }
   },
   "outputs": [],
   "source": []
  },
  {
   "cell_type": "code",
   "execution_count": null,
   "metadata": {
    "coq_kernel_metadata": {
     "auto_roll_back": true
    }
   },
   "outputs": [],
   "source": [
    "Admitted. (* 最後にここを Qed. に変える。*)"
   ]
  },
  {
   "cell_type": "markdown",
   "metadata": {
    "collapsed": true,
    "coq_kernel_metadata": {
     "auto_roll_back": true
    }
   },
   "source": [
    "<a id=\"ex12\"></a>\n",
    "## 演習問題 1-2\n",
    "<font size=\"4\">次の定理を証明せよ。</font>\n",
    " <font color=\"blue\" size=\"4\"><br> Theorem and1 : (forall A  B: Prop, A /\\ B -> A).</font>\n",
    "\n",
    "### ヒント\n",
    "- intros. で forall を削除し、`A /\\ B -> A` の前提部分の`A /\\ B`を仮説に移す。（Rule 1,2）\n",
    "- 仮説中の`A /\\ B`を、destruct で分解する。(Rule 6)\n",
    "- 仮説の一つがサブゴールに一致している。（Rule 3,4,5）\n",
    "\n",
    "###  [解答を見る](./Logic-Ex-Answer.ipynb#ex12) "
   ]
  },
  {
   "cell_type": "code",
   "execution_count": null,
   "metadata": {
    "coq_kernel_metadata": {
     "auto_roll_back": true
    }
   },
   "outputs": [],
   "source": [
    "Theorem and1 : (forall A  B: Prop, A /\\ B -> A)."
   ]
  },
  {
   "cell_type": "code",
   "execution_count": null,
   "metadata": {
    "coq_kernel_metadata": {
     "auto_roll_back": true
    }
   },
   "outputs": [],
   "source": []
  },
  {
   "cell_type": "code",
   "execution_count": null,
   "metadata": {
    "coq_kernel_metadata": {
     "auto_roll_back": true
    }
   },
   "outputs": [],
   "source": []
  },
  {
   "cell_type": "code",
   "execution_count": null,
   "metadata": {
    "coq_kernel_metadata": {
     "auto_roll_back": true
    }
   },
   "outputs": [],
   "source": []
  },
  {
   "cell_type": "code",
   "execution_count": null,
   "metadata": {
    "coq_kernel_metadata": {
     "auto_roll_back": true
    }
   },
   "outputs": [],
   "source": []
  },
  {
   "cell_type": "code",
   "execution_count": null,
   "metadata": {
    "coq_kernel_metadata": {
     "auto_roll_back": true
    }
   },
   "outputs": [],
   "source": []
  },
  {
   "cell_type": "code",
   "execution_count": null,
   "metadata": {
    "coq_kernel_metadata": {
     "auto_roll_back": true
    }
   },
   "outputs": [],
   "source": []
  },
  {
   "cell_type": "code",
   "execution_count": null,
   "metadata": {
    "coq_kernel_metadata": {
     "auto_roll_back": true
    }
   },
   "outputs": [],
   "source": []
  },
  {
   "cell_type": "code",
   "execution_count": null,
   "metadata": {
    "coq_kernel_metadata": {
     "auto_roll_back": true
    }
   },
   "outputs": [],
   "source": [
    "Admitted. (* 最後にここを Qed. に変える。*)"
   ]
  },
  {
   "cell_type": "markdown",
   "metadata": {
    "coq_kernel_metadata": {
     "auto_roll_back": true
    }
   },
   "source": [
    "<a id=\"ex13\"></a>\n",
    "## 演習問題 1-3\n",
    "<font size=\"4\">次の定理を証明せよ。</font>\n",
    " <font color=\"blue\"　size=\"4\"><br> Theorem and1 : (forall A  B: Prop, A /\\ B -> B).</font>\n",
    "\n",
    "### ヒント\n",
    "- intros. で forall を削除し、`A /\\ B -> B` の前提部分の`A /\\ B`を仮説に移す。（Rule 1,2）\n",
    "- 仮説中の`A /\\ B`を、destruct で分解する。(Rule 6)\n",
    "- 仮説の一つがサブゴールに一致している。（Rule 3,4,5）\n",
    "\n",
    "###  [解答を見る](./Logic-Ex-Answer.ipynb#ex13) "
   ]
  },
  {
   "cell_type": "code",
   "execution_count": null,
   "metadata": {
    "coq_kernel_metadata": {
     "auto_roll_back": true
    }
   },
   "outputs": [],
   "source": [
    " Theorem and1 : (forall A  B: Prop, A /\\ B -> B)."
   ]
  },
  {
   "cell_type": "code",
   "execution_count": null,
   "metadata": {
    "coq_kernel_metadata": {
     "auto_roll_back": true
    }
   },
   "outputs": [],
   "source": []
  },
  {
   "cell_type": "code",
   "execution_count": null,
   "metadata": {
    "coq_kernel_metadata": {
     "auto_roll_back": true
    }
   },
   "outputs": [],
   "source": []
  },
  {
   "cell_type": "code",
   "execution_count": null,
   "metadata": {
    "coq_kernel_metadata": {
     "auto_roll_back": true
    }
   },
   "outputs": [],
   "source": []
  },
  {
   "cell_type": "code",
   "execution_count": null,
   "metadata": {
    "coq_kernel_metadata": {
     "auto_roll_back": true
    }
   },
   "outputs": [],
   "source": []
  },
  {
   "cell_type": "code",
   "execution_count": null,
   "metadata": {
    "coq_kernel_metadata": {
     "auto_roll_back": true
    }
   },
   "outputs": [],
   "source": []
  },
  {
   "cell_type": "code",
   "execution_count": null,
   "metadata": {
    "coq_kernel_metadata": {
     "auto_roll_back": true
    }
   },
   "outputs": [],
   "source": []
  },
  {
   "cell_type": "code",
   "execution_count": null,
   "metadata": {
    "coq_kernel_metadata": {
     "auto_roll_back": true
    }
   },
   "outputs": [],
   "source": [
    "Admitted. (* 最後にここを Qed. に変える。*)"
   ]
  },
  {
   "cell_type": "markdown",
   "metadata": {
    "coq_kernel_metadata": {
     "auto_roll_back": true
    }
   },
   "source": [
    "<a id=\"ex14\"></a>\n",
    "## 演習問題 1-4\n",
    "<font size=\"4\">次の定理を証明せよ。</font>\n",
    " <font color=\"blue\"　size=\"4\"><br> Theorem or1 : (forall A  B: Prop, A -> A \\\\/ B).</font>\n",
    "\n",
    "### ヒント\n",
    "- intros. でforallを消す。(Rule 1)\n",
    "- left. でAを仮説に取り込む。(Rule 7)\n",
    "- サブゴールと仮説が一致している。(Rule 3,4,5)\n",
    "\n",
    "###  [解答を見る](./Logic-Ex-Answer.ipynb#ex14) "
   ]
  },
  {
   "cell_type": "code",
   "execution_count": null,
   "metadata": {
    "coq_kernel_metadata": {
     "auto_roll_back": true
    }
   },
   "outputs": [],
   "source": [
    "Theorem or1 : (forall A  B: Prop, A -> A \\/ B)."
   ]
  },
  {
   "cell_type": "code",
   "execution_count": null,
   "metadata": {
    "coq_kernel_metadata": {
     "auto_roll_back": true
    }
   },
   "outputs": [],
   "source": []
  },
  {
   "cell_type": "code",
   "execution_count": null,
   "metadata": {
    "coq_kernel_metadata": {
     "auto_roll_back": true
    }
   },
   "outputs": [],
   "source": []
  },
  {
   "cell_type": "code",
   "execution_count": null,
   "metadata": {
    "coq_kernel_metadata": {
     "auto_roll_back": true
    }
   },
   "outputs": [],
   "source": []
  },
  {
   "cell_type": "code",
   "execution_count": null,
   "metadata": {
    "coq_kernel_metadata": {
     "auto_roll_back": true
    }
   },
   "outputs": [],
   "source": []
  },
  {
   "cell_type": "code",
   "execution_count": null,
   "metadata": {
    "coq_kernel_metadata": {
     "auto_roll_back": true
    }
   },
   "outputs": [],
   "source": []
  },
  {
   "cell_type": "code",
   "execution_count": null,
   "metadata": {
    "coq_kernel_metadata": {
     "auto_roll_back": true
    }
   },
   "outputs": [],
   "source": []
  },
  {
   "cell_type": "code",
   "execution_count": null,
   "metadata": {
    "coq_kernel_metadata": {
     "auto_roll_back": true
    }
   },
   "outputs": [],
   "source": []
  },
  {
   "cell_type": "code",
   "execution_count": null,
   "metadata": {
    "coq_kernel_metadata": {
     "auto_roll_back": true
    }
   },
   "outputs": [],
   "source": [
    "Admitted. (* 最後にここを Qed. に変える。*)"
   ]
  },
  {
   "cell_type": "markdown",
   "metadata": {
    "coq_kernel_metadata": {
     "auto_roll_back": true
    }
   },
   "source": [
    "<a id=\"ex15\"></a>\n",
    "## 演習問題 1-5\n",
    "<font size=\"4\">次の定理を証明せよ。</font>\n",
    " <font color=\"blue\"　size=\"4\"><br> Theorem or2 : (forall A  B: Prop, B -> A \\\\/ B).</font>\n",
    "\n",
    "### ヒント\n",
    "- intros. でforallを消す。(Rule 1)\n",
    "- right. でBを仮説に取り込む。(Rule 7)\n",
    "- サブゴールと仮説が一致している。(Rule 3,4,5)\n",
    "\n",
    "###  [解答を見る](./Logic-Ex-Answer.ipynb#ex15) "
   ]
  },
  {
   "cell_type": "code",
   "execution_count": null,
   "metadata": {
    "coq_kernel_metadata": {
     "auto_roll_back": true
    }
   },
   "outputs": [],
   "source": [
    "Theorem or2 : (forall A  B: Prop, B -> A \\/ B)."
   ]
  },
  {
   "cell_type": "code",
   "execution_count": null,
   "metadata": {
    "coq_kernel_metadata": {
     "auto_roll_back": true
    }
   },
   "outputs": [],
   "source": []
  },
  {
   "cell_type": "code",
   "execution_count": null,
   "metadata": {
    "coq_kernel_metadata": {
     "auto_roll_back": true
    }
   },
   "outputs": [],
   "source": []
  },
  {
   "cell_type": "code",
   "execution_count": null,
   "metadata": {
    "coq_kernel_metadata": {
     "auto_roll_back": true
    }
   },
   "outputs": [],
   "source": []
  },
  {
   "cell_type": "code",
   "execution_count": null,
   "metadata": {
    "coq_kernel_metadata": {
     "auto_roll_back": true
    }
   },
   "outputs": [],
   "source": []
  },
  {
   "cell_type": "code",
   "execution_count": null,
   "metadata": {
    "coq_kernel_metadata": {
     "auto_roll_back": true
    }
   },
   "outputs": [],
   "source": []
  },
  {
   "cell_type": "code",
   "execution_count": null,
   "metadata": {
    "coq_kernel_metadata": {
     "auto_roll_back": true
    }
   },
   "outputs": [],
   "source": []
  },
  {
   "cell_type": "code",
   "execution_count": null,
   "metadata": {
    "coq_kernel_metadata": {
     "auto_roll_back": true
    }
   },
   "outputs": [],
   "source": [
    "Admitted. (* 最後にここを Qed. に変える。*)"
   ]
  },
  {
   "cell_type": "markdown",
   "metadata": {
    "coq_kernel_metadata": {
     "auto_roll_back": true
    }
   },
   "source": [
    "<a id=\"ex16\"></a>\n",
    "## 演習問題 1-6\n",
    "<font size=\"4\">次の定理を証明せよ。</font>\n",
    " <font color=\"blue\"　size=\"4\"><br> Theorem modus_ponens : (forall A  B: Prop, A -> (A -> B) ->B).</font>\n",
    "\n",
    "### ヒント\n",
    "- intros. で先頭のforall を削除する。(Rule1)\n",
    "- 再び intros で、AとA -> Bを仮説に移す。(Rule 2) \n",
    "- 仮説A -> Bを仮説（この場合はA）に適用して、サブゴールをBに変える。applyを使う。(Rule 9)\n",
    "- 仮説とサブゴールが一致する。(Rule 3,4,5)\n",
    "\n",
    "###  [解答を見る](./Logic-Ex-Answer.ipynb#ex16) "
   ]
  },
  {
   "cell_type": "code",
   "execution_count": null,
   "metadata": {
    "coq_kernel_metadata": {
     "auto_roll_back": true
    }
   },
   "outputs": [],
   "source": [
    "Theorem modus_ponens : (forall A  B: Prop, A -> (A -> B) ->B)"
   ]
  },
  {
   "cell_type": "code",
   "execution_count": null,
   "metadata": {
    "coq_kernel_metadata": {
     "auto_roll_back": true
    }
   },
   "outputs": [],
   "source": []
  },
  {
   "cell_type": "code",
   "execution_count": null,
   "metadata": {
    "coq_kernel_metadata": {
     "auto_roll_back": true
    }
   },
   "outputs": [],
   "source": []
  },
  {
   "cell_type": "code",
   "execution_count": null,
   "metadata": {
    "coq_kernel_metadata": {
     "auto_roll_back": true
    }
   },
   "outputs": [],
   "source": []
  },
  {
   "cell_type": "code",
   "execution_count": null,
   "metadata": {
    "coq_kernel_metadata": {
     "auto_roll_back": true
    }
   },
   "outputs": [],
   "source": []
  },
  {
   "cell_type": "code",
   "execution_count": null,
   "metadata": {
    "coq_kernel_metadata": {
     "auto_roll_back": true
    }
   },
   "outputs": [],
   "source": []
  },
  {
   "cell_type": "code",
   "execution_count": null,
   "metadata": {
    "coq_kernel_metadata": {
     "auto_roll_back": true
    }
   },
   "outputs": [],
   "source": []
  },
  {
   "cell_type": "code",
   "execution_count": null,
   "metadata": {
    "coq_kernel_metadata": {
     "auto_roll_back": true
    }
   },
   "outputs": [],
   "source": [
    "Admitted. (* 最後にここを Qed. に変える。*)"
   ]
  },
  {
   "cell_type": "markdown",
   "metadata": {
    "coq_kernel_metadata": {
     "auto_roll_back": true
    }
   },
   "source": [
    "<a id=\"ex17\"></a>\n",
    "## 演習問題 1-7\n",
    "<font size=\"4\">次の定理を証明せよ。</font>\n",
    " <font color=\"blue\"　size=\"4\"><br> Theorem modus_ponens2 : (forall A  B C: Prop, A -> (A -> B) ->(B ->C) -> C).</font>\n",
    "\n",
    "### ヒント\n",
    "- intros でforallを削除する。\n",
    "- intros で、全ての -> の前提部分を仮説に移す。この時、適当なラベルをつけておくと分かりやすくなる。この例の場合なら、intros Proof_of_A A_implies_B B_implies_C とか。\n",
    "- apply B_implies_C で、サブゴールをBに変える。\n",
    "- apply A_implies_B で、サブゴールをAに変える。\n",
    "- 仮説とサブゴールが一致している。\n",
    "\n",
    "###  [解答を見る](./Logic-Ex-Answer.ipynb#ex17) "
   ]
  },
  {
   "cell_type": "code",
   "execution_count": null,
   "metadata": {
    "coq_kernel_metadata": {
     "auto_roll_back": true
    }
   },
   "outputs": [],
   "source": [
    "Theorem modus_ponens2 : (forall A  B C: Prop, A -> (A -> B) ->(B ->C) -> C)."
   ]
  },
  {
   "cell_type": "code",
   "execution_count": null,
   "metadata": {
    "coq_kernel_metadata": {
     "auto_roll_back": true
    }
   },
   "outputs": [],
   "source": []
  },
  {
   "cell_type": "code",
   "execution_count": null,
   "metadata": {
    "coq_kernel_metadata": {
     "auto_roll_back": true
    }
   },
   "outputs": [],
   "source": []
  },
  {
   "cell_type": "code",
   "execution_count": null,
   "metadata": {
    "coq_kernel_metadata": {
     "auto_roll_back": true
    }
   },
   "outputs": [],
   "source": []
  },
  {
   "cell_type": "code",
   "execution_count": null,
   "metadata": {
    "coq_kernel_metadata": {
     "auto_roll_back": true
    }
   },
   "outputs": [],
   "source": []
  },
  {
   "cell_type": "code",
   "execution_count": null,
   "metadata": {
    "coq_kernel_metadata": {
     "auto_roll_back": true
    }
   },
   "outputs": [],
   "source": []
  },
  {
   "cell_type": "code",
   "execution_count": null,
   "metadata": {
    "coq_kernel_metadata": {
     "auto_roll_back": true
    }
   },
   "outputs": [],
   "source": []
  },
  {
   "cell_type": "code",
   "execution_count": null,
   "metadata": {
    "coq_kernel_metadata": {
     "auto_roll_back": true
    }
   },
   "outputs": [],
   "source": []
  },
  {
   "cell_type": "code",
   "execution_count": null,
   "metadata": {
    "coq_kernel_metadata": {
     "auto_roll_back": true
    }
   },
   "outputs": [],
   "source": [
    "Admitted. (* 最後にここを Qed. に変える。*)"
   ]
  },
  {
   "cell_type": "markdown",
   "metadata": {
    "coq_kernel_metadata": {
     "auto_roll_back": true
    }
   },
   "source": [
    "<a id=\"ex18\"></a>\n",
    "## 演習問題 1-8\n",
    "<font size=\"4\">次の定理を証明せよ。</font>\n",
    " <font color=\"blue\"　size=\"4\"><br> Theorem and_comm : (forall A  B: Prop, A /\\ B -> B /\\ A ).</font>\n",
    "\n",
    "### ヒント\n",
    "- intros で、forall を削除し、\"A /\\ B\" にH というラベルをつける 。(Rule 1)\n",
    "- \"H: A/\\ B\" を destruct で分解し、A, B を仮説に追加する。　(Rule 6)\n",
    "- サブゴール \"A\\/ B\" を split で、二つのサブゴールに分割する。　(Rule 8)\n",
    "- 一つ目のサブゴールは仮説の一つと同じなので解ける。サブゴールは一つになる。(Rule 2,3,4)\n",
    "- 残ったサブゴールも仮説の一つと一緒なので、解ける。(Rule 2,3,4)\n",
    "- サブゴールは残っていないので証明終了。\n",
    "\n",
    "###  [解答を見る](./Logic-Ex-Answer.ipynb#ex18) "
   ]
  },
  {
   "cell_type": "code",
   "execution_count": null,
   "metadata": {
    "coq_kernel_metadata": {
     "auto_roll_back": true
    }
   },
   "outputs": [],
   "source": [
    "Theorem and_comm : (forall A  B: Prop, A /\\ B -> B /\\ A )."
   ]
  },
  {
   "cell_type": "code",
   "execution_count": null,
   "metadata": {
    "coq_kernel_metadata": {
     "auto_roll_back": true
    }
   },
   "outputs": [],
   "source": []
  },
  {
   "cell_type": "code",
   "execution_count": null,
   "metadata": {
    "coq_kernel_metadata": {
     "auto_roll_back": true
    }
   },
   "outputs": [],
   "source": []
  },
  {
   "cell_type": "code",
   "execution_count": null,
   "metadata": {
    "coq_kernel_metadata": {
     "auto_roll_back": true
    }
   },
   "outputs": [],
   "source": []
  },
  {
   "cell_type": "code",
   "execution_count": null,
   "metadata": {
    "coq_kernel_metadata": {
     "auto_roll_back": true
    }
   },
   "outputs": [],
   "source": []
  },
  {
   "cell_type": "code",
   "execution_count": null,
   "metadata": {
    "coq_kernel_metadata": {
     "auto_roll_back": true
    }
   },
   "outputs": [],
   "source": []
  },
  {
   "cell_type": "code",
   "execution_count": null,
   "metadata": {
    "coq_kernel_metadata": {
     "auto_roll_back": true
    }
   },
   "outputs": [],
   "source": []
  },
  {
   "cell_type": "code",
   "execution_count": null,
   "metadata": {
    "coq_kernel_metadata": {
     "auto_roll_back": true
    }
   },
   "outputs": [],
   "source": []
  },
  {
   "cell_type": "code",
   "execution_count": null,
   "metadata": {
    "coq_kernel_metadata": {
     "auto_roll_back": true
    }
   },
   "outputs": [],
   "source": [
    "Admitted. (* 最後にここを Qed. に変える。*)"
   ]
  },
  {
   "cell_type": "markdown",
   "metadata": {
    "coq_kernel_metadata": {
     "auto_roll_back": true
    }
   },
   "source": [
    "<a id=\"ex19\"></a>\n",
    "## 演習問題 1-9\n",
    "<font size=\"4\">次の定理を証明せよ。</font>\n",
    " <font color=\"blue\"　size=\"4\"><br> Theorem or_comm : (forall A B: Prop, A \\\\/ B -> B \\\\/ A ) .</font>\n",
    "\n",
    "### ヒント\n",
    "-  intros で\"A \\/ B\" を仮定に移し、A_or_B というラベルをつける。\n",
    "-  A\\/B をdestructすると、Aが仮定に残り、サブゴールが二つに分割される。\n",
    "-  一つ目のサブゴールから、right でB\\/A の右の項Aをサブゴールに残す。 \n",
    "-  サブゴールと仮定が一致している。 サブゴールは一つになる。\n",
    "-  一つ目のサブゴールから、left でB\\/A の左の項Bをサブゴールに残す。 \n",
    "\n",
    "###  [解答を見る](./Logic-Ex-Answer.ipynb#ex) "
   ]
  },
  {
   "cell_type": "code",
   "execution_count": null,
   "metadata": {
    "coq_kernel_metadata": {
     "auto_roll_back": true
    }
   },
   "outputs": [],
   "source": [
    "Theorem or_comm : (forall A B: Prop, A \\/ B -> B \\/ A ) ."
   ]
  },
  {
   "cell_type": "code",
   "execution_count": null,
   "metadata": {
    "coq_kernel_metadata": {
     "auto_roll_back": true
    }
   },
   "outputs": [],
   "source": []
  },
  {
   "cell_type": "code",
   "execution_count": null,
   "metadata": {
    "coq_kernel_metadata": {
     "auto_roll_back": true
    }
   },
   "outputs": [],
   "source": []
  },
  {
   "cell_type": "code",
   "execution_count": null,
   "metadata": {
    "coq_kernel_metadata": {
     "auto_roll_back": true
    }
   },
   "outputs": [],
   "source": []
  },
  {
   "cell_type": "code",
   "execution_count": null,
   "metadata": {
    "coq_kernel_metadata": {
     "auto_roll_back": true
    }
   },
   "outputs": [],
   "source": []
  },
  {
   "cell_type": "code",
   "execution_count": null,
   "metadata": {
    "coq_kernel_metadata": {
     "auto_roll_back": true
    }
   },
   "outputs": [],
   "source": []
  },
  {
   "cell_type": "code",
   "execution_count": null,
   "metadata": {
    "coq_kernel_metadata": {
     "auto_roll_back": true
    }
   },
   "outputs": [],
   "source": []
  },
  {
   "cell_type": "code",
   "execution_count": null,
   "metadata": {
    "coq_kernel_metadata": {
     "auto_roll_back": true
    }
   },
   "outputs": [],
   "source": []
  },
  {
   "cell_type": "code",
   "execution_count": null,
   "metadata": {
    "coq_kernel_metadata": {
     "auto_roll_back": true
    }
   },
   "outputs": [],
   "source": [
    "Admitted. (* 最後にここを Qed. に変える。*)"
   ]
  }
 ],
 "metadata": {
  "kernelspec": {
   "display_name": "Coq",
   "language": "coq",
   "name": "coq"
  },
  "language_info": {
   "file_extension": ".v",
   "mimetype": "text/x-coq",
   "name": "coq",
   "version": "8.9.1"
  }
 },
 "nbformat": 4,
 "nbformat_minor": 2
}
