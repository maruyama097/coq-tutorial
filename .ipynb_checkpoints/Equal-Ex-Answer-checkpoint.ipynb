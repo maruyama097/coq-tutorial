{
 "cells": [
  {
   "cell_type": "markdown",
   "metadata": {
    "coq_kernel_metadata": {
     "auto_roll_back": true
    }
   },
   "source": [
    "# 演習問題 2 解答\n",
    "\n",
    "[演習問題 2-1](./Equal-Ex-Answer.ipynb#ex21) [演習問題 2-2](./Equal-Ex-Answer.ipynb#ex22) [演習問題 2-3](./Equal-Ex-Answer.ipynb#ex23) [演習問題 2-4](./Equal-Ex-Answer.ipynb#ex24) [演習問題 2-5](./Equal-Ex-Answer.ipynb#ex25) [演習問題 2-6](./Equal-Ex-Answer.ipynb#ex26) [演習問題 2-7](./Equal-Ex-Answer.ipynb#ex27) "
   ]
  },
  {
   "cell_type": "markdown",
   "metadata": {
    "coq_kernel_metadata": {
     "auto_roll_back": true
    }
   },
   "source": [
    "<a id=\"ex21\"></a>\n",
    "## 演習問題 2-1\n",
    "　<font size=\"4\">次の定理を証明せよ。</font>\n",
    " <font color=\"blue\"　size=\"4\"><br>　Theorem plus_O_n : (forall n : nat , 0+n = n ).</font>\n",
    "\n",
    "[作業用ページで証明をして見る](./Equal-Ex-Work.ipynb#ex21)　/ [演習問題に戻る](./Equal-Ex.ipynb#ex21 ) \n",
    "\n",
    "## 解答\n",
    "```\n",
    "Theorem  plus_O_n : (forall n : nat , 0+n = n ).\n",
    "Proof.\n",
    "  intro n.\n",
    "  simpl.\n",
    "  reflexivity.\n",
    "Qed.  \n",
    "```\n",
    "\n",
    "### 下のCellを実行して確かめよ。"
   ]
  },
  {
   "cell_type": "code",
   "execution_count": null,
   "metadata": {
    "coq_kernel_metadata": {
     "auto_roll_back": true
    }
   },
   "outputs": [],
   "source": [
    "Theorem  plus_O_n : (forall n : nat , 0+n = n ).\n",
    "Proof.\n",
    "  intro n.\n",
    "  simpl.\n",
    "  reflexivity.\n",
    "Qed.  "
   ]
  },
  {
   "cell_type": "markdown",
   "metadata": {
    "coq_kernel_metadata": {
     "auto_roll_back": true
    }
   },
   "source": [
    "### 次のCell を一つづつ実行して、各tacticsの働きを確認せよ。"
   ]
  },
  {
   "cell_type": "code",
   "execution_count": null,
   "metadata": {
    "coq_kernel_metadata": {
     "auto_roll_back": true
    }
   },
   "outputs": [],
   "source": [
    "Theorem  plus_O_n' : (forall n : nat , 0+n = n ).\n",
    "Proof."
   ]
  },
  {
   "cell_type": "code",
   "execution_count": null,
   "metadata": {
    "coq_kernel_metadata": {
     "auto_roll_back": true
    }
   },
   "outputs": [],
   "source": [
    "  intro n."
   ]
  },
  {
   "cell_type": "code",
   "execution_count": null,
   "metadata": {
    "coq_kernel_metadata": {
     "auto_roll_back": true
    }
   },
   "outputs": [],
   "source": [
    "  simpl."
   ]
  },
  {
   "cell_type": "code",
   "execution_count": null,
   "metadata": {
    "coq_kernel_metadata": {
     "auto_roll_back": true
    }
   },
   "outputs": [],
   "source": [
    "  reflexivity."
   ]
  },
  {
   "cell_type": "code",
   "execution_count": null,
   "metadata": {
    "coq_kernel_metadata": {
     "auto_roll_back": true
    }
   },
   "outputs": [],
   "source": [
    "Qed.  "
   ]
  },
  {
   "cell_type": "markdown",
   "metadata": {
    "coq_kernel_metadata": {
     "auto_roll_back": true
    }
   },
   "source": [
    "<a id=\"ex22\"></a>\n",
    "## 演習問題 2-2\n",
    "　<font size=\"4\">次の定理を証明せよ。</font>\n",
    " <font color=\"blue\"　size=\"4\"><br> Theorem plus_1_n : (forall n : nat , 1+n = S n ).</font>\n",
    "\n",
    "[作業用ページで証明をして見る](./Equal-Ex-Work.ipynb#ex22)　/ [演習問題に戻る](./Equal-Ex.ipynb#ex22 ) \n",
    "\n",
    "## 解答\n",
    "```\n",
    "Theorem  plus_1_n : (forall n : nat , 1+n = S n ).\n",
    "Proof.\n",
    "  intros n.\n",
    "  simpl.\n",
    "  reflexivity.\n",
    "Qed.\n",
    "```\n",
    "\n",
    "### 下のCellを実行して確かめよ。"
   ]
  },
  {
   "cell_type": "code",
   "execution_count": null,
   "metadata": {
    "coq_kernel_metadata": {
     "auto_roll_back": true
    }
   },
   "outputs": [],
   "source": [
    "Theorem  plus_1_n : (forall n : nat , 1+n = S n ).\n",
    "Proof.\n",
    "  intros n.\n",
    "  simpl.\n",
    "  reflexivity.\n",
    "Qed."
   ]
  },
  {
   "cell_type": "markdown",
   "metadata": {
    "coq_kernel_metadata": {
     "auto_roll_back": true
    }
   },
   "source": [
    "### 次のCell を一つづつ実行して、各tacticsの働きを確認せよ。"
   ]
  },
  {
   "cell_type": "code",
   "execution_count": null,
   "metadata": {
    "coq_kernel_metadata": {
     "auto_roll_back": true
    }
   },
   "outputs": [],
   "source": [
    "Theorem  plus_1_n' : (forall n : nat , 1+n = S n ).\n",
    "Proof."
   ]
  },
  {
   "cell_type": "code",
   "execution_count": null,
   "metadata": {
    "coq_kernel_metadata": {
     "auto_roll_back": true
    }
   },
   "outputs": [],
   "source": [
    "  intros n."
   ]
  },
  {
   "cell_type": "code",
   "execution_count": null,
   "metadata": {
    "coq_kernel_metadata": {
     "auto_roll_back": true
    }
   },
   "outputs": [],
   "source": [
    "  simpl."
   ]
  },
  {
   "cell_type": "code",
   "execution_count": null,
   "metadata": {
    "coq_kernel_metadata": {
     "auto_roll_back": true
    }
   },
   "outputs": [],
   "source": [
    "  reflexivity."
   ]
  },
  {
   "cell_type": "code",
   "execution_count": null,
   "metadata": {
    "coq_kernel_metadata": {
     "auto_roll_back": true
    }
   },
   "outputs": [],
   "source": [
    "Qed."
   ]
  },
  {
   "cell_type": "markdown",
   "metadata": {
    "coq_kernel_metadata": {
     "auto_roll_back": true
    }
   },
   "source": [
    "<a id=\"ex23\"></a>\n",
    "## 演習問題 2-3\n",
    "　<font size=\"4\">次の定理を証明せよ。</font>\n",
    " <font color=\"blue\"　size=\"4\"><br> Theorem mult_0_n : (forall n : nat , 0 * n =  0 ).</font>\n",
    "\n",
    "[作業用ページで証明をして見る](./Equal-Ex-Work.ipynb#ex23)　/ [演習問題に戻る](./Equal-Ex.ipynb#ex23 ) \n",
    "\n",
    "## 解答\n",
    "```\n",
    "Theorem  mult_0_n : (forall n : nat , 0 * n =  0 ).\n",
    "Proof.\n",
    "  intros n.\n",
    "  simpl.\n",
    "  reflexivity.\n",
    "Qed.\n",
    "```\n",
    "\n",
    "### 下のCellを実行して確かめよ。"
   ]
  },
  {
   "cell_type": "code",
   "execution_count": null,
   "metadata": {
    "coq_kernel_metadata": {
     "auto_roll_back": true
    }
   },
   "outputs": [],
   "source": [
    "Theorem  mult_0_n : (forall n : nat , 0 * n =  0 ).\n",
    "Proof.\n",
    "  intros n.\n",
    "  simpl.\n",
    "  reflexivity.\n",
    "Qed."
   ]
  },
  {
   "cell_type": "markdown",
   "metadata": {
    "coq_kernel_metadata": {
     "auto_roll_back": true
    }
   },
   "source": [
    "### 次のCell を一つづつ実行して、各tacticsの働きを確認せよ。"
   ]
  },
  {
   "cell_type": "code",
   "execution_count": null,
   "metadata": {
    "coq_kernel_metadata": {
     "auto_roll_back": true
    }
   },
   "outputs": [],
   "source": [
    "Theorem  mult_0_n' : (forall n : nat , 0 * n =  0 ).\n",
    "Proof."
   ]
  },
  {
   "cell_type": "code",
   "execution_count": null,
   "metadata": {
    "coq_kernel_metadata": {
     "auto_roll_back": true
    }
   },
   "outputs": [],
   "source": [
    "  intros n."
   ]
  },
  {
   "cell_type": "code",
   "execution_count": null,
   "metadata": {
    "coq_kernel_metadata": {
     "auto_roll_back": true
    }
   },
   "outputs": [],
   "source": [
    "  simpl."
   ]
  },
  {
   "cell_type": "code",
   "execution_count": null,
   "metadata": {
    "coq_kernel_metadata": {
     "auto_roll_back": true
    }
   },
   "outputs": [],
   "source": [
    "  reflexivity."
   ]
  },
  {
   "cell_type": "code",
   "execution_count": null,
   "metadata": {
    "coq_kernel_metadata": {
     "auto_roll_back": true
    }
   },
   "outputs": [],
   "source": [
    "Qed."
   ]
  },
  {
   "cell_type": "markdown",
   "metadata": {
    "coq_kernel_metadata": {
     "auto_roll_back": true
    }
   },
   "source": [
    "<a id=\"ex24\"></a>\n",
    "## 演習問題 2-4\n",
    "　<font size=\"4\">次の定理を証明せよ。</font>\n",
    " <font color=\"blue\"　size=\"4\"><br> Theorem plus_id_nm : (forall n m : nat , n = m -> n+n = m + m ).</font>\n",
    "\n",
    "[作業用ページで証明をして見る](./Equal-Ex-Work.ipynb#ex21)　/ [演習問題に戻る](./Equal-Ex.ipynb#ex21 ) \n",
    "\n",
    "## 解答\n",
    "```\n",
    "Theorem  plus_id_nm : (forall n m : nat , n = m -> n+n = m + m ).\n",
    "Proof.\n",
    "  intros n m.\n",
    "  intros H.\n",
    "  rewrite -> H.\n",
    "  reflexivity.\n",
    "Qed.\n",
    "```\n",
    "\n",
    "### 下のCellを実行して確かめよ。"
   ]
  },
  {
   "cell_type": "code",
   "execution_count": null,
   "metadata": {
    "coq_kernel_metadata": {
     "auto_roll_back": true
    }
   },
   "outputs": [],
   "source": [
    "Theorem  plus_id_nm : (forall n m : nat , n = m -> n+n = m + m ).\n",
    "Proof.\n",
    "  intros n m.\n",
    "  intros H.\n",
    "  rewrite -> H.\n",
    "  reflexivity.\n",
    "Qed."
   ]
  },
  {
   "cell_type": "markdown",
   "metadata": {
    "coq_kernel_metadata": {
     "auto_roll_back": true
    }
   },
   "source": [
    "### 次のCell を一つづつ実行して、各tacticsの働きを確認せよ。"
   ]
  },
  {
   "cell_type": "code",
   "execution_count": null,
   "metadata": {
    "coq_kernel_metadata": {
     "auto_roll_back": true
    }
   },
   "outputs": [],
   "source": [
    "Theorem  plus_id_nm' : (forall n m : nat , n = m -> n+n = m + m ).\n",
    "Proof."
   ]
  },
  {
   "cell_type": "code",
   "execution_count": null,
   "metadata": {
    "coq_kernel_metadata": {
     "auto_roll_back": true
    }
   },
   "outputs": [],
   "source": [
    "  intros n m."
   ]
  },
  {
   "cell_type": "code",
   "execution_count": null,
   "metadata": {
    "coq_kernel_metadata": {
     "auto_roll_back": true
    }
   },
   "outputs": [],
   "source": [
    "  intros H."
   ]
  },
  {
   "cell_type": "code",
   "execution_count": null,
   "metadata": {
    "coq_kernel_metadata": {
     "auto_roll_back": true
    }
   },
   "outputs": [],
   "source": [
    "  rewrite -> H."
   ]
  },
  {
   "cell_type": "code",
   "execution_count": null,
   "metadata": {
    "coq_kernel_metadata": {
     "auto_roll_back": true
    }
   },
   "outputs": [],
   "source": [
    "  reflexivity."
   ]
  },
  {
   "cell_type": "code",
   "execution_count": null,
   "metadata": {
    "coq_kernel_metadata": {
     "auto_roll_back": true
    }
   },
   "outputs": [],
   "source": [
    "Qed."
   ]
  },
  {
   "cell_type": "markdown",
   "metadata": {
    "coq_kernel_metadata": {
     "auto_roll_back": true
    }
   },
   "source": [
    "<a id=\"ex25\"></a>\n",
    "## 演習問題 2-5\n",
    "　<font size=\"4\">次の定理を証明せよ。</font>\n",
    "  <font color=\"blue\"　size=\"4\"><br> Theorem plus_id : (forall n m o : nat , n = m -> m = o -> n + m = m + o ).</font>\n",
    "\n",
    "[作業用ページで証明をして見る](./Equal-Ex-Work.ipynb#ex25)　/ [演習問題に戻る](./Equal-Ex.ipynb#ex25 ) \n",
    "\n",
    "## 解答\n",
    "```\n",
    "Theorem  plus_id : (forall n m o : nat , n = m -> m = o -> n + m = m + o ).\n",
    "Proof.\n",
    "  intros n m o.\n",
    "  intros n_eq_m m_eq_o.\n",
    "  rewrite -> n_eq_m.\n",
    "  rewrite <- m_eq_o.\n",
    "  reflexivity.\n",
    "Qed.\n",
    "```\n",
    "\n",
    "### 下のCellを実行して確かめよ。"
   ]
  },
  {
   "cell_type": "code",
   "execution_count": null,
   "metadata": {
    "coq_kernel_metadata": {
     "auto_roll_back": true
    }
   },
   "outputs": [],
   "source": [
    "Theorem  plus_id : (forall n m o : nat , n = m -> m = o -> n + m = m + o ).\n",
    "Proof.\n",
    "  intros n m o.\n",
    "  intros n_eq_m m_eq_o.\n",
    "  rewrite -> n_eq_m.\n",
    "  rewrite <- m_eq_o.\n",
    "  reflexivity.\n",
    "Qed."
   ]
  },
  {
   "cell_type": "markdown",
   "metadata": {
    "coq_kernel_metadata": {
     "auto_roll_back": true
    }
   },
   "source": [
    "### 次のCell を一つづつ実行して、各tacticsの働きを確認せよ。"
   ]
  },
  {
   "cell_type": "code",
   "execution_count": null,
   "metadata": {
    "coq_kernel_metadata": {
     "auto_roll_back": true
    }
   },
   "outputs": [],
   "source": [
    "Theorem  plus_id' : (forall n m o : nat , n = m -> m = o -> n + m = m + o ).\n",
    "Proof."
   ]
  },
  {
   "cell_type": "code",
   "execution_count": null,
   "metadata": {
    "coq_kernel_metadata": {
     "auto_roll_back": true
    }
   },
   "outputs": [],
   "source": [
    "  intros n m o."
   ]
  },
  {
   "cell_type": "code",
   "execution_count": null,
   "metadata": {
    "coq_kernel_metadata": {
     "auto_roll_back": true
    }
   },
   "outputs": [],
   "source": [
    "  intros n_eq_m m_eq_o."
   ]
  },
  {
   "cell_type": "code",
   "execution_count": null,
   "metadata": {
    "coq_kernel_metadata": {
     "auto_roll_back": true
    }
   },
   "outputs": [],
   "source": [
    "  rewrite -> n_eq_m."
   ]
  },
  {
   "cell_type": "code",
   "execution_count": null,
   "metadata": {
    "coq_kernel_metadata": {
     "auto_roll_back": true
    }
   },
   "outputs": [],
   "source": [
    "  rewrite <- m_eq_o."
   ]
  },
  {
   "cell_type": "code",
   "execution_count": null,
   "metadata": {
    "coq_kernel_metadata": {
     "auto_roll_back": true
    }
   },
   "outputs": [],
   "source": [
    "  reflexivity."
   ]
  },
  {
   "cell_type": "code",
   "execution_count": null,
   "metadata": {
    "coq_kernel_metadata": {
     "auto_roll_back": true
    }
   },
   "outputs": [],
   "source": [
    "Qed."
   ]
  },
  {
   "cell_type": "markdown",
   "metadata": {
    "coq_kernel_metadata": {
     "auto_roll_back": true
    }
   },
   "source": [
    "<a id=\"ex26\"></a>\n",
    "## 演習問題 2-6\n",
    "　<font size=\"4\">次の定理を証明せよ。</font>\n",
    " <font color=\"blue\"　size=\"4\"><br> Theorem mult_0_plus : (forall n m : nat , ( 0 + n ) \\* m =  n \\* m ).</font>\n",
    "\n",
    "[作業用ページで証明をして見る](./Equal-Ex-Work.ipynb#ex26)　/ [演習問題に戻る](./Equal-Ex.ipynb#ex26 ) \n",
    "\n",
    "## 解答\n",
    "```\n",
    "Theorem  mult_0_plus : (forall n m : nat , ( 0 + n ) * m =  n * m ).\n",
    "Proof.\n",
    "  intros.\n",
    "  simpl.\n",
    "  reflexivity.\n",
    "Qed.\n",
    "```\n",
    "\n",
    "### 下のCellを実行して確かめよ。"
   ]
  },
  {
   "cell_type": "code",
   "execution_count": null,
   "metadata": {
    "coq_kernel_metadata": {
     "auto_roll_back": true
    }
   },
   "outputs": [],
   "source": [
    "Theorem  mult_0_plus : (forall n m : nat , ( 0 + n ) * m =  n * m ).\n",
    "Proof.\n",
    "  intros.\n",
    "  simpl.\n",
    "  reflexivity.\n",
    "Qed."
   ]
  },
  {
   "cell_type": "markdown",
   "metadata": {
    "coq_kernel_metadata": {
     "auto_roll_back": true
    }
   },
   "source": [
    "### 次のCell を一つづつ実行して、各tacticsの働きを確認せよ。"
   ]
  },
  {
   "cell_type": "code",
   "execution_count": null,
   "metadata": {
    "coq_kernel_metadata": {
     "auto_roll_back": true
    }
   },
   "outputs": [],
   "source": [
    "Theorem  mult_0_plus' : (forall n m : nat , ( 0 + n ) * m =  n * m ).\n",
    "Proof."
   ]
  },
  {
   "cell_type": "code",
   "execution_count": null,
   "metadata": {
    "coq_kernel_metadata": {
     "auto_roll_back": true
    }
   },
   "outputs": [],
   "source": [
    "  intros."
   ]
  },
  {
   "cell_type": "code",
   "execution_count": null,
   "metadata": {
    "coq_kernel_metadata": {
     "auto_roll_back": true
    }
   },
   "outputs": [],
   "source": [
    "  simpl."
   ]
  },
  {
   "cell_type": "code",
   "execution_count": null,
   "metadata": {
    "coq_kernel_metadata": {
     "auto_roll_back": true
    }
   },
   "outputs": [],
   "source": [
    "  reflexivity."
   ]
  },
  {
   "cell_type": "code",
   "execution_count": null,
   "metadata": {
    "coq_kernel_metadata": {
     "auto_roll_back": true
    }
   },
   "outputs": [],
   "source": [
    "Qed."
   ]
  },
  {
   "cell_type": "markdown",
   "metadata": {
    "coq_kernel_metadata": {
     "auto_roll_back": true
    }
   },
   "source": [
    "<a id=\"ex27\"></a>\n",
    "## 演習問題 2-7\n",
    "　<font size=\"4\">次の定理を証明せよ。</font>\n",
    " <font color=\"blue\"　size=\"4\"><br> Theorem mult_S_1 : (forall n m : nat, m = S n -> m \\* (1 + n) = m \\* m).</font>\n",
    "\n",
    "[作業用ページで証明をして見る](./Equal-Ex-Work.ipynb#ex27)　/ [演習問題に戻る](./Equal-Ex.ipynb#ex27 ) \n",
    "\n",
    "## 解答\n",
    "```\n",
    "Theorem  mult_S_1 : (forall n m : nat, m = S n -> m * (1 + n) = m * m).\n",
    "Proof.\n",
    "  intros n m m_eq_Sn.\n",
    "  simpl.\n",
    "  rewrite -> m_eq_Sn.\n",
    "  reflexivity.\n",
    "Qed.\n",
    "```\n",
    "\n",
    "### 下のCellを実行して確かめよ。"
   ]
  },
  {
   "cell_type": "code",
   "execution_count": null,
   "metadata": {
    "coq_kernel_metadata": {
     "auto_roll_back": true
    }
   },
   "outputs": [],
   "source": [
    "Theorem  mult_S_1 : (forall n m : nat, m = S n -> m * (1 + n) = m * m).\n",
    "Proof.\n",
    "  intros n m m_eq_Sn.\n",
    "  simpl.\n",
    "  rewrite -> m_eq_Sn.\n",
    "  reflexivity.\n",
    "Qed."
   ]
  },
  {
   "cell_type": "markdown",
   "metadata": {
    "coq_kernel_metadata": {
     "auto_roll_back": true
    }
   },
   "source": [
    "### 次のCell を一つづつ実行して、各tacticsの働きを確認せよ。"
   ]
  },
  {
   "cell_type": "code",
   "execution_count": null,
   "metadata": {
    "coq_kernel_metadata": {
     "auto_roll_back": true
    }
   },
   "outputs": [],
   "source": [
    "Theorem  mult_S_1' : (forall n m : nat, m = S n -> m * (1 + n) = m * m).\n",
    "Proof."
   ]
  },
  {
   "cell_type": "code",
   "execution_count": null,
   "metadata": {
    "coq_kernel_metadata": {
     "auto_roll_back": true
    }
   },
   "outputs": [],
   "source": [
    "  intros n m m_eq_Sn."
   ]
  },
  {
   "cell_type": "code",
   "execution_count": null,
   "metadata": {
    "coq_kernel_metadata": {
     "auto_roll_back": true
    }
   },
   "outputs": [],
   "source": [
    "  simpl."
   ]
  },
  {
   "cell_type": "code",
   "execution_count": null,
   "metadata": {
    "coq_kernel_metadata": {
     "auto_roll_back": true
    }
   },
   "outputs": [],
   "source": [
    "  rewrite -> m_eq_Sn.\n",
    " "
   ]
  },
  {
   "cell_type": "code",
   "execution_count": null,
   "metadata": {
    "coq_kernel_metadata": {
     "auto_roll_back": true
    }
   },
   "outputs": [],
   "source": [
    " reflexivity."
   ]
  },
  {
   "cell_type": "code",
   "execution_count": null,
   "metadata": {
    "coq_kernel_metadata": {
     "auto_roll_back": true
    }
   },
   "outputs": [],
   "source": [
    "Qed"
   ]
  }
 ],
 "metadata": {
  "kernelspec": {
   "display_name": "Coq",
   "language": "coq",
   "name": "coq"
  },
  "language_info": {
   "file_extension": ".v",
   "mimetype": "text/x-coq",
   "name": "coq",
   "version": "8.9.1"
  }
 },
 "nbformat": 4,
 "nbformat_minor": 2
}
