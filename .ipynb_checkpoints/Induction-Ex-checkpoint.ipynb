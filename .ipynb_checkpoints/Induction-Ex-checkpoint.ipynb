{
 "cells": [
  {
   "cell_type": "markdown",
   "metadata": {
    "coq_kernel_metadata": {
     "auto_roll_back": true
    }
   },
   "source": [
    "# 演習問題 3\n",
    "\n",
    "[演習問題 3-1](./Induction-Ex.ipynb#ex11) [演習問題 3-2](./Induction-Ex.ipynb#ex12) [演習問題 3-3](./Induction-Ex.ipynb#ex13) [演習問題 3-4](./Induction-Ex.ipynb#ex14) [演習問題 3-5](./Induction-Ex.ipynb#ex15) [演習問題 3-6](./Induction-Ex.ipynb#ex16) [演習問題 3-7](./Induction-Ex.ipynb#ex17) [演習問題 3-8](./Induction-Ex.ipynb#ex18) "
   ]
  },
  {
   "cell_type": "markdown",
   "metadata": {
    "coq_kernel_metadata": {
     "auto_roll_back": true
    }
   },
   "source": [
    "<a id=\"ex31\"></a>\n",
    "## 演習問題 3-1\n",
    "　<font size=\"4\">次の定理を証明せよ。</font>\n",
    " <font color=\"blue\"　size=\"4\"><br>　Theorem plus_n_O : (forall n : nat, n + 0 = n).</font>\n",
    "\n",
    "[作業用ページで証明をしてみる](./Induction-Ex-Work.ipynb#ex31)\n",
    "\n",
    "### ヒント\n",
    "-  intros で　forall の削除 \n",
    "-  tactic induction n を使って、nについての帰納法を利用する。\n",
    "- サブゴールは、n=0の場合とそうでない場合の、二つに分かれる。\n",
    "- 一つ目のサブゴールについて。simplで簡単な形にする。\n",
    "- 一つ目のサブゴールについて。reflexivityを使う。\n",
    "- 一つ目のゴールは消える。\n",
    "- IHn の左項を使って、サブゴールを rewrite で書き換える。\n",
    "- 左項と右項が等しいので、reflexivityを使う。\n",
    "\n",
    "###  [解答を見る](./Induction-Ex-Answer.ipynb#ex31) "
   ]
  },
  {
   "cell_type": "markdown",
   "metadata": {
    "coq_kernel_metadata": {
     "auto_roll_back": true
    }
   },
   "source": [
    "<a id=\"ex32\"></a>\n",
    "## 演習問題 3-2\n",
    "　<font size=\"4\">次の定理を証明せよ。</font>\n",
    " <font color=\"blue\"　size=\"4\"><br>　Theorem minus_diag : (forall n : nat, minus n n = 0).</font>\n",
    "\n",
    "[作業用ページで証明をしてみる](./Induction-Ex-Work.ipynb#ex32)\n",
    "\n",
    "### ヒント\n",
    "- ntros でforall を消す。\n",
    "- induction n で、nについての minus の帰納法の定義を使う。\n",
    "- 最初のサブゴールを simpl で簡単な形にする。\n",
    "- reflexivityで、最初のサブゴールは消える。\n",
    "- simpl で残りのサブゴールを簡単な形にする。\n",
    "- 仮定の一つが、サブゴールと一致している。\n",
    "\n",
    "###  [解答を見る](./Induction-Ex-Answer.ipynb#ex32) "
   ]
  },
  {
   "cell_type": "markdown",
   "metadata": {
    "coq_kernel_metadata": {
     "auto_roll_back": true
    }
   },
   "source": [
    "<a id=\"ex33\"></a>\n",
    "## 演習問題 3-3\n",
    "　<font size=\"4\">次の定理を証明せよ。</font>\n",
    " <font color=\"blue\"　size=\"4\"><br>　Theorem mult_0_r : (forall n : nat,  n * 0 = 0).</font>\n",
    "\n",
    "[作業用ページで証明をしてみる](./Induction-Ex-Work.ipynb#ex33)\n",
    "\n",
    "### ヒント\n",
    "\n",
    "\n",
    "###  [解答を見る](./Induction-Ex-Answer.ipynb#ex33) "
   ]
  },
  {
   "cell_type": "markdown",
   "metadata": {
    "coq_kernel_metadata": {
     "auto_roll_back": true
    }
   },
   "source": [
    "<a id=\"ex34\"></a>\n",
    "## 演習問題 3-4\n",
    "　<font size=\"4\">次の定理を証明せよ。</font>\n",
    " <font color=\"blue\"　size=\"4\"><br>　Theorem plus_n_Sm : (forall n m : nat, S (n + m) = n + (S m) ).</font>\n",
    "\n",
    "[作業用ページで証明をしてみる](./Induction-Ex-Work.ipynb#ex34)\n",
    "\n",
    "### ヒント\n",
    "\n",
    "\n",
    "###  [解答を見る](./Induction-Ex-Answer.ipynb#ex34) "
   ]
  },
  {
   "cell_type": "markdown",
   "metadata": {
    "coq_kernel_metadata": {
     "auto_roll_back": true
    }
   },
   "source": [
    "<a id=\"ex35\"></a>\n",
    "## 演習問題 3-5\n",
    "　<font size=\"4\">次の定理を証明せよ。</font>\n",
    " <font color=\"blue\"　size=\"4\"><br>　Theorem plus_comm : (forall n m : nat, n + m = m + n ).</font>\n",
    "\n",
    "[作業用ページで証明をしてみる](./Induction-Ex-Work.ipynb#ex35)\n",
    "\n",
    "### ヒント\n",
    "\n",
    "\n",
    "###  [解答を見る](./Induction-Ex-Answer.ipynb#ex35) "
   ]
  },
  {
   "cell_type": "markdown",
   "metadata": {
    "coq_kernel_metadata": {
     "auto_roll_back": true
    }
   },
   "source": [
    "<a id=\"ex36\"></a>\n",
    "## 演習問題 3-6\n",
    "　<font size=\"4\">次の定理を証明せよ。</font>\n",
    " <font color=\"blue\"　size=\"4\"><br>　Theorem plus_assoc : (forall n m o : nat, n + (m +o)  = (n + m) + o ).</font>\n",
    "\n",
    "[作業用ページで証明をしてみる](./Induction-Ex-Work.ipynb#ex36)\n",
    "\n",
    "### ヒント\n",
    "\n",
    "\n",
    "###  [解答を見る](./Induction-Ex-Answer.ipynb#ex36) "
   ]
  },
  {
   "cell_type": "markdown",
   "metadata": {
    "coq_kernel_metadata": {
     "auto_roll_back": true
    }
   },
   "source": [
    "<a id=\"ex37\"></a>\n",
    "## 演習問題 3-7\n",
    "　<font size=\"4\">次の定理を証明せよ。</font>\n",
    " <font color=\"blue\"　size=\"4\"><br>　Theorem mul_succ_r : forall n m : nat,  n \\* S m = n \\* m + n  ).</font>\n",
    "\n",
    "[作業用ページで証明をしてみる](./Induction-Ex-Work.ipynb#ex37)\n",
    "\n",
    "### ヒント\n",
    "\n",
    "\n",
    "###  [解答を見る](./Induction-Ex-Answer.ipynb#ex37) "
   ]
  },
  {
   "cell_type": "markdown",
   "metadata": {
    "coq_kernel_metadata": {
     "auto_roll_back": true
    }
   },
   "source": [
    "<a id=\"ex38\"></a>\n",
    "## 演習問題 3-8\n",
    "　<font size=\"4\">次の定理を証明せよ。</font>\n",
    " <font color=\"blue\"　size=\"4\"><br>　Theorem mult_comm : (forall n m : nat,  n \\* m = m \\* n ).</font>\n",
    "\n",
    "[作業用ページで証明をしてみる](./Induction-Ex-Work.ipynb#ex38)\n",
    "\n",
    "### ヒント\n",
    "\n",
    "\n",
    "###  [解答を見る](./Induction-Ex-Answer.ipynb#ex38) "
   ]
  }
 ],
 "metadata": {
  "kernelspec": {
   "display_name": "Coq",
   "language": "coq",
   "name": "coq"
  },
  "language_info": {
   "file_extension": ".v",
   "mimetype": "text/x-coq",
   "name": "coq",
   "version": "8.9.1"
  }
 },
 "nbformat": 4,
 "nbformat_minor": 2
}
