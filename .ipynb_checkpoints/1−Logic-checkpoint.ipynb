{
 "cells": [
  {
   "cell_type": "markdown",
   "metadata": {
    "coq_kernel_metadata": {
     "auto_roll_back": true
    }
   },
   "source": [
    "# 論理式の証明"
   ]
  },
  {
   "cell_type": "code",
   "execution_count": null,
   "metadata": {
    "collapsed": true,
    "coq_kernel_metadata": {
     "auto_roll_back": true
    }
   },
   "outputs": [],
   "source": []
  },
  {
   "cell_type": "markdown",
   "metadata": {
    "coq_kernel_metadata": {
     "auto_roll_back": true
    }
   },
   "source": [
    "## 演習問題\n",
    "<a id=\"ex1-1\" ></a>\n",
    "#### 演習問題 1-1 \n",
    "次の定理を証明せよ。\n",
    " <font color=\"blue\"　size=\"4\" >Theorem my_first_proof : (forall A : Prop, A -> A).</font>\n",
    "<br>\n",
    "[作業用ページで証明をして見る](./samples/work/ex01.ipynb)　/ [ヒントを見る](./samples/hints/ex01.ipynb ) / [解答を見る](./samples/answers/ex01.ipynb)  "
   ]
  },
  {
   "cell_type": "code",
   "execution_count": null,
   "metadata": {
    "collapsed": true,
    "coq_kernel_metadata": {
     "auto_roll_back": true
    }
   },
   "outputs": [],
   "source": []
  }
 ],
 "metadata": {
  "kernelspec": {
   "display_name": "Coq",
   "language": "coq",
   "name": "coq"
  },
  "language_info": {
   "file_extension": ".v",
   "mimetype": "text/x-coq",
   "name": "coq",
   "version": "8.9.1"
  }
 },
 "nbformat": 4,
 "nbformat_minor": 2
}
