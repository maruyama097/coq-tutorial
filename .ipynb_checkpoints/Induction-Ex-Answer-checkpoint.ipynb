{
 "cells": [
  {
   "cell_type": "markdown",
   "metadata": {
    "coq_kernel_metadata": {
     "auto_roll_back": true
    }
   },
   "source": [
    "# 演習問題 3　解答\n",
    "\n",
    "[演習問題 3-1](./Induction-Ex-Answer.ipynb#ex11) [演習問題 3-2](./Induction-Ex-Answer.ipynb#ex12) [演習問題 3-3](./Induction-Ex-Answer.ipynb#ex13) [演習問題 3-4](./Induction-Ex-Answer.ipynb#ex14) [演習問題 3-5](./Induction-Ex-Answer.ipynb#ex15) [演習問題 3-6](./Induction-Ex-Answer.ipynb#ex16) [演習問題 3-7](./Induction-Ex-Answer.ipynb#ex17) [演習問題 3-8](./Induction-Ex-Answer.ipynb#ex18) "
   ]
  },
  {
   "cell_type": "markdown",
   "metadata": {
    "coq_kernel_metadata": {
     "auto_roll_back": true
    }
   },
   "source": [
    "<a id=\"ex31\"></a>\n",
    "## 演習問題 3-1\n",
    "　<font size=\"4\">次の定理を証明せよ。</font>\n",
    " <font color=\"blue\"　size=\"4\"><br>　Theorem plus_n_O : (forall n : nat, n + 0 = n).</font>\n",
    "\n",
    "## 解答\n",
    "### 下のCellを実行して確かめよ。\n",
    "\n",
    "<a id=\"hint31\"></a>"
   ]
  },
  {
   "cell_type": "code",
   "execution_count": null,
   "metadata": {
    "coq_kernel_metadata": {
     "auto_roll_back": true,
     "cell_id": "cf9eabc75ff0441193ff62f0d49fc68a",
     "execution_id": "65a727c1c9bb447c8461933089af17f2"
    }
   },
   "outputs": [],
   "source": [
    "Theorem  plus_n_O : (forall n : nat, n + 0 = n).\n",
    "Proof."
   ]
  },
  {
   "cell_type": "code",
   "execution_count": null,
   "metadata": {
    "coq_kernel_metadata": {
     "auto_roll_back": true,
     "cell_id": "c4c2a4dc4a904e32908501b1a857603b",
     "execution_id": "ef73f04786fe4e91be71bdaea3234693"
    }
   },
   "outputs": [],
   "source": [
    " (* forall の削除 *)\n",
    " intros ."
   ]
  },
  {
   "cell_type": "code",
   "execution_count": null,
   "metadata": {
    "coq_kernel_metadata": {
     "auto_roll_back": true,
     "cell_id": "3b9ce61eb482453086eb35fbd9773441",
     "execution_id": "31f7e6e7223c421f8e5e9fd987060d5d"
    }
   },
   "outputs": [],
   "source": [
    "(* nについての帰納法を使う *)\n",
    "induction n.\n",
    "\n",
    "(* n = 0 　の場合と、\n",
    "　　　　n = S n' の場合で、サブゴールが二つに分かれる。 *)"
   ]
  },
  {
   "cell_type": "code",
   "execution_count": null,
   "metadata": {
    "coq_kernel_metadata": {
     "auto_roll_back": true,
     "cell_id": "c917b376a7e34cbe9cba795215cca03f",
     "execution_id": "a5bf8d72f1ce4436988f42105f43d025"
    }
   },
   "outputs": [],
   "source": [
    "(* n = 0 の場合。\n",
    "サブゴールをsimpl で単純にする。*)\n",
    "simpl."
   ]
  },
  {
   "cell_type": "code",
   "execution_count": null,
   "metadata": {
    "coq_kernel_metadata": {
     "auto_roll_back": true,
     "cell_id": "a42b383f5ebd4f198510870a388d73f9",
     "execution_id": "a60baf690e5c42daadffad54254d3df9"
    }
   },
   "outputs": [],
   "source": [
    "(* n = 0 の場合。\n",
    "サブゴールにreflexivity が使える。*)\n",
    "reflexivity.\n",
    "\n",
    "(* n = 0 の場合、証明終わる。サブゴールは一つになる。*)."
   ]
  },
  {
   "cell_type": "code",
   "execution_count": null,
   "metadata": {
    "coq_kernel_metadata": {
     "auto_roll_back": true,
     "cell_id": "44ee356d322a4b4b9a454e78a8ba4d8e",
     "execution_id": "f8206bac2b50435f8c6441f6e3f136ce"
    }
   },
   "outputs": [],
   "source": [
    "(*  n = S n' の場合。\n",
    "サブゴールを、simpl で単純にする。*)\n",
    " simpl."
   ]
  },
  {
   "cell_type": "code",
   "execution_count": null,
   "metadata": {
    "coq_kernel_metadata": {
     "auto_roll_back": true,
     "cell_id": "d0681c1fef584723abe3f08a89150759",
     "execution_id": "55ca6a1bd9d94505914411449d6982d1"
    }
   },
   "outputs": [],
   "source": [
    "(*  n = S n' の場合。\n",
    "サブゴールを、IHnの左項で書き換える 。*)\n",
    "rewrite -> IHn."
   ]
  },
  {
   "cell_type": "code",
   "execution_count": null,
   "metadata": {
    "coq_kernel_metadata": {
     "auto_roll_back": true,
     "cell_id": "0febc4892ca747c596bc23001078db4d",
     "execution_id": "c12e93e62c274a62895eb9f2188969a0"
    }
   },
   "outputs": [],
   "source": [
    "(*  n = S n' の場合。\n",
    "サブゴールに reflexivity が使える。*)\n",
    "reflexivity.\n",
    "\n",
    "(*  n = S n' の場合、証明終わり。 *)"
   ]
  },
  {
   "cell_type": "code",
   "execution_count": null,
   "metadata": {
    "coq_kernel_metadata": {
     "auto_roll_back": true,
     "cell_id": "a7bf8a8780fd4e309a99cd602a0e37d1",
     "execution_id": "dbca8992f7584db89e3600626e2b68b7"
    }
   },
   "outputs": [],
   "source": [
    "Qed."
   ]
  },
  {
   "cell_type": "markdown",
   "metadata": {
    "coq_kernel_metadata": {
     "auto_roll_back": true
    }
   },
   "source": [
    "<a id=\"ex32\"></a>\n",
    "## 演習問題 3-2\n",
    "　<font size=\"4\">次の定理を証明せよ。</font>\n",
    " <font color=\"blue\"　size=\"4\"><br>　Theorem minus_diag : (forall n : nat, minus n n = 0).</font>\n",
    "\n",
    "## 解答\n",
    "### 下のCellを実行して確かめよ。\n",
    "\n",
    "<a id=\"hint32\"></a>"
   ]
  },
  {
   "cell_type": "code",
   "execution_count": null,
   "metadata": {
    "coq_kernel_metadata": {
     "auto_roll_back": true,
     "cell_id": "7f949a9ecbf2432d9a6494b52fe4cd8a",
     "execution_id": "f39de9b9cbbf4f4598170e2397172663"
    }
   },
   "outputs": [],
   "source": [
    "Theorem  minus_diag : (forall n : nat, minus n n = 0).\n",
    "Proof."
   ]
  },
  {
   "cell_type": "code",
   "execution_count": null,
   "metadata": {
    "coq_kernel_metadata": {
     "auto_roll_back": true,
     "cell_id": "edfb1dc364f14be7841012e88a8f506d",
     "execution_id": "6d9499471a47433eaf850dea37ed32d9"
    }
   },
   "outputs": [],
   "source": [
    "(* forall の削除*)\n",
    "intros."
   ]
  },
  {
   "cell_type": "code",
   "execution_count": null,
   "metadata": {
    "coq_kernel_metadata": {
     "auto_roll_back": true,
     "cell_id": "2df15f515bbb4d33ae309019128cde00",
     "execution_id": "15abd67f870f40f1877730c45530852c"
    }
   },
   "outputs": [],
   "source": [
    "(* nについての帰納法を使う *)\n",
    "induction n.\n",
    "\n",
    "(* n = 0 　の場合と、\n",
    "　　　　n = S n' の場合で、サブゴールが二つに分かれる。 *)"
   ]
  },
  {
   "cell_type": "code",
   "execution_count": null,
   "metadata": {
    "coq_kernel_metadata": {
     "auto_roll_back": true,
     "cell_id": "41047eff95f1458a8458820adf3be97d",
     "execution_id": "e052ff2bde5643db86170a75df6ea7d2"
    }
   },
   "outputs": [],
   "source": [
    "(* n = 0 の場合。\n",
    "サブゴールをsimpl で単純にする。*)\n",
    "simpl."
   ]
  },
  {
   "cell_type": "code",
   "execution_count": null,
   "metadata": {
    "coq_kernel_metadata": {
     "auto_roll_back": true,
     "cell_id": "8b3c9d1518624de6a8e380351f616211",
     "execution_id": "937dc8793bf647888fd4d299ba4969f4"
    }
   },
   "outputs": [],
   "source": [
    "(* n = 0 の場合。\n",
    "サブゴールにreflexivity が使える。*)\n",
    "reflexivity.\n",
    "\n",
    "(* n = 0 の場合、証明終わる。サブゴールは一つになる。*)"
   ]
  },
  {
   "cell_type": "code",
   "execution_count": null,
   "metadata": {
    "coq_kernel_metadata": {
     "auto_roll_back": true,
     "cell_id": "dc4b9e78da7941d9ac6121fdfc0117d3",
     "execution_id": "418c81165ef6450e97a90d3cbce4e902"
    }
   },
   "outputs": [],
   "source": [
    " (*  n = S n' の場合。simpl で単純にする。*)\n",
    " simpl."
   ]
  },
  {
   "cell_type": "code",
   "execution_count": null,
   "metadata": {
    "coq_kernel_metadata": {
     "auto_roll_back": true,
     "cell_id": "5b7ca5e1541746d29156a099ea9fb7a2",
     "execution_id": "8b810c721d0c451e8b91a0df48e5e955"
    }
   },
   "outputs": [],
   "source": [
    "(* 仮説の中に、サブゴールと同じものが含まれている。 *)\n",
    "assumption."
   ]
  },
  {
   "cell_type": "code",
   "execution_count": null,
   "metadata": {
    "coq_kernel_metadata": {
     "auto_roll_back": true,
     "cell_id": "5f1e6cb742e640b3a49b7a934fc60eea",
     "execution_id": "6cd386c9d983408ebf8c3511d53a4eff"
    }
   },
   "outputs": [],
   "source": [
    "Qed."
   ]
  },
  {
   "cell_type": "markdown",
   "metadata": {
    "coq_kernel_metadata": {
     "auto_roll_back": true
    }
   },
   "source": [
    "<a id=\"ex33\"></a>\n",
    "## 演習問題 3-3\n",
    "　<font size=\"4\">次の定理を証明せよ。</font>\n",
    " <font color=\"blue\"　size=\"4\"><br>　Theorem mult_0_r : (forall n : nat,  n * 0 = 0).</font>\n",
    "\n",
    "## 解答\n",
    "### 下のCellを実行して確かめよ。\n",
    "\n",
    "<a id=\"hint33\"></a>"
   ]
  },
  {
   "cell_type": "code",
   "execution_count": null,
   "metadata": {
    "coq_kernel_metadata": {
     "auto_roll_back": true,
     "cell_id": "78169ec5b1b744728bc8118bbf09e40b",
     "execution_id": "d997eedbd5e843d681fb986639a33c00"
    }
   },
   "outputs": [],
   "source": [
    "Theorem  mult_0_r : (forall n : nat,  n * 0 = 0).\n",
    "Proof."
   ]
  },
  {
   "cell_type": "code",
   "execution_count": null,
   "metadata": {
    "coq_kernel_metadata": {
     "auto_roll_back": true,
     "cell_id": "d966b8d012df4cd78c2ba56f44d49476",
     "execution_id": "fd5060992efa4568ac0f8811bdef8554"
    }
   },
   "outputs": [],
   "source": [
    "(* forall の削除 *)\n",
    "intros."
   ]
  },
  {
   "cell_type": "code",
   "execution_count": null,
   "metadata": {
    "coq_kernel_metadata": {
     "auto_roll_back": true,
     "cell_id": "a60e99f848f048da9bcb87eca64f1e77",
     "execution_id": "8259a47be21b4d7b85c2a5524066281e"
    }
   },
   "outputs": [],
   "source": [
    "(* nについての帰納法を使う。*)\n",
    "induction n.\n",
    "(* n = 0 　の場合と、\n",
    "　　　　n = S n' の場合で、サブゴールが二つに分かれる。 *)"
   ]
  },
  {
   "cell_type": "code",
   "execution_count": null,
   "metadata": {
    "coq_kernel_metadata": {
     "auto_roll_back": true,
     "cell_id": "f1dd0782a30d4c7883190a7aeaacc82e",
     "execution_id": "61e0548dc37d47a297c22d0cf33d846a"
    }
   },
   "outputs": [],
   "source": [
    "(* n = 0 の場合。単純化する。 *)\n",
    "simpl."
   ]
  },
  {
   "cell_type": "code",
   "execution_count": null,
   "metadata": {
    "coq_kernel_metadata": {
     "auto_roll_back": true,
     "cell_id": "697107e09b1343db95b10302905b438b",
     "execution_id": "f117943dc3f04048809182589b4fa5a3"
    }
   },
   "outputs": [],
   "source": [
    "(* n =0  の場合。reflexivity が使える。*)\n",
    "reflexivity.\n",
    "(* n =0  の場合、証明終わる。サブゴールは一つになる。*)"
   ]
  },
  {
   "cell_type": "code",
   "execution_count": null,
   "metadata": {
    "coq_kernel_metadata": {
     "auto_roll_back": true,
     "cell_id": "551586a1b1504e0f8f0c33b12543cb37",
     "execution_id": "80d5e196856646c68e0ff3ca1bcd1e89"
    }
   },
   "outputs": [],
   "source": [
    "(* n = S n' の場合。単純化する。*)\n",
    "simpl."
   ]
  },
  {
   "cell_type": "code",
   "execution_count": null,
   "metadata": {
    "coq_kernel_metadata": {
     "auto_roll_back": true,
     "cell_id": "f83e1570b81746dca1a49a02020de217",
     "execution_id": "e4b47b8d304d4c4c851d884ae34b2521"
    }
   },
   "outputs": [],
   "source": [
    "(* n = S n' の場合。IHnの左項でサブゴールを書き換える。*)\n",
    "\n",
    "rewrite -> IHn."
   ]
  },
  {
   "cell_type": "code",
   "execution_count": null,
   "metadata": {
    "coq_kernel_metadata": {
     "auto_roll_back": true,
     "cell_id": "5d07cfb938434c2c9fef10fdf75b239b",
     "execution_id": "1b97acdfb1fe43468ef05f4e5c3ba3b6"
    }
   },
   "outputs": [],
   "source": [
    "(* n = S n' の場合。Ireflexivity が使える。 *)\n",
    " reflexivity.\n",
    "(* n = S n' の場合。証明終わる。 *)"
   ]
  },
  {
   "cell_type": "code",
   "execution_count": null,
   "metadata": {
    "coq_kernel_metadata": {
     "auto_roll_back": true,
     "cell_id": "2fb74dd65ba44eddbf4648e09a0daf49",
     "execution_id": "ef4af1f6f42e487d80a9ffaa0e3742f3"
    }
   },
   "outputs": [],
   "source": [
    "Qed."
   ]
  },
  {
   "cell_type": "markdown",
   "metadata": {
    "coq_kernel_metadata": {
     "auto_roll_back": true
    }
   },
   "source": [
    "<a id=\"ex34\"></a>\n",
    "## 演習問題 3-4\n",
    "　<font size=\"4\">次の定理を証明せよ。</font>\n",
    " <font color=\"blue\"　size=\"4\"><br>　Theorem plus_n_Sm : (forall n m : nat, S (n + m) = n + (S m) ).</font>\n",
    "\n",
    "## 解答\n",
    "### 下のCellを実行して確かめよ。\n",
    "\n",
    "<a id=\"hint34\"></a>"
   ]
  },
  {
   "cell_type": "code",
   "execution_count": null,
   "metadata": {
    "coq_kernel_metadata": {
     "auto_roll_back": true,
     "cell_id": "267f999d9cf84c0e87af83ee31062797",
     "execution_id": "03935d698b54491e87c89654f64ba5b3"
    }
   },
   "outputs": [],
   "source": [
    "Theorem  plus_n_Sm : (forall n m : nat, S (n + m) = n + (S m) ).\n",
    "Proof."
   ]
  },
  {
   "cell_type": "code",
   "execution_count": null,
   "metadata": {
    "coq_kernel_metadata": {
     "auto_roll_back": true,
     "cell_id": "f721abbadf8c472187c3b7ab6dbf25a4",
     "execution_id": "ea1ae713733e4f9b8cc9f54e094df826"
    }
   },
   "outputs": [],
   "source": [
    "(* introsで forall を消す。*)\n",
    "intros."
   ]
  },
  {
   "cell_type": "code",
   "execution_count": null,
   "metadata": {
    "coq_kernel_metadata": {
     "auto_roll_back": true,
     "cell_id": "60b6bc9802124ef7a83c005151ad2016",
     "execution_id": "88bdb3747ed241d38b1539f00771ef3e"
    }
   },
   "outputs": [],
   "source": [
    "(* induction nで帰納法を使う。*)\n",
    "induction n.\n",
    "(* n = 0 　の場合と、\n",
    "　　　　n = S n' の場合で、サブゴールが二つに分かれる。 *)"
   ]
  },
  {
   "cell_type": "code",
   "execution_count": null,
   "metadata": {
    "coq_kernel_metadata": {
     "auto_roll_back": true,
     "cell_id": "538c3f03895844918204a4cf38de6adc",
     "execution_id": "7d138eb879124367865ab4c8fa71a051"
    }
   },
   "outputs": [],
   "source": [
    "(* n = 0の場合。simpl で、サブゴールを簡単にする。*)\n",
    "simpl."
   ]
  },
  {
   "cell_type": "code",
   "execution_count": null,
   "metadata": {
    "coq_kernel_metadata": {
     "auto_roll_back": true,
     "cell_id": "725c4f84df6849118bdad17e1313a3bf",
     "execution_id": "ea9b52f3cb9d40728893e6e9c0d3fc78"
    }
   },
   "outputs": [],
   "source": [
    "(* n=0 の場合。reflexivity が使える。*)\n",
    "reflexivity.\n",
    "(* n=0 の場合、証明終わり。サブゴールが一つになる。*)"
   ]
  },
  {
   "cell_type": "code",
   "execution_count": null,
   "metadata": {
    "coq_kernel_metadata": {
     "auto_roll_back": true,
     "cell_id": "172cf6ddda18410e80c0d7bcf2eee043",
     "execution_id": "f334c41b91744ce88562afcbceb6dc29"
    }
   },
   "outputs": [],
   "source": [
    "(* n = S n' の場合。残ったサブゴールを、simpl で簡単にする。*)\n",
    "simpl."
   ]
  },
  {
   "cell_type": "code",
   "execution_count": null,
   "metadata": {
    "coq_kernel_metadata": {
     "auto_roll_back": true,
     "cell_id": "742948ae3f0146dcb3d663a10ef8899d",
     "execution_id": "68f71e761e2a4b6b8d51e924eeeead31"
    }
   },
   "outputs": [],
   "source": [
    "(* n = S n' の場合。*)\n",
    "(* IHnの左項でサブゴールを書き換える。*)\n",
    "rewrite -> IHn."
   ]
  },
  {
   "cell_type": "code",
   "execution_count": null,
   "metadata": {
    "coq_kernel_metadata": {
     "auto_roll_back": true,
     "cell_id": "7f1bdc0a1e5a4cb981e752da17e1e062",
     "execution_id": "81ba0863ed1544098ddafce882a1bbba"
    }
   },
   "outputs": [],
   "source": [
    "(* n = S n' の場合。*)\n",
    "(* reflexivity が使える。*)\n",
    "reflexivity.\n",
    "(* n = S n' の場合、証明終り。 *)"
   ]
  },
  {
   "cell_type": "code",
   "execution_count": null,
   "metadata": {
    "coq_kernel_metadata": {
     "auto_roll_back": true,
     "cell_id": "ddc049a9ce464dd98a1b47a6b1807598",
     "execution_id": "3777df3d858845b69b3b6fa1e263a17f"
    }
   },
   "outputs": [],
   "source": [
    "Qed."
   ]
  },
  {
   "cell_type": "markdown",
   "metadata": {
    "coq_kernel_metadata": {
     "auto_roll_back": true
    }
   },
   "source": [
    "<a id=\"ex35\"></a>\n",
    "## 演習問題 3-5\n",
    "　<font size=\"4\">次の定理を証明せよ。</font>\n",
    " <font color=\"blue\"　size=\"4\"><br>　Theorem plus_comm : (forall n m : nat, n + m = m + n ).</font>\n",
    "\n",
    "## 解答\n",
    "### 下のCellを実行して確かめよ。\n",
    "\n",
    "<a id=\"hint35\"></a>"
   ]
  },
  {
   "cell_type": "code",
   "execution_count": null,
   "metadata": {
    "coq_kernel_metadata": {
     "auto_roll_back": true,
     "cell_id": "0b245839b82447c7a94568149f2a31d4",
     "execution_id": "4f86bbea8f0d4708a5de00e622e64ffa"
    }
   },
   "outputs": [],
   "source": [
    "Theorem  plus_comm : (forall n m : nat, n + m = m + n ).\n",
    "Proof."
   ]
  },
  {
   "cell_type": "code",
   "execution_count": null,
   "metadata": {
    "coq_kernel_metadata": {
     "auto_roll_back": true,
     "cell_id": "6c3bc19d0e6b41178b945c9a113d2024",
     "execution_id": "1e49fcfae0ee42ab8bdc1fe30b3222e4"
    }
   },
   "outputs": [],
   "source": [
    "(* forall の削除 *)\n",
    "intros."
   ]
  },
  {
   "cell_type": "code",
   "execution_count": null,
   "metadata": {
    "coq_kernel_metadata": {
     "auto_roll_back": true,
     "cell_id": "c221775b60654abd8abfe6ae881dd9e8",
     "execution_id": "6710a8a477824ffeb66c57a775fc4fff"
    }
   },
   "outputs": [],
   "source": [
    "  (* nについての帰納法を使う。*)\n",
    "  induction n.\n",
    "  (* n = 0 　の場合と、\n",
    "　　　　n = S n' の場合で、サブゴールが二つに分かれる。 *)"
   ]
  },
  {
   "cell_type": "code",
   "execution_count": null,
   "metadata": {
    "coq_kernel_metadata": {
     "auto_roll_back": true,
     "cell_id": "25f0d30fb1d3461ca4a3614a72457b50",
     "execution_id": "cae60f86f3d8420c9ba4b245db64e226"
    },
    "scrolled": true
   },
   "outputs": [],
   "source": [
    "     (* 　n = 0 の場合　*)\n",
    "     (* サブゴールを簡単にする。*)\n",
    "     simpl."
   ]
  },
  {
   "cell_type": "code",
   "execution_count": null,
   "metadata": {
    "coq_kernel_metadata": {
     "auto_roll_back": true,
     "cell_id": "79a3ce1d11e44c0b8196ba9ffaed609f",
     "execution_id": "df6285d00d8440b4af9459b879b53f06"
    },
    "scrolled": true
   },
   "outputs": [],
   "source": [
    "(* 　n = 0 の場合が続いている。　*) \n",
    "(* m についての帰納法を使う。 *)\n",
    "induction m.\n",
    "\n",
    "(* m = 0 　の場合と、\n",
    "　　　　　m = S m' の場合で、サブゴールが二つ追加される。 \n",
    "     先のサブゴールと合わせて、サブゴールは三つになる。*)"
   ]
  },
  {
   "cell_type": "code",
   "execution_count": null,
   "metadata": {
    "coq_kernel_metadata": {
     "auto_roll_back": true,
     "cell_id": "9a0c121598ea459186721a30b65a8cc1",
     "execution_id": "e5bea2a8ed7c48bf97b3ad2ba96d32e3"
    },
    "scrolled": true
   },
   "outputs": [],
   "source": [
    "(* 　n = 0 の場合が続いている。　*)\n",
    "(* 　m = 0 のサブゴールを簡単にする。　*)\n",
    "simpl."
   ]
  },
  {
   "cell_type": "code",
   "execution_count": null,
   "metadata": {
    "coq_kernel_metadata": {
     "auto_roll_back": true,
     "cell_id": "5f4cdf0d180c45b982394517e5e37ef9",
     "execution_id": "3c02653b872747f383f4c993816aa0b2"
    },
    "scrolled": true
   },
   "outputs": [],
   "source": [
    "(* 　n = 0 の場合が続いている。　*)\n",
    "(* 　m = 0 のサブゴールにreflexivity が使える。　*)\n",
    "reflexivity.\n",
    "(* 　m = 0 のサブゴールが消えて、サブゴールは二つになる。　*)"
   ]
  },
  {
   "cell_type": "code",
   "execution_count": null,
   "metadata": {
    "coq_kernel_metadata": {
     "auto_roll_back": true,
     "cell_id": "1a209b62e4aa48ba811f390c263493fc",
     "execution_id": "4a878469f64e4a4e84f70dfab09e4b4a"
    },
    "scrolled": true
   },
   "outputs": [],
   "source": [
    "(* 　n = 0 の場合が続いている。　*)\n",
    "(* 　m = S m'の場合のサブゴールを簡単にする。　*)\n",
    "simpl."
   ]
  },
  {
   "cell_type": "code",
   "execution_count": null,
   "metadata": {
    "coq_kernel_metadata": {
     "auto_roll_back": true,
     "cell_id": "5dbbee200ece4cc9b07d5cec61e557ae",
     "execution_id": "f0781686e24042da9607195545616b3f"
    },
    "scrolled": true
   },
   "outputs": [],
   "source": [
    "(* 　n = 0 の場合が続いている。　*)\n",
    "(* 　m = S m'の場合のサブゴールを IHmの右項を使って書き換える。　*)\n",
    "rewrite <- IHm."
   ]
  },
  {
   "cell_type": "code",
   "execution_count": null,
   "metadata": {
    "coq_kernel_metadata": {
     "auto_roll_back": true,
     "cell_id": "a31047617b854ed889f67bf724e58fe9",
     "execution_id": "b203f95d389b48fb8d8a06010b6bed8b"
    },
    "scrolled": true
   },
   "outputs": [],
   "source": [
    "(* 　n = 0 の場合が続いている。　*)\n",
    "(* 　m = S m'の場合のサブゴールに reflexivity が使える。　*)\n",
    "reflexivity.\n",
    "(* mについての帰納法の証明終わり。サブゴールが一つになる。*)\n",
    "(* n = S n' の場合の証明に移る。*)"
   ]
  },
  {
   "cell_type": "code",
   "execution_count": null,
   "metadata": {
    "coq_kernel_metadata": {
     "auto_roll_back": true,
     "cell_id": "34687efe6d464c558e7ba7632c76ac5f",
     "execution_id": "f74abdcf83354f088ec037e58ff40708"
    },
    "scrolled": true
   },
   "outputs": [],
   "source": [
    "(* n = S n' の場合 *)\n",
    "(* サブゴールを、「演習問題 3-4」で証明した、plus_n_Smの右項で書き換える *)\n",
    "(* Theorem plus_n_Sm : (forall n m : nat, S (n + m) = n + (S m) である。*)\n",
    "(* ここでエラーが出る人は、次の「Coqライブラリーの利用について」を参照すること *)\n",
    "\n",
    "rewrite <- plus_n_Sm."
   ]
  },
  {
   "cell_type": "code",
   "execution_count": null,
   "metadata": {
    "coq_kernel_metadata": {
     "auto_roll_back": true,
     "cell_id": "0ac035b5dedf4f4886c18358637d95d1",
     "execution_id": "a1335710998f472eb377a0ac4a6bf6ee"
    },
    "scrolled": false
   },
   "outputs": [],
   "source": [
    "(* n = S n' の場合 *)\n",
    "(* サブゴールを、IHnの右項で書き換える *)\n",
    "rewrite <- IHn."
   ]
  },
  {
   "cell_type": "code",
   "execution_count": null,
   "metadata": {
    "coq_kernel_metadata": {
     "auto_roll_back": true,
     "cell_id": "8dd969e25d594dcdbe421599c4b96d41",
     "execution_id": "1f766c55a5ae47dd942bdd52bb862f77"
    }
   },
   "outputs": [],
   "source": [
    "(* n = S n' の場合 *)\n",
    "(* サブゴールを、単純にする。 *)\n",
    "simpl."
   ]
  },
  {
   "cell_type": "code",
   "execution_count": null,
   "metadata": {
    "coq_kernel_metadata": {
     "auto_roll_back": true,
     "cell_id": "ae1c5ca5f3df42e38ebb5ca9d19454f9",
     "execution_id": "ad2f9c116c9545aa813f1e073db5d3f6"
    },
    "scrolled": true
   },
   "outputs": [],
   "source": [
    "(* n = S n' の場合 *)\n",
    "(* サブゴールに、reflexivityが使える。 *)\n",
    "reflexivity.\n",
    "(* n = S n' の場合 、証明終わり。*)"
   ]
  },
  {
   "cell_type": "code",
   "execution_count": null,
   "metadata": {
    "coq_kernel_metadata": {
     "auto_roll_back": true,
     "cell_id": "68bc4e16b5cf4358889548d759609599",
     "execution_id": "b86375be242c4bc1a344d55a93448dd9"
    }
   },
   "outputs": [],
   "source": [
    "Qed."
   ]
  },
  {
   "cell_type": "markdown",
   "metadata": {
    "coq_kernel_metadata": {
     "auto_roll_back": true,
     "cell_id": "5affd26833f24fa98a106cec066c6b68",
     "execution_id": "790082d21bc547c18747c4269ae53df2"
    }
   },
   "source": [
    " ## Coq ライブラリーの利用について\n",
    " ここでは、先の「演習問題 3-4」で証明した、定理 plus_n_Sm を利用している。\n",
    "　　　　　   Theorem plus_n_Sm : (forall n m : nat, S (n + m) = n + (S m) である。\n",
    " この証明では、「演習問題 3-4」を解いてあることが、前提となっている。\n",
    "        \n",
    "ただ、皆が順番に演習問題を解いている保証はないので、ここは、少しちがったやり方を考えてみよう。\n",
    "\n",
    "実は、CoqのライブラリーArithには、この「演習問題 3-4」の定理 plus_n_Sm と、ほぼ同じものが、\n",
    "別の名前で登録されている。\n",
    "        \n",
    "次のコマンドを実行してみよう。"
   ]
  },
  {
   "cell_type": "code",
   "execution_count": null,
   "metadata": {
    "coq_kernel_metadata": {
     "auto_roll_back": true,
     "cell_id": "2a506ba382d0414c8bdd6704a2e0bab9",
     "execution_id": "2611adc4b3f4401e86d2145c946aa673"
    }
   },
   "outputs": [],
   "source": [
    "Require Import Arith. \n",
    "Check Nat.add_succ_r."
   ]
  },
  {
   "cell_type": "markdown",
   "metadata": {
    "coq_kernel_metadata": {
     "auto_roll_back": true,
     "cell_id": "04791429fbb941ada0f2ce059af78429",
     "execution_id": "790082d21bc547c18747c4269ae53df2"
    }
   },
   "source": []
  },
  {
   "cell_type": "markdown",
   "metadata": {
    "coq_kernel_metadata": {
     "auto_roll_back": true,
     "cell_id": "7d96aa8c40014d62bcac8520bd0592c3",
     "execution_id": "790082d21bc547c18747c4269ae53df2"
    }
   },
   "source": [
    " この定理 Nat.add_succ_r は、「演習問題 3-4」の定理 plus_n_Sm と、ほぼ同じもので\n",
    " あることがわかる。ただし、等式の左右が逆である。\n",
    " \n",
    " だから 先の証明で使った \n",
    "    rewrite <- plus_n_Sm. \n",
    " の代わりに、\n",
    "    rewrite -> Nat.add_succ_r  　(左右が逆だから、rewriteの矢印は逆になる。)\n",
    " を使っても、証明はできる。\n",
    "\n",
    "<font color=\"blue\">ただし、今回のハンズオンの演習問題では、演習問題として既に証明済の定理のみを使って、証明をすることを原則としている。実は、今回のハンズオンの演習課題の多くは、ライブラリー Arith から採用したものである。</font>"
   ]
  },
  {
   "cell_type": "code",
   "execution_count": null,
   "metadata": {
    "coq_kernel_metadata": {
     "auto_roll_back": true,
     "cell_id": "ca191530a46b48ffb82fdce334057874",
     "execution_id": "d65f9b4499274843959b050918680651"
    }
   },
   "outputs": [],
   "source": [
    "Check Nat.mul_0_r."
   ]
  },
  {
   "cell_type": "code",
   "execution_count": null,
   "metadata": {
    "coq_kernel_metadata": {
     "auto_roll_back": true,
     "cell_id": "56f6008142b049ee816ad2b6271f5d90",
     "execution_id": "ea896d75c5d54a1a94068f14030d487a"
    }
   },
   "outputs": [],
   "source": [
    "(* 例えば、「演習問題 3-3」 は、ライブラリー上では、Nat.mul_0_r として、証明済である *)\n",
    "\n",
    "Theorem mult_0_r' : (forall n : nat,  n * 0 = 0).\n",
    "Proof.\n",
    "   exact  Nat.mul_0_r .\n",
    "Qed.  "
   ]
  },
  {
   "cell_type": "code",
   "execution_count": null,
   "metadata": {
    "coq_kernel_metadata": {
     "auto_roll_back": true,
     "cell_id": "c1e1ad58fe0045138c83b009c5854d4f",
     "execution_id": "1207d51a31ee4d5d9aad5ddd65bfbe8c"
    },
    "scrolled": true
   },
   "outputs": [],
   "source": [
    "Check Nat.add_succ_r."
   ]
  },
  {
   "cell_type": "code",
   "execution_count": null,
   "metadata": {
    "coq_kernel_metadata": {
     "auto_roll_back": true,
     "cell_id": "4442a0f2f4b44b188f3865a03443c0f0",
     "execution_id": "8a22a2fb014c446c84a6219ffaea5966"
    }
   },
   "outputs": [],
   "source": [
    "(* 「演習問題 3-4」 は、ライブラリー上では、Nat.add_succ_r  (左右が逆だが)として、証明済である *)\n",
    "\n",
    "Theorem  plus_n_Sm' : (forall n m : nat, S (n + m) = n + (S m) ).\n",
    "Proof.\n",
    "   symmetry. (* 左辺と右辺を入れ替える*)\n",
    "   apply  Nat.add_succ_r.\n",
    "Qed.  "
   ]
  },
  {
   "cell_type": "markdown",
   "metadata": {
    "coq_kernel_metadata": {
     "auto_roll_back": true,
     "cell_id": "a020d62269f34f809006fe4fc526d2d8",
     "execution_id": "790082d21bc547c18747c4269ae53df2"
    }
   },
   "source": [
    "同様に、今回の和の交換則を証明する「演習問題 3-5」も、ライブラリーでは。Nat.add_comm として、証明済である。次を実行してみよ。"
   ]
  },
  {
   "cell_type": "code",
   "execution_count": null,
   "metadata": {
    "coq_kernel_metadata": {
     "auto_roll_back": true,
     "cell_id": "680f2cd0674048fe8f27e46a479777fd",
     "execution_id": "e6b3b91a259c4a00bd532768f59336a0"
    },
    "scrolled": true
   },
   "outputs": [],
   "source": [
    "Check Nat.add_comm."
   ]
  },
  {
   "cell_type": "code",
   "execution_count": null,
   "metadata": {
    "coq_kernel_metadata": {
     "auto_roll_back": true,
     "cell_id": "a637495edb6841b69d4a92ec89399bb5",
     "execution_id": "7a896c4e90ab431b8bebbe6ba0e2f15e"
    }
   },
   "outputs": [],
   "source": [
    "(* 「演習問題 3-5」 は、ライブラリー上では、Nat.add_comm として、証明済である *)\n",
    "\n",
    "Theorem  plus_comm' : (forall n m : nat, n + m = m + n ).\n",
    "Proof.\n",
    "   exact  Nat.add_comm .\n",
    "Qed.  "
   ]
  },
  {
   "cell_type": "markdown",
   "metadata": {
    "coq_kernel_metadata": {
     "auto_roll_back": true
    }
   },
   "source": [
    "<a id=\"ex36\"></a>\n",
    "## 演習問題 3-6\n",
    "　<font size=\"4\">次の定理を証明せよ。</font>\n",
    " <font color=\"blue\"　size=\"4\"><br>　Theorem plus_assoc : (forall n m o : nat, n + (m +o)  = (n + m) + o ).</font>\n",
    "\n",
    "## 解答\n",
    "### 下のCellを実行して確かめよ。\n",
    "\n",
    "<a id=\"hint36\"></a>"
   ]
  },
  {
   "cell_type": "code",
   "execution_count": null,
   "metadata": {
    "coq_kernel_metadata": {
     "auto_roll_back": true,
     "cell_id": "36f379fa030348439853fea5b8b2fbad",
     "execution_id": "b18a65a397db4dc89d5e20b2c7f4c0b2"
    }
   },
   "outputs": [],
   "source": [
    "Theorem  plus_assoc : (forall n m o : nat, n + (m +o)  = (n + m) + o ).\n",
    "Proof."
   ]
  },
  {
   "cell_type": "code",
   "execution_count": null,
   "metadata": {
    "coq_kernel_metadata": {
     "auto_roll_back": true,
     "cell_id": "bbabfa06eda343fe83ffdd4526f8586f",
     "execution_id": "dee6d9097317458497074d8a3174f77d"
    }
   },
   "outputs": [],
   "source": [
    "(* forall を削除*)\n",
    "intros."
   ]
  },
  {
   "cell_type": "code",
   "execution_count": null,
   "metadata": {
    "coq_kernel_metadata": {
     "auto_roll_back": true,
     "cell_id": "c9d105e05b2c4d8f880667b151baa386",
     "execution_id": "48dc61fd50164cefb87240161a7e80f4"
    }
   },
   "outputs": [],
   "source": [
    "(* n についての帰納法を使う。*)\n",
    "induction n.\n",
    "(* n = 0 　の場合と、\n",
    "　　　　n = S n' の場合で、サブゴールが二つに分かれる。 *)"
   ]
  },
  {
   "cell_type": "code",
   "execution_count": null,
   "metadata": {
    "coq_kernel_metadata": {
     "auto_roll_back": true,
     "cell_id": "1be91a24a897416e8933558f553b2035",
     "execution_id": "a91d391bb7ba442696ba4e4dd419eaa2"
    }
   },
   "outputs": [],
   "source": [
    "(* n = 0 　の場合 *)\n",
    "(* サブゴールを単純にする。*)\n",
    "simpl."
   ]
  },
  {
   "cell_type": "code",
   "execution_count": null,
   "metadata": {
    "coq_kernel_metadata": {
     "auto_roll_back": true,
     "cell_id": "2a1570de5bf048138fcda1e381ae3237",
     "execution_id": "64f6a8fa65b84a3eb6e0115b0eec40a5"
    }
   },
   "outputs": [],
   "source": [
    "(* n = 0 　の場合 *)\n",
    "(* サブゴールにreflexivityが使える。*)\n",
    "reflexivity.\n",
    "(* n =0 の場合、証明終わり。 サブゴールが一つになる。 *)\n",
    "(* n = Sn' の場合の証明に入る。 *)"
   ]
  },
  {
   "cell_type": "code",
   "execution_count": null,
   "metadata": {
    "coq_kernel_metadata": {
     "auto_roll_back": true,
     "cell_id": "e7772fbc019346b1bf7cdab7d8cd8a6e",
     "execution_id": "f6e2b2e8756b4aebb53a64c0495dff89"
    }
   },
   "outputs": [],
   "source": [
    "(* n = S n' の場合*)\n",
    "(* サブゴールを単純にする。*)\n",
    "simpl."
   ]
  },
  {
   "cell_type": "code",
   "execution_count": null,
   "metadata": {
    "coq_kernel_metadata": {
     "auto_roll_back": true,
     "cell_id": "a2917af2958c47178707fd4128cdca24",
     "execution_id": "9141013857314cad862304c40a0816c5"
    }
   },
   "outputs": [],
   "source": [
    "(* n = S n' の場合*)\n",
    "(* サブゴールを IHnの左項で書き換える。*)\n",
    "rewrite -> IHn."
   ]
  },
  {
   "cell_type": "code",
   "execution_count": null,
   "metadata": {
    "coq_kernel_metadata": {
     "auto_roll_back": true,
     "cell_id": "1daf55a265ec4897800874564128ace2",
     "execution_id": "a362adb56b2e4a8d9f698cb576ecbd86"
    }
   },
   "outputs": [],
   "source": [
    "(* n = S n' の場合*)\n",
    "(* サブゴールに reflexivity が使える。*)\n",
    "reflexivity.\n",
    "(* n = S n' の場合、証明終わり。 *)"
   ]
  },
  {
   "cell_type": "code",
   "execution_count": null,
   "metadata": {
    "coq_kernel_metadata": {
     "auto_roll_back": true,
     "cell_id": "bd6d061e8d5a480fbe48c4840bd83381",
     "execution_id": "2250e560d6a4437cbde309c3e4013569"
    }
   },
   "outputs": [],
   "source": [
    "Qed."
   ]
  },
  {
   "cell_type": "markdown",
   "metadata": {
    "coq_kernel_metadata": {
     "auto_roll_back": true
    }
   },
   "source": [
    "<a id=\"ex37\"></a>\n",
    "## 演習問題 3-7\n",
    "　<font size=\"4\">次の定理を証明せよ。</font>\n",
    " <font color=\"blue\"　size=\"4\"><br>　Theorem mul_succ_r : forall n m : nat,  n \\* S m = n \\* m + n  ).</font>\n",
    "\n",
    "## 解答\n",
    "### 下のCellを実行して確かめよ。\n",
    "#### <font color=\"red\">この証明では Coqライブラリーを利用していることに注意。</font>\n",
    "\n",
    "<a id=\"hint32\"></a>"
   ]
  },
  {
   "cell_type": "code",
   "execution_count": null,
   "metadata": {
    "coq_kernel_metadata": {
     "auto_roll_back": true,
     "cell_id": "7ac4d08b67d5420787ab7184bb1149ae",
     "execution_id": "73299f2b5090460a8a9babce6e550160"
    }
   },
   "outputs": [],
   "source": [
    "Require Import Arith. \n",
    "\n",
    "Theorem  mul_succ_r : ( forall n m : nat,  n * S m = n * m + n  ).\n",
    "Proof."
   ]
  },
  {
   "cell_type": "code",
   "execution_count": null,
   "metadata": {
    "coq_kernel_metadata": {
     "auto_roll_back": true,
     "cell_id": "b0c37ec3bdcb41018a2bd3c3c96c0061",
     "execution_id": "e44775b078dc4ddd8828dea1d4d6dbbe"
    }
   },
   "outputs": [],
   "source": [
    "(* forall の削除*)\n",
    "intros."
   ]
  },
  {
   "cell_type": "code",
   "execution_count": null,
   "metadata": {
    "coq_kernel_metadata": {
     "auto_roll_back": true,
     "cell_id": "152d7a06908b4d708b1ea9361eaaa760",
     "execution_id": "388aa745c00f43eb8e50a70aaab33ae8"
    }
   },
   "outputs": [],
   "source": [
    "(* n についての帰納法を使う *)\n",
    "induction n.\n",
    "(* n = 0 　の場合と、\n",
    "　　　　n = S n' の場合で、サブゴールが二つに分かれる。 *)"
   ]
  },
  {
   "cell_type": "code",
   "execution_count": null,
   "metadata": {
    "coq_kernel_metadata": {
     "auto_roll_back": true,
     "cell_id": "ebb675cc72d9483285e5e1b86c45e550",
     "execution_id": "a2f2cfdcac184b3a865fdc06d1e949da"
    }
   },
   "outputs": [],
   "source": [
    "(* n = 0 の場合 *)\n",
    "(* サブゴールを簡単にする。 *)\n",
    "simpl."
   ]
  },
  {
   "cell_type": "code",
   "execution_count": null,
   "metadata": {
    "coq_kernel_metadata": {
     "auto_roll_back": true,
     "cell_id": "dcc8ea56b984478896563c9ae4231b0c",
     "execution_id": "5cf98c6c362b4fb5a3aed127683dd8ee"
    }
   },
   "outputs": [],
   "source": [
    "(* n = 0 の場合 *)\n",
    "(* サブゴールにreflexivity が使える。 *)\n",
    "reflexivity.\n",
    "(* n = 0 の場合、証明終わり。サブゴールは一つになる。\n",
    "　　　　n = S n' の場合の証明に移る。*)"
   ]
  },
  {
   "cell_type": "code",
   "execution_count": null,
   "metadata": {
    "coq_kernel_metadata": {
     "auto_roll_back": true,
     "cell_id": "35df02463a6f421a983a8d47fce8db58",
     "execution_id": "81630c3c3e26496983497251ca17b328"
    }
   },
   "outputs": [],
   "source": [
    "(*　n = S n' の場合 *)\n",
    "(* サブゴールを簡単にする。　*)\n",
    "simpl."
   ]
  },
  {
   "cell_type": "code",
   "execution_count": null,
   "metadata": {
    "coq_kernel_metadata": {
     "auto_roll_back": true,
     "cell_id": "d28ddaaf504b409385890084db615201",
     "execution_id": "894525d60d744d3cbc93ed6db135044d"
    },
    "scrolled": true
   },
   "outputs": [],
   "source": [
    "(*　n = S n' の場合 *)\n",
    "(* サブゴールを、IHnの左項で書き換える。　*)\n",
    "rewrite -> IHn."
   ]
  },
  {
   "cell_type": "code",
   "execution_count": null,
   "metadata": {
    "coq_kernel_metadata": {
     "auto_roll_back": true,
     "cell_id": "168d4990564940888942cd1803a9dd00",
     "execution_id": "2167dfca023e41cb858c230de79c31be"
    },
    "scrolled": true
   },
   "outputs": [],
   "source": [
    "(*　n = S n' の場合 *)\n",
    "(* サブゴールを、Nat.add_succ_rの右項で書き換える。　*)\n",
    "(* Nat.add_succ_r\n",
    "     : forall n m : nat, n + S m = S (n + m)\n",
    "で、「演習問題　3-4」で証明した plus_n_Sm と同じものである。*)\n",
    "\n",
    "rewrite <- Nat.add_succ_r."
   ]
  },
  {
   "cell_type": "code",
   "execution_count": null,
   "metadata": {
    "coq_kernel_metadata": {
     "auto_roll_back": true,
     "cell_id": "47af8908e352413a944493922535d13f",
     "execution_id": "15844cb75c614e359f80945c0cef0348"
    },
    "scrolled": true
   },
   "outputs": [],
   "source": [
    "(*　n = S n' の場合 *)\n",
    "(* サブゴールを、再び、Nat.add_succ_rの右項で書き換える。　*)\n",
    "\n",
    "rewrite <- Nat.add_succ_r."
   ]
  },
  {
   "cell_type": "code",
   "execution_count": null,
   "metadata": {
    "coq_kernel_metadata": {
     "auto_roll_back": true,
     "cell_id": "5baebc583fa54c47acf6545dbc46c2a5",
     "execution_id": "ae54e354f22844fd88fef2d726f3db43"
    },
    "scrolled": true
   },
   "outputs": [],
   "source": [
    "(*　n = S n' の場合 *)\n",
    "(* サブゴールを、Nat.add_assocの左項で書き換える。　*)\n",
    "(* Nat.add_assoc\n",
    "     : forall n m p : nat, n + (m + p) = n + m + p\n",
    " で、「演習問題 3-6」　で証明した plus_assoc と同じものである。 *)\n",
    "\n",
    "rewrite -> Nat.add_assoc."
   ]
  },
  {
   "cell_type": "code",
   "execution_count": null,
   "metadata": {
    "coq_kernel_metadata": {
     "auto_roll_back": true,
     "cell_id": "5fcf5ca386f6422f8a03bca9b08ed0c3",
     "execution_id": "4082c10b8def466f84a9c43a60848474"
    },
    "scrolled": true
   },
   "outputs": [],
   "source": [
    "(*　n = S n' の場合 *)\n",
    "(* サブゴールに reflexivity が使える。　*)\n",
    "reflexivity.\n",
    "(*　n = S n' の場合、証明終わり。 *)"
   ]
  },
  {
   "cell_type": "code",
   "execution_count": null,
   "metadata": {
    "coq_kernel_metadata": {
     "auto_roll_back": true,
     "cell_id": "89913b6758b6406bba5f14807292af8a",
     "execution_id": "6a487a52b7eb4fd191878bdde358d176"
    }
   },
   "outputs": [],
   "source": [
    "Qed."
   ]
  },
  {
   "cell_type": "markdown",
   "metadata": {
    "coq_kernel_metadata": {
     "auto_roll_back": true
    }
   },
   "source": [
    "<a id=\"ex38\"></a>\n",
    "## 演習問題 3-8\n",
    "　<font size=\"4\">次の定理を証明せよ。</font>\n",
    " <font color=\"blue\"　size=\"4\"><br>　Theorem mult_comm : (forall n m : nat,  n \\* m = m \\* n ).</font>\n",
    "\n",
    "## 解答\n",
    "### 下のCellを実行して確かめよ。\n",
    "#### <font color=\"red\">この証明では Coqライブラリーを利用していることに注意。</font>\n",
    "\n",
    "<a id=\"hint38\"></a>"
   ]
  },
  {
   "cell_type": "code",
   "execution_count": null,
   "metadata": {
    "coq_kernel_metadata": {
     "auto_roll_back": true,
     "cell_id": "8245a70db90944c38e76d0aa1bd52d93",
     "execution_id": "31b61fe14b99422d9e8f6100bc1ff653"
    }
   },
   "outputs": [],
   "source": [
    " Require Import Arith. \n",
    "\n",
    "Theorem  mult_comm : (forall n m : nat,  n * m = m * n ).\n",
    "Proof."
   ]
  },
  {
   "cell_type": "code",
   "execution_count": null,
   "metadata": {
    "coq_kernel_metadata": {
     "auto_roll_back": true,
     "cell_id": "619d358c160c4113841c7f6eeb081a86",
     "execution_id": "8a9604eeda9441bbae34ac99d55ddc95"
    }
   },
   "outputs": [],
   "source": [
    "(* forall の削除 *)\n",
    "intros."
   ]
  },
  {
   "cell_type": "code",
   "execution_count": null,
   "metadata": {
    "coq_kernel_metadata": {
     "auto_roll_back": true,
     "cell_id": "8359751a8204497c9b3558d6b1407633",
     "execution_id": "47442b1d80474cbd854f3bb176764dff"
    }
   },
   "outputs": [],
   "source": [
    "(* n についての帰納法を使う *)\n",
    "induction n.\n",
    "(* n = 0 　の場合と、\n",
    "　　　　n = S n' の場合で、サブゴールが二つに分かれる。 *)"
   ]
  },
  {
   "cell_type": "code",
   "execution_count": null,
   "metadata": {
    "coq_kernel_metadata": {
     "auto_roll_back": true,
     "cell_id": "4018a5e3a481473290e6a906a5e9f43e",
     "execution_id": "7eda2db59f3849c687687cb662dba919"
    }
   },
   "outputs": [],
   "source": [
    "(* n = 0 の場合 *)\n",
    "(* サブゴールを簡単にする。 *)\n",
    "simpl."
   ]
  },
  {
   "cell_type": "code",
   "execution_count": null,
   "metadata": {
    "coq_kernel_metadata": {
     "auto_roll_back": true,
     "cell_id": "149c562ae1b74c5684fc7a11e9cf2450",
     "execution_id": "fdb96e8397a74a9989c9d42668e03532"
    }
   },
   "outputs": [],
   "source": [
    "(* n = 0 の場合 *)\n",
    "(* サブゴールを、Nat.mul_0_r の左項で書き換える。 *)\n",
    "(* Nat.mul_0_r\n",
    "     : forall n : nat, n * 0 = 0\n",
    "で、「演習問題 3-3」で証明した　 mult_0_r と同じものである。*)\n",
    "\n",
    "rewrite -> Nat.mul_0_r."
   ]
  },
  {
   "cell_type": "code",
   "execution_count": null,
   "metadata": {
    "coq_kernel_metadata": {
     "auto_roll_back": true,
     "cell_id": "5a705158afb94bc58945b5054d65cdea",
     "execution_id": "a84ad0d4a8764b218d80dbd671212b86"
    }
   },
   "outputs": [],
   "source": [
    "(* n = 0 の場合 *)\n",
    "(* サブゴールにreflexivity が使える。 *)\n",
    "reflexivity.\n",
    "(* n = 0 の場合、証明終わり。サブゴールは一つになる。\n",
    "　　　　n = S n' の場合の証明に移る。*)"
   ]
  },
  {
   "cell_type": "code",
   "execution_count": null,
   "metadata": {
    "coq_kernel_metadata": {
     "auto_roll_back": true,
     "cell_id": "1feb39277b3c4642b50676d33d2d1604",
     "execution_id": "f10d007e40bd4a8e80931ba924f5485c"
    }
   },
   "outputs": [],
   "source": [
    "(* n = S n' の場合 *)\n",
    "(* サブゴールを簡単にする。*)\n",
    "simpl."
   ]
  },
  {
   "cell_type": "code",
   "execution_count": null,
   "metadata": {
    "coq_kernel_metadata": {
     "auto_roll_back": true,
     "cell_id": "dc72ec4fd8d544d7abd37b33fac7e741",
     "execution_id": "64f9f864799644898ff24512194839eb"
    }
   },
   "outputs": [],
   "source": [
    "(* n = S n' の場合 *)\n",
    "(* サブゴールを IHnの左項で書き換える。*)\n",
    "rewrite -> IHn."
   ]
  },
  {
   "cell_type": "code",
   "execution_count": null,
   "metadata": {
    "coq_kernel_metadata": {
     "auto_roll_back": true,
     "cell_id": "6e50d18ea0b14f5488c010556102323c",
     "execution_id": "d687040054194c948fe55ea5942e3482"
    }
   },
   "outputs": [],
   "source": [
    "(* n = S n' の場合 *)\n",
    "(* サブゴールを Nat.mul_succ_r の左項で書き換える。*)\n",
    "(* Nat.add_succ_r\n",
    "     : forall n m : nat, n + S m = S (n + m)\n",
    "で、「演習問題　3-4」で証明した plus_n_Sm と同じものである。*)\n",
    "\n",
    "rewrite -> Nat.mul_succ_r."
   ]
  },
  {
   "cell_type": "code",
   "execution_count": null,
   "metadata": {
    "coq_kernel_metadata": {
     "auto_roll_back": true,
     "cell_id": "a3686c3a9e204afeba9baad574fa5b38",
     "execution_id": "f7a85603e6ae47c4804ced485d807cd6"
    }
   },
   "outputs": [],
   "source": [
    "(* n = S n' の場合 *)\n",
    "(* Nat.add_comm.（加法の可換律）を適用する。*)\n",
    "(* Nat.add_comm\n",
    "     : forall n m : nat, n + m = m + n\n",
    " で、「演習問題 3-5」で証明した plus_comm と同じである。*)\n",
    "apply Nat.add_comm.\n",
    "(* n = S n' の場合、証明終わり。 *)"
   ]
  },
  {
   "cell_type": "code",
   "execution_count": null,
   "metadata": {
    "coq_kernel_metadata": {
     "auto_roll_back": true,
     "cell_id": "19e33e2a36e345c0b15ab281770c42a6",
     "execution_id": "db43c0476a3649ec901e32b645d3262a"
    }
   },
   "outputs": [],
   "source": [
    "Qed."
   ]
  },
  {
   "cell_type": "code",
   "execution_count": null,
   "metadata": {
    "coq_kernel_metadata": {
     "auto_roll_back": true
    }
   },
   "outputs": [],
   "source": []
  }
 ],
 "metadata": {
  "kernelspec": {
   "display_name": "Coq",
   "language": "coq",
   "name": "coq"
  },
  "language_info": {
   "file_extension": ".v",
   "mimetype": "text/x-coq",
   "name": "coq",
   "version": "8.9.1"
  }
 },
 "nbformat": 4,
 "nbformat_minor": 2
}
