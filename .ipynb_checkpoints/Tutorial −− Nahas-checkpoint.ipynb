{
 "cells": [
  {
   "cell_type": "markdown",
   "metadata": {
    "coq_kernel_metadata": {
     "auto_roll_back": true
    }
   },
   "source": [
    "## Your First Proof!\n",
    "\n",
    "We'll begin by proving the proposition:\n",
    "  \"for all things you could prove,\n",
    "   if you have a proof of it, then you have a proof of it.\"\n",
    "Okay, that's not that exciting but we can't print \"Hello, World\" in Coq..."
   ]
  },
  {
   "cell_type": "code",
   "execution_count": 1,
   "metadata": {
    "coq_kernel_metadata": {
     "auto_roll_back": true,
     "cell_id": "1b54806e34bc4964b897afc5f8c75e5c",
     "execution_id": "8093C14F67FF4DE191B62DA96AC8839D"
    }
   },
   "outputs": [
    {
     "data": {
      "text/html": [
       "\n",
       "<div class=\"coq_kernel_output_area\">\n",
       "    <pre></pre>\n",
       "</div>\n",
       "\n",
       "<div class=\"coq_kernel_rich_cell_output coq_kernel_status_message_area\" style=\"padding: 5px 0px;\">\n",
       "    <i class=\"fa-check fa text-success\"></i>\n",
       "    <span>Cell evaluated.</span>\n",
       "</div>\n",
       "\n",
       "<div class=\"coq_kernel_rich_cell_output coq_kernel_status_message_area coq_kernel_rolled_back_status_message\" style=\"padding: 5px 0px; display: none;\">\n",
       "    <i class=\"fa-exclamation-circle fa text-info\"></i>\n",
       "    <span>Cell rolled back.</span>\n",
       "</div>\n",
       "\n",
       "<div class=\"coq_kernel_rich_cell_output coq_kernel_roll_back_controls_area\" style=\"display: none; position: relative;\">\n",
       "    <button class=\"btn btn-default btn-xs coq_kernel_roll_back_button\" onclick=\"CoqKernel.roll_back(this)\">\n",
       "        <i class=\"fa-step-backward fa\"></i>\n",
       "        <span class=\"toolbar-btn-label\">Rollback cell</span>\n",
       "    </button>\n",
       "\n",
       "    <div style=\"display: inline-block; vertical-align: middle; padding-left: 0; padding-right: 0;\">\n",
       "      <input class=\"coq_kernel_auto_roll_back_checkbox\" type=\"checkbox\" value=\"\" onchange=\"CoqKernel.toggle_auto_roll_back(this)\" checked>\n",
       "      <label\">Auto rollback</label>\n",
       "    </div>\n",
       "</div>\n"
      ],
      "text/plain": []
     },
     "execution_count": 7,
     "metadata": {
      "coq_kernel_evaluated": true,
      "coq_kernel_execution_id": "8093C14F67FF4DE191B62DA96AC8839D",
      "coq_kernel_rolled_back": false
     },
     "output_type": "execute_result"
    }
   ],
   "source": [
    "Theorem my_first_proof : (forall A : Prop, A -> A).\n",
    "Proof.\n",
    "  intros A.\n",
    "  intros proof_of_A.\n",
    "  exact proof_of_A.\n",
    "Qed."
   ]
  },
  {
   "cell_type": "markdown",
   "metadata": {
    "coq_kernel_metadata": {
     "auto_roll_back": true
    }
   },
   "source": [
    "## Dissection of your first proof\n",
    "A Coq proof starts by stating what you're trying to prove. That is done by the command \"Theorem\". After the word \"Theorem\" comes the name of the theorem: \"my_first_proof\". If you want use this theorem later, you'll refer to it by that name. \n",
    "Then comes a colon, the statement of what you're trying to prove, and a period ('.').\n",
    "As you can see, every Coq command ends with a period.\n",
    "\n",
    "Let's skip over how we express what you want to prove and go on to the actual proof itself. \n",
    "That starts, unsurprisingly, with the command \"Proof\" (with its command-terminating period). Then comes the actual proof, which takes 3 steps. Lastly, the \"Qed\" command ends the proof.\n",
    "(NOTE: Instead of \"Theorem\", you may also see proofs that start with \"Lemma\", \"Remark\", \"Fact\", \"Corollary\", and \"Proposition\", which all mean the SAME thing. In my proofs, I only use \"Theorem\". Instead of \"Qed\", you may also see proofs that end with \"Admitted\" or \"Defined\", but these mean DIFFERENT things. Use \"Qed\" for now.)\n",
    "\n",
    "Coq uses 3 different \"languages\" and you can see them all here in this proof.\n",
    "- The \"vernacular\" language manages definitions and top-level interactions. Each of its commands starts with a capital letter: \"Theorem\", \"Proof\", and \"Qed\".\n",
    "- The \"tactics\" language is used to write proofs. Its commands start with a lower-case letter: \"intros\" and \"exact\".\n",
    "- The unnamed language of Coq terms is used to express what you want to prove. Its expressions use lots of operators and parentheses: \"(forall A : Prop, A -> A)\". (Technically, this language is a subset of the vernacular language, but it is useful to think of it as its own thing.)\n",
    "\n",
    "Now, let's take a look inside this proof! Since it probably has scrolled off the screen, I'll reproduce it."
   ]
  },
  {
   "cell_type": "code",
   "execution_count": 7,
   "metadata": {
    "coq_kernel_metadata": {
     "auto_roll_back": true,
     "cell_id": "2ef9e88b5be546bf88117a924e7cc51a",
     "execution_id": "9668A56CF06A4859B1664C1FAC3F0C15"
    }
   },
   "outputs": [
    {
     "data": {
      "text/html": [
       "\n",
       "<div class=\"coq_kernel_output_area\">\n",
       "    <pre></pre>\n",
       "</div>\n",
       "\n",
       "<div class=\"coq_kernel_rich_cell_output coq_kernel_status_message_area\" style=\"padding: 5px 0px;\">\n",
       "    <i class=\"fa-check fa text-success\"></i>\n",
       "    <span>Cell evaluated.</span>\n",
       "</div>\n",
       "\n",
       "<div class=\"coq_kernel_rich_cell_output coq_kernel_status_message_area coq_kernel_rolled_back_status_message\" style=\"padding: 5px 0px; display: none;\">\n",
       "    <i class=\"fa-exclamation-circle fa text-info\"></i>\n",
       "    <span>Cell rolled back.</span>\n",
       "</div>\n",
       "\n",
       "<div class=\"coq_kernel_rich_cell_output coq_kernel_roll_back_controls_area\" style=\"display: none; position: relative;\">\n",
       "    <button class=\"btn btn-default btn-xs coq_kernel_roll_back_button\" onclick=\"CoqKernel.roll_back(this)\">\n",
       "        <i class=\"fa-step-backward fa\"></i>\n",
       "        <span class=\"toolbar-btn-label\">Rollback cell</span>\n",
       "    </button>\n",
       "\n",
       "    <div style=\"display: inline-block; vertical-align: middle; padding-left: 0; padding-right: 0;\">\n",
       "      <input class=\"coq_kernel_auto_roll_back_checkbox\" type=\"checkbox\" value=\"\" onchange=\"CoqKernel.toggle_auto_roll_back(this)\" checked>\n",
       "      <label\">Auto rollback</label>\n",
       "    </div>\n",
       "</div>\n"
      ],
      "text/plain": []
     },
     "execution_count": 13,
     "metadata": {
      "coq_kernel_evaluated": true,
      "coq_kernel_execution_id": "9668A56CF06A4859B1664C1FAC3F0C15",
      "coq_kernel_rolled_back": false
     },
     "output_type": "execute_result"
    }
   ],
   "source": [
    "Theorem my_first_proof__again : (forall A : Prop, A -> A).\n",
    "Proof.\n",
    "  intros A.\n",
    "  intros proof_of_A.\n",
    "  exact proof_of_A.\n",
    "Qed."
   ]
  },
  {
   "cell_type": "markdown",
   "metadata": {
    "coq_kernel_metadata": {
     "auto_roll_back": true
    }
   },
   "source": [
    "## Seeing where you are in a proof\n",
    "\n",
    "CoqIDE and Proof General are valuable because they show you the state in the middle of your proof. They show what you have proven and what you still need to prove.\n",
    "\n",
    "Let's see the different states inside your first proof. Move your cursor (by clicking your mouse or using the arrow keys) over any line between \"Proof.\" and \"Qed.\". Now let's see the state at that point.\n",
    "In CoqIDE, there are three ways to do it: 1. From the menu bar, open the \"Navigation\" menu and select \"go to\" 2. In the tool bar, click on the 5th icon (a green arrow pointing at a yellow ball) 3. Use a keyboard combo. On my Mac, it's control-option-rightarrow.\n",
    "In Proof General: Do \"C-c C-Enter\" (press control-c and then control-Enter)\n",
    "In a different part of the screen you should see something like:\n",
    "```\n",
    "  A : Prop\n",
    "  proof_of_A : A\n",
    "  ============================\n",
    "   A\n",
    "```\n",
    "Everything above the bar is what you know to exist or have assumed to exist. These are called \"hypotheses\" and we refer to everything above the bar as \"the context\". Below the bar is what we are trying to prove. It is called \"the current subgoal\".\n",
    "\"The goal\" is the theorem we're trying to prove. A \"subgoal\" is what we are trying to prove at any point during the proof. We say \"current subgoal\" because during a proof we may have multiple things remaining to prove. For example, during a proof by induction, we will have one subgoal for the \"base case\" and another subgoal for the \"inductive case\". But we (usually) only work on one subgoal at a time and the one we're working on is called \"the current subgoal\".\n",
    "\n",
    "Now I want to explain each tactic and how it helps prove this theorem. The proof has probably scrolled off your screen again, so here it is a third time."
   ]
  },
  {
   "cell_type": "code",
   "execution_count": 13,
   "metadata": {
    "coq_kernel_metadata": {
     "auto_roll_back": true,
     "cell_id": "6889cf2a3e45479197aa65d1027268e9",
     "execution_id": "0458C896C2B44DC49C816655414AF0ED"
    }
   },
   "outputs": [
    {
     "data": {
      "text/html": [
       "\n",
       "<div class=\"coq_kernel_output_area\">\n",
       "    <pre></pre>\n",
       "</div>\n",
       "\n",
       "<div class=\"coq_kernel_rich_cell_output coq_kernel_status_message_area\" style=\"padding: 5px 0px;\">\n",
       "    <i class=\"fa-check fa text-success\"></i>\n",
       "    <span>Cell evaluated.</span>\n",
       "</div>\n",
       "\n",
       "<div class=\"coq_kernel_rich_cell_output coq_kernel_status_message_area coq_kernel_rolled_back_status_message\" style=\"padding: 5px 0px; display: none;\">\n",
       "    <i class=\"fa-exclamation-circle fa text-info\"></i>\n",
       "    <span>Cell rolled back.</span>\n",
       "</div>\n",
       "\n",
       "<div class=\"coq_kernel_rich_cell_output coq_kernel_roll_back_controls_area\" style=\"display: none; position: relative;\">\n",
       "    <button class=\"btn btn-default btn-xs coq_kernel_roll_back_button\" onclick=\"CoqKernel.roll_back(this)\">\n",
       "        <i class=\"fa-step-backward fa\"></i>\n",
       "        <span class=\"toolbar-btn-label\">Rollback cell</span>\n",
       "    </button>\n",
       "\n",
       "    <div style=\"display: inline-block; vertical-align: middle; padding-left: 0; padding-right: 0;\">\n",
       "      <input class=\"coq_kernel_auto_roll_back_checkbox\" type=\"checkbox\" value=\"\" onchange=\"CoqKernel.toggle_auto_roll_back(this)\" checked>\n",
       "      <label\">Auto rollback</label>\n",
       "    </div>\n",
       "</div>\n"
      ],
      "text/plain": []
     },
     "execution_count": 19,
     "metadata": {
      "coq_kernel_evaluated": true,
      "coq_kernel_execution_id": "0458C896C2B44DC49C816655414AF0ED",
      "coq_kernel_rolled_back": false
     },
     "output_type": "execute_result"
    }
   ],
   "source": [
    "Theorem my_first_proof__again__again : (forall A : Prop, A -> A).\n",
    "Proof.\n",
    "  intros A.\n",
    "  intros proof_of_A.\n",
    "  exact proof_of_A.\n",
    "Qed."
   ]
  },
  {
   "cell_type": "markdown",
   "metadata": {
    "coq_kernel_metadata": {
     "auto_roll_back": true
    }
   },
   "source": [
    "## Your first Tactic!\n",
    "\n",
    "Our starting state is:\n",
    "```\n",
    "  ============================\n",
    "   forall A : Prop, A -> A\n",
    "```\n",
    "\n",
    "Our goal (and current subgoal) starts with \"forall A : Prop,...\". In English, this would be \"For all A such that A is a Prop, ...\". One way to prove a statement like \"For all x such that x is an integer, ...\" is to assume we have an arbitrary integer x and show that the rest of the statement holds for x. The first tactic \"intros\" does exactly that.\n",
    "Thus, every time I see \"intros A.\", I think \"assume A\".\n",
    "The tactic \"intros\" takes \"forall\" off the front of the subgoal, changes its variable into a hypothesis in the context, and names the hypothesis. Recall, the context holds all things we've proven or, as in this case, assumed to be proven. We named the new hypothesis \"A\", which is the same as the name of the variable removed from the subgoal. You should always keep the same name, if possible.\n",
    "\n",
    "** RULE: If the subgoal starts with \"(forall <name> : <type>, ...\" Then use tactic \"intros <name>.\". **\n",
    "\n",
    "The state after \"intros A.\" is:\n",
    "```\n",
    "   A : Prop\n",
    "  ============================\n",
    "   A -> A\n",
    "```\n",
    "In Coq, \"A : Prop\" means you have something named \"A\" of type \"Prop\". In the future you will see \"0 : nat\" which means \"0\" of type \"nat\" (natural numbers) and you will see \"true : bool\" which means \"true\" of type \"bool\" (boolean or true-false values). In some places, you will see \"A B C : Prop\", which means \"A\", \"B\", and \"C\" all have type \"Prop\".\n",
    "The type \"Prop\" is easier to explain after we've executed the next command. The next tactic is \"intros\", which we said works when \"forall\" is at the front of the subgoal. It works here because \"->\" is actually shorthand for \"forall\". \"B -> C\" really means \"(forall something_of_type_B : B, C)\". So, \"A->A\" is \"(forall something_of_type_A : A, A)\". The result is that \"intros proof_of_A.\" removes that hidden \"forall\" and moves the unnamed variable of type A to the hypothesis named \"proof_of_A\".\n",
    "\n",
    "RULE: If the subgoal starts with \"<type> -> ...\" Then use tactic \"intros <name>.\".\n",
    "\n",
    "The state after the second \"intros\" command, looks like:\n",
    "```\n",
    "  A : Prop\n",
    "  proof_of_A : A\n",
    "  ============================\n",
    "   A\n",
    "```\n",
    "Now, we can talk about \"Prop\". \"proof_of_A\" is a proof. It has type \"A\", which means that \"A\" is something that could have a proof. In logic, that is called a \"proposition\". Since the proposition \"A\" has type \"Prop\", \"Prop\" must be the type of propositions.\n",
    "Prop is an important concept, so let's see some propositions:\n",
    "\n",
    "```\n",
    "(forall x : nat, (x < 5) -> (x < 6))\n",
    "(forall x y : nat, x + y = y + x)\n",
    "(forall A : Prop, A -> A)\n",
    "```\n",
    "\n",
    "All of these have type \"Prop\". They can all can have proofs. That last Prop should look familiar - it's what we're trying to prove right now!\n",
    "IT IS VITALLY IMPORTANT THAT YOU DO NOT THINK OF A Prop AS BEING EITHER \"TRUE\" OR \"FALSE\". A Prop either has a proof or it does not have a proof. Godel shattered mathematics by showing that some true propositions can never proven. Tarski went further and showed that some propositions cannot even be said to be true or false!!! Coq deals with these obstacles in modern mathematics by restricting Prop to being either proven or unproven, rather than true or false.\n",
    "\n",
    "Now that I've got that across, let's go and finish our first proof. After the second \"intros\" tactic, our subgoal is \"A\", which means \"we need something of type A\" or, because A is a proposition, \"we need a proof of A\". Now, the previous command moved a proof of A into the context and called it \"proof_of_A\". So, an hypothesis in our context (which are all things we know to exist) has a type that matches our subgoal (which is what we want to create), so we have an exact match. The tactic \"exact proof_of_A\" solves the subgoal (and the proof).\n",
    "Ta-da! Your first proof!\n",
    "\n",
    "RULE: If the subgoal matches an hypothesis, Then use tactic \"exact <hyp_name>.\".\n",
    "\n",
    "Okay, let's try something more complicated!\n",
    "\n",
    "## Proofs with -> Proof going forward"
   ]
  },
  {
   "cell_type": "code",
   "execution_count": 19,
   "metadata": {
    "coq_kernel_metadata": {
     "auto_roll_back": true,
     "cell_id": "5f3002ed070b4f7a96a8c73859d42587",
     "execution_id": "DFB5CACA10DF4BA99A7B7E62DEA1C620"
    }
   },
   "outputs": [
    {
     "data": {
      "text/html": [
       "\n",
       "<div class=\"coq_kernel_output_area\">\n",
       "    <pre></pre>\n",
       "</div>\n",
       "\n",
       "<div class=\"coq_kernel_rich_cell_output coq_kernel_status_message_area\" style=\"padding: 5px 0px;\">\n",
       "    <i class=\"fa-check fa text-success\"></i>\n",
       "    <span>Cell evaluated.</span>\n",
       "</div>\n",
       "\n",
       "<div class=\"coq_kernel_rich_cell_output coq_kernel_status_message_area coq_kernel_rolled_back_status_message\" style=\"padding: 5px 0px; display: none;\">\n",
       "    <i class=\"fa-exclamation-circle fa text-info\"></i>\n",
       "    <span>Cell rolled back.</span>\n",
       "</div>\n",
       "\n",
       "<div class=\"coq_kernel_rich_cell_output coq_kernel_roll_back_controls_area\" style=\"display: none; position: relative;\">\n",
       "    <button class=\"btn btn-default btn-xs coq_kernel_roll_back_button\" onclick=\"CoqKernel.roll_back(this)\">\n",
       "        <i class=\"fa-step-backward fa\"></i>\n",
       "        <span class=\"toolbar-btn-label\">Rollback cell</span>\n",
       "    </button>\n",
       "\n",
       "    <div style=\"display: inline-block; vertical-align: middle; padding-left: 0; padding-right: 0;\">\n",
       "      <input class=\"coq_kernel_auto_roll_back_checkbox\" type=\"checkbox\" value=\"\" onchange=\"CoqKernel.toggle_auto_roll_back(this)\" checked>\n",
       "      <label\">Auto rollback</label>\n",
       "    </div>\n",
       "</div>\n"
      ],
      "text/plain": []
     },
     "execution_count": 28,
     "metadata": {
      "coq_kernel_evaluated": true,
      "coq_kernel_execution_id": "DFB5CACA10DF4BA99A7B7E62DEA1C620",
      "coq_kernel_rolled_back": false
     },
     "output_type": "execute_result"
    }
   ],
   "source": [
    "Theorem forward_small : (forall A B : Prop, A -> (A->B) -> B).\n",
    "Proof.\n",
    " intros A.\n",
    " intros B.\n",
    " intros proof_of_A.\n",
    " intros A_implies_B.\n",
    " pose (proof_of_B := A_implies_B proof_of_A).\n",
    " exact proof_of_B.\n",
    "Qed."
   ]
  },
  {
   "cell_type": "markdown",
   "metadata": {
    "coq_kernel_metadata": {
     "auto_roll_back": true
    }
   },
   "source": [
    "Look at the tactics used in this proof. (The tactics are the commands between \"Proof.\" and \"Qed.\") You should be familiar with \"intros\" and \"exact\". The new one is \"pose\". We're going to use \"pose\" in a forward proof. A \"forward proof\" creates larger and more complex hypotheses in the context until one matches the goal. Later, we'll see a \"backward proof\", which breaks the goal into smaller and simpler subgoals until they're trivial.\n",
    "\n",
    "In our current proof, the state right before the \"pose\" command is:\n",
    "```\n",
    "  A : Prop\n",
    "  B : Prop\n",
    "  proof_of_A : A\n",
    "  A_implies_B : A -> B\n",
    "  ============================\n",
    "  B\n",
    "```\n",
    "The subgoal is \"B\", so we're trying to construct a proof of B.\n",
    "In the context we have \"A_implies_B : A->B\". \"A->B\", if you recall, is equivalent to \"(forall proof_of_A : A, B)\", that is, for every proof of A, we have a proof of B.\n",
    "\n",
    "It happens that we have a proof of A in our context and it's called (unoriginally) \"proof_of_A\". The expression \"A_implies_B proof_of_A\" computes the proof of B that is associated with that particular proof of A.\n",
    "The command \"pose\" assigns the result of \"A_implies_B proof_of_A\" to the new hypothesis \"proof_of_B\". (Note the annoying extra set of parentheses that are necessary around the arguments to the \"pose\" command.)\n",
    "\n",
    "** RULE: If you have an hypothesis \"<hyp_name>: <type1> -> <type2> -> ... -> <result_type>\" OR an hypothesis \"<hyp_name>: (forall <obj1>:<type1>, (forall <obj2>:<type2>, ... <result_type> ...))\" OR any combination of \"->\" and \"forall\", AND you have hypotheses of type \"type1\", \"type2\"..., Then use tactic \"pose\" to create something of type \"result_type\". **\n",
    "\n",
    "The proof ends with the \"exact\" command. We could have ended with \"exact (A_implies_B proof_of_A)\", but I think it is easier to read when it ends with with \"exact proof_of_B.\"\n",
    "\n",
    "This was a forward proof. Let's see a backward one.\n",
    "## Proof going backward"
   ]
  },
  {
   "cell_type": "code",
   "execution_count": 28,
   "metadata": {
    "coq_kernel_metadata": {
     "auto_roll_back": true,
     "cell_id": "83f70157bef346959f0fcc5eec15c270",
     "execution_id": "F8CF6060487B4A269A349CB469FE6349"
    }
   },
   "outputs": [
    {
     "data": {
      "text/html": [
       "\n",
       "<div class=\"coq_kernel_output_area\">\n",
       "    <pre></pre>\n",
       "</div>\n",
       "\n",
       "<div class=\"coq_kernel_rich_cell_output coq_kernel_status_message_area\" style=\"padding: 5px 0px;\">\n",
       "    <i class=\"fa-check fa text-success\"></i>\n",
       "    <span>Cell evaluated.</span>\n",
       "</div>\n",
       "\n",
       "<div class=\"coq_kernel_rich_cell_output coq_kernel_status_message_area coq_kernel_rolled_back_status_message\" style=\"padding: 5px 0px; display: none;\">\n",
       "    <i class=\"fa-exclamation-circle fa text-info\"></i>\n",
       "    <span>Cell rolled back.</span>\n",
       "</div>\n",
       "\n",
       "<div class=\"coq_kernel_rich_cell_output coq_kernel_roll_back_controls_area\" style=\"display: none; position: relative;\">\n",
       "    <button class=\"btn btn-default btn-xs coq_kernel_roll_back_button\" onclick=\"CoqKernel.roll_back(this)\">\n",
       "        <i class=\"fa-step-backward fa\"></i>\n",
       "        <span class=\"toolbar-btn-label\">Rollback cell</span>\n",
       "    </button>\n",
       "\n",
       "    <div style=\"display: inline-block; vertical-align: middle; padding-left: 0; padding-right: 0;\">\n",
       "      <input class=\"coq_kernel_auto_roll_back_checkbox\" type=\"checkbox\" value=\"\" onchange=\"CoqKernel.toggle_auto_roll_back(this)\" checked>\n",
       "      <label\">Auto rollback</label>\n",
       "    </div>\n",
       "</div>\n"
      ],
      "text/plain": []
     },
     "execution_count": 35,
     "metadata": {
      "coq_kernel_evaluated": true,
      "coq_kernel_execution_id": "F8CF6060487B4A269A349CB469FE6349",
      "coq_kernel_rolled_back": false
     },
     "output_type": "execute_result"
    }
   ],
   "source": [
    "Theorem backward_small : (forall A B : Prop, A -> (A->B)->B).\n",
    "Proof.\n",
    " intros A B.\n",
    " intros proof_of_A A_implies_B.\n",
    " refine (A_implies_B _).\n",
    "   exact proof_of_A.\n",
    "Qed."
   ]
  },
  {
   "cell_type": "markdown",
   "metadata": {
    "coq_kernel_metadata": {
     "auto_roll_back": true
    }
   },
   "source": [
    "Notice that we're trying to prove the exact same theorem as before. However, I'm going to show a \"backward proof\" that breaks the goal into smaller and simpler subgoals. We will start this proof trying to find a proof of B, but then change that to find the simpler proof of A.\n",
    "\n",
    "First, notice that the 4 \"intros\" commands from our last proof have changed to just 2. The \"intros\" command can take any number of arguments, each argument stripping a forall (or ->) off the front of the current subgoal. (WARNING: Don't use \"intros\" with no arguments at all - it doesn't do what you'd expect!) We could have combined all the \"intros\" into a single command, but I think it is cleaner to introduce the Props and the derived values separately.\n",
    "\n",
    "The state right before the \"refine\" command is:\n",
    "```\n",
    "  A : Prop\n",
    "  B : Prop\n",
    "  proof_of_A : A\n",
    "  A_implies_B : A -> B\n",
    "  ============================\n",
    "   B\n",
    "```\n",
    "The subgoal is the Prop \"B\", so we're trying to construct a proof of B.\n",
    "\n",
    "We know that \"A_implies_B\" can create a proof of B, given a proof of A. We saw the syntax for it was \"A_implies_B something_of_type_A\". The command \"refine (A_implies_B _).\" let's us create the proof of B without specifying the argument of type A. (The parentheses are necessary for it to parse correctly.) \n",
    "\n",
    "This solves our current subgoal of type B and the unspecified argument - represented by the underscore (\"_\") - become a new \"child\" subgoal.\n",
    "```\n",
    "  A : Prop\n",
    "  B : Prop\n",
    "  proof_of_A : A\n",
    "  A_implies_B : A -> B\n",
    "  ============================\n",
    "   A\n",
    " ```  \n",
    "In this case, the child subgoal has us trying to find a proof of A. Since it's a child subgoal, we indent the tactics used to solve it. And the tactic to solve it is our well worn \"exact\".\n",
    "\n",
    "** RULE: If you have subgoal \"<goal_type>\" AND have hypothesis \"<hyp_name>: <type1> -> <type2> -> ... -> <typeN> -> <goal_type>\", Then use tactic \"refine (<hyp_name> _ ...).\" with N underscores. **\n",
    "\n",
    "The important thing to take away from this proof is that we changed the subgoal. That's what happens in a backward proof. You keep changing the subgoal to make it smaller and simpler. \"A\" doesn't seem much smaller or simpler than \"B\", but it was.\n",
    "Now, let's rev this up...\n",
    "\n",
    "## Proof going backward (large)"
   ]
  },
  {
   "cell_type": "code",
   "execution_count": 35,
   "metadata": {
    "coq_kernel_metadata": {
     "auto_roll_back": true,
     "cell_id": "a969b4dad54f4f02b230c5975239e801",
     "execution_id": "36A97E6077A44A9389942B1C0EBF328D"
    }
   },
   "outputs": [
    {
     "data": {
      "text/html": [
       "\n",
       "<div class=\"coq_kernel_output_area\">\n",
       "    <pre></pre>\n",
       "</div>\n",
       "\n",
       "<div class=\"coq_kernel_rich_cell_output coq_kernel_status_message_area\" style=\"padding: 5px 0px;\">\n",
       "    <i class=\"fa-check fa text-success\"></i>\n",
       "    <span>Cell evaluated.</span>\n",
       "</div>\n",
       "\n",
       "<div class=\"coq_kernel_rich_cell_output coq_kernel_status_message_area coq_kernel_rolled_back_status_message\" style=\"padding: 5px 0px; display: none;\">\n",
       "    <i class=\"fa-exclamation-circle fa text-info\"></i>\n",
       "    <span>Cell rolled back.</span>\n",
       "</div>\n",
       "\n",
       "<div class=\"coq_kernel_rich_cell_output coq_kernel_roll_back_controls_area\" style=\"display: none; position: relative;\">\n",
       "    <button class=\"btn btn-default btn-xs coq_kernel_roll_back_button\" onclick=\"CoqKernel.roll_back(this)\">\n",
       "        <i class=\"fa-step-backward fa\"></i>\n",
       "        <span class=\"toolbar-btn-label\">Rollback cell</span>\n",
       "    </button>\n",
       "\n",
       "    <div style=\"display: inline-block; vertical-align: middle; padding-left: 0; padding-right: 0;\">\n",
       "      <input class=\"coq_kernel_auto_roll_back_checkbox\" type=\"checkbox\" value=\"\" onchange=\"CoqKernel.toggle_auto_roll_back(this)\" checked>\n",
       "      <label\">Auto rollback</label>\n",
       "    </div>\n",
       "</div>\n"
      ],
      "text/plain": []
     },
     "execution_count": 43,
     "metadata": {
      "coq_kernel_evaluated": true,
      "coq_kernel_execution_id": "36A97E6077A44A9389942B1C0EBF328D",
      "coq_kernel_rolled_back": false
     },
     "output_type": "execute_result"
    }
   ],
   "source": [
    "Theorem backward_large : (forall A B C : Prop, A -> (A->B) -> (B->C) -> C).\n",
    "Proof.\n",
    " intros A B C.\n",
    " intros proof_of_A A_implies_B B_implies_C.\n",
    " refine (B_implies_C _).\n",
    "   refine (A_implies_B _).\n",
    "     exact proof_of_A.\n",
    "Qed."
   ]
  },
  {
   "cell_type": "markdown",
   "metadata": {
    "coq_kernel_metadata": {
     "auto_roll_back": true
    }
   },
   "source": [
    "Look at the sequence of tactics. It starts with a pair of \"intros\"s. That's followed by the new kid on the block \"refine\". We finish with \"exact\". That pattern will start to look familiar very soon.\n",
    "\n",
    "The state before the first \"refine\" is:\n",
    "```\n",
    "  A : Prop\n",
    "  B : Prop\n",
    "  C : Prop\n",
    "  proof_of_A : A\n",
    "  A_implies_B : A -> B\n",
    "  B_implies_C : B -> C\n",
    "  ============================\n",
    "   C\n",
    " ```\n",
    "Our current subgoal is \"C\" and \"C\" is at the end of \"B -> C\", so we can do \"refine (B_implies_C _)\". That command creates a new child subgoal \"B\".\n",
    "\n",
    "Then, our subgoal is \"B\" and \"B\" is at the end of \"A -> B\", so \"refine (A_implies_B _)\" creates a new child subgoal of \"A\".\n",
    "Then we finish with \"exact proof_of_A.\". Easy as pie.\n",
    "\n",
    "Let's do a really big example!\n",
    "\n",
    "## Proof going backward (huge)"
   ]
  },
  {
   "cell_type": "code",
   "execution_count": 43,
   "metadata": {
    "coq_kernel_metadata": {
     "auto_roll_back": true,
     "cell_id": "de1945b84bc64a3a9c4548dafd76a69b",
     "execution_id": "E75DF35664A5485A87118AFEEE521CAB"
    }
   },
   "outputs": [
    {
     "data": {
      "text/html": [
       "\n",
       "<div class=\"coq_kernel_output_area\">\n",
       "    <pre></pre>\n",
       "</div>\n",
       "\n",
       "<div class=\"coq_kernel_rich_cell_output coq_kernel_status_message_area\" style=\"padding: 5px 0px;\">\n",
       "    <i class=\"fa-check fa text-success\"></i>\n",
       "    <span>Cell evaluated.</span>\n",
       "</div>\n",
       "\n",
       "<div class=\"coq_kernel_rich_cell_output coq_kernel_status_message_area coq_kernel_rolled_back_status_message\" style=\"padding: 5px 0px; display: none;\">\n",
       "    <i class=\"fa-exclamation-circle fa text-info\"></i>\n",
       "    <span>Cell rolled back.</span>\n",
       "</div>\n",
       "\n",
       "<div class=\"coq_kernel_rich_cell_output coq_kernel_roll_back_controls_area\" style=\"display: none; position: relative;\">\n",
       "    <button class=\"btn btn-default btn-xs coq_kernel_roll_back_button\" onclick=\"CoqKernel.roll_back(this)\">\n",
       "        <i class=\"fa-step-backward fa\"></i>\n",
       "        <span class=\"toolbar-btn-label\">Rollback cell</span>\n",
       "    </button>\n",
       "\n",
       "    <div style=\"display: inline-block; vertical-align: middle; padding-left: 0; padding-right: 0;\">\n",
       "      <input class=\"coq_kernel_auto_roll_back_checkbox\" type=\"checkbox\" value=\"\" onchange=\"CoqKernel.toggle_auto_roll_back(this)\" checked>\n",
       "      <label\">Auto rollback</label>\n",
       "    </div>\n",
       "</div>\n"
      ],
      "text/plain": []
     },
     "execution_count": 52,
     "metadata": {
      "coq_kernel_evaluated": true,
      "coq_kernel_execution_id": "E75DF35664A5485A87118AFEEE521CAB",
      "coq_kernel_rolled_back": false
     },
     "output_type": "execute_result"
    }
   ],
   "source": [
    "Theorem backward_huge : (forall A B C : Prop, A -> (A->B) -> (A->B->C) -> C).\n",
    "Proof.\n",
    " intros A B C.\n",
    " intros proof_of_A A_implies_B A_imp_B_imp_C.\n",
    " refine (A_imp_B_imp_C _ _).\n",
    "   exact proof_of_A.\n",
    "\n",
    "   refine (A_implies_B _).\n",
    "     exact proof_of_A.\n",
    "Qed."
   ]
  },
  {
   "cell_type": "markdown",
   "metadata": {
    "coq_kernel_metadata": {
     "auto_roll_back": true
    }
   },
   "source": [
    "Yes, something is different here! We have our starting \"intros\"s. We have a \"refine\". But then the commands are indented and we have two \"exact\"s!\n",
    "\n",
    "The state before the first refine is:\n",
    "```\n",
    "  A : Prop\n",
    "  B : Prop\n",
    "  C : Prop\n",
    "  proof_of_A : A\n",
    "  A_implies_B : A -> B\n",
    "  A_imp_B_imp_C : A -> B -> C\n",
    "  ============================\n",
    "   C\n",
    "```  \n",
    "Now, we have a subgoal \"C\" and \"C\" is at the end of \"A->B->C\", so we can do \"refine (A_imp_B_imp_C _ )\". Notice that \"A_imp_B_imp_C\" has two implication arrows (the \"->\"s), so refine requires two underscores and creates two subgoals - one for something of type A and another for something of type B.\n",
    "\n",
    "I hinted that a formal proof is actually written in a programming language. We see that very clearly here. \"A_imp_B_imp_C\" is a function that takes two arguments, one of type A and one of type B, and returns a value of type C. The type of the function is \"A->B->C\" and a call to it looks like \"A_imp_B_imp_C something_of_type_A something_of_type_B\". Notice that there are no parentheses needed - you just put the arguments next to the name of the function. For example, \"function arg1 arg2\". This is a style common in functional programming languages. For those familiar with imperative languages, like C, C++, and Java, it will feel odd not to have parentheses and commas to denote the arguments.\n",
    "\n",
    "The first \"refine\" created two subgoals. CoqIDE and Proof General will tell you that two subgoals exist, but they will only show you the context for the current subgoal.\n",
    "\n",
    "In the text of the proof, we represent that \"refine\" created multiple subgoals by formatting them like an \"if-then-else\" or \"switch/match\" statement in a programming language. The proofs for each subgoal get indented and we use a blank line to separate them.\n",
    "The proof of the first subgoal is trivial. We need an \"A\" and we have \"proof_of_A : A\". \"exact proof_of_A\" completes the subgoal. We now put the blank line in the proof to show we're moving on to the next subgoal.\n",
    "\n",
    "The rest of the proof we've seen before. The proof for it is indented to show it's the result of a \"branch\" in the proof created by \"refine (A_imp_B_impC _ )\".\n",
    "\n",
    "Having seen this complex theorem proved with a backward proof, let's see what it would look like with a forward one.\n",
    "## Proof going forward (huge)"
   ]
  },
  {
   "cell_type": "code",
   "execution_count": 52,
   "metadata": {
    "coq_kernel_metadata": {
     "auto_roll_back": true,
     "cell_id": "ecc6e1e69f294156a484c126bddc9ed7",
     "execution_id": "17F302A5FCC44C8395598385062A3584"
    }
   },
   "outputs": [
    {
     "data": {
      "text/html": [
       "\n",
       "<div class=\"coq_kernel_output_area\">\n",
       "    <pre>(fun (A B C : Prop) (proof_of_A : A) (A_implies_B : A -> B)\n",
       "   (A_imp_B_imp_C : A -> B -> C) =>\n",
       " let proof_of_B : B := A_implies_B proof_of_A in\n",
       " let proof_of_C : C := A_imp_B_imp_C proof_of_A proof_of_B in proof_of_C)</pre>\n",
       "</div>\n",
       "\n",
       "<div class=\"coq_kernel_rich_cell_output coq_kernel_status_message_area\" style=\"padding: 5px 0px;\">\n",
       "    <i class=\"fa-check fa text-success\"></i>\n",
       "    <span>Cell evaluated.</span>\n",
       "</div>\n",
       "\n",
       "<div class=\"coq_kernel_rich_cell_output coq_kernel_status_message_area coq_kernel_rolled_back_status_message\" style=\"padding: 5px 0px; display: none;\">\n",
       "    <i class=\"fa-exclamation-circle fa text-info\"></i>\n",
       "    <span>Cell rolled back.</span>\n",
       "</div>\n",
       "\n",
       "<div class=\"coq_kernel_rich_cell_output coq_kernel_roll_back_controls_area\" style=\"display: none; position: relative;\">\n",
       "    <button class=\"btn btn-default btn-xs coq_kernel_roll_back_button\" onclick=\"CoqKernel.roll_back(this)\">\n",
       "        <i class=\"fa-step-backward fa\"></i>\n",
       "        <span class=\"toolbar-btn-label\">Rollback cell</span>\n",
       "    </button>\n",
       "\n",
       "    <div style=\"display: inline-block; vertical-align: middle; padding-left: 0; padding-right: 0;\">\n",
       "      <input class=\"coq_kernel_auto_roll_back_checkbox\" type=\"checkbox\" value=\"\" onchange=\"CoqKernel.toggle_auto_roll_back(this)\" checked>\n",
       "      <label\">Auto rollback</label>\n",
       "    </div>\n",
       "</div>\n"
      ],
      "text/plain": [
       "(fun (A B C : Prop) (proof_of_A : A) (A_implies_B : A -> B)\n",
       "   (A_imp_B_imp_C : A -> B -> C) =>\n",
       " let proof_of_B : B := A_implies_B proof_of_A in\n",
       " let proof_of_C : C := A_imp_B_imp_C proof_of_A proof_of_B in proof_of_C)"
      ]
     },
     "execution_count": 61,
     "metadata": {
      "coq_kernel_evaluated": true,
      "coq_kernel_execution_id": "17F302A5FCC44C8395598385062A3584",
      "coq_kernel_rolled_back": false
     },
     "output_type": "execute_result"
    }
   ],
   "source": [
    "Theorem forward_huge : (forall A B C : Prop, A -> (A->B) -> (A->B->C) -> C).\n",
    "Proof.\n",
    " intros A B C.\n",
    " intros proof_of_A A_implies_B A_imp_B_imp_C.\n",
    " pose (proof_of_B := A_implies_B proof_of_A).\n",
    " pose (proof_of_C := A_imp_B_imp_C proof_of_A proof_of_B).\n",
    " exact proof_of_C.\n",
    "Show Proof.\n",
    "Qed."
   ]
  },
  {
   "cell_type": "markdown",
   "metadata": {
    "coq_kernel_metadata": {
     "auto_roll_back": true
    }
   },
   "source": [
    "This is the same theorem as before, except it has a forward proof instead of a backward one.\n",
    "In this proof, we can see the programming language underneath the proof. \"A_implies_B\" is a function with type \"A->B\", so when it is call with argument \"proof_of_A\", it generates a proof of B. The \"pose\" command assigns the resulting value to the (unimaginative) name \"proof_of_B\".\n",
    "Likewise, \"A_imp_B_imp_C\" is a function with type \"A->B->C\". Called with \"proof_of_A\" and \"proof_of_B\", it produces a proof of C which becomes the hypothesis \"proof_of_C\".\n",
    "\n",
    "There is a new vernacular command at the end: \"Show Proof\". If you put your cursor right after it and press \"control-option-right_arrow\" (in CoqIDE) or \"C-C C-Enter\" (in Proof General), you'll see the actual code for the proof. It looks like this:\n",
    "```\n",
    "  (fun (A B C : Prop)\n",
    "       (proof_of_A : A) (A_implies_B : A -> B) (A_imp_B_imp_C : A -> B -> C)\n",
    "   =>\n",
    "     let proof_of_B := A_implies_B proof_of_A in\n",
    "     let proof_of_C := A_imp_B_imp_C proof_of_A proof_of_B in\n",
    "       proof_of_C)\n",
    "       ```\n",
    "I formatted this version so that the correspondence to the proof is clearer. The \"intros\" commands declare the parameters for the function. \"pose\" declares constant values in the function. Lastly, the \"exact\" command is used to return the result of the function. As we go, you'll see the tight relationship in Coq between proofs and code.\n",
    "\n",
    "At this point, I want to emphasize that Coq proofs are not normally this tedious or verbose. The proofs I've shown and the proofs I will show are demonstrating the mechanics of how Coq works. I'm using simple familiar types to make the mechanics' operations clear to you. Coq's tactic language contains commands for automatic theorem proving and for defining macros. Almost all the proofs in this tutorial are simple enough to dispatch with a single Coq tactic. But when you prove more complicated statements, you'll need all the commands I'm teaching in this tutorial.\n",
    "This helps explain why most Coq proofs are backwards. Once a goal has been transformed into simple enough subgoals, those subgoals can each be proved by automation.\n",
    "\n",
    "So far, we've only worked with proofs, propositions, and Prop. Let's add some more types!\n",
    "\n",
    "## true and false vs. True and False\n",
    "\n",
    "The vernacular command \"Inductive\" lets you create a new type. I wanted to introduce the boolean type, which has two values: \"true\" and \"false\". The problem is that in addition to \"true\" and \"false\", Coq has two other entities named \"True\" and \"False\", where the first letter is capitalized. To keep the differences straight in your mind, I'm going to introduce them to you all at once."
   ]
  },
  {
   "cell_type": "markdown",
   "metadata": {
    "coq_kernel_metadata": {
     "auto_roll_back": true,
     "cell_id": "5614177bbf3045f1848d6dd3b8572d7d",
     "execution_id": "2B8DD85C2ACC449087A723CC030CE752"
    }
   },
   "source": [
    "```\n",
    "Inductive False : Prop := .\n",
    "\n",
    "Inductive True : Prop :=\n",
    "  | I : True.\n",
    "\n",
    "Inductive bool : Set :=\n",
    "  | true : bool\n",
    "  | false : bool.\n",
    "  ```"
   ]
  },
  {
   "cell_type": "markdown",
   "metadata": {
    "coq_kernel_metadata": {
     "auto_roll_back": true
    }
   },
   "source": [
    "Capital-F \"False\" is a Prop with no proofs.\n",
    "Capital-T \"True\" is a Prop that has a single proof called \"I\". (That's a capital-I, not a number 1.)\n",
    "Lastly, \"bool\" is a Set and \"bool\" has two elements: lower-case-t \"true\" and lower-case-f \"false\".\n",
    "\n",
    "I find these names confusing. Recall that \"Prop\"s are things that may have a proof. So I think capital-T \"True\" and capital-F \"False\" should have been named \"Provable\" and \"Unprovable\" (or \"AlwaysProvable\" and \"NeverProvable\"). The lower-case ones act like what you're accustomed to.\n",
    "Since we've been playing with Props, let's do some proofs with (the badly named) \"True\" and \"False\" and we'll come back to the lower-case \"true\" and \"false\" later.\n",
    "\n",
    "## Capital-T True and Capital-F False\n",
    "### True is provable"
   ]
  },
  {
   "cell_type": "code",
   "execution_count": 61,
   "metadata": {
    "coq_kernel_metadata": {
     "auto_roll_back": true,
     "cell_id": "7c066900a71847c2b6d99728bb62f733",
     "execution_id": "A66FBC0BF95749BCB48826475A1FF4C0"
    }
   },
   "outputs": [
    {
     "data": {
      "text/html": [
       "\n",
       "<div class=\"coq_kernel_output_area\">\n",
       "    <pre></pre>\n",
       "</div>\n",
       "\n",
       "<div class=\"coq_kernel_rich_cell_output coq_kernel_status_message_area\" style=\"padding: 5px 0px;\">\n",
       "    <i class=\"fa-check fa text-success\"></i>\n",
       "    <span>Cell evaluated.</span>\n",
       "</div>\n",
       "\n",
       "<div class=\"coq_kernel_rich_cell_output coq_kernel_status_message_area coq_kernel_rolled_back_status_message\" style=\"padding: 5px 0px; display: none;\">\n",
       "    <i class=\"fa-exclamation-circle fa text-info\"></i>\n",
       "    <span>Cell rolled back.</span>\n",
       "</div>\n",
       "\n",
       "<div class=\"coq_kernel_rich_cell_output coq_kernel_roll_back_controls_area\" style=\"display: none; position: relative;\">\n",
       "    <button class=\"btn btn-default btn-xs coq_kernel_roll_back_button\" onclick=\"CoqKernel.roll_back(this)\">\n",
       "        <i class=\"fa-step-backward fa\"></i>\n",
       "        <span class=\"toolbar-btn-label\">Rollback cell</span>\n",
       "    </button>\n",
       "\n",
       "    <div style=\"display: inline-block; vertical-align: middle; padding-left: 0; padding-right: 0;\">\n",
       "      <input class=\"coq_kernel_auto_roll_back_checkbox\" type=\"checkbox\" value=\"\" onchange=\"CoqKernel.toggle_auto_roll_back(this)\" checked>\n",
       "      <label\">Auto rollback</label>\n",
       "    </div>\n",
       "</div>\n"
      ],
      "text/plain": []
     },
     "execution_count": 64,
     "metadata": {
      "coq_kernel_evaluated": true,
      "coq_kernel_execution_id": "A66FBC0BF95749BCB48826475A1FF4C0",
      "coq_kernel_rolled_back": false
     },
     "output_type": "execute_result"
    }
   ],
   "source": [
    "Theorem True_can_be_proven : True.\n",
    "  exact I.\n",
    "Qed."
   ]
  },
  {
   "cell_type": "markdown",
   "metadata": {
    "coq_kernel_metadata": {
     "auto_roll_back": true
    }
   },
   "source": [
    "If we look at the state before the first (and only) line of the proof, we see:\n",
    "```\n",
    "  ============================\n",
    "   True\n",
    "   ```\n",
    "There are no hypotheses; the context is empty. We are trying to find a proof of True. By its definition, True has a single proof called \"I\". So, \"exact I.\" solves this proof.\n",
    "\n",
    "** RULE: If your subgoal is \"True\", Then use tactic \"exact I.\".**\n",
    "\n",
    "Now, we turn to False.\n",
    "### Unprovability\n",
    "I wrote earlier that a proposition either has a proof or it does not (yet) have a proof. In some cases, we can prove that a proposition can never have a proof. We do that by showing that for every possible proof of a proposition, we could generate a proof of False. Because False has no proofs (by its definition), we know that the proposition has no proofs.\n",
    "\n",
    "So, to show that \"A : Prop\" has no proofs, we need to show\n",
    "```(forall proof_of_A: A, False)```\n",
    "Or, equivalently\n",
    "```A -> False```\n",
    "We do this so often that there is an operator \"~\" to represent it."
   ]
  },
  {
   "cell_type": "markdown",
   "metadata": {
    "coq_kernel_metadata": {
     "auto_roll_back": true,
     "cell_id": "74a05f58bbb04fe988885481d3c632d5",
     "execution_id": "36A139BB899A40DC9941D65B3CAD83E6"
    }
   },
   "source": [
    "```\n",
    "Definition not (A:Prop) := A -> False.\n",
    "\n",
    "Notation \"~ x\" := (not x) : type_scope.\n",
    "```"
   ]
  },
  {
   "cell_type": "markdown",
   "metadata": {
    "coq_kernel_metadata": {
     "auto_roll_back": true
    }
   },
   "source": [
    "\"Definition\" is a vernacular command that says two things are interchangeable. So, \"(not A)\" and \"A -> False\" are interchangeable.\n",
    "\"Notation\" is a vernacular command that creates an operator, in this case \"~\", and defines it as an alternate notation for an expression, in this case \"(not _)\". Since \"not\" takes a Prop, \"~\" can only be applied to a Prop.\n",
    "(NOTE: The Notation command is how the operator \"->\" was created for \"(forall ...)\".)\n",
    "Let's try to prove some things are unprovable!\n",
    "### False is unprovable"
   ]
  },
  {
   "cell_type": "code",
   "execution_count": 64,
   "metadata": {
    "coq_kernel_metadata": {
     "auto_roll_back": true,
     "cell_id": "8ae5d27d364c425a875ea488c5d421f6",
     "execution_id": "9698BD422C464742AC1194428ECE0DC7"
    }
   },
   "outputs": [
    {
     "data": {
      "text/html": [
       "\n",
       "<div class=\"coq_kernel_output_area\">\n",
       "    <pre></pre>\n",
       "</div>\n",
       "\n",
       "<div class=\"coq_kernel_rich_cell_output coq_kernel_status_message_area\" style=\"padding: 5px 0px;\">\n",
       "    <i class=\"fa-check fa text-success\"></i>\n",
       "    <span>Cell evaluated.</span>\n",
       "</div>\n",
       "\n",
       "<div class=\"coq_kernel_rich_cell_output coq_kernel_status_message_area coq_kernel_rolled_back_status_message\" style=\"padding: 5px 0px; display: none;\">\n",
       "    <i class=\"fa-exclamation-circle fa text-info\"></i>\n",
       "    <span>Cell rolled back.</span>\n",
       "</div>\n",
       "\n",
       "<div class=\"coq_kernel_rich_cell_output coq_kernel_roll_back_controls_area\" style=\"display: none; position: relative;\">\n",
       "    <button class=\"btn btn-default btn-xs coq_kernel_roll_back_button\" onclick=\"CoqKernel.roll_back(this)\">\n",
       "        <i class=\"fa-step-backward fa\"></i>\n",
       "        <span class=\"toolbar-btn-label\">Rollback cell</span>\n",
       "    </button>\n",
       "\n",
       "    <div style=\"display: inline-block; vertical-align: middle; padding-left: 0; padding-right: 0;\">\n",
       "      <input class=\"coq_kernel_auto_roll_back_checkbox\" type=\"checkbox\" value=\"\" onchange=\"CoqKernel.toggle_auto_roll_back(this)\" checked>\n",
       "      <label\">Auto rollback</label>\n",
       "    </div>\n",
       "</div>\n"
      ],
      "text/plain": []
     },
     "execution_count": 70,
     "metadata": {
      "coq_kernel_evaluated": true,
      "coq_kernel_execution_id": "9698BD422C464742AC1194428ECE0DC7",
      "coq_kernel_rolled_back": false
     },
     "output_type": "execute_result"
    }
   ],
   "source": [
    "Theorem False_cannot_be_proven : ~False.\n",
    "Proof.\n",
    "  unfold not.\n",
    "  intros proof_of_False.\n",
    "  exact proof_of_False.\n",
    "Qed."
   ]
  },
  {
   "cell_type": "markdown",
   "metadata": {
    "coq_kernel_metadata": {
     "auto_roll_back": true
    }
   },
   "source": [
    "The only new tactic here is \"unfold\". We said \"Definition\" says two expressions are interchangeable. Well, \"unfold\" and \"fold\" will interchange them. After the \"unfold\", we have\n",
    "```\n",
    "  ============================\n",
    "   False -> False\n",
    "   ```\n",
    "The \"unfold\" exposes that \"~\" is really an \"->\". And we're very familiar with using the tactic \"intros\" to remove \"->\" at the front of the subgoal. The command \"intros proof_of_False\" does just that.\n",
    "\n",
    "After that, it goes as usual. \"intros\"s at the start and \"exact\" at the end. It feels weird to have an hypothesis labeled \"proof_of_False\" doesn't it? It's weird because we know False has no proofs, so that hypothesis can never exist. Wouldn't it be better if we could say that directly?..."
   ]
  },
  {
   "cell_type": "code",
   "execution_count": 70,
   "metadata": {
    "coq_kernel_metadata": {
     "auto_roll_back": true,
     "cell_id": "6533ada2a66f49a786afb8d597ef0bc8",
     "execution_id": "F79A088F2EBD4CCA84C7F076F43C81F7"
    }
   },
   "outputs": [
    {
     "data": {
      "text/html": [
       "\n",
       "<div class=\"coq_kernel_output_area\">\n",
       "    <pre></pre>\n",
       "</div>\n",
       "\n",
       "<div class=\"coq_kernel_rich_cell_output coq_kernel_status_message_area\" style=\"padding: 5px 0px;\">\n",
       "    <i class=\"fa-check fa text-success\"></i>\n",
       "    <span>Cell evaluated.</span>\n",
       "</div>\n",
       "\n",
       "<div class=\"coq_kernel_rich_cell_output coq_kernel_status_message_area coq_kernel_rolled_back_status_message\" style=\"padding: 5px 0px; display: none;\">\n",
       "    <i class=\"fa-exclamation-circle fa text-info\"></i>\n",
       "    <span>Cell rolled back.</span>\n",
       "</div>\n",
       "\n",
       "<div class=\"coq_kernel_rich_cell_output coq_kernel_roll_back_controls_area\" style=\"display: none; position: relative;\">\n",
       "    <button class=\"btn btn-default btn-xs coq_kernel_roll_back_button\" onclick=\"CoqKernel.roll_back(this)\">\n",
       "        <i class=\"fa-step-backward fa\"></i>\n",
       "        <span class=\"toolbar-btn-label\">Rollback cell</span>\n",
       "    </button>\n",
       "\n",
       "    <div style=\"display: inline-block; vertical-align: middle; padding-left: 0; padding-right: 0;\">\n",
       "      <input class=\"coq_kernel_auto_roll_back_checkbox\" type=\"checkbox\" value=\"\" onchange=\"CoqKernel.toggle_auto_roll_back(this)\" checked>\n",
       "      <label\">Auto rollback</label>\n",
       "    </div>\n",
       "</div>\n"
      ],
      "text/plain": []
     },
     "execution_count": 75,
     "metadata": {
      "coq_kernel_evaluated": true,
      "coq_kernel_execution_id": "F79A088F2EBD4CCA84C7F076F43C81F7",
      "coq_kernel_rolled_back": false
     },
     "output_type": "execute_result"
    }
   ],
   "source": [
    "Theorem False_cannot_be_proven__again : ~False.\n",
    "Proof.\n",
    "  intros proof_of_False.\n",
    "  case proof_of_False.\n",
    "Qed."
   ]
  },
  {
   "cell_type": "markdown",
   "metadata": {
    "coq_kernel_metadata": {
     "auto_roll_back": true
    }
   },
   "source": [
    "This is the same theorem as before, but two things have changed in this proof.\n",
    "First, it doesn't have \"unfold not.\". Since we know \"~\" is shorthand for \"->\", we can skip over the unfold tactic and go straight to using \"intros\".\n",
    "\n",
    "** RULE: If your subgoal is `\"~<type>\" or \"~(<term>)\" or \"(not <term>)`\", Then use tactic \"intros\". **\n",
    "\n",
    "The second change is that we found a new way to finish a proof! Instead of \"exact\", we use the \"case\" tactic. \"case\" is powerful: it creates subgoals for every possible construction of its argument. Since there is no way to construct a False, \"case\" creates no subgoals! Without a subgoal, we're done!\n",
    "\n",
    "** RULE: If any hypothesis is \"<name> : False\", Then use tactic \"case <name>.\". **\n",
    "\n",
    "-> Examples\n",
    "We can use True and False to see that Coq's \"->\" operator really does act like \"implication\" from logic."
   ]
  },
  {
   "cell_type": "code",
   "execution_count": 75,
   "metadata": {
    "coq_kernel_metadata": {
     "auto_roll_back": true,
     "cell_id": "dbcf3fddaac948e9af2ad61d42009147",
     "execution_id": "D59941A24B0C4DEF8CA15864C144F30D"
    }
   },
   "outputs": [
    {
     "data": {
      "text/html": [
       "\n",
       "<div class=\"coq_kernel_output_area\">\n",
       "    <pre></pre>\n",
       "</div>\n",
       "\n",
       "<div class=\"coq_kernel_rich_cell_output coq_kernel_status_message_area\" style=\"padding: 5px 0px;\">\n",
       "    <i class=\"fa-check fa text-success\"></i>\n",
       "    <span>Cell evaluated.</span>\n",
       "</div>\n",
       "\n",
       "<div class=\"coq_kernel_rich_cell_output coq_kernel_status_message_area coq_kernel_rolled_back_status_message\" style=\"padding: 5px 0px; display: none;\">\n",
       "    <i class=\"fa-exclamation-circle fa text-info\"></i>\n",
       "    <span>Cell rolled back.</span>\n",
       "</div>\n",
       "\n",
       "<div class=\"coq_kernel_rich_cell_output coq_kernel_roll_back_controls_area\" style=\"display: none; position: relative;\">\n",
       "    <button class=\"btn btn-default btn-xs coq_kernel_roll_back_button\" onclick=\"CoqKernel.roll_back(this)\">\n",
       "        <i class=\"fa-step-backward fa\"></i>\n",
       "        <span class=\"toolbar-btn-label\">Rollback cell</span>\n",
       "    </button>\n",
       "\n",
       "    <div style=\"display: inline-block; vertical-align: middle; padding-left: 0; padding-right: 0;\">\n",
       "      <input class=\"coq_kernel_auto_roll_back_checkbox\" type=\"checkbox\" value=\"\" onchange=\"CoqKernel.toggle_auto_roll_back(this)\" checked>\n",
       "      <label\">Auto rollback</label>\n",
       "    </div>\n",
       "</div>\n"
      ],
      "text/plain": []
     },
     "execution_count": 80,
     "metadata": {
      "coq_kernel_evaluated": true,
      "coq_kernel_execution_id": "D59941A24B0C4DEF8CA15864C144F30D",
      "coq_kernel_rolled_back": false
     },
     "output_type": "execute_result"
    }
   ],
   "source": [
    "Theorem thm_true_imp_true : True -> True.\n",
    "Proof.\n",
    "  intros proof_of_True.\n",
    "  exact I.\n",
    " (* \"exact proof_of_True.\" also works. *)\n",
    "Qed."
   ]
  },
  {
   "cell_type": "code",
   "execution_count": 80,
   "metadata": {
    "coq_kernel_metadata": {
     "auto_roll_back": true,
     "cell_id": "e75ebae6f9cb4bbe8fcc49745c0a515c",
     "execution_id": "D196AC6AB1D641A0A0F1BC054B8CFD1E"
    }
   },
   "outputs": [
    {
     "data": {
      "text/html": [
       "\n",
       "<div class=\"coq_kernel_output_area\">\n",
       "    <pre></pre>\n",
       "</div>\n",
       "\n",
       "<div class=\"coq_kernel_rich_cell_output coq_kernel_status_message_area\" style=\"padding: 5px 0px;\">\n",
       "    <i class=\"fa-check fa text-success\"></i>\n",
       "    <span>Cell evaluated.</span>\n",
       "</div>\n",
       "\n",
       "<div class=\"coq_kernel_rich_cell_output coq_kernel_status_message_area coq_kernel_rolled_back_status_message\" style=\"padding: 5px 0px; display: none;\">\n",
       "    <i class=\"fa-exclamation-circle fa text-info\"></i>\n",
       "    <span>Cell rolled back.</span>\n",
       "</div>\n",
       "\n",
       "<div class=\"coq_kernel_rich_cell_output coq_kernel_roll_back_controls_area\" style=\"display: none; position: relative;\">\n",
       "    <button class=\"btn btn-default btn-xs coq_kernel_roll_back_button\" onclick=\"CoqKernel.roll_back(this)\">\n",
       "        <i class=\"fa-step-backward fa\"></i>\n",
       "        <span class=\"toolbar-btn-label\">Rollback cell</span>\n",
       "    </button>\n",
       "\n",
       "    <div style=\"display: inline-block; vertical-align: middle; padding-left: 0; padding-right: 0;\">\n",
       "      <input class=\"coq_kernel_auto_roll_back_checkbox\" type=\"checkbox\" value=\"\" onchange=\"CoqKernel.toggle_auto_roll_back(this)\" checked>\n",
       "      <label\">Auto rollback</label>\n",
       "    </div>\n",
       "</div>\n"
      ],
      "text/plain": []
     },
     "execution_count": 85,
     "metadata": {
      "coq_kernel_evaluated": true,
      "coq_kernel_execution_id": "D196AC6AB1D641A0A0F1BC054B8CFD1E",
      "coq_kernel_rolled_back": false
     },
     "output_type": "execute_result"
    }
   ],
   "source": [
    "Theorem thm_false_imp_true : False -> True.\n",
    "Proof.\n",
    "  intros proof_of_False.\n",
    "  exact I.\n",
    "(* \"case proof_of_False.\" also works. *)\n",
    "Qed."
   ]
  },
  {
   "cell_type": "code",
   "execution_count": 85,
   "metadata": {
    "coq_kernel_metadata": {
     "auto_roll_back": true,
     "cell_id": "4d9dddff2e6546c881797371bf8808d1",
     "execution_id": "41C7B82ACA8748CB8BDDD44AFD06D0D7"
    }
   },
   "outputs": [
    {
     "data": {
      "text/html": [
       "\n",
       "<div class=\"coq_kernel_output_area\">\n",
       "    <pre></pre>\n",
       "</div>\n",
       "\n",
       "<div class=\"coq_kernel_rich_cell_output coq_kernel_status_message_area\" style=\"padding: 5px 0px;\">\n",
       "    <i class=\"fa-check fa text-success\"></i>\n",
       "    <span>Cell evaluated.</span>\n",
       "</div>\n",
       "\n",
       "<div class=\"coq_kernel_rich_cell_output coq_kernel_status_message_area coq_kernel_rolled_back_status_message\" style=\"padding: 5px 0px; display: none;\">\n",
       "    <i class=\"fa-exclamation-circle fa text-info\"></i>\n",
       "    <span>Cell rolled back.</span>\n",
       "</div>\n",
       "\n",
       "<div class=\"coq_kernel_rich_cell_output coq_kernel_roll_back_controls_area\" style=\"display: none; position: relative;\">\n",
       "    <button class=\"btn btn-default btn-xs coq_kernel_roll_back_button\" onclick=\"CoqKernel.roll_back(this)\">\n",
       "        <i class=\"fa-step-backward fa\"></i>\n",
       "        <span class=\"toolbar-btn-label\">Rollback cell</span>\n",
       "    </button>\n",
       "\n",
       "    <div style=\"display: inline-block; vertical-align: middle; padding-left: 0; padding-right: 0;\">\n",
       "      <input class=\"coq_kernel_auto_roll_back_checkbox\" type=\"checkbox\" value=\"\" onchange=\"CoqKernel.toggle_auto_roll_back(this)\" checked>\n",
       "      <label\">Auto rollback</label>\n",
       "    </div>\n",
       "</div>\n"
      ],
      "text/plain": []
     },
     "execution_count": 90,
     "metadata": {
      "coq_kernel_evaluated": true,
      "coq_kernel_execution_id": "41C7B82ACA8748CB8BDDD44AFD06D0D7",
      "coq_kernel_rolled_back": false
     },
     "output_type": "execute_result"
    }
   ],
   "source": [
    "Theorem thm_false_imp_false : False -> False.\n",
    "Proof.\n",
    "  intros proof_of_False.\n",
    "  case proof_of_False.\n",
    "(* \"exact proof_of_False.\" works, but is not recommended.*)\n",
    "Qed."
   ]
  },
  {
   "cell_type": "markdown",
   "metadata": {
    "coq_kernel_metadata": {
     "auto_roll_back": true
    }
   },
   "source": [
    "True->False can never be proven. We demonstrate that by proving ~(True->False)."
   ]
  },
  {
   "cell_type": "code",
   "execution_count": 90,
   "metadata": {
    "coq_kernel_metadata": {
     "auto_roll_back": true,
     "cell_id": "0ec3357ffdd5439bbcf3c7fb80cfdd9c",
     "execution_id": "02FAF9FEA6754A43870C2B4C80BCF344"
    }
   },
   "outputs": [
    {
     "data": {
      "text/html": [
       "\n",
       "<div class=\"coq_kernel_output_area\">\n",
       "    <pre></pre>\n",
       "</div>\n",
       "\n",
       "<div class=\"coq_kernel_rich_cell_output coq_kernel_status_message_area\" style=\"padding: 5px 0px;\">\n",
       "    <i class=\"fa-check fa text-success\"></i>\n",
       "    <span>Cell evaluated.</span>\n",
       "</div>\n",
       "\n",
       "<div class=\"coq_kernel_rich_cell_output coq_kernel_status_message_area coq_kernel_rolled_back_status_message\" style=\"padding: 5px 0px; display: none;\">\n",
       "    <i class=\"fa-exclamation-circle fa text-info\"></i>\n",
       "    <span>Cell rolled back.</span>\n",
       "</div>\n",
       "\n",
       "<div class=\"coq_kernel_rich_cell_output coq_kernel_roll_back_controls_area\" style=\"display: none; position: relative;\">\n",
       "    <button class=\"btn btn-default btn-xs coq_kernel_roll_back_button\" onclick=\"CoqKernel.roll_back(this)\">\n",
       "        <i class=\"fa-step-backward fa\"></i>\n",
       "        <span class=\"toolbar-btn-label\">Rollback cell</span>\n",
       "    </button>\n",
       "\n",
       "    <div style=\"display: inline-block; vertical-align: middle; padding-left: 0; padding-right: 0;\">\n",
       "      <input class=\"coq_kernel_auto_roll_back_checkbox\" type=\"checkbox\" value=\"\" onchange=\"CoqKernel.toggle_auto_roll_back(this)\" checked>\n",
       "      <label\">Auto rollback</label>\n",
       "    </div>\n",
       "</div>\n"
      ],
      "text/plain": []
     },
     "execution_count": 96,
     "metadata": {
      "coq_kernel_evaluated": true,
      "coq_kernel_execution_id": "02FAF9FEA6754A43870C2B4C80BCF344",
      "coq_kernel_rolled_back": false
     },
     "output_type": "execute_result"
    }
   ],
   "source": [
    "Theorem thm_true_imp_false : ~(True -> False).\n",
    "Proof.\n",
    "  intros T_implies_F.\n",
    "  refine (T_implies_F _).\n",
    "    exact I.\n",
    "Qed."
   ]
  },
  {
   "cell_type": "markdown",
   "metadata": {
    "coq_kernel_metadata": {
     "auto_roll_back": true
    }
   },
   "source": [
    "All of the above proofs should be obvious to you by now.\n",
    "## Reducto ad absurdium\n",
    "Below is another staple of logic: reduction to absurdity. If a proposition has a proof and you prove that it cannot have a proof, then you can conclude anything."
   ]
  },
  {
   "cell_type": "code",
   "execution_count": 96,
   "metadata": {
    "coq_kernel_metadata": {
     "auto_roll_back": true,
     "cell_id": "77e66cbb1b0f488391ddfc976e1af707",
     "execution_id": "C048D5D2D602469281691EBCC6C66C11"
    }
   },
   "outputs": [
    {
     "data": {
      "text/html": [
       "\n",
       "<div class=\"coq_kernel_output_area\">\n",
       "    <pre></pre>\n",
       "</div>\n",
       "\n",
       "<div class=\"coq_kernel_rich_cell_output coq_kernel_status_message_area\" style=\"padding: 5px 0px;\">\n",
       "    <i class=\"fa-check fa text-success\"></i>\n",
       "    <span>Cell evaluated.</span>\n",
       "</div>\n",
       "\n",
       "<div class=\"coq_kernel_rich_cell_output coq_kernel_status_message_area coq_kernel_rolled_back_status_message\" style=\"padding: 5px 0px; display: none;\">\n",
       "    <i class=\"fa-exclamation-circle fa text-info\"></i>\n",
       "    <span>Cell rolled back.</span>\n",
       "</div>\n",
       "\n",
       "<div class=\"coq_kernel_rich_cell_output coq_kernel_roll_back_controls_area\" style=\"display: none; position: relative;\">\n",
       "    <button class=\"btn btn-default btn-xs coq_kernel_roll_back_button\" onclick=\"CoqKernel.roll_back(this)\">\n",
       "        <i class=\"fa-step-backward fa\"></i>\n",
       "        <span class=\"toolbar-btn-label\">Rollback cell</span>\n",
       "    </button>\n",
       "\n",
       "    <div style=\"display: inline-block; vertical-align: middle; padding-left: 0; padding-right: 0;\">\n",
       "      <input class=\"coq_kernel_auto_roll_back_checkbox\" type=\"checkbox\" value=\"\" onchange=\"CoqKernel.toggle_auto_roll_back(this)\" checked>\n",
       "      <label\">Auto rollback</label>\n",
       "    </div>\n",
       "</div>\n"
      ],
      "text/plain": []
     },
     "execution_count": 104,
     "metadata": {
      "coq_kernel_evaluated": true,
      "coq_kernel_execution_id": "C048D5D2D602469281691EBCC6C66C11",
      "coq_kernel_rolled_back": false
     },
     "output_type": "execute_result"
    }
   ],
   "source": [
    "Theorem absurd2 : forall A C : Prop, A -> ~ A -> C.\n",
    "Proof.\n",
    "  intros A C.\n",
    "  intros proof_of_A proof_that_A_cannot_be_proven.\n",
    "  unfold not in proof_that_A_cannot_be_proven.\n",
    "  pose (proof_of_False := proof_that_A_cannot_be_proven proof_of_A).\n",
    "  case proof_of_False.\n",
    "Qed."
   ]
  },
  {
   "cell_type": "markdown",
   "metadata": {
    "coq_kernel_metadata": {
     "auto_roll_back": true
    }
   },
   "source": [
    "This is a tricky proof. Since our subgoal \"C\" doesn't appear in our hypotheses, we cannot end the proof with \"exact something_of_type_C\". The only other option we know (so far) is \"case\" on a proof of False.\n",
    "The tactic \"unfold ... in\" is used to interchange the definition of \"not\" in a hypothesis. That exposes that the type \"~A\" is really \"A -> False\", that is, a function from a proof of A to a proof of False.\n",
    "\n",
    "With that knowledge, we can call the function with \"proof_of_A\" to get a proof of False. And we end the proof with \"case\" on a proof of False!\n",
    "That was a serious proof! But we've done about as much as we can do with Props, so let's get back to bools!\n",
    "The return of lower-case true and lower-case false\n",
    "\n",
    "Now, remember when I introduced capital-T True and capital-F False of type Prop, I also introduced the type \"bool\". Type \"bool\" has two different constructors: lower-case-t true and lower-case-f false."
   ]
  },
  {
   "cell_type": "markdown",
   "metadata": {
    "coq_kernel_metadata": {
     "auto_roll_back": true,
     "cell_id": "1efa5984024c4bffbc3b4b2059f19a95",
     "execution_id": "0F0589A60DB543AB8BCAAB4A3FD42949"
    }
   },
   "source": [
    "```\n",
    "Inductive bool : Set :=\n",
    "  | true : bool\n",
    "  | false : bool.\n",
    "  ```"
   ]
  },
  {
   "cell_type": "markdown",
   "metadata": {
    "coq_kernel_metadata": {
     "auto_roll_back": true
    }
   },
   "source": [
    "\"true\" and \"false\" have type \"bool\" and \"bool\" has type \"Set\". \"Set\" is the type of normal datatypes, like \"bool\" and natural numbers and most of the other types you'll see. The exception is propositions, which have type \"Prop\".\n",
    "Let's load some helper functions for the type \"bool\"."
   ]
  },
  {
   "cell_type": "code",
   "execution_count": 104,
   "metadata": {
    "coq_kernel_metadata": {
     "auto_roll_back": true,
     "cell_id": "769521ef6a634f1c8bb7b4aa3718c8a2",
     "execution_id": "51DC9CE991F349B3A9759388A251D630"
    }
   },
   "outputs": [
    {
     "data": {
      "text/html": [
       "\n",
       "<div class=\"coq_kernel_output_area\">\n",
       "    <pre></pre>\n",
       "</div>\n",
       "\n",
       "<div class=\"coq_kernel_rich_cell_output coq_kernel_status_message_area\" style=\"padding: 5px 0px;\">\n",
       "    <i class=\"fa-check fa text-success\"></i>\n",
       "    <span>Cell evaluated.</span>\n",
       "</div>\n",
       "\n",
       "<div class=\"coq_kernel_rich_cell_output coq_kernel_status_message_area coq_kernel_rolled_back_status_message\" style=\"padding: 5px 0px; display: none;\">\n",
       "    <i class=\"fa-exclamation-circle fa text-info\"></i>\n",
       "    <span>Cell rolled back.</span>\n",
       "</div>\n",
       "\n",
       "<div class=\"coq_kernel_rich_cell_output coq_kernel_roll_back_controls_area\" style=\"display: none; position: relative;\">\n",
       "    <button class=\"btn btn-default btn-xs coq_kernel_roll_back_button\" onclick=\"CoqKernel.roll_back(this)\">\n",
       "        <i class=\"fa-step-backward fa\"></i>\n",
       "        <span class=\"toolbar-btn-label\">Rollback cell</span>\n",
       "    </button>\n",
       "\n",
       "    <div style=\"display: inline-block; vertical-align: middle; padding-left: 0; padding-right: 0;\">\n",
       "      <input class=\"coq_kernel_auto_roll_back_checkbox\" type=\"checkbox\" value=\"\" onchange=\"CoqKernel.toggle_auto_roll_back(this)\" checked>\n",
       "      <label\">Auto rollback</label>\n",
       "    </div>\n",
       "</div>\n"
      ],
      "text/plain": []
     },
     "execution_count": 105,
     "metadata": {
      "coq_kernel_evaluated": true,
      "coq_kernel_execution_id": "51DC9CE991F349B3A9759388A251D630",
      "coq_kernel_rolled_back": false
     },
     "output_type": "execute_result"
    }
   ],
   "source": [
    "Require Import Bool."
   ]
  },
  {
   "cell_type": "markdown",
   "metadata": {
    "coq_kernel_metadata": {
     "auto_roll_back": true
    }
   },
   "source": [
    "\"Require Import\" is a vernacular command that loads definitions from a library. In this case, the library is named \"Bool\" and there is a file named \"Bool.v\" that contains its definitions, proofs, etc..\n",
    "\n",
    "Two of the functions are:"
   ]
  },
  {
   "cell_type": "markdown",
   "metadata": {
    "coq_kernel_metadata": {
     "auto_roll_back": true,
     "cell_id": "eefec3c91d324421830d5bb57e9ecb23",
     "execution_id": "ED4753DC4FF7441F8442BA98C2ED003D"
    }
   },
   "source": [
    "```\n",
    "Definition eqb (b1 b2:bool) : bool :=\n",
    "  match b1, b2 with\n",
    "    | true, true => true\n",
    "    | true, false => false\n",
    "    | false, true => false\n",
    "    | false, false => true\n",
    "  end.\n",
    "\n",
    "Definition Is_true (b:bool) :=\n",
    "  match b with\n",
    "    | true => True\n",
    "    | false => False\n",
    "  end.\n",
    "  ```"
   ]
  },
  {
   "cell_type": "markdown",
   "metadata": {
    "coq_kernel_metadata": {
     "auto_roll_back": true
    }
   },
   "source": [
    "The first function \"eqb\" returns true if the two arguments match. (\"eqb\" is short for \"equal for type bool\".)\n",
    "The second function \"Is_true\" converts a bool into a Prop. In the future, you can use \"(<name> = true)\", but we haven't described \"=\" yet. The operator \"=\" is REALLY cool, but you have to understand more basic types, like bool, first.\n",
    "Let's do some proofs with these functions.\n",
    "Is_true true is True"
   ]
  },
  {
   "cell_type": "code",
   "execution_count": 105,
   "metadata": {
    "coq_kernel_metadata": {
     "auto_roll_back": true,
     "cell_id": "3cca7aefee2541948041313b11bfcf5d",
     "execution_id": "D8C60DE3E5DC47AC8D071587AED2EA0E"
    }
   },
   "outputs": [
    {
     "data": {
      "text/html": [
       "\n",
       "<div class=\"coq_kernel_output_area\">\n",
       "    <pre></pre>\n",
       "</div>\n",
       "\n",
       "<div class=\"coq_kernel_rich_cell_output coq_kernel_status_message_area\" style=\"padding: 5px 0px;\">\n",
       "    <i class=\"fa-check fa text-success\"></i>\n",
       "    <span>Cell evaluated.</span>\n",
       "</div>\n",
       "\n",
       "<div class=\"coq_kernel_rich_cell_output coq_kernel_status_message_area coq_kernel_rolled_back_status_message\" style=\"padding: 5px 0px; display: none;\">\n",
       "    <i class=\"fa-exclamation-circle fa text-info\"></i>\n",
       "    <span>Cell rolled back.</span>\n",
       "</div>\n",
       "\n",
       "<div class=\"coq_kernel_rich_cell_output coq_kernel_roll_back_controls_area\" style=\"display: none; position: relative;\">\n",
       "    <button class=\"btn btn-default btn-xs coq_kernel_roll_back_button\" onclick=\"CoqKernel.roll_back(this)\">\n",
       "        <i class=\"fa-step-backward fa\"></i>\n",
       "        <span class=\"toolbar-btn-label\">Rollback cell</span>\n",
       "    </button>\n",
       "\n",
       "    <div style=\"display: inline-block; vertical-align: middle; padding-left: 0; padding-right: 0;\">\n",
       "      <input class=\"coq_kernel_auto_roll_back_checkbox\" type=\"checkbox\" value=\"\" onchange=\"CoqKernel.toggle_auto_roll_back(this)\" checked>\n",
       "      <label\">Auto rollback</label>\n",
       "    </div>\n",
       "</div>\n"
      ],
      "text/plain": []
     },
     "execution_count": 110,
     "metadata": {
      "coq_kernel_evaluated": true,
      "coq_kernel_execution_id": "D8C60DE3E5DC47AC8D071587AED2EA0E",
      "coq_kernel_rolled_back": false
     },
     "output_type": "execute_result"
    }
   ],
   "source": [
    "Theorem true_is_True: Is_true true.\n",
    "Proof.\n",
    "  simpl.\n",
    "  exact I.\n",
    "Qed."
   ]
  },
  {
   "cell_type": "markdown",
   "metadata": {
    "coq_kernel_metadata": {
     "auto_roll_back": true
    }
   },
   "source": [
    "\"Is_true\" is a function, so \"Is_true true\" is that function called with the argument \"true\". Since \"Is_true\"'s type is \"bool->Prop\", we know that the function call returns a \"Prop\", which is something that can be proven. So, this proof demonstrates that there exists a proof for \"Is_true true\".\n",
    "Admittedly, \"Is_true true\" seems like a dumb thing to prove. Later, we'll replace the argument \"true\" with more useful boolean expressions, like \"4 < 5\" and other comparisons.\n",
    "\n",
    "The proof contains a new tactic: \"simpl\". It is short for \"simplify\". If you have a function call and you have the definition of the function, the tactic \"simpl\" will execute the function on the arguments. In this case, the function returns something of type Prop and that Prop happens to be \"True\". (Yes, the function returned a type. This is common in Coq.)\n",
    "\n",
    "\"True\" becomes our new subgoal. And we've seen how to prove a subgoal of \"True\" and that's \"exact I\" because \"True\" was defined to have a single proof named \"I\".\n",
    "\n",
    "** RULE: If the current subgoal contains a function call with all its arguments, Then use the tactic \"simpl.\". **\n",
    "\n",
    "I promised that you would see \"Is_true\" with a more complex argument. So, let me show you that.\n",
    "Is_true called with a complex constant."
   ]
  },
  {
   "cell_type": "code",
   "execution_count": 110,
   "metadata": {
    "coq_kernel_metadata": {
     "auto_roll_back": true,
     "cell_id": "aa4d985020ad4fd788143f063cc1b996",
     "execution_id": "4F933B5A169B495F965DF709687A841D"
    }
   },
   "outputs": [
    {
     "data": {
      "text/html": [
       "\n",
       "<div class=\"coq_kernel_output_area\">\n",
       "    <pre></pre>\n",
       "</div>\n",
       "\n",
       "<div class=\"coq_kernel_rich_cell_output coq_kernel_status_message_area\" style=\"padding: 5px 0px;\">\n",
       "    <i class=\"fa-check fa text-success\"></i>\n",
       "    <span>Cell evaluated.</span>\n",
       "</div>\n",
       "\n",
       "<div class=\"coq_kernel_rich_cell_output coq_kernel_status_message_area coq_kernel_rolled_back_status_message\" style=\"padding: 5px 0px; display: none;\">\n",
       "    <i class=\"fa-exclamation-circle fa text-info\"></i>\n",
       "    <span>Cell rolled back.</span>\n",
       "</div>\n",
       "\n",
       "<div class=\"coq_kernel_rich_cell_output coq_kernel_roll_back_controls_area\" style=\"display: none; position: relative;\">\n",
       "    <button class=\"btn btn-default btn-xs coq_kernel_roll_back_button\" onclick=\"CoqKernel.roll_back(this)\">\n",
       "        <i class=\"fa-step-backward fa\"></i>\n",
       "        <span class=\"toolbar-btn-label\">Rollback cell</span>\n",
       "    </button>\n",
       "\n",
       "    <div style=\"display: inline-block; vertical-align: middle; padding-left: 0; padding-right: 0;\">\n",
       "      <input class=\"coq_kernel_auto_roll_back_checkbox\" type=\"checkbox\" value=\"\" onchange=\"CoqKernel.toggle_auto_roll_back(this)\" checked>\n",
       "      <label\">Auto rollback</label>\n",
       "    </div>\n",
       "</div>\n"
      ],
      "text/plain": []
     },
     "execution_count": 115,
     "metadata": {
      "coq_kernel_evaluated": true,
      "coq_kernel_execution_id": "4F933B5A169B495F965DF709687A841D",
      "coq_kernel_rolled_back": false
     },
     "output_type": "execute_result"
    }
   ],
   "source": [
    "Theorem not_eqb_true_false: ~(Is_true (eqb true false)).\n",
    "Proof.\n",
    "  simpl.\n",
    "  exact False_cannot_be_proven.\n",
    "Qed."
   ]
  },
  {
   "cell_type": "markdown",
   "metadata": {
    "coq_kernel_metadata": {
     "auto_roll_back": true
    }
   },
   "source": [
    "The tactic \"simpl\" executes the functions to produce a subgoal of \"~False\". That should look familiar, because we've proved it before! We could copy-and-paste the proof OR we could just say the proof already exists! We gave the proof of \"~False\" the name \"False_cannot_be_proven\", so the tactic \"exact False_cannot_be_proven\" finishes the proof immediately! Sweet, isn't it?\n",
    "Now, let's look at a more complex call to Is_true, where we'll get to see the tactic \"case\" show its power!\n",
    "case with bools"
   ]
  },
  {
   "cell_type": "code",
   "execution_count": 115,
   "metadata": {
    "coq_kernel_metadata": {
     "auto_roll_back": true,
     "cell_id": "e6882864a97b481da93ff0d60984457c",
     "execution_id": "5389273B956246E582C75F9ED03D1429"
    }
   },
   "outputs": [
    {
     "data": {
      "text/html": [
       "\n",
       "<div class=\"coq_kernel_output_area\">\n",
       "    <pre></pre>\n",
       "</div>\n",
       "\n",
       "<div class=\"coq_kernel_rich_cell_output coq_kernel_status_message_area\" style=\"padding: 5px 0px;\">\n",
       "    <i class=\"fa-check fa text-success\"></i>\n",
       "    <span>Cell evaluated.</span>\n",
       "</div>\n",
       "\n",
       "<div class=\"coq_kernel_rich_cell_output coq_kernel_status_message_area coq_kernel_rolled_back_status_message\" style=\"padding: 5px 0px; display: none;\">\n",
       "    <i class=\"fa-exclamation-circle fa text-info\"></i>\n",
       "    <span>Cell rolled back.</span>\n",
       "</div>\n",
       "\n",
       "<div class=\"coq_kernel_rich_cell_output coq_kernel_roll_back_controls_area\" style=\"display: none; position: relative;\">\n",
       "    <button class=\"btn btn-default btn-xs coq_kernel_roll_back_button\" onclick=\"CoqKernel.roll_back(this)\">\n",
       "        <i class=\"fa-step-backward fa\"></i>\n",
       "        <span class=\"toolbar-btn-label\">Rollback cell</span>\n",
       "    </button>\n",
       "\n",
       "    <div style=\"display: inline-block; vertical-align: middle; padding-left: 0; padding-right: 0;\">\n",
       "      <input class=\"coq_kernel_auto_roll_back_checkbox\" type=\"checkbox\" value=\"\" onchange=\"CoqKernel.toggle_auto_roll_back(this)\" checked>\n",
       "      <label\">Auto rollback</label>\n",
       "    </div>\n",
       "</div>\n"
      ],
      "text/plain": []
     },
     "execution_count": 124,
     "metadata": {
      "coq_kernel_evaluated": true,
      "coq_kernel_execution_id": "5389273B956246E582C75F9ED03D1429",
      "coq_kernel_rolled_back": false
     },
     "output_type": "execute_result"
    }
   ],
   "source": [
    "Theorem eqb_a_a : (forall a : bool, Is_true (eqb a a)).\n",
    "Proof.\n",
    "  intros a.\n",
    "  case a.\n",
    "(* suppose a is true *)\n",
    "    simpl.\n",
    "    exact I.\n",
    "\n",
    "(* suppose a is false *)\n",
    "    simpl.\n",
    "    exact I.\n",
    "Qed."
   ]
  },
  {
   "cell_type": "markdown",
   "metadata": {
    "coq_kernel_metadata": {
     "auto_roll_back": true
    }
   },
   "source": [
    "Take a look at the state after \"case a.\". There's two subgoals! I said before that \"case\" creates subgoals for every possible construction of its argument. So far, we've only used \"case\" with hypotheses of type \"False\". False has no constructors, so it generates no subgoals and ends our proofs.\n",
    "\n",
    "Hypotheses of type \"bool\" have two possible constructors \"true\" and \"false\". Thus, \"case a\" creates two new subgoals - one where \"a\" has been replaced by \"true\" and a second where \"a\" has been replaced by \"false\".\n",
    "\n",
    "NOTE: The replacement of \"a\" by \"true\" (or \"false\") only happens inside the subgoal. It does NOT happen in the hypotheses. It is sometimes important to control where \"a\" is before calling \"case\"!\n",
    "\n",
    "I believe it is good style to label the two different cases. I do that with the comment \"suppose `<hyp> is <constructor>\"`. Since the definition of \"bool\" listed \"true\" before \"false\", the subgoal where \"a\" is \"true\" becomes the current subgoal. Once we prove it, the case where \"a\" is \"false\" will become the current subgoal.\n",
    "\n",
    "** RULE: If there is a hypothesis `\"<name>\"` of a created type AND that hypothesis is used in the subgoal, Then you can try the tactic `\"case <name>.\".` **\n",
    "\n",
    "Let's do one more example."
   ]
  },
  {
   "cell_type": "code",
   "execution_count": 124,
   "metadata": {
    "coq_kernel_metadata": {
     "auto_roll_back": true,
     "cell_id": "a53f55b92a4744e39ae0172e46342618",
     "execution_id": "346B91468A2340DBB30A0CEAE928646C"
    }
   },
   "outputs": [
    {
     "data": {
      "text/html": [
       "\n",
       "<div class=\"coq_kernel_output_area\">\n",
       "    <pre></pre>\n",
       "</div>\n",
       "\n",
       "<div class=\"coq_kernel_rich_cell_output coq_kernel_status_message_area\" style=\"padding: 5px 0px;\">\n",
       "    <i class=\"fa-check fa text-success\"></i>\n",
       "    <span>Cell evaluated.</span>\n",
       "</div>\n",
       "\n",
       "<div class=\"coq_kernel_rich_cell_output coq_kernel_status_message_area coq_kernel_rolled_back_status_message\" style=\"padding: 5px 0px; display: none;\">\n",
       "    <i class=\"fa-exclamation-circle fa text-info\"></i>\n",
       "    <span>Cell rolled back.</span>\n",
       "</div>\n",
       "\n",
       "<div class=\"coq_kernel_rich_cell_output coq_kernel_roll_back_controls_area\" style=\"display: none; position: relative;\">\n",
       "    <button class=\"btn btn-default btn-xs coq_kernel_roll_back_button\" onclick=\"CoqKernel.roll_back(this)\">\n",
       "        <i class=\"fa-step-backward fa\"></i>\n",
       "        <span class=\"toolbar-btn-label\">Rollback cell</span>\n",
       "    </button>\n",
       "\n",
       "    <div style=\"display: inline-block; vertical-align: middle; padding-left: 0; padding-right: 0;\">\n",
       "      <input class=\"coq_kernel_auto_roll_back_checkbox\" type=\"checkbox\" value=\"\" onchange=\"CoqKernel.toggle_auto_roll_back(this)\" checked>\n",
       "      <label\">Auto rollback</label>\n",
       "    </div>\n",
       "</div>\n"
      ],
      "text/plain": []
     },
     "execution_count": 135,
     "metadata": {
      "coq_kernel_evaluated": true,
      "coq_kernel_execution_id": "346B91468A2340DBB30A0CEAE928646C",
      "coq_kernel_rolled_back": false
     },
     "output_type": "execute_result"
    }
   ],
   "source": [
    "Theorem thm_eqb_a_t: (forall a:bool, (Is_true (eqb a true)) -> (Is_true a)).\n",
    "Proof.\n",
    "  intros a.\n",
    "  case a.\n",
    "(* suppose a is true *)\n",
    "    simpl.\n",
    "    intros proof_of_True.\n",
    "    exact I.\n",
    "\n",
    "(* suppose a is false *)\n",
    "    simpl.\n",
    "    intros proof_of_False.\n",
    "    case proof_of_False.\n",
    "Qed."
   ]
  },
  {
   "cell_type": "markdown",
   "metadata": {
    "coq_kernel_metadata": {
     "auto_roll_back": true
    }
   },
   "source": [
    "In this example, I had to control the location of \"a\" when using the tactic \"case\".\n",
    "Usually, we would do \"intros a\" followed by another \"intros\" to move everything before the \"->\" into a hypothesis. If we did this, one usage of \"a\" would move from the subgoal into a hypothesis and \"case a\" would NOT replace it with \"true\" or \"false\". (The \"case\" tactic only changes the subgoal.) And we'd be unable to prove the theorem.\n",
    "\n",
    "Instead, I left \"a\" in the subgoal and delayed the second \"intros\" until after the \"case\" command. (In fact, after the \"simpl\" too.) As a result, all usages of \"a\" were replaced by \"true\" or \"false\" and the theorem was provable.\n",
    "\n",
    "## And, Or\n",
    "One of the most amazing things about Coq is its fundamental rules are so simple that even things like \"and\" and \"or\" can be defined in terms of them. I'll start with \"or\" because it shows some special features.\n",
    "### Or\n",
    "Before showing you the definition for \"or\", I want you to see some examples so that the definition will make sense. In the examples below, imagine you have a hypothesis with a natural number \"x\".\n",
    "```\n",
    "(or (x < 5) (x = 7))\n",
    "(or True False)\n",
    "(or (x = 0) (x = 1))\n",
    "```\n",
    "As you can see, \"or\" is a function. Each of its arguments are propositions - each of them are things that could be proved. And we know that the \"or\" itself can be proved, so the result of call to \"or\" must be a proposition. Since a proposition has type \"Prop\", the type of \"or\" is:\n",
    "```or (A B:Prop) : Prop```\n",
    "That is, a function that it takes two propositions, A and B, and returns a proposition.\n",
    "I said the result of \"or\" is a proposition - something that might have a proof. So how do we create a proof of \"or\"? For that, we need to see the definition..."
   ]
  },
  {
   "cell_type": "markdown",
   "metadata": {
    "coq_kernel_metadata": {
     "auto_roll_back": true,
     "cell_id": "1213c7e21173498582222162431732e2",
     "execution_id": "F11023965EA248218ED06D66F61B84D8"
    }
   },
   "source": [
    "```\n",
    "Inductive or (A B : Prop) : Prop :=\n",
    "  | or_introl : A -> A \\/  B\n",
    "  | or_intror : B -> A \\/  B\n",
    "where \"A \\/  B\" := (or A B)   : type_scope .\n",
    "```"
   ]
  },
  {
   "cell_type": "markdown",
   "metadata": {
    "coq_kernel_metadata": {
     "auto_roll_back": true
    }
   },
   "source": [
    "This vernacular command does four things.\n",
    "\n",
    "declares \"or\", a function that takes two Props and produces a Prop\n",
    "declares \"or_introl\", a constructor that takes a proof of \"A\" and returns a proof of \"(or A B)\"\n",
    "declares \"or_intror\", a constructor that takes a proof of \"B\" and returns a proof of \"(or A B)\"\n",
    "declares \"\\/\", an operator that is interchangeable with \"or\"\n",
    "\n",
    "One way to think of this is to say \"(or A B)\" creates a type and \"(or_introl proof_of_A)\" and \"(or_intror proof_of_B)\" are instances of that type. In fact, the ONLY way to create things of type \"or\" is by using the constructors \"or_introl\" and \"or_intror\".\n",
    "It is important to note that constructors, like \"or_introl\" and \"or_intror\", are functions that can be called, but do not have any definitions. They are not made of calls to other functions. They cannot be executed and the result looked at. The tactic \"simpl\" will not remove them. They are opaque constants.\n",
    "\n",
    "The vernacular command \"Inductive\" creates new types. It's called \"Inductive\" since it lets you create inductive types, although none of our types so far has been inductive. (That will change!) It is the same command we saw earlier to declare other new types with their constants.\n",
    "```\n",
    "Inductive False : Prop := .\n",
    "\n",
    "Inductive True : Prop :=\n",
    "  I : True.\n",
    "\n",
    "Inductive bool : Set :=\n",
    "  | true : bool\n",
    "  | false : bool.\n",
    "  ```\n",
    "\n",
    "Right now, we want to play with \"or\", so let's get proving!"
   ]
  },
  {
   "cell_type": "code",
   "execution_count": 135,
   "metadata": {
    "coq_kernel_metadata": {
     "auto_roll_back": true,
     "cell_id": "da90a9cb10384df98b53f225ee0e7f22",
     "execution_id": "BEC2C14C898A48F4A76E3B8B23319D70"
    }
   },
   "outputs": [
    {
     "data": {
      "text/html": [
       "\n",
       "<div class=\"coq_kernel_output_area\">\n",
       "    <pre>Proving: left_or\n",
       "\n",
       "1 subgoal\n",
       "\n",
       "A, B : Prop\n",
       "proof_of_A : A\n",
       "\n",
       "1/1 -----------\n",
       "A \\/ B</pre>\n",
       "</div>\n",
       "\n",
       "<div class=\"coq_kernel_rich_cell_output coq_kernel_status_message_area\" style=\"padding: 5px 0px;\">\n",
       "    <i class=\"fa-check fa text-success\"></i>\n",
       "    <span>Cell evaluated.</span>\n",
       "</div>\n",
       "\n",
       "<div class=\"coq_kernel_rich_cell_output coq_kernel_status_message_area coq_kernel_rolled_back_status_message\" style=\"padding: 5px 0px; display: none;\">\n",
       "    <i class=\"fa-exclamation-circle fa text-info\"></i>\n",
       "    <span>Cell rolled back.</span>\n",
       "</div>\n",
       "\n",
       "<div class=\"coq_kernel_rich_cell_output coq_kernel_roll_back_controls_area\" style=\"display: none; position: relative;\">\n",
       "    <button class=\"btn btn-default btn-xs coq_kernel_roll_back_button\" onclick=\"CoqKernel.roll_back(this)\">\n",
       "        <i class=\"fa-step-backward fa\"></i>\n",
       "        <span class=\"toolbar-btn-label\">Rollback cell</span>\n",
       "    </button>\n",
       "\n",
       "    <div style=\"display: inline-block; vertical-align: middle; padding-left: 0; padding-right: 0;\">\n",
       "      <input class=\"coq_kernel_auto_roll_back_checkbox\" type=\"checkbox\" value=\"\" onchange=\"CoqKernel.toggle_auto_roll_back(this)\" checked>\n",
       "      <label\">Auto rollback</label>\n",
       "    </div>\n",
       "</div>\n"
      ],
      "text/plain": [
       "Proving: left_or\n",
       "\n",
       "1 subgoal\n",
       "\n",
       "A, B : Prop\n",
       "proof_of_A : A\n",
       "\n",
       "1/1 -----------\n",
       "A \\/ B"
      ]
     },
     "execution_count": 139,
     "metadata": {
      "coq_kernel_evaluated": true,
      "coq_kernel_execution_id": "BEC2C14C898A48F4A76E3B8B23319D70",
      "coq_kernel_rolled_back": false
     },
     "output_type": "execute_result"
    }
   ],
   "source": [
    "Theorem left_or : (forall A B : Prop, A -> A \\/ B).\n",
    "Proof.\n",
    "  intros A B.\n",
    "  intros proof_of_A."
   ]
  },
  {
   "cell_type": "code",
   "execution_count": 139,
   "metadata": {
    "coq_kernel_metadata": {
     "auto_roll_back": true,
     "cell_id": "9c5b0ca8010842daa9b499cb77c274cc",
     "execution_id": "C39B84869E2C4F53831B143ADB630FBB"
    }
   },
   "outputs": [
    {
     "data": {
      "text/html": [
       "\n",
       "<div class=\"coq_kernel_output_area\">\n",
       "    <pre>Proving: left_or\n",
       "\n",
       "1 subgoal\n",
       "\n",
       "A, B : Prop\n",
       "proof_of_A : A\n",
       "proof_of_A_or_B := (or_introl proof_of_A : A \\/ B) : A \\/ B\n",
       "\n",
       "1/1 -----------\n",
       "A \\/ B</pre>\n",
       "</div>\n",
       "\n",
       "<div class=\"coq_kernel_rich_cell_output coq_kernel_status_message_area\" style=\"padding: 5px 0px;\">\n",
       "    <i class=\"fa-check fa text-success\"></i>\n",
       "    <span>Cell evaluated.</span>\n",
       "</div>\n",
       "\n",
       "<div class=\"coq_kernel_rich_cell_output coq_kernel_status_message_area coq_kernel_rolled_back_status_message\" style=\"padding: 5px 0px; display: none;\">\n",
       "    <i class=\"fa-exclamation-circle fa text-info\"></i>\n",
       "    <span>Cell rolled back.</span>\n",
       "</div>\n",
       "\n",
       "<div class=\"coq_kernel_rich_cell_output coq_kernel_roll_back_controls_area\" style=\"display: none; position: relative;\">\n",
       "    <button class=\"btn btn-default btn-xs coq_kernel_roll_back_button\" onclick=\"CoqKernel.roll_back(this)\">\n",
       "        <i class=\"fa-step-backward fa\"></i>\n",
       "        <span class=\"toolbar-btn-label\">Rollback cell</span>\n",
       "    </button>\n",
       "\n",
       "    <div style=\"display: inline-block; vertical-align: middle; padding-left: 0; padding-right: 0;\">\n",
       "      <input class=\"coq_kernel_auto_roll_back_checkbox\" type=\"checkbox\" value=\"\" onchange=\"CoqKernel.toggle_auto_roll_back(this)\" checked>\n",
       "      <label\">Auto rollback</label>\n",
       "    </div>\n",
       "</div>\n"
      ],
      "text/plain": [
       "Proving: left_or\n",
       "\n",
       "1 subgoal\n",
       "\n",
       "A, B : Prop\n",
       "proof_of_A : A\n",
       "proof_of_A_or_B := (or_introl proof_of_A : A \\/ B) : A \\/ B\n",
       "\n",
       "1/1 -----------\n",
       "A \\/ B"
      ]
     },
     "execution_count": 140,
     "metadata": {
      "coq_kernel_evaluated": true,
      "coq_kernel_execution_id": "C39B84869E2C4F53831B143ADB630FBB",
      "coq_kernel_rolled_back": false
     },
     "output_type": "execute_result"
    }
   ],
   "source": [
    " (* left. *)\n",
    "  pose (proof_of_A_or_B := (or_introl proof_of_A) : A \\/ B). "
   ]
  },
  {
   "cell_type": "code",
   "execution_count": 140,
   "metadata": {
    "coq_kernel_metadata": {
     "auto_roll_back": true,
     "cell_id": "bfaf64446e484716b73ea03493ffd01a",
     "execution_id": "7EE14096953E414B8D354FD524C7E3CE"
    }
   },
   "outputs": [
    {
     "data": {
      "text/html": [
       "\n",
       "<div class=\"coq_kernel_output_area\">\n",
       "    <pre></pre>\n",
       "</div>\n",
       "\n",
       "<div class=\"coq_kernel_rich_cell_output coq_kernel_status_message_area\" style=\"padding: 5px 0px;\">\n",
       "    <i class=\"fa-check fa text-success\"></i>\n",
       "    <span>Cell evaluated.</span>\n",
       "</div>\n",
       "\n",
       "<div class=\"coq_kernel_rich_cell_output coq_kernel_status_message_area coq_kernel_rolled_back_status_message\" style=\"padding: 5px 0px; display: none;\">\n",
       "    <i class=\"fa-exclamation-circle fa text-info\"></i>\n",
       "    <span>Cell rolled back.</span>\n",
       "</div>\n",
       "\n",
       "<div class=\"coq_kernel_rich_cell_output coq_kernel_roll_back_controls_area\" style=\"display: none; position: relative;\">\n",
       "    <button class=\"btn btn-default btn-xs coq_kernel_roll_back_button\" onclick=\"CoqKernel.roll_back(this)\">\n",
       "        <i class=\"fa-step-backward fa\"></i>\n",
       "        <span class=\"toolbar-btn-label\">Rollback cell</span>\n",
       "    </button>\n",
       "\n",
       "    <div style=\"display: inline-block; vertical-align: middle; padding-left: 0; padding-right: 0;\">\n",
       "      <input class=\"coq_kernel_auto_roll_back_checkbox\" type=\"checkbox\" value=\"\" onchange=\"CoqKernel.toggle_auto_roll_back(this)\" checked>\n",
       "      <label\">Auto rollback</label>\n",
       "    </div>\n",
       "</div>\n"
      ],
      "text/plain": []
     },
     "execution_count": 142,
     "metadata": {
      "coq_kernel_evaluated": true,
      "coq_kernel_execution_id": "7EE14096953E414B8D354FD524C7E3CE",
      "coq_kernel_rolled_back": false
     },
     "output_type": "execute_result"
    }
   ],
   "source": [
    "  exact proof_of_A_or_B.\n",
    "Qed."
   ]
  },
  {
   "cell_type": "markdown",
   "metadata": {
    "coq_kernel_metadata": {
     "auto_roll_back": true
    }
   },
   "source": [
    "This proof should have gone pretty much as you expected. The only complication is that the \"pose\" command could not infer the type of B from \"or_introl proof_of_A\", so the type had to be given explicitly by putting \": A \\/ B\" at the end. \"or_introl proof_of_A\" by itself is a proof of \"A \\/ anything\".\n",
    "\n",
    "The proof is shorter without the \"pose\", since Coq knows the type from the subgoal we're trying to prove. You can see this in a similar proof using \"or_intror\" below."
   ]
  },
  {
   "cell_type": "code",
   "execution_count": 142,
   "metadata": {
    "coq_kernel_metadata": {
     "auto_roll_back": true,
     "cell_id": "a495d3d982184e33869fbf8f6c1ccd5c",
     "execution_id": "989B936264B74818B40AF678249B0A21"
    }
   },
   "outputs": [
    {
     "data": {
      "text/html": [
       "\n",
       "<div class=\"coq_kernel_output_area\">\n",
       "    <pre>Proving: right_or\n",
       "\n",
       "1 subgoal\n",
       "\n",
       "A, B : Prop\n",
       "proof_of_B : B\n",
       "\n",
       "1/1 -----------\n",
       "A \\/ B</pre>\n",
       "</div>\n",
       "\n",
       "<div class=\"coq_kernel_rich_cell_output coq_kernel_status_message_area\" style=\"padding: 5px 0px;\">\n",
       "    <i class=\"fa-check fa text-success\"></i>\n",
       "    <span>Cell evaluated.</span>\n",
       "</div>\n",
       "\n",
       "<div class=\"coq_kernel_rich_cell_output coq_kernel_status_message_area coq_kernel_rolled_back_status_message\" style=\"padding: 5px 0px; display: none;\">\n",
       "    <i class=\"fa-exclamation-circle fa text-info\"></i>\n",
       "    <span>Cell rolled back.</span>\n",
       "</div>\n",
       "\n",
       "<div class=\"coq_kernel_rich_cell_output coq_kernel_roll_back_controls_area\" style=\"display: none; position: relative;\">\n",
       "    <button class=\"btn btn-default btn-xs coq_kernel_roll_back_button\" onclick=\"CoqKernel.roll_back(this)\">\n",
       "        <i class=\"fa-step-backward fa\"></i>\n",
       "        <span class=\"toolbar-btn-label\">Rollback cell</span>\n",
       "    </button>\n",
       "\n",
       "    <div style=\"display: inline-block; vertical-align: middle; padding-left: 0; padding-right: 0;\">\n",
       "      <input class=\"coq_kernel_auto_roll_back_checkbox\" type=\"checkbox\" value=\"\" onchange=\"CoqKernel.toggle_auto_roll_back(this)\" checked>\n",
       "      <label\">Auto rollback</label>\n",
       "    </div>\n",
       "</div>\n"
      ],
      "text/plain": [
       "Proving: right_or\n",
       "\n",
       "1 subgoal\n",
       "\n",
       "A, B : Prop\n",
       "proof_of_B : B\n",
       "\n",
       "1/1 -----------\n",
       "A \\/ B"
      ]
     },
     "execution_count": 146,
     "metadata": {
      "coq_kernel_evaluated": true,
      "coq_kernel_execution_id": "989B936264B74818B40AF678249B0A21",
      "coq_kernel_rolled_back": false
     },
     "output_type": "execute_result"
    }
   ],
   "source": [
    "Theorem right_or : (forall A B : Prop, B -> A \\/ B).\n",
    "Proof.\n",
    "  intros A B.\n",
    "  intros proof_of_B."
   ]
  },
  {
   "cell_type": "code",
   "execution_count": 146,
   "metadata": {
    "coq_kernel_metadata": {
     "auto_roll_back": true,
     "cell_id": "c3178631920e4e8c80a0d89c1949f3ab",
     "execution_id": "708103888ECE4837BCC7301E5E7A912C"
    }
   },
   "outputs": [
    {
     "data": {
      "text/html": [
       "\n",
       "<div class=\"coq_kernel_output_area\">\n",
       "    <pre></pre>\n",
       "</div>\n",
       "\n",
       "<div class=\"coq_kernel_rich_cell_output coq_kernel_status_message_area\" style=\"padding: 5px 0px;\">\n",
       "    <i class=\"fa-check fa text-success\"></i>\n",
       "    <span>Cell evaluated.</span>\n",
       "</div>\n",
       "\n",
       "<div class=\"coq_kernel_rich_cell_output coq_kernel_status_message_area coq_kernel_rolled_back_status_message\" style=\"padding: 5px 0px; display: none;\">\n",
       "    <i class=\"fa-exclamation-circle fa text-info\"></i>\n",
       "    <span>Cell rolled back.</span>\n",
       "</div>\n",
       "\n",
       "<div class=\"coq_kernel_rich_cell_output coq_kernel_roll_back_controls_area\" style=\"display: none; position: relative;\">\n",
       "    <button class=\"btn btn-default btn-xs coq_kernel_roll_back_button\" onclick=\"CoqKernel.roll_back(this)\">\n",
       "        <i class=\"fa-step-backward fa\"></i>\n",
       "        <span class=\"toolbar-btn-label\">Rollback cell</span>\n",
       "    </button>\n",
       "\n",
       "    <div style=\"display: inline-block; vertical-align: middle; padding-left: 0; padding-right: 0;\">\n",
       "      <input class=\"coq_kernel_auto_roll_back_checkbox\" type=\"checkbox\" value=\"\" onchange=\"CoqKernel.toggle_auto_roll_back(this)\" checked>\n",
       "      <label\">Auto rollback</label>\n",
       "    </div>\n",
       "</div>\n"
      ],
      "text/plain": []
     },
     "execution_count": 149,
     "metadata": {
      "coq_kernel_evaluated": true,
      "coq_kernel_execution_id": "708103888ECE4837BCC7301E5E7A912C",
      "coq_kernel_rolled_back": false
     },
     "output_type": "execute_result"
    }
   ],
   "source": [
    "right.\n",
    "(* refine (or_intror _). *)\n",
    "    exact proof_of_B.\n",
    "Qed."
   ]
  },
  {
   "cell_type": "markdown",
   "metadata": {
    "coq_kernel_metadata": {
     "auto_roll_back": true
    }
   },
   "source": [
    "An even shorter proof would have just \"exact (or_intror proof_of_B)\". But if you don't know all the constructor's arguments, using \"refine\" is a fine approach.\n",
    "\n",
    "RULE: If the subgoal's top-most term is a created type, Then use \"refine (`<name_of_constructor> _ ...`).\".\n",
    "Let's prove something a little more complicated...\n",
    "\n",
    "### Or commutes"
   ]
  },
  {
   "cell_type": "code",
   "execution_count": 149,
   "metadata": {
    "coq_kernel_metadata": {
     "auto_roll_back": true,
     "cell_id": "207287d27cd64f4e8234464e3416c326",
     "execution_id": "A72EDD9C2AD94710B550C41BFCDE8B32"
    }
   },
   "outputs": [
    {
     "data": {
      "text/html": [
       "\n",
       "<div class=\"coq_kernel_output_area\">\n",
       "    <pre></pre>\n",
       "</div>\n",
       "\n",
       "<div class=\"coq_kernel_rich_cell_output coq_kernel_status_message_area\" style=\"padding: 5px 0px;\">\n",
       "    <i class=\"fa-check fa text-success\"></i>\n",
       "    <span>Cell evaluated.</span>\n",
       "</div>\n",
       "\n",
       "<div class=\"coq_kernel_rich_cell_output coq_kernel_status_message_area coq_kernel_rolled_back_status_message\" style=\"padding: 5px 0px; display: none;\">\n",
       "    <i class=\"fa-exclamation-circle fa text-info\"></i>\n",
       "    <span>Cell rolled back.</span>\n",
       "</div>\n",
       "\n",
       "<div class=\"coq_kernel_rich_cell_output coq_kernel_roll_back_controls_area\" style=\"display: none; position: relative;\">\n",
       "    <button class=\"btn btn-default btn-xs coq_kernel_roll_back_button\" onclick=\"CoqKernel.roll_back(this)\">\n",
       "        <i class=\"fa-step-backward fa\"></i>\n",
       "        <span class=\"toolbar-btn-label\">Rollback cell</span>\n",
       "    </button>\n",
       "\n",
       "    <div style=\"display: inline-block; vertical-align: middle; padding-left: 0; padding-right: 0;\">\n",
       "      <input class=\"coq_kernel_auto_roll_back_checkbox\" type=\"checkbox\" value=\"\" onchange=\"CoqKernel.toggle_auto_roll_back(this)\" checked>\n",
       "      <label\">Auto rollback</label>\n",
       "    </div>\n",
       "</div>\n"
      ],
      "text/plain": []
     },
     "execution_count": 153,
     "metadata": {
      "coq_kernel_evaluated": true,
      "coq_kernel_execution_id": "A72EDD9C2AD94710B550C41BFCDE8B32",
      "coq_kernel_rolled_back": false
     },
     "output_type": "execute_result"
    }
   ],
   "source": [
    "Theorem iff_refl : forall A:Prop, A <-> A.\n",
    "  Proof.\n",
    "    split; auto.\n",
    "  Qed."
   ]
  },
  {
   "cell_type": "code",
   "execution_count": 153,
   "metadata": {
    "coq_kernel_metadata": {
     "auto_roll_back": true,
     "cell_id": "f26101c91ca94878bb133a4d22c8fcee",
     "execution_id": "7813185A215045ED9FE1E71A3A42AAA5"
    }
   },
   "outputs": [
    {
     "data": {
      "text/html": [
       "\n",
       "<div class=\"coq_kernel_output_area\">\n",
       "    <pre></pre>\n",
       "</div>\n",
       "\n",
       "<div class=\"coq_kernel_rich_cell_output coq_kernel_status_message_area\" style=\"padding: 5px 0px;\">\n",
       "    <i class=\"fa-check fa text-success\"></i>\n",
       "    <span>Cell evaluated.</span>\n",
       "</div>\n",
       "\n",
       "<div class=\"coq_kernel_rich_cell_output coq_kernel_status_message_area coq_kernel_rolled_back_status_message\" style=\"padding: 5px 0px; display: none;\">\n",
       "    <i class=\"fa-exclamation-circle fa text-info\"></i>\n",
       "    <span>Cell rolled back.</span>\n",
       "</div>\n",
       "\n",
       "<div class=\"coq_kernel_rich_cell_output coq_kernel_roll_back_controls_area\" style=\"display: none; position: relative;\">\n",
       "    <button class=\"btn btn-default btn-xs coq_kernel_roll_back_button\" onclick=\"CoqKernel.roll_back(this)\">\n",
       "        <i class=\"fa-step-backward fa\"></i>\n",
       "        <span class=\"toolbar-btn-label\">Rollback cell</span>\n",
       "    </button>\n",
       "\n",
       "    <div style=\"display: inline-block; vertical-align: middle; padding-left: 0; padding-right: 0;\">\n",
       "      <input class=\"coq_kernel_auto_roll_back_checkbox\" type=\"checkbox\" value=\"\" onchange=\"CoqKernel.toggle_auto_roll_back(this)\" checked>\n",
       "      <label\">Auto rollback</label>\n",
       "    </div>\n",
       "</div>\n"
      ],
      "text/plain": []
     },
     "execution_count": 165,
     "metadata": {
      "coq_kernel_evaluated": true,
      "coq_kernel_execution_id": "7813185A215045ED9FE1E71A3A42AAA5",
      "coq_kernel_rolled_back": false
     },
     "output_type": "execute_result"
    }
   ],
   "source": [
    "Theorem or_commutes : (forall A B, A \\/ B -> B \\/ A).\n",
    "Proof.\n",
    "  intros A B.\n",
    "  intros A_or_B.\n",
    "  case A_or_B.\n",
    "(* suppose A_or_B is (or_introl proof_of_A) *)\n",
    "    intros proof_of_A.\n",
    "    refine (or_intror _).\n",
    "      exact proof_of_A.\n",
    "\n",
    "(* suppose A_or_B is (or_intror proof_of_B) *)\n",
    "    intros proof_of_B.\n",
    "    refine (or_introl _).\n",
    "      exact proof_of_B.\n",
    "Qed."
   ]
  },
  {
   "cell_type": "markdown",
   "metadata": {
    "coq_kernel_metadata": {
     "auto_roll_back": true
    }
   },
   "source": [
    "This proof uses the tactic \"case\" to consider the two different ways we might have constructed the hypothesis \"A \\/ B\". One possibility was using \"(or_introl proof_of_A)\", which would have meant there was a proof of \"A\". For that case, the tactic puts \"A ->\" at the front of the subgoal and we use \"intros proof_of_A.\" to move the proof into the context. Notice that \"case\" changed the subgoal and not the context. \"case\" never changes the context - that's a useful property to know (and look out for) when working with it.\n",
    "\n",
    "The other possibility for creating the hypothesis \"A \\/ B\" was that the constructor \"or_intror\" was used. For it to be used, there had to exist a proof of \"B\". So, for the second case created by \"case\", the subgoal has \"B ->\" at the front and we use \"intros proof_of_B.\" to move it into the context.\n",
    "\n",
    "Once the \"proof_of_A\" or \"proof_of_B\" is in the context, the proofs of each subgoal follow the pattern we've seen before.\n",
    "Now that we've seen how \"or\" works, let's take a look at \"and\".\n",
    "And\n",
    "I think we can go straight to the definition.\n",
    "```\n",
    "Inductive and (A B:Prop) : Prop :=\n",
    "  conj : A -> B -> A /\\ B\n",
    "\n",
    "where \"A /\\ B\" := (and A B) : type_scope.\n",
    "```\n",
    "As you could expect, \"and\" is a function that takes two Props and returns a Prop. That's the exact same as we saw with \"or\". However, while \"or\" had two constructors that each took one argument, \"and\" has a single constructor that takes two arguments. So, the one and only way to create something of type \"(and A B)\" is to use \"(conj proof_of_A proof_of_B)\".\n",
    "Let's go straight to a proof!"
   ]
  },
  {
   "cell_type": "code",
   "execution_count": 165,
   "metadata": {
    "coq_kernel_metadata": {
     "auto_roll_back": true,
     "cell_id": "1e6c719e896b499d8bb1ad5e814cbe24",
     "execution_id": "C75356AEFD40454482B9E2371BE6F4F5"
    }
   },
   "outputs": [
    {
     "data": {
      "text/html": [
       "\n",
       "<div class=\"coq_kernel_output_area\">\n",
       "    <pre></pre>\n",
       "</div>\n",
       "\n",
       "<div class=\"coq_kernel_rich_cell_output coq_kernel_status_message_area\" style=\"padding: 5px 0px;\">\n",
       "    <i class=\"fa-check fa text-success\"></i>\n",
       "    <span>Cell evaluated.</span>\n",
       "</div>\n",
       "\n",
       "<div class=\"coq_kernel_rich_cell_output coq_kernel_status_message_area coq_kernel_rolled_back_status_message\" style=\"padding: 5px 0px; display: none;\">\n",
       "    <i class=\"fa-exclamation-circle fa text-info\"></i>\n",
       "    <span>Cell rolled back.</span>\n",
       "</div>\n",
       "\n",
       "<div class=\"coq_kernel_rich_cell_output coq_kernel_roll_back_controls_area\" style=\"display: none; position: relative;\">\n",
       "    <button class=\"btn btn-default btn-xs coq_kernel_roll_back_button\" onclick=\"CoqKernel.roll_back(this)\">\n",
       "        <i class=\"fa-step-backward fa\"></i>\n",
       "        <span class=\"toolbar-btn-label\">Rollback cell</span>\n",
       "    </button>\n",
       "\n",
       "    <div style=\"display: inline-block; vertical-align: middle; padding-left: 0; padding-right: 0;\">\n",
       "      <input class=\"coq_kernel_auto_roll_back_checkbox\" type=\"checkbox\" value=\"\" onchange=\"CoqKernel.toggle_auto_roll_back(this)\" checked>\n",
       "      <label\">Auto rollback</label>\n",
       "    </div>\n",
       "</div>\n"
      ],
      "text/plain": []
     },
     "execution_count": 173,
     "metadata": {
      "coq_kernel_evaluated": true,
      "coq_kernel_execution_id": "C75356AEFD40454482B9E2371BE6F4F5",
      "coq_kernel_rolled_back": false
     },
     "output_type": "execute_result"
    }
   ],
   "source": [
    "Theorem both_and : (forall A B : Prop, A -> B -> A /\\ B).\n",
    "Proof.\n",
    "  intros A B.\n",
    "  intros proof_of_A proof_of_B.\n",
    "  refine (conj _ _).\n",
    "    exact proof_of_A.\n",
    "\n",
    "    exact proof_of_B.\n",
    "Qed."
   ]
  },
  {
   "cell_type": "markdown",
   "metadata": {
    "coq_kernel_metadata": {
     "auto_roll_back": true
    }
   },
   "source": [
    "Pretty simple proof. There is only one constructor for things of type \"(and A B)\", which is \"conj\". It takes two arguments, which after \"refine\", become two subgoals. The proofs of each are trivial.\n",
    "After seeing \"or\", \"and\" should be easy, so let's jump to the complex proof.\n",
    "And commutes"
   ]
  },
  {
   "cell_type": "code",
   "execution_count": 173,
   "metadata": {
    "coq_kernel_metadata": {
     "auto_roll_back": true,
     "cell_id": "74bd35d8a9ef430da1c9807226c7644b",
     "execution_id": "DAFAC1B145E042C9AFC07B57942FA63D"
    }
   },
   "outputs": [
    {
     "data": {
      "text/html": [
       "\n",
       "<div class=\"coq_kernel_output_area\">\n",
       "    <pre></pre>\n",
       "</div>\n",
       "\n",
       "<div class=\"coq_kernel_rich_cell_output coq_kernel_status_message_area\" style=\"padding: 5px 0px;\">\n",
       "    <i class=\"fa-check fa text-success\"></i>\n",
       "    <span>Cell evaluated.</span>\n",
       "</div>\n",
       "\n",
       "<div class=\"coq_kernel_rich_cell_output coq_kernel_status_message_area coq_kernel_rolled_back_status_message\" style=\"padding: 5px 0px; display: none;\">\n",
       "    <i class=\"fa-exclamation-circle fa text-info\"></i>\n",
       "    <span>Cell rolled back.</span>\n",
       "</div>\n",
       "\n",
       "<div class=\"coq_kernel_rich_cell_output coq_kernel_roll_back_controls_area\" style=\"display: none; position: relative;\">\n",
       "    <button class=\"btn btn-default btn-xs coq_kernel_roll_back_button\" onclick=\"CoqKernel.roll_back(this)\">\n",
       "        <i class=\"fa-step-backward fa\"></i>\n",
       "        <span class=\"toolbar-btn-label\">Rollback cell</span>\n",
       "    </button>\n",
       "\n",
       "    <div style=\"display: inline-block; vertical-align: middle; padding-left: 0; padding-right: 0;\">\n",
       "      <input class=\"coq_kernel_auto_roll_back_checkbox\" type=\"checkbox\" value=\"\" onchange=\"CoqKernel.toggle_auto_roll_back(this)\" checked>\n",
       "      <label\">Auto rollback</label>\n",
       "    </div>\n",
       "</div>\n"
      ],
      "text/plain": []
     },
     "execution_count": 183,
     "metadata": {
      "coq_kernel_evaluated": true,
      "coq_kernel_execution_id": "DAFAC1B145E042C9AFC07B57942FA63D",
      "coq_kernel_rolled_back": false
     },
     "output_type": "execute_result"
    }
   ],
   "source": [
    "Theorem and_commutes : (forall A B, A /\\ B -> B /\\ A).\n",
    "Proof.\n",
    "  intros A B.\n",
    "  intros A_and_B.\n",
    "  case A_and_B.\n",
    "(* suppose A_and_B is (conj proof_of_A proof_of_B) *)\n",
    "    intros proof_of_A proof_of_B.\n",
    "    refine (conj _ _).\n",
    "      exact proof_of_B.\n",
    "\n",
    "      exact proof_of_A.\n",
    "Qed."
   ]
  },
  {
   "cell_type": "markdown",
   "metadata": {
    "coq_kernel_metadata": {
     "auto_roll_back": true
    }
   },
   "source": [
    "The \"case\" tactic looked at all the different ways to construct an \"and\" in the hypothesis and found there was only one: \"(conj proof_of_A proof_of_B)\". So, the tactic created one subgoal with both of those required values at the front of the subgoal.\n",
    "Similarly, when we need to build an \"and\" to satisfy the subgoal, there is only one way to construct an \"and\": \"conj\" with two arguments. Thus, after \"refine\" two subgoals were created, one requiring something of type \"B\" and the other requiring something of type \"A\".\n",
    "destruct tactic\n",
    "\n",
    "The previous proof used \"case\" to create subgoals for all constructors for something of type \"A /\\ B\". But there was only one constructor. So, we really didn't need to indent. Nor should we waste a line with a comment saying \"suppose\". And it'd be really nice if we didn't have to write the \"intros\" command.\n",
    "\n",
    "Luckily, Coq provides a tactic called \"destruct\" that is a little more versatile than \"case\". I recommend using it for types that have a single constructor. The format is:\n",
    " ` destruct <hyp> as [ <arg1> <arg2> ... ].`\n",
    " \n",
    "I put a comment with the name of the constructor inside the square braces.\n",
    "The result is a much shorter and cleaner proof."
   ]
  },
  {
   "cell_type": "code",
   "execution_count": 183,
   "metadata": {
    "coq_kernel_metadata": {
     "auto_roll_back": true,
     "cell_id": "95cba1a98a034e6887e951a470c6d24e",
     "execution_id": "6817A297113E4D5EB6C751B080110024"
    }
   },
   "outputs": [
    {
     "data": {
      "text/html": [
       "\n",
       "<div class=\"coq_kernel_output_area\">\n",
       "    <pre></pre>\n",
       "</div>\n",
       "\n",
       "<div class=\"coq_kernel_rich_cell_output coq_kernel_status_message_area\" style=\"padding: 5px 0px;\">\n",
       "    <i class=\"fa-check fa text-success\"></i>\n",
       "    <span>Cell evaluated.</span>\n",
       "</div>\n",
       "\n",
       "<div class=\"coq_kernel_rich_cell_output coq_kernel_status_message_area coq_kernel_rolled_back_status_message\" style=\"padding: 5px 0px; display: none;\">\n",
       "    <i class=\"fa-exclamation-circle fa text-info\"></i>\n",
       "    <span>Cell rolled back.</span>\n",
       "</div>\n",
       "\n",
       "<div class=\"coq_kernel_rich_cell_output coq_kernel_roll_back_controls_area\" style=\"display: none; position: relative;\">\n",
       "    <button class=\"btn btn-default btn-xs coq_kernel_roll_back_button\" onclick=\"CoqKernel.roll_back(this)\">\n",
       "        <i class=\"fa-step-backward fa\"></i>\n",
       "        <span class=\"toolbar-btn-label\">Rollback cell</span>\n",
       "    </button>\n",
       "\n",
       "    <div style=\"display: inline-block; vertical-align: middle; padding-left: 0; padding-right: 0;\">\n",
       "      <input class=\"coq_kernel_auto_roll_back_checkbox\" type=\"checkbox\" value=\"\" onchange=\"CoqKernel.toggle_auto_roll_back(this)\" checked>\n",
       "      <label\">Auto rollback</label>\n",
       "    </div>\n",
       "</div>\n"
      ],
      "text/plain": []
     },
     "execution_count": 192,
     "metadata": {
      "coq_kernel_evaluated": true,
      "coq_kernel_execution_id": "6817A297113E4D5EB6C751B080110024",
      "coq_kernel_rolled_back": false
     },
     "output_type": "execute_result"
    }
   ],
   "source": [
    "Theorem and_commutes__again : (forall A B, A /\\ B -> B /\\ A).\n",
    "Proof.\n",
    "  intros A B.\n",
    "  intros A_and_B.\n",
    "  destruct A_and_B as [ proof_of_A proof_of_B].\n",
    "  refine (conj _ _).\n",
    "    exact proof_of_B.\n",
    "\n",
    "    exact proof_of_A.\n",
    "Qed."
   ]
  },
  {
   "cell_type": "markdown",
   "metadata": {
    "coq_kernel_metadata": {
     "auto_roll_back": true
    }
   },
   "source": [
    "** RULE: If a hypothesis `\"<name>\"` is a created type with only one constructor, Then use `\"destruct <name> as <arg1> <arg2> ... \" `to extract its arguments.**\n",
    "\n",
    "## functions and inductive types\n",
    "We just saw that \"and\" and \"or\" work with Props and are inductive types. In this section, I'll introduce \"andb\" and \"orb\" for working with \"bool\"s. Rather than inductive types, \"andb\" and \"orb\" are functions.\n",
    "\n",
    "To be clear, \"and\" and \"or\" are \"inductive types\" - that is, types we defined where instances can only be produced by calling opaque functions called constructors. Those constructors are things like \"or_introl\", \"or_intror\", and \"conj\".\n",
    "\n",
    "In fact, the type \"bool\" is also inductive type. It has two constructors: \"true\" and \"false\". These constructors take no arguments, so they are closer to constants than \"opaque functions\".\n",
    "\n",
    "To manipulate \"bool\"s, we could use an inductive type, but it's much easier just to define a function. We've already seen one function on bools: \"eqb\", which did equality. Some other functions that Coq defines are:\n",
    "\n",
    "`andb (b1 b2:bool) : bool`\n",
    "`orb (b1 b2:bool) : bool`\n",
    "`negb (b:bool) : bool`\n",
    "\n",
    "These are \"and\", \"or\", and \"not\" (but called \"negation\" for some reason). Like with \"eqb\", the names all ended in \"b\" to indicate they work with \"bool\"s. Two of these functions also come with operators:\n",
    "`Infix \"&&\" := andb : bool_scope.`\n",
    "`Infix \"||\" := orb : bool_scope.`\n",
    "\n",
    "We'll get some good practice proving that these functions on bools are equivalent to our inductive types on Props. As part of this, we'll need a form of equality for propositions that is called \"if and only if\" or \"double implication\".\n",
    "`Definition iff (A B:Prop) := (A -> B) /\\ (B -> A).`\n",
    "\n",
    "`Notation \"A <-> B\" := (iff A B) : type_scope.`\n",
    "\n",
    "You should know everything you see in the proofs below. Remember, \"simpl\" is used to execute a function and \"case\" and \"destruct\" are used on inductive types."
   ]
  },
  {
   "cell_type": "code",
   "execution_count": 192,
   "metadata": {
    "coq_kernel_metadata": {
     "auto_roll_back": true,
     "cell_id": "36193c8fd9d546398f918d0518409027",
     "execution_id": "19D9C90E1C9648A8BD5236BBDCB06D88"
    }
   },
   "outputs": [
    {
     "data": {
      "text/html": [
       "\n",
       "<div class=\"coq_kernel_output_area\">\n",
       "    <pre></pre>\n",
       "</div>\n",
       "\n",
       "<div class=\"coq_kernel_rich_cell_output coq_kernel_status_message_area\" style=\"padding: 5px 0px;\">\n",
       "    <i class=\"fa-check fa text-success\"></i>\n",
       "    <span>Cell evaluated.</span>\n",
       "</div>\n",
       "\n",
       "<div class=\"coq_kernel_rich_cell_output coq_kernel_status_message_area coq_kernel_rolled_back_status_message\" style=\"padding: 5px 0px; display: none;\">\n",
       "    <i class=\"fa-exclamation-circle fa text-info\"></i>\n",
       "    <span>Cell rolled back.</span>\n",
       "</div>\n",
       "\n",
       "<div class=\"coq_kernel_rich_cell_output coq_kernel_roll_back_controls_area\" style=\"display: none; position: relative;\">\n",
       "    <button class=\"btn btn-default btn-xs coq_kernel_roll_back_button\" onclick=\"CoqKernel.roll_back(this)\">\n",
       "        <i class=\"fa-step-backward fa\"></i>\n",
       "        <span class=\"toolbar-btn-label\">Rollback cell</span>\n",
       "    </button>\n",
       "\n",
       "    <div style=\"display: inline-block; vertical-align: middle; padding-left: 0; padding-right: 0;\">\n",
       "      <input class=\"coq_kernel_auto_roll_back_checkbox\" type=\"checkbox\" value=\"\" onchange=\"CoqKernel.toggle_auto_roll_back(this)\" checked>\n",
       "      <label\">Auto rollback</label>\n",
       "    </div>\n",
       "</div>\n"
      ],
      "text/plain": []
     },
     "execution_count": 221,
     "metadata": {
      "coq_kernel_evaluated": true,
      "coq_kernel_execution_id": "19D9C90E1C9648A8BD5236BBDCB06D88",
      "coq_kernel_rolled_back": false
     },
     "output_type": "execute_result"
    }
   ],
   "source": [
    "Theorem orb_is_or : (forall a b, Is_true (orb a b) <-> Is_true a \\/ Is_true b).\n",
    "Proof.\n",
    "  intros a b.\n",
    "  unfold iff.\n",
    "  refine (conj _ _).\n",
    "(* orb -> \\/ *)\n",
    "    intros H.\n",
    "    case a, b.\n",
    "(* suppose a,b is true, true *)\n",
    "      simpl.\n",
    "      refine (or_introl _).\n",
    "        exact I.\n",
    "\n",
    "(* suppose a,b is true, false *)\n",
    "      simpl.\n",
    "      exact (or_introl I).\n",
    "\n",
    "(* suppose a,b is false, true *)\n",
    "      exact (or_intror I).\n",
    "\n",
    "(* suppose a,b is false, false *)\n",
    "      simpl in H.\n",
    "      case H.\n",
    "\n",
    "(* \\/ -> orb *)\n",
    "    intros H.\n",
    "    case a, b.\n",
    "(* suppose a,b is true, true *)\n",
    "      simpl.\n",
    "      exact I.\n",
    "\n",
    "(* suppose a,b is true, false *)\n",
    "      exact I.\n",
    "\n",
    "(* suppose a,b is false, true *)\n",
    "      exact I.\n",
    "\n",
    "(* suppose a,b is false, false *)\n",
    "      case H.\n",
    "(* suppose H is (or_introl A) *)\n",
    "         intros A.\n",
    "         simpl in A.\n",
    "         case A.\n",
    "\n",
    "(* suppose H is (or_intror B) *)\n",
    "         intros B.\n",
    "         simpl in B.\n",
    "         case B.\n",
    "Qed."
   ]
  },
  {
   "cell_type": "markdown",
   "metadata": {
    "coq_kernel_metadata": {
     "auto_roll_back": true
    }
   },
   "source": [
    "Wow! We're not in Kansas any more!\n",
    "\n",
    "First, I used \"case\" to split the \"\\/\" hidden inside the \"<->\".\n",
    "Second, inside each of those branches, I did \"case a,b\", which created 4 subgoals, for every possible combination of the two constructors. I thought the proof was clearer that way, even though doing \"case a\" followed by \"case b\" might have been shorter.\n",
    "The proofs for when \"a\" or \"b\" were true were easy. They were all the same proof. You can see that I make the proof shorter as I went along\n",
    "combining \"refine\" and \"exact\" and skipping right over \"simpl\".\n",
    "When both \"a\" and \"b\" were false, I decided it was best to do \"case\" on an instance of False. For \"orb\", that was pretty easy. I did \"simpl in H\", which executed functions calls inside a hypothesis. That gave me an hypothesis of type False, and \"case H\" ended the subgoal.\n",
    "However, for the inductive type \"or\", it was more complicated. I used \"case H\" to consider the different ways of constructing the \"or\". Both constructors - \"or_introl\" and \"or_intror\" - lead to a False hypothesis.\n",
    "That was a real proof. Welcome to the big leagues.\n",
    "RULE If a hypothesis \"<name>\" contain a function call with all its arguments, Then use the tactic \"simpl in <name>.\".\n",
    "Let's try it with \"andb\" and \"/\\\".\n",
    "\n",
    "Theorem andb_is_and : (forall a b, Is_true (andb a b) <-> Is_true a /\\ Is_true b).\n",
    "Proof.\n",
    "  intros a b.\n",
    "  unfold iff.\n",
    "  refine (conj _ _).\n",
    "andb -> /\\\n",
    "    intros H.\n",
    "    case a, b.\n",
    "suppose a,b is true,true\n",
    "      simpl.\n",
    "      exact (conj I I).\n",
    "\n",
    "suppose a,b is true,false\n",
    "      simpl in H.\n",
    "      case H.\n",
    "\n",
    "suppose a,b is false,true\n",
    "      simpl in H.\n",
    "      case H.\n",
    "\n",
    "suppose a,b is false,false\n",
    "      simpl in H.\n",
    "      case H.\n",
    "\n",
    "/\\ -> andb\n",
    "    intros H.\n",
    "    case a,b.\n",
    "suppose a,b is true,true\n",
    "      simpl.\n",
    "      exact I.\n",
    "\n",
    "suppose a,b is true,false\n",
    "      simpl in H.\n",
    "      destruct H as [ A B].\n",
    "      case B.\n",
    "\n",
    "suppose a,b is false,true\n",
    "      simpl in H.\n",
    "      destruct H as [ A B].\n",
    "      case A.\n",
    "\n",
    "suppose a,b is false,false\n",
    "      simpl in H.\n",
    "      destruct H as [ A B].\n",
    "      case A.\n",
    "Qed."
   ]
  },
  {
   "cell_type": "markdown",
   "metadata": {
    "coq_kernel_metadata": {
     "auto_roll_back": true
    }
   },
   "source": [
    "### admit tactic\n",
    "It should be easy for you to proof that \"not\" and \"notb\" are equivalent. Below is a statement of the theorem; fill it in if you think you can.\n",
    "I did not include a proof, so where you would normally see a proof, you'll see the tactic \"admit\" and the vernacular command \"Admitted\". The tactic \"admit\" is a cheat. It ends a subgoal without solving it. A proof containing an \"admit\" is not a real proof, so Coq forces you to end it with \"Admitted\" instead of \"Qed\". I use these commands below so that Coq's parser won't get hung up because I didn't include a proof of the theorem.\n",
    "\n",
    "The \"admit\" tactic has real uses. When there are multiple subgoals and you want to skip over the easy ones to work on the hard one first, the \"admit\" tactic can be used to get the easy subgoals out of the way. Or, if you are only part way done a proof but you want send someone a Coq file that parses, \"admit\" can be used to fill in your blanks.\n",
    "So, take a swing at proving this theorem.\n",
    "`HINT: Remember \"~A\" is \"A -> False\".\n",
    "HINT: You can make use of the proof \"False_cannot_be_proven\"\n",
    "HINT: When you get stuck, look at \"thm_true_imp_false\".`"
   ]
  },
  {
   "cell_type": "code",
   "execution_count": 221,
   "metadata": {
    "coq_kernel_metadata": {
     "auto_roll_back": true,
     "cell_id": "3d77a3f5a0214c1ebe980f7fb828584c",
     "execution_id": "D24C52BF0B524DC89F33152126F1540D"
    }
   },
   "outputs": [
    {
     "data": {
      "text/html": [
       "\n",
       "<div class=\"coq_kernel_output_area\">\n",
       "    <pre></pre>\n",
       "</div>\n",
       "\n",
       "<div class=\"coq_kernel_rich_cell_output coq_kernel_status_message_area\" style=\"padding: 5px 0px;\">\n",
       "    <i class=\"fa-check fa text-success\"></i>\n",
       "    <span>Cell evaluated.</span>\n",
       "</div>\n",
       "\n",
       "<div class=\"coq_kernel_rich_cell_output coq_kernel_status_message_area coq_kernel_rolled_back_status_message\" style=\"padding: 5px 0px; display: none;\">\n",
       "    <i class=\"fa-exclamation-circle fa text-info\"></i>\n",
       "    <span>Cell rolled back.</span>\n",
       "</div>\n",
       "\n",
       "<div class=\"coq_kernel_rich_cell_output coq_kernel_roll_back_controls_area\" style=\"display: none; position: relative;\">\n",
       "    <button class=\"btn btn-default btn-xs coq_kernel_roll_back_button\" onclick=\"CoqKernel.roll_back(this)\">\n",
       "        <i class=\"fa-step-backward fa\"></i>\n",
       "        <span class=\"toolbar-btn-label\">Rollback cell</span>\n",
       "    </button>\n",
       "\n",
       "    <div style=\"display: inline-block; vertical-align: middle; padding-left: 0; padding-right: 0;\">\n",
       "      <input class=\"coq_kernel_auto_roll_back_checkbox\" type=\"checkbox\" value=\"\" onchange=\"CoqKernel.toggle_auto_roll_back(this)\" checked>\n",
       "      <label\">Auto rollback</label>\n",
       "    </div>\n",
       "</div>\n"
      ],
      "text/plain": []
     },
     "execution_count": 225,
     "metadata": {
      "coq_kernel_evaluated": true,
      "coq_kernel_execution_id": "D24C52BF0B524DC89F33152126F1540D",
      "coq_kernel_rolled_back": false
     },
     "output_type": "execute_result"
    }
   ],
   "source": [
    "Theorem negb_is_not : (forall a, Is_true (negb a) <-> (~(Is_true a))).\n",
    "Proof.\n",
    "  admit.\n",
    "(* delete \"admit\" and put your proof here.*)\n",
    "Admitted."
   ]
  },
  {
   "cell_type": "markdown",
   "metadata": {
    "coq_kernel_metadata": {
     "auto_roll_back": true
    }
   },
   "source": [
    "when done, replace \"Admitted.\" with \"Qed.\"\n",
    "RULE: If you have a subgoal that you want to ignore for a while, Then use the tactic \"admit.\".\n",
    "Existence and Equality\n",
    "Like \"and\" and \"or\", the concepts of \"there exists\" and \"equality\" are not fundamental to Coq. They are concepts defined inside of it. Only \"forall\" and the notion of creating a type with constructors is fundamental to Coq.\n",
    "Existence\n",
    "In Coq, you cannot just declare that something exists. You must prove it.\n",
    "For example, we might want to prove that \"there exists a bool 'a' such that (Is_true (andb a true))\". We cannot just state that the \"bool\" exists. You need to produce a value for \"a\" - called the witness - and then prove that the statement holds for the witness.\n",
    "The definition and operator are:\n",
    "Inductive ex (A:Type) (P:A -> Prop) : Prop :=\n",
    "  ex_intro : forall x:A, P x -> ex (A:=A) P.\n",
    "\n",
    "Notation \"'exists' x .. y , p\" := (ex (fun x => .. (ex (fun y => p)) ..))\n",
    "  (at level 200, x binder, right associativity,\n",
    "   format \"'[' 'exists'  '/  ' x  ..  y ,  '/  ' p ']'\")\n",
    "  : type_scope.\n",
    "The proposition \"ex P\" should be read: \"P is a function returning a Prop and there exists an argument to that function such that (P arg) has been proven\". The function \"P\" is known as \"the predicate\". The constructor for \"ex P\" takes the predicate \"P\" , the witness (called \"x\" here) and a proof of \"P x\" in order to return something of type \"ex P\".\n",
    "\"exists ..., ...\" is an operator to provide a friendly notation. For \"and\" and \"or\", we did the same with \"/\\\" and \"/\\\". For existence, the usually operator is a capital E written backwards, but that's difficult to type, so Coq uses the word \"exists\".\n",
    "Let's test this out with the easy theorem I already mentioned.\n",
    "\n",
    "Definition basic_predicate\n",
    ":=\n",
    "  (fun a => Is_true (andb a true))\n",
    ".\n",
    "\n",
    "Theorem thm_exists_basics : (ex basic_predicate).\n",
    "Proof.\n",
    "  pose (witness := true).\n",
    "  refine (ex_intro basic_predicate witness _).\n",
    "    simpl.\n",
    "    exact I.\n",
    "Qed.\n",
    "\n",
    "I start by defining the predicate: a function that takes a single argument \"a\" (which Coq can determine is a \"bool\"). The key part of the proof is the tactic \"refine (ex_intro ...)\". The arguments to \"ex_intro\" are:\n",
    "the predicate\n",
    "the witness\n",
    "a proof of the predicated called with the witness\n",
    "In this usage, I passed \"ex_intro\" the predicate, the witness, and use an \"_\" to create a new subgoal for the proof. The tactics \"simpl\" and \"exist\" are used to solve the proof.\n",
    "I'll prove the same theorem, but this time I'll use \"exists\" operator to show you how much cleaner it looks.\n",
    "Theorem thm_exists_basics__again : (exists a, Is_true (andb a true)).\n",
    "Proof.\n",
    "  pose (witness := true).\n",
    "  refine (ex_intro _ witness _).\n",
    "Coq automatically determines the predicate! We're left to prove that the witness satisfies the function.\n",
    "    simpl.\n",
    "    exact I.\n",
    "Qed.\n",
    "\n",
    "RULE: If the current subgoal starts \"exists <name>, ...\" Then create a witness and use \"refine (ex_intro _ witness _)\"\n",
    "More existence\n",
    "We often use \"exists\" and \"forall\" at the same time. Thus, we end up with proofs like the following.\n",
    "\n",
    "Theorem thm_forall_exists : (forall b, (exists a, Is_true(eqb a b))).\n",
    "Proof.\n",
    "  intros b.\n",
    "  case b.\n",
    "b is true\n",
    "    pose (witness := true).\n",
    "    refine (ex_intro _ witness _).\n",
    "      simpl.\n",
    "      exact I.\n",
    "\n",
    "b is false\n",
    "    pose (witness := false).\n",
    "    refine (ex_intro _ witness _).\n",
    "      simpl.\n",
    "      exact I.\n",
    "Qed.\n",
    "\n",
    "If you look at the proof above, the witness was always equal to \"b\". So, let's try simplifying the proof.\n",
    "\n",
    "Theorem thm_forall_exists__again : (forall b, (exists a, Is_true(eqb a b))).\n",
    "Proof.\n",
    "  intros b.\n",
    "  refine (ex_intro _ b _).\n",
    "witness is b\n",
    "  exact (eqb_a_a b).\n",
    "Qed.\n",
    "\n",
    "We used \"b\" as the witness and ended up with the state:\n",
    "  b : bool\n",
    "  ============================\n",
    "   Is_true (eqb b b)\n",
    "Now, we have already proved:\n",
    "Theorem eqb_a_a : (forall a : bool, Is_true (eqb a a)).\n",
    "I've told you that \"->\" is the type of a function and that \"->\" is shorthand for \"(forall ...)\", so it's not a far leap to see that our theorem \"eqb_a_a\" is a function from any bool (called \"a\" in the statement) to a proof of \"Is_true (eqb a a)\".\n",
    "In our current proof, we needed that statement to hold for our particular hypothesis of \"b\". That is done by the function call \"eqb_a_a b\", which substitutes the specific \"b\" into the place of the generic \"a\" in the body of the \"forall\". The result is \"Is_true (eqb b b)\", which solves our proof.\n",
    "Exists and Forall\n",
    "Here is a classic theorem of logic, showing the relationship between \"forall\" and \"exists\". It gives us a chance to \"destruct\" an instance of type \"ex\".\n",
    "\n",
    "Theorem forall_exists : (forall P : Set->Prop, (forall x, ~(P x)) -> ~(exists x, P x)).\n",
    "Proof.\n",
    "  intros P.\n",
    "  intros forall_x_not_Px.\n",
    "  unfold not.\n",
    "  intros exists_x_Px.\n",
    "  destruct exists_x_Px as [ witness proof_of_Pwitness].\n",
    "  pose (not_Pwitness := forall_x_not_Px witness).\n",
    "  unfold not in not_Pwitness.\n",
    "  pose (proof_of_False := not_Pwitness proof_of_Pwitness).\n",
    "  case proof_of_False.\n",
    "Qed.\n",
    "\n",
    "The proof requires some explanation.\n",
    "we use intros and unfold until we have everything in the context.\n",
    "we use \"destruct\" to extract the witness and the proof of \"P witness\".\n",
    "we call \"(forall x, ~(P x))\" with the witness, to generate \"(P witness) -> False\"\n",
    "we call \"P witness -> False\" with \"P witness\" to get a proof of \"False\".\n",
    "we use the tactic \"case\" on \"proof_of_False\"\n",
    "This proof is hard to read. If you have difficulty reading a proof, you can always use CoqIDE or Proof General to step through the proof and look at the state after each tactic.\n",
    "Another good example of \"exists\" is proving that the implication goes the other way too.\n",
    "\n",
    "Theorem exists_forall : (forall P : Set->Prop, ~(exists x, P x) -> (forall x, ~(P x))).\n",
    "Proof.\n",
    "  intros P.\n",
    "  intros not_exists_x_Px.\n",
    "  intros x.\n",
    "  unfold not.\n",
    "  intros P_x.\n",
    "  unfold not in not_exists_x_Px.\n",
    "  refine (not_exists_x_Px _).\n",
    "    exact (ex_intro P x P_x).\n",
    "Qed.\n",
    "\n",
    "Again, this isn't a very readable proof. It goes by:\n",
    "we use intros and unfold until our subgoal is \"False\".\n",
    "we use \"refine\" to call a function whose type ends in \"-> False\"\n",
    "we create something of type \"exists\" by calling \"ex_intro\"\n",
    "Calculating witnesses\n",
    "For some predicates, the witness is a single value or is easy to generate. Other times, it isn't. In those cases, we can write a function to calculate the witness.\n",
    "Right now, we can't write very complicated functions, since we only know a few types. When we have lists and natural numbers, you'll see some examples."
   ]
  },
  {
   "cell_type": "markdown",
   "metadata": {
    "coq_kernel_metadata": {
     "auto_roll_back": true
    }
   },
   "source": [
    "## Equality\n",
    "Now we come to the big prize: equality! Equality is a derived concept in Coq. It's an inductive type, just like \"and\", \"or\", and \"ex\" (\"exists\"). When I found that out, I was shocked and fascinated!\n",
    "It's defined as:\n",
    "```\n",
    "Inductive eq (A:Type) (x:A) : A -> Prop :=\n",
    "    eq_refl : x = x :>A\n",
    "\n",
    "where \"x = y :> A\" := (@eq A x y) : type_scope.\n",
    "Notation \"x = y\" := (x = y :>_) : type_scope.\n",
    "```\n",
    "The \"Inductive\" statement creates a new type \"eq\" which is a function of a type A and 2 values of type A to Prop. (NOTE: One value of type A is written (x:A) before the \":\" and the other is written \"A ->\" after. This is done so Coq infers the type \"A\" from the first value and not the second.) Calling \"eq\" with all its arguments returns a proposition (with type Prop). A proof of \"eq x y\" means that \"x\" and \"y\" both have the same type and that \"x\" equals \"y\".\n",
    "\n",
    "The only way to create a proof of type \"eq\" is to use the only constructor \"eq_refl\". It takes a value of \"x\" of type \"A\" and returns \"@eq A x x\", that is, that \"x\" is equal to itself. (The \"@\" prevents Coq from inferring values, like the type \"A\".) The name \"eq_refl\" comes from the reflexive property of equality.\n",
    "\n",
    "Lastly, comes two operators. The less commonly used one is \"x = y :> A\" which let's you say that \"x\" and \"y\" are equal and both have type \"A\". The one you'll use most of the time, \"x = y\", does the same but let's Coq infer the type \"A\" instead of forcing you to type it.\n",
    "Now, if you we paying attention, you saw that \"eq_refl\" is the only constructor. We can only create proofs of \"x = x\"! That doesn't seem useful at all!\n",
    "\n",
    "What you don't see is that Coq allows you to execute a function call and substitute the result for the function call. For example, if we had a function \"plus\" that added natural numbers (which have type \"nat\"), we could use \"eq_refl (plus 1 1)\" to create a proof of \"eq nat (plus 1 1) (plus 1 1)\". Then, if we execute the second function call, we get \"eq nat (plus 1 1) 2\", that is, \"1 + 1 = 2\"!\n",
    "\n",
    "The concept of substituting a function call with its result or substituting the result with the function call is called \"convertibility\". One tactic we've seen, \"simpl\", replaces convertible values. We'll see more tactics in the future.\n",
    "Now that we have a concept of what \"=\" means in Coq, let's use it!\n",
    "### Equality is symmetric"
   ]
  },
  {
   "cell_type": "code",
   "execution_count": 225,
   "metadata": {
    "coq_kernel_metadata": {
     "auto_roll_back": true,
     "cell_id": "43fe717af7c14c4eacc8cc60d6a01994",
     "execution_id": "B368CE9ACBD24ACFB849EF347AEF3FDD"
    }
   },
   "outputs": [
    {
     "data": {
      "text/html": [
       "\n",
       "<div class=\"coq_kernel_output_area\">\n",
       "    <pre></pre>\n",
       "</div>\n",
       "\n",
       "<div class=\"coq_kernel_rich_cell_output coq_kernel_status_message_area\" style=\"padding: 5px 0px;\">\n",
       "    <i class=\"fa-check fa text-success\"></i>\n",
       "    <span>Cell evaluated.</span>\n",
       "</div>\n",
       "\n",
       "<div class=\"coq_kernel_rich_cell_output coq_kernel_status_message_area coq_kernel_rolled_back_status_message\" style=\"padding: 5px 0px; display: none;\">\n",
       "    <i class=\"fa-exclamation-circle fa text-info\"></i>\n",
       "    <span>Cell rolled back.</span>\n",
       "</div>\n",
       "\n",
       "<div class=\"coq_kernel_rich_cell_output coq_kernel_roll_back_controls_area\" style=\"display: none; position: relative;\">\n",
       "    <button class=\"btn btn-default btn-xs coq_kernel_roll_back_button\" onclick=\"CoqKernel.roll_back(this)\">\n",
       "        <i class=\"fa-step-backward fa\"></i>\n",
       "        <span class=\"toolbar-btn-label\">Rollback cell</span>\n",
       "    </button>\n",
       "\n",
       "    <div style=\"display: inline-block; vertical-align: middle; padding-left: 0; padding-right: 0;\">\n",
       "      <input class=\"coq_kernel_auto_roll_back_checkbox\" type=\"checkbox\" value=\"\" onchange=\"CoqKernel.toggle_auto_roll_back(this)\" checked>\n",
       "      <label\">Auto rollback</label>\n",
       "    </div>\n",
       "</div>\n"
      ],
      "text/plain": []
     },
     "execution_count": 232,
     "metadata": {
      "coq_kernel_evaluated": true,
      "coq_kernel_execution_id": "B368CE9ACBD24ACFB849EF347AEF3FDD",
      "coq_kernel_rolled_back": false
     },
     "output_type": "execute_result"
    }
   ],
   "source": [
    "Theorem thm_eq_sym : (forall x y : Set, x = y -> y = x).\n",
    "Proof.\n",
    "  intros x y.\n",
    "  intros x_y.\n",
    "  destruct x_y as [].\n",
    "  exact (eq_refl x).\n",
    "Qed."
   ]
  },
  {
   "cell_type": "markdown",
   "metadata": {
    "coq_kernel_metadata": {
     "auto_roll_back": true
    }
   },
   "source": [
    "I use the \"destruct\" tactic on the type \"eq\" because it only has one constructor. Let's look at the state before and after that call.\n",
    "Before, it is:\n",
    "```\n",
    "  x : Set\n",
    "  y : Set\n",
    "  x_y : x = y\n",
    "  ============================\n",
    "   y = x\n",
    "\n",
    "And after:\n",
    "  x : Set\n",
    "  ============================\n",
    "   x = x\n",
    "```\n",
    "By destructing the \"eq_refl\", Coq realizes that \"x\" and \"y\" are convertible and wherever the second name is, it can be replaced by the first. So, \"y\" disappears and is replaced by \"x\". (NOTE: \"destruct\" unlike \"case\", does change the context, so the hypotheses \"y\" and \"x_y\" also disappear.)\n",
    "\n",
    "After \"destruct\", we're left with a subgoal of \"x = x\", which is solved by calling \"eq_refl\".\n",
    "Just to become familiar, let's prove the other big property of equality: transitivity.\n",
    "### Equality is transitive"
   ]
  },
  {
   "cell_type": "code",
   "execution_count": 232,
   "metadata": {
    "coq_kernel_metadata": {
     "auto_roll_back": true,
     "cell_id": "b580f32cdf20423d81674bd2a8f3873b",
     "execution_id": "F7C79E52CACF425686561BACBFF7FF15"
    }
   },
   "outputs": [
    {
     "data": {
      "text/html": [
       "\n",
       "<div class=\"coq_kernel_output_area\">\n",
       "    <pre></pre>\n",
       "</div>\n",
       "\n",
       "<div class=\"coq_kernel_rich_cell_output coq_kernel_status_message_area\" style=\"padding: 5px 0px;\">\n",
       "    <i class=\"fa-check fa text-success\"></i>\n",
       "    <span>Cell evaluated.</span>\n",
       "</div>\n",
       "\n",
       "<div class=\"coq_kernel_rich_cell_output coq_kernel_status_message_area coq_kernel_rolled_back_status_message\" style=\"padding: 5px 0px; display: none;\">\n",
       "    <i class=\"fa-exclamation-circle fa text-info\"></i>\n",
       "    <span>Cell rolled back.</span>\n",
       "</div>\n",
       "\n",
       "<div class=\"coq_kernel_rich_cell_output coq_kernel_roll_back_controls_area\" style=\"display: none; position: relative;\">\n",
       "    <button class=\"btn btn-default btn-xs coq_kernel_roll_back_button\" onclick=\"CoqKernel.roll_back(this)\">\n",
       "        <i class=\"fa-step-backward fa\"></i>\n",
       "        <span class=\"toolbar-btn-label\">Rollback cell</span>\n",
       "    </button>\n",
       "\n",
       "    <div style=\"display: inline-block; vertical-align: middle; padding-left: 0; padding-right: 0;\">\n",
       "      <input class=\"coq_kernel_auto_roll_back_checkbox\" type=\"checkbox\" value=\"\" onchange=\"CoqKernel.toggle_auto_roll_back(this)\" checked>\n",
       "      <label\">Auto rollback</label>\n",
       "    </div>\n",
       "</div>\n"
      ],
      "text/plain": []
     },
     "execution_count": 240,
     "metadata": {
      "coq_kernel_evaluated": true,
      "coq_kernel_execution_id": "F7C79E52CACF425686561BACBFF7FF15",
      "coq_kernel_rolled_back": false
     },
     "output_type": "execute_result"
    }
   ],
   "source": [
    "Theorem thm_eq_trans : (forall x y z: Set, x = y -> y = z -> x = z).\n",
    "Proof.\n",
    "  intros x y z.\n",
    "  intros x_y y_z.\n",
    "  destruct x_y as [].\n",
    "  destruct y_z as [].\n",
    "  exact (eq_refl x).\n",
    "Qed."
   ]
  },
  {
   "cell_type": "markdown",
   "metadata": {
    "coq_kernel_metadata": {
     "auto_roll_back": true
    }
   },
   "source": [
    "Seems pretty easy, doesn't it?\n",
    "Rather than using \"destruct\", most proofs using equality use the tactics \"rewrite\" and \"rewrite <-\". If \"x_y\" has type \"x = y\", then \"rewrite x_y\" will replace \"x\" with \"y\" in the subgoal and \"rewrite <- x_y\" will go the other way, replacing \"y\" with \"x\".\n",
    "Let's see these tactics by proving transitivity again."
   ]
  },
  {
   "cell_type": "code",
   "execution_count": 240,
   "metadata": {
    "coq_kernel_metadata": {
     "auto_roll_back": true,
     "cell_id": "1e3940abf38b482b856372c424897820",
     "execution_id": "40A626AE5D1E42E7A5347015D2BE6E8E"
    }
   },
   "outputs": [
    {
     "data": {
      "text/html": [
       "\n",
       "<div class=\"coq_kernel_output_area\">\n",
       "    <pre></pre>\n",
       "</div>\n",
       "\n",
       "<div class=\"coq_kernel_rich_cell_output coq_kernel_status_message_area\" style=\"padding: 5px 0px;\">\n",
       "    <i class=\"fa-check fa text-success\"></i>\n",
       "    <span>Cell evaluated.</span>\n",
       "</div>\n",
       "\n",
       "<div class=\"coq_kernel_rich_cell_output coq_kernel_status_message_area coq_kernel_rolled_back_status_message\" style=\"padding: 5px 0px; display: none;\">\n",
       "    <i class=\"fa-exclamation-circle fa text-info\"></i>\n",
       "    <span>Cell rolled back.</span>\n",
       "</div>\n",
       "\n",
       "<div class=\"coq_kernel_rich_cell_output coq_kernel_roll_back_controls_area\" style=\"display: none; position: relative;\">\n",
       "    <button class=\"btn btn-default btn-xs coq_kernel_roll_back_button\" onclick=\"CoqKernel.roll_back(this)\">\n",
       "        <i class=\"fa-step-backward fa\"></i>\n",
       "        <span class=\"toolbar-btn-label\">Rollback cell</span>\n",
       "    </button>\n",
       "\n",
       "    <div style=\"display: inline-block; vertical-align: middle; padding-left: 0; padding-right: 0;\">\n",
       "      <input class=\"coq_kernel_auto_roll_back_checkbox\" type=\"checkbox\" value=\"\" onchange=\"CoqKernel.toggle_auto_roll_back(this)\" checked>\n",
       "      <label\">Auto rollback</label>\n",
       "    </div>\n",
       "</div>\n"
      ],
      "text/plain": []
     },
     "execution_count": 248,
     "metadata": {
      "coq_kernel_evaluated": true,
      "coq_kernel_execution_id": "40A626AE5D1E42E7A5347015D2BE6E8E",
      "coq_kernel_rolled_back": false
     },
     "output_type": "execute_result"
    }
   ],
   "source": [
    "Theorem thm_eq_trans__again : (forall x y z: Set, x = y -> y = z -> x = z).\n",
    "Proof.\n",
    "  intros x y z.\n",
    "  intros x_y y_z.\n",
    "  rewrite x_y.\n",
    "  rewrite <- y_z.\n",
    "  exact (eq_refl y).\n",
    "Qed."
   ]
  },
  {
   "cell_type": "markdown",
   "metadata": {
    "coq_kernel_metadata": {
     "auto_roll_back": true
    }
   },
   "source": [
    "That is much cleaner.\n",
    "\n",
    "** RULE: If you have a hypothesis `\"<name> : <a> = <b>\" AND \"<a>\" in your current subgoal Then use the tactic \"rewrite <name>.`\". **\n",
    "\n",
    "** RULE: If you have a hypothesis `\"<name> : <a> = <b>\" AND \"<b>\" in your current subgoal Then use the tactic \"rewrite <- <name>.\".` **\n",
    "\n",
    "Let's try something that explicitly relies on convertibility. Recall, \"andb\" is and for \"bools\" and that it is represented by the operator \"&&\"."
   ]
  },
  {
   "cell_type": "code",
   "execution_count": 248,
   "metadata": {
    "coq_kernel_metadata": {
     "auto_roll_back": true,
     "cell_id": "b9ac41bb0dfd410980d8af44371c21a2",
     "execution_id": "B37EF01ECEAA4F14B03C4DB178EEDFD8"
    }
   },
   "outputs": [
    {
     "data": {
      "text/html": [
       "\n",
       "<div class=\"coq_kernel_output_area\">\n",
       "    <pre></pre>\n",
       "</div>\n",
       "\n",
       "<div class=\"coq_kernel_rich_cell_output coq_kernel_status_message_area\" style=\"padding: 5px 0px;\">\n",
       "    <i class=\"fa-check fa text-success\"></i>\n",
       "    <span>Cell evaluated.</span>\n",
       "</div>\n",
       "\n",
       "<div class=\"coq_kernel_rich_cell_output coq_kernel_status_message_area coq_kernel_rolled_back_status_message\" style=\"padding: 5px 0px; display: none;\">\n",
       "    <i class=\"fa-exclamation-circle fa text-info\"></i>\n",
       "    <span>Cell rolled back.</span>\n",
       "</div>\n",
       "\n",
       "<div class=\"coq_kernel_rich_cell_output coq_kernel_roll_back_controls_area\" style=\"display: none; position: relative;\">\n",
       "    <button class=\"btn btn-default btn-xs coq_kernel_roll_back_button\" onclick=\"CoqKernel.roll_back(this)\">\n",
       "        <i class=\"fa-step-backward fa\"></i>\n",
       "        <span class=\"toolbar-btn-label\">Rollback cell</span>\n",
       "    </button>\n",
       "\n",
       "    <div style=\"display: inline-block; vertical-align: middle; padding-left: 0; padding-right: 0;\">\n",
       "      <input class=\"coq_kernel_auto_roll_back_checkbox\" type=\"checkbox\" value=\"\" onchange=\"CoqKernel.toggle_auto_roll_back(this)\" checked>\n",
       "      <label\">Auto rollback</label>\n",
       "    </div>\n",
       "</div>\n"
      ],
      "text/plain": []
     },
     "execution_count": 261,
     "metadata": {
      "coq_kernel_evaluated": true,
      "coq_kernel_execution_id": "B37EF01ECEAA4F14B03C4DB178EEDFD8",
      "coq_kernel_rolled_back": false
     },
     "output_type": "execute_result"
    }
   ],
   "source": [
    "Theorem andb_sym : (forall a b, a && b = b && a).\n",
    "Proof.\n",
    "  intros a b.\n",
    "  case a, b.\n",
    "(* suppose a,b is true,true *)\n",
    "    simpl.\n",
    "    exact (eq_refl true).\n",
    "\n",
    "(* suppose a,b is true,false *)\n",
    "    simpl.\n",
    "    exact (eq_refl false).\n",
    "\n",
    "(* suppose a,b is false,true *)\n",
    "    simpl.\n",
    "    exact (eq_refl false).\n",
    "\n",
    "(* suppose a,b is false,false *)\n",
    "    simpl.\n",
    "    exact (eq_refl false).\n",
    "Qed."
   ]
  },
  {
   "cell_type": "markdown",
   "metadata": {
    "coq_kernel_metadata": {
     "auto_roll_back": true
    }
   },
   "source": []
  },
  {
   "cell_type": "markdown",
   "metadata": {
    "coq_kernel_metadata": {
     "auto_roll_back": true
    }
   },
   "source": [
    "So, for this proof, we divided it into 4 cases and used convertibility to show that equality held in each. Pretty simple.\n",
    "I should do an example with inequality too.\n",
    "Inequality with discriminate\n",
    "Coq uses the operator \"<>\" for inequality, which really means \"equality is unprovable\" or \"equality implies False\".\n",
    "Notation \"x <> y  :> T\" := (~ x = y :>T) : type_scope.\n",
    "Notation \"x <> y\" := (x <> y :>_) : type_scope.\n",
    "Let's start with a simple example. Recall that \"negb\" is the \"not\" operation for bools."
   ]
  },
  {
   "cell_type": "code",
   "execution_count": 1,
   "metadata": {
    "coq_kernel_metadata": {
     "auto_roll_back": true,
     "cell_id": "d186d9204a6040c4bee2a3f7e16eab8e",
     "evaluated": true,
     "execution_id": "1e52e7bf563a462289aba7812607ba6d",
     "rolled_back": false
    }
   },
   "outputs": [
    {
     "data": {
      "text/html": [
       "\n",
       "<div class=\"coq_kernel_output_area\">\n",
       "    <pre>Proving: neq_nega\n",
       "\n",
       "2 subgoals\n",
       "\n",
       "a : bool\n",
       "\n",
       "1/2 -----------\n",
       "true = negb true -> False\n",
       "2/2 -----------\n",
       "false = negb false -> False</pre>\n",
       "</div>\n",
       "\n",
       "<div class=\"coq_kernel_rich_cell_output coq_kernel_status_message_area\" style=\"padding: 5px 0px;\">\n",
       "    <i class=\"fa-check fa text-success\"></i>\n",
       "    <span>Cell evaluated.</span>\n",
       "</div>\n",
       "\n",
       "<div class=\"coq_kernel_rich_cell_output coq_kernel_status_message_area coq_kernel_rolled_back_status_message\" style=\"padding: 5px 0px; display: none;\">\n",
       "    <i class=\"fa-exclamation-circle fa text-info\"></i>\n",
       "    <span>Cell rolled back.</span>\n",
       "</div>\n",
       "\n",
       "<div class=\"coq_kernel_rich_cell_output coq_kernel_roll_back_controls_area\" style=\"display: none; position: relative;\">\n",
       "    <button class=\"btn btn-default btn-xs coq_kernel_roll_back_button\" onclick=\"CoqKernel.roll_back(this)\">\n",
       "        <i class=\"fa-step-backward fa\"></i>\n",
       "        <span class=\"toolbar-btn-label\">Rollback cell</span>\n",
       "    </button>\n",
       "\n",
       "    <div style=\"display: inline-block; vertical-align: middle; padding-left: 0; padding-right: 0;\">\n",
       "      <input class=\"coq_kernel_auto_roll_back_checkbox\" type=\"checkbox\" value=\"\" onchange=\"CoqKernel.toggle_auto_roll_back(this)\" checked>\n",
       "      <label\">Auto rollback</label>\n",
       "    </div>\n",
       "</div>\n"
      ],
      "text/plain": [
       "Proving: neq_nega\n",
       "\n",
       "2 subgoals\n",
       "\n",
       "a : bool\n",
       "\n",
       "1/2 -----------\n",
       "true = negb true -> False\n",
       "2/2 -----------\n",
       "false = negb false -> False"
      ]
     },
     "execution_count": 6,
     "metadata": {
      "coq_kernel_evaluated": true,
      "coq_kernel_execution_id": "1e52e7bf563a462289aba7812607ba6d",
      "coq_kernel_rolled_back": false
     },
     "output_type": "execute_result"
    }
   ],
   "source": [
    "Theorem neq_nega: (forall a, a <> (negb a)).\n",
    "Proof.\n",
    "  intros a.\n",
    "  unfold not.\n",
    "  case a."
   ]
  },
  {
   "cell_type": "code",
   "execution_count": 6,
   "metadata": {
    "coq_kernel_metadata": {
     "auto_roll_back": true,
     "cell_id": "3ac60875ac004e84a8392eaddb25f2c1",
     "evaluated": true,
     "execution_id": "265a1991925c44d0b542decee9eb889f",
     "rolled_back": false
    }
   },
   "outputs": [
    {
     "data": {
      "text/html": [
       "\n",
       "<div class=\"coq_kernel_output_area\">\n",
       "    <pre>Proving: neq_nega\n",
       "\n",
       "2 subgoals\n",
       "\n",
       "a : bool\n",
       "a_eq_neg_a : true = negb true\n",
       "\n",
       "1/2 -----------\n",
       "False\n",
       "2/2 -----------\n",
       "false = negb false -> False</pre>\n",
       "</div>\n",
       "\n",
       "<div class=\"coq_kernel_rich_cell_output coq_kernel_status_message_area\" style=\"padding: 5px 0px;\">\n",
       "    <i class=\"fa-check fa text-success\"></i>\n",
       "    <span>Cell evaluated.</span>\n",
       "</div>\n",
       "\n",
       "<div class=\"coq_kernel_rich_cell_output coq_kernel_status_message_area coq_kernel_rolled_back_status_message\" style=\"padding: 5px 0px; display: none;\">\n",
       "    <i class=\"fa-exclamation-circle fa text-info\"></i>\n",
       "    <span>Cell rolled back.</span>\n",
       "</div>\n",
       "\n",
       "<div class=\"coq_kernel_rich_cell_output coq_kernel_roll_back_controls_area\" style=\"display: none; position: relative;\">\n",
       "    <button class=\"btn btn-default btn-xs coq_kernel_roll_back_button\" onclick=\"CoqKernel.roll_back(this)\">\n",
       "        <i class=\"fa-step-backward fa\"></i>\n",
       "        <span class=\"toolbar-btn-label\">Rollback cell</span>\n",
       "    </button>\n",
       "\n",
       "    <div style=\"display: inline-block; vertical-align: middle; padding-left: 0; padding-right: 0;\">\n",
       "      <input class=\"coq_kernel_auto_roll_back_checkbox\" type=\"checkbox\" value=\"\" onchange=\"CoqKernel.toggle_auto_roll_back(this)\" checked>\n",
       "      <label\">Auto rollback</label>\n",
       "    </div>\n",
       "</div>\n"
      ],
      "text/plain": [
       "Proving: neq_nega\n",
       "\n",
       "2 subgoals\n",
       "\n",
       "a : bool\n",
       "a_eq_neg_a : true = negb true\n",
       "\n",
       "1/2 -----------\n",
       "False\n",
       "2/2 -----------\n",
       "false = negb false -> False"
      ]
     },
     "execution_count": 7,
     "metadata": {
      "coq_kernel_evaluated": true,
      "coq_kernel_execution_id": "265a1991925c44d0b542decee9eb889f",
      "coq_kernel_rolled_back": false
     },
     "output_type": "execute_result"
    }
   ],
   "source": [
    "    intros a_eq_neg_a.\n",
    " "
   ]
  },
  {
   "cell_type": "code",
   "execution_count": 7,
   "metadata": {
    "coq_kernel_metadata": {
     "auto_roll_back": true,
     "cell_id": "a81ad574de544a258ccb105a99d384eb",
     "evaluated": true,
     "execution_id": "c166a228132240e0aaa819585d3732a7",
     "rolled_back": false
    }
   },
   "outputs": [
    {
     "data": {
      "text/html": [
       "\n",
       "<div class=\"coq_kernel_output_area\">\n",
       "    <pre>Proving: neq_nega\n",
       "\n",
       "2 subgoals\n",
       "\n",
       "a : bool\n",
       "a_eq_neg_a : true = false\n",
       "\n",
       "1/2 -----------\n",
       "False\n",
       "2/2 -----------\n",
       "false = negb false -> False</pre>\n",
       "</div>\n",
       "\n",
       "<div class=\"coq_kernel_rich_cell_output coq_kernel_status_message_area\" style=\"padding: 5px 0px;\">\n",
       "    <i class=\"fa-check fa text-success\"></i>\n",
       "    <span>Cell evaluated.</span>\n",
       "</div>\n",
       "\n",
       "<div class=\"coq_kernel_rich_cell_output coq_kernel_status_message_area coq_kernel_rolled_back_status_message\" style=\"padding: 5px 0px; display: none;\">\n",
       "    <i class=\"fa-exclamation-circle fa text-info\"></i>\n",
       "    <span>Cell rolled back.</span>\n",
       "</div>\n",
       "\n",
       "<div class=\"coq_kernel_rich_cell_output coq_kernel_roll_back_controls_area\" style=\"display: none; position: relative;\">\n",
       "    <button class=\"btn btn-default btn-xs coq_kernel_roll_back_button\" onclick=\"CoqKernel.roll_back(this)\">\n",
       "        <i class=\"fa-step-backward fa\"></i>\n",
       "        <span class=\"toolbar-btn-label\">Rollback cell</span>\n",
       "    </button>\n",
       "\n",
       "    <div style=\"display: inline-block; vertical-align: middle; padding-left: 0; padding-right: 0;\">\n",
       "      <input class=\"coq_kernel_auto_roll_back_checkbox\" type=\"checkbox\" value=\"\" onchange=\"CoqKernel.toggle_auto_roll_back(this)\" checked>\n",
       "      <label\">Auto rollback</label>\n",
       "    </div>\n",
       "</div>\n"
      ],
      "text/plain": [
       "Proving: neq_nega\n",
       "\n",
       "2 subgoals\n",
       "\n",
       "a : bool\n",
       "a_eq_neg_a : true = false\n",
       "\n",
       "1/2 -----------\n",
       "False\n",
       "2/2 -----------\n",
       "false = negb false -> False"
      ]
     },
     "execution_count": 8,
     "metadata": {
      "coq_kernel_evaluated": true,
      "coq_kernel_execution_id": "c166a228132240e0aaa819585d3732a7",
      "coq_kernel_rolled_back": false
     },
     "output_type": "execute_result"
    }
   ],
   "source": [
    "   simpl in a_eq_neg_a."
   ]
  },
  {
   "cell_type": "code",
   "execution_count": 8,
   "metadata": {
    "coq_kernel_metadata": {
     "auto_roll_back": true,
     "cell_id": "ac89df16b6c74e048855c35a0c8da6c1",
     "evaluated": true,
     "execution_id": "8d9d31749f174c7ab6e57fcc4f4ad21c",
     "rolled_back": false
    }
   },
   "outputs": [
    {
     "data": {
      "text/html": [
       "\n",
       "<div class=\"coq_kernel_output_area\">\n",
       "    <pre>Proving: neq_nega\n",
       "\n",
       "1 subgoal\n",
       "\n",
       "a : bool\n",
       "\n",
       "1/1 -----------\n",
       "false = negb false -> False</pre>\n",
       "</div>\n",
       "\n",
       "<div class=\"coq_kernel_rich_cell_output coq_kernel_status_message_area\" style=\"padding: 5px 0px;\">\n",
       "    <i class=\"fa-check fa text-success\"></i>\n",
       "    <span>Cell evaluated.</span>\n",
       "</div>\n",
       "\n",
       "<div class=\"coq_kernel_rich_cell_output coq_kernel_status_message_area coq_kernel_rolled_back_status_message\" style=\"padding: 5px 0px; display: none;\">\n",
       "    <i class=\"fa-exclamation-circle fa text-info\"></i>\n",
       "    <span>Cell rolled back.</span>\n",
       "</div>\n",
       "\n",
       "<div class=\"coq_kernel_rich_cell_output coq_kernel_roll_back_controls_area\" style=\"display: none; position: relative;\">\n",
       "    <button class=\"btn btn-default btn-xs coq_kernel_roll_back_button\" onclick=\"CoqKernel.roll_back(this)\">\n",
       "        <i class=\"fa-step-backward fa\"></i>\n",
       "        <span class=\"toolbar-btn-label\">Rollback cell</span>\n",
       "    </button>\n",
       "\n",
       "    <div style=\"display: inline-block; vertical-align: middle; padding-left: 0; padding-right: 0;\">\n",
       "      <input class=\"coq_kernel_auto_roll_back_checkbox\" type=\"checkbox\" value=\"\" onchange=\"CoqKernel.toggle_auto_roll_back(this)\" checked>\n",
       "      <label\">Auto rollback</label>\n",
       "    </div>\n",
       "</div>\n"
      ],
      "text/plain": [
       "Proving: neq_nega\n",
       "\n",
       "1 subgoal\n",
       "\n",
       "a : bool\n",
       "\n",
       "1/1 -----------\n",
       "false = negb false -> False"
      ]
     },
     "execution_count": 9,
     "metadata": {
      "coq_kernel_evaluated": true,
      "coq_kernel_execution_id": "8d9d31749f174c7ab6e57fcc4f4ad21c",
      "coq_kernel_rolled_back": false
     },
     "output_type": "execute_result"
    }
   ],
   "source": [
    "    discriminate a_eq_neg_a."
   ]
  },
  {
   "cell_type": "code",
   "execution_count": 9,
   "metadata": {
    "coq_kernel_metadata": {
     "auto_roll_back": true,
     "cell_id": "9c98545a929943128771afbb2665a862",
     "evaluated": true,
     "execution_id": "21a666da9be14415837796e638e22a00",
     "rolled_back": false
    }
   },
   "outputs": [
    {
     "data": {
      "text/html": [
       "\n",
       "<div class=\"coq_kernel_output_area\">\n",
       "    <pre>Proving: neq_nega\n",
       "\n",
       "1 subgoal\n",
       "\n",
       "a : bool\n",
       "a_eq_neg_a : false = negb false\n",
       "\n",
       "1/1 -----------\n",
       "False</pre>\n",
       "</div>\n",
       "\n",
       "<div class=\"coq_kernel_rich_cell_output coq_kernel_status_message_area\" style=\"padding: 5px 0px;\">\n",
       "    <i class=\"fa-check fa text-success\"></i>\n",
       "    <span>Cell evaluated.</span>\n",
       "</div>\n",
       "\n",
       "<div class=\"coq_kernel_rich_cell_output coq_kernel_status_message_area coq_kernel_rolled_back_status_message\" style=\"padding: 5px 0px; display: none;\">\n",
       "    <i class=\"fa-exclamation-circle fa text-info\"></i>\n",
       "    <span>Cell rolled back.</span>\n",
       "</div>\n",
       "\n",
       "<div class=\"coq_kernel_rich_cell_output coq_kernel_roll_back_controls_area\" style=\"display: none; position: relative;\">\n",
       "    <button class=\"btn btn-default btn-xs coq_kernel_roll_back_button\" onclick=\"CoqKernel.roll_back(this)\">\n",
       "        <i class=\"fa-step-backward fa\"></i>\n",
       "        <span class=\"toolbar-btn-label\">Rollback cell</span>\n",
       "    </button>\n",
       "\n",
       "    <div style=\"display: inline-block; vertical-align: middle; padding-left: 0; padding-right: 0;\">\n",
       "      <input class=\"coq_kernel_auto_roll_back_checkbox\" type=\"checkbox\" value=\"\" onchange=\"CoqKernel.toggle_auto_roll_back(this)\" checked>\n",
       "      <label\">Auto rollback</label>\n",
       "    </div>\n",
       "</div>\n"
      ],
      "text/plain": [
       "Proving: neq_nega\n",
       "\n",
       "1 subgoal\n",
       "\n",
       "a : bool\n",
       "a_eq_neg_a : false = negb false\n",
       "\n",
       "1/1 -----------\n",
       "False"
      ]
     },
     "execution_count": 10,
     "metadata": {
      "coq_kernel_evaluated": true,
      "coq_kernel_execution_id": "21a666da9be14415837796e638e22a00",
      "coq_kernel_rolled_back": false
     },
     "output_type": "execute_result"
    }
   ],
   "source": [
    "    intros a_eq_neg_a."
   ]
  },
  {
   "cell_type": "code",
   "execution_count": 10,
   "metadata": {
    "coq_kernel_metadata": {
     "auto_roll_back": true,
     "cell_id": "b6eb7be8abab44798bd418de2fbc9213",
     "evaluated": true,
     "execution_id": "56f4ea3148654614ac24e87fdbdf353f",
     "rolled_back": false
    }
   },
   "outputs": [
    {
     "data": {
      "text/html": [
       "\n",
       "<div class=\"coq_kernel_output_area\">\n",
       "    <pre>Proving: neq_nega\n",
       "\n",
       "1 subgoal\n",
       "\n",
       "a : bool\n",
       "a_eq_neg_a : false = true\n",
       "\n",
       "1/1 -----------\n",
       "False</pre>\n",
       "</div>\n",
       "\n",
       "<div class=\"coq_kernel_rich_cell_output coq_kernel_status_message_area\" style=\"padding: 5px 0px;\">\n",
       "    <i class=\"fa-check fa text-success\"></i>\n",
       "    <span>Cell evaluated.</span>\n",
       "</div>\n",
       "\n",
       "<div class=\"coq_kernel_rich_cell_output coq_kernel_status_message_area coq_kernel_rolled_back_status_message\" style=\"padding: 5px 0px; display: none;\">\n",
       "    <i class=\"fa-exclamation-circle fa text-info\"></i>\n",
       "    <span>Cell rolled back.</span>\n",
       "</div>\n",
       "\n",
       "<div class=\"coq_kernel_rich_cell_output coq_kernel_roll_back_controls_area\" style=\"display: none; position: relative;\">\n",
       "    <button class=\"btn btn-default btn-xs coq_kernel_roll_back_button\" onclick=\"CoqKernel.roll_back(this)\">\n",
       "        <i class=\"fa-step-backward fa\"></i>\n",
       "        <span class=\"toolbar-btn-label\">Rollback cell</span>\n",
       "    </button>\n",
       "\n",
       "    <div style=\"display: inline-block; vertical-align: middle; padding-left: 0; padding-right: 0;\">\n",
       "      <input class=\"coq_kernel_auto_roll_back_checkbox\" type=\"checkbox\" value=\"\" onchange=\"CoqKernel.toggle_auto_roll_back(this)\" checked>\n",
       "      <label\">Auto rollback</label>\n",
       "    </div>\n",
       "</div>\n"
      ],
      "text/plain": [
       "Proving: neq_nega\n",
       "\n",
       "1 subgoal\n",
       "\n",
       "a : bool\n",
       "a_eq_neg_a : false = true\n",
       "\n",
       "1/1 -----------\n",
       "False"
      ]
     },
     "execution_count": 11,
     "metadata": {
      "coq_kernel_evaluated": true,
      "coq_kernel_execution_id": "56f4ea3148654614ac24e87fdbdf353f",
      "coq_kernel_rolled_back": false
     },
     "output_type": "execute_result"
    }
   ],
   "source": [
    "    simpl in a_eq_neg_a."
   ]
  },
  {
   "cell_type": "code",
   "execution_count": 11,
   "metadata": {
    "coq_kernel_metadata": {
     "auto_roll_back": true,
     "cell_id": "2205832d94a648748416e4311c252428",
     "evaluated": true,
     "execution_id": "618121c03d4d4633865b9729919c0feb",
     "rolled_back": false
    }
   },
   "outputs": [
    {
     "data": {
      "text/html": [
       "\n",
       "<div class=\"coq_kernel_output_area\">\n",
       "    <pre>Proving: neq_nega\n",
       "\n",
       "No more subgoals</pre>\n",
       "</div>\n",
       "\n",
       "<div class=\"coq_kernel_rich_cell_output coq_kernel_status_message_area\" style=\"padding: 5px 0px;\">\n",
       "    <i class=\"fa-check fa text-success\"></i>\n",
       "    <span>Cell evaluated.</span>\n",
       "</div>\n",
       "\n",
       "<div class=\"coq_kernel_rich_cell_output coq_kernel_status_message_area coq_kernel_rolled_back_status_message\" style=\"padding: 5px 0px; display: none;\">\n",
       "    <i class=\"fa-exclamation-circle fa text-info\"></i>\n",
       "    <span>Cell rolled back.</span>\n",
       "</div>\n",
       "\n",
       "<div class=\"coq_kernel_rich_cell_output coq_kernel_roll_back_controls_area\" style=\"display: none; position: relative;\">\n",
       "    <button class=\"btn btn-default btn-xs coq_kernel_roll_back_button\" onclick=\"CoqKernel.roll_back(this)\">\n",
       "        <i class=\"fa-step-backward fa\"></i>\n",
       "        <span class=\"toolbar-btn-label\">Rollback cell</span>\n",
       "    </button>\n",
       "\n",
       "    <div style=\"display: inline-block; vertical-align: middle; padding-left: 0; padding-right: 0;\">\n",
       "      <input class=\"coq_kernel_auto_roll_back_checkbox\" type=\"checkbox\" value=\"\" onchange=\"CoqKernel.toggle_auto_roll_back(this)\" checked>\n",
       "      <label\">Auto rollback</label>\n",
       "    </div>\n",
       "</div>\n"
      ],
      "text/plain": [
       "Proving: neq_nega\n",
       "\n",
       "No more subgoals"
      ]
     },
     "execution_count": 12,
     "metadata": {
      "coq_kernel_evaluated": true,
      "coq_kernel_execution_id": "618121c03d4d4633865b9729919c0feb",
      "coq_kernel_rolled_back": false
     },
     "output_type": "execute_result"
    }
   ],
   "source": [
    "    discriminate a_eq_neg_a."
   ]
  },
  {
   "cell_type": "code",
   "execution_count": 12,
   "metadata": {
    "coq_kernel_metadata": {
     "auto_roll_back": true,
     "cell_id": "5b2a21e8d34d438c84047a8b7d336ace",
     "evaluated": true,
     "execution_id": "66658d7b617d4740945e5b5ae51157b1",
     "rolled_back": false
    }
   },
   "outputs": [
    {
     "data": {
      "text/html": [
       "\n",
       "<div class=\"coq_kernel_output_area\">\n",
       "    <pre></pre>\n",
       "</div>\n",
       "\n",
       "<div class=\"coq_kernel_rich_cell_output coq_kernel_status_message_area\" style=\"padding: 5px 0px;\">\n",
       "    <i class=\"fa-check fa text-success\"></i>\n",
       "    <span>Cell evaluated.</span>\n",
       "</div>\n",
       "\n",
       "<div class=\"coq_kernel_rich_cell_output coq_kernel_status_message_area coq_kernel_rolled_back_status_message\" style=\"padding: 5px 0px; display: none;\">\n",
       "    <i class=\"fa-exclamation-circle fa text-info\"></i>\n",
       "    <span>Cell rolled back.</span>\n",
       "</div>\n",
       "\n",
       "<div class=\"coq_kernel_rich_cell_output coq_kernel_roll_back_controls_area\" style=\"display: none; position: relative;\">\n",
       "    <button class=\"btn btn-default btn-xs coq_kernel_roll_back_button\" onclick=\"CoqKernel.roll_back(this)\">\n",
       "        <i class=\"fa-step-backward fa\"></i>\n",
       "        <span class=\"toolbar-btn-label\">Rollback cell</span>\n",
       "    </button>\n",
       "\n",
       "    <div style=\"display: inline-block; vertical-align: middle; padding-left: 0; padding-right: 0;\">\n",
       "      <input class=\"coq_kernel_auto_roll_back_checkbox\" type=\"checkbox\" value=\"\" onchange=\"CoqKernel.toggle_auto_roll_back(this)\" checked>\n",
       "      <label\">Auto rollback</label>\n",
       "    </div>\n",
       "</div>\n"
      ],
      "text/plain": []
     },
     "execution_count": 14,
     "metadata": {
      "coq_kernel_evaluated": true,
      "coq_kernel_execution_id": "66658d7b617d4740945e5b5ae51157b1",
      "coq_kernel_rolled_back": false
     },
     "output_type": "execute_result"
    }
   ],
   "source": [
    "Qed."
   ]
  },
  {
   "cell_type": "markdown",
   "metadata": {
    "coq_kernel_metadata": {
     "auto_roll_back": true
    }
   },
   "source": [
    "To prove this, once again I had to delay calling \"intros\" until after \"case\". If I did not, \"a\" in \"a_eq_neg_a\" would not get replaced \"true\" or \"false\". I also used a new tactic: \"discriminate\".\n",
    "\n",
    "\"discriminate\" operates on a hypothesis where values of inductive type are compared using equality. If the constructors used to generate the type are the different, like here where we have \"true = false\", then Coq knows that situation can never happen. It's like a proof of False. In that case, `\"discriminate <hypname>.\"` ends the subgoal.\n",
    "\n",
    "When working with inductive types, you will use \"discriminate\" to eliminate a lot of cases that can never happen.\n",
    "\n",
    "** RULE: If you have a hypothesis `\"<name> : (<constructor1> ...) = (<constructor2> ...) OR \"<name> : <constant1> = <constant2> Then use the tactic \"discriminate <name>.\"`. **\n",
    "\n",
    "To really show off equality, we'll need something more numerous than just 2 booleans. Next up is natural numbers - an infinite set of objects - and induction - which allows us to prove properties about infinite sets of objects!\n",
    "## Natural Numbers and Induction\n",
    "### Peano Arithmetic\n",
    "The natural numbers are 0, 1, 2, 3, 4, ... . They are the simplest mathematical concept that contain an unbounded number of values.\n",
    "In 1889, Peano published a simple set of axioms (fundamental rules) that defined the natural numbers and how to prove things about them. Peano's axioms have become the standard way in logic of talking about and manipulating the natural numbers. More complex schemes - like the decimal numbers we usually use - are justified by proving them equivalent to Peano's axioms.\n",
    "\n",
    "Peano's definition of natural numbers is:\n",
    "0 is a natural number.\n",
    "For every natural number n, (S n) is a natural number.\n",
    "\n",
    "\"(S n)\" is spoken as \"the successor of n\" but you should think about it as \"1 + n\". If we were to list the first few of Peano's natural numbers, they would be:\n",
    "0 is 0\n",
    "1 is (S 0) = (1 + 0)\n",
    "2 is (S (S 0)) = (1+ (1 + 0))\n",
    "3 is (S (S (S 0)) = (1 + (1 + (1 + 0)))\n",
    "...\n",
    "Peano's natural numbers are represented in Coq by the type \"nat\".\n",
    "```I\n",
    "nductive nat : Set :=\n",
    "  | O : nat\n",
    "  | S : nat -> nat.\n",
    "  ```\n",
    "WARNING: The \"O\" here is the capital-letter O, not the number zero.\n",
    "So, Coq's natural numbers exactly matches the definition of Peano.\n",
    "If we want to do something with \"nat\"s, we need some functions. Here is how Peano's definition of addition looks in Coq.\n",
    "```\n",
    "Fixpoint plus (n m:nat) : nat :=\n",
    "  match n with\n",
    "  | O => m\n",
    "  | S p => S (p + m)\n",
    "  end\n",
    "where \"n + m\" := (plus n m) : nat_scope.\n",
    "```\n",
    "Previously, we used the vernacular command \"Definition\" to define a function. The command here is \"Fixpoint\". \"Fixpoint\" must be used any time you define a recursive function. It's hard to see that \"plus\" calls itself because the recursive call is hidden by the \"+\" in \"p + m\".\n",
    "We know that (2 + 3) = 5, so let's see how that property holds in Coq. Below, the difference between lines is one execution of a function call to \"plus\".\n",
    "```\n",
    "(plus (S (S O)) (S (S (S O))))\n",
    "(S (plus (S O) (S (S (S O)))))\n",
    "(S (S (plus O (S (S (S O))))))\n",
    "(S (S (S (S (S O))))))\n",
    "```\n",
    "Each execution of \"plus\" strips an \"S\" off the front of the first number and puts it in front of the recursive call to \"plus\". When the first parameter is \"O\", \"plus\" returns the second argument.\n",
    "\n",
    "Remember that \"O\" and \"S\" are constructors - they're opaque functions that were created when we declared \"nat\". There is no way to execute them. Therefore, \"(S (S (S (S (S O))))))\" does not have any function calls that can be executed and, therefore, is the canonical form of the number 5.\n",
    "\n",
    "The proof of \"2 + 3 = 5\" only need one call to \"simpl\" to get it to the canonical form."
   ]
  },
  {
   "cell_type": "code",
   "execution_count": null,
   "metadata": {
    "coq_kernel_metadata": {
     "auto_roll_back": true
    }
   },
   "outputs": [],
   "source": []
  },
  {
   "cell_type": "code",
   "execution_count": 273,
   "metadata": {
    "coq_kernel_metadata": {
     "auto_roll_back": true,
     "cell_id": "9271487dd6d54320839705ebeb6f44be",
     "execution_id": "DE7A15DC05914AF08C354BB8332029CD"
    }
   },
   "outputs": [
    {
     "data": {
      "text/html": [
       "\n",
       "<div class=\"coq_kernel_output_area\">\n",
       "    <pre></pre>\n",
       "</div>\n",
       "\n",
       "<div class=\"coq_kernel_rich_cell_output coq_kernel_status_message_area\" style=\"padding: 5px 0px;\">\n",
       "    <i class=\"fa-check fa text-success\"></i>\n",
       "    <span>Cell evaluated.</span>\n",
       "</div>\n",
       "\n",
       "<div class=\"coq_kernel_rich_cell_output coq_kernel_status_message_area coq_kernel_rolled_back_status_message\" style=\"padding: 5px 0px; display: none;\">\n",
       "    <i class=\"fa-exclamation-circle fa text-info\"></i>\n",
       "    <span>Cell rolled back.</span>\n",
       "</div>\n",
       "\n",
       "<div class=\"coq_kernel_rich_cell_output coq_kernel_roll_back_controls_area\" style=\"display: none; position: relative;\">\n",
       "    <button class=\"btn btn-default btn-xs coq_kernel_roll_back_button\" onclick=\"CoqKernel.roll_back(this)\">\n",
       "        <i class=\"fa-step-backward fa\"></i>\n",
       "        <span class=\"toolbar-btn-label\">Rollback cell</span>\n",
       "    </button>\n",
       "\n",
       "    <div style=\"display: inline-block; vertical-align: middle; padding-left: 0; padding-right: 0;\">\n",
       "      <input class=\"coq_kernel_auto_roll_back_checkbox\" type=\"checkbox\" value=\"\" onchange=\"CoqKernel.toggle_auto_roll_back(this)\" checked>\n",
       "      <label\">Auto rollback</label>\n",
       "    </div>\n",
       "</div>\n"
      ],
      "text/plain": []
     },
     "execution_count": 278,
     "metadata": {
      "coq_kernel_evaluated": true,
      "coq_kernel_execution_id": "DE7A15DC05914AF08C354BB8332029CD",
      "coq_kernel_rolled_back": false
     },
     "output_type": "execute_result"
    }
   ],
   "source": [
    "Theorem plus_2_3 : (S (S O)) + (S (S (S O))) = (S (S (S (S (S O))))).\n",
    "Proof.\n",
    "  simpl.\n",
    "  exact (eq_refl 5).\n",
    "Qed."
   ]
  },
  {
   "cell_type": "markdown",
   "metadata": {
    "coq_kernel_metadata": {
     "auto_roll_back": true
    }
   },
   "source": [
    "As you can see by \"eq_refl 5\", Coq will translate decimal numbers into terms of \"nat\" automatically. This means capital-letter \"O\" and the digit \"0\" are really the same term, which prevents a lot of mistakes. There are ways to instruct Coq to treat decimals as other types, such as integers, rationals, etc.\n",
    "We can convince ourselves that the function \"plus\" has all the properties associated with addition, by proving those properties. So, let's prove them!"
   ]
  },
  {
   "cell_type": "code",
   "execution_count": 278,
   "metadata": {
    "coq_kernel_metadata": {
     "auto_roll_back": true,
     "cell_id": "67069ae014e9479487324876e10b16e8",
     "execution_id": "5D8E953F96E84A1CAEF3F53CDABDA526"
    }
   },
   "outputs": [
    {
     "data": {
      "text/html": [
       "\n",
       "<div class=\"coq_kernel_output_area\">\n",
       "    <pre></pre>\n",
       "</div>\n",
       "\n",
       "<div class=\"coq_kernel_rich_cell_output coq_kernel_status_message_area\" style=\"padding: 5px 0px;\">\n",
       "    <i class=\"fa-check fa text-success\"></i>\n",
       "    <span>Cell evaluated.</span>\n",
       "</div>\n",
       "\n",
       "<div class=\"coq_kernel_rich_cell_output coq_kernel_status_message_area coq_kernel_rolled_back_status_message\" style=\"padding: 5px 0px; display: none;\">\n",
       "    <i class=\"fa-exclamation-circle fa text-info\"></i>\n",
       "    <span>Cell rolled back.</span>\n",
       "</div>\n",
       "\n",
       "<div class=\"coq_kernel_rich_cell_output coq_kernel_roll_back_controls_area\" style=\"display: none; position: relative;\">\n",
       "    <button class=\"btn btn-default btn-xs coq_kernel_roll_back_button\" onclick=\"CoqKernel.roll_back(this)\">\n",
       "        <i class=\"fa-step-backward fa\"></i>\n",
       "        <span class=\"toolbar-btn-label\">Rollback cell</span>\n",
       "    </button>\n",
       "\n",
       "    <div style=\"display: inline-block; vertical-align: middle; padding-left: 0; padding-right: 0;\">\n",
       "      <input class=\"coq_kernel_auto_roll_back_checkbox\" type=\"checkbox\" value=\"\" onchange=\"CoqKernel.toggle_auto_roll_back(this)\" checked>\n",
       "      <label\">Auto rollback</label>\n",
       "    </div>\n",
       "</div>\n"
      ],
      "text/plain": []
     },
     "execution_count": 284,
     "metadata": {
      "coq_kernel_evaluated": true,
      "coq_kernel_execution_id": "5D8E953F96E84A1CAEF3F53CDABDA526",
      "coq_kernel_rolled_back": false
     },
     "output_type": "execute_result"
    }
   ],
   "source": [
    "Theorem plus_O_n : (forall n, O + n = n).\n",
    "Proof.\n",
    "  intros n.\n",
    "  simpl.\n",
    "  exact (eq_refl n).\n",
    "Qed."
   ]
  },
  {
   "cell_type": "markdown",
   "metadata": {
    "coq_kernel_metadata": {
     "auto_roll_back": true
    }
   },
   "source": [
    "## Induction\n",
    "It was easy to prove \"(forall n, O + n = n)\", but it's much harder to prove \"(forall n, n + O = n)\". The reason is that the function \"plus\" executes \"match\" on its first parameter. If the first parameter is a constant, such as \"O\", we can use \"simpl\" to execute \"plus\" and get the answer. But, if the first argument is a variable, like \"n\", we can't.\n",
    "\n",
    "To solve this, we need to do the proof by induction on \"n\". Peano's axiom for induction is:\n",
    "```\n",
    "If \"P\" is a predicate such that\n",
    "     (P 0) is proven, and\n",
    "     for all n, (P n) -> (P (S n)) is proven,\n",
    "  Then (P n) is proven for all n.\n",
    "  ```\n",
    "The proof of \"(P O)\" is known as the \"base case\". The proof of \"(forall n:nat, P n -> P (S n))\" is known as the \"inductive case\" and, inside that case, \"P n\" is known as the \"inductive hypothesis\".\n",
    "\n",
    "When \"nat\" was declared, Coq created a function that exactly represents induction on \"nat\"s. It is called \"nat_ind\" and you can see its type with the vernacular command \"Check\".\n",
    "```Check nat_ind.```\n",
    "Its output should look like this:\n",
    "```\n",
    "nat_ind\n",
    "     : forall P : nat -> Type,\n",
    "         P O -> (forall n : nat, P n -> P (S n)) -> forall n : nat, P n\n",
    "         ```\n",
    "Now, we could - define a function \"P n\" that represents \"O + n = n\"\n",
    "```\n",
    "prove that the function holds for \"P O\"\n",
    "prove that the function holds for \"P (S n)\" assuming \"P n\"\n",
    "and then call the function nat_ind with those 3 values.\n",
    "```\n",
    "But that's a lot of work. Luckily, Coq defines tactics that do most of the work for us! These tactics take a subgoal and infer the predicate P, and then generates child subgoals for the other pieces.\n",
    "One tactic, \"elim\" works very similarly to \"case\"."
   ]
  },
  {
   "cell_type": "code",
   "execution_count": 284,
   "metadata": {
    "coq_kernel_metadata": {
     "auto_roll_back": true,
     "cell_id": "d72b94930f0449019ee3973a57ff5fa3",
     "execution_id": "8B41A1B1F7C14CA8A0A70FDD70DC2067"
    }
   },
   "outputs": [
    {
     "data": {
      "text/html": [
       "\n",
       "<div class=\"coq_kernel_output_area\">\n",
       "    <pre></pre>\n",
       "</div>\n",
       "\n",
       "<div class=\"coq_kernel_rich_cell_output coq_kernel_status_message_area\" style=\"padding: 5px 0px;\">\n",
       "    <i class=\"fa-check fa text-success\"></i>\n",
       "    <span>Cell evaluated.</span>\n",
       "</div>\n",
       "\n",
       "<div class=\"coq_kernel_rich_cell_output coq_kernel_status_message_area coq_kernel_rolled_back_status_message\" style=\"padding: 5px 0px; display: none;\">\n",
       "    <i class=\"fa-exclamation-circle fa text-info\"></i>\n",
       "    <span>Cell rolled back.</span>\n",
       "</div>\n",
       "\n",
       "<div class=\"coq_kernel_rich_cell_output coq_kernel_roll_back_controls_area\" style=\"display: none; position: relative;\">\n",
       "    <button class=\"btn btn-default btn-xs coq_kernel_roll_back_button\" onclick=\"CoqKernel.roll_back(this)\">\n",
       "        <i class=\"fa-step-backward fa\"></i>\n",
       "        <span class=\"toolbar-btn-label\">Rollback cell</span>\n",
       "    </button>\n",
       "\n",
       "    <div style=\"display: inline-block; vertical-align: middle; padding-left: 0; padding-right: 0;\">\n",
       "      <input class=\"coq_kernel_auto_roll_back_checkbox\" type=\"checkbox\" value=\"\" onchange=\"CoqKernel.toggle_auto_roll_back(this)\" checked>\n",
       "      <label\">Auto rollback</label>\n",
       "    </div>\n",
       "</div>\n"
      ],
      "text/plain": []
     },
     "execution_count": 296,
     "metadata": {
      "coq_kernel_evaluated": true,
      "coq_kernel_execution_id": "8B41A1B1F7C14CA8A0A70FDD70DC2067",
      "coq_kernel_rolled_back": false
     },
     "output_type": "execute_result"
    }
   ],
   "source": [
    "Theorem plus_n_O : (forall n, n + O = n).\n",
    "Proof.\n",
    "  intros n.\n",
    "  elim n.\n",
    "(* base case *)\n",
    "    simpl.\n",
    "    exact (eq_refl O).\n",
    "\n",
    "(* inductive case *)\n",
    "    intros n'.\n",
    "    intros inductive_hypothesis.\n",
    "    simpl.\n",
    "    rewrite inductive_hypothesis.\n",
    "    exact (eq_refl (S n')).\n",
    "Qed."
   ]
  },
  {
   "cell_type": "markdown",
   "metadata": {
    "coq_kernel_metadata": {
     "auto_roll_back": true
    }
   },
   "source": [
    "It's obvious how the tactic \"elim\" generates the base case and inductive case. It was important to me to show that the \"n\" in the inductive case was different from the original \"n\" in our goal. I chose to name it \"n'\" which is spoken \"n prime\".\n",
    "\n",
    "I used the \"rewrite\" tactic with the inductive hypothesis to substitute \"n' + O\" in the subgoal. If you're using the \"elim\" tactic, you should always use the inductive hypothesis. If you don't, you should use the \"case\" tactic instead of \"elim\".\n",
    "\n",
    "** RULE: If there is a hypothesis `\"<name>\" of a created type AND that hypothesis is used in the subgoal, AND the type has a recursive definition, Then you can try the tactic \"elim <name>.\"`. **"
   ]
  },
  {
   "cell_type": "markdown",
   "metadata": {
    "coq_kernel_metadata": {
     "auto_roll_back": true
    }
   },
   "source": [
    "### Induction tactic\n",
    "Just as the \"case\" tactic has a similar \"destruct\" tactic, the \"elim\" tactic has a similar \"induction\" tactic. Let's look at the previous proof, but using this new tactic."
   ]
  },
  {
   "cell_type": "code",
   "execution_count": 296,
   "metadata": {
    "coq_kernel_metadata": {
     "auto_roll_back": true,
     "cell_id": "bd3b66e0d3ce43a28d7955912624e761",
     "execution_id": "4BD20106F9FC4E138B901747CDD508DD"
    }
   },
   "outputs": [
    {
     "data": {
      "text/html": [
       "\n",
       "<div class=\"coq_kernel_output_area\">\n",
       "    <pre></pre>\n",
       "</div>\n",
       "\n",
       "<div class=\"coq_kernel_rich_cell_output coq_kernel_status_message_area\" style=\"padding: 5px 0px;\">\n",
       "    <i class=\"fa-check fa text-success\"></i>\n",
       "    <span>Cell evaluated.</span>\n",
       "</div>\n",
       "\n",
       "<div class=\"coq_kernel_rich_cell_output coq_kernel_status_message_area coq_kernel_rolled_back_status_message\" style=\"padding: 5px 0px; display: none;\">\n",
       "    <i class=\"fa-exclamation-circle fa text-info\"></i>\n",
       "    <span>Cell rolled back.</span>\n",
       "</div>\n",
       "\n",
       "<div class=\"coq_kernel_rich_cell_output coq_kernel_roll_back_controls_area\" style=\"display: none; position: relative;\">\n",
       "    <button class=\"btn btn-default btn-xs coq_kernel_roll_back_button\" onclick=\"CoqKernel.roll_back(this)\">\n",
       "        <i class=\"fa-step-backward fa\"></i>\n",
       "        <span class=\"toolbar-btn-label\">Rollback cell</span>\n",
       "    </button>\n",
       "\n",
       "    <div style=\"display: inline-block; vertical-align: middle; padding-left: 0; padding-right: 0;\">\n",
       "      <input class=\"coq_kernel_auto_roll_back_checkbox\" type=\"checkbox\" value=\"\" onchange=\"CoqKernel.toggle_auto_roll_back(this)\" checked>\n",
       "      <label\">Auto rollback</label>\n",
       "    </div>\n",
       "</div>\n"
      ],
      "text/plain": []
     },
     "execution_count": 306,
     "metadata": {
      "coq_kernel_evaluated": true,
      "coq_kernel_execution_id": "4BD20106F9FC4E138B901747CDD508DD",
      "coq_kernel_rolled_back": false
     },
     "output_type": "execute_result"
    }
   ],
   "source": [
    "Theorem plus_n_O__again : (forall n, n + O = n).\n",
    "Proof.\n",
    "  intros n.\n",
    "  induction n as [|n' inductive_hypothesis].\n",
    "(* base case *)\n",
    "    simpl.\n",
    "    exact (eq_refl O).\n",
    "\n",
    "(* inductive case *)\n",
    "    simpl.\n",
    "    rewrite inductive_hypothesis.\n",
    "    exact (eq_refl (S n')).\n",
    "Qed."
   ]
  },
  {
   "cell_type": "markdown",
   "metadata": {
    "coq_kernel_metadata": {
     "auto_roll_back": true
    }
   },
   "source": [
    "So, the \"induction\" tactic does the same thing as \"elim.\", except the names of the created variables are listed in the tactic, rather than being assigned later using \"intros\" in the inductive case of the proof.\n",
    "\n",
    "The \"induction\" command creates 2 subgoals, one for the base case and another for the inductive case, and after the \"as\" keyword, there are 2 lists of variable names, one for the base case and one for the inductive case. Those lists are separated by verical bars ('|') inside the square brackets. The base case doesn't create any variables, so its list is empty. The inductive case creates two variables, and they are named \"n'\" and \"inductive_hypothesis\".\n",
    "\n",
    "I said the \"induction\" command was similar to \"destruct\" and, if the type \"destruct\"ed has more than one constructor, the \"destruct\" command will create a subgoals for each constructor and the command needs a list of variable names for each constructor. For example, the type \"or\" has two constructors. Recall that something of type \"or A B\" can be created by \"or_introl proof_of_A\" or \"or_intror proof_of_B\". If I \"destruct\" an \"or A B\", it will create two subgoals and the \"destruct\" needs to have a list of variables for each. To demonstrate this, I'll redo the proof that or commutes."
   ]
  },
  {
   "cell_type": "code",
   "execution_count": 306,
   "metadata": {
    "coq_kernel_metadata": {
     "auto_roll_back": true,
     "cell_id": "013ae59fa396402684a09f48a988f133",
     "execution_id": "5888C65ECED1412C80EBA15BE9E18A14"
    }
   },
   "outputs": [
    {
     "data": {
      "text/html": [
       "\n",
       "<div class=\"coq_kernel_output_area\">\n",
       "    <pre></pre>\n",
       "</div>\n",
       "\n",
       "<div class=\"coq_kernel_rich_cell_output coq_kernel_status_message_area\" style=\"padding: 5px 0px;\">\n",
       "    <i class=\"fa-check fa text-success\"></i>\n",
       "    <span>Cell evaluated.</span>\n",
       "</div>\n",
       "\n",
       "<div class=\"coq_kernel_rich_cell_output coq_kernel_status_message_area coq_kernel_rolled_back_status_message\" style=\"padding: 5px 0px; display: none;\">\n",
       "    <i class=\"fa-exclamation-circle fa text-info\"></i>\n",
       "    <span>Cell rolled back.</span>\n",
       "</div>\n",
       "\n",
       "<div class=\"coq_kernel_rich_cell_output coq_kernel_roll_back_controls_area\" style=\"display: none; position: relative;\">\n",
       "    <button class=\"btn btn-default btn-xs coq_kernel_roll_back_button\" onclick=\"CoqKernel.roll_back(this)\">\n",
       "        <i class=\"fa-step-backward fa\"></i>\n",
       "        <span class=\"toolbar-btn-label\">Rollback cell</span>\n",
       "    </button>\n",
       "\n",
       "    <div style=\"display: inline-block; vertical-align: middle; padding-left: 0; padding-right: 0;\">\n",
       "      <input class=\"coq_kernel_auto_roll_back_checkbox\" type=\"checkbox\" value=\"\" onchange=\"CoqKernel.toggle_auto_roll_back(this)\" checked>\n",
       "      <label\">Auto rollback</label>\n",
       "    </div>\n",
       "</div>\n"
      ],
      "text/plain": []
     },
     "execution_count": 316,
     "metadata": {
      "coq_kernel_evaluated": true,
      "coq_kernel_execution_id": "5888C65ECED1412C80EBA15BE9E18A14",
      "coq_kernel_rolled_back": false
     },
     "output_type": "execute_result"
    }
   ],
   "source": [
    "Theorem or_commutes__again : (forall A B, A \\/ B -> B \\/ A).\n",
    "Proof.\n",
    "  intros A B.\n",
    "  intros A_or_B.\n",
    "  destruct A_or_B as [proof_of_A | proof_of_B].\n",
    "(* suppose A_or_B is (or_introl proof_of_A) *)\n",
    "    refine (or_intror _).\n",
    "      exact proof_of_A.\n",
    "\n",
    "(* suppose A_or_B is (or_intror proof_of_B) *)\n",
    "    refine (or_introl _).\n",
    "      exact proof_of_B.\n",
    "Qed."
   ]
  },
  {
   "cell_type": "markdown",
   "metadata": {
    "coq_kernel_metadata": {
     "auto_roll_back": true
    }
   },
   "source": []
  },
  {
   "cell_type": "markdown",
   "metadata": {
    "coq_kernel_metadata": {
     "auto_roll_back": true
    }
   },
   "source": [
    "In my proofs, I like to use \"case\" and \"elim\" and only use \"destruct\" for types with a single constructor. However, some people prefer to use \"destruct\" and \"induction\" for every proof. The writers of Coq are talking about removing this duplication and may remove \"case\" and \"elim\" in the future.\n",
    "\n",
    "If you want to use \"destruct\" and \"induction\", it is helpful to use the Vernacular command \"Print\", which prints out a definition and shows you how many constructors there are and which variables you need to name for each one.\n",
    "```\n",
    "Print or.\n",
    "Print nat_ind.\n",
    "```\n",
    "Now we return to proofs on induction using \"nat\". And let's do a difficult proof. Let's prove that \"n + m = m + n\".\n",
    "### Addition is Symmetric"
   ]
  },
  {
   "cell_type": "code",
   "execution_count": 316,
   "metadata": {
    "coq_kernel_metadata": {
     "auto_roll_back": true,
     "cell_id": "cb12d6aa76d94d4d828d5cce5e853557",
     "execution_id": "A02BB5FA6FB342D7807DEB7AEA04689C"
    }
   },
   "outputs": [
    {
     "data": {
      "text/html": [
       "\n",
       "<div class=\"coq_kernel_output_area\">\n",
       "    <pre></pre>\n",
       "</div>\n",
       "\n",
       "<div class=\"coq_kernel_rich_cell_output coq_kernel_status_message_area\" style=\"padding: 5px 0px;\">\n",
       "    <i class=\"fa-check fa text-success\"></i>\n",
       "    <span>Cell evaluated.</span>\n",
       "</div>\n",
       "\n",
       "<div class=\"coq_kernel_rich_cell_output coq_kernel_status_message_area coq_kernel_rolled_back_status_message\" style=\"padding: 5px 0px; display: none;\">\n",
       "    <i class=\"fa-exclamation-circle fa text-info\"></i>\n",
       "    <span>Cell rolled back.</span>\n",
       "</div>\n",
       "\n",
       "<div class=\"coq_kernel_rich_cell_output coq_kernel_roll_back_controls_area\" style=\"display: none; position: relative;\">\n",
       "    <button class=\"btn btn-default btn-xs coq_kernel_roll_back_button\" onclick=\"CoqKernel.roll_back(this)\">\n",
       "        <i class=\"fa-step-backward fa\"></i>\n",
       "        <span class=\"toolbar-btn-label\">Rollback cell</span>\n",
       "    </button>\n",
       "\n",
       "    <div style=\"display: inline-block; vertical-align: middle; padding-left: 0; padding-right: 0;\">\n",
       "      <input class=\"coq_kernel_auto_roll_back_checkbox\" type=\"checkbox\" value=\"\" onchange=\"CoqKernel.toggle_auto_roll_back(this)\" checked>\n",
       "      <label\">Auto rollback</label>\n",
       "    </div>\n",
       "</div>\n"
      ],
      "text/plain": []
     },
     "execution_count": 342,
     "metadata": {
      "coq_kernel_evaluated": true,
      "coq_kernel_execution_id": "A02BB5FA6FB342D7807DEB7AEA04689C",
      "coq_kernel_rolled_back": false
     },
     "output_type": "execute_result"
    }
   ],
   "source": [
    "Theorem plus_sym: (forall n m, n + m = m + n).\n",
    "Proof.\n",
    "  intros n m.\n",
    "  elim n.\n",
    "(* base case for n *)\n",
    "    elim m.\n",
    "(* base case for m *)\n",
    "      exact (eq_refl (O + O)).\n",
    "\n",
    "(* inductive case for m *)\n",
    "      intros m'.\n",
    "      intros inductive_hyp_m.\n",
    "      simpl.\n",
    "      rewrite <- inductive_hyp_m.\n",
    "      simpl.\n",
    "      exact (eq_refl (S m')).\n",
    "\n",
    "(* inductive case for n *)\n",
    "    intros n'.\n",
    "    intros inductive_hyp_n.\n",
    "    simpl.\n",
    "    rewrite inductive_hyp_n.\n",
    "    elim m.\n",
    "(* base case for m *)\n",
    "      simpl.\n",
    "      exact (eq_refl (S n')).\n",
    "\n",
    "      intros m'.\n",
    "      intros inductive_hyp_m.\n",
    "      simpl.\n",
    "      rewrite inductive_hyp_m.\n",
    "      simpl.\n",
    "      exact (eq_refl (S (m' + S n'))).\n",
    "Qed."
   ]
  },
  {
   "cell_type": "markdown",
   "metadata": {
    "coq_kernel_metadata": {
     "auto_roll_back": true
    }
   },
   "source": [
    "That is a hard proof. I've seen an expert in Coq get stuck on it for 10 minutes. It uses a lot of the features that I've demonstrated in this tutorial. I encourage you to open a new file and try to prove it yourself. If you get stuck on part of it, you should use the \"admit\" tactic and move onto another part. If you get really stuck, open up this file and look at how I did it in my proof. You should keep practicing on that proof until you can do it automatically.\n",
    "### Common nat operators\n",
    "\"nat\" is a commonly used type in Coq and there are a lot of operators defined for it. Having seen how \"plus\" was defined, you can probably guess the definition for \"mult\".\n",
    "```\n",
    "Fixpoint mult (n m:nat) : nat :=\n",
    "  match n with\n",
    "  | O => 0\n",
    "  | S p => m + p * m\n",
    "  end\n",
    "\n",
    "where \"n * m\" := (mult n m) : nat_scope.\n",
    "```\n",
    "Also defined are:\n",
    "```\n",
    "\"n - m\" := (minus n m)\n",
    "\"n <= m\" := (le n m)\n",
    "\"n < m\" := (lt n m)\n",
    "\"n >= m\" := (ge n m)\n",
    "\"n > m\" := (gt n m)\n",
    "```\n",
    "Along with:\n",
    "```\n",
    "\"x <= y <= z\" := (x <= y /\\ y <= z)\n",
    "\"x <= y < z\" := (x <= y /\\ y < z)\n",
    "\"x < y < z\" := (x < y /\\ y < z)\n",
    "\"x < y <= z\" := (x < y /\\ y <= z)\n",
    "\"max n m\"\n",
    "\"min n m\"\n",
    "\n",
    "```\n",
    "The dangerous one in this group is \"minus\". The natural numbers don't go lower than 0, so \"(1 - 2)\" cannot return a negative number. Since Coq must return something of type \"nat\", it returns \"O\" instead. So you can do crazy proofs like this without intending!"
   ]
  },
  {
   "cell_type": "code",
   "execution_count": 342,
   "metadata": {
    "coq_kernel_metadata": {
     "auto_roll_back": true,
     "cell_id": "3ef52f963f9b4f84882f9810bbd3c3dc",
     "execution_id": "D8416DC65CDB4BE58111A2AB0002F9FE"
    }
   },
   "outputs": [
    {
     "data": {
      "text/html": [
       "\n",
       "<div class=\"coq_kernel_output_area\">\n",
       "    <pre></pre>\n",
       "</div>\n",
       "\n",
       "<div class=\"coq_kernel_rich_cell_output coq_kernel_status_message_area\" style=\"padding: 5px 0px;\">\n",
       "    <i class=\"fa-check fa text-success\"></i>\n",
       "    <span>Cell evaluated.</span>\n",
       "</div>\n",
       "\n",
       "<div class=\"coq_kernel_rich_cell_output coq_kernel_status_message_area coq_kernel_rolled_back_status_message\" style=\"padding: 5px 0px; display: none;\">\n",
       "    <i class=\"fa-exclamation-circle fa text-info\"></i>\n",
       "    <span>Cell rolled back.</span>\n",
       "</div>\n",
       "\n",
       "<div class=\"coq_kernel_rich_cell_output coq_kernel_roll_back_controls_area\" style=\"display: none; position: relative;\">\n",
       "    <button class=\"btn btn-default btn-xs coq_kernel_roll_back_button\" onclick=\"CoqKernel.roll_back(this)\">\n",
       "        <i class=\"fa-step-backward fa\"></i>\n",
       "        <span class=\"toolbar-btn-label\">Rollback cell</span>\n",
       "    </button>\n",
       "\n",
       "    <div style=\"display: inline-block; vertical-align: middle; padding-left: 0; padding-right: 0;\">\n",
       "      <input class=\"coq_kernel_auto_roll_back_checkbox\" type=\"checkbox\" value=\"\" onchange=\"CoqKernel.toggle_auto_roll_back(this)\" checked>\n",
       "      <label\">Auto rollback</label>\n",
       "    </div>\n",
       "</div>\n"
      ],
      "text/plain": []
     },
     "execution_count": 347,
     "metadata": {
      "coq_kernel_evaluated": true,
      "coq_kernel_execution_id": "D8416DC65CDB4BE58111A2AB0002F9FE",
      "coq_kernel_rolled_back": false
     },
     "output_type": "execute_result"
    }
   ],
   "source": [
    "Theorem minus_is_funny : (0 - 1) = (0 - 2).\n",
    "Proof.\n",
    "  simpl.\n",
    "  exact (eq_refl 0).\n",
    "Qed."
   ]
  },
  {
   "cell_type": "markdown",
   "metadata": {
    "coq_kernel_metadata": {
     "auto_roll_back": true
    }
   },
   "source": [
    "Later, with lists, I'll show you different ways to implement \"minus\" without this flaw.\n",
    "\n",
    "## Data types\n",
    "You've learned the basics of Coq. This section introduces some commonly used data types, so that you get to see them and get some more experience reading proofs."
   ]
  },
  {
   "cell_type": "code",
   "execution_count": 347,
   "metadata": {
    "coq_kernel_metadata": {
     "auto_roll_back": true,
     "cell_id": "341240d36ff84cc394d83b5e711b80e3",
     "execution_id": "CE3B4E14197F44F0A7E7E09B9F8FF5D4"
    }
   },
   "outputs": [
    {
     "data": {
      "text/html": [
       "\n",
       "<div class=\"coq_kernel_output_area\">\n",
       "    <pre></pre>\n",
       "</div>\n",
       "\n",
       "<div class=\"coq_kernel_rich_cell_output coq_kernel_status_message_area\" style=\"padding: 5px 0px;\">\n",
       "    <i class=\"fa-check fa text-success\"></i>\n",
       "    <span>Cell evaluated.</span>\n",
       "</div>\n",
       "\n",
       "<div class=\"coq_kernel_rich_cell_output coq_kernel_status_message_area coq_kernel_rolled_back_status_message\" style=\"padding: 5px 0px; display: none;\">\n",
       "    <i class=\"fa-exclamation-circle fa text-info\"></i>\n",
       "    <span>Cell rolled back.</span>\n",
       "</div>\n",
       "\n",
       "<div class=\"coq_kernel_rich_cell_output coq_kernel_roll_back_controls_area\" style=\"display: none; position: relative;\">\n",
       "    <button class=\"btn btn-default btn-xs coq_kernel_roll_back_button\" onclick=\"CoqKernel.roll_back(this)\">\n",
       "        <i class=\"fa-step-backward fa\"></i>\n",
       "        <span class=\"toolbar-btn-label\">Rollback cell</span>\n",
       "    </button>\n",
       "\n",
       "    <div style=\"display: inline-block; vertical-align: middle; padding-left: 0; padding-right: 0;\">\n",
       "      <input class=\"coq_kernel_auto_roll_back_checkbox\" type=\"checkbox\" value=\"\" onchange=\"CoqKernel.toggle_auto_roll_back(this)\" checked>\n",
       "      <label\">Auto rollback</label>\n",
       "    </div>\n",
       "</div>\n"
      ],
      "text/plain": []
     },
     "execution_count": 419,
     "metadata": {
      "coq_kernel_evaluated": true,
      "coq_kernel_execution_id": "CE3B4E14197F44F0A7E7E09B9F8FF5D4",
      "coq_kernel_rolled_back": false
     },
     "output_type": "execute_result"
    }
   ],
   "source": [
    "Require Import List."
   ]
  },
  {
   "cell_type": "markdown",
   "metadata": {
    "coq_kernel_metadata": {
     "auto_roll_back": true
    }
   },
   "source": [
    "### Lists and Option\n",
    "Lists are a common data structure in functional programming. (Imperative programs use more arrays.) The definition of a singly-linked list in Coq is:\n",
    "```\n",
    "Inductive list (A : Type) : Type :=\n",
    " | nil : list A\n",
    " | cons : A -> list A -> list A.\n",
    "```\n",
    "I'll address the type \"Type\" in a second, but for the moment know that a list takes a type called \"A\" and is either empty - constructed using \"nil\" - or a node containing a value of type \"A\" and a link to another list.\n",
    "\n",
    "In a number of earlier places, I've ignored the type \"Type\". It hides some magic in Coq. We saw early on that \"proof_of_A\" was a proof and had type \"A\", which was a proposition. \"A\", since it was a proposition, had type \"Prop\". But if types can have types, what type does \"Prop\" have? The answer is \"Type(1)\". The answer to your next N questions is that \"Type(1)\" has type \"Type(2)\". \"Type(2)\" has type \"Type(3)\". Etc.\n",
    "\n",
    "Similarly, \"true\" had type \"bool\". \"bool\" had type \"Set\". And \"Set\" has type \"Type(1)\" (just like \"Prop\").\n",
    "\n",
    "Coq hides this infinite hierarchy from the user with the magic type \"Type\". When you use \"Type\", Coq will determine if the value lies in \"Prop\", \"Set\", or any of the the \"Type(...)\" types.\n",
    "\n",
    "Going back to lists, there is an operator for building a list.\n",
    "```\n",
    "Infix \"::\" := cons (at level 60, right associativity) : list_scope.\n",
    "```\n",
    "So, the value \"5 :: 4 :: nil\" would be a \"list nat\" containing the values 5 and 4.\n",
    "A simple function that works on all types of lists is \"length\":\n",
    "```\n",
    "Definition length (A : Type) : list A -> nat :=\n",
    "  fix length l :=\n",
    "  match l with\n",
    "   | nil => O\n",
    "   | _ :: l' => S (length l')\n",
    "  end.\n",
    "```\n",
    "Just to get started, let's prove that adding an element to a list increases it's length by 1."
   ]
  },
  {
   "cell_type": "code",
   "execution_count": 419,
   "metadata": {
    "coq_kernel_metadata": {
     "auto_roll_back": true,
     "cell_id": "b716e541f28845898bf1f51f992566a9",
     "execution_id": "991D9F597BD44D4890F51DBF5C34810E"
    }
   },
   "outputs": [
    {
     "data": {
      "text/html": [
       "\n",
       "<div class=\"coq_kernel_output_area\">\n",
       "    <pre></pre>\n",
       "</div>\n",
       "\n",
       "<div class=\"coq_kernel_rich_cell_output coq_kernel_status_message_area\" style=\"padding: 5px 0px;\">\n",
       "    <i class=\"fa-check fa text-success\"></i>\n",
       "    <span>Cell evaluated.</span>\n",
       "</div>\n",
       "\n",
       "<div class=\"coq_kernel_rich_cell_output coq_kernel_status_message_area coq_kernel_rolled_back_status_message\" style=\"padding: 5px 0px; display: none;\">\n",
       "    <i class=\"fa-exclamation-circle fa text-info\"></i>\n",
       "    <span>Cell rolled back.</span>\n",
       "</div>\n",
       "\n",
       "<div class=\"coq_kernel_rich_cell_output coq_kernel_roll_back_controls_area\" style=\"display: none; position: relative;\">\n",
       "    <button class=\"btn btn-default btn-xs coq_kernel_roll_back_button\" onclick=\"CoqKernel.roll_back(this)\">\n",
       "        <i class=\"fa-step-backward fa\"></i>\n",
       "        <span class=\"toolbar-btn-label\">Rollback cell</span>\n",
       "    </button>\n",
       "\n",
       "    <div style=\"display: inline-block; vertical-align: middle; padding-left: 0; padding-right: 0;\">\n",
       "      <input class=\"coq_kernel_auto_roll_back_checkbox\" type=\"checkbox\" value=\"\" onchange=\"CoqKernel.toggle_auto_roll_back(this)\" checked>\n",
       "      <label\">Auto rollback</label>\n",
       "    </div>\n",
       "</div>\n"
      ],
      "text/plain": []
     },
     "execution_count": 426,
     "metadata": {
      "coq_kernel_evaluated": true,
      "coq_kernel_execution_id": "991D9F597BD44D4890F51DBF5C34810E",
      "coq_kernel_rolled_back": false
     },
     "output_type": "execute_result"
    }
   ],
   "source": [
    "Theorem cons_adds_one_to_length :\n",
    "   (forall A:Type,\n",
    "   (forall (x : A) (lst : list A),\n",
    "   length (x :: lst) = (S (length lst)))).\n",
    "Proof.\n",
    "  intros A.\n",
    "  intros x lst.\n",
    "  simpl.\n",
    "  exact (eq_refl (S (length lst))).\n",
    "Qed."
   ]
  },
  {
   "cell_type": "markdown",
   "metadata": {
    "coq_kernel_metadata": {
     "auto_roll_back": true
    }
   },
   "source": [
    "The proof is pretty simple, but the statement of what we want to prove is not! First, we need \"A\", which is the type stored in our lists. Then we need an instance of A and a instance of a list of A. Only then can we state that putting an element on the front of a list increases its length by 1.\n",
    "\n",
    "### The three forms of hd\n",
    "Now, the simplest function you can imagine for a linked list is \"hd\", which returns the first value in the list. But there's a problem: what should we return if the list is empty?\n",
    "\n",
    "In some programming languages, you might throw an exception - either explicitly or through a memory violation. In others, you might assume the program crashes. But if you to prove a program correct, these aren't choices you can make. The program needs to be predictable.\n",
    "\n",
    "There are choices you can make:\n",
    "- have \"hd\" take an additional parameter, which it returns if the list is empty\n",
    "- have \"hd\" return a new data structure that may or may not contain the value\n",
    "- pass \"hd\" a proof that the list is not empty\n",
    "You didn't think of that last one, did you?! I'll show you each of these approaches so that you can see what they look like.\n",
    "\n",
    "#### hd with additional parameter"
   ]
  },
  {
   "cell_type": "code",
   "execution_count": 426,
   "metadata": {
    "coq_kernel_metadata": {
     "auto_roll_back": true,
     "cell_id": "aba6ca34838440f6846af52d9994c754",
     "execution_id": "2B36AF7C1B90491095EB51234F8BA2D0"
    }
   },
   "outputs": [
    {
     "data": {
      "text/html": [
       "\n",
       "<div class=\"coq_kernel_output_area\">\n",
       "    <pre></pre>\n",
       "</div>\n",
       "\n",
       "<div class=\"coq_kernel_rich_cell_output coq_kernel_status_message_area\" style=\"padding: 5px 0px;\">\n",
       "    <i class=\"fa-check fa text-success\"></i>\n",
       "    <span>Cell evaluated.</span>\n",
       "</div>\n",
       "\n",
       "<div class=\"coq_kernel_rich_cell_output coq_kernel_status_message_area coq_kernel_rolled_back_status_message\" style=\"padding: 5px 0px; display: none;\">\n",
       "    <i class=\"fa-exclamation-circle fa text-info\"></i>\n",
       "    <span>Cell rolled back.</span>\n",
       "</div>\n",
       "\n",
       "<div class=\"coq_kernel_rich_cell_output coq_kernel_roll_back_controls_area\" style=\"display: none; position: relative;\">\n",
       "    <button class=\"btn btn-default btn-xs coq_kernel_roll_back_button\" onclick=\"CoqKernel.roll_back(this)\">\n",
       "        <i class=\"fa-step-backward fa\"></i>\n",
       "        <span class=\"toolbar-btn-label\">Rollback cell</span>\n",
       "    </button>\n",
       "\n",
       "    <div style=\"display: inline-block; vertical-align: middle; padding-left: 0; padding-right: 0;\">\n",
       "      <input class=\"coq_kernel_auto_roll_back_checkbox\" type=\"checkbox\" value=\"\" onchange=\"CoqKernel.toggle_auto_roll_back(this)\" checked>\n",
       "      <label\">Auto rollback</label>\n",
       "    </div>\n",
       "</div>\n"
      ],
      "text/plain": []
     },
     "execution_count": 430,
     "metadata": {
      "coq_kernel_evaluated": true,
      "coq_kernel_execution_id": "2B36AF7C1B90491095EB51234F8BA2D0",
      "coq_kernel_rolled_back": false
     },
     "output_type": "execute_result"
    }
   ],
   "source": [
    "\n",
    "Definition hd (A : Type) (default : A) (l : list A)\n",
    ":=\n",
    "  match l with\n",
    "    | nil => default\n",
    "    | x :: _ => x\n",
    "  end."
   ]
  },
  {
   "cell_type": "markdown",
   "metadata": {
    "coq_kernel_metadata": {
     "auto_roll_back": true
    }
   },
   "source": [
    "This is the default version of hd in Coq and it looks like you would expect. This version is more useful than you might think thanks to \"partial evaluation\".\n",
    "\n",
    "\"partial evaluation\" is passing only some of the arguments to a function. In Coq, and many functional languages, the result is a new function where the supplied arguments are now treated like constants in the function and the remaining parameters are can still be passed in.\n",
    "\n",
    "Thus, we can do:"
   ]
  },
  {
   "cell_type": "code",
   "execution_count": 430,
   "metadata": {
    "coq_kernel_metadata": {
     "auto_roll_back": true,
     "cell_id": "338b059052024f67895d903e3fade676",
     "execution_id": "C1A1B24B2B584AAD98C9999DE66E97F9"
    }
   },
   "outputs": [
    {
     "data": {
      "text/html": [
       "\n",
       "<div class=\"coq_kernel_output_area\">\n",
       "    <pre></pre>\n",
       "</div>\n",
       "\n",
       "<div class=\"coq_kernel_rich_cell_output coq_kernel_status_message_area\" style=\"padding: 5px 0px;\">\n",
       "    <i class=\"fa-check fa text-success\"></i>\n",
       "    <span>Cell evaluated.</span>\n",
       "</div>\n",
       "\n",
       "<div class=\"coq_kernel_rich_cell_output coq_kernel_status_message_area coq_kernel_rolled_back_status_message\" style=\"padding: 5px 0px; display: none;\">\n",
       "    <i class=\"fa-exclamation-circle fa text-info\"></i>\n",
       "    <span>Cell rolled back.</span>\n",
       "</div>\n",
       "\n",
       "<div class=\"coq_kernel_rich_cell_output coq_kernel_roll_back_controls_area\" style=\"display: none; position: relative;\">\n",
       "    <button class=\"btn btn-default btn-xs coq_kernel_roll_back_button\" onclick=\"CoqKernel.roll_back(this)\">\n",
       "        <i class=\"fa-step-backward fa\"></i>\n",
       "        <span class=\"toolbar-btn-label\">Rollback cell</span>\n",
       "    </button>\n",
       "\n",
       "    <div style=\"display: inline-block; vertical-align: middle; padding-left: 0; padding-right: 0;\">\n",
       "      <input class=\"coq_kernel_auto_roll_back_checkbox\" type=\"checkbox\" value=\"\" onchange=\"CoqKernel.toggle_auto_roll_back(this)\" checked>\n",
       "      <label\">Auto rollback</label>\n",
       "    </div>\n",
       "</div>\n"
      ],
      "text/plain": []
     },
     "execution_count": 432,
     "metadata": {
      "coq_kernel_evaluated": true,
      "coq_kernel_execution_id": "C1A1B24B2B584AAD98C9999DE66E97F9",
      "coq_kernel_rolled_back": false
     },
     "output_type": "execute_result"
    }
   ],
   "source": [
    "Definition my_hd_for_nat_lists\n",
    ":=\n",
    "  hd nat 0 ."
   ]
  },
  {
   "cell_type": "markdown",
   "metadata": {
    "coq_kernel_metadata": {
     "auto_roll_back": true
    }
   },
   "source": [
    "The remaining parameter - the list - can still be passed to \"my_hd_for_nat_lists\", but the \"Type\" parameter has been bound to \"nat\" and the parameter \"default\" has been bound to zero.\n",
    "\n",
    "We can confirm that it works correctly by using the vernacular command \"Compute\", which executes all the function calls and prints the result."
   ]
  },
  {
   "cell_type": "code",
   "execution_count": 432,
   "metadata": {
    "coq_kernel_metadata": {
     "auto_roll_back": true,
     "cell_id": "2a7c28e8e3aa40528b4caf0cda37b617",
     "execution_id": "CDC99F90AE084DC384C455BCF8A945B9"
    }
   },
   "outputs": [
    {
     "data": {
      "text/html": [
       "\n",
       "<div class=\"coq_kernel_output_area\">\n",
       "    <pre>     = 0\n",
       "     : nat\n",
       "\n",
       "Error: No focused proof (No proof-editing in progress).</pre>\n",
       "</div>\n",
       "\n",
       "<div class=\"coq_kernel_rich_cell_output coq_kernel_status_message_area\" style=\"padding: 5px 0px;\">\n",
       "    <i class=\"fa-times fa text-danger\"></i>\n",
       "    <span>Error while evaluating cell. Cell rolled back.</span>\n",
       "</div>\n"
      ],
      "text/plain": [
       "     = 0\n",
       "     : nat\n",
       "\n",
       "Error: No focused proof (No proof-editing in progress)."
      ]
     },
     "execution_count": 432,
     "metadata": {
      "coq_kernel_evaluated": false,
      "coq_kernel_execution_id": "CDC99F90AE084DC384C455BCF8A945B9",
      "coq_kernel_rolled_back": false
     },
     "output_type": "execute_result"
    }
   ],
   "source": [
    "Compute my_hd_for_nat_lists nil.\n",
    "Prints \"= 0 : nat\"."
   ]
  },
  {
   "cell_type": "code",
   "execution_count": 432,
   "metadata": {
    "coq_kernel_metadata": {
     "auto_roll_back": true,
     "cell_id": "c1de086b37d0434282d838dea4d87448",
     "execution_id": "F042E31814014A9B860BA8B24D5EE11F"
    }
   },
   "outputs": [
    {
     "data": {
      "text/html": [
       "\n",
       "<div class=\"coq_kernel_output_area\">\n",
       "    <pre>     = 5\n",
       "     : nat\n",
       "\n",
       "Error: No focused proof (No proof-editing in progress).</pre>\n",
       "</div>\n",
       "\n",
       "<div class=\"coq_kernel_rich_cell_output coq_kernel_status_message_area\" style=\"padding: 5px 0px;\">\n",
       "    <i class=\"fa-times fa text-danger\"></i>\n",
       "    <span>Error while evaluating cell. Cell rolled back.</span>\n",
       "</div>\n"
      ],
      "text/plain": [
       "     = 5\n",
       "     : nat\n",
       "\n",
       "Error: No focused proof (No proof-editing in progress)."
      ]
     },
     "execution_count": 432,
     "metadata": {
      "coq_kernel_evaluated": false,
      "coq_kernel_execution_id": "F042E31814014A9B860BA8B24D5EE11F",
      "coq_kernel_rolled_back": false
     },
     "output_type": "execute_result"
    }
   ],
   "source": [
    "Compute my_hd_for_nat_lists (5 :: 4 :: nil).\n",
    "Prints \"= 5 : nat\"."
   ]
  },
  {
   "cell_type": "markdown",
   "metadata": {
    "coq_kernel_metadata": {
     "auto_roll_back": true
    }
   },
   "source": [
    "We can also prove it correct."
   ]
  },
  {
   "cell_type": "code",
   "execution_count": 432,
   "metadata": {
    "coq_kernel_metadata": {
     "auto_roll_back": true,
     "cell_id": "cbf8d46078584ec98c1175b0e32f50b4",
     "execution_id": "6F2FF4D177C64C1C9C98795D247F17E5"
    }
   },
   "outputs": [
    {
     "data": {
      "text/html": [
       "\n",
       "<div class=\"coq_kernel_output_area\">\n",
       "    <pre></pre>\n",
       "</div>\n",
       "\n",
       "<div class=\"coq_kernel_rich_cell_output coq_kernel_status_message_area\" style=\"padding: 5px 0px;\">\n",
       "    <i class=\"fa-check fa text-success\"></i>\n",
       "    <span>Cell evaluated.</span>\n",
       "</div>\n",
       "\n",
       "<div class=\"coq_kernel_rich_cell_output coq_kernel_status_message_area coq_kernel_rolled_back_status_message\" style=\"padding: 5px 0px; display: none;\">\n",
       "    <i class=\"fa-exclamation-circle fa text-info\"></i>\n",
       "    <span>Cell rolled back.</span>\n",
       "</div>\n",
       "\n",
       "<div class=\"coq_kernel_rich_cell_output coq_kernel_roll_back_controls_area\" style=\"display: none; position: relative;\">\n",
       "    <button class=\"btn btn-default btn-xs coq_kernel_roll_back_button\" onclick=\"CoqKernel.roll_back(this)\">\n",
       "        <i class=\"fa-step-backward fa\"></i>\n",
       "        <span class=\"toolbar-btn-label\">Rollback cell</span>\n",
       "    </button>\n",
       "\n",
       "    <div style=\"display: inline-block; vertical-align: middle; padding-left: 0; padding-right: 0;\">\n",
       "      <input class=\"coq_kernel_auto_roll_back_checkbox\" type=\"checkbox\" value=\"\" onchange=\"CoqKernel.toggle_auto_roll_back(this)\" checked>\n",
       "      <label\">Auto rollback</label>\n",
       "    </div>\n",
       "</div>\n"
      ],
      "text/plain": []
     },
     "execution_count": 448,
     "metadata": {
      "coq_kernel_evaluated": true,
      "coq_kernel_execution_id": "6F2FF4D177C64C1C9C98795D247F17E5",
      "coq_kernel_rolled_back": false
     },
     "output_type": "execute_result"
    }
   ],
   "source": [
    "Theorem correctness_of_hd :\n",
    "   (forall A:Type,\n",
    "   (forall (default : A) (x : A) (lst : list A),\n",
    "   (hd A default nil) = default /\\ (hd A default (x :: lst)) = x)).\n",
    "Proof.\n",
    "  intros A.\n",
    "  intros default x lst.\n",
    "  refine (conj _ _).\n",
    "    simpl.\n",
    "    exact (eq_refl default).\n",
    "\n",
    "    simpl.\n",
    "    exact (eq_refl x).\n",
    "Qed."
   ]
  },
  {
   "cell_type": "markdown",
   "metadata": {
    "coq_kernel_metadata": {
     "auto_roll_back": true
    }
   },
   "source": [
    "#### hd returns option\n",
    "The second approach is to have \"hd\" return another data structure that either contains the first value in the list or contains nothing. Coq defines a generic data structure for that, called \"option\".\n",
    "```\n",
    "Inductive option (A : Type) : Type :=\n",
    "  | Some : A -> option A\n",
    "  | None : option A.\n",
    "```\n",
    "\"option\" is a type with two constructors. \"Some\" takes a value and \"None\" does not. To get the value out of an \"option\", a proof will have to branch using \"case\" and look at the branch for the constructor \"Some\". Likewise, a program will have to use \"match\" and look at the branch for \"Some\".\n",
    "\n",
    "Coq includes a version of \"hd\" that returns an \"option\". It's called \"hd_error\"."
   ]
  },
  {
   "cell_type": "code",
   "execution_count": 448,
   "metadata": {
    "coq_kernel_metadata": {
     "auto_roll_back": true,
     "cell_id": "8ecdbdf6b4904e178daa8409dacc0f8b",
     "execution_id": "EBD98357408E4D188A46B327E611B0F8"
    }
   },
   "outputs": [
    {
     "data": {
      "text/html": [
       "\n",
       "<div class=\"coq_kernel_output_area\">\n",
       "    <pre></pre>\n",
       "</div>\n",
       "\n",
       "<div class=\"coq_kernel_rich_cell_output coq_kernel_status_message_area\" style=\"padding: 5px 0px;\">\n",
       "    <i class=\"fa-check fa text-success\"></i>\n",
       "    <span>Cell evaluated.</span>\n",
       "</div>\n",
       "\n",
       "<div class=\"coq_kernel_rich_cell_output coq_kernel_status_message_area coq_kernel_rolled_back_status_message\" style=\"padding: 5px 0px; display: none;\">\n",
       "    <i class=\"fa-exclamation-circle fa text-info\"></i>\n",
       "    <span>Cell rolled back.</span>\n",
       "</div>\n",
       "\n",
       "<div class=\"coq_kernel_rich_cell_output coq_kernel_roll_back_controls_area\" style=\"display: none; position: relative;\">\n",
       "    <button class=\"btn btn-default btn-xs coq_kernel_roll_back_button\" onclick=\"CoqKernel.roll_back(this)\">\n",
       "        <i class=\"fa-step-backward fa\"></i>\n",
       "        <span class=\"toolbar-btn-label\">Rollback cell</span>\n",
       "    </button>\n",
       "\n",
       "    <div style=\"display: inline-block; vertical-align: middle; padding-left: 0; padding-right: 0;\">\n",
       "      <input class=\"coq_kernel_auto_roll_back_checkbox\" type=\"checkbox\" value=\"\" onchange=\"CoqKernel.toggle_auto_roll_back(this)\" checked>\n",
       "      <label\">Auto rollback</label>\n",
       "    </div>\n",
       "</div>\n"
      ],
      "text/plain": []
     },
     "execution_count": 449,
     "metadata": {
      "coq_kernel_evaluated": true,
      "coq_kernel_execution_id": "EBD98357408E4D188A46B327E611B0F8",
      "coq_kernel_rolled_back": false
     },
     "output_type": "execute_result"
    }
   ],
   "source": [
    "Definition hd_error (A : Type) (l : list A)\n",
    ":=\n",
    "  match l with\n",
    "    | nil => None\n",
    "    | x :: _ => Some x\n",
    "  end."
   ]
  },
  {
   "cell_type": "markdown",
   "metadata": {
    "coq_kernel_metadata": {
     "auto_roll_back": true
    }
   },
   "source": [
    "Again, using \"Compute\" we can examine what it returns."
   ]
  },
  {
   "cell_type": "code",
   "execution_count": 449,
   "metadata": {
    "coq_kernel_metadata": {
     "auto_roll_back": true,
     "cell_id": "d410714ff9e540f7b055dd9927bcf5b9",
     "execution_id": "899CF9055E5B460B8B4077660B3C39B9"
    }
   },
   "outputs": [
    {
     "data": {
      "text/html": [
       "\n",
       "<div class=\"coq_kernel_output_area\">\n",
       "    <pre>     = None\n",
       "     : option nat\n",
       "\n",
       "Error: No focused proof (No proof-editing in progress).</pre>\n",
       "</div>\n",
       "\n",
       "<div class=\"coq_kernel_rich_cell_output coq_kernel_status_message_area\" style=\"padding: 5px 0px;\">\n",
       "    <i class=\"fa-times fa text-danger\"></i>\n",
       "    <span>Error while evaluating cell. Cell rolled back.</span>\n",
       "</div>\n"
      ],
      "text/plain": [
       "     = None\n",
       "     : option nat\n",
       "\n",
       "Error: No focused proof (No proof-editing in progress)."
      ]
     },
     "execution_count": 449,
     "metadata": {
      "coq_kernel_evaluated": false,
      "coq_kernel_execution_id": "899CF9055E5B460B8B4077660B3C39B9",
      "coq_kernel_rolled_back": false
     },
     "output_type": "execute_result"
    }
   ],
   "source": [
    "Compute hd_error nat nil.\n",
    "Prints \"= None : option nat\"."
   ]
  },
  {
   "cell_type": "code",
   "execution_count": 449,
   "metadata": {
    "coq_kernel_metadata": {
     "auto_roll_back": true,
     "cell_id": "481308dcbea340458a5ecc1427e8234c",
     "execution_id": "E3CED925FA15498280D630616E9C3AA9"
    }
   },
   "outputs": [
    {
     "data": {
      "text/html": [
       "\n",
       "<div class=\"coq_kernel_output_area\">\n",
       "    <pre>     = Some 5\n",
       "     : option nat\n",
       "\n",
       "Error: No focused proof (No proof-editing in progress).</pre>\n",
       "</div>\n",
       "\n",
       "<div class=\"coq_kernel_rich_cell_output coq_kernel_status_message_area\" style=\"padding: 5px 0px;\">\n",
       "    <i class=\"fa-times fa text-danger\"></i>\n",
       "    <span>Error while evaluating cell. Cell rolled back.</span>\n",
       "</div>\n"
      ],
      "text/plain": [
       "     = Some 5\n",
       "     : option nat\n",
       "\n",
       "Error: No focused proof (No proof-editing in progress)."
      ]
     },
     "execution_count": 449,
     "metadata": {
      "coq_kernel_evaluated": false,
      "coq_kernel_execution_id": "E3CED925FA15498280D630616E9C3AA9",
      "coq_kernel_rolled_back": false
     },
     "output_type": "execute_result"
    }
   ],
   "source": [
    "Compute hd_error nat (5 :: 4 :: nil).\n",
    "Prints \"= Some 5 : option nat\"."
   ]
  },
  {
   "cell_type": "markdown",
   "metadata": {
    "coq_kernel_metadata": {
     "auto_roll_back": true
    }
   },
   "source": [
    "We can also prove it correct."
   ]
  },
  {
   "cell_type": "code",
   "execution_count": 449,
   "metadata": {
    "coq_kernel_metadata": {
     "auto_roll_back": true,
     "cell_id": "6be20a32777540b283c776cfc0929808",
     "execution_id": "FD35DC3A22B8466E89ED7D6D1500D51C"
    }
   },
   "outputs": [
    {
     "data": {
      "text/html": [
       "\n",
       "<div class=\"coq_kernel_output_area\">\n",
       "    <pre></pre>\n",
       "</div>\n",
       "\n",
       "<div class=\"coq_kernel_rich_cell_output coq_kernel_status_message_area\" style=\"padding: 5px 0px;\">\n",
       "    <i class=\"fa-check fa text-success\"></i>\n",
       "    <span>Cell evaluated.</span>\n",
       "</div>\n",
       "\n",
       "<div class=\"coq_kernel_rich_cell_output coq_kernel_status_message_area coq_kernel_rolled_back_status_message\" style=\"padding: 5px 0px; display: none;\">\n",
       "    <i class=\"fa-exclamation-circle fa text-info\"></i>\n",
       "    <span>Cell rolled back.</span>\n",
       "</div>\n",
       "\n",
       "<div class=\"coq_kernel_rich_cell_output coq_kernel_roll_back_controls_area\" style=\"display: none; position: relative;\">\n",
       "    <button class=\"btn btn-default btn-xs coq_kernel_roll_back_button\" onclick=\"CoqKernel.roll_back(this)\">\n",
       "        <i class=\"fa-step-backward fa\"></i>\n",
       "        <span class=\"toolbar-btn-label\">Rollback cell</span>\n",
       "    </button>\n",
       "\n",
       "    <div style=\"display: inline-block; vertical-align: middle; padding-left: 0; padding-right: 0;\">\n",
       "      <input class=\"coq_kernel_auto_roll_back_checkbox\" type=\"checkbox\" value=\"\" onchange=\"CoqKernel.toggle_auto_roll_back(this)\" checked>\n",
       "      <label\">Auto rollback</label>\n",
       "    </div>\n",
       "</div>\n"
      ],
      "text/plain": []
     },
     "execution_count": 463,
     "metadata": {
      "coq_kernel_evaluated": true,
      "coq_kernel_execution_id": "FD35DC3A22B8466E89ED7D6D1500D51C",
      "coq_kernel_rolled_back": false
     },
     "output_type": "execute_result"
    }
   ],
   "source": [
    "Theorem correctness_of_hd_error :\n",
    "   (forall A:Type,\n",
    "   (forall (x : A) (lst : list A),\n",
    "   (hd_error A nil) = None /\\ (hd_error A (x :: lst)) = Some x)).\n",
    "Proof.\n",
    "  intros A.\n",
    "  intros x lst.\n",
    "  refine (conj _ _).\n",
    "    simpl.\n",
    "    exact (eq_refl None).\n",
    "\n",
    "    simpl.\n",
    "    exact (eq_refl (Some x)).\n",
    "Qed."
   ]
  },
  {
   "cell_type": "markdown",
   "metadata": {
    "coq_kernel_metadata": {
     "auto_roll_back": true
    }
   },
   "source": [
    "#### hd with a proof that the list is non-empty\n",
    "Here's the option that's not available to any other programming language you've seen: we can pass to \"hd\" a proof that the list is not empty, so \"hd\" can never fail."
   ]
  },
  {
   "cell_type": "code",
   "execution_count": 463,
   "metadata": {
    "coq_kernel_metadata": {
     "auto_roll_back": true,
     "cell_id": "8b8ec301f98949cbb1b54d864a9d81d6",
     "execution_id": "BF47F7C6694049FEAEDE18268292FD1B"
    }
   },
   "outputs": [
    {
     "data": {
      "text/html": [
       "\n",
       "<div class=\"coq_kernel_output_area\">\n",
       "    <pre></pre>\n",
       "</div>\n",
       "\n",
       "<div class=\"coq_kernel_rich_cell_output coq_kernel_status_message_area\" style=\"padding: 5px 0px;\">\n",
       "    <i class=\"fa-check fa text-success\"></i>\n",
       "    <span>Cell evaluated.</span>\n",
       "</div>\n",
       "\n",
       "<div class=\"coq_kernel_rich_cell_output coq_kernel_status_message_area coq_kernel_rolled_back_status_message\" style=\"padding: 5px 0px; display: none;\">\n",
       "    <i class=\"fa-exclamation-circle fa text-info\"></i>\n",
       "    <span>Cell rolled back.</span>\n",
       "</div>\n",
       "\n",
       "<div class=\"coq_kernel_rich_cell_output coq_kernel_roll_back_controls_area\" style=\"display: none; position: relative;\">\n",
       "    <button class=\"btn btn-default btn-xs coq_kernel_roll_back_button\" onclick=\"CoqKernel.roll_back(this)\">\n",
       "        <i class=\"fa-step-backward fa\"></i>\n",
       "        <span class=\"toolbar-btn-label\">Rollback cell</span>\n",
       "    </button>\n",
       "\n",
       "    <div style=\"display: inline-block; vertical-align: middle; padding-left: 0; padding-right: 0;\">\n",
       "      <input class=\"coq_kernel_auto_roll_back_checkbox\" type=\"checkbox\" value=\"\" onchange=\"CoqKernel.toggle_auto_roll_back(this)\" checked>\n",
       "      <label\">Auto rollback</label>\n",
       "    </div>\n",
       "</div>\n"
      ],
      "text/plain": []
     },
     "execution_count": 464,
     "metadata": {
      "coq_kernel_evaluated": true,
      "coq_kernel_execution_id": "BF47F7C6694049FEAEDE18268292FD1B",
      "coq_kernel_rolled_back": false
     },
     "output_type": "execute_result"
    }
   ],
   "source": [
    "Definition hd_never_fail (A : Type) (lst : list A) (safety_proof : lst <> nil)\n",
    "  : A\n",
    ":=\n",
    "  (match lst as b return (lst = b -> A) with\n",
    "    | nil => (fun foo : lst = nil =>\n",
    "                   match (safety_proof foo) return A with\n",
    "                   end\n",
    "                )\n",
    "    | x :: _ => (fun foo : lst = x :: _ =>\n",
    "                   x\n",
    "                )\n",
    "  end) eq_refl."
   ]
  },
  {
   "cell_type": "markdown",
   "metadata": {
    "coq_kernel_metadata": {
     "auto_roll_back": true
    }
   },
   "source": [
    "I don't expect you to understand this function, let alone write it. It took me 30 minutes to write it, mostly by copying from code printed using \"Show Proof.\" from the complicated proofs above.\n",
    "\n",
    "But I do expect you to understand that it can be written in Coq. And, I expect you to be able to read a proof that the function does what I said it does."
   ]
  },
  {
   "cell_type": "code",
   "execution_count": 464,
   "metadata": {
    "coq_kernel_metadata": {
     "auto_roll_back": true,
     "cell_id": "296bef96fa31418cabf97ee111b71861",
     "execution_id": "8F7B4757E1D64B3C8ED955E7562D69B4"
    }
   },
   "outputs": [
    {
     "data": {
      "text/html": [
       "\n",
       "<div class=\"coq_kernel_output_area\">\n",
       "    <pre></pre>\n",
       "</div>\n",
       "\n",
       "<div class=\"coq_kernel_rich_cell_output coq_kernel_status_message_area\" style=\"padding: 5px 0px;\">\n",
       "    <i class=\"fa-check fa text-success\"></i>\n",
       "    <span>Cell evaluated.</span>\n",
       "</div>\n",
       "\n",
       "<div class=\"coq_kernel_rich_cell_output coq_kernel_status_message_area coq_kernel_rolled_back_status_message\" style=\"padding: 5px 0px; display: none;\">\n",
       "    <i class=\"fa-exclamation-circle fa text-info\"></i>\n",
       "    <span>Cell rolled back.</span>\n",
       "</div>\n",
       "\n",
       "<div class=\"coq_kernel_rich_cell_output coq_kernel_roll_back_controls_area\" style=\"display: none; position: relative;\">\n",
       "    <button class=\"btn btn-default btn-xs coq_kernel_roll_back_button\" onclick=\"CoqKernel.roll_back(this)\">\n",
       "        <i class=\"fa-step-backward fa\"></i>\n",
       "        <span class=\"toolbar-btn-label\">Rollback cell</span>\n",
       "    </button>\n",
       "\n",
       "    <div style=\"display: inline-block; vertical-align: middle; padding-left: 0; padding-right: 0;\">\n",
       "      <input class=\"coq_kernel_auto_roll_back_checkbox\" type=\"checkbox\" value=\"\" onchange=\"CoqKernel.toggle_auto_roll_back(this)\" checked>\n",
       "      <label\">Auto rollback</label>\n",
       "    </div>\n",
       "</div>\n"
      ],
      "text/plain": []
     },
     "execution_count": 476,
     "metadata": {
      "coq_kernel_evaluated": true,
      "coq_kernel_execution_id": "8F7B4757E1D64B3C8ED955E7562D69B4",
      "coq_kernel_rolled_back": false
     },
     "output_type": "execute_result"
    }
   ],
   "source": [
    "Theorem correctness_of_hd_never_fail :\n",
    "   (forall A:Type,\n",
    "   (forall (x : A) (rest : list A),\n",
    "   (exists safety_proof : ((x :: rest) <> nil),\n",
    "      (hd_never_fail A (x :: rest) safety_proof) = x))).\n",
    "Proof.\n",
    "  intros A.\n",
    "  intros x rest.\n",
    "  assert (witness : ((x :: rest) <> nil)).\n",
    "    unfold not.\n",
    "    intros cons_eq_nil.\n",
    "    discriminate cons_eq_nil.\n",
    "  refine (ex_intro _ witness _).\n",
    "    simpl.\n",
    "    exact (eq_refl x).\n",
    "Qed."
   ]
  },
  {
   "cell_type": "markdown",
   "metadata": {
    "coq_kernel_metadata": {
     "auto_roll_back": true
    }
   },
   "source": [
    "The proof is pretty simple. We create a witness for the exists. Since the witness involves an inequality, we end its proof with \"discriminate\". Then we use \"simpl\" to show that the function returns what the right value.\n",
    "\n",
    "In this proof, I used the tactic \"assert\" instead of \"pose\". I wanted to write:\n",
    "```\n",
    "pose (witness := _ : ((x :: rest) <> nil)).\n",
    "```\n",
    "But Coq does not allow that for some reason. \"pose\" cannot have \"_\" for the complete value. If you want to use \"_\" for the whole value of pose, you have to use the tactic \"assert\".\n",
    "\n",
    "## Tail of lists\n",
    "\"hd\" extracts the first value in a list and its partner \"tl\" returns the list after that first element. In Coq, it's definition is:\n"
   ]
  },
  {
   "cell_type": "code",
   "execution_count": 476,
   "metadata": {
    "coq_kernel_metadata": {
     "auto_roll_back": true,
     "cell_id": "f765b86fdc7b4397ac375077c4f0361d",
     "execution_id": "E3EFD28093C149A28E08C4C564D5D030"
    }
   },
   "outputs": [
    {
     "data": {
      "text/html": [
       "\n",
       "<div class=\"coq_kernel_output_area\">\n",
       "    <pre></pre>\n",
       "</div>\n",
       "\n",
       "<div class=\"coq_kernel_rich_cell_output coq_kernel_status_message_area\" style=\"padding: 5px 0px;\">\n",
       "    <i class=\"fa-check fa text-success\"></i>\n",
       "    <span>Cell evaluated.</span>\n",
       "</div>\n",
       "\n",
       "<div class=\"coq_kernel_rich_cell_output coq_kernel_status_message_area coq_kernel_rolled_back_status_message\" style=\"padding: 5px 0px; display: none;\">\n",
       "    <i class=\"fa-exclamation-circle fa text-info\"></i>\n",
       "    <span>Cell rolled back.</span>\n",
       "</div>\n",
       "\n",
       "<div class=\"coq_kernel_rich_cell_output coq_kernel_roll_back_controls_area\" style=\"display: none; position: relative;\">\n",
       "    <button class=\"btn btn-default btn-xs coq_kernel_roll_back_button\" onclick=\"CoqKernel.roll_back(this)\">\n",
       "        <i class=\"fa-step-backward fa\"></i>\n",
       "        <span class=\"toolbar-btn-label\">Rollback cell</span>\n",
       "    </button>\n",
       "\n",
       "    <div style=\"display: inline-block; vertical-align: middle; padding-left: 0; padding-right: 0;\">\n",
       "      <input class=\"coq_kernel_auto_roll_back_checkbox\" type=\"checkbox\" value=\"\" onchange=\"CoqKernel.toggle_auto_roll_back(this)\" checked>\n",
       "      <label\">Auto rollback</label>\n",
       "    </div>\n",
       "</div>\n"
      ],
      "text/plain": []
     },
     "execution_count": 484,
     "metadata": {
      "coq_kernel_evaluated": true,
      "coq_kernel_execution_id": "E3EFD28093C149A28E08C4C564D5D030",
      "coq_kernel_rolled_back": false
     },
     "output_type": "execute_result"
    }
   ],
   "source": [
    "Definition tl (A : Type) (l:list A) :=\n",
    "  match l with\n",
    "    | nil => nil\n",
    "    | a :: m => m\n",
    "  end.\n",
    " "
   ]
  },
  {
   "cell_type": "markdown",
   "metadata": {
    "coq_kernel_metadata": {
     "auto_roll_back": true
    }
   },
   "source": [
    "If you want to test your skills, it would be good practice to write three different versions of \"tl\", just like I did for \"hd\", and prove them correct.\n",
    "```\n",
    "Definition tl_error (A : Type) (l : list A)\n",
    "  : option list A\n",
    ":=\n",
    "  ...\n",
    "Definition tl_never_fail (A : Type) (lst : list A) (safety_proof : lst <> nil)\n",
    "  : list A\n",
    ":=\n",
    "  ...\n",
    "```\n",
    "Here's just a simple proof that the \"hd\" and \"tl\" of a non-empty list can be used to reconstruct the list."
   ]
  },
  {
   "cell_type": "code",
   "execution_count": 484,
   "metadata": {
    "coq_kernel_metadata": {
     "auto_roll_back": true,
     "cell_id": "e97aa1b03db34780880884086a3f6cfd",
     "execution_id": "6849E078847842328F3FF77856D54798"
    }
   },
   "outputs": [
    {
     "data": {
      "text/html": [
       "\n",
       "<div class=\"coq_kernel_output_area\">\n",
       "    <pre></pre>\n",
       "</div>\n",
       "\n",
       "<div class=\"coq_kernel_rich_cell_output coq_kernel_status_message_area\" style=\"padding: 5px 0px;\">\n",
       "    <i class=\"fa-check fa text-success\"></i>\n",
       "    <span>Cell evaluated.</span>\n",
       "</div>\n",
       "\n",
       "<div class=\"coq_kernel_rich_cell_output coq_kernel_status_message_area coq_kernel_rolled_back_status_message\" style=\"padding: 5px 0px; display: none;\">\n",
       "    <i class=\"fa-exclamation-circle fa text-info\"></i>\n",
       "    <span>Cell rolled back.</span>\n",
       "</div>\n",
       "\n",
       "<div class=\"coq_kernel_rich_cell_output coq_kernel_roll_back_controls_area\" style=\"display: none; position: relative;\">\n",
       "    <button class=\"btn btn-default btn-xs coq_kernel_roll_back_button\" onclick=\"CoqKernel.roll_back(this)\">\n",
       "        <i class=\"fa-step-backward fa\"></i>\n",
       "        <span class=\"toolbar-btn-label\">Rollback cell</span>\n",
       "    </button>\n",
       "\n",
       "    <div style=\"display: inline-block; vertical-align: middle; padding-left: 0; padding-right: 0;\">\n",
       "      <input class=\"coq_kernel_auto_roll_back_checkbox\" type=\"checkbox\" value=\"\" onchange=\"CoqKernel.toggle_auto_roll_back(this)\" checked>\n",
       "      <label\">Auto rollback</label>\n",
       "    </div>\n",
       "</div>\n"
      ],
      "text/plain": []
     },
     "execution_count": 491,
     "metadata": {
      "coq_kernel_evaluated": true,
      "coq_kernel_execution_id": "6849E078847842328F3FF77856D54798",
      "coq_kernel_rolled_back": false
     },
     "output_type": "execute_result"
    }
   ],
   "source": [
    "Theorem hd_tl :\n",
    "   (forall A:Type,\n",
    "   (forall (default : A) (x : A) (lst : list A),\n",
    "   (hd A default (x::lst)) :: (tl A (x::lst)) = (x :: lst))).\n",
    "Proof.\n",
    "  intros A.\n",
    "  intros default x lst.\n",
    "  simpl.\n",
    "  exact (eq_refl (x::lst)).\n",
    "Qed."
   ]
  },
  {
   "cell_type": "markdown",
   "metadata": {
    "coq_kernel_metadata": {
     "auto_roll_back": true
    }
   },
   "source": [
    "## Appending lists\n",
    "We often want to do more than just add one element at the front of a list. Coq includes the function \"app\", short for \"append\", to concatenate two lists.\n",
    "```\n",
    "Definition app (A : Type) : list A -> list A -> list A :=\n",
    "  fix app l m :=\n",
    "  match l with\n",
    "   | nil => m\n",
    "   | a :: l1 => a :: app l1 m\n",
    "  end.\n",
    "\n",
    "Infix \"++\" := app (right associativity, at level 60) : list_scope.\n",
    "```\n",
    "Here are some nice theorems you can try to prove about appending lists. Since append is defined recursively, many of these theorems must be proved with induction using the \"elim\" tactic."
   ]
  },
  {
   "cell_type": "code",
   "execution_count": null,
   "metadata": {
    "collapsed": true,
    "coq_kernel_metadata": {
     "auto_roll_back": true
    }
   },
   "outputs": [],
   "source": [
    "Theorem app_nil_l : (forall A:Type, (forall l:list A, nil ++ l = l)).\n",
    "Proof.\n",
    "  admit.\n",
    "(* delete \"admit\" and put your proof here.*)\n",
    "Admitted."
   ]
  },
  {
   "cell_type": "markdown",
   "metadata": {
    "coq_kernel_metadata": {
     "auto_roll_back": true
    }
   },
   "source": [
    "when done, replace \"Admitted.\" with \"Qed.\""
   ]
  },
  {
   "cell_type": "code",
   "execution_count": null,
   "metadata": {
    "collapsed": true,
    "coq_kernel_metadata": {
     "auto_roll_back": true
    }
   },
   "outputs": [],
   "source": [
    "Theorem app_nil_r : (forall A:Type, (forall l:list A, forall l:list A, l ++ nil = l)).\n",
    "Proof.\n",
    "  admit.\n",
    "(* delete \"admit\" and put your proof here.*)\n",
    "Admitted."
   ]
  },
  {
   "cell_type": "markdown",
   "metadata": {
    "coq_kernel_metadata": {
     "auto_roll_back": true
    }
   },
   "source": [
    "when done, replace \"Admitted.\" with \"Qed.\""
   ]
  },
  {
   "cell_type": "code",
   "execution_count": null,
   "metadata": {
    "collapsed": true,
    "coq_kernel_metadata": {
     "auto_roll_back": true
    }
   },
   "outputs": [],
   "source": [
    "Theorem app_comm_cons : forall A (x y:list A) (a:A), a :: (x ++ y) = (a :: x) ++ y.\n",
    "Proof.\n",
    "  admit.\n",
    "(* delete \"admit\" and put your proof here.*)\n",
    "Admitted."
   ]
  },
  {
   "cell_type": "markdown",
   "metadata": {
    "coq_kernel_metadata": {
     "auto_roll_back": true
    }
   },
   "source": [
    "when done, replace \"Admitted.\" with \"Qed.\""
   ]
  },
  {
   "cell_type": "code",
   "execution_count": null,
   "metadata": {
    "collapsed": true,
    "coq_kernel_metadata": {
     "auto_roll_back": true
    }
   },
   "outputs": [],
   "source": [
    "Theorem app_assoc : forall A (l m n:list A), l ++ m ++ n = (l ++ m) ++ n.\n",
    "Proof.\n",
    "  admit.\n",
    "(* delete \"admit\" and put your proof here.*)\n",
    "Admitted."
   ]
  },
  {
   "cell_type": "markdown",
   "metadata": {
    "coq_kernel_metadata": {
     "auto_roll_back": true
    }
   },
   "source": [
    "when done, replace \"Admitted.\" with \"Qed.\""
   ]
  },
  {
   "cell_type": "code",
   "execution_count": null,
   "metadata": {
    "collapsed": true,
    "coq_kernel_metadata": {
     "auto_roll_back": true
    }
   },
   "outputs": [],
   "source": [
    "Theorem app_cons_not_nil : forall A (x y:list A) (a:A), nil <> x ++ a :: y.\n",
    "Proof.\n",
    "  admit.\n",
    "(* delete \"admit\" and put your proof here *)\n",
    "Admitted."
   ]
  },
  {
   "cell_type": "code",
   "execution_count": null,
   "metadata": {
    "collapsed": true,
    "coq_kernel_metadata": {
     "auto_roll_back": true
    }
   },
   "outputs": [],
   "source": [
    "when done, replace \"Admitted.\" with \"Qed.\""
   ]
  },
  {
   "cell_type": "markdown",
   "metadata": {
    "coq_kernel_metadata": {
     "auto_roll_back": true
    }
   },
   "source": [
    "## Conclusion\n",
    "\n",
    "I designed this tutorial to give you just enough to get started in Coq. You know enough concepts to have an idea of how things work in Coq and how things relate. You may only know a small number of simple tactics, but they're powerful enough that you can prove real theorems.\n",
    "\n",
    "As you get more experience, you'll see more complex concepts and use more tactics. You may even get to use SSReflect, which is a separate tactics language! As you read more Coq proofs, you'll also see different styles for writing proofs. (Any expert will tell you that this tutorial's simple style is strikingly different from that used in their proofs.)\n",
    "\n",
    "I hope you've seen some of the power and possibilities of Coq. Many expert provers consider Coq proofs a puzzle and I wish you luck in solving your puzzles!\n",
    "### Postscripts\n",
    "Contact\n",
    "HTML and Coq versions of the tutorial are hosted on the author's professional website.\n",
    "https://mdnahas.github.io/doc/nahas_tutorial.html https://mdnahas.github.io/doc/nahas_tutorial.v\n",
    "The author, Michael Nahas, can be reached at michael@nahas.com\n",
    "### Further Reading\n",
    "Coq uses a lot of concepts that I didn't explain. Below are some good sources on those topic.\n",
    "For learning about proofs, I recommend the Pulitzer Prize winning book \"Godel, Escher, Bach\", Chapters 7 and 8. (Pages 181 to 230 in my copy.)\n",
    "For learning about some of the ideas used in formal proofs, you can read about Intuitionistic logic, the Curry-Howard correspondence, and the BHK-Interpretation.\n",
    "- http://en.wikipedia.org/wiki/Intuitionistic_logic\n",
    "- http://en.wikipedia.org/wiki/Curry-Howard_correspondence\n",
    "- http://en.wikipedia.org/wiki/BHK_interpretation\n",
    "\n",
    "If you have a deep interest in logic, I highly recommend Gentzen's \"Investigations into Logical Deductions\". It's not necessary at all, but it is a beautiful paper.\n",
    "\n",
    "If you need to learn a programming language, OCaml is the one that would help you with Coq the most. Coq is written in OCaml and it borrows a lot of OCaml's syntax and style.\n",
    "- https://ocaml.org\n",
    "To learn more about Coq, I found the textbook \"Software Foundations\" readable. It focuses on proving programs correct. You can also look at \n",
    "- Coq's documentation webpage.\n",
    "https://softwarefoundations.cis.upenn.edu/\n",
    "https://coq.inria.fr/documentation\n",
    "\n",
    "## Vernacular commands\n",
    "- \"Theorem\" starts a proof.\n",
    "- \"Qed\" ends a proof.\n",
    "- \"Admitted\" ends an incomplete proof.\n",
    "- \"Definition\" declares a function.\n",
    "- \"Fixpoint\" declares a recursive function.\n",
    "- \"Inductive\" declares data types.\n",
    "- \"Notation\" creates new operators.\n",
    "- \"Infix\" also creates new operators.\n",
    "- \"Show Proof\" prints out the current state of the proof.\n",
    "- \"Require Import\" reads in definitions from a file.\n",
    "- \"Check\" prints out a description of a type.\n",
    "- Compute\" prints out the result of a function call."
   ]
  },
  {
   "cell_type": "markdown",
   "metadata": {
    "coq_kernel_metadata": {
     "auto_roll_back": true
    }
   },
   "source": [
    "## The tactic guide\n",
    "- RULE: If the subgoal starts with `\"(forall <name> : <type>, ...\"` Then use tactic \"intros <name>.\".\n",
    "- RULE: If the subgoal starts with `\"<type> -> ...\" Then use tactic \"intros <name>.\"`.\n",
    "- RULE: If the subgoal matches an hypothesis, Then use tactic `\"exact <hyp_name>.`\".\n",
    "- RULE: If you have an hypothesis `\"<hyp_name>: <type1> -> <type2> -> ... -> <result_type>\"` OR an hypothesis `\"<hyp_name>: (forall <obj1>:<type1>, (forall <obj2>:<type2>, ... <result_type> ...))\"` OR any combination of \"->\" and \"forall\", AND you have hypotheses of type \"type1\", \"type2\"..., Then use tactic \"pose\" to create something of type \"result_type\".\n",
    "- RULE: If you have subgoal `\"<goal_type>\"` AND have hypothesis` \"<hyp_name>: <type1> -> <type2> -> ... -> <typeN> -> <goal_type>\"`, Then use tactic \"refine (<hyp_name> _ ...).\" with N underscores.\n",
    "- RULE: If your subgoal is \"True\", Then use tactic \"exact I.\".\n",
    "- RULE: If your subgoal is `\"~<type>\" or \"~(<term>)\" or \"(not <term>)\"`, Then use tactic \"intros\".\n",
    "- RULE: If any hypothesis is `\"<name> : False\", Then use tactic \"case <name>.\"`.\n",
    "- RULE: If the current subgoal contains a function call with all its arguments, Then use the tactic \"simpl.\".\n",
    "- RULE: If there is a hypothesis` \"<name>\" `of a created type AND that hypothesis is used in the subgoal, Then you can try the tactic `\"case<name>.\".`\n",
    "- RULE: If the subgoal's top-most term is a created type, Then use `\"refine (<name_of_constructor> _ ...).\"`.\n",
    "- RULE: If a hypothesis `\"<name>\"` is a created type with only one constructor, Then use `\"destruct <name> as <arg1> <arg2> ... .\"` to extract its arguments.\n",
    "- RULE: If a hypothesis \"<name>\" contain a function call with all its arguments, Then use the tactic `\"simpl in <name>.\"`.\n",
    "- RULE: If you have a subgoal that you want to ignore for a while, Then use the tactic \"admit.\".\n",
    "- RULE: If the current subgoal starts `\"exists <name>, ...\" `Then create a witness and use \"refine (ex_intro _ witness _).\".\n",
    "- RULE: If you have a hypothesis `\"<name> : <a> = <b>\" AND \"<a>\"` in your current subgoal Then use the tactic `\"rewrite <name>.\"`.\n",
    "- RULE: If you have a hypothesis `\"<name> : <a> = <b>\" AND \"<b>\" `in your current subgoal Then use the tactic `\"rewrite <- <name>.\"`.\n",
    "-RULE: If you have a hypothesis `\"<name> : (<constructor1> ...) = (<constructor2> ...) OR \"<name> : <constant1> = <constant2>` Then use the tactic `\"discriminate <name>.\"`.\n",
    "- RULE: If there is a hypothesis `\"<name>\"` of a created type AND that hypothesis is used in the subgoal, AND the type has a recursive definition Then you can try the tactic `\"elim <name>.\"*.\n",
    "### This page has been generated by coqdoc\n",
    "### Recent news\n",
    "- Coq 8.10+beta3 is out\n",
    "- Coq 8.10+beta2 is out\n",
    "- Coq 8.9.1 is out\n",
    "### more\n",
    "Syndicate content  Syndicate"
   ]
  },
  {
   "cell_type": "code",
   "execution_count": null,
   "metadata": {
    "collapsed": true,
    "coq_kernel_metadata": {
     "auto_roll_back": true
    }
   },
   "outputs": [],
   "source": []
  }
 ],
 "metadata": {
  "kernelspec": {
   "display_name": "Coq",
   "language": "coq",
   "name": "coq"
  },
  "language_info": {
   "file_extension": ".v",
   "mimetype": "text/x-coq",
   "name": "coq",
   "version": "8.9.1"
  }
 },
 "nbformat": 4,
 "nbformat_minor": 2
}
