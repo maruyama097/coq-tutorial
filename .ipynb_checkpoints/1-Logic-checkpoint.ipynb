{
 "cells": [
  {
   "cell_type": "markdown",
   "metadata": {
    "coq_kernel_metadata": {
     "auto_roll_back": true
    }
   },
   "source": [
    "<img src=\"./images/Logo1.png\"  width=\"800 px\" align=\"center\">"
   ]
  },
  {
   "cell_type": "markdown",
   "metadata": {
    "coq_kernel_metadata": {
     "auto_roll_back": true
    }
   },
   "source": [
    "　　　　[全体目次](./0-Contents.ipynb) 　[この章の演習問題へ](./1-logic-answer.ipynb)　　[前の章へ](./0-Introduction.ipynb)　　[次の章へ](./2-Equality.ipynb)"
   ]
  },
  {
   "cell_type": "markdown",
   "metadata": {
    "coq_kernel_metadata": {
     "auto_roll_back": true
    }
   },
   "source": [
    "# <font color=\"blue\"　size=\"7\">論理式の証明</font>"
   ]
  },
  {
   "cell_type": "markdown",
   "metadata": {
    "coq_kernel_metadata": {
     "auto_roll_back": true
    }
   },
   "source": [
    "<a id=\"sec1\"></a>\n",
    "# 論理式はどのような形をしているか？\n",
    "\n",
    "この章では、基本的な命題から基本的な論理記号を用いて構成された論理式の証明を扱います。\n",
    "\n",
    "まず、論理式がどのような形をしているかを見ていくことにしましょう。\n",
    "論理式の証明がどのように進むかは、その論理式の形に依存します。\n",
    "\n",
    "### 基本的な論理記号とそれから構成される命題の意味\n",
    "基本的なところを確認しましょう。\n",
    "\n",
    "<img src=\"./images/logicalSymbol.png\"  width=\"500 px\" align=\"left\">"
   ]
  },
  {
   "cell_type": "markdown",
   "metadata": {
    "coq_kernel_metadata": {
     "auto_roll_back": true
    }
   },
   "source": [
    "<a id=\"sec11\"></a>\n",
    "## 命題の構成ルール -- Formation Rule\n",
    "\n",
    "複雑な論理式は、単純な論理式から次のようなルールで構成されます。\n",
    "\n",
    "このルールの読み方を説明しましょう。それぞれのルールは「横棒」の上の部分と、「横棒」の下の部分に分かれています。この「横棒」は、「横棒」の上の部分の判断が正しいとき、「横棒」の下の部分の判断も正しいということを表しています。\n",
    "\n",
    "最初のルールは、「Aが命題であり」、<font color=\"blue\">かつ</font>、「Bも命題である」なら、「(A /\\ B)も命題である」ということを主張しています。横棒の右に書かれている<font color=\"green\">(/\\F)</font> という記号は、\"/\\ Formation Rule\"を省略したもので、この論理式の構成ルールが、論理記号\"/\\\"を用いた、論理式の構成ルールであることを示しています。\n",
    "\n",
    "以下も同様です。\n",
    "\n",
    "横棒の上にあるのが単純な論理式で、横棒の下にあるのが複雑な論理式です。このルールを繰り返し適用して、単純な論理式から複雑な論理式が構成されます。大事なことは、形の整った論理式は、すべてこのルールによって構成されたものだということです。"
   ]
  },
  {
   "cell_type": "markdown",
   "metadata": {
    "coq_kernel_metadata": {
     "auto_roll_back": true
    }
   },
   "source": [
    "<img src=\"./images/formation1.png\"  width=\"500 px\" align=\"left\">\n",
    "<img src=\"./images/formation2.png\"  width=\"500 px\" align=\"left\">"
   ]
  },
  {
   "cell_type": "markdown",
   "metadata": {
    "coq_kernel_metadata": {
     "auto_roll_back": true
    }
   },
   "source": [
    "<div class=\"alert alert-block alert-info\">\n",
    "    ルールの記述法とこのルールの内容には、特に難しいところはないと思います。<font color=\"blue\">論理学者は、「横棒」が好き</font>で、論理学の基本的なルールを、すべてこの「横棒」を通じて記述しようとします。\n",
    "</div>"
   ]
  },
  {
   "cell_type": "markdown",
   "metadata": {
    "coq_kernel_metadata": {
     "auto_roll_back": true
    }
   },
   "source": [
    "<a id=\"sec12\"></a>\n",
    "## 命題の分解ルール -- 部分式への分解\n",
    "\n",
    "今度は、論理式の構成とは逆のこと、複雑な論理式を単純な論理式に分解することを考えてみましょう。例えば、A\\/Bという論理式が与えられた時、それを論理式Aと論理式Bに分解するのです。こうして分解された論理式を、元の論理式の<font color=\"blue\">部分式</font> と呼びます。\n",
    "\n",
    "論理式を、その部分式に分解するルールは、先の構成ルールから簡単に作れます。分解は構成の逆ですから、先の構成ルールの上下を逆にして、上段に 「〜は命題である」を置き、下段に、「〜は、上段の命題の部分式 である」といった判断を置けばいいのです。\n",
    "\n",
    "<a id=\"sec13\"></a>\n",
    "## 証明のサブゴールと命題の部分式\n",
    "\n",
    "Coqでの証明は、複雑な問題を、簡単な部分問題（Coqでは、それを<font color=\"blue\">「サブゴール」</font>と呼んでいます）に分割して、そのサブゴールをすべて解くことで、元の問題を解くことを目指します。\n",
    "\n",
    "命題の部分式（Sub Formula）とは、証明のサブゴール(Sub Goal)とは、名前は似ていますが、全く違うものです。命題を部分式に分解すると、元の命題の持っていた情報は、だんだん失われていきます。命題 A /\\ B を 部分式に分解すると、命題Aと命題Bになりますが、そこには命題 A /\\ B という構成の形が持っていた情報は、もはやありません。命題 A \\/ B を 部分式に分解しても、やはり、同じ命題Aと命題Bが得られます。分解の結果としての命題Aと命題Bをみているだけでは、それが、命題 A /\\ B に起源を持つものなのか、命題 A \\/ Bに起源を持つものなのか判断はできません。\n",
    "\n",
    "ただ、複雑なものを簡単なものにするという点では、証明のサブゴール(Sub Goal)と命題の部分式(Sub Formula) は似ているところがあります。実際、ある論理的命題の証明ができるなら、その証明には、元の命題とその部分式だけが使われるはずだと考えるのは、そんなに間違ってはいません。証明に 部分式を使おうというのは、アイデアとしては悪くありません。"
   ]
  },
  {
   "cell_type": "markdown",
   "metadata": {
    "coq_kernel_metadata": {
     "auto_roll_back": true
    }
   },
   "source": [
    "<a id=\"sec2\"></a>\n",
    "# Coqが返す「証明の状態」が持つ情報\n",
    "\n",
    "実は、Coqは、論理式の証明の場合には、証明のSub Goalへの分割と命題の部分式への分解の二つを、同時に行います。\n",
    "\n",
    "そのことを見るためには、人間の指示に対してCoqが返す「証明の状態」に注目する必要があります。最初は、サブゴールだけに目が行きがちになるのですが、Coqが返す「証明の状態」は、二つの部分からなっています。一つは、「仮説（前提とかコンテキストと呼ばれることもあります）」部分で、もう一つが「サブゴール」です。\n",
    "\n",
    "<a id=\"sec21\"></a>\n",
    "## 「証明の状態」＝「仮説部分」＋「サブゴール」\n",
    "\n",
    "証明の状態は、人間とCoqとの対話を通じて、変化していきます。証明の状態とその変化がどんなものであろうと、我々の最終目標はサブゴールをなくすことなのですが、証明の戦略を考えるためにも、証明の状態を、すなわち「仮説部分」と「サブゴール」をきちんと確認する必要があります。\n",
    "\n",
    "サブゴールが、二つ以上に分岐する場合には、それらのサブゴールはすべて表示されますが、それぞれのサブゴールの仮説部分は、現在のサブゴールのそれを除いては表示されません。それは、人間が同時に二つ以上の証明を行うことができないからです。\n",
    "\n",
    "<a id=\"sec22\"></a>\n",
    "## 証明が進むと「仮説部分」も「サブゴール」も部分式に置き換わります\n",
    "\n",
    "論理式の証明の場合には、証明の状態の変化には、一つの特徴があります。それは、証明が進むにつれて、仮説部分に含まれる式もサブゴールも、元の論理式の部分式で置き換わってゆくことです。\n",
    "\n",
    "論理式の部分式への分解は、どんな複雑な論理式でも、有限回の手順で終わります。何度かtacticの投入を繰り返すうちに、部分式の分解が進んで、「証明の状態」を構成する式が単純になり、仮説部分にサブゴールと同じものが現れれば、そのサブゴールの証明は終わります。\n",
    "\n",
    "逆に、どんなtacticを選んでも、部分式への分解が進まないときは、証明に失敗している可能性があります。"
   ]
  },
  {
   "cell_type": "markdown",
   "metadata": {
    "coq_kernel_metadata": {
     "auto_roll_back": true
    }
   },
   "source": [
    "<a id=\"sec3\"></a>\n",
    "# tacticの選択\n",
    "\n",
    "<a id=\"sec31\"></a>\n",
    "##  論理式の証明では、<font color=\"blue\">サブゴールの論理式の形</font>で、選択すべきtacticが、ほとんど自動的に決まります。\n",
    "\n",
    "「論理式の形」を判断するのには、その論理式が、この章の冒頭でみた論理式の構成ルールのどれを最後に使って構成されたかを基準にします。\n",
    "\n",
    "- ### サブゴールが、\"forall\" で構成された論理式の場合には、<font color=\"blue\">intros</font>を使う\n",
    "- ### サブゴールが、\"->\" で構成された論理式の場合には、<font color=\"blue\">intros</font>を使う\n",
    "- ### サブゴールが、\"/\\\\\" で構成された論理式の場合には、<font color=\"blue\">split</font>を使う\n",
    "- ### サブゴールが、\"\\\\/\" で構成された論理式の場合には、<font color=\"blue\">left</font>、または、<font color=\"blue\">right</font>を使う\n",
    "\n",
    "<a id=\"sec32\"></a>\n",
    "## <font color=\"blue\">仮説部の論理式の形</font>で、選択すべきtactic\n",
    "\n",
    "- ### 仮説部に、\"/\\\\\" で構成された論理式があれば、<font color=\"blue\">destruct</font>を使う\n",
    "- ### 仮説部に、\"A -> B\"の形の論理式があり、かつ、サブゴールが Bであれば、<font color=\"blue\">apply</font>を使う\n",
    "\n",
    "<a id=\"sec33\"></a>\n",
    "## 仮説部の論理式の一つとサブゴールが一致する時、サブゴールは解消できる。以下のtacticsは同じ働きをする。\n",
    "\n",
    "- ### <font color=\"blue\">exact H</font>を使う\n",
    "- ### <font color=\"blue\">assumption</font>を使う\n",
    "- ### <font color=\"blue\">trivial</font>を使う"
   ]
  },
  {
   "cell_type": "markdown",
   "metadata": {
    "coq_kernel_metadata": {
     "auto_roll_back": true
    }
   },
   "source": [
    "<a id=\"sec4\"></a>\n",
    "# 論理式の証明で利用できるtacticsの働きを見る。"
   ]
  },
  {
   "cell_type": "markdown",
   "metadata": {
    "coq_kernel_metadata": {
     "auto_roll_back": true
    }
   },
   "source": [
    "<a id=\"sec41\"></a>\n",
    "## intros\n",
    "\n",
    "intros は、ほとんどの証明で最初に利用します。\n",
    "\n",
    "#### サブゴールが、\"forall\" で構成された論理式の場合（下図の赤い破線の四角）、introsは、\"forall\"を削除します。\n",
    "- #### forall を削除された元の式部分式が、サブゴールに残ります。（下図の赤い四角）\n",
    "- #### 元の式のforall が持っていた型の情報は、仮説部に移ります。（下図の緑の四角）\n"
   ]
  },
  {
   "cell_type": "markdown",
   "metadata": {
    "coq_kernel_metadata": {
     "auto_roll_back": true
    }
   },
   "source": [
    "<a id=\"hint-ex161\"></a>\n",
    "<img src=\"./images/tac-intros1.png\"  width=\"600 px\" align=\"left\">"
   ]
  },
  {
   "cell_type": "markdown",
   "metadata": {
    "coq_kernel_metadata": {
     "auto_roll_back": true
    }
   },
   "source": [
    "<a id=\"sec42\"></a>\n",
    "## introsの もう一つの使い方\n",
    "\n",
    "#### サブゴールが、\"->\" で構成された論理式の場合（下図の赤い破線の四角）、intros は元の式を部分式に分解します。\n",
    "- #### 元の式が、A -> B -> ... -> X の形をしていれば、最後の部分式 のXがサブゴールに残ります。（下図の赤い四角）\n",
    "- #### そのほかの部分式 A, B, ... は、仮説部に移ります。（下図の緑の四角）"
   ]
  },
  {
   "cell_type": "markdown",
   "metadata": {
    "coq_kernel_metadata": {
     "auto_roll_back": true
    }
   },
   "source": [
    "<a id=\"hint-ex162\"></a>\n",
    "<img src=\"./images/tac-intros2.png\"  width=\"600 px\" align=\"left\">"
   ]
  },
  {
   "cell_type": "markdown",
   "metadata": {
    "coq_kernel_metadata": {
     "auto_roll_back": true
    }
   },
   "source": [
    "### intros で分解した部分式に名前をつける\n",
    "\n",
    "#### 次の例は、先と同じく \"->\" で構成された論理式を intros で分解しています。少し \"->\" の連鎖が長いので、分解で、沢山の部分式 が生まれています。こうした時には、intros に引数を与えて、仮説部に生成される部分式 にラベルをつけることができます。（下図の緑の四角）"
   ]
  },
  {
   "cell_type": "markdown",
   "metadata": {
    "coq_kernel_metadata": {
     "auto_roll_back": true
    }
   },
   "source": [
    "<a id=\"hint-ex17\"></a>\n",
    "<img src=\"./images/tac-intros3.png\"  width=\"600 px\" align=\"left\">"
   ]
  },
  {
   "cell_type": "markdown",
   "metadata": {
    "coq_kernel_metadata": {
     "auto_roll_back": true
    }
   },
   "source": [
    "<a id=\"hint-ex182\"></a>\n",
    "<a id=\"sec43\"></a>\n",
    "## split\n",
    "\n",
    "#### サブゴールが、\"/\\\" で構成された論理式の場合（下図の赤い破線の四角）、splitは、サブゴールを二つに分岐させます。「AかつB」の証明ですので、Aの証明とBの証明の二つが必要ということです。（下図の赤い四角）"
   ]
  },
  {
   "cell_type": "markdown",
   "metadata": {
    "coq_kernel_metadata": {
     "auto_roll_back": true
    }
   },
   "source": [
    "<img src=\"./images/tac-split.png\"  width=\"600 px\" align=\"left\">"
   ]
  },
  {
   "cell_type": "markdown",
   "metadata": {
    "coq_kernel_metadata": {
     "auto_roll_back": true
    }
   },
   "source": [
    "<a id=\"hint-ex14\"></a>\n",
    "<a id=\"sec44\"></a>\n",
    "## left または right\n",
    "       \n",
    "#### サブゴールが、\"\\/\" で構成された論理式の場合（下図の赤い破線の四角）、left またはright は、サブゴールを元の式の部分式 の一つに証明を絞ります。「AまたはB」の証明ですので、Aの証明かBの証明のうち一つの証明があればいいということです。（下図の赤い四角）"
   ]
  },
  {
   "cell_type": "markdown",
   "metadata": {
    "coq_kernel_metadata": {
     "auto_roll_back": true
    }
   },
   "source": [
    "### left\n",
    "<img src=\"./images/tac-left.png\"  width=\"600 px\" align=\"left\">"
   ]
  },
  {
   "cell_type": "markdown",
   "metadata": {
    "coq_kernel_metadata": {
     "auto_roll_back": true
    }
   },
   "source": [
    "### right\n",
    "<a id=\"hint-ex15></a>\n",
    "<img src=\"./images/tac-right.png\"  width=\"600 px\" align=\"left\">"
   ]
  },
  {
   "cell_type": "markdown",
   "metadata": {
    "coq_kernel_metadata": {
     "auto_roll_back": true
    }
   },
   "source": [
    "<a id=\"hint-ex18\"></a>\n",
    "<a id=\"sec45\"></a>\n",
    "## destruct　\n",
    "\n",
    "今まで見てきたtactic は、サブゴールをターゲットとしたものでしたが、仮説部をターゲットにした tactic もあります。\n",
    "\n",
    "### 仮説部に、\"/\\\\\" で構成された論理式（下図の緑の破線の四角）があれば、destruct を使います。\n",
    "- #### 仮説部の元の論理式は、部分式に分解されて、仮説部に追加されます。（下図の緑の四角）\n",
    "- #### サブゴールは、変化しません。"
   ]
  },
  {
   "cell_type": "markdown",
   "metadata": {
    "coq_kernel_metadata": {
     "auto_roll_back": true
    }
   },
   "source": [
    "<img src=\"./images/tac-destruct1.png\"  width=\"600 px\" align=\"left\">"
   ]
  },
  {
   "cell_type": "markdown",
   "metadata": {
    "coq_kernel_metadata": {
     "auto_roll_back": true
    }
   },
   "source": [
    "<a id=\"sec46\"></a>\n",
    "## apply\n",
    "\n",
    "### 仮説部に、A -> B の形の論理式があり、かつ、サブゴールが Bなら、サブゴールをAにします。\n",
    "- #### 仮説部の元の論理式は変化しません。\n",
    "- #### サブゴールは、BからAに変わります。"
   ]
  },
  {
   "cell_type": "markdown",
   "metadata": {
    "coq_kernel_metadata": {
     "auto_roll_back": true
    }
   },
   "source": [
    "<img src=\"./images/tac-apply.png\"  width=\"600 px\" align=\"left\">"
   ]
  },
  {
   "cell_type": "markdown",
   "metadata": {
    "coq_kernel_metadata": {
     "auto_roll_back": true
    }
   },
   "source": [
    "<a id=\"sec47\"></a>\n",
    "## exact H\n",
    "\n",
    "### 仮説部のHが、サブゴールと一致する時、サブゴールを解消します。"
   ]
  },
  {
   "cell_type": "markdown",
   "metadata": {
    "coq_kernel_metadata": {
     "auto_roll_back": true
    }
   },
   "source": [
    "<img src=\"./images/tac-exact.png\"  width=\"600 px\" align=\"left\">"
   ]
  },
  {
   "cell_type": "markdown",
   "metadata": {
    "coq_kernel_metadata": {
     "auto_roll_back": true
    }
   },
   "source": [
    "<a id=\"sec48\"></a>\n",
    "## assumption\n",
    "\n",
    "### 仮説部の一つの論理式が、サブゴールと一致する時、サブゴールを解消します。"
   ]
  },
  {
   "cell_type": "markdown",
   "metadata": {
    "coq_kernel_metadata": {
     "auto_roll_back": true
    }
   },
   "source": [
    "<img src=\"./images/tac-assumption.png\"  width=\"600 px\" align=\"left\">"
   ]
  },
  {
   "cell_type": "markdown",
   "metadata": {
    "coq_kernel_metadata": {
     "auto_roll_back": true
    }
   },
   "source": [
    "<a id=\"sec49\"></a>\n",
    "## trivial\n",
    "\n",
    "### 仮説部の一つの論理式が、サブゴールと一致する時、サブゴールを解消します。"
   ]
  },
  {
   "cell_type": "markdown",
   "metadata": {
    "coq_kernel_metadata": {
     "auto_roll_back": true
    }
   },
   "source": [
    "<a id=\"sec5\"></a>\n",
    "# 論理式の証明の自動化　tauto \n",
    "\n",
    "ここまで、Coqでの論理式の証明のテクニックについて見てきました。基本的には、論理式の形に注目するのが、重要だということです。\n",
    "\n",
    "実は、論理式の証明については、Coqには強力な自動証明の機能が備わっています。tauto(tautologyの略だと思います) というtacticを使うと、多くの論理式の証明が自動的に実行されます。 次のサンプルを実行してみてください。これらは、この章の演習問題の 1-6, 1-7, 1-8, 1-9 と内容的には同じものです。\n",
    "\n",
    "（この章の演習問題は、Coqでの証明の基本を学ぶためのものですから、tauto は使わないでくださいね。）"
   ]
  },
  {
   "cell_type": "markdown",
   "metadata": {
    "coq_kernel_metadata": {
     "auto_roll_back": true
    }
   },
   "source": [
    "- ### 演習問題 1-6"
   ]
  },
  {
   "cell_type": "code",
   "execution_count": null,
   "metadata": {
    "coq_kernel_metadata": {
     "auto_roll_back": true,
     "cell_id": "3f309e06ea27497ba0183993f03662ef",
     "execution_id": "a8d490b0582a4b988bef0a0bae9ac504"
    }
   },
   "outputs": [],
   "source": [
    "Theorem Hello_16 : forall A B : Prop, A-> (A->B)->B.\n",
    "Proof.\n",
    "  tauto.\n",
    "Qed."
   ]
  },
  {
   "cell_type": "markdown",
   "metadata": {
    "coq_kernel_metadata": {
     "auto_roll_back": true
    }
   },
   "source": [
    "- ### 演習問題 1-7"
   ]
  },
  {
   "cell_type": "code",
   "execution_count": null,
   "metadata": {
    "coq_kernel_metadata": {
     "auto_roll_back": true,
     "cell_id": "9633a0bd14ec4d3a81d6d3c3d5674159",
     "execution_id": "2438b6b4c82d41b99931c56d298597cb"
    },
    "scrolled": true
   },
   "outputs": [],
   "source": [
    "Theorem Hello_17 : (forall A  B C: Prop, A -> (A -> B) ->(B ->C) -> C).\n",
    "Proof.\n",
    "  tauto.\n",
    "Qed."
   ]
  },
  {
   "cell_type": "markdown",
   "metadata": {
    "coq_kernel_metadata": {
     "auto_roll_back": true
    }
   },
   "source": [
    "- ### 演習問題 1-8"
   ]
  },
  {
   "cell_type": "code",
   "execution_count": null,
   "metadata": {
    "coq_kernel_metadata": {
     "auto_roll_back": true,
     "cell_id": "dbd5c3bd602d4931817cb8f4c9414445",
     "execution_id": "1e0be34e2d1d423b8997246c5a240452"
    },
    "scrolled": true
   },
   "outputs": [],
   "source": [
    "Theorem Hello_18 : (forall A  B: Prop, A /\\ B -> B /\\ A ).\n",
    "Proof.\n",
    "  tauto.\n",
    "Qed.  "
   ]
  },
  {
   "cell_type": "markdown",
   "metadata": {
    "coq_kernel_metadata": {
     "auto_roll_back": true
    }
   },
   "source": [
    "- ### 演習問題 1-9"
   ]
  },
  {
   "cell_type": "code",
   "execution_count": null,
   "metadata": {
    "coq_kernel_metadata": {
     "auto_roll_back": true,
     "cell_id": "c76922fe66ac4d099cf1f414c31d15b7",
     "execution_id": "7205ed4b75fa45518e13697659bb29e2"
    },
    "scrolled": true
   },
   "outputs": [],
   "source": [
    "Theorem Hello_19 : (forall A  B: Prop, A \\/ B -> B \\/ A ).\n",
    "Proof.\n",
    "  tauto.\n",
    "Qed."
   ]
  },
  {
   "cell_type": "markdown",
   "metadata": {
    "coq_kernel_metadata": {
     "auto_roll_back": true
    }
   },
   "source": [
    "<a id=\"sec51\"></a>\n",
    "## この他にも、次のような命題は tautoで証明できます。\n",
    "\n",
    "- ### 対偶"
   ]
  },
  {
   "cell_type": "code",
   "execution_count": null,
   "metadata": {
    "coq_kernel_metadata": {
     "auto_roll_back": true,
     "cell_id": "e256927a5430465c88b38a17274181b8",
     "execution_id": "719c370802df46b68646e1042df8fa41"
    }
   },
   "outputs": [],
   "source": [
    "Theorem Contraposition : forall A B : Prop, ( A -> B ) -> ( ~B -> ~A).\n",
    "Proof.\n",
    "  tauto.\n",
    "Qed."
   ]
  },
  {
   "cell_type": "markdown",
   "metadata": {
    "coq_kernel_metadata": {
     "auto_roll_back": true
    }
   },
   "source": [
    "- ### 二重否定の一部 （ただし、この逆の 証明はできないのです）"
   ]
  },
  {
   "cell_type": "code",
   "execution_count": null,
   "metadata": {
    "coq_kernel_metadata": {
     "auto_roll_back": true
    }
   },
   "outputs": [],
   "source": [
    "Theorem Double_negation: forall A:Prop, A -> ~~A.\n",
    "Proof.\n",
    "  tauto.\n",
    "Qed."
   ]
  },
  {
   "cell_type": "markdown",
   "metadata": {
    "coq_kernel_metadata": {
     "auto_roll_back": true
    }
   },
   "source": [
    "- ### ド・モルガンの法則の一部 （ただし、一部の形のド・モルガンの法則は証明できません）"
   ]
  },
  {
   "cell_type": "code",
   "execution_count": null,
   "metadata": {
    "coq_kernel_metadata": {
     "auto_roll_back": true
    }
   },
   "outputs": [],
   "source": [
    "Theorem De_Morgan : forall A B : Prop, (A /\\ B) -> ~( ~A \\/ ~B ).\n",
    "Proof.\n",
    "  tauto.\n",
    "Qed."
   ]
  },
  {
   "cell_type": "code",
   "execution_count": null,
   "metadata": {
    "coq_kernel_metadata": {
     "auto_roll_back": true
    }
   },
   "outputs": [],
   "source": [
    "Theorem De_Morgan2 : forall A B : Prop, (A \\/ B) -> ~( ~A /\\ ~B ).\n",
    "Proof.\n",
    "  tauto.\n",
    "Qed."
   ]
  },
  {
   "cell_type": "code",
   "execution_count": null,
   "metadata": {
    "coq_kernel_metadata": {
     "auto_roll_back": true
    }
   },
   "outputs": [],
   "source": [
    "Theorem De_Morgan3 : forall A B : Prop, ~(A \\/ B) -> ( ~A /\\ ~B ).\n",
    "Proof.\n",
    "  tauto.\n",
    "Qed."
   ]
  },
  {
   "cell_type": "markdown",
   "metadata": {
    "coq_kernel_metadata": {
     "auto_roll_back": true
    }
   },
   "source": [
    "<a id=\"sec52\"></a>\n",
    "## ただ、tauto で証明できない命題があります\n",
    "\n",
    "興味ふかいことは、普通の論理では、トートロジーに見える命題で、Coqでは証明できない問題があるのです。\n",
    "\n",
    "以下にいくつかの例を挙げておきます。tauto が通用しないことがわかると思います。ただ、それは、tautoの問題ではないのです。これらの論理式は、実は、どんな tactics を使っても、Coqでは証明できないのです。\n",
    "\n",
    "その理由については、別の機会に触れたいと思います。"
   ]
  },
  {
   "cell_type": "markdown",
   "metadata": {
    "coq_kernel_metadata": {
     "auto_roll_back": true
    }
   },
   "source": [
    "- ### 排中律"
   ]
  },
  {
   "cell_type": "code",
   "execution_count": null,
   "metadata": {
    "coq_kernel_metadata": {
     "auto_roll_back": true
    }
   },
   "outputs": [],
   "source": [
    "Theorem Law_of_excluded_middle : forall A : Prop, A \\/ ~A .\n",
    "Proof.\n",
    "  tauto.\n",
    "Qed."
   ]
  },
  {
   "cell_type": "markdown",
   "metadata": {
    "coq_kernel_metadata": {
     "auto_roll_back": true
    }
   },
   "source": [
    "- ### 二重否定"
   ]
  },
  {
   "cell_type": "code",
   "execution_count": null,
   "metadata": {
    "coq_kernel_metadata": {
     "auto_roll_back": true,
     "cell_id": "52ee4efdf42246ad861243c9c41521ef",
     "execution_id": "6a79385f7ca84443861958285fdd48eb"
    },
    "scrolled": true
   },
   "outputs": [],
   "source": [
    "Theorem Double_negation2: forall A:Prop, ~~A-> A.\n",
    "Proof.\n",
    "  tauto.\n",
    "Qed."
   ]
  },
  {
   "cell_type": "markdown",
   "metadata": {
    "coq_kernel_metadata": {
     "auto_roll_back": true
    }
   },
   "source": [
    "- ### ド・モルガンの法則"
   ]
  },
  {
   "cell_type": "code",
   "execution_count": null,
   "metadata": {
    "coq_kernel_metadata": {
     "auto_roll_back": true,
     "cell_id": "9daf15dc04e44ceb93b4006fe65dd6f2",
     "execution_id": "423d61d261b74d759df061a444c16542"
    },
    "scrolled": true
   },
   "outputs": [],
   "source": [
    "Theorem De_Morgan4 : forall A B : Prop, ~(A /\\ B) -> ( ~A \\/ ~B ).\n",
    "Proof.\n",
    "  tauto.\n",
    "Qed."
   ]
  },
  {
   "cell_type": "markdown",
   "metadata": {
    "coq_kernel_metadata": {
     "auto_roll_back": true
    }
   },
   "source": [
    "- ### Pierceの法則"
   ]
  },
  {
   "cell_type": "code",
   "execution_count": null,
   "metadata": {
    "coq_kernel_metadata": {
     "auto_roll_back": true,
     "cell_id": "8b3c6102739346fd8b0405ba56645503",
     "execution_id": "3dba7edaae9f46f68986ee0eed4c1d34"
    },
    "scrolled": true
   },
   "outputs": [],
   "source": [
    "Theorem Pierce_Law : forall P Q :Prop, ((P -> Q) -> P) ->P.\n",
    "Proof.\n",
    " tauto.\n",
    "Qed."
   ]
  },
  {
   "cell_type": "markdown",
   "metadata": {
    "coq_kernel_metadata": {
     "auto_roll_back": true
    }
   },
   "source": [
    "　　　　[全体目次](./0-Contents.ipynb) 　[この章の演習問題へ](./1-logic-answer.ipynb)　　[前の章へ](./0-Introduction.ipynb)　　[次の章へ](./2-Equality.ipynb)"
   ]
  },
  {
   "cell_type": "markdown",
   "metadata": {
    "coq_kernel_metadata": {
     "auto_roll_back": true
    }
   },
   "source": [
    "# <font color=\"blue\" size=\"7\">演習問題 1</font>\n",
    "\n",
    "[演習問題 1-1](#ex11) [演習問題 1-2](#ex12) [演習問題 1-3](#ex13) [演習問題 1-4](#ex14) [演習問題 1-5](#ex15) [演習問題 1-6](#ex16) [演習問題 1-7](#ex17) [演習問題 1-8](#ex18) [演習問題 1-9](#ex19) "
   ]
  },
  {
   "cell_type": "markdown",
   "metadata": {
    "coq_kernel_metadata": {
     "auto_roll_back": true
    }
   },
   "source": [
    "<a id=\"ex11\"></a>\n",
    "## 演習問題 1-1 \n",
    "<font size=\"4\">次の定理を証明せよ。</font>\n",
    " <font color=\"blue\"　size=\"4\" ><br> Theorem my_first_proof : (forall A : Prop, A -> A).</font>\n",
    "\n",
    "#### [作業用ページで証明をしてみる](./1-logic-answer.ipynb#ex11) / [解答を見る](./1-logic-answer.ipynb#ans11) \n",
    "\n",
    "### ヒント\n",
    "- 冒頭の forall を intros で削除する。\n",
    "- A -> A の最初のAを intros で仮説に入れる。\n",
    "- そうすると、サブゴールが仮説の一つと一致していることがわかるので、assumption  または、exact  を使う。"
   ]
  },
  {
   "cell_type": "markdown",
   "metadata": {
    "collapsed": true,
    "coq_kernel_metadata": {
     "auto_roll_back": true
    }
   },
   "source": [
    "<a id=\"ex12\"></a>\n",
    "## 演習問題 1-2\n",
    "<font size=\"4\">次の定理を証明せよ。</font>\n",
    " <font color=\"blue\" size=\"4\"><br> Theorem and1 : (forall A  B: Prop, A /\\ B -> A).</font>\n",
    "\n",
    "#### [作業用ページで証明をしてみる](./1-logic-answer.ipynb#ex12) / [解答を見る](./1-logic-answer#ans12) \n",
    "\n",
    "### ヒント\n",
    "- intros. で forall を削除し、`A /\\ B -> A` の前提部分の`A /\\ B`を仮説に移す。\n",
    "- 仮説中の`A /\\ B`を、destruct で分解する。\n",
    "- 仮説の一つがサブゴールに一致している。"
   ]
  },
  {
   "cell_type": "markdown",
   "metadata": {
    "coq_kernel_metadata": {
     "auto_roll_back": true
    }
   },
   "source": [
    "<a id=\"ex13\"></a>\n",
    "## 演習問題 1-3\n",
    "<font size=\"4\">次の定理を証明せよ。</font>\n",
    " <font color=\"blue\"　size=\"4\"><br> Theorem and1 : (forall A  B: Prop, A /\\ B -> B).</font>\n",
    "\n",
    "#### [作業用ページで証明をしてみる](./1-logic-answer.ipynb#ex13) / [解答を見る](./1-logic-answer.ipynb#ans13) \n",
    "\n",
    "### ヒント\n",
    "- intros. で forall を削除し、`A /\\ B -> B` の前提部分の`A /\\ B`を仮説に移す。\n",
    "- 仮説中の`A /\\ B`を、destruct で分解する。\n",
    "- 仮説の一つがサブゴールに一致している。"
   ]
  },
  {
   "cell_type": "markdown",
   "metadata": {
    "coq_kernel_metadata": {
     "auto_roll_back": true
    }
   },
   "source": [
    "<a id=\"ex14\"></a>\n",
    "## 演習問題 1-4\n",
    "<font size=\"4\">次の定理を証明せよ。</font>\n",
    " <font color=\"blue\"　size=\"4\"><br> Theorem or1 : (forall A  B: Prop, A -> A \\\\/ B).</font>\n",
    "\n",
    "#### [作業用ページで証明をしてみる](./1-logic-answer.ipynb#ex14) / [解答を見る](../1-logic-answer.ipynb#ans14) \n",
    "\n",
    "### ヒント\n",
    "- intros. でforallを消す。\n",
    "- [left. でAを仮説に取り込む。](#hint-ex14)\n",
    "- サブゴールと仮説が一致している。"
   ]
  },
  {
   "cell_type": "markdown",
   "metadata": {
    "coq_kernel_metadata": {
     "auto_roll_back": true
    }
   },
   "source": [
    "<a id=\"ex15\"></a>\n",
    "## 演習問題 1-5\n",
    "<font size=\"4\">次の定理を証明せよ。</font>\n",
    " <font color=\"blue\"　size=\"4\"><br> Theorem or2 : (forall A  B: Prop, B -> A \\\\/ B).</font>\n",
    "\n",
    "#### [作業用ページで証明をしてみる](./1-logic-answer.ipynb#ex15) / [解答を見る](./1-logic-answer.ipynb#ans15) \n",
    "\n",
    "### ヒント\n",
    "- intros. でforallを消す。\n",
    "- [right. でBを仮説に取り込む。](#hint-ex15)\n",
    "- サブゴールと仮説が一致している。"
   ]
  },
  {
   "cell_type": "markdown",
   "metadata": {
    "coq_kernel_metadata": {
     "auto_roll_back": true
    }
   },
   "source": [
    "<a id=\"ex16\"></a>\n",
    "## 演習問題 1-6\n",
    "<font size=\"4\">次の定理を証明せよ。</font>\n",
    " <font color=\"blue\"　size=\"4\"><br> Theorem modus_ponens : (forall A  B: Prop, A -> (A -> B) ->B).</font>\n",
    "\n",
    "#### [作業用ページで証明をしてみる](./1-logic-answer.ipynb#ex16) / [解答を見る](./1-logic-answer.ipynb#ans16) \n",
    "### ヒント\n",
    "- intros. で先頭のforall を削除する。\n",
    "- 再び intros で、AとA -> Bを仮説に移す。\n",
    "- 仮説A -> Bを仮説（この場合はA）に適用して、サブゴールをBに変える。applyを使う。\n",
    "- 仮説とサブゴールが一致する。"
   ]
  },
  {
   "cell_type": "markdown",
   "metadata": {
    "coq_kernel_metadata": {
     "auto_roll_back": true
    }
   },
   "source": [
    "<a id=\"ex17\"></a>\n",
    "## 演習問題 1-7\n",
    "<font size=\"4\">次の定理を証明せよ。</font>\n",
    " <font color=\"blue\"　size=\"4\"><br> Theorem modus_ponens2 : (forall A  B C: Prop, A -> (A -> B) ->(B ->C) -> C).</font>\n",
    "\n",
    "#### [作業用ページで証明をしてみる](./1-logic-answer.ipynb#ex17) / [解答を見る](./1-logic-answer#ans17)\n",
    "\n",
    "### ヒント\n",
    "-[ intros でforallを削除する。](#hint-ex171)\n",
    "- [intros で、全ての -> の前提部分を仮説に移す。この時、適当なラベルをつけておくと分かりやすくなる。この例の場合なら、intros Proof_of_A A_implies_B B_implies_C とか。](#hint-ex172)\n",
    "- apply B_implies_C で、サブゴールをBに変える。\n",
    "- apply A_implies_B で、サブゴールをAに変える。\n",
    "- 仮説とサブゴールが一致している。"
   ]
  },
  {
   "cell_type": "markdown",
   "metadata": {
    "coq_kernel_metadata": {
     "auto_roll_back": true
    }
   },
   "source": [
    "<a id=\"ex18\"></a>\n",
    "## 演習問題 1-8\n",
    "<font size=\"4\">次の定理を証明せよ。</font>\n",
    " <font color=\"blue\"　size=\"4\"><br> Theorem and_comm : (forall A  B: Prop, A /\\ B -> B /\\ A ).</font>\n",
    "\n",
    "#### [作業用ページで証明をしてみる](./1-logic-answer.ipynb#ex18) / [解答を見る](./1-logic-answer.ipynb#ans18) \n",
    "\n",
    "### ヒント\n",
    "- intros で、forall を削除し、\"A /\\ B\" にH というラベルをつける 。\n",
    "- [\"H: A/\\ B\" を destruct で分解し、A, B を仮説に追加する。](#hint-ex18)　\n",
    "- [サブゴール \"A\\/ B\" を split で、二つのサブゴールに分割する。　](#hint-ex182)\n",
    "- 一つ目のサブゴールは仮説の一つと同じなので解ける。サブゴールは一つになる。\n",
    "- 残ったサブゴールも仮説の一つと一緒なので、解ける。\n",
    "- サブゴールは残っていないので証明終了。"
   ]
  },
  {
   "cell_type": "markdown",
   "metadata": {
    "coq_kernel_metadata": {
     "auto_roll_back": true
    }
   },
   "source": [
    "<a id=\"ex19\"></a>\n",
    "## 演習問題 1-9\n",
    "<font size=\"4\">次の定理を証明せよ。</font>\n",
    " <font color=\"blue\"　size=\"4\"><br> Theorem or_comm : (forall A B: Prop, A \\\\/ B -> B \\\\/ A ) .</font>\n",
    "\n",
    "#### [作業用ページで証明をしてみる](./1-logic-answer.ipynb#ex19) / [解答を見る](./1-logic-answer.ipynb#ans19) \n",
    "\n",
    "### ヒント\n",
    "-  intros で\"A \\/ B\" を仮定に移し、A_or_B というラベルをつける。\n",
    "-  A\\/B をdestructすると、Aが仮定に残り、サブゴールが二つに分割される。\n",
    "-  一つ目のサブゴールから、right でB\\/A の右の項Aをサブゴールに残す。 \n",
    "-  サブゴールと仮定が一致している。 サブゴールは一つになる。\n",
    "-  一つ目のサブゴールから、left でB\\/A の左の項Bをサブゴールに残す。 "
   ]
  },
  {
   "cell_type": "markdown",
   "metadata": {
    "coq_kernel_metadata": {
     "auto_roll_back": true
    }
   },
   "source": [
    "　　　　[全体目次](./0-Contents.ipynb) 　[この章の演習問題へ](./1-logic-answer.ipynb)　　[前の章へ](./0-Introduction.ipynb)　　[次の章へ](./2-Equality.ipynb)"
   ]
  }
 ],
 "metadata": {
  "kernelspec": {
   "display_name": "Coq",
   "language": "coq",
   "name": "coq"
  },
  "language_info": {
   "file_extension": ".v",
   "mimetype": "text/x-coq",
   "name": "coq",
   "version": "8.9.1"
  }
 },
 "nbformat": 4,
 "nbformat_minor": 2
}
