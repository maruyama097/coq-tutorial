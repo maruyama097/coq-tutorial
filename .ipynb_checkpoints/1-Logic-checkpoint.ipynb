{
 "cells": [
  {
   "cell_type": "markdown",
   "metadata": {
    "coq_kernel_metadata": {
     "auto_roll_back": true
    }
   },
   "source": [
    "<img src=\"./images/Logo1.png\"  width=\"800 px\" align=\"center\">"
   ]
  },
  {
   "cell_type": "markdown",
   "metadata": {
    "coq_kernel_metadata": {
     "auto_roll_back": true
    }
   },
   "source": [
    "# <font color=\"blue\"　size=\"7\">論理式の証明</font>"
   ]
  },
  {
   "cell_type": "markdown",
   "metadata": {
    "coq_kernel_metadata": {
     "auto_roll_back": true
    }
   },
   "source": [
    "# 論理式はどのような形をしているか？\n",
    "\n",
    "Coqが証明の対象とするのは、論理的に表現された命題=論理式です。\n",
    "この章では、基本的な命題から、基本的な論理記号を用いて構成された命題＝論理式の証明を扱います。\n",
    "\n",
    "## 基本的な論理記号と\u000b",
    "それから構成される命題の意味をまとめておきましょう。\n",
    "<img src=\"./images/logicalSymbol.png\"  width=\"500 px\" align=\"left\">"
   ]
  },
  {
   "cell_type": "markdown",
   "metadata": {
    "coq_kernel_metadata": {
     "auto_roll_back": true
    }
   },
   "source": [
    "## 命題の構成ルール -- Formation Rule\n",
    "\n",
    "複雑な論理式は、単純な論理式から次のようなルールで構成されます。\n",
    "\n",
    "自明だと思いますが、このルールの読み方を説明しましょう。それぞれのルールは「横棒」の上の部分と、「横棒」の下の部分に分かれています。この「横棒」は、「横棒」の上の部分の判断が正しいとき、「横棒」の下の部分の判断も正しいということを表しています。\n",
    "\n",
    "最初のルールは、「Aが命題であり」、<font color=\"blue\">かつ</font>、「Bも命題である」なら、「(A /\\ B)も命題である」ということを主張しています。横棒の右に書かれている<font color=\"green\">(/\\F)</font> という記号は、\"/\\ Formation Rule\"を省略したもので、この論理式の構成ルールが、論理記号\"/\\\"を用いた、論理式の構成ルールであることを示しています。\n",
    "\n",
    "以下も同様です。\n",
    "\n",
    "横棒の上にあるのが単純な論理式で、横棒の下にあるのが複雑な論理式です。このルールを繰り返し適用して、単純な論理式から複雑な論理式が構成されます。大事なことは、形の整った論理式は、すべてこのルールによって構成されたものだということです。"
   ]
  },
  {
   "cell_type": "markdown",
   "metadata": {
    "coq_kernel_metadata": {
     "auto_roll_back": true
    }
   },
   "source": [
    "<img src=\"./images/formation1.png\"  width=\"500 px\" align=\"left\">\n",
    "<img src=\"./images/formation2.png\"  width=\"500 px\" align=\"left\">"
   ]
  },
  {
   "cell_type": "markdown",
   "metadata": {
    "coq_kernel_metadata": {
     "auto_roll_back": true
    }
   },
   "source": [
    "<div class=\"alert alert-block alert-info\">\n",
    "    ルールの記述法とこのルールの内容には、特に難しいところはないと思います。<font color=\"blue\">論理学者は、「横棒」が好き</font>で、論理学の基本的なルールを、すべてこの「横棒」を通じて記述しようとします。少し後に、Coqが利用している「推論ルール」＝「演繹ルール」を、「横棒」を使って、簡単に説明しようと思います。\n",
    "</div>"
   ]
  },
  {
   "cell_type": "markdown",
   "metadata": {
    "coq_kernel_metadata": {
     "auto_roll_back": true
    }
   },
   "source": [
    "## 命題の分解ルール -- Sub Formulaへの分解\n",
    "\n",
    "今度は、論理式の構成とは逆のこと、複雑な論理式を単純な論理式に分解することを考えてみましょう。例えば、A\\/Bという論理式が与えられた時、それを論理式Aと論理式Bに分解するのです。こうして分解された論理式を、元の論理式の<font color=\"blue\">Sub Formula</font> と呼びます。\n",
    "\n",
    "論理式を、そのSub Formulaに分解するルールは、先の構成ルールから簡単に作れます。分解は構成の逆ですから、先の構成ルールの上下を逆にして、上段に 「〜は命題である」を置き、下段に、「〜は、上段の命題のSub Formula である」といった判断を置けばいいのです。\n",
    "\n",
    "## 証明のSub Goalと命題のSub Formula\n",
    "\n",
    "Coqでの証明は、複雑な問題を、簡単な部分問題（Coqでは、それを<font color=\"blue\">「サブゴール」</font>と呼んでいます）に分割して、そのサブゴールをすべて解くことで、元の問題を解くことを目指します。\n",
    "\n",
    "命題のSub Formulaとは、証明のサブゴールとは、全く違うものです。命題をSub Formulaに分解すると、元の命題の持っていた情報は、だんだん失われていきます。命題 A /\\ B を Sub Formulaに分解すると、命題Aと命題Bになりますが、そこには命題 A /\\ B という構成の形が持っていた情報は、もはやありません。命題 A \\/ B を Sub Formulaに分解しても、やはり、同じ命題Aと命題Bが得られます。分解の結果としての命題Aと命題Bをみているだけでは、それが、命題 A /\\ B に起源を持つものなのか、命題 A \\/ Bに起源を持つものなのか判断はできません。\n",
    "\n",
    "ただ、複雑なものを簡単なものにするという点では、証明のサブゴールと命題のSub Formura は似ているところがあります。実際、ある論理的命題の証明ができるなら、その証明には、元の命題とそのSub Formulaだけが使われるはずだと考えるのは、そんなに間違ってはいません。証明に Sub Formulaを使おうというのは、アイデアとしては悪くありません。"
   ]
  },
  {
   "cell_type": "markdown",
   "metadata": {
    "coq_kernel_metadata": {
     "auto_roll_back": true
    }
   },
   "source": [
    "# Coqが返す「証明の状態」が持つ情報\n",
    "\n",
    "実は、Coqは、論理式の証明の場合には、証明のSub Goalへの分割と命題のSub Formulaへの分解の二つを、同時に行います。\n",
    "\n",
    "そのことを見るためには、人間の指示に対してCoqが返す「証明の状態」に注目する必要があります。最初は、サブゴールだけに目が行きがちになるのですが、Coqが返す「証明の状態」は、二つの部分からなっています。一つは、「仮説（前提とかコンテキストと呼ばれることもあります）」部分で、もう一つが「サブゴール」です。\n",
    "\n",
    "## 「証明の状態」＝「仮説部分」＋「サブゴール」\n",
    "\n",
    "証明の状態は、人間とCoqとの対話を通じて、変化していきます。証明の状態とその変化がどんなものであろうと、我々の最終目標はサブゴールをなくすことなのですが、証明の戦略を考えるためにも、証明の状態を、すなわち「仮説部分」と「サブゴール」をきちんと確認する必要があります。\n",
    "\n",
    "サブゴールが、二つ以上に分岐する場合には、それらのサブゴールはすべて表示されますが、それぞれのサブゴールの仮説部分は、現在のサブゴールのそれを除いては表示されません。それは、人間が同時に二つ以上の証明を行うことができないからです。\n",
    "\n",
    "## 証明が進むと「仮説部分」も「サブゴール」もSub Formulaに置き換わります\n",
    "\n",
    "論理式の証明の場合には、証明の状態の変化には、一つの特徴があります。それは、証明が進むにつれて、仮説部分に含まれる式もサブゴールも、元の論理式のSub Formulaで置き換わってゆくことです。\n",
    "\n",
    "論理式のSub Formulaへの分解は、どんな複雑な論理式でも、有限回の手順で終わります。何度かtacticの投入を繰り返すうちに、Sub Formulaの分解が進んで、「証明の状態」を構成する式が単純になり、仮説部分にサブゴールと同じものが現れれば、そのサブゴールの証明は終わります。\n",
    "\n",
    "逆に、どんなtacticを選んでも、Sub Formulaへの分解が進まないときは、証明に失敗している可能性があります。"
   ]
  },
  {
   "cell_type": "markdown",
   "metadata": {
    "coq_kernel_metadata": {
     "auto_roll_back": true
    }
   },
   "source": [
    "# tacticの選択\n",
    "\n",
    "##  論理式の証明では、<font color=\"blue\">サブゴールの論理式の形</font>で、選択すべきtacticが、ほとんど自動的に決まります。\n",
    "\n",
    "「論理式の形」を判断するのには、その論理式が、この章の冒頭でみた論理式の構成ルールのどれを最後に使って構成されたかを基準にします。\n",
    "\n",
    "- ### サブゴールが、\"forall\" で構成された論理式の場合には、<font color=\"blue\">intros</font>を使う\n",
    "- ### サブゴールが、\"->\" で構成された論理式の場合には、<font color=\"blue\">intros</font>を使う\n",
    "- ### サブゴールが、\"/\\\" で構成された論理式の場合には、<font color=\"blue\">split</font>を使う\n",
    "- ### サブゴールが、\"\\/\" で構成された論理式の場合には、<font color=\"blue\">left</font>、または、<font color=\"blue\">right</font>を使う\n",
    "\n",
    "## <font color=\"blue\">仮説部の論理式の形</font>で、選択すべきtactic\n",
    "\n",
    "- ### 仮説部に、\"/\\\" で構成された論理式があれば、<font color=\"blue\">destruct</font>を使う"
   ]
  },
  {
   "cell_type": "markdown",
   "metadata": {
    "coq_kernel_metadata": {
     "auto_roll_back": true
    }
   },
   "source": [
    "# 論理式の証明で利用できるtacticsの働きを見る。"
   ]
  },
  {
   "cell_type": "markdown",
   "metadata": {
    "coq_kernel_metadata": {
     "auto_roll_back": true
    }
   },
   "source": [
    "## intros"
   ]
  },
  {
   "cell_type": "markdown",
   "metadata": {
    "coq_kernel_metadata": {
     "auto_roll_back": true
    }
   },
   "source": [
    "<a id=\"hint-ex161\"></a>\n",
    "<img src=\"./images/tac-intros1.png\"  width=\"600 px\" align=\"left\">"
   ]
  },
  {
   "cell_type": "markdown",
   "metadata": {
    "coq_kernel_metadata": {
     "auto_roll_back": true
    }
   },
   "source": [
    "<a id=\"hint-ex162\"></a>\n",
    "<img src=\"./images/tac-intros2.png\"  width=\"600 px\" align=\"left\">"
   ]
  },
  {
   "cell_type": "markdown",
   "metadata": {
    "coq_kernel_metadata": {
     "auto_roll_back": true
    }
   },
   "source": [
    "<a id=\"hint-ex17\"></a>\n",
    "<img src=\"./images/tac-intros3.png\"  width=\"600 px\" align=\"left\">"
   ]
  },
  {
   "cell_type": "markdown",
   "metadata": {
    "coq_kernel_metadata": {
     "auto_roll_back": true
    }
   },
   "source": [
    "<a id=\"hint-ex18\"></a>\n",
    "## destruct\n",
    "<img src=\"./images/tac-destruct1.png\"  width=\"600 px\" align=\"left\">"
   ]
  },
  {
   "cell_type": "markdown",
   "metadata": {
    "coq_kernel_metadata": {
     "auto_roll_back": true
    }
   },
   "source": [
    "<a id=\"hint-ex182\"></a>\n",
    "## split\n",
    "<img src=\"./images/tac-split.png\"  width=\"600 px\" align=\"left\">"
   ]
  },
  {
   "cell_type": "markdown",
   "metadata": {
    "coq_kernel_metadata": {
     "auto_roll_back": true
    }
   },
   "source": [
    "<a id=\"hint-ex14></a>\n",
    "## left\n",
    "<img src=\"./images/tac-left.png\"  width=\"600 px\" align=\"left\">"
   ]
  },
  {
   "cell_type": "markdown",
   "metadata": {
    "coq_kernel_metadata": {
     "auto_roll_back": true
    }
   },
   "source": [
    "## right\n",
    "<a id=\"hint-ex15></a>\n",
    "<img src=\"./images/tac-right.png\"  width=\"600 px\" align=\"left\">"
   ]
  },
  {
   "cell_type": "markdown",
   "metadata": {
    "coq_kernel_metadata": {
     "auto_roll_back": true
    }
   },
   "source": [
    "# tauto tactic"
   ]
  },
  {
   "cell_type": "code",
   "execution_count": 5,
   "metadata": {
    "coq_kernel_metadata": {
     "auto_roll_back": true,
     "cell_id": "68b694467f474d02917c0e8119278c2c",
     "execution_id": "a8d490b0582a4b988bef0a0bae9ac504"
    }
   },
   "outputs": [
    {
     "data": {
      "text/html": [
       "\n",
       "<div class=\"coq_kernel_output_area\">\n",
       "    <pre></pre>\n",
       "</div>\n",
       "\n",
       "<div class=\"coq_kernel_rich_cell_output coq_kernel_status_message_area\" style=\"padding: 5px 0px;\">\n",
       "    <i class=\"fa-check fa text-success\"></i>\n",
       "    <span>Cell evaluated.</span>\n",
       "</div>\n",
       "\n",
       "<div class=\"coq_kernel_rich_cell_output coq_kernel_status_message_area coq_kernel_rolled_back_status_message\" style=\"padding: 5px 0px; display: none;\">\n",
       "    <i class=\"fa-exclamation-circle fa text-info\"></i>\n",
       "    <span>Cell rolled back.</span>\n",
       "</div>\n",
       "\n",
       "<div class=\"coq_kernel_rich_cell_output coq_kernel_roll_back_controls_area\" style=\"display: none; position: relative;\">\n",
       "    <button class=\"btn btn-default btn-xs coq_kernel_roll_back_button\" onclick=\"CoqKernel.roll_back(this)\">\n",
       "        <i class=\"fa-step-backward fa\"></i>\n",
       "        <span class=\"toolbar-btn-label\">Rollback cell</span>\n",
       "    </button>\n",
       "\n",
       "    <div style=\"display: inline-block; vertical-align: middle; padding-left: 0; padding-right: 0;\">\n",
       "      <input class=\"coq_kernel_auto_roll_back_checkbox\" type=\"checkbox\" value=\"\" onchange=\"CoqKernel.toggle_auto_roll_back(this)\" checked>\n",
       "      <label\">Auto rollback</label>\n",
       "    </div>\n",
       "</div>\n"
      ],
      "text/plain": []
     },
     "execution_count": 9,
     "metadata": {
      "coq_kernel_evaluated": true,
      "coq_kernel_execution_id": "a8d490b0582a4b988bef0a0bae9ac504",
      "coq_kernel_rolled_back": false
     },
     "output_type": "execute_result"
    }
   ],
   "source": [
    "Theorem Hello_16 : forall A B : Prop, A-> (A->B)->B.\n",
    "Proof.\n",
    "  tauto.\n",
    "Qed."
   ]
  },
  {
   "cell_type": "code",
   "execution_count": 9,
   "metadata": {
    "coq_kernel_metadata": {
     "auto_roll_back": true,
     "cell_id": "d5fe5b6c713145788aef4e056be9d8c5",
     "execution_id": "2438b6b4c82d41b99931c56d298597cb"
    },
    "scrolled": true
   },
   "outputs": [
    {
     "data": {
      "text/html": [
       "\n",
       "<div class=\"coq_kernel_output_area\">\n",
       "    <pre></pre>\n",
       "</div>\n",
       "\n",
       "<div class=\"coq_kernel_rich_cell_output coq_kernel_status_message_area\" style=\"padding: 5px 0px;\">\n",
       "    <i class=\"fa-check fa text-success\"></i>\n",
       "    <span>Cell evaluated.</span>\n",
       "</div>\n",
       "\n",
       "<div class=\"coq_kernel_rich_cell_output coq_kernel_status_message_area coq_kernel_rolled_back_status_message\" style=\"padding: 5px 0px; display: none;\">\n",
       "    <i class=\"fa-exclamation-circle fa text-info\"></i>\n",
       "    <span>Cell rolled back.</span>\n",
       "</div>\n",
       "\n",
       "<div class=\"coq_kernel_rich_cell_output coq_kernel_roll_back_controls_area\" style=\"display: none; position: relative;\">\n",
       "    <button class=\"btn btn-default btn-xs coq_kernel_roll_back_button\" onclick=\"CoqKernel.roll_back(this)\">\n",
       "        <i class=\"fa-step-backward fa\"></i>\n",
       "        <span class=\"toolbar-btn-label\">Rollback cell</span>\n",
       "    </button>\n",
       "\n",
       "    <div style=\"display: inline-block; vertical-align: middle; padding-left: 0; padding-right: 0;\">\n",
       "      <input class=\"coq_kernel_auto_roll_back_checkbox\" type=\"checkbox\" value=\"\" onchange=\"CoqKernel.toggle_auto_roll_back(this)\" checked>\n",
       "      <label\">Auto rollback</label>\n",
       "    </div>\n",
       "</div>\n"
      ],
      "text/plain": []
     },
     "execution_count": 13,
     "metadata": {
      "coq_kernel_evaluated": true,
      "coq_kernel_execution_id": "2438b6b4c82d41b99931c56d298597cb",
      "coq_kernel_rolled_back": false
     },
     "output_type": "execute_result"
    }
   ],
   "source": [
    "Theorem Hello_17 : (forall A  B C: Prop, A -> (A -> B) ->(B ->C) -> C).\n",
    "Proof.\n",
    "  tauto.\n",
    "Qed."
   ]
  },
  {
   "cell_type": "code",
   "execution_count": 13,
   "metadata": {
    "coq_kernel_metadata": {
     "auto_roll_back": true,
     "cell_id": "66dda76a49ae4193a4879b74d2a97a06",
     "execution_id": "1e0be34e2d1d423b8997246c5a240452"
    },
    "scrolled": true
   },
   "outputs": [
    {
     "data": {
      "text/html": [
       "\n",
       "<div class=\"coq_kernel_output_area\">\n",
       "    <pre></pre>\n",
       "</div>\n",
       "\n",
       "<div class=\"coq_kernel_rich_cell_output coq_kernel_status_message_area\" style=\"padding: 5px 0px;\">\n",
       "    <i class=\"fa-check fa text-success\"></i>\n",
       "    <span>Cell evaluated.</span>\n",
       "</div>\n",
       "\n",
       "<div class=\"coq_kernel_rich_cell_output coq_kernel_status_message_area coq_kernel_rolled_back_status_message\" style=\"padding: 5px 0px; display: none;\">\n",
       "    <i class=\"fa-exclamation-circle fa text-info\"></i>\n",
       "    <span>Cell rolled back.</span>\n",
       "</div>\n",
       "\n",
       "<div class=\"coq_kernel_rich_cell_output coq_kernel_roll_back_controls_area\" style=\"display: none; position: relative;\">\n",
       "    <button class=\"btn btn-default btn-xs coq_kernel_roll_back_button\" onclick=\"CoqKernel.roll_back(this)\">\n",
       "        <i class=\"fa-step-backward fa\"></i>\n",
       "        <span class=\"toolbar-btn-label\">Rollback cell</span>\n",
       "    </button>\n",
       "\n",
       "    <div style=\"display: inline-block; vertical-align: middle; padding-left: 0; padding-right: 0;\">\n",
       "      <input class=\"coq_kernel_auto_roll_back_checkbox\" type=\"checkbox\" value=\"\" onchange=\"CoqKernel.toggle_auto_roll_back(this)\" checked>\n",
       "      <label\">Auto rollback</label>\n",
       "    </div>\n",
       "</div>\n"
      ],
      "text/plain": []
     },
     "execution_count": 17,
     "metadata": {
      "coq_kernel_evaluated": true,
      "coq_kernel_execution_id": "1e0be34e2d1d423b8997246c5a240452",
      "coq_kernel_rolled_back": false
     },
     "output_type": "execute_result"
    }
   ],
   "source": [
    "Theorem Hello_18 : (forall A  B: Prop, A /\\ B -> B /\\ A ).\n",
    "Proof.\n",
    "  tauto.\n",
    "Qed.  "
   ]
  },
  {
   "cell_type": "code",
   "execution_count": 17,
   "metadata": {
    "coq_kernel_metadata": {
     "auto_roll_back": true,
     "cell_id": "dcb6e2a008574929819095326dce1ea2",
     "execution_id": "7205ed4b75fa45518e13697659bb29e2"
    },
    "scrolled": true
   },
   "outputs": [
    {
     "data": {
      "text/html": [
       "\n",
       "<div class=\"coq_kernel_output_area\">\n",
       "    <pre></pre>\n",
       "</div>\n",
       "\n",
       "<div class=\"coq_kernel_rich_cell_output coq_kernel_status_message_area\" style=\"padding: 5px 0px;\">\n",
       "    <i class=\"fa-check fa text-success\"></i>\n",
       "    <span>Cell evaluated.</span>\n",
       "</div>\n",
       "\n",
       "<div class=\"coq_kernel_rich_cell_output coq_kernel_status_message_area coq_kernel_rolled_back_status_message\" style=\"padding: 5px 0px; display: none;\">\n",
       "    <i class=\"fa-exclamation-circle fa text-info\"></i>\n",
       "    <span>Cell rolled back.</span>\n",
       "</div>\n",
       "\n",
       "<div class=\"coq_kernel_rich_cell_output coq_kernel_roll_back_controls_area\" style=\"display: none; position: relative;\">\n",
       "    <button class=\"btn btn-default btn-xs coq_kernel_roll_back_button\" onclick=\"CoqKernel.roll_back(this)\">\n",
       "        <i class=\"fa-step-backward fa\"></i>\n",
       "        <span class=\"toolbar-btn-label\">Rollback cell</span>\n",
       "    </button>\n",
       "\n",
       "    <div style=\"display: inline-block; vertical-align: middle; padding-left: 0; padding-right: 0;\">\n",
       "      <input class=\"coq_kernel_auto_roll_back_checkbox\" type=\"checkbox\" value=\"\" onchange=\"CoqKernel.toggle_auto_roll_back(this)\" checked>\n",
       "      <label\">Auto rollback</label>\n",
       "    </div>\n",
       "</div>\n"
      ],
      "text/plain": []
     },
     "execution_count": 21,
     "metadata": {
      "coq_kernel_evaluated": true,
      "coq_kernel_execution_id": "7205ed4b75fa45518e13697659bb29e2",
      "coq_kernel_rolled_back": false
     },
     "output_type": "execute_result"
    }
   ],
   "source": [
    "Theorem Hello_19 : (forall A  B: Prop, A \\/ B -> B \\/ A ).\n",
    "Proof.\n",
    "  tauto.\n",
    "Qed."
   ]
  },
  {
   "cell_type": "code",
   "execution_count": 1,
   "metadata": {
    "coq_kernel_metadata": {
     "auto_roll_back": true,
     "cell_id": "91200117207343909571e8a585b236aa",
     "execution_id": "719c370802df46b68646e1042df8fa41"
    }
   },
   "outputs": [
    {
     "data": {
      "text/html": [
       "\n",
       "<div class=\"coq_kernel_output_area\">\n",
       "    <pre></pre>\n",
       "</div>\n",
       "\n",
       "<div class=\"coq_kernel_rich_cell_output coq_kernel_status_message_area\" style=\"padding: 5px 0px;\">\n",
       "    <i class=\"fa-check fa text-success\"></i>\n",
       "    <span>Cell evaluated.</span>\n",
       "</div>\n",
       "\n",
       "<div class=\"coq_kernel_rich_cell_output coq_kernel_status_message_area coq_kernel_rolled_back_status_message\" style=\"padding: 5px 0px; display: none;\">\n",
       "    <i class=\"fa-exclamation-circle fa text-info\"></i>\n",
       "    <span>Cell rolled back.</span>\n",
       "</div>\n",
       "\n",
       "<div class=\"coq_kernel_rich_cell_output coq_kernel_roll_back_controls_area\" style=\"display: none; position: relative;\">\n",
       "    <button class=\"btn btn-default btn-xs coq_kernel_roll_back_button\" onclick=\"CoqKernel.roll_back(this)\">\n",
       "        <i class=\"fa-step-backward fa\"></i>\n",
       "        <span class=\"toolbar-btn-label\">Rollback cell</span>\n",
       "    </button>\n",
       "\n",
       "    <div style=\"display: inline-block; vertical-align: middle; padding-left: 0; padding-right: 0;\">\n",
       "      <input class=\"coq_kernel_auto_roll_back_checkbox\" type=\"checkbox\" value=\"\" onchange=\"CoqKernel.toggle_auto_roll_back(this)\" checked>\n",
       "      <label\">Auto rollback</label>\n",
       "    </div>\n",
       "</div>\n"
      ],
      "text/plain": []
     },
     "execution_count": 5,
     "metadata": {
      "coq_kernel_evaluated": true,
      "coq_kernel_execution_id": "719c370802df46b68646e1042df8fa41",
      "coq_kernel_rolled_back": false
     },
     "output_type": "execute_result"
    }
   ],
   "source": [
    "Theorem Contraposition : forall A B : Prop, ( A -> B ) -> ( ~B -> ~A).\n",
    "Proof.\n",
    "  tauto.\n",
    "Qed."
   ]
  },
  {
   "cell_type": "code",
   "execution_count": 33,
   "metadata": {
    "coq_kernel_metadata": {
     "auto_roll_back": true
    }
   },
   "outputs": [
    {
     "data": {
      "text/html": [
       "\n",
       "<div class=\"coq_kernel_output_area\">\n",
       "    <pre></pre>\n",
       "</div>\n",
       "\n",
       "<div class=\"coq_kernel_rich_cell_output coq_kernel_status_message_area\" style=\"padding: 5px 0px;\">\n",
       "    <i class=\"fa-check fa text-success\"></i>\n",
       "    <span>Cell evaluated.</span>\n",
       "</div>\n",
       "\n",
       "<div class=\"coq_kernel_rich_cell_output coq_kernel_status_message_area coq_kernel_rolled_back_status_message\" style=\"padding: 5px 0px; display: none;\">\n",
       "    <i class=\"fa-exclamation-circle fa text-info\"></i>\n",
       "    <span>Cell rolled back.</span>\n",
       "</div>\n",
       "\n",
       "<div class=\"coq_kernel_rich_cell_output coq_kernel_roll_back_controls_area\" style=\"display: none; position: relative;\">\n",
       "    <button class=\"btn btn-default btn-xs coq_kernel_roll_back_button\" onclick=\"CoqKernel.roll_back(this)\">\n",
       "        <i class=\"fa-step-backward fa\"></i>\n",
       "        <span class=\"toolbar-btn-label\">Rollback cell</span>\n",
       "    </button>\n",
       "\n",
       "    <div style=\"display: inline-block; vertical-align: middle; padding-left: 0; padding-right: 0;\">\n",
       "      <input class=\"coq_kernel_auto_roll_back_checkbox\" type=\"checkbox\" value=\"\" onchange=\"CoqKernel.toggle_auto_roll_back(this)\" checked>\n",
       "      <label\">Auto rollback</label>\n",
       "    </div>\n",
       "</div>\n"
      ],
      "text/plain": []
     },
     "execution_count": 41,
     "metadata": {
      "coq_kernel_evaluated": true,
      "coq_kernel_execution_id": "c938034e5173458b9da1229d12643818",
      "coq_kernel_rolled_back": false
     },
     "output_type": "execute_result"
    }
   ],
   "source": [
    "Theorem Double_negation: forall A:Prop, A-> ~~A.\n",
    "Proof.\n",
    "  tauto.\n",
    "Qed."
   ]
  },
  {
   "cell_type": "code",
   "execution_count": 21,
   "metadata": {
    "coq_kernel_metadata": {
     "auto_roll_back": true
    }
   },
   "outputs": [
    {
     "data": {
      "text/html": [
       "\n",
       "<div class=\"coq_kernel_output_area\">\n",
       "    <pre></pre>\n",
       "</div>\n",
       "\n",
       "<div class=\"coq_kernel_rich_cell_output coq_kernel_status_message_area\" style=\"padding: 5px 0px;\">\n",
       "    <i class=\"fa-check fa text-success\"></i>\n",
       "    <span>Cell evaluated.</span>\n",
       "</div>\n",
       "\n",
       "<div class=\"coq_kernel_rich_cell_output coq_kernel_status_message_area coq_kernel_rolled_back_status_message\" style=\"padding: 5px 0px; display: none;\">\n",
       "    <i class=\"fa-exclamation-circle fa text-info\"></i>\n",
       "    <span>Cell rolled back.</span>\n",
       "</div>\n",
       "\n",
       "<div class=\"coq_kernel_rich_cell_output coq_kernel_roll_back_controls_area\" style=\"display: none; position: relative;\">\n",
       "    <button class=\"btn btn-default btn-xs coq_kernel_roll_back_button\" onclick=\"CoqKernel.roll_back(this)\">\n",
       "        <i class=\"fa-step-backward fa\"></i>\n",
       "        <span class=\"toolbar-btn-label\">Rollback cell</span>\n",
       "    </button>\n",
       "\n",
       "    <div style=\"display: inline-block; vertical-align: middle; padding-left: 0; padding-right: 0;\">\n",
       "      <input class=\"coq_kernel_auto_roll_back_checkbox\" type=\"checkbox\" value=\"\" onchange=\"CoqKernel.toggle_auto_roll_back(this)\" checked>\n",
       "      <label\">Auto rollback</label>\n",
       "    </div>\n",
       "</div>\n"
      ],
      "text/plain": []
     },
     "execution_count": 25,
     "metadata": {
      "coq_kernel_evaluated": true,
      "coq_kernel_execution_id": "db6334e96413424b8af93118f8aab3c1",
      "coq_kernel_rolled_back": false
     },
     "output_type": "execute_result"
    }
   ],
   "source": [
    "Theorem De_Morgan : forall A B : Prop, (A /\\ B) -> ~( ~A \\/ ~B ).\n",
    "Proof.\n",
    "  tauto.\n",
    "Qed."
   ]
  },
  {
   "cell_type": "code",
   "execution_count": 25,
   "metadata": {
    "coq_kernel_metadata": {
     "auto_roll_back": true
    }
   },
   "outputs": [
    {
     "data": {
      "text/html": [
       "\n",
       "<div class=\"coq_kernel_output_area\">\n",
       "    <pre></pre>\n",
       "</div>\n",
       "\n",
       "<div class=\"coq_kernel_rich_cell_output coq_kernel_status_message_area\" style=\"padding: 5px 0px;\">\n",
       "    <i class=\"fa-check fa text-success\"></i>\n",
       "    <span>Cell evaluated.</span>\n",
       "</div>\n",
       "\n",
       "<div class=\"coq_kernel_rich_cell_output coq_kernel_status_message_area coq_kernel_rolled_back_status_message\" style=\"padding: 5px 0px; display: none;\">\n",
       "    <i class=\"fa-exclamation-circle fa text-info\"></i>\n",
       "    <span>Cell rolled back.</span>\n",
       "</div>\n",
       "\n",
       "<div class=\"coq_kernel_rich_cell_output coq_kernel_roll_back_controls_area\" style=\"display: none; position: relative;\">\n",
       "    <button class=\"btn btn-default btn-xs coq_kernel_roll_back_button\" onclick=\"CoqKernel.roll_back(this)\">\n",
       "        <i class=\"fa-step-backward fa\"></i>\n",
       "        <span class=\"toolbar-btn-label\">Rollback cell</span>\n",
       "    </button>\n",
       "\n",
       "    <div style=\"display: inline-block; vertical-align: middle; padding-left: 0; padding-right: 0;\">\n",
       "      <input class=\"coq_kernel_auto_roll_back_checkbox\" type=\"checkbox\" value=\"\" onchange=\"CoqKernel.toggle_auto_roll_back(this)\" checked>\n",
       "      <label\">Auto rollback</label>\n",
       "    </div>\n",
       "</div>\n"
      ],
      "text/plain": []
     },
     "execution_count": 29,
     "metadata": {
      "coq_kernel_evaluated": true,
      "coq_kernel_execution_id": "e058b951fbbd464d857eee076a9debb2",
      "coq_kernel_rolled_back": false
     },
     "output_type": "execute_result"
    }
   ],
   "source": [
    "Theorem De_Morgan2 : forall A B : Prop, (A \\/ B) -> ~( ~A /\\ ~B ).\n",
    "Proof.\n",
    "  tauto.\n",
    "Qed."
   ]
  },
  {
   "cell_type": "code",
   "execution_count": 29,
   "metadata": {
    "coq_kernel_metadata": {
     "auto_roll_back": true
    }
   },
   "outputs": [
    {
     "data": {
      "text/html": [
       "\n",
       "<div class=\"coq_kernel_output_area\">\n",
       "    <pre></pre>\n",
       "</div>\n",
       "\n",
       "<div class=\"coq_kernel_rich_cell_output coq_kernel_status_message_area\" style=\"padding: 5px 0px;\">\n",
       "    <i class=\"fa-check fa text-success\"></i>\n",
       "    <span>Cell evaluated.</span>\n",
       "</div>\n",
       "\n",
       "<div class=\"coq_kernel_rich_cell_output coq_kernel_status_message_area coq_kernel_rolled_back_status_message\" style=\"padding: 5px 0px; display: none;\">\n",
       "    <i class=\"fa-exclamation-circle fa text-info\"></i>\n",
       "    <span>Cell rolled back.</span>\n",
       "</div>\n",
       "\n",
       "<div class=\"coq_kernel_rich_cell_output coq_kernel_roll_back_controls_area\" style=\"display: none; position: relative;\">\n",
       "    <button class=\"btn btn-default btn-xs coq_kernel_roll_back_button\" onclick=\"CoqKernel.roll_back(this)\">\n",
       "        <i class=\"fa-step-backward fa\"></i>\n",
       "        <span class=\"toolbar-btn-label\">Rollback cell</span>\n",
       "    </button>\n",
       "\n",
       "    <div style=\"display: inline-block; vertical-align: middle; padding-left: 0; padding-right: 0;\">\n",
       "      <input class=\"coq_kernel_auto_roll_back_checkbox\" type=\"checkbox\" value=\"\" onchange=\"CoqKernel.toggle_auto_roll_back(this)\" checked>\n",
       "      <label\">Auto rollback</label>\n",
       "    </div>\n",
       "</div>\n"
      ],
      "text/plain": []
     },
     "execution_count": 33,
     "metadata": {
      "coq_kernel_evaluated": true,
      "coq_kernel_execution_id": "57a80b3b320f408180e21ba671e4f03d",
      "coq_kernel_rolled_back": false
     },
     "output_type": "execute_result"
    }
   ],
   "source": [
    "Theorem De_Morgan3 : forall A B : Prop, ~(A \\/ B) -> ( ~A /\\ ~B ).\n",
    "Proof.\n",
    "  tauto.\n",
    "Qed."
   ]
  },
  {
   "cell_type": "markdown",
   "metadata": {
    "coq_kernel_metadata": {
     "auto_roll_back": true
    }
   },
   "source": [
    "## tauto で証明できない命題"
   ]
  },
  {
   "cell_type": "code",
   "execution_count": 87,
   "metadata": {
    "coq_kernel_metadata": {
     "auto_roll_back": true,
     "cell_id": "af41b48fa7894a908574865e2c1afb2d",
     "execution_id": "5bfb59ad14384d7a83f62c0d983048fc"
    }
   },
   "outputs": [
    {
     "data": {
      "text/html": [
       "\n",
       "<div class=\"coq_kernel_output_area\">\n",
       "    <pre>Error: In nested Ltac calls to \"tauto\", \"<Coq.Init.Tauto.with_uniform_flags>\",\n",
       "\"<tauto_plugin::with_uniform_flags@0>\",\n",
       "\"<tauto_plugin::with_uniform_flags@0>\", \"f\" (bound to\n",
       "fun flags => <Coq.Init.Tauto.tauto_gen> flags),\n",
       "\"<Coq.Init.Tauto.tauto_gen>\" and \"<Coq.Init.Tauto.tauto_classical>\", last\n",
       "call failed.\n",
       "Tactic failure: tauto failed.</pre>\n",
       "</div>\n",
       "\n",
       "<div class=\"coq_kernel_rich_cell_output coq_kernel_status_message_area\" style=\"padding: 5px 0px;\">\n",
       "    <i class=\"fa-times fa text-danger\"></i>\n",
       "    <span>Error while evaluating cell. Cell rolled back.</span>\n",
       "</div>\n"
      ],
      "text/plain": [
       "Error: In nested Ltac calls to \"tauto\", \"<Coq.Init.Tauto.with_uniform_flags>\",\n",
       "\"<tauto_plugin::with_uniform_flags@0>\",\n",
       "\"<tauto_plugin::with_uniform_flags@0>\", \"f\" (bound to\n",
       "fun flags => <Coq.Init.Tauto.tauto_gen> flags),\n",
       "\"<Coq.Init.Tauto.tauto_gen>\" and \"<Coq.Init.Tauto.tauto_classical>\", last\n",
       "call failed.\n",
       "Tactic failure: tauto failed."
      ]
     },
     "execution_count": 87,
     "metadata": {
      "coq_kernel_evaluated": false,
      "coq_kernel_execution_id": "5bfb59ad14384d7a83f62c0d983048fc",
      "coq_kernel_rolled_back": false
     },
     "output_type": "execute_result"
    }
   ],
   "source": [
    "Theorem Law_of_excluded_middle : forall A : Prop, A \\/ ~A .\n",
    "Proof.\n",
    "  tauto.\n",
    "Qed."
   ]
  },
  {
   "cell_type": "code",
   "execution_count": 41,
   "metadata": {
    "coq_kernel_metadata": {
     "auto_roll_back": true,
     "cell_id": "e6ce3d99df3a40e0884eb2f149218f02",
     "execution_id": "6a79385f7ca84443861958285fdd48eb"
    }
   },
   "outputs": [
    {
     "data": {
      "text/html": [
       "\n",
       "<div class=\"coq_kernel_output_area\">\n",
       "    <pre>Error: In nested Ltac calls to \"tauto\", \"<Coq.Init.Tauto.with_uniform_flags>\",\n",
       "\"<tauto_plugin::with_uniform_flags@0>\",\n",
       "\"<tauto_plugin::with_uniform_flags@0>\", \"f\" (bound to\n",
       "fun flags => <Coq.Init.Tauto.tauto_gen> flags),\n",
       "\"<Coq.Init.Tauto.tauto_gen>\" and \"<Coq.Init.Tauto.tauto_classical>\", last\n",
       "call failed.\n",
       "Tactic failure: tauto failed.</pre>\n",
       "</div>\n",
       "\n",
       "<div class=\"coq_kernel_rich_cell_output coq_kernel_status_message_area\" style=\"padding: 5px 0px;\">\n",
       "    <i class=\"fa-times fa text-danger\"></i>\n",
       "    <span>Error while evaluating cell. Cell rolled back.</span>\n",
       "</div>\n"
      ],
      "text/plain": [
       "Error: In nested Ltac calls to \"tauto\", \"<Coq.Init.Tauto.with_uniform_flags>\",\n",
       "\"<tauto_plugin::with_uniform_flags@0>\",\n",
       "\"<tauto_plugin::with_uniform_flags@0>\", \"f\" (bound to\n",
       "fun flags => <Coq.Init.Tauto.tauto_gen> flags),\n",
       "\"<Coq.Init.Tauto.tauto_gen>\" and \"<Coq.Init.Tauto.tauto_classical>\", last\n",
       "call failed.\n",
       "Tactic failure: tauto failed."
      ]
     },
     "execution_count": 41,
     "metadata": {
      "coq_kernel_evaluated": false,
      "coq_kernel_execution_id": "6a79385f7ca84443861958285fdd48eb",
      "coq_kernel_rolled_back": false
     },
     "output_type": "execute_result"
    }
   ],
   "source": [
    "Theorem Double_negation2: forall A:Prop, ~~A-> A.\n",
    "Proof.\n",
    "  tauto.\n",
    "Qed."
   ]
  },
  {
   "cell_type": "code",
   "execution_count": 33,
   "metadata": {
    "coq_kernel_metadata": {
     "auto_roll_back": true,
     "cell_id": "553d857203c846b886ca2ae55ca75b60",
     "execution_id": "423d61d261b74d759df061a444c16542"
    }
   },
   "outputs": [
    {
     "data": {
      "text/html": [
       "\n",
       "<div class=\"coq_kernel_output_area\">\n",
       "    <pre>Error: In nested Ltac calls to \"tauto\", \"<Coq.Init.Tauto.with_uniform_flags>\",\n",
       "\"<tauto_plugin::with_uniform_flags@0>\",\n",
       "\"<tauto_plugin::with_uniform_flags@0>\", \"f\" (bound to\n",
       "fun flags => <Coq.Init.Tauto.tauto_gen> flags),\n",
       "\"<Coq.Init.Tauto.tauto_gen>\" and \"<Coq.Init.Tauto.tauto_classical>\", last\n",
       "call failed.\n",
       "Tactic failure: tauto failed.</pre>\n",
       "</div>\n",
       "\n",
       "<div class=\"coq_kernel_rich_cell_output coq_kernel_status_message_area\" style=\"padding: 5px 0px;\">\n",
       "    <i class=\"fa-times fa text-danger\"></i>\n",
       "    <span>Error while evaluating cell. Cell rolled back.</span>\n",
       "</div>\n"
      ],
      "text/plain": [
       "Error: In nested Ltac calls to \"tauto\", \"<Coq.Init.Tauto.with_uniform_flags>\",\n",
       "\"<tauto_plugin::with_uniform_flags@0>\",\n",
       "\"<tauto_plugin::with_uniform_flags@0>\", \"f\" (bound to\n",
       "fun flags => <Coq.Init.Tauto.tauto_gen> flags),\n",
       "\"<Coq.Init.Tauto.tauto_gen>\" and \"<Coq.Init.Tauto.tauto_classical>\", last\n",
       "call failed.\n",
       "Tactic failure: tauto failed."
      ]
     },
     "execution_count": 33,
     "metadata": {
      "coq_kernel_evaluated": false,
      "coq_kernel_execution_id": "423d61d261b74d759df061a444c16542",
      "coq_kernel_rolled_back": false
     },
     "output_type": "execute_result"
    }
   ],
   "source": [
    "Theorem De_Morgan4 : forall A B : Prop, ~(A /\\ B) -> ( ~A \\/ ~B ).\n",
    "Proof.\n",
    "  tauto.\n",
    "Qed."
   ]
  },
  {
   "cell_type": "code",
   "execution_count": 87,
   "metadata": {
    "coq_kernel_metadata": {
     "auto_roll_back": true,
     "cell_id": "4459e0243f9342c58ce1a1e72fda30fe",
     "execution_id": "3dba7edaae9f46f68986ee0eed4c1d34"
    },
    "scrolled": true
   },
   "outputs": [
    {
     "data": {
      "text/html": [
       "\n",
       "<div class=\"coq_kernel_output_area\">\n",
       "    <pre>Error: In nested Ltac calls to \"tauto\", \"<Coq.Init.Tauto.with_uniform_flags>\",\n",
       "\"<tauto_plugin::with_uniform_flags@0>\",\n",
       "\"<tauto_plugin::with_uniform_flags@0>\", \"f\" (bound to\n",
       "fun flags => <Coq.Init.Tauto.tauto_gen> flags),\n",
       "\"<Coq.Init.Tauto.tauto_gen>\" and \"<Coq.Init.Tauto.tauto_classical>\", last\n",
       "call failed.\n",
       "Tactic failure: tauto failed.</pre>\n",
       "</div>\n",
       "\n",
       "<div class=\"coq_kernel_rich_cell_output coq_kernel_status_message_area\" style=\"padding: 5px 0px;\">\n",
       "    <i class=\"fa-times fa text-danger\"></i>\n",
       "    <span>Error while evaluating cell. Cell rolled back.</span>\n",
       "</div>\n"
      ],
      "text/plain": [
       "Error: In nested Ltac calls to \"tauto\", \"<Coq.Init.Tauto.with_uniform_flags>\",\n",
       "\"<tauto_plugin::with_uniform_flags@0>\",\n",
       "\"<tauto_plugin::with_uniform_flags@0>\", \"f\" (bound to\n",
       "fun flags => <Coq.Init.Tauto.tauto_gen> flags),\n",
       "\"<Coq.Init.Tauto.tauto_gen>\" and \"<Coq.Init.Tauto.tauto_classical>\", last\n",
       "call failed.\n",
       "Tactic failure: tauto failed."
      ]
     },
     "execution_count": 87,
     "metadata": {
      "coq_kernel_evaluated": false,
      "coq_kernel_execution_id": "3dba7edaae9f46f68986ee0eed4c1d34",
      "coq_kernel_rolled_back": false
     },
     "output_type": "execute_result"
    }
   ],
   "source": [
    "Theorem Pierce_Law : forall P Q :Prop, ((P -> Q) -> P) ->P.\n",
    "Proof.\n",
    " tauto.\n",
    "Qed."
   ]
  },
  {
   "cell_type": "markdown",
   "metadata": {
    "coq_kernel_metadata": {
     "auto_roll_back": true
    }
   },
   "source": [
    "# <font color=\"blue\" size=\"7\">演習問題 1</font>\n",
    "\n",
    "[演習問題 1-1](#ex11) [演習問題 1-2](#ex12) [演習問題 1-3](#ex13) [演習問題 1-4](#ex14) [演習問題 1-5](#ex15) [演習問題 1-6](#ex16) [演習問題 1-7](#ex17) [演習問題 1-8](#ex18) [演習問題 1-9](#ex19) "
   ]
  },
  {
   "cell_type": "markdown",
   "metadata": {
    "coq_kernel_metadata": {
     "auto_roll_back": true
    }
   },
   "source": [
    "<a id=\"ex11\"></a>\n",
    "## 演習問題 1-1 \n",
    "<font size=\"4\">次の定理を証明せよ。</font>\n",
    " <font color=\"blue\"　size=\"4\" ><br> Theorem my_first_proof : (forall A : Prop, A -> A).</font>\n",
    "\n",
    "#### [作業用ページで証明をしてみる](./1-logic-answer.ipynb#ex11) / [解答を見る](./1-logic-answer.ipynb#ans11) \n",
    "\n",
    "### ヒント\n",
    "- 冒頭の forall を intros で削除する。\n",
    "- A -> A の最初のAを intros で仮説に入れる。\n",
    "- そうすると、サブゴールが仮説の一つと一致していることがわかるので、assumption  または、exact  を使う。"
   ]
  },
  {
   "cell_type": "markdown",
   "metadata": {
    "collapsed": true,
    "coq_kernel_metadata": {
     "auto_roll_back": true
    }
   },
   "source": [
    "<a id=\"ex12\"></a>\n",
    "## 演習問題 1-2\n",
    "<font size=\"4\">次の定理を証明せよ。</font>\n",
    " <font color=\"blue\" size=\"4\"><br> Theorem and1 : (forall A  B: Prop, A /\\ B -> A).</font>\n",
    "\n",
    "#### [作業用ページで証明をしてみる](./1-logic-answer.ipynb#ex12) / [解答を見る](./1-logic-answer#ans12) \n",
    "\n",
    "### ヒント\n",
    "- intros. で forall を削除し、`A /\\ B -> A` の前提部分の`A /\\ B`を仮説に移す。\n",
    "- 仮説中の`A /\\ B`を、destruct で分解する。\n",
    "- 仮説の一つがサブゴールに一致している。"
   ]
  },
  {
   "cell_type": "markdown",
   "metadata": {
    "coq_kernel_metadata": {
     "auto_roll_back": true
    }
   },
   "source": [
    "<a id=\"ex13\"></a>\n",
    "## 演習問題 1-3\n",
    "<font size=\"4\">次の定理を証明せよ。</font>\n",
    " <font color=\"blue\"　size=\"4\"><br> Theorem and1 : (forall A  B: Prop, A /\\ B -> B).</font>\n",
    "\n",
    "#### [作業用ページで証明をしてみる](./1-logic-answer.ipynb#ex13) / [解答を見る](./1-logic-answer.ipynb#ans13) \n",
    "\n",
    "### ヒント\n",
    "- intros. で forall を削除し、`A /\\ B -> B` の前提部分の`A /\\ B`を仮説に移す。\n",
    "- 仮説中の`A /\\ B`を、destruct で分解する。\n",
    "- 仮説の一つがサブゴールに一致している。"
   ]
  },
  {
   "cell_type": "markdown",
   "metadata": {
    "coq_kernel_metadata": {
     "auto_roll_back": true
    }
   },
   "source": [
    "<a id=\"ex14\"></a>\n",
    "## 演習問題 1-4\n",
    "<font size=\"4\">次の定理を証明せよ。</font>\n",
    " <font color=\"blue\"　size=\"4\"><br> Theorem or1 : (forall A  B: Prop, A -> A \\\\/ B).</font>\n",
    "\n",
    "#### [作業用ページで証明をしてみる](./1-logic-answer.ipynb#ex14) / [解答を見る](../1-logic-answer.ipynb#ans14) \n",
    "\n",
    "### ヒント\n",
    "- intros. でforallを消す。\n",
    "- [left. でAを仮説に取り込む。](#hint-ex14)\n",
    "- サブゴールと仮説が一致している。"
   ]
  },
  {
   "cell_type": "markdown",
   "metadata": {
    "coq_kernel_metadata": {
     "auto_roll_back": true
    }
   },
   "source": [
    "<a id=\"ex15\"></a>\n",
    "## 演習問題 1-5\n",
    "<font size=\"4\">次の定理を証明せよ。</font>\n",
    " <font color=\"blue\"　size=\"4\"><br> Theorem or2 : (forall A  B: Prop, B -> A \\\\/ B).</font>\n",
    "\n",
    "#### [作業用ページで証明をしてみる](./1-logic-answer.ipynb#ex15) / [解答を見る](./1-logic-answer.ipynb#ans15) \n",
    "\n",
    "### ヒント\n",
    "- intros. でforallを消す。\n",
    "- [right. でBを仮説に取り込む。](#hint-ex15)\n",
    "- サブゴールと仮説が一致している。"
   ]
  },
  {
   "cell_type": "markdown",
   "metadata": {
    "coq_kernel_metadata": {
     "auto_roll_back": true
    }
   },
   "source": [
    "<a id=\"ex16\"></a>\n",
    "## 演習問題 1-6\n",
    "<font size=\"4\">次の定理を証明せよ。</font>\n",
    " <font color=\"blue\"　size=\"4\"><br> Theorem modus_ponens : (forall A  B: Prop, A -> (A -> B) ->B).</font>\n",
    "\n",
    "#### [作業用ページで証明をしてみる](./1-logic-answer.ipynb#ex16) / [解答を見る](./1-logic-answer.ipynb#ans16) \n",
    "### ヒント\n",
    "- intros. で先頭のforall を削除する。\n",
    "- 再び intros で、AとA -> Bを仮説に移す。\n",
    "- 仮説A -> Bを仮説（この場合はA）に適用して、サブゴールをBに変える。applyを使う。\n",
    "- 仮説とサブゴールが一致する。"
   ]
  },
  {
   "cell_type": "markdown",
   "metadata": {
    "coq_kernel_metadata": {
     "auto_roll_back": true
    }
   },
   "source": [
    "<a id=\"ex17\"></a>\n",
    "## 演習問題 1-7\n",
    "<font size=\"4\">次の定理を証明せよ。</font>\n",
    " <font color=\"blue\"　size=\"4\"><br> Theorem modus_ponens2 : (forall A  B C: Prop, A -> (A -> B) ->(B ->C) -> C).</font>\n",
    "\n",
    "#### [作業用ページで証明をしてみる](./1-logic-answer.ipynb#ex17) / [解答を見る](./1-logic-answer#ans17)\n",
    "\n",
    "### ヒント\n",
    "-[ intros でforallを削除する。](#hint-ex171)\n",
    "- [intros で、全ての -> の前提部分を仮説に移す。この時、適当なラベルをつけておくと分かりやすくなる。この例の場合なら、intros Proof_of_A A_implies_B B_implies_C とか。](#hint-ex172)\n",
    "- apply B_implies_C で、サブゴールをBに変える。\n",
    "- apply A_implies_B で、サブゴールをAに変える。\n",
    "- 仮説とサブゴールが一致している。"
   ]
  },
  {
   "cell_type": "markdown",
   "metadata": {
    "coq_kernel_metadata": {
     "auto_roll_back": true
    }
   },
   "source": [
    "<a id=\"ex18\"></a>\n",
    "## 演習問題 1-8\n",
    "<font size=\"4\">次の定理を証明せよ。</font>\n",
    " <font color=\"blue\"　size=\"4\"><br> Theorem and_comm : (forall A  B: Prop, A /\\ B -> B /\\ A ).</font>\n",
    "\n",
    "#### [作業用ページで証明をしてみる](./1-logic-answer.ipynb#ex18) / [解答を見る](./1-logic-answer.ipynb#ans18) \n",
    "\n",
    "### ヒント\n",
    "- intros で、forall を削除し、\"A /\\ B\" にH というラベルをつける 。\n",
    "- [\"H: A/\\ B\" を destruct で分解し、A, B を仮説に追加する。](#hint-ex18)　\n",
    "- [サブゴール \"A\\/ B\" を split で、二つのサブゴールに分割する。　](#hint-ex182)\n",
    "- 一つ目のサブゴールは仮説の一つと同じなので解ける。サブゴールは一つになる。\n",
    "- 残ったサブゴールも仮説の一つと一緒なので、解ける。\n",
    "- サブゴールは残っていないので証明終了。"
   ]
  },
  {
   "cell_type": "markdown",
   "metadata": {
    "coq_kernel_metadata": {
     "auto_roll_back": true
    }
   },
   "source": [
    "<a id=\"ex19\"></a>\n",
    "## 演習問題 1-9\n",
    "<font size=\"4\">次の定理を証明せよ。</font>\n",
    " <font color=\"blue\"　size=\"4\"><br> Theorem or_comm : (forall A B: Prop, A \\\\/ B -> B \\\\/ A ) .</font>\n",
    "\n",
    "#### [作業用ページで証明をしてみる](./1-logic-answer.ipynb#ex19) / [解答を見る](./1-logic-answer.ipynb#ans19) \n",
    "\n",
    "### ヒント\n",
    "-  intros で\"A \\/ B\" を仮定に移し、A_or_B というラベルをつける。\n",
    "-  A\\/B をdestructすると、Aが仮定に残り、サブゴールが二つに分割される。\n",
    "-  一つ目のサブゴールから、right でB\\/A の右の項Aをサブゴールに残す。 \n",
    "-  サブゴールと仮定が一致している。 サブゴールは一つになる。\n",
    "-  一つ目のサブゴールから、left でB\\/A の左の項Bをサブゴールに残す。 "
   ]
  }
 ],
 "metadata": {
  "kernelspec": {
   "display_name": "Coq",
   "language": "coq",
   "name": "coq"
  },
  "language_info": {
   "file_extension": ".v",
   "mimetype": "text/x-coq",
   "name": "coq",
   "version": "8.9.1"
  }
 },
 "nbformat": 4,
 "nbformat_minor": 2
}
