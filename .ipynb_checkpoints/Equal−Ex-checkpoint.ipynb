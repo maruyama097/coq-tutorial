{
 "cells": [
  {
   "cell_type": "markdown",
   "metadata": {
    "coq_kernel_metadata": {
     "auto_roll_back": true
    }
   },
   "source": [
    "# 等式の証明 演習問題"
   ]
  },
  {
   "cell_type": "markdown",
   "metadata": {
    "coq_kernel_metadata": {
     "auto_roll_back": true
    }
   },
   "source": [
    "## 演習問題 2-1\n",
    "　<font size=\"4\">次の定理を証明せよ。</font>\n",
    " <font color=\"blue\"　size=\"4\">Theorem plus_O_n : (forall n : nat , 0+n = n ).</font>\n",
    "<br>\n",
    "[作業用ページで証明をして見る](./samples/work/ex10.ipynb)　/ [ヒントを見る](./samples/hints/ex10.ipynb ) / [解答を見る](./samples/answers/ex10.ipynb)  "
   ]
  },
  {
   "cell_type": "markdown",
   "metadata": {
    "coq_kernel_metadata": {
     "auto_roll_back": true
    }
   },
   "source": [
    "## 演習問題 2-2\n",
    "　<font size=\"4\">次の定理を証明せよ。</font>\n",
    " <font color=\"blue\"　size=\"4\">Theorem plus_1_n : (forall n : nat , 1+n = S n ).</font>\n",
    "<br>\n",
    "[作業用ページで証明をして見る](./samples/work/ex11.ipynb)　/ [ヒントを見る](./samples/hints/ex11.ipynb ) / [解答を見る](./samples/answers/ex11.ipynb)  "
   ]
  },
  {
   "cell_type": "markdown",
   "metadata": {
    "coq_kernel_metadata": {
     "auto_roll_back": true
    }
   },
   "source": [
    "## 演習問題 2-3\n",
    "　<font size=\"4\">次の定理を証明せよ。</font>\n",
    " <font color=\"blue\"　size=\"4\">Theorem mult_0_n : (forall n : nat , 0 * n =  0 ).</font>\n",
    "<br>\n",
    "[作業用ページで証明をして見る](./samples/work/ex12.ipynb)　/ [ヒントを見る](./samples/hints/ex12.ipynb ) / [解答を見る](./samples/answers/ex12.ipynb) "
   ]
  },
  {
   "cell_type": "markdown",
   "metadata": {
    "coq_kernel_metadata": {
     "auto_roll_back": true
    }
   },
   "source": [
    "## 演習問題 2-4\n",
    "　<font size=\"4\">次の定理を証明せよ。</font>\n",
    " <font color=\"blue\"　size=\"4\">Theorem plus_id_nm : (forall n m : nat , n = m -> n+n = m + m ).</font>\n",
    "<br>\n",
    "[作業用ページで証明をして見る](./samples/work/ex13.ipynb)　/ [ヒントを見る](./samples/hints/ex13.ipynb ) / [解答を見る](./samples/answers/ex13.ipynb)  "
   ]
  },
  {
   "cell_type": "markdown",
   "metadata": {
    "coq_kernel_metadata": {
     "auto_roll_back": true
    }
   },
   "source": [
    "## 演習問題 2-5\n",
    "　<font size=\"4\">次の定理を証明せよ。</font>\n",
    "  <font color=\"blue\"　size=\"4\">Theorem plus_id : (forall n m o : nat , n = m -> m = o -> n + m = m + o ).</font>\n",
    "<br>\n",
    "[作業用ページで証明をして見る](./samples/work/ex14.ipynb)　/ [ヒントを見る](./samples/hints/ex14.ipynb ) / [解答を見る](./samples/answers/ex14.ipynb) "
   ]
  },
  {
   "cell_type": "markdown",
   "metadata": {
    "coq_kernel_metadata": {
     "auto_roll_back": true
    }
   },
   "source": [
    "## 演習問題 2-6\n",
    "　<font size=\"4\">次の定理を証明せよ。</font>\n",
    " <font color=\"blue\"　size=\"4\">Theorem mult_0_plus : (forall n m : nat , ( 0 + n ) \\* m =  n \\* m ).</font>\n",
    "<br>\n",
    "[作業用ページで証明をして見る](./samples/work/ex15.ipynb)　/ [ヒントを見る](./samples/hints/ex15.ipynb ) / [解答を見る](./samples/answers/ex15.ipynb)  "
   ]
  },
  {
   "cell_type": "markdown",
   "metadata": {
    "coq_kernel_metadata": {
     "auto_roll_back": true
    }
   },
   "source": [
    "## 演習問題 2-7\n",
    "　<font size=\"4\">次の定理を証明せよ。</font>\n",
    " <font color=\"blue\"　size=\"4\">Theorem mult_S_1 : (forall n m : nat, m = S n -> m \\* (1 + n) = m \\* m).</font>\n",
    "<br>\n",
    "[作業用ページで証明をして見る](./samples/work/ex16.ipynb)　/ [ヒントを見る](./samples/hints/ex16.ipynb ) / [解答を見る](./samples/answers/ex16.ipynb)  "
   ]
  }
 ],
 "metadata": {
  "kernelspec": {
   "display_name": "Coq",
   "language": "coq",
   "name": "coq"
  },
  "language_info": {
   "file_extension": ".v",
   "mimetype": "text/x-coq",
   "name": "coq",
   "version": "8.9.1"
  }
 },
 "nbformat": 4,
 "nbformat_minor": 2
}
