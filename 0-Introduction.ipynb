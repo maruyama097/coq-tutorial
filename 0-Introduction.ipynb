{
 "cells": [
  {
   "cell_type": "markdown",
   "metadata": {
    "coq_kernel_metadata": {
     "auto_roll_back": true
    }
   },
   "source": [
    "<img src=\"./images/Logo1.png\"  width=\"800 px\" align=\"center\">"
   ]
  },
  {
   "cell_type": "markdown",
   "metadata": {
    "coq_kernel_metadata": {
     "auto_roll_back": true
    }
   },
   "source": [
    "# <font color=\"blue\" size=\"7\" >Hello Coq !</font>"
   ]
  },
  {
   "cell_type": "markdown",
   "metadata": {
    "coq_kernel_metadata": {
     "auto_roll_back": true
    }
   },
   "source": [
    "# Coqとのはじめての対話\n",
    "\n",
    "Coqは、対話型の証明支援システムです。対話するのは人間と機械（Coq）です。\n",
    "\n",
    "人間と機械の対話でどのように証明が進んでいくかについては、おいおい説明するとして、ここではまず、Coqとのはじめての対話を経験して見ましょう。簡単な証明をしてみます。\n",
    "\n",
    "次の In [1]: で始まる空白の行に、次のブルーの文字列を<font color=\"red\" >入力して実行して</font>見てください。"
   ]
  },
  {
   "cell_type": "markdown",
   "metadata": {
    "coq_kernel_metadata": {
     "auto_roll_back": true
    }
   },
   "source": [
    "<div class=\"alert alert-block alert-info\">\n",
    "    <font color=\"black\" size=\"4\">ハンズオン環境 coq-jupyter -- </font><font color=\"red\" size=\"4\">入力の実行</font>\n",
    "<br><br>\n",
    "    今回のハンズオンで利用している環境は、jupyter notebookからCoqを呼び出せるようにした coq-jupyter というものです。操作法はjupyterと同じです。\n",
    " jupyterでは、操作の単位を<font color=\"black\">セル</font>と呼んでいます。 セルに入力したの字列を実行するには、セルにカーソルを合わせて、 画面上部の Runボタンを押します。\n",
    "    <div>\n",
    "    <img src=\"./images/Menu.png\" width=\"600\" height=\"100\" align=\"left\" >\n",
    "    </div>\n",
    "<br><br><br>\n",
    "\n",
    "Shift-RET（シフトキーを押しながらRETキーを押す）でも、セルの実行ができます。\n",
    "</div> \n",
    "\n",
    "最初に入力して実行するの、この文字列です。この文字列で一番大事なのは、冒頭の <font  color=\"green\" >\"Theorem\"</font> です。この文字列は、Coqに証明すべき式と、証明すべき式の名前を伝えています。こうした文字列を <font color=\"blue\">Coqコマンド</font>と呼ぶことにしましょう。"
   ]
  },
  {
   "cell_type": "markdown",
   "metadata": {
    "coq_kernel_metadata": {
     "auto_roll_back": true
    }
   },
   "source": [
    "<font color=\"blue\" size=\"5\">Theorem Hello_Coq : (forall A : Prop, A -> A ).</font>\n",
    "\n",
    "文字列の入力では、コロンやコンマやピリオド、\"->\"(マイナス記号'-'＋'>' )に注意してください。\n",
    "<img src=\"./images/format1.png\" width=\"500\" height=\"300\" align=\"left\" >"
   ]
  },
  {
   "cell_type": "code",
   "execution_count": null,
   "metadata": {
    "coq_kernel_metadata": {
     "auto_roll_back": true,
     "cell_id": "75796cb6d96e400d8cede6686ca9f6a1",
     "execution_id": "a4e06ef9b93e4d0d8237490a7eec840c"
    },
    "scrolled": true
   },
   "outputs": [],
   "source": []
  },
  {
   "cell_type": "markdown",
   "metadata": {
    "coq_kernel_metadata": {
     "auto_roll_back": true
    }
   },
   "source": [
    "入力がおわったら、先のセルを実行してみてください。Coqから次のような反応があるはずです。\n",
    "ここで初めてCoqに証明したい定理の情報を伝えました。Coqが返した情報の意味は、次のようなものです。\n",
    "\n",
    "<img src=\"./images/hello-coq1.png\" width=\"600\" height=\"400\"　align=\"left\" >\n",
    "\n",
    "<br><br><br><br><br><br>\n",
    "<br><br><br>\n",
    "<br><br><br><br><br><br>\n",
    "<br><br><br>\n",
    "\n",
    "\n",
    "今度は、次の文字列を入力して実行してください。（最後の、ピリオドを忘れずに）\n",
    "<br><br>\n",
    "<font color=\"blue\" size=\"5\">Proof.</font>\n",
    "<br>"
   ]
  },
  {
   "cell_type": "code",
   "execution_count": null,
   "metadata": {
    "coq_kernel_metadata": {
     "auto_roll_back": true,
     "cell_id": "7e7e62f5d32b40cb93e8ea76a5591c9f",
     "execution_id": "9B0735FF845E4B73820D47975CE978CF"
    },
    "scrolled": true
   },
   "outputs": [],
   "source": []
  },
  {
   "cell_type": "markdown",
   "metadata": {
    "coq_kernel_metadata": {
     "auto_roll_back": true
    }
   },
   "source": [
    "次のような反応がcoqからあるはずです。基本的には、先の反応と同じです。\n",
    "coqコマンドの \"Proof.\"は、これから証明が始まることを宣言しています。\n",
    "\n",
    "ここでは、先に説明していなかった下二行の説明をしています。これらの出力は、coq-jupyterからのものです。\n",
    "\"Cell evaluated\"がでていれば、証明は、順調に進んでいると思って構いません。\n",
    "\n",
    "\n",
    "<img src=\"./images/hello-coq2.png\" width=\"600\" height=\"400\" align=\"left\" >"
   ]
  },
  {
   "cell_type": "markdown",
   "metadata": {
    "coq_kernel_metadata": {
     "auto_roll_back": true
    }
   },
   "source": [
    "今度は、次の文字列を入力して実行してください。（最後の、ピリオドを忘れずに）\n",
    "<br><br>\n",
    "<font color=\"blue\" size=\"5\">intros.</font>\n",
    "<br>"
   ]
  },
  {
   "cell_type": "code",
   "execution_count": null,
   "metadata": {
    "coq_kernel_metadata": {
     "auto_roll_back": true,
     "cell_id": "866ca299429749af883b99c282b2e915",
     "execution_id": "DAD112078A37407E8EE32A0E3FF9DA77"
    },
    "scrolled": false
   },
   "outputs": [],
   "source": []
  },
  {
   "cell_type": "markdown",
   "metadata": {
    "coq_kernel_metadata": {
     "auto_roll_back": true
    }
   },
   "source": [
    "次のような反応があるはずです。その意味を説明しています。\n",
    "<img src=\"./images/hello-coq3.png\" width=\"600\" height=\"400\" align=\"left\" >"
   ]
  },
  {
   "cell_type": "markdown",
   "metadata": {
    "coq_kernel_metadata": {
     "auto_roll_back": true
    }
   },
   "source": [
    "今度は、次の文字列を入力して実行してください。（最後の、ピリオドを忘れずに）\n",
    "<br><br>\n",
    "<font color=\"blue\" size=\"5\">exact H.</font>\n",
    "<br>"
   ]
  },
  {
   "cell_type": "code",
   "execution_count": null,
   "metadata": {
    "coq_kernel_metadata": {
     "auto_roll_back": true
    }
   },
   "outputs": [],
   "source": []
  },
  {
   "cell_type": "markdown",
   "metadata": {
    "coq_kernel_metadata": {
     "auto_roll_back": true
    }
   },
   "source": [
    "次のような反応があるはずです。\n",
    "\n",
    "\n",
    "<img src=\"./images/hello-coq4.png\" width=\"600\" height=\"400\" align=\"left\" >"
   ]
  },
  {
   "cell_type": "markdown",
   "metadata": {
    "coq_kernel_metadata": {
     "auto_roll_back": true
    }
   },
   "source": [
    "今度は、次の文字列を入力して実行してください。（最後の、ピリオドを忘れずに）\n",
    "<br><br>\n",
    "<font color=\"blue\" size=\"5\">Qed..</font>\n",
    "<br>"
   ]
  },
  {
   "cell_type": "code",
   "execution_count": null,
   "metadata": {
    "coq_kernel_metadata": {
     "auto_roll_back": true,
     "cell_id": "c255965f35cb493c87a85766b3a07451",
     "execution_id": "5236AD7A7C9F41838CE5B3A9F37F2C4E"
    },
    "scrolled": true
   },
   "outputs": [],
   "source": []
  },
  {
   "cell_type": "markdown",
   "metadata": {
    "coq_kernel_metadata": {
     "auto_roll_back": true
    }
   },
   "source": [
    "次のような反応ががあるはずです。\n",
    "\n",
    "<img src=\"./images/hello-coq5.png\" width=\"600\" height=\"400\"  align=\"left\" >"
   ]
  },
  {
   "cell_type": "markdown",
   "metadata": {
    "coq_kernel_metadata": {
     "auto_roll_back": true
    }
   },
   "source": [
    "これで、定理 Hello_Coq の証明は、終了です。\n",
    "\n",
    "\n",
    "# Coqとのはじめての対話をふりかえる。\n",
    "\n",
    "Coqとのはじめての対話を、人間の側とCoqの側の、それぞれから振り返ってみましょう。\n",
    "\n",
    "## 人間は、Coqに何を伝えたか？\n",
    "\n",
    "人間が、Coqに伝えた一連の命令を抜き出してみましょう。次のようになります。"
   ]
  },
  {
   "cell_type": "code",
   "execution_count": 1,
   "metadata": {
    "coq_kernel_metadata": {
     "auto_roll_back": true,
     "cell_id": "3a62fb39cad047f3891c9583b0b8a195",
     "evaluated": true,
     "execution_id": "8d7f6301ca22491c8b211c1dea02679e",
     "rolled_back": false
    },
    "scrolled": true
   },
   "outputs": [
    {
     "data": {
      "text/html": [
       "\n",
       "<div class=\"coq_kernel_output_area\">\n",
       "    <pre></pre>\n",
       "</div>\n",
       "\n",
       "<div class=\"coq_kernel_rich_cell_output coq_kernel_status_message_area\" style=\"padding: 5px 0px;\">\n",
       "    <i class=\"fa-check fa text-success\"></i>\n",
       "    <span>Cell evaluated.</span>\n",
       "</div>\n",
       "\n",
       "<div class=\"coq_kernel_rich_cell_output coq_kernel_status_message_area coq_kernel_rolled_back_status_message\" style=\"padding: 5px 0px; display: none;\">\n",
       "    <i class=\"fa-exclamation-circle fa text-info\"></i>\n",
       "    <span>Cell rolled back.</span>\n",
       "</div>\n",
       "\n",
       "<div class=\"coq_kernel_rich_cell_output coq_kernel_roll_back_controls_area\" style=\"display: none; position: relative;\">\n",
       "    <button class=\"btn btn-default btn-xs coq_kernel_roll_back_button\" onclick=\"CoqKernel.roll_back(this)\">\n",
       "        <i class=\"fa-step-backward fa\"></i>\n",
       "        <span class=\"toolbar-btn-label\">Rollback cell</span>\n",
       "    </button>\n",
       "\n",
       "    <div style=\"display: inline-block; vertical-align: middle; padding-left: 0; padding-right: 0;\">\n",
       "      <input class=\"coq_kernel_auto_roll_back_checkbox\" type=\"checkbox\" value=\"\" onchange=\"CoqKernel.toggle_auto_roll_back(this)\" checked>\n",
       "      <label\">Auto rollback</label>\n",
       "    </div>\n",
       "</div>\n"
      ],
      "text/plain": []
     },
     "execution_count": 6,
     "metadata": {
      "coq_kernel_evaluated": true,
      "coq_kernel_execution_id": "8d7f6301ca22491c8b211c1dea02679e",
      "coq_kernel_rolled_back": false
     },
     "output_type": "execute_result"
    }
   ],
   "source": [
    "Theorem Hello_Coq' : (forall A : Prop, A -> A ).\n",
    "Proof.\n",
    "  intros.\n",
    "  exact H.\n",
    "Qed."
   ]
  },
  {
   "cell_type": "markdown",
   "metadata": {
    "coq_kernel_metadata": {
     "auto_roll_back": true
    }
   },
   "source": [
    "これだけ見ていると、これが定理Hello_Coq  (forall A : Prop, A -> A )の証明とは、とても思えないと思います。\n",
    "逆に、定理Hello_Coq が与えられた時、上のような証明をすぐに思いつくことは、ほとんどの人にはできないと思います。\n",
    "\n",
    "それには理由があります。Coqの証明は、人間とCoqの「対話」を通じて進行します。人間は、Coqの反応を見て、証明を進めるために次にCoqに何を命ずるかを考えます。そのやり取りの過程が省略されて、その結果だけを抜き出しても、その命令を選択した意図は見えてきません。\n",
    "\n",
    "### 証明を進めるために、人間がCoqに与える命令を <font color=\"red\">tactic</font> と呼びます。\n",
    "\n",
    "tactic というのは「戦略」という意味ですね。Coqの反応を見て、証明を進めるために、どのような攻め方をするのかと考えて出てきた結論が、あるtacticを選択するということです。なぜ、あるtactic が選ばれたかは、tacticの選択の直前のCoqの反応を見てみないとわかりません。この例では、introsやexact H がtacticです。\n",
    "\n",
    "一方、人間の入力のうち、Theorem や Proof やQed は、証明の進め方やCoqの反応とは直接は関係がありません。これらは、tactics とは別のグループのCoqの命令群に族します。これらのCoqコマンドは、大文字で始まっています。tactics は小文字から始まりますので、区別は容易です。\n",
    "\n",
    "### 完成した証明を、「対話」なしに、人間はCoqに与えることができます。\n",
    "\n",
    "では、ある証明が正しいことを示すために、人間は、Coqとの「対話」を毎回繰り返す必要があるのでしょうか？　そうでは、ありません。先のセルを実行してみてください。\"Cell evaluated.\"が出て、証明がすぐに終わることが確認できます。\n",
    "\n",
    "人間とCoqが「対話」していったん完成した証明は、人間はtactic ごとのCoqの反応を見ることなく、それを丸ごとCoqに与えることで証明を実行することができます。これは、証明の完成のためにCoqと「対話」した相手が誰であろうと構わないという点で、実践的には、とても重要なことです。我々は、第三者の行なった証明を、利用することができるのです。ただし、これは、人間はとCoqとの「対話」を通じて証明を作っていく過程とは区別されるべき、<font color=\"blue\">「証明の検証」</font> ともいうべきものです。\n",
    "\n",
    "上のセルのことを、「これだけ見ていると、これが定理Hello_Coq  (forall A : Prop, A -> A )の証明とは、とても思えない」と、先ほど書きましたが、それは人間にとってのこと。Coqは、これを正しく証明として認識し、それが正しい証明かチェックできます。\n",
    "<img src=\"./images/two-proccess.png\" width=\"700\" height=\"400\"  align=\"left\" >\n",
    "\n",
    "\n",
    "\n"
   ]
  },
  {
   "cell_type": "markdown",
   "metadata": {
    "coq_kernel_metadata": {
     "auto_roll_back": true
    }
   },
   "source": [
    "<div class=\"alert alert-block alert-info\">\n",
    " 先に実行したセルの中では、定理の名前が、元のHello_CoqからHello_Coq'に変更されています（最後にダッシュ＝プライムが追加されている）それは、元の名前の定理が、このページの演習の中で、すでに「証明済」になっていて、再度の証明の実行が開始できないからです。\n",
    " </div>\n",
    "\n",
    "## Coqは、反応として人間に何を伝えたか？\n",
    "\n",
    "ここでは、先の例での人間が intros と打ち込んだ時のCoqの反応を、改めて、見ることにしましょう。\n",
    "ここでは、次のような情報が含まれていることがわかります。\n",
    "\n",
    "- 証明中の定理の名前\n",
    "- 証明すべきサブゴールの数\n",
    "- 証明の状態についての情報\n",
    "  - この情報は、横線の上下で大きく二つに分かれています。\n",
    "  - サブゴールを証明するにあたって前提とされる仮説部分\n",
    "  - 証明されるべきサブゴール\n",
    "  \n",
    " <img src=\"./images/coq-response.png\" width=\"700\" height=\"400\"  align=\"left\" >\n"
   ]
  },
  {
   "cell_type": "code",
   "execution_count": null,
   "metadata": {
    "coq_kernel_metadata": {
     "auto_roll_back": true
    }
   },
   "outputs": [],
   "source": []
  }
 ],
 "metadata": {
  "kernelspec": {
   "display_name": "Coq",
   "language": "coq",
   "name": "coq"
  },
  "language_info": {
   "file_extension": ".v",
   "mimetype": "text/x-coq",
   "name": "coq",
   "version": "8.9.1"
  }
 },
 "nbformat": 4,
 "nbformat_minor": 2
}
