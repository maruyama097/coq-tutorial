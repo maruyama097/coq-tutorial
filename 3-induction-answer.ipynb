{
 "cells": [
  {
   "cell_type": "markdown",
   "metadata": {
    "coq_kernel_metadata": {
     "auto_roll_back": true
    }
   },
   "source": [
    "# 演習問題 3　作業用ページ\n",
    "\n",
    "[演習問題 3-1](#ex11) [演習問題 3-2](#ex12) [演習問題 3-3](#ex13) [演習問題 3-4](#ex14) [演習問題 3-5](#ex15) [演習問題 3-6](#ex16) [演習問題 3-7](#ex17) [演習問題 3-8]( #ex18) "
   ]
  },
  {
   "cell_type": "markdown",
   "metadata": {
    "coq_kernel_metadata": {
     "auto_roll_back": true
    }
   },
   "source": [
    "<a id=\"ex31\"></a>\n",
    "## 演習問題 3-1  作業用\n",
    "　<font size=\"4\">次の定理を証明せよ。</font>\n",
    " <font color=\"blue\"　size=\"4\"><br>　Theorem plus_n_O : (forall n : nat, n + 0 = n).</font>\n",
    "\n",
    "### 下記の証明を完成させよ。\n",
    "#### [ヒント: 解答のコメントを読む](#hint31) /  [解答を見る](#ans31) "
   ]
  },
  {
   "cell_type": "code",
   "execution_count": null,
   "metadata": {
    "coq_kernel_metadata": {
     "auto_roll_back": true,
     "cell_id": "781144f5ad93418c8885b2a0c4f11d79",
     "execution_id": "c465d2faa3e34683a7d4ed47a1a56ff2"
    }
   },
   "outputs": [],
   "source": [
    "Theorem plus_n_O : (forall n : nat, n + 0 = n).\n",
    "Proof."
   ]
  },
  {
   "cell_type": "code",
   "execution_count": null,
   "metadata": {
    "coq_kernel_metadata": {
     "auto_roll_back": true
    }
   },
   "outputs": [],
   "source": []
  },
  {
   "cell_type": "code",
   "execution_count": null,
   "metadata": {
    "coq_kernel_metadata": {
     "auto_roll_back": true
    }
   },
   "outputs": [],
   "source": []
  },
  {
   "cell_type": "code",
   "execution_count": null,
   "metadata": {
    "coq_kernel_metadata": {
     "auto_roll_back": true
    }
   },
   "outputs": [],
   "source": []
  },
  {
   "cell_type": "code",
   "execution_count": null,
   "metadata": {
    "coq_kernel_metadata": {
     "auto_roll_back": true
    }
   },
   "outputs": [],
   "source": []
  },
  {
   "cell_type": "code",
   "execution_count": null,
   "metadata": {
    "coq_kernel_metadata": {
     "auto_roll_back": true
    }
   },
   "outputs": [],
   "source": []
  },
  {
   "cell_type": "code",
   "execution_count": null,
   "metadata": {
    "coq_kernel_metadata": {
     "auto_roll_back": true
    }
   },
   "outputs": [],
   "source": []
  },
  {
   "cell_type": "code",
   "execution_count": null,
   "metadata": {
    "coq_kernel_metadata": {
     "auto_roll_back": true
    }
   },
   "outputs": [],
   "source": []
  },
  {
   "cell_type": "code",
   "execution_count": null,
   "metadata": {
    "coq_kernel_metadata": {
     "auto_roll_back": true
    }
   },
   "outputs": [],
   "source": []
  },
  {
   "cell_type": "code",
   "execution_count": null,
   "metadata": {
    "coq_kernel_metadata": {
     "auto_roll_back": true,
     "cell_id": "34e4a46dd9b047c0832c2ce8d50c503a",
     "execution_id": "6b08a8bdfc82404b8aa5028ef02d472b"
    }
   },
   "outputs": [],
   "source": [
    "Admitted. (* 最後にここを Qed. に変える。*)"
   ]
  },
  {
   "cell_type": "markdown",
   "metadata": {
    "coq_kernel_metadata": {
     "auto_roll_back": true
    }
   },
   "source": [
    "<a id=\"ex32\"></a>\n",
    "## 演習問題 3-2  作業用\n",
    "　<font size=\"4\">次の定理を証明せよ。</font>\n",
    " <font color=\"blue\"　size=\"4\"><br>　Theorem minus_diag : (forall n : nat, minus n n = 0).</font>\n",
    "\n",
    "### 下記の証明を完成させよ。\n",
    "#### [ヒント: 解答のコメントを読む](#hint32) /  [解答を見る](#ans32) "
   ]
  },
  {
   "cell_type": "code",
   "execution_count": null,
   "metadata": {
    "coq_kernel_metadata": {
     "auto_roll_back": true,
     "cell_id": "98e4d423caa44a4998c0dc2b34418923",
     "execution_id": "792fa462b23c44beae8e985a65e5e36d"
    }
   },
   "outputs": [],
   "source": [
    "Theorem minus_diag : (forall n : nat, minus n n = 0).\n",
    "Proof."
   ]
  },
  {
   "cell_type": "code",
   "execution_count": null,
   "metadata": {
    "coq_kernel_metadata": {
     "auto_roll_back": true
    }
   },
   "outputs": [],
   "source": []
  },
  {
   "cell_type": "code",
   "execution_count": null,
   "metadata": {
    "coq_kernel_metadata": {
     "auto_roll_back": true
    }
   },
   "outputs": [],
   "source": []
  },
  {
   "cell_type": "code",
   "execution_count": null,
   "metadata": {
    "coq_kernel_metadata": {
     "auto_roll_back": true
    }
   },
   "outputs": [],
   "source": []
  },
  {
   "cell_type": "code",
   "execution_count": null,
   "metadata": {
    "coq_kernel_metadata": {
     "auto_roll_back": true
    }
   },
   "outputs": [],
   "source": []
  },
  {
   "cell_type": "code",
   "execution_count": null,
   "metadata": {
    "coq_kernel_metadata": {
     "auto_roll_back": true
    }
   },
   "outputs": [],
   "source": []
  },
  {
   "cell_type": "code",
   "execution_count": null,
   "metadata": {
    "coq_kernel_metadata": {
     "auto_roll_back": true
    }
   },
   "outputs": [],
   "source": []
  },
  {
   "cell_type": "code",
   "execution_count": null,
   "metadata": {
    "coq_kernel_metadata": {
     "auto_roll_back": true
    }
   },
   "outputs": [],
   "source": []
  },
  {
   "cell_type": "code",
   "execution_count": null,
   "metadata": {
    "coq_kernel_metadata": {
     "auto_roll_back": true
    }
   },
   "outputs": [],
   "source": []
  },
  {
   "cell_type": "code",
   "execution_count": null,
   "metadata": {
    "coq_kernel_metadata": {
     "auto_roll_back": true,
     "cell_id": "cdfba124fe6546bca250f850ed3f50f6",
     "execution_id": "f54593143e2342e38d32714608065f66"
    }
   },
   "outputs": [],
   "source": [
    "Admitted. (* 最後にここを Qed. に変える。*)"
   ]
  },
  {
   "cell_type": "markdown",
   "metadata": {
    "coq_kernel_metadata": {
     "auto_roll_back": true
    }
   },
   "source": [
    "<a id=\"ex33\"></a>\n",
    "## 演習問題 3-3  作業用\n",
    "　<font size=\"4\">次の定理を証明せよ。</font>\n",
    " <font color=\"blue\"　size=\"4\"><br>　Theorem mult_0_r : (forall n : nat,  n * 0 = 0).</font>\n",
    "\n",
    "### 下記の証明を完成させよ。\n",
    "#### [ヒント: 解答のコメントを読む](#hint33) /  [解答を見る](#ans33) "
   ]
  },
  {
   "cell_type": "code",
   "execution_count": null,
   "metadata": {
    "coq_kernel_metadata": {
     "auto_roll_back": true,
     "cell_id": "c596cb70381e4fd7bae01940236a59de",
     "execution_id": "cd3c652740ff4382ab52d9dac8f7de65"
    }
   },
   "outputs": [],
   "source": [
    "Theorem mult_0_r : (forall n : nat,  n * 0 = 0).\n",
    "Proof."
   ]
  },
  {
   "cell_type": "code",
   "execution_count": null,
   "metadata": {
    "coq_kernel_metadata": {
     "auto_roll_back": true
    }
   },
   "outputs": [],
   "source": []
  },
  {
   "cell_type": "code",
   "execution_count": null,
   "metadata": {
    "coq_kernel_metadata": {
     "auto_roll_back": true
    }
   },
   "outputs": [],
   "source": []
  },
  {
   "cell_type": "code",
   "execution_count": null,
   "metadata": {
    "coq_kernel_metadata": {
     "auto_roll_back": true
    }
   },
   "outputs": [],
   "source": []
  },
  {
   "cell_type": "code",
   "execution_count": null,
   "metadata": {
    "coq_kernel_metadata": {
     "auto_roll_back": true
    }
   },
   "outputs": [],
   "source": []
  },
  {
   "cell_type": "code",
   "execution_count": null,
   "metadata": {
    "coq_kernel_metadata": {
     "auto_roll_back": true
    }
   },
   "outputs": [],
   "source": []
  },
  {
   "cell_type": "code",
   "execution_count": null,
   "metadata": {
    "coq_kernel_metadata": {
     "auto_roll_back": true
    }
   },
   "outputs": [],
   "source": []
  },
  {
   "cell_type": "code",
   "execution_count": null,
   "metadata": {
    "coq_kernel_metadata": {
     "auto_roll_back": true
    }
   },
   "outputs": [],
   "source": []
  },
  {
   "cell_type": "code",
   "execution_count": null,
   "metadata": {
    "coq_kernel_metadata": {
     "auto_roll_back": true
    }
   },
   "outputs": [],
   "source": []
  },
  {
   "cell_type": "code",
   "execution_count": null,
   "metadata": {
    "coq_kernel_metadata": {
     "auto_roll_back": true
    }
   },
   "outputs": [],
   "source": []
  },
  {
   "cell_type": "code",
   "execution_count": null,
   "metadata": {
    "coq_kernel_metadata": {
     "auto_roll_back": true
    }
   },
   "outputs": [],
   "source": []
  },
  {
   "cell_type": "code",
   "execution_count": null,
   "metadata": {
    "coq_kernel_metadata": {
     "auto_roll_back": true,
     "cell_id": "37a0756d7e20419098403e832efdd0e2",
     "execution_id": "a4c1b4e6bac243e39a109bc6b38b03ae"
    }
   },
   "outputs": [],
   "source": [
    "Admitted. (* 最後にここを Qed. に変える。*)"
   ]
  },
  {
   "cell_type": "markdown",
   "metadata": {
    "coq_kernel_metadata": {
     "auto_roll_back": true
    }
   },
   "source": [
    "<a id=\"ex34\"></a>\n",
    "## 演習問題 3-4  作業用\n",
    "　<font size=\"4\">次の定理を証明せよ。</font>\n",
    " <font color=\"blue\"　size=\"4\"><br>　Theorem plus_n_Sm : (forall n m : nat, S (n + m) = n + (S m) ).</font>\n",
    "\n",
    "### 下記の証明を完成させよ。\n",
    "#### [ヒント: 解答のコメントを読む](#hint34) /  [解答を見る](#ans34) "
   ]
  },
  {
   "cell_type": "code",
   "execution_count": null,
   "metadata": {
    "coq_kernel_metadata": {
     "auto_roll_back": true,
     "cell_id": "67c2c644c7b848a58a881115974a6839",
     "execution_id": "af73017ed87644d18e581513c20c03c0"
    }
   },
   "outputs": [],
   "source": [
    "Theorem plus_n_Sm : (forall n m : nat, S (n + m) = n + (S m) ).\n",
    "Proof."
   ]
  },
  {
   "cell_type": "code",
   "execution_count": null,
   "metadata": {
    "coq_kernel_metadata": {
     "auto_roll_back": true
    }
   },
   "outputs": [],
   "source": []
  },
  {
   "cell_type": "code",
   "execution_count": null,
   "metadata": {
    "coq_kernel_metadata": {
     "auto_roll_back": true
    }
   },
   "outputs": [],
   "source": []
  },
  {
   "cell_type": "code",
   "execution_count": null,
   "metadata": {
    "coq_kernel_metadata": {
     "auto_roll_back": true
    }
   },
   "outputs": [],
   "source": []
  },
  {
   "cell_type": "code",
   "execution_count": null,
   "metadata": {
    "coq_kernel_metadata": {
     "auto_roll_back": true
    }
   },
   "outputs": [],
   "source": []
  },
  {
   "cell_type": "code",
   "execution_count": null,
   "metadata": {
    "coq_kernel_metadata": {
     "auto_roll_back": true
    }
   },
   "outputs": [],
   "source": []
  },
  {
   "cell_type": "code",
   "execution_count": null,
   "metadata": {
    "coq_kernel_metadata": {
     "auto_roll_back": true
    }
   },
   "outputs": [],
   "source": []
  },
  {
   "cell_type": "code",
   "execution_count": null,
   "metadata": {
    "coq_kernel_metadata": {
     "auto_roll_back": true
    }
   },
   "outputs": [],
   "source": []
  },
  {
   "cell_type": "code",
   "execution_count": null,
   "metadata": {
    "coq_kernel_metadata": {
     "auto_roll_back": true,
     "cell_id": "a9afc45160eb4ee28c177ebb4da2a49d",
     "execution_id": "027b0bea94074eff894a69fa03fdabc2"
    }
   },
   "outputs": [],
   "source": [
    "Admitted. (* 最後にここを Qed. に変える。*)"
   ]
  },
  {
   "cell_type": "markdown",
   "metadata": {
    "coq_kernel_metadata": {
     "auto_roll_back": true
    }
   },
   "source": [
    "<a id=\"ex35\"></a>\n",
    "## 演習問題 3-5  作業用\n",
    "　<font size=\"4\">次の定理を証明せよ。</font>\n",
    " <font color=\"blue\"　size=\"4\"><br>　Theorem plus_comm : (forall n m : nat, n + m = m + n ).</font>\n",
    "\n",
    "### 下記の証明を完成させよ。\n",
    "#### [ヒント: 解答のコメントを読む](#hint35) /  [解答を見る](#ans35) "
   ]
  },
  {
   "cell_type": "code",
   "execution_count": null,
   "metadata": {
    "coq_kernel_metadata": {
     "auto_roll_back": true,
     "cell_id": "cae298c4492a4549895f400490d46f93",
     "execution_id": "5db011830eeb4d81bf9fb30c2d9c59e2"
    }
   },
   "outputs": [],
   "source": [
    "Theorem plus_comm : (forall n m : nat, n + m = m + n ).\n",
    "Proof."
   ]
  },
  {
   "cell_type": "code",
   "execution_count": null,
   "metadata": {
    "coq_kernel_metadata": {
     "auto_roll_back": true
    }
   },
   "outputs": [],
   "source": []
  },
  {
   "cell_type": "code",
   "execution_count": null,
   "metadata": {
    "coq_kernel_metadata": {
     "auto_roll_back": true
    }
   },
   "outputs": [],
   "source": []
  },
  {
   "cell_type": "code",
   "execution_count": null,
   "metadata": {
    "coq_kernel_metadata": {
     "auto_roll_back": true
    }
   },
   "outputs": [],
   "source": []
  },
  {
   "cell_type": "code",
   "execution_count": null,
   "metadata": {
    "coq_kernel_metadata": {
     "auto_roll_back": true
    }
   },
   "outputs": [],
   "source": []
  },
  {
   "cell_type": "code",
   "execution_count": null,
   "metadata": {
    "coq_kernel_metadata": {
     "auto_roll_back": true
    }
   },
   "outputs": [],
   "source": []
  },
  {
   "cell_type": "code",
   "execution_count": null,
   "metadata": {
    "coq_kernel_metadata": {
     "auto_roll_back": true
    }
   },
   "outputs": [],
   "source": []
  },
  {
   "cell_type": "code",
   "execution_count": null,
   "metadata": {
    "coq_kernel_metadata": {
     "auto_roll_back": true
    }
   },
   "outputs": [],
   "source": []
  },
  {
   "cell_type": "code",
   "execution_count": null,
   "metadata": {
    "coq_kernel_metadata": {
     "auto_roll_back": true
    }
   },
   "outputs": [],
   "source": []
  },
  {
   "cell_type": "code",
   "execution_count": null,
   "metadata": {
    "coq_kernel_metadata": {
     "auto_roll_back": true
    }
   },
   "outputs": [],
   "source": []
  },
  {
   "cell_type": "code",
   "execution_count": null,
   "metadata": {
    "coq_kernel_metadata": {
     "auto_roll_back": true
    }
   },
   "outputs": [],
   "source": []
  },
  {
   "cell_type": "code",
   "execution_count": null,
   "metadata": {
    "coq_kernel_metadata": {
     "auto_roll_back": true,
     "cell_id": "b437c0eef1124670b5420a2e63ef2e73",
     "execution_id": "d5c02118f9cd450182dad7f323a4f02a"
    }
   },
   "outputs": [],
   "source": [
    "Admitted. (* 最後にここを Qed. に変える。*)"
   ]
  },
  {
   "cell_type": "markdown",
   "metadata": {
    "coq_kernel_metadata": {
     "auto_roll_back": true
    }
   },
   "source": [
    "<a id=\"ex36\"></a>\n",
    "## 演習問題 3-6  作業用\n",
    "　<font size=\"4\">次の定理を証明せよ。</font>\n",
    " <font color=\"blue\"　size=\"4\"><br>　Theorem plus_assoc : (forall n m o : nat, n + (m +o)  = (n + m) + o ).</font>\n",
    "\n",
    "### 下記の証明を完成させよ。\n",
    "#### [ヒント: 解答のコメントを読む](#hint36) /  [解答を見る](#ans36) "
   ]
  },
  {
   "cell_type": "code",
   "execution_count": null,
   "metadata": {
    "coq_kernel_metadata": {
     "auto_roll_back": true,
     "cell_id": "b58fc0e128cc4fe78952b02d9e3e35f1",
     "execution_id": "9f16b764d811446292e98eb13ac696e3"
    }
   },
   "outputs": [],
   "source": [
    "Theorem plus_assoc : (forall n m o : nat, n + (m +o)  = (n + m) + o ).\n",
    "Proof."
   ]
  },
  {
   "cell_type": "code",
   "execution_count": null,
   "metadata": {
    "coq_kernel_metadata": {
     "auto_roll_back": true
    }
   },
   "outputs": [],
   "source": []
  },
  {
   "cell_type": "code",
   "execution_count": null,
   "metadata": {
    "coq_kernel_metadata": {
     "auto_roll_back": true
    }
   },
   "outputs": [],
   "source": []
  },
  {
   "cell_type": "code",
   "execution_count": null,
   "metadata": {
    "coq_kernel_metadata": {
     "auto_roll_back": true
    }
   },
   "outputs": [],
   "source": []
  },
  {
   "cell_type": "code",
   "execution_count": null,
   "metadata": {
    "coq_kernel_metadata": {
     "auto_roll_back": true
    }
   },
   "outputs": [],
   "source": []
  },
  {
   "cell_type": "code",
   "execution_count": null,
   "metadata": {
    "coq_kernel_metadata": {
     "auto_roll_back": true
    }
   },
   "outputs": [],
   "source": []
  },
  {
   "cell_type": "code",
   "execution_count": null,
   "metadata": {
    "coq_kernel_metadata": {
     "auto_roll_back": true
    }
   },
   "outputs": [],
   "source": []
  },
  {
   "cell_type": "code",
   "execution_count": null,
   "metadata": {
    "coq_kernel_metadata": {
     "auto_roll_back": true
    }
   },
   "outputs": [],
   "source": []
  },
  {
   "cell_type": "code",
   "execution_count": null,
   "metadata": {
    "coq_kernel_metadata": {
     "auto_roll_back": true
    }
   },
   "outputs": [],
   "source": []
  },
  {
   "cell_type": "code",
   "execution_count": null,
   "metadata": {
    "coq_kernel_metadata": {
     "auto_roll_back": true
    }
   },
   "outputs": [],
   "source": []
  },
  {
   "cell_type": "code",
   "execution_count": null,
   "metadata": {
    "coq_kernel_metadata": {
     "auto_roll_back": true,
     "cell_id": "8b6c092cdc7d43228d07a9eb6269866e",
     "execution_id": "27ed427900c34eb8af15e3955497ce42"
    }
   },
   "outputs": [],
   "source": [
    "Admitted. (* 最後にここを Qed. に変える。*)"
   ]
  },
  {
   "cell_type": "markdown",
   "metadata": {
    "coq_kernel_metadata": {
     "auto_roll_back": true
    }
   },
   "source": [
    "<a id=\"ex37\"></a>\n",
    "## 演習問題 3-7  作業用\n",
    "　<font size=\"4\">次の定理を証明せよ。</font>\n",
    " <font color=\"blue\"　size=\"4\"><br>　Theorem mul_succ_r : forall n m : nat,  n \\* S m = n \\* m + n  ).</font>\n",
    "\n",
    "### 下記の証明を完成させよ。\n",
    "#### [ヒント: 解答のコメントを読む](#hint37) /  [解答を見る](#ans37) "
   ]
  },
  {
   "cell_type": "code",
   "execution_count": null,
   "metadata": {
    "coq_kernel_metadata": {
     "auto_roll_back": true,
     "cell_id": "f1951a75329546a59204ade9ee5bff27",
     "execution_id": "838682d950974527b5f5d5f3083ce8a6"
    }
   },
   "outputs": [],
   "source": [
    "Theorem mul_succ_r : forall n m : nat,  n * S m = n * m + n  ).\n",
    "Proof."
   ]
  },
  {
   "cell_type": "code",
   "execution_count": null,
   "metadata": {
    "coq_kernel_metadata": {
     "auto_roll_back": true
    }
   },
   "outputs": [],
   "source": []
  },
  {
   "cell_type": "code",
   "execution_count": null,
   "metadata": {
    "coq_kernel_metadata": {
     "auto_roll_back": true
    }
   },
   "outputs": [],
   "source": []
  },
  {
   "cell_type": "code",
   "execution_count": null,
   "metadata": {
    "coq_kernel_metadata": {
     "auto_roll_back": true
    }
   },
   "outputs": [],
   "source": []
  },
  {
   "cell_type": "code",
   "execution_count": null,
   "metadata": {
    "coq_kernel_metadata": {
     "auto_roll_back": true
    }
   },
   "outputs": [],
   "source": []
  },
  {
   "cell_type": "code",
   "execution_count": null,
   "metadata": {
    "coq_kernel_metadata": {
     "auto_roll_back": true
    }
   },
   "outputs": [],
   "source": []
  },
  {
   "cell_type": "code",
   "execution_count": null,
   "metadata": {
    "coq_kernel_metadata": {
     "auto_roll_back": true
    }
   },
   "outputs": [],
   "source": []
  },
  {
   "cell_type": "code",
   "execution_count": null,
   "metadata": {
    "coq_kernel_metadata": {
     "auto_roll_back": true
    }
   },
   "outputs": [],
   "source": []
  },
  {
   "cell_type": "code",
   "execution_count": null,
   "metadata": {
    "coq_kernel_metadata": {
     "auto_roll_back": true,
     "cell_id": "19a79eef72a94e6c8b92c4bbd92ca36a",
     "execution_id": "938f73abb5ca45cc87e1ae26bfd222e2"
    }
   },
   "outputs": [],
   "source": [
    "Admitted. (* 最後にここを Qed. に変える。*)"
   ]
  },
  {
   "cell_type": "markdown",
   "metadata": {
    "coq_kernel_metadata": {
     "auto_roll_back": true
    }
   },
   "source": [
    "<a id=\"ex38\"></a>\n",
    "## 演習問題 3-8  作業用\n",
    "　<font size=\"4\">次の定理を証明せよ。</font>\n",
    " <font color=\"blue\"　size=\"4\"><br>　Theorem mult_comm : (forall n m : nat,  n \\* m = m \\* n ).</font>\n",
    "\n",
    "### 下記の証明を完成させよ。\n",
    "#### [ヒント: 解答のコメントを読む](#hint38) /  [解答を見る](#ans38) "
   ]
  },
  {
   "cell_type": "code",
   "execution_count": null,
   "metadata": {
    "coq_kernel_metadata": {
     "auto_roll_back": true,
     "cell_id": "3a244076ecd648f3b288e19e420c0402",
     "execution_id": "9e65ea3594f649f4825293d6e30bb2e0"
    }
   },
   "outputs": [],
   "source": [
    "Theorem mult_comm : (forall n m : nat,  n * m = m * n ).\n",
    "Proof."
   ]
  },
  {
   "cell_type": "code",
   "execution_count": null,
   "metadata": {
    "coq_kernel_metadata": {
     "auto_roll_back": true
    }
   },
   "outputs": [],
   "source": []
  },
  {
   "cell_type": "code",
   "execution_count": null,
   "metadata": {
    "coq_kernel_metadata": {
     "auto_roll_back": true
    }
   },
   "outputs": [],
   "source": []
  },
  {
   "cell_type": "code",
   "execution_count": null,
   "metadata": {
    "coq_kernel_metadata": {
     "auto_roll_back": true
    }
   },
   "outputs": [],
   "source": []
  },
  {
   "cell_type": "code",
   "execution_count": null,
   "metadata": {
    "coq_kernel_metadata": {
     "auto_roll_back": true
    }
   },
   "outputs": [],
   "source": []
  },
  {
   "cell_type": "code",
   "execution_count": null,
   "metadata": {
    "coq_kernel_metadata": {
     "auto_roll_back": true
    }
   },
   "outputs": [],
   "source": []
  },
  {
   "cell_type": "code",
   "execution_count": null,
   "metadata": {
    "coq_kernel_metadata": {
     "auto_roll_back": true
    }
   },
   "outputs": [],
   "source": []
  },
  {
   "cell_type": "code",
   "execution_count": null,
   "metadata": {
    "coq_kernel_metadata": {
     "auto_roll_back": true
    }
   },
   "outputs": [],
   "source": []
  },
  {
   "cell_type": "code",
   "execution_count": null,
   "metadata": {
    "coq_kernel_metadata": {
     "auto_roll_back": true,
     "cell_id": "29b28b9eeb8540caa14d5bfa7dad99f3",
     "execution_id": "632acec8909f49e38f8ddaec1bcd5680"
    }
   },
   "outputs": [],
   "source": [
    "Admitted. (* 最後にここを Qed. に変える。*)"
   ]
  },
  {
   "cell_type": "markdown",
   "metadata": {
    "coq_kernel_metadata": {
     "auto_roll_back": true
    }
   },
   "source": [
    "# <font color=\"blue\">演習問題 3　解答</font>\n",
    "\n",
    "[演習問題 3-1](#ans11) [演習問題 3-2](#ans12) [演習問題 3-3](#ans13) [演習問題 3-4](#ans14) [演習問題 3-5](#ans15) [演習問題 3-6](#ans16) [演習問題 3-7](#ans17) [演習問題 3-8](#ans18) "
   ]
  },
  {
   "cell_type": "markdown",
   "metadata": {
    "coq_kernel_metadata": {
     "auto_roll_back": true
    }
   },
   "source": [
    "<a id=\"ans31\"></a>\n",
    "## 演習問題 3-1  解答\n",
    "　<font size=\"4\">次の定理を証明せよ。</font>\n",
    " <font color=\"blue\"　size=\"4\"><br>　Theorem plus_n_O : (forall n : nat, n + 0 = n).</font>\n",
    "\n",
    "## 解答\n",
    "### 下のCellを実行して確かめよ。\n",
    "\n",
    "<a id=\"hint31\"></a>"
   ]
  },
  {
   "cell_type": "code",
   "execution_count": null,
   "metadata": {
    "coq_kernel_metadata": {
     "auto_roll_back": true,
     "cell_id": "1813801c449f4ddb85dc29a3ae46df98",
     "execution_id": "5ad9de5e49df430586cef1eb5efd1dc3"
    }
   },
   "outputs": [],
   "source": [
    "Theorem  plus_n_O' : (forall n : nat, n + 0 = n).\n",
    "Proof."
   ]
  },
  {
   "cell_type": "code",
   "execution_count": null,
   "metadata": {
    "coq_kernel_metadata": {
     "auto_roll_back": true,
     "cell_id": "2de391baa60a42899b8fe9f8d62a7960",
     "execution_id": "b858c875788b471cbd07599463691736"
    }
   },
   "outputs": [],
   "source": [
    " (* forall の削除 *)\n",
    " intros ."
   ]
  },
  {
   "cell_type": "code",
   "execution_count": null,
   "metadata": {
    "coq_kernel_metadata": {
     "auto_roll_back": true,
     "cell_id": "4a3b2a56d0ac4de8a5a68e20b435ca7d",
     "execution_id": "4bd837d9afac4917828926c3b533ad11"
    }
   },
   "outputs": [],
   "source": [
    "(* nについての帰納法を使う *)\n",
    "induction n.\n",
    "\n",
    "(* n = 0 　の場合と、\n",
    "　　　　n = S n' の場合で、サブゴールが二つに分かれる。 *)"
   ]
  },
  {
   "cell_type": "code",
   "execution_count": null,
   "metadata": {
    "coq_kernel_metadata": {
     "auto_roll_back": true,
     "cell_id": "04715341da6a446a9c40becb8b441205",
     "execution_id": "540ffce45f574404812e08ba43d49216"
    }
   },
   "outputs": [],
   "source": [
    "(* n = 0 の場合。\n",
    "サブゴールをsimpl で単純にする。*)\n",
    "simpl."
   ]
  },
  {
   "cell_type": "markdown",
   "metadata": {
    "coq_kernel_metadata": {
     "auto_roll_back": true,
     "cell_id": "63b5327bb7c54e198d4a60382e3d66bd",
     "execution_id": "3021c94e077f4fef8d4b6a169560065d"
    }
   },
   "source": [
    "(* n = 0 の場合。*)\n",
    "(* サブゴールにreflexivity が使える。*)\n",
    "reflexivity.\n",
    "\n",
    "(* n = 0 の場合、証明終わる。サブゴールは一つになる。*)."
   ]
  },
  {
   "cell_type": "code",
   "execution_count": null,
   "metadata": {
    "coq_kernel_metadata": {
     "auto_roll_back": true,
     "cell_id": "218c012f1e6d480f82f8bc1b2d4740ba",
     "execution_id": "c5ba0ce09c934ff88eb41738039e7529"
    }
   },
   "outputs": [],
   "source": [
    "reflexivity."
   ]
  },
  {
   "cell_type": "code",
   "execution_count": null,
   "metadata": {
    "coq_kernel_metadata": {
     "auto_roll_back": true,
     "cell_id": "159abb1f59aa4f89aba98bbeeb14c11b",
     "execution_id": "0a0f8125b3934c609ee7eccaf5787b85"
    }
   },
   "outputs": [],
   "source": [
    "(*  n = S n' の場合。\n",
    "サブゴールを、simpl で単純にする。*)\n",
    " simpl."
   ]
  },
  {
   "cell_type": "code",
   "execution_count": null,
   "metadata": {
    "coq_kernel_metadata": {
     "auto_roll_back": true,
     "cell_id": "0a408e688a1c421c8fd14d7446ce5434",
     "execution_id": "5c8bee6f887342928f245f1fbf99855c"
    }
   },
   "outputs": [],
   "source": [
    "(*  n = S n' の場合。\n",
    "サブゴールを、IHnの左項で書き換える 。*)\n",
    "rewrite -> IHn."
   ]
  },
  {
   "cell_type": "code",
   "execution_count": null,
   "metadata": {
    "coq_kernel_metadata": {
     "auto_roll_back": true,
     "cell_id": "19e555e09abc404b8703fea098bb55e9",
     "execution_id": "3f32dd1c144748718bc48e79fda7d28a"
    }
   },
   "outputs": [],
   "source": [
    "(*  n = S n' の場合。\n",
    "サブゴールに reflexivity が使える。*)\n",
    "reflexivity.\n",
    "\n",
    "(*  n = S n' の場合、証明終わり。 *)"
   ]
  },
  {
   "cell_type": "code",
   "execution_count": null,
   "metadata": {
    "coq_kernel_metadata": {
     "auto_roll_back": true,
     "cell_id": "568e5de7c4d742ab86832faa82817924",
     "execution_id": "935c6cfc6b6c45de91eb8af5ee9eaca7"
    }
   },
   "outputs": [],
   "source": [
    "Qed."
   ]
  },
  {
   "cell_type": "markdown",
   "metadata": {
    "coq_kernel_metadata": {
     "auto_roll_back": true
    }
   },
   "source": [
    "### [作業用ページに戻る](#ex31)"
   ]
  },
  {
   "cell_type": "markdown",
   "metadata": {
    "coq_kernel_metadata": {
     "auto_roll_back": true
    }
   },
   "source": [
    "<a id=\"ans32\"></a>\n",
    "## 演習問題 3-2  解答\n",
    "　<font size=\"4\">次の定理を証明せよ。</font>\n",
    " <font color=\"blue\"　size=\"4\"><br>　Theorem minus_diag : (forall n : nat, minus n n = 0).</font>\n",
    "\n",
    "## 解答\n",
    "### 下のCellを実行して確かめよ。\n",
    "\n",
    "<a id=\"hint32\"></a>"
   ]
  },
  {
   "cell_type": "code",
   "execution_count": null,
   "metadata": {
    "coq_kernel_metadata": {
     "auto_roll_back": true,
     "cell_id": "4a506b1872ae44048ae2f274fd84792e",
     "execution_id": "cefe1c0f95fd421b8aa9e7b8243023f4"
    }
   },
   "outputs": [],
   "source": [
    "Theorem  minus_diag' : (forall n : nat, minus n n = 0).\n",
    "Proof."
   ]
  },
  {
   "cell_type": "code",
   "execution_count": null,
   "metadata": {
    "coq_kernel_metadata": {
     "auto_roll_back": true,
     "cell_id": "1f0653bf8df84b1a8f6b0fd0f507e4c7",
     "execution_id": "c9a0588390764d1a93a0ae980322e689"
    }
   },
   "outputs": [],
   "source": [
    "(* forall の削除*)\n",
    "intros."
   ]
  },
  {
   "cell_type": "code",
   "execution_count": null,
   "metadata": {
    "coq_kernel_metadata": {
     "auto_roll_back": true,
     "cell_id": "334c33f8435a4beabf0ab75704ad72e0",
     "execution_id": "2e1f17a5c9464806991990f42198f7ab"
    }
   },
   "outputs": [],
   "source": [
    "(* nについての帰納法を使う *)\n",
    "induction n.\n",
    "\n",
    "(* n = 0 　の場合と、\n",
    "　　　　n = S n' の場合で、サブゴールが二つに分かれる。 *)"
   ]
  },
  {
   "cell_type": "code",
   "execution_count": null,
   "metadata": {
    "coq_kernel_metadata": {
     "auto_roll_back": true,
     "cell_id": "42e4379d3da744c38ac2be15aea97f2e",
     "execution_id": "7f163501d8db47fd8cc6a2a8325353f1"
    }
   },
   "outputs": [],
   "source": [
    "(* n = 0 の場合。\n",
    "サブゴールをsimpl で単純にする。*)\n",
    "simpl."
   ]
  },
  {
   "cell_type": "code",
   "execution_count": null,
   "metadata": {
    "coq_kernel_metadata": {
     "auto_roll_back": true,
     "cell_id": "78e79c0a3d8448d08d40c02a2e5412a3",
     "execution_id": "fde4a2fac6864d6b94a1baa72526b1eb"
    }
   },
   "outputs": [],
   "source": [
    "(* n = 0 の場合。\n",
    "サブゴールにreflexivity が使える。*)\n",
    "reflexivity.\n",
    "\n",
    "(* n = 0 の場合、証明終わる。サブゴールは一つになる。*)"
   ]
  },
  {
   "cell_type": "code",
   "execution_count": null,
   "metadata": {
    "coq_kernel_metadata": {
     "auto_roll_back": true,
     "cell_id": "85485182ad8547b580d335be3f2a17bd",
     "execution_id": "b5138125f6f343959ec8caf94b18e015"
    }
   },
   "outputs": [],
   "source": [
    " (*  n = S n' の場合。simpl で単純にする。*)\n",
    " simpl."
   ]
  },
  {
   "cell_type": "code",
   "execution_count": null,
   "metadata": {
    "coq_kernel_metadata": {
     "auto_roll_back": true,
     "cell_id": "9cf2aa02e0bc44048e61f8938fae34a1",
     "execution_id": "d6064d5f9be844e1860178a5cebc95e7"
    }
   },
   "outputs": [],
   "source": [
    "(* 仮説の中に、サブゴールと同じものが含まれている。 *)\n",
    "assumption."
   ]
  },
  {
   "cell_type": "code",
   "execution_count": null,
   "metadata": {
    "coq_kernel_metadata": {
     "auto_roll_back": true,
     "cell_id": "a6e9d8555f194ee6871d3ed6aa4c5ec4",
     "execution_id": "fae403a5d7894d0e8ea8c5c097543d9f"
    }
   },
   "outputs": [],
   "source": [
    "Qed."
   ]
  },
  {
   "cell_type": "markdown",
   "metadata": {
    "coq_kernel_metadata": {
     "auto_roll_back": true
    }
   },
   "source": [
    "### [作業用ページに戻る](#ex32)"
   ]
  },
  {
   "cell_type": "markdown",
   "metadata": {
    "coq_kernel_metadata": {
     "auto_roll_back": true
    }
   },
   "source": [
    "<a id=\"ans33\"></a>\n",
    "## 演習問題 3-3  解答\n",
    "　<font size=\"4\">次の定理を証明せよ。</font>\n",
    " <font color=\"blue\"　size=\"4\"><br>　Theorem mult_0_r : (forall n : nat,  n * 0 = 0).</font>\n",
    "\n",
    "## 解答\n",
    "### 下のCellを実行して確かめよ。\n",
    "\n",
    "<a id=\"hint33\"></a>"
   ]
  },
  {
   "cell_type": "code",
   "execution_count": null,
   "metadata": {
    "coq_kernel_metadata": {
     "auto_roll_back": true,
     "cell_id": "cfa78f5b37514d0b82960e7c23a2fde3",
     "execution_id": "997a0e5a328649d583882753729a7215"
    }
   },
   "outputs": [],
   "source": [
    "Theorem  mult_0_r' : (forall n : nat,  n * 0 = 0).\n",
    "Proof."
   ]
  },
  {
   "cell_type": "code",
   "execution_count": null,
   "metadata": {
    "coq_kernel_metadata": {
     "auto_roll_back": true,
     "cell_id": "9715a724f69b43d1a971c6f55711f500",
     "execution_id": "7f2ce797e39547b28d14d6eb85e46859"
    }
   },
   "outputs": [],
   "source": [
    "(* forall の削除 *)\n",
    "intros."
   ]
  },
  {
   "cell_type": "code",
   "execution_count": null,
   "metadata": {
    "coq_kernel_metadata": {
     "auto_roll_back": true,
     "cell_id": "25bf7133570543ec88d6b66391489158",
     "execution_id": "fa74898b6bc247b09b3225425bc44062"
    }
   },
   "outputs": [],
   "source": [
    "(* nについての帰納法を使う。*)\n",
    "induction n.\n",
    "(* n = 0 　の場合と、\n",
    "　　　　n = S n' の場合で、サブゴールが二つに分かれる。 *)"
   ]
  },
  {
   "cell_type": "code",
   "execution_count": null,
   "metadata": {
    "coq_kernel_metadata": {
     "auto_roll_back": true,
     "cell_id": "a92c09b80b7944298156eab7f31e70f3",
     "execution_id": "691b196107ff44cb8bbbf363c748f17b"
    }
   },
   "outputs": [],
   "source": [
    "(* n = 0 の場合。単純化する。 *)\n",
    "simpl."
   ]
  },
  {
   "cell_type": "code",
   "execution_count": null,
   "metadata": {
    "coq_kernel_metadata": {
     "auto_roll_back": true,
     "cell_id": "d0bbbbcfdf05414b8e7df9e7543098c9",
     "execution_id": "5518aa7024bb41958588a24cd05e8d30"
    }
   },
   "outputs": [],
   "source": [
    "(* n =0  の場合。reflexivity が使える。*)\n",
    "reflexivity.\n",
    "(* n =0  の場合、証明終わる。サブゴールは一つになる。*)"
   ]
  },
  {
   "cell_type": "code",
   "execution_count": null,
   "metadata": {
    "coq_kernel_metadata": {
     "auto_roll_back": true,
     "cell_id": "cd2caae41b6f49248e08ad15bea70919",
     "execution_id": "f86b7ab6fc3041c89118a323af19feac"
    }
   },
   "outputs": [],
   "source": [
    "(* n = S n' の場合。単純化する。*)\n",
    "simpl."
   ]
  },
  {
   "cell_type": "code",
   "execution_count": null,
   "metadata": {
    "coq_kernel_metadata": {
     "auto_roll_back": true,
     "cell_id": "2719c8387377455583ae29bf6c84fe46",
     "execution_id": "349b3dcdf93a41d28197b79cabc7176f"
    }
   },
   "outputs": [],
   "source": [
    "(* n = S n' の場合。IHnの左項でサブゴールを書き換える。*)\n",
    "\n",
    "rewrite -> IHn."
   ]
  },
  {
   "cell_type": "code",
   "execution_count": null,
   "metadata": {
    "coq_kernel_metadata": {
     "auto_roll_back": true,
     "cell_id": "7e3b8067f2e34a388237c428a28f8b77",
     "execution_id": "489607abb23242fc80face3719038e44"
    }
   },
   "outputs": [],
   "source": [
    "(* n = S n' の場合。Ireflexivity が使える。 *)\n",
    " reflexivity.\n",
    "(* n = S n' の場合。証明終わる。 *)"
   ]
  },
  {
   "cell_type": "code",
   "execution_count": null,
   "metadata": {
    "coq_kernel_metadata": {
     "auto_roll_back": true,
     "cell_id": "4ddaf26c5ba0431c92b0aa55cbd5f332",
     "execution_id": "ded4f6a2211f428583371d69541114c2"
    }
   },
   "outputs": [],
   "source": [
    "Qed."
   ]
  },
  {
   "cell_type": "markdown",
   "metadata": {
    "coq_kernel_metadata": {
     "auto_roll_back": true
    }
   },
   "source": [
    "### [作業用ページに戻る](#ex33)"
   ]
  },
  {
   "cell_type": "markdown",
   "metadata": {
    "coq_kernel_metadata": {
     "auto_roll_back": true
    }
   },
   "source": [
    "<a id=\"ans34\"></a>\n",
    "## 演習問題 3-4  解答\n",
    "　<font size=\"4\">次の定理を証明せよ。</font>\n",
    " <font color=\"blue\"　size=\"4\"><br>　Theorem plus_n_Sm : (forall n m : nat, S (n + m) = n + (S m) ).</font>\n",
    "\n",
    "## 解答\n",
    "### 下のCellを実行して確かめよ。\n",
    "\n",
    "<a id=\"hint34\"></a>"
   ]
  },
  {
   "cell_type": "code",
   "execution_count": null,
   "metadata": {
    "coq_kernel_metadata": {
     "auto_roll_back": true,
     "cell_id": "7edb7b2c6f3a47aa9f46eb597fdbe537",
     "execution_id": "870be16488a944468f819a07b4db7877"
    }
   },
   "outputs": [],
   "source": [
    "Theorem  plus_n_Sm' : (forall n m : nat, S (n + m) = n + (S m) ).\n",
    "Proof."
   ]
  },
  {
   "cell_type": "code",
   "execution_count": null,
   "metadata": {
    "coq_kernel_metadata": {
     "auto_roll_back": true,
     "cell_id": "23ecb352c1124b31bada89cda97f91ab",
     "execution_id": "356ffc2127974f1785286a8c9676bf32"
    }
   },
   "outputs": [],
   "source": [
    "(* introsで forall を消す。*)\n",
    "intros."
   ]
  },
  {
   "cell_type": "code",
   "execution_count": null,
   "metadata": {
    "coq_kernel_metadata": {
     "auto_roll_back": true,
     "cell_id": "87ddb3ad35094953a204112865091c72",
     "execution_id": "17b1893dce1d49b9b262f1faeeb1ca4e"
    }
   },
   "outputs": [],
   "source": [
    "(* induction nで帰納法を使う。*)\n",
    "induction n.\n",
    "(* n = 0 　の場合と、\n",
    "　　　　n = S n' の場合で、サブゴールが二つに分かれる。 *)"
   ]
  },
  {
   "cell_type": "code",
   "execution_count": null,
   "metadata": {
    "coq_kernel_metadata": {
     "auto_roll_back": true,
     "cell_id": "f2d2d097d1114c51957f9ee37670040d",
     "execution_id": "b25481e6b77742cfb7b817bfa2608f50"
    }
   },
   "outputs": [],
   "source": [
    "(* n = 0の場合。simpl で、サブゴールを簡単にする。*)\n",
    "simpl."
   ]
  },
  {
   "cell_type": "code",
   "execution_count": null,
   "metadata": {
    "coq_kernel_metadata": {
     "auto_roll_back": true,
     "cell_id": "ba130cdfa072461a8e353122156c17a5",
     "execution_id": "227f0d0da80f45e99fe2bb9cfa1ce063"
    }
   },
   "outputs": [],
   "source": [
    "(* n=0 の場合。reflexivity が使える。*)\n",
    "reflexivity.\n",
    "(* n=0 の場合、証明終わり。サブゴールが一つになる。*)"
   ]
  },
  {
   "cell_type": "code",
   "execution_count": null,
   "metadata": {
    "coq_kernel_metadata": {
     "auto_roll_back": true,
     "cell_id": "73cc6793d6e24f148125289463767b43",
     "execution_id": "01e8232f22f04cd9802e60baa7f9ebbf"
    }
   },
   "outputs": [],
   "source": [
    "(* n = S n' の場合。残ったサブゴールを、simpl で簡単にする。*)\n",
    "simpl."
   ]
  },
  {
   "cell_type": "code",
   "execution_count": null,
   "metadata": {
    "coq_kernel_metadata": {
     "auto_roll_back": true,
     "cell_id": "59f8de52aeec4f34810a546cd2fb54ba",
     "execution_id": "10bd16178d474ce0b5c5b587892f5a64"
    }
   },
   "outputs": [],
   "source": [
    "(* n = S n' の場合。*)\n",
    "(* IHnの左項でサブゴールを書き換える。*)\n",
    "rewrite -> IHn."
   ]
  },
  {
   "cell_type": "code",
   "execution_count": null,
   "metadata": {
    "coq_kernel_metadata": {
     "auto_roll_back": true,
     "cell_id": "875639866c944bc79a67ccb7ae30e098",
     "execution_id": "10cf9735a6d64de3817937251ae06eed"
    }
   },
   "outputs": [],
   "source": [
    "(* n = S n' の場合。*)\n",
    "(* reflexivity が使える。*)\n",
    "reflexivity.\n",
    "(* n = S n' の場合、証明終り。 *)"
   ]
  },
  {
   "cell_type": "code",
   "execution_count": null,
   "metadata": {
    "coq_kernel_metadata": {
     "auto_roll_back": true,
     "cell_id": "2dc3fc2a83974636b03dd098daa29e5a",
     "execution_id": "1e47870d5a2a4c4d84ba5e6eda74f6bb"
    }
   },
   "outputs": [],
   "source": [
    "Qed."
   ]
  },
  {
   "cell_type": "markdown",
   "metadata": {
    "coq_kernel_metadata": {
     "auto_roll_back": true
    }
   },
   "source": [
    "### [作業用ページに戻る](#ex34)"
   ]
  },
  {
   "cell_type": "markdown",
   "metadata": {
    "coq_kernel_metadata": {
     "auto_roll_back": true
    }
   },
   "source": [
    "<a id=\"ans35\"></a>\n",
    "## 演習問題 3-5  解答\n",
    "　<font size=\"4\">次の定理を証明せよ。</font>\n",
    " <font color=\"blue\"　size=\"4\"><br>　Theorem plus_comm : (forall n m : nat, n + m = m + n ).</font>\n",
    "\n",
    "## 解答\n",
    "### 下のCellを実行して確かめよ。\n",
    "\n",
    "<a id=\"hint35\"></a>"
   ]
  },
  {
   "cell_type": "code",
   "execution_count": null,
   "metadata": {
    "coq_kernel_metadata": {
     "auto_roll_back": true,
     "cell_id": "189278e3206444329dd656bc679d9273",
     "execution_id": "7091a52735b7400681977b19e03437e9"
    }
   },
   "outputs": [],
   "source": [
    "Theorem  plus_comm' : (forall n m : nat, n + m = m + n ).\n",
    "Proof."
   ]
  },
  {
   "cell_type": "code",
   "execution_count": null,
   "metadata": {
    "coq_kernel_metadata": {
     "auto_roll_back": true,
     "cell_id": "ab84a643a957456cbf8e62852ffab8c9",
     "execution_id": "a828980a73ab4a0c9e49fe0106c6423e"
    }
   },
   "outputs": [],
   "source": [
    "(* forall の削除 *)\n",
    "intros."
   ]
  },
  {
   "cell_type": "code",
   "execution_count": null,
   "metadata": {
    "coq_kernel_metadata": {
     "auto_roll_back": true,
     "cell_id": "16515fe42280481a942b9365f8a78ea7",
     "execution_id": "083a311e4505497284038feb5248cc4e"
    }
   },
   "outputs": [],
   "source": [
    "  (* nについての帰納法を使う。*)\n",
    "  induction n.\n",
    "  (* n = 0 　の場合と、\n",
    "　　　　n = S n' の場合で、サブゴールが二つに分かれる。 *)"
   ]
  },
  {
   "cell_type": "code",
   "execution_count": null,
   "metadata": {
    "coq_kernel_metadata": {
     "auto_roll_back": true,
     "cell_id": "419b7af19fa44d548132126e2142a7a6",
     "execution_id": "608d00aa62324979941173d23d695d56"
    },
    "scrolled": true
   },
   "outputs": [],
   "source": [
    "     (* 　n = 0 の場合　*)\n",
    "     (* サブゴールを簡単にする。*)\n",
    "     simpl."
   ]
  },
  {
   "cell_type": "code",
   "execution_count": null,
   "metadata": {
    "coq_kernel_metadata": {
     "auto_roll_back": true,
     "cell_id": "dcfb602afb1c44e69c0b00662a412cb9",
     "execution_id": "353263a3d1d54c8aba5fc3c451bb825d"
    },
    "scrolled": true
   },
   "outputs": [],
   "source": [
    "(* 　n = 0 の場合が続いている。　*) \n",
    "(* m についての帰納法を使う。 *)\n",
    "induction m.\n",
    "\n",
    "(* m = 0 　の場合と、\n",
    "　　　　　m = S m' の場合で、サブゴールが二つ追加される。 \n",
    "     先のサブゴールと合わせて、サブゴールは三つになる。*)"
   ]
  },
  {
   "cell_type": "code",
   "execution_count": null,
   "metadata": {
    "coq_kernel_metadata": {
     "auto_roll_back": true,
     "cell_id": "e1b6b4fbcc49425990f9f952fc113363",
     "execution_id": "7e04b415ef9c497a967306ad7623681b"
    },
    "scrolled": true
   },
   "outputs": [],
   "source": [
    "(* 　n = 0 の場合が続いている。　*)\n",
    "(* 　m = 0 のサブゴールを簡単にする。　*)\n",
    "simpl."
   ]
  },
  {
   "cell_type": "code",
   "execution_count": null,
   "metadata": {
    "coq_kernel_metadata": {
     "auto_roll_back": true,
     "cell_id": "caaab03863cb443981ab202a73971a95",
     "execution_id": "5b5fe7892c934d8c8ba56f8c4161c527"
    },
    "scrolled": true
   },
   "outputs": [],
   "source": [
    "(* 　n = 0 の場合が続いている。　*)\n",
    "(* 　m = 0 のサブゴールにreflexivity が使える。　*)\n",
    "reflexivity.\n",
    "(* 　m = 0 のサブゴールが消えて、サブゴールは二つになる。　*)"
   ]
  },
  {
   "cell_type": "code",
   "execution_count": null,
   "metadata": {
    "coq_kernel_metadata": {
     "auto_roll_back": true,
     "cell_id": "4ea2907bff00440b803da0d0f429cb53",
     "execution_id": "e1c2f30adf234f31aab590b20d578549"
    },
    "scrolled": true
   },
   "outputs": [],
   "source": [
    "(* 　n = 0 の場合が続いている。　*)\n",
    "(* 　m = S m'の場合のサブゴールを簡単にする。　*)\n",
    "simpl."
   ]
  },
  {
   "cell_type": "code",
   "execution_count": null,
   "metadata": {
    "coq_kernel_metadata": {
     "auto_roll_back": true,
     "cell_id": "3416399fe5be4a1684de80618b2f5452",
     "execution_id": "acb0e4f67f7a45f78203d809b5188df2"
    },
    "scrolled": true
   },
   "outputs": [],
   "source": [
    "(* 　n = 0 の場合が続いている。　*)\n",
    "(* 　m = S m'の場合のサブゴールを IHmの右項を使って書き換える。　*)\n",
    "rewrite <- IHm."
   ]
  },
  {
   "cell_type": "code",
   "execution_count": null,
   "metadata": {
    "coq_kernel_metadata": {
     "auto_roll_back": true,
     "cell_id": "15ec084403514f1fa49ea39693c40d7f",
     "execution_id": "6599d67d71644b998d2f2e7c4ecf624a"
    },
    "scrolled": true
   },
   "outputs": [],
   "source": [
    "(* 　n = 0 の場合が続いている。　*)\n",
    "(* 　m = S m'の場合のサブゴールに reflexivity が使える。　*)\n",
    "reflexivity.\n",
    "(* mについての帰納法の証明終わり。サブゴールが一つになる。*)\n",
    "(* n = S n' の場合の証明に移る。*)"
   ]
  },
  {
   "cell_type": "code",
   "execution_count": null,
   "metadata": {
    "coq_kernel_metadata": {
     "auto_roll_back": true,
     "cell_id": "0a5465bce57941ce91181114bb87bf18",
     "execution_id": "948de20652414717b21d6869a6acf662"
    },
    "scrolled": true
   },
   "outputs": [],
   "source": [
    "(* n = S n' の場合 *)\n",
    "(* サブゴールを、「演習問題 3-4」で証明した、plus_n_Smの右項で書き換える *)\n",
    "(* Theorem plus_n_Sm : (forall n m : nat, S (n + m) = n + (S m) である。*)\n",
    "(* ここでエラーが出る人は、次の「Coqライブラリーの利用について」を参照すること *)\n",
    "\n",
    "rewrite <- plus_n_Sm."
   ]
  },
  {
   "cell_type": "code",
   "execution_count": null,
   "metadata": {
    "coq_kernel_metadata": {
     "auto_roll_back": true,
     "cell_id": "d191852569574deb83bfffe21975f673",
     "execution_id": "70b378eda13e472d827ca759b356ca20"
    },
    "scrolled": false
   },
   "outputs": [],
   "source": [
    "(* n = S n' の場合 *)\n",
    "(* サブゴールを、IHnの右項で書き換える *)\n",
    "rewrite <- IHn."
   ]
  },
  {
   "cell_type": "code",
   "execution_count": null,
   "metadata": {
    "coq_kernel_metadata": {
     "auto_roll_back": true,
     "cell_id": "f240ac0782db4c618e46c47fd080c865",
     "execution_id": "3fdec061eff9429088fcfbf72510aa76"
    }
   },
   "outputs": [],
   "source": [
    "(* n = S n' の場合 *)\n",
    "(* サブゴールを、単純にする。 *)\n",
    "simpl."
   ]
  },
  {
   "cell_type": "code",
   "execution_count": null,
   "metadata": {
    "coq_kernel_metadata": {
     "auto_roll_back": true,
     "cell_id": "03037bcf6ae74b0583b6fa199b5b1868",
     "execution_id": "f120f0d1ff564bb195aa2581e3834b8c"
    },
    "scrolled": true
   },
   "outputs": [],
   "source": [
    "(* n = S n' の場合 *)\n",
    "(* サブゴールに、reflexivityが使える。 *)\n",
    "reflexivity.\n",
    "(* n = S n' の場合 、証明終わり。*)"
   ]
  },
  {
   "cell_type": "code",
   "execution_count": null,
   "metadata": {
    "coq_kernel_metadata": {
     "auto_roll_back": true,
     "cell_id": "50907084f10745008611adbbd0fa69de",
     "execution_id": "a57ce8055d534cfabbbe8c6f5a6d88da"
    }
   },
   "outputs": [],
   "source": [
    "Qed."
   ]
  },
  {
   "cell_type": "markdown",
   "metadata": {
    "coq_kernel_metadata": {
     "auto_roll_back": true
    }
   },
   "source": [
    "### [作業用ページに戻る](#ex35)"
   ]
  },
  {
   "cell_type": "markdown",
   "metadata": {
    "coq_kernel_metadata": {
     "auto_roll_back": true,
     "cell_id": "b63daa5259e44951816fe929af3214f8",
     "execution_id": "790082d21bc547c18747c4269ae53df2"
    }
   },
   "source": [
    "<a id=\"coqlib\"></a>\n",
    "<div class=\"alert alert-block alert-info\"> \n",
    " \n",
    "## Coq ライブラリーの利用について\n",
    " ここでは、先の「演習問題 3-4」で証明した、定理 plus_n_Sm を利用している。\n",
    "　　　　　   Theorem plus_n_Sm : (forall n m : nat, S (n + m) = n + (S m) である。\n",
    " この証明では、「演習問題 3-4」を解いてあることが、前提となっている。\n",
    "        \n",
    "ただ、皆が順番に演習問題を解いている保証はないので、ここは、少しちがったやり方を考えてみよう。\n",
    "\n",
    "実は、CoqのライブラリーArithには、この「演習問題 3-4」の定理 plus_n_Sm と、ほぼ同じものが、\n",
    "別の名前で登録されている。\n",
    "        \n",
    "次のコマンドを実行してみよう。\n",
    "</div>"
   ]
  },
  {
   "cell_type": "code",
   "execution_count": null,
   "metadata": {
    "coq_kernel_metadata": {
     "auto_roll_back": true,
     "cell_id": "8f477ee46747486eb34ca65a92d140fa",
     "execution_id": "84bdb11c5fd94e38802119d7edbd2182"
    }
   },
   "outputs": [],
   "source": [
    "Require Import Arith. \n",
    "Check Nat.add_succ_r."
   ]
  },
  {
   "cell_type": "markdown",
   "metadata": {
    "coq_kernel_metadata": {
     "auto_roll_back": true,
     "cell_id": "d9e6c83eb0f8443b8f6433deecebd65c",
     "execution_id": "790082d21bc547c18747c4269ae53df2"
    }
   },
   "source": [
    " <div class=\"alert alert-block alert-info\">\n",
    " この定理 Nat.add_succ_r は、「演習問題 3-4」の定理 plus_n_Sm と、ほぼ同じもので\n",
    " あることがわかる。ただし、等式の左右が逆である。\n",
    " \n",
    " だから 先の証明で使った \n",
    "    rewrite <- plus_n_Sm. \n",
    " の代わりに、\n",
    "    rewrite -> Nat.add_succ_r  　(左右が逆だから、rewriteの矢印は逆になる。)\n",
    " を使っても、証明はできる。\n",
    "\n",
    "<font color=\"blue\">ただし、今回のハンズオンの演習問題では、演習問題として既に証明済の定理のみを使って、証明をすることを原則としている。実は、今回のハンズオンの演習課題の多くは、ライブラリー Arith から採用したものである。</font>\n",
    "</div>"
   ]
  },
  {
   "cell_type": "code",
   "execution_count": null,
   "metadata": {
    "coq_kernel_metadata": {
     "auto_roll_back": true,
     "cell_id": "293b8a28b1294861aeac1ac4d54ca3fb",
     "execution_id": "e06ae4e525c04fb3845dccb604ad6166"
    }
   },
   "outputs": [],
   "source": [
    "Check Nat.mul_0_r."
   ]
  },
  {
   "cell_type": "code",
   "execution_count": null,
   "metadata": {
    "coq_kernel_metadata": {
     "auto_roll_back": true,
     "cell_id": "c1660f1d6c36417eb27f52bb6d46f69a",
     "execution_id": "7f412809859441cd9ff2bf5893a71884"
    }
   },
   "outputs": [],
   "source": [
    "(* 例えば、「演習問題 3-3」 は、ライブラリー上では、Nat.mul_0_r として、証明済である *)\n",
    "\n",
    "Theorem mult_0_r'' : (forall n : nat,  n * 0 = 0).\n",
    "Proof.\n",
    "   exact  Nat.mul_0_r .\n",
    "Qed.  "
   ]
  },
  {
   "cell_type": "code",
   "execution_count": null,
   "metadata": {
    "coq_kernel_metadata": {
     "auto_roll_back": true,
     "cell_id": "10b7eeb887d84032bfae9c607734a762",
     "execution_id": "8dc6a522ad2b4568a17db7a3f43fbeab"
    },
    "scrolled": true
   },
   "outputs": [],
   "source": [
    "Check Nat.add_succ_r."
   ]
  },
  {
   "cell_type": "code",
   "execution_count": null,
   "metadata": {
    "coq_kernel_metadata": {
     "auto_roll_back": true,
     "cell_id": "8e70e800fe7a484183f87edd005f01ce",
     "execution_id": "6c84cb0a874041cd955e364806823dbc"
    }
   },
   "outputs": [],
   "source": [
    "(* 「演習問題 3-4」 は、ライブラリー上では、Nat.add_succ_r  (左右が逆だが)として、証明済である *)\n",
    "\n",
    "Theorem  plus_n_Sm'' : (forall n m : nat, S (n + m) = n + (S m) ).\n",
    "Proof.\n",
    "   symmetry. (* 左辺と右辺を入れ替える*)\n",
    "   apply  Nat.add_succ_r.\n",
    "Qed.  "
   ]
  },
  {
   "cell_type": "markdown",
   "metadata": {
    "coq_kernel_metadata": {
     "auto_roll_back": true,
     "cell_id": "016bf62981d5406f823a7331d1753005",
     "execution_id": "790082d21bc547c18747c4269ae53df2"
    }
   },
   "source": [
    "<div class=\"alert alert-block alert-info\">\n",
    "同様に、今回の和の交換則を証明する「演習問題 3-5」も、ライブラリーでは。Nat.add_comm として、証明済である。次を実行してみよ。\n",
    "</div>"
   ]
  },
  {
   "cell_type": "code",
   "execution_count": null,
   "metadata": {
    "coq_kernel_metadata": {
     "auto_roll_back": true,
     "cell_id": "705bfe71ab4e4d6eb732c674b4ddd401",
     "execution_id": "0a628aa7ac8647089766349d412d9a4c"
    },
    "scrolled": true
   },
   "outputs": [],
   "source": [
    "Check Nat.add_comm."
   ]
  },
  {
   "cell_type": "code",
   "execution_count": null,
   "metadata": {
    "coq_kernel_metadata": {
     "auto_roll_back": true,
     "cell_id": "51ab4d6928184605845f50f8c1dee69b",
     "execution_id": "fa7e62128d9d48608e835e7af8203b01"
    }
   },
   "outputs": [],
   "source": [
    "(* 「演習問題 3-5」 は、ライブラリー上では、Nat.add_comm として、証明済である *)\n",
    "\n",
    "Theorem  plus_comm'' : (forall n m : nat, n + m = m + n ).\n",
    "Proof.\n",
    "   exact  Nat.add_comm .\n",
    "Qed.  "
   ]
  },
  {
   "cell_type": "markdown",
   "metadata": {
    "coq_kernel_metadata": {
     "auto_roll_back": true
    }
   },
   "source": [
    "<a id=\"ans36\"></a>\n",
    "## 演習問題 3-6  解答\n",
    "　<font size=\"4\">次の定理を証明せよ。</font>\n",
    " <font color=\"blue\"　size=\"4\"><br>　Theorem plus_assoc : (forall n m o : nat, n + (m +o)  = (n + m) + o ).</font>\n",
    "\n",
    "## 解答\n",
    "### 下のCellを実行して確かめよ。\n",
    "\n",
    "<a id=\"hint36\"></a>"
   ]
  },
  {
   "cell_type": "code",
   "execution_count": null,
   "metadata": {
    "coq_kernel_metadata": {
     "auto_roll_back": true,
     "cell_id": "34f153c4466947be8b557caa98bedb94",
     "execution_id": "871faad0919c4e6db3e7cd75b1f62300"
    }
   },
   "outputs": [],
   "source": [
    "Theorem  plus_assoc' : (forall n m o : nat, n + (m +o)  = (n + m) + o ).\n",
    "Proof."
   ]
  },
  {
   "cell_type": "code",
   "execution_count": null,
   "metadata": {
    "coq_kernel_metadata": {
     "auto_roll_back": true,
     "cell_id": "1fa5b9a888e747a086ed582cb588a65d",
     "execution_id": "ba1318c8fbc541cc8c7bea4e13e70427"
    }
   },
   "outputs": [],
   "source": [
    "(* forall を削除*)\n",
    "intros."
   ]
  },
  {
   "cell_type": "code",
   "execution_count": null,
   "metadata": {
    "coq_kernel_metadata": {
     "auto_roll_back": true,
     "cell_id": "1e2a0cba2d664a40830d767cdb78592f",
     "execution_id": "c013e5b73d564e25b259d1aac7c212b9"
    }
   },
   "outputs": [],
   "source": [
    "(* n についての帰納法を使う。*)\n",
    "induction n.\n",
    "(* n = 0 　の場合と、\n",
    "　　　　n = S n' の場合で、サブゴールが二つに分かれる。 *)"
   ]
  },
  {
   "cell_type": "code",
   "execution_count": null,
   "metadata": {
    "coq_kernel_metadata": {
     "auto_roll_back": true,
     "cell_id": "4c1fde5079194a808fd746712d8a7181",
     "execution_id": "759f99c0f9104a9284f55ff4934c97c0"
    }
   },
   "outputs": [],
   "source": [
    "(* n = 0 　の場合 *)\n",
    "(* サブゴールを単純にする。*)\n",
    "simpl."
   ]
  },
  {
   "cell_type": "code",
   "execution_count": null,
   "metadata": {
    "coq_kernel_metadata": {
     "auto_roll_back": true,
     "cell_id": "c1caba1d80074c20883f63e33a1de94e",
     "execution_id": "73fa92d231a24aa98876bae32a990db1"
    }
   },
   "outputs": [],
   "source": [
    "(* n = 0 　の場合 *)\n",
    "(* サブゴールにreflexivityが使える。*)\n",
    "reflexivity.\n",
    "(* n =0 の場合、証明終わり。 サブゴールが一つになる。 *)\n",
    "(* n = Sn' の場合の証明に入る。 *)"
   ]
  },
  {
   "cell_type": "code",
   "execution_count": null,
   "metadata": {
    "coq_kernel_metadata": {
     "auto_roll_back": true,
     "cell_id": "1674e17a2e724dd8886bb62ef17552b3",
     "execution_id": "e7ccd73bd99949a59856c76d6f3240f2"
    }
   },
   "outputs": [],
   "source": [
    "(* n = S n' の場合*)\n",
    "(* サブゴールを単純にする。*)\n",
    "simpl."
   ]
  },
  {
   "cell_type": "code",
   "execution_count": null,
   "metadata": {
    "coq_kernel_metadata": {
     "auto_roll_back": true,
     "cell_id": "ceb4e21868ae4509b44dcd48bfa739ca",
     "execution_id": "c61f4bf5ccec47ea8464423a0dc81c5d"
    }
   },
   "outputs": [],
   "source": [
    "(* n = S n' の場合*)\n",
    "(* サブゴールを IHnの左項で書き換える。*)\n",
    "rewrite -> IHn."
   ]
  },
  {
   "cell_type": "code",
   "execution_count": null,
   "metadata": {
    "coq_kernel_metadata": {
     "auto_roll_back": true,
     "cell_id": "eec6c150d6a643ffb983b58ae501c763",
     "execution_id": "8d92cdb4cee24c4088306425a33d6e00"
    }
   },
   "outputs": [],
   "source": [
    "(* n = S n' の場合*)\n",
    "(* サブゴールに reflexivity が使える。*)\n",
    "reflexivity.\n",
    "(* n = S n' の場合、証明終わり。 *)"
   ]
  },
  {
   "cell_type": "code",
   "execution_count": null,
   "metadata": {
    "coq_kernel_metadata": {
     "auto_roll_back": true,
     "cell_id": "9e79a9a0925040609ed9642a72479cff",
     "execution_id": "4c33562124d04694ac1faa05a91d0135"
    }
   },
   "outputs": [],
   "source": [
    "Qed."
   ]
  },
  {
   "cell_type": "markdown",
   "metadata": {
    "coq_kernel_metadata": {
     "auto_roll_back": true
    }
   },
   "source": [
    "### [作業用ページに戻る](#ex36)"
   ]
  },
  {
   "cell_type": "markdown",
   "metadata": {
    "coq_kernel_metadata": {
     "auto_roll_back": true
    }
   },
   "source": [
    "<a id=\"ans37\"></a>\n",
    "## 演習問題 3-7  解答\n",
    "　<font size=\"4\">次の定理を証明せよ。</font>\n",
    " <font color=\"blue\"　size=\"4\"><br>　Theorem mul_succ_r : forall n m : nat,  n \\* S m = n \\* m + n  ).</font>\n",
    "\n",
    "## 解答\n",
    "### 下のCellを実行して確かめよ。\n",
    "#### <font color=\"red\">この証明では Coqライブラリーを利用していることに注意。</font>\n",
    "\n",
    "<a id=\"hint32\"></a>"
   ]
  },
  {
   "cell_type": "code",
   "execution_count": null,
   "metadata": {
    "coq_kernel_metadata": {
     "auto_roll_back": true,
     "cell_id": "4b437e653d9046c68f7a5478d2fc33df",
     "execution_id": "32a873d735934f9d8796101efd74d634"
    }
   },
   "outputs": [],
   "source": [
    "Require Import Arith. \n",
    "\n",
    "Theorem  mul_succ_r : ( forall n m : nat,  n * S m = n * m + n  ).\n",
    "Proof."
   ]
  },
  {
   "cell_type": "code",
   "execution_count": null,
   "metadata": {
    "coq_kernel_metadata": {
     "auto_roll_back": true,
     "cell_id": "d6feb4541c17426080c2501d44852cd7",
     "execution_id": "0a8754539f0941888331789b815df5f9"
    }
   },
   "outputs": [],
   "source": [
    "(* forall の削除*)\n",
    "intros."
   ]
  },
  {
   "cell_type": "code",
   "execution_count": null,
   "metadata": {
    "coq_kernel_metadata": {
     "auto_roll_back": true,
     "cell_id": "dd84b117a98145c69dd9780f671fcd1c",
     "execution_id": "cb1df99a7b3e4d5384426abe637ce7a1"
    }
   },
   "outputs": [],
   "source": [
    "(* n についての帰納法を使う *)\n",
    "induction n.\n",
    "(* n = 0 　の場合と、\n",
    "　　　　n = S n' の場合で、サブゴールが二つに分かれる。 *)"
   ]
  },
  {
   "cell_type": "code",
   "execution_count": null,
   "metadata": {
    "coq_kernel_metadata": {
     "auto_roll_back": true,
     "cell_id": "70e92e171f8c41e08c34c5ba419fd526",
     "execution_id": "dfb44cd3f04b4478b1d33338d527eea6"
    }
   },
   "outputs": [],
   "source": [
    "(* n = 0 の場合 *)\n",
    "(* サブゴールを簡単にする。 *)\n",
    "simpl."
   ]
  },
  {
   "cell_type": "code",
   "execution_count": null,
   "metadata": {
    "coq_kernel_metadata": {
     "auto_roll_back": true,
     "cell_id": "62eeca86ef2948df9016e912262bd1a9",
     "execution_id": "eb685d33336648e48d55537a7c074613"
    }
   },
   "outputs": [],
   "source": [
    "(* n = 0 の場合 *)\n",
    "(* サブゴールにreflexivity が使える。 *)\n",
    "reflexivity.\n",
    "(* n = 0 の場合、証明終わり。サブゴールは一つになる。\n",
    "　　　　n = S n' の場合の証明に移る。*)"
   ]
  },
  {
   "cell_type": "code",
   "execution_count": null,
   "metadata": {
    "coq_kernel_metadata": {
     "auto_roll_back": true,
     "cell_id": "0a3089cc074141bbbcd32e1f7c493c3b",
     "execution_id": "ec5e3f6710fb421582b6dc3d0e6bebbc"
    }
   },
   "outputs": [],
   "source": [
    "(*　n = S n' の場合 *)\n",
    "(* サブゴールを簡単にする。　*)\n",
    "simpl."
   ]
  },
  {
   "cell_type": "code",
   "execution_count": null,
   "metadata": {
    "coq_kernel_metadata": {
     "auto_roll_back": true,
     "cell_id": "58450d0fb0c345d9bc32c101d26f33fb",
     "execution_id": "9bcd8e488f894a26bd70d61b72442f88"
    },
    "scrolled": true
   },
   "outputs": [],
   "source": [
    "(*　n = S n' の場合 *)\n",
    "(* サブゴールを、IHnの左項で書き換える。　*)\n",
    "rewrite -> IHn."
   ]
  },
  {
   "cell_type": "code",
   "execution_count": null,
   "metadata": {
    "coq_kernel_metadata": {
     "auto_roll_back": true,
     "cell_id": "a31cf63312f1486d85fda5799a6baa6c",
     "execution_id": "f4e5762c27fe433795369d093b237a7e"
    },
    "scrolled": true
   },
   "outputs": [],
   "source": [
    "(*　n = S n' の場合 *)\n",
    "(* サブゴールを、Nat.add_succ_rの右項で書き換える。　*)\n",
    "(* Nat.add_succ_r\n",
    "     : forall n m : nat, n + S m = S (n + m)\n",
    "で、「演習問題　3-4」で証明した plus_n_Sm と同じものである。*)\n",
    "\n",
    "rewrite <- Nat.add_succ_r."
   ]
  },
  {
   "cell_type": "code",
   "execution_count": null,
   "metadata": {
    "coq_kernel_metadata": {
     "auto_roll_back": true,
     "cell_id": "e674472f69d24e0f89170ccd392d8711",
     "execution_id": "84c827fd7b32499b90a94950cb0c799d"
    },
    "scrolled": true
   },
   "outputs": [],
   "source": [
    "(*　n = S n' の場合 *)\n",
    "(* サブゴールを、再び、Nat.add_succ_rの右項で書き換える。　*)\n",
    "\n",
    "rewrite <- Nat.add_succ_r."
   ]
  },
  {
   "cell_type": "code",
   "execution_count": null,
   "metadata": {
    "coq_kernel_metadata": {
     "auto_roll_back": true,
     "cell_id": "20a1fc35fede441380bfce7d15a7254a",
     "execution_id": "1185bcc164624c1cb88c57218dfbb280"
    },
    "scrolled": true
   },
   "outputs": [],
   "source": [
    "(*　n = S n' の場合 *)\n",
    "(* サブゴールを、Nat.add_assocの左項で書き換える。　*)\n",
    "(* Nat.add_assoc\n",
    "     : forall n m p : nat, n + (m + p) = n + m + p\n",
    " で、「演習問題 3-6」　で証明した plus_assoc と同じものである。 *)\n",
    "\n",
    "rewrite -> Nat.add_assoc."
   ]
  },
  {
   "cell_type": "code",
   "execution_count": null,
   "metadata": {
    "coq_kernel_metadata": {
     "auto_roll_back": true,
     "cell_id": "1cb11007733342ec9ab285d707fa535a",
     "execution_id": "46c31a0236134dd4b73f5d6e57604da7"
    },
    "scrolled": true
   },
   "outputs": [],
   "source": [
    "(*　n = S n' の場合 *)\n",
    "(* サブゴールに reflexivity が使える。　*)\n",
    "reflexivity.\n",
    "(*　n = S n' の場合、証明終わり。 *)"
   ]
  },
  {
   "cell_type": "code",
   "execution_count": null,
   "metadata": {
    "coq_kernel_metadata": {
     "auto_roll_back": true,
     "cell_id": "33bc45b2eae1453e86948b3df7ef1a3d",
     "execution_id": "1b69247cdcc84d2f97de994b3ff38aae"
    }
   },
   "outputs": [],
   "source": [
    "Qed."
   ]
  },
  {
   "cell_type": "markdown",
   "metadata": {
    "coq_kernel_metadata": {
     "auto_roll_back": true
    }
   },
   "source": [
    "### [作業用ページに戻る](#ex37)"
   ]
  },
  {
   "cell_type": "markdown",
   "metadata": {
    "coq_kernel_metadata": {
     "auto_roll_back": true
    }
   },
   "source": [
    "<a id=\"ans38\"></a>\n",
    "## 演習問題 3-8  解答\n",
    "　<font size=\"4\">次の定理を証明せよ。</font>\n",
    " <font color=\"blue\"　size=\"4\"><br>　Theorem mult_comm : (forall n m : nat,  n \\* m = m \\* n ).</font>\n",
    "\n",
    "## 解答\n",
    "### 下のCellを実行して確かめよ。\n",
    "#### <font color=\"red\">この証明では Coqライブラリーを利用していることに注意。</font>\n",
    "\n",
    "<a id=\"hint38\"></a>"
   ]
  },
  {
   "cell_type": "code",
   "execution_count": null,
   "metadata": {
    "coq_kernel_metadata": {
     "auto_roll_back": true,
     "cell_id": "4cd2d13fd74748cb99d6c205bef512f1",
     "execution_id": "b67c68a0cd084f389e47a641048a2b26"
    }
   },
   "outputs": [],
   "source": [
    " Require Import Arith. \n",
    "\n",
    "Theorem  mult_comm' : (forall n m : nat,  n * m = m * n ).\n",
    "Proof."
   ]
  },
  {
   "cell_type": "code",
   "execution_count": null,
   "metadata": {
    "coq_kernel_metadata": {
     "auto_roll_back": true,
     "cell_id": "351bb12d49e84e1b850c10a7659e76b7",
     "execution_id": "78dc9948b4ef4a6786fb76262dbc2f13"
    }
   },
   "outputs": [],
   "source": [
    "(* forall の削除 *)\n",
    "intros."
   ]
  },
  {
   "cell_type": "code",
   "execution_count": null,
   "metadata": {
    "coq_kernel_metadata": {
     "auto_roll_back": true,
     "cell_id": "942c4aeecd5249ebaf9a07cdfd6b2354",
     "execution_id": "677fbb72472142dfada70ecd50d11353"
    }
   },
   "outputs": [],
   "source": [
    "(* n についての帰納法を使う *)\n",
    "induction n.\n",
    "(* n = 0 　の場合と、\n",
    "　　　　n = S n' の場合で、サブゴールが二つに分かれる。 *)"
   ]
  },
  {
   "cell_type": "code",
   "execution_count": null,
   "metadata": {
    "coq_kernel_metadata": {
     "auto_roll_back": true,
     "cell_id": "6db9bb0e46434ec3870f3aed01190bcd",
     "execution_id": "c901f579537c4da1b20baf56bbf48dc1"
    }
   },
   "outputs": [],
   "source": [
    "(* n = 0 の場合 *)\n",
    "(* サブゴールを簡単にする。 *)\n",
    "simpl."
   ]
  },
  {
   "cell_type": "code",
   "execution_count": null,
   "metadata": {
    "coq_kernel_metadata": {
     "auto_roll_back": true,
     "cell_id": "d7d7007e96e846949421510d7126fb74",
     "execution_id": "06640b48cf2a412a92af8939fdca5055"
    }
   },
   "outputs": [],
   "source": [
    "(* n = 0 の場合 *)\n",
    "(* サブゴールを、Nat.mul_0_r の左項で書き換える。 *)\n",
    "(* Nat.mul_0_r\n",
    "     : forall n : nat, n * 0 = 0\n",
    "で、「演習問題 3-3」で証明した　 mult_0_r と同じものである。*)\n",
    "\n",
    "rewrite -> Nat.mul_0_r."
   ]
  },
  {
   "cell_type": "code",
   "execution_count": null,
   "metadata": {
    "coq_kernel_metadata": {
     "auto_roll_back": true,
     "cell_id": "2ad263806ac9464380a85944d08adad1",
     "execution_id": "9083b61038aa4bb1895d724be49a7eab"
    }
   },
   "outputs": [],
   "source": [
    "(* n = 0 の場合 *)\n",
    "(* サブゴールにreflexivity が使える。 *)\n",
    "reflexivity.\n",
    "(* n = 0 の場合、証明終わり。サブゴールは一つになる。\n",
    "　　　　n = S n' の場合の証明に移る。*)"
   ]
  },
  {
   "cell_type": "code",
   "execution_count": null,
   "metadata": {
    "coq_kernel_metadata": {
     "auto_roll_back": true,
     "cell_id": "594fc35af8a24bd79f960775f8de5ec9",
     "execution_id": "5fdfb65c62484e888543b3563cd2b86d"
    }
   },
   "outputs": [],
   "source": [
    "(* n = S n' の場合 *)\n",
    "(* サブゴールを簡単にする。*)\n",
    "simpl."
   ]
  },
  {
   "cell_type": "code",
   "execution_count": null,
   "metadata": {
    "coq_kernel_metadata": {
     "auto_roll_back": true,
     "cell_id": "336c435bb9434e328915e30ac9e26adc",
     "execution_id": "d429c86ac8704f7f832c93732f4b49ff"
    }
   },
   "outputs": [],
   "source": [
    "(* n = S n' の場合 *)\n",
    "(* サブゴールを IHnの左項で書き換える。*)\n",
    "rewrite -> IHn."
   ]
  },
  {
   "cell_type": "code",
   "execution_count": null,
   "metadata": {
    "coq_kernel_metadata": {
     "auto_roll_back": true,
     "cell_id": "993d984b2c214a768f4fb5cef167a365",
     "execution_id": "95b942e7027148388258cf4da536fdfd"
    }
   },
   "outputs": [],
   "source": [
    "(* n = S n' の場合 *)\n",
    "(* サブゴールを Nat.mul_succ_r の左項で書き換える。*)\n",
    "(* Nat.add_succ_r\n",
    "     : forall n m : nat, n + S m = S (n + m)\n",
    "で、「演習問題　3-4」で証明した plus_n_Sm と同じものである。*)\n",
    "\n",
    "rewrite -> Nat.mul_succ_r."
   ]
  },
  {
   "cell_type": "code",
   "execution_count": null,
   "metadata": {
    "coq_kernel_metadata": {
     "auto_roll_back": true,
     "cell_id": "4aa88750f97b49a1874053000861dcb6",
     "execution_id": "134e349a8c6c4b18bf9a27f210ecac35"
    }
   },
   "outputs": [],
   "source": [
    "(* n = S n' の場合 *)\n",
    "(* Nat.add_comm.（加法の可換律）を適用する。*)\n",
    "(* Nat.add_comm\n",
    "     : forall n m : nat, n + m = m + n\n",
    " で、「演習問題 3-5」で証明した plus_comm と同じである。*)\n",
    " \n",
    "apply Nat.add_comm.\n",
    "(* n = S n' の場合、証明終わり。 *)"
   ]
  },
  {
   "cell_type": "code",
   "execution_count": null,
   "metadata": {
    "coq_kernel_metadata": {
     "auto_roll_back": true,
     "cell_id": "d0f409857c3e4c4a9a6ad180bb8343f9",
     "execution_id": "9d988f4f71ec414eb886ad7b00b02e89"
    }
   },
   "outputs": [],
   "source": [
    "Qed."
   ]
  },
  {
   "cell_type": "markdown",
   "metadata": {
    "coq_kernel_metadata": {
     "auto_roll_back": true
    }
   },
   "source": [
    "### [作業用ページに戻る](#ex38)"
   ]
  },
  {
   "cell_type": "code",
   "execution_count": null,
   "metadata": {
    "coq_kernel_metadata": {
     "auto_roll_back": true
    }
   },
   "outputs": [],
   "source": []
  }
 ],
 "metadata": {
  "kernelspec": {
   "display_name": "Coq",
   "language": "coq",
   "name": "coq"
  },
  "language_info": {
   "file_extension": ".v",
   "mimetype": "text/x-coq",
   "name": "coq",
   "version": "8.9.1"
  }
 },
 "nbformat": 4,
 "nbformat_minor": 2
}
