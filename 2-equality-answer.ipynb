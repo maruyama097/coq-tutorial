{
 "cells": [
  {
   "cell_type": "markdown",
   "metadata": {
    "coq_kernel_metadata": {
     "auto_roll_back": true
    }
   },
   "source": [
    "# 演習問題 2  作業用ページ\n",
    "\n",
    "[演習問題 2-1](#ex21) [演習問題 2-2](#ex22) [演習問題 2-3](#ex23) [演習問題 2-4](#ex24) [演習問題 2-5](#ex25) [演習問題 2-6](#ex26) [演習問題 2-7](#ex27) "
   ]
  },
  {
   "cell_type": "markdown",
   "metadata": {
    "coq_kernel_metadata": {
     "auto_roll_back": true
    }
   },
   "source": [
    "<a id=\"ex21\"></a>\n",
    "## 演習問題 2-1  作業用\n",
    "　<font size=\"4\">次の定理を証明せよ。</font>\n",
    " <font color=\"blue\"　size=\"4\"><br>　Theorem plus_O_n : (forall n : nat , 0+n = n ).</font>\n",
    "\n",
    "### ヒント\n",
    "- 冒頭の forall を intros で削除する。\n",
    "- A -> A の最初のAを intros で仮説に入れる。\n",
    "- そうすると、サブゴールが仮説の一つと一致していることがわかるので、assumption  または、exact  を使う。\n",
    "\n",
    "###  [解答を見る](#ans21) "
   ]
  },
  {
   "cell_type": "code",
   "execution_count": 1,
   "metadata": {
    "coq_kernel_metadata": {
     "auto_roll_back": true,
     "cell_id": "e775a659cfa04835bf66c442f445ec0c",
     "evaluated": true,
     "execution_id": "e9a9b20cc5f84d969ba7cbfef57b2090",
     "rolled_back": false
    },
    "scrolled": true
   },
   "outputs": [
    {
     "data": {
      "text/html": [
       "\n",
       "<div class=\"coq_kernel_output_area\">\n",
       "    <pre>Proving: plus_O_n\n",
       "\n",
       "1 subgoal\n",
       "\n",
       "1/1 -----------\n",
       "forall n : nat, 0 + n = n</pre>\n",
       "</div>\n",
       "\n",
       "<div class=\"coq_kernel_rich_cell_output coq_kernel_status_message_area\" style=\"padding: 5px 0px;\">\n",
       "    <i class=\"fa-check fa text-success\"></i>\n",
       "    <span>Cell evaluated.</span>\n",
       "</div>\n",
       "\n",
       "<div class=\"coq_kernel_rich_cell_output coq_kernel_status_message_area coq_kernel_rolled_back_status_message\" style=\"padding: 5px 0px; display: none;\">\n",
       "    <i class=\"fa-exclamation-circle fa text-info\"></i>\n",
       "    <span>Cell rolled back.</span>\n",
       "</div>\n",
       "\n",
       "<div class=\"coq_kernel_rich_cell_output coq_kernel_roll_back_controls_area\" style=\"display: none; position: relative;\">\n",
       "    <button class=\"btn btn-default btn-xs coq_kernel_roll_back_button\" onclick=\"CoqKernel.roll_back(this)\">\n",
       "        <i class=\"fa-step-backward fa\"></i>\n",
       "        <span class=\"toolbar-btn-label\">Rollback cell</span>\n",
       "    </button>\n",
       "\n",
       "    <div style=\"display: inline-block; vertical-align: middle; padding-left: 0; padding-right: 0;\">\n",
       "      <input class=\"coq_kernel_auto_roll_back_checkbox\" type=\"checkbox\" value=\"\" onchange=\"CoqKernel.toggle_auto_roll_back(this)\" checked>\n",
       "      <label\">Auto rollback</label>\n",
       "    </div>\n",
       "</div>\n"
      ],
      "text/plain": [
       "Proving: plus_O_n\n",
       "\n",
       "1 subgoal\n",
       "\n",
       "1/1 -----------\n",
       "forall n : nat, 0 + n = n"
      ]
     },
     "execution_count": 3,
     "metadata": {
      "coq_kernel_evaluated": true,
      "coq_kernel_execution_id": "e9a9b20cc5f84d969ba7cbfef57b2090",
      "coq_kernel_rolled_back": false
     },
     "output_type": "execute_result"
    }
   ],
   "source": [
    "Theorem plus_O_n : (forall n : nat , 0+n = n ).\n",
    "Proof."
   ]
  },
  {
   "cell_type": "code",
   "execution_count": null,
   "metadata": {
    "coq_kernel_metadata": {
     "auto_roll_back": true
    }
   },
   "outputs": [],
   "source": []
  },
  {
   "cell_type": "code",
   "execution_count": null,
   "metadata": {
    "coq_kernel_metadata": {
     "auto_roll_back": true
    }
   },
   "outputs": [],
   "source": []
  },
  {
   "cell_type": "code",
   "execution_count": null,
   "metadata": {
    "coq_kernel_metadata": {
     "auto_roll_back": true
    }
   },
   "outputs": [],
   "source": []
  },
  {
   "cell_type": "code",
   "execution_count": null,
   "metadata": {
    "coq_kernel_metadata": {
     "auto_roll_back": true
    }
   },
   "outputs": [],
   "source": []
  },
  {
   "cell_type": "code",
   "execution_count": null,
   "metadata": {
    "coq_kernel_metadata": {
     "auto_roll_back": true
    }
   },
   "outputs": [],
   "source": []
  },
  {
   "cell_type": "code",
   "execution_count": 3,
   "metadata": {
    "coq_kernel_metadata": {
     "auto_roll_back": true,
     "cell_id": "e15feb280cb7420a8346fc5349614e6f",
     "evaluated": true,
     "execution_id": "6ac4e424bd4047fa8c103a1e4f2a478a",
     "rolled_back": false
    }
   },
   "outputs": [
    {
     "data": {
      "text/html": [
       "\n",
       "<div class=\"coq_kernel_output_area\">\n",
       "    <pre></pre>\n",
       "</div>\n",
       "\n",
       "<div class=\"coq_kernel_rich_cell_output coq_kernel_status_message_area\" style=\"padding: 5px 0px;\">\n",
       "    <i class=\"fa-check fa text-success\"></i>\n",
       "    <span>Cell evaluated.</span>\n",
       "</div>\n",
       "\n",
       "<div class=\"coq_kernel_rich_cell_output coq_kernel_status_message_area coq_kernel_rolled_back_status_message\" style=\"padding: 5px 0px; display: none;\">\n",
       "    <i class=\"fa-exclamation-circle fa text-info\"></i>\n",
       "    <span>Cell rolled back.</span>\n",
       "</div>\n",
       "\n",
       "<div class=\"coq_kernel_rich_cell_output coq_kernel_roll_back_controls_area\" style=\"display: none; position: relative;\">\n",
       "    <button class=\"btn btn-default btn-xs coq_kernel_roll_back_button\" onclick=\"CoqKernel.roll_back(this)\">\n",
       "        <i class=\"fa-step-backward fa\"></i>\n",
       "        <span class=\"toolbar-btn-label\">Rollback cell</span>\n",
       "    </button>\n",
       "\n",
       "    <div style=\"display: inline-block; vertical-align: middle; padding-left: 0; padding-right: 0;\">\n",
       "      <input class=\"coq_kernel_auto_roll_back_checkbox\" type=\"checkbox\" value=\"\" onchange=\"CoqKernel.toggle_auto_roll_back(this)\" checked>\n",
       "      <label\">Auto rollback</label>\n",
       "    </div>\n",
       "</div>\n"
      ],
      "text/plain": []
     },
     "execution_count": 4,
     "metadata": {
      "coq_kernel_evaluated": true,
      "coq_kernel_execution_id": "6ac4e424bd4047fa8c103a1e4f2a478a",
      "coq_kernel_rolled_back": false
     },
     "output_type": "execute_result"
    }
   ],
   "source": [
    "Admitted. (* 最後にここを Qed. に変える。*)"
   ]
  },
  {
   "cell_type": "markdown",
   "metadata": {
    "coq_kernel_metadata": {
     "auto_roll_back": true
    }
   },
   "source": [
    "<a id=\"ex22\"></a>\n",
    "## 演習問題 2-2  作業用\n",
    "　<font size=\"4\">次の定理を証明せよ。</font>\n",
    " <font color=\"blue\"　size=\"4\"><br> Theorem plus_1_n : (forall n : nat , 1+n = S n ).</font>\n",
    "\n",
    "### ヒント\n",
    "- intros で forall を削除する。\n",
    "- simpl. で、サブゴールの計算式を簡単にする。\n",
    "- 左項と右項が等しかったら reflexivity を使う。\n",
    "\n",
    "###  [解答を見る](#ans22) "
   ]
  },
  {
   "cell_type": "code",
   "execution_count": 4,
   "metadata": {
    "coq_kernel_metadata": {
     "auto_roll_back": true,
     "cell_id": "a49a338894a245528a45765a2551538c",
     "evaluated": true,
     "execution_id": "c766a92e1232401c85db3be9e5f0ad36",
     "rolled_back": false
    }
   },
   "outputs": [
    {
     "data": {
      "text/html": [
       "\n",
       "<div class=\"coq_kernel_output_area\">\n",
       "    <pre>Proving: plus_1_n\n",
       "\n",
       "1 subgoal\n",
       "\n",
       "1/1 -----------\n",
       "forall n : nat, 1 + n = S n</pre>\n",
       "</div>\n",
       "\n",
       "<div class=\"coq_kernel_rich_cell_output coq_kernel_status_message_area\" style=\"padding: 5px 0px;\">\n",
       "    <i class=\"fa-check fa text-success\"></i>\n",
       "    <span>Cell evaluated.</span>\n",
       "</div>\n",
       "\n",
       "<div class=\"coq_kernel_rich_cell_output coq_kernel_status_message_area coq_kernel_rolled_back_status_message\" style=\"padding: 5px 0px; display: none;\">\n",
       "    <i class=\"fa-exclamation-circle fa text-info\"></i>\n",
       "    <span>Cell rolled back.</span>\n",
       "</div>\n",
       "\n",
       "<div class=\"coq_kernel_rich_cell_output coq_kernel_roll_back_controls_area\" style=\"display: none; position: relative;\">\n",
       "    <button class=\"btn btn-default btn-xs coq_kernel_roll_back_button\" onclick=\"CoqKernel.roll_back(this)\">\n",
       "        <i class=\"fa-step-backward fa\"></i>\n",
       "        <span class=\"toolbar-btn-label\">Rollback cell</span>\n",
       "    </button>\n",
       "\n",
       "    <div style=\"display: inline-block; vertical-align: middle; padding-left: 0; padding-right: 0;\">\n",
       "      <input class=\"coq_kernel_auto_roll_back_checkbox\" type=\"checkbox\" value=\"\" onchange=\"CoqKernel.toggle_auto_roll_back(this)\" checked>\n",
       "      <label\">Auto rollback</label>\n",
       "    </div>\n",
       "</div>\n"
      ],
      "text/plain": [
       "Proving: plus_1_n\n",
       "\n",
       "1 subgoal\n",
       "\n",
       "1/1 -----------\n",
       "forall n : nat, 1 + n = S n"
      ]
     },
     "execution_count": 6,
     "metadata": {
      "coq_kernel_evaluated": true,
      "coq_kernel_execution_id": "c766a92e1232401c85db3be9e5f0ad36",
      "coq_kernel_rolled_back": false
     },
     "output_type": "execute_result"
    }
   ],
   "source": [
    "Theorem plus_1_n : (forall n : nat , 1+n = S n ).\n",
    "Proof."
   ]
  },
  {
   "cell_type": "code",
   "execution_count": null,
   "metadata": {
    "coq_kernel_metadata": {
     "auto_roll_back": true
    }
   },
   "outputs": [],
   "source": []
  },
  {
   "cell_type": "code",
   "execution_count": null,
   "metadata": {
    "coq_kernel_metadata": {
     "auto_roll_back": true
    }
   },
   "outputs": [],
   "source": []
  },
  {
   "cell_type": "code",
   "execution_count": null,
   "metadata": {
    "coq_kernel_metadata": {
     "auto_roll_back": true
    }
   },
   "outputs": [],
   "source": []
  },
  {
   "cell_type": "code",
   "execution_count": null,
   "metadata": {
    "coq_kernel_metadata": {
     "auto_roll_back": true
    }
   },
   "outputs": [],
   "source": []
  },
  {
   "cell_type": "code",
   "execution_count": null,
   "metadata": {
    "coq_kernel_metadata": {
     "auto_roll_back": true
    }
   },
   "outputs": [],
   "source": []
  },
  {
   "cell_type": "code",
   "execution_count": null,
   "metadata": {
    "coq_kernel_metadata": {
     "auto_roll_back": true
    }
   },
   "outputs": [],
   "source": []
  },
  {
   "cell_type": "code",
   "execution_count": null,
   "metadata": {
    "coq_kernel_metadata": {
     "auto_roll_back": true
    }
   },
   "outputs": [],
   "source": []
  },
  {
   "cell_type": "code",
   "execution_count": 6,
   "metadata": {
    "coq_kernel_metadata": {
     "auto_roll_back": true,
     "cell_id": "fcc345c843024cafb05c8194a3c2b391",
     "evaluated": true,
     "execution_id": "f7dcb70e076f4a0c85986a3d73179c48",
     "rolled_back": false
    }
   },
   "outputs": [
    {
     "data": {
      "text/html": [
       "\n",
       "<div class=\"coq_kernel_output_area\">\n",
       "    <pre></pre>\n",
       "</div>\n",
       "\n",
       "<div class=\"coq_kernel_rich_cell_output coq_kernel_status_message_area\" style=\"padding: 5px 0px;\">\n",
       "    <i class=\"fa-check fa text-success\"></i>\n",
       "    <span>Cell evaluated.</span>\n",
       "</div>\n",
       "\n",
       "<div class=\"coq_kernel_rich_cell_output coq_kernel_status_message_area coq_kernel_rolled_back_status_message\" style=\"padding: 5px 0px; display: none;\">\n",
       "    <i class=\"fa-exclamation-circle fa text-info\"></i>\n",
       "    <span>Cell rolled back.</span>\n",
       "</div>\n",
       "\n",
       "<div class=\"coq_kernel_rich_cell_output coq_kernel_roll_back_controls_area\" style=\"display: none; position: relative;\">\n",
       "    <button class=\"btn btn-default btn-xs coq_kernel_roll_back_button\" onclick=\"CoqKernel.roll_back(this)\">\n",
       "        <i class=\"fa-step-backward fa\"></i>\n",
       "        <span class=\"toolbar-btn-label\">Rollback cell</span>\n",
       "    </button>\n",
       "\n",
       "    <div style=\"display: inline-block; vertical-align: middle; padding-left: 0; padding-right: 0;\">\n",
       "      <input class=\"coq_kernel_auto_roll_back_checkbox\" type=\"checkbox\" value=\"\" onchange=\"CoqKernel.toggle_auto_roll_back(this)\" checked>\n",
       "      <label\">Auto rollback</label>\n",
       "    </div>\n",
       "</div>\n"
      ],
      "text/plain": []
     },
     "execution_count": 7,
     "metadata": {
      "coq_kernel_evaluated": true,
      "coq_kernel_execution_id": "f7dcb70e076f4a0c85986a3d73179c48",
      "coq_kernel_rolled_back": false
     },
     "output_type": "execute_result"
    }
   ],
   "source": [
    "Admitted. (* 最後にここを Qed. に変える。*)"
   ]
  },
  {
   "cell_type": "markdown",
   "metadata": {
    "coq_kernel_metadata": {
     "auto_roll_back": true
    }
   },
   "source": [
    "<a id=\"ex23\"></a>\n",
    "## 演習問題 2-3  作業用\n",
    "　<font size=\"4\">次の定理を証明せよ。</font>\n",
    " <font color=\"blue\"　size=\"4\"><br> Theorem mult_0_n : (forall n : nat , 0 * n =  0 ).</font>\n",
    "\n",
    "### ヒント\n",
    "- intros で forall を削除する。\n",
    "- simpl. で、サブゴールの計算式を簡単にする。\n",
    "- 左項と右項が等しかったら reflexivity を使う。\n",
    "\n",
    "###  [解答を見る](#ans23) "
   ]
  },
  {
   "cell_type": "markdown",
   "metadata": {
    "coq_kernel_metadata": {
     "auto_roll_back": true
    }
   },
   "source": [
    "<a id=\"ex24\"></a>\n",
    "## 演習問題 2-4  作業用\n",
    "　<font size=\"4\">次の定理を証明せよ。</font>\n",
    " <font color=\"blue\"　size=\"4\"><br> Theorem plus_id_nm : (forall n m : nat , n = m -> n+n = m + m ).</font>\n",
    "\n",
    "### ヒント\n",
    "- intros で forall を消す。\n",
    "- サブゴールの前提部分を intros で仮定に移す。\n",
    "- サブゴールの左項を、等式Hを使って rewriite で書き換える。\n",
    "- サブゴールの左項と右項が等しいので、reflexivity を使う。\n",
    "\n",
    "###  [解答を見る](#ans24) "
   ]
  },
  {
   "cell_type": "code",
   "execution_count": 7,
   "metadata": {
    "coq_kernel_metadata": {
     "auto_roll_back": true,
     "cell_id": "20221b4768ea40769efd799bb13ef79f",
     "evaluated": true,
     "execution_id": "2a13fb16d08345ca962ad7f7448b392b",
     "rolled_back": false
    }
   },
   "outputs": [
    {
     "data": {
      "text/html": [
       "\n",
       "<div class=\"coq_kernel_output_area\">\n",
       "    <pre>Proving: plus_id_nm\n",
       "\n",
       "1 subgoal\n",
       "\n",
       "1/1 -----------\n",
       "forall n m : nat, n = m -> n + n = m + m</pre>\n",
       "</div>\n",
       "\n",
       "<div class=\"coq_kernel_rich_cell_output coq_kernel_status_message_area\" style=\"padding: 5px 0px;\">\n",
       "    <i class=\"fa-check fa text-success\"></i>\n",
       "    <span>Cell evaluated.</span>\n",
       "</div>\n",
       "\n",
       "<div class=\"coq_kernel_rich_cell_output coq_kernel_status_message_area coq_kernel_rolled_back_status_message\" style=\"padding: 5px 0px; display: none;\">\n",
       "    <i class=\"fa-exclamation-circle fa text-info\"></i>\n",
       "    <span>Cell rolled back.</span>\n",
       "</div>\n",
       "\n",
       "<div class=\"coq_kernel_rich_cell_output coq_kernel_roll_back_controls_area\" style=\"display: none; position: relative;\">\n",
       "    <button class=\"btn btn-default btn-xs coq_kernel_roll_back_button\" onclick=\"CoqKernel.roll_back(this)\">\n",
       "        <i class=\"fa-step-backward fa\"></i>\n",
       "        <span class=\"toolbar-btn-label\">Rollback cell</span>\n",
       "    </button>\n",
       "\n",
       "    <div style=\"display: inline-block; vertical-align: middle; padding-left: 0; padding-right: 0;\">\n",
       "      <input class=\"coq_kernel_auto_roll_back_checkbox\" type=\"checkbox\" value=\"\" onchange=\"CoqKernel.toggle_auto_roll_back(this)\" checked>\n",
       "      <label\">Auto rollback</label>\n",
       "    </div>\n",
       "</div>\n"
      ],
      "text/plain": [
       "Proving: plus_id_nm\n",
       "\n",
       "1 subgoal\n",
       "\n",
       "1/1 -----------\n",
       "forall n m : nat, n = m -> n + n = m + m"
      ]
     },
     "execution_count": 9,
     "metadata": {
      "coq_kernel_evaluated": true,
      "coq_kernel_execution_id": "2a13fb16d08345ca962ad7f7448b392b",
      "coq_kernel_rolled_back": false
     },
     "output_type": "execute_result"
    }
   ],
   "source": [
    "Theorem plus_id_nm : (forall n m : nat , n = m -> n+n = m + m ).\n",
    "Proof."
   ]
  },
  {
   "cell_type": "code",
   "execution_count": null,
   "metadata": {
    "coq_kernel_metadata": {
     "auto_roll_back": true
    }
   },
   "outputs": [],
   "source": []
  },
  {
   "cell_type": "code",
   "execution_count": null,
   "metadata": {
    "coq_kernel_metadata": {
     "auto_roll_back": true
    }
   },
   "outputs": [],
   "source": []
  },
  {
   "cell_type": "code",
   "execution_count": null,
   "metadata": {
    "coq_kernel_metadata": {
     "auto_roll_back": true
    }
   },
   "outputs": [],
   "source": []
  },
  {
   "cell_type": "code",
   "execution_count": null,
   "metadata": {
    "coq_kernel_metadata": {
     "auto_roll_back": true
    }
   },
   "outputs": [],
   "source": []
  },
  {
   "cell_type": "code",
   "execution_count": null,
   "metadata": {
    "coq_kernel_metadata": {
     "auto_roll_back": true
    }
   },
   "outputs": [],
   "source": []
  },
  {
   "cell_type": "code",
   "execution_count": 9,
   "metadata": {
    "coq_kernel_metadata": {
     "auto_roll_back": true,
     "cell_id": "b52af7dea28743318cea76d06bbac995",
     "evaluated": true,
     "execution_id": "c50f6cbf24b1422db51564b094f338b7",
     "rolled_back": false
    }
   },
   "outputs": [
    {
     "data": {
      "text/html": [
       "\n",
       "<div class=\"coq_kernel_output_area\">\n",
       "    <pre></pre>\n",
       "</div>\n",
       "\n",
       "<div class=\"coq_kernel_rich_cell_output coq_kernel_status_message_area\" style=\"padding: 5px 0px;\">\n",
       "    <i class=\"fa-check fa text-success\"></i>\n",
       "    <span>Cell evaluated.</span>\n",
       "</div>\n",
       "\n",
       "<div class=\"coq_kernel_rich_cell_output coq_kernel_status_message_area coq_kernel_rolled_back_status_message\" style=\"padding: 5px 0px; display: none;\">\n",
       "    <i class=\"fa-exclamation-circle fa text-info\"></i>\n",
       "    <span>Cell rolled back.</span>\n",
       "</div>\n",
       "\n",
       "<div class=\"coq_kernel_rich_cell_output coq_kernel_roll_back_controls_area\" style=\"display: none; position: relative;\">\n",
       "    <button class=\"btn btn-default btn-xs coq_kernel_roll_back_button\" onclick=\"CoqKernel.roll_back(this)\">\n",
       "        <i class=\"fa-step-backward fa\"></i>\n",
       "        <span class=\"toolbar-btn-label\">Rollback cell</span>\n",
       "    </button>\n",
       "\n",
       "    <div style=\"display: inline-block; vertical-align: middle; padding-left: 0; padding-right: 0;\">\n",
       "      <input class=\"coq_kernel_auto_roll_back_checkbox\" type=\"checkbox\" value=\"\" onchange=\"CoqKernel.toggle_auto_roll_back(this)\" checked>\n",
       "      <label\">Auto rollback</label>\n",
       "    </div>\n",
       "</div>\n"
      ],
      "text/plain": []
     },
     "execution_count": 10,
     "metadata": {
      "coq_kernel_evaluated": true,
      "coq_kernel_execution_id": "c50f6cbf24b1422db51564b094f338b7",
      "coq_kernel_rolled_back": false
     },
     "output_type": "execute_result"
    }
   ],
   "source": [
    "Admitted. (* 最後にここを Qed. に変える。*)"
   ]
  },
  {
   "cell_type": "markdown",
   "metadata": {
    "coq_kernel_metadata": {
     "auto_roll_back": true
    }
   },
   "source": [
    "<a id=\"ex25\"></a>\n",
    "## 演習問題 2-5  作業用\n",
    "　<font size=\"4\">次の定理を証明せよ。</font>\n",
    "  <font color=\"blue\"　size=\"4\"><br> Theorem plus_id : (forall n m o : nat , n = m -> m = o -> n + m = m + o ).</font>\n",
    "\n",
    "### ヒント\n",
    "- intros で forall を削除 \n",
    "- intoros で、前提部分を仮説に移す。\n",
    "- 等式　n_eq_m　の左辺 を使って、rewriteでサブゴールを書き換える。\n",
    "- 等式　m_eq_o の右辺を使って、rewriteでサブゴールのを書き換える。\n",
    "- サブゴールの等式の左辺と右辺が等しくなるので reflexivity を使う。\n",
    "\n",
    "###  [解答を見る](#ans25) "
   ]
  },
  {
   "cell_type": "code",
   "execution_count": 10,
   "metadata": {
    "coq_kernel_metadata": {
     "auto_roll_back": true,
     "cell_id": "95c24c33ca3246e98415b2a345ed3566",
     "evaluated": true,
     "execution_id": "dc98cad993a54371ac28c68d70ef75e9",
     "rolled_back": false
    }
   },
   "outputs": [
    {
     "data": {
      "text/html": [
       "\n",
       "<div class=\"coq_kernel_output_area\">\n",
       "    <pre>Proving: plus_id\n",
       "\n",
       "1 subgoal\n",
       "\n",
       "1/1 -----------\n",
       "forall n m o : nat, n = m -> m = o -> n + m = m + o</pre>\n",
       "</div>\n",
       "\n",
       "<div class=\"coq_kernel_rich_cell_output coq_kernel_status_message_area\" style=\"padding: 5px 0px;\">\n",
       "    <i class=\"fa-check fa text-success\"></i>\n",
       "    <span>Cell evaluated.</span>\n",
       "</div>\n",
       "\n",
       "<div class=\"coq_kernel_rich_cell_output coq_kernel_status_message_area coq_kernel_rolled_back_status_message\" style=\"padding: 5px 0px; display: none;\">\n",
       "    <i class=\"fa-exclamation-circle fa text-info\"></i>\n",
       "    <span>Cell rolled back.</span>\n",
       "</div>\n",
       "\n",
       "<div class=\"coq_kernel_rich_cell_output coq_kernel_roll_back_controls_area\" style=\"display: none; position: relative;\">\n",
       "    <button class=\"btn btn-default btn-xs coq_kernel_roll_back_button\" onclick=\"CoqKernel.roll_back(this)\">\n",
       "        <i class=\"fa-step-backward fa\"></i>\n",
       "        <span class=\"toolbar-btn-label\">Rollback cell</span>\n",
       "    </button>\n",
       "\n",
       "    <div style=\"display: inline-block; vertical-align: middle; padding-left: 0; padding-right: 0;\">\n",
       "      <input class=\"coq_kernel_auto_roll_back_checkbox\" type=\"checkbox\" value=\"\" onchange=\"CoqKernel.toggle_auto_roll_back(this)\" checked>\n",
       "      <label\">Auto rollback</label>\n",
       "    </div>\n",
       "</div>\n"
      ],
      "text/plain": [
       "Proving: plus_id\n",
       "\n",
       "1 subgoal\n",
       "\n",
       "1/1 -----------\n",
       "forall n m o : nat, n = m -> m = o -> n + m = m + o"
      ]
     },
     "execution_count": 12,
     "metadata": {
      "coq_kernel_evaluated": true,
      "coq_kernel_execution_id": "dc98cad993a54371ac28c68d70ef75e9",
      "coq_kernel_rolled_back": false
     },
     "output_type": "execute_result"
    }
   ],
   "source": [
    "Theorem plus_id : (forall n m o : nat , n = m -> m = o -> n + m = m + o ).\n",
    "Proof."
   ]
  },
  {
   "cell_type": "code",
   "execution_count": null,
   "metadata": {
    "coq_kernel_metadata": {
     "auto_roll_back": true
    }
   },
   "outputs": [],
   "source": []
  },
  {
   "cell_type": "code",
   "execution_count": null,
   "metadata": {
    "coq_kernel_metadata": {
     "auto_roll_back": true
    }
   },
   "outputs": [],
   "source": []
  },
  {
   "cell_type": "code",
   "execution_count": null,
   "metadata": {
    "coq_kernel_metadata": {
     "auto_roll_back": true
    }
   },
   "outputs": [],
   "source": []
  },
  {
   "cell_type": "code",
   "execution_count": null,
   "metadata": {
    "coq_kernel_metadata": {
     "auto_roll_back": true
    }
   },
   "outputs": [],
   "source": []
  },
  {
   "cell_type": "code",
   "execution_count": null,
   "metadata": {
    "coq_kernel_metadata": {
     "auto_roll_back": true
    }
   },
   "outputs": [],
   "source": []
  },
  {
   "cell_type": "code",
   "execution_count": null,
   "metadata": {
    "coq_kernel_metadata": {
     "auto_roll_back": true
    }
   },
   "outputs": [],
   "source": []
  },
  {
   "cell_type": "code",
   "execution_count": null,
   "metadata": {
    "coq_kernel_metadata": {
     "auto_roll_back": true
    }
   },
   "outputs": [],
   "source": []
  },
  {
   "cell_type": "code",
   "execution_count": null,
   "metadata": {
    "coq_kernel_metadata": {
     "auto_roll_back": true
    }
   },
   "outputs": [],
   "source": []
  },
  {
   "cell_type": "code",
   "execution_count": null,
   "metadata": {
    "coq_kernel_metadata": {
     "auto_roll_back": true
    }
   },
   "outputs": [],
   "source": []
  },
  {
   "cell_type": "code",
   "execution_count": 12,
   "metadata": {
    "coq_kernel_metadata": {
     "auto_roll_back": true,
     "cell_id": "3756bbe27fca446c86db798d4c704bc4",
     "evaluated": true,
     "execution_id": "e52baf520cc0468081af006f46982509",
     "rolled_back": false
    }
   },
   "outputs": [
    {
     "data": {
      "text/html": [
       "\n",
       "<div class=\"coq_kernel_output_area\">\n",
       "    <pre></pre>\n",
       "</div>\n",
       "\n",
       "<div class=\"coq_kernel_rich_cell_output coq_kernel_status_message_area\" style=\"padding: 5px 0px;\">\n",
       "    <i class=\"fa-check fa text-success\"></i>\n",
       "    <span>Cell evaluated.</span>\n",
       "</div>\n",
       "\n",
       "<div class=\"coq_kernel_rich_cell_output coq_kernel_status_message_area coq_kernel_rolled_back_status_message\" style=\"padding: 5px 0px; display: none;\">\n",
       "    <i class=\"fa-exclamation-circle fa text-info\"></i>\n",
       "    <span>Cell rolled back.</span>\n",
       "</div>\n",
       "\n",
       "<div class=\"coq_kernel_rich_cell_output coq_kernel_roll_back_controls_area\" style=\"display: none; position: relative;\">\n",
       "    <button class=\"btn btn-default btn-xs coq_kernel_roll_back_button\" onclick=\"CoqKernel.roll_back(this)\">\n",
       "        <i class=\"fa-step-backward fa\"></i>\n",
       "        <span class=\"toolbar-btn-label\">Rollback cell</span>\n",
       "    </button>\n",
       "\n",
       "    <div style=\"display: inline-block; vertical-align: middle; padding-left: 0; padding-right: 0;\">\n",
       "      <input class=\"coq_kernel_auto_roll_back_checkbox\" type=\"checkbox\" value=\"\" onchange=\"CoqKernel.toggle_auto_roll_back(this)\" checked>\n",
       "      <label\">Auto rollback</label>\n",
       "    </div>\n",
       "</div>\n"
      ],
      "text/plain": []
     },
     "execution_count": 13,
     "metadata": {
      "coq_kernel_evaluated": true,
      "coq_kernel_execution_id": "e52baf520cc0468081af006f46982509",
      "coq_kernel_rolled_back": false
     },
     "output_type": "execute_result"
    }
   ],
   "source": [
    "Admitted. (* 最後にここを Qed. に変える。*)"
   ]
  },
  {
   "cell_type": "markdown",
   "metadata": {
    "coq_kernel_metadata": {
     "auto_roll_back": true
    }
   },
   "source": [
    "<a id=\"ex26\"></a>\n",
    "## 演習問題 2-6  作業用\n",
    "　<font size=\"4\">次の定理を証明せよ。</font>\n",
    " <font color=\"blue\"　size=\"4\"><br> Theorem mult_0_plus : (forall n m : nat , ( 0 + n ) \\* m =  n \\* m ).</font>\n",
    "\n",
    "### ヒント\n",
    "- intros で forall を消す。\n",
    "- simpl.　で、サブゴール中の計算式を簡単なものにする。\n",
    "- 左辺と右辺が等しいので、reflexivity を使う。\n",
    "\n",
    "###  [解答を見る](#ans26) "
   ]
  },
  {
   "cell_type": "code",
   "execution_count": 13,
   "metadata": {
    "coq_kernel_metadata": {
     "auto_roll_back": true,
     "cell_id": "2419cec3f56c47f386793223f917c8e4",
     "evaluated": true,
     "execution_id": "3d6c996c570f48e6b346325c86e6f895",
     "rolled_back": false
    }
   },
   "outputs": [
    {
     "data": {
      "text/html": [
       "\n",
       "<div class=\"coq_kernel_output_area\">\n",
       "    <pre>Proving: mult_0_plus\n",
       "\n",
       "1 subgoal\n",
       "\n",
       "1/1 -----------\n",
       "forall n m : nat, (0 + n) * m = n * m</pre>\n",
       "</div>\n",
       "\n",
       "<div class=\"coq_kernel_rich_cell_output coq_kernel_status_message_area\" style=\"padding: 5px 0px;\">\n",
       "    <i class=\"fa-check fa text-success\"></i>\n",
       "    <span>Cell evaluated.</span>\n",
       "</div>\n",
       "\n",
       "<div class=\"coq_kernel_rich_cell_output coq_kernel_status_message_area coq_kernel_rolled_back_status_message\" style=\"padding: 5px 0px; display: none;\">\n",
       "    <i class=\"fa-exclamation-circle fa text-info\"></i>\n",
       "    <span>Cell rolled back.</span>\n",
       "</div>\n",
       "\n",
       "<div class=\"coq_kernel_rich_cell_output coq_kernel_roll_back_controls_area\" style=\"display: none; position: relative;\">\n",
       "    <button class=\"btn btn-default btn-xs coq_kernel_roll_back_button\" onclick=\"CoqKernel.roll_back(this)\">\n",
       "        <i class=\"fa-step-backward fa\"></i>\n",
       "        <span class=\"toolbar-btn-label\">Rollback cell</span>\n",
       "    </button>\n",
       "\n",
       "    <div style=\"display: inline-block; vertical-align: middle; padding-left: 0; padding-right: 0;\">\n",
       "      <input class=\"coq_kernel_auto_roll_back_checkbox\" type=\"checkbox\" value=\"\" onchange=\"CoqKernel.toggle_auto_roll_back(this)\" checked>\n",
       "      <label\">Auto rollback</label>\n",
       "    </div>\n",
       "</div>\n"
      ],
      "text/plain": [
       "Proving: mult_0_plus\n",
       "\n",
       "1 subgoal\n",
       "\n",
       "1/1 -----------\n",
       "forall n m : nat, (0 + n) * m = n * m"
      ]
     },
     "execution_count": 15,
     "metadata": {
      "coq_kernel_evaluated": true,
      "coq_kernel_execution_id": "3d6c996c570f48e6b346325c86e6f895",
      "coq_kernel_rolled_back": false
     },
     "output_type": "execute_result"
    }
   ],
   "source": [
    "Theorem mult_0_plus : (forall n m : nat , ( 0 + n ) * m =  n * m ).\n",
    "Proof."
   ]
  },
  {
   "cell_type": "code",
   "execution_count": null,
   "metadata": {
    "coq_kernel_metadata": {
     "auto_roll_back": true
    }
   },
   "outputs": [],
   "source": []
  },
  {
   "cell_type": "code",
   "execution_count": null,
   "metadata": {
    "coq_kernel_metadata": {
     "auto_roll_back": true
    }
   },
   "outputs": [],
   "source": []
  },
  {
   "cell_type": "code",
   "execution_count": null,
   "metadata": {
    "coq_kernel_metadata": {
     "auto_roll_back": true
    }
   },
   "outputs": [],
   "source": []
  },
  {
   "cell_type": "code",
   "execution_count": null,
   "metadata": {
    "coq_kernel_metadata": {
     "auto_roll_back": true
    }
   },
   "outputs": [],
   "source": []
  },
  {
   "cell_type": "code",
   "execution_count": null,
   "metadata": {
    "coq_kernel_metadata": {
     "auto_roll_back": true
    }
   },
   "outputs": [],
   "source": []
  },
  {
   "cell_type": "code",
   "execution_count": null,
   "metadata": {
    "coq_kernel_metadata": {
     "auto_roll_back": true
    }
   },
   "outputs": [],
   "source": []
  },
  {
   "cell_type": "code",
   "execution_count": null,
   "metadata": {
    "coq_kernel_metadata": {
     "auto_roll_back": true
    }
   },
   "outputs": [],
   "source": []
  },
  {
   "cell_type": "code",
   "execution_count": 15,
   "metadata": {
    "coq_kernel_metadata": {
     "auto_roll_back": true,
     "cell_id": "97af961b4c9348f8ae292697c87fd82f",
     "evaluated": true,
     "execution_id": "c7f0678ca7074fbd8ca3b414c9babccb",
     "rolled_back": false
    }
   },
   "outputs": [
    {
     "data": {
      "text/html": [
       "\n",
       "<div class=\"coq_kernel_output_area\">\n",
       "    <pre></pre>\n",
       "</div>\n",
       "\n",
       "<div class=\"coq_kernel_rich_cell_output coq_kernel_status_message_area\" style=\"padding: 5px 0px;\">\n",
       "    <i class=\"fa-check fa text-success\"></i>\n",
       "    <span>Cell evaluated.</span>\n",
       "</div>\n",
       "\n",
       "<div class=\"coq_kernel_rich_cell_output coq_kernel_status_message_area coq_kernel_rolled_back_status_message\" style=\"padding: 5px 0px; display: none;\">\n",
       "    <i class=\"fa-exclamation-circle fa text-info\"></i>\n",
       "    <span>Cell rolled back.</span>\n",
       "</div>\n",
       "\n",
       "<div class=\"coq_kernel_rich_cell_output coq_kernel_roll_back_controls_area\" style=\"display: none; position: relative;\">\n",
       "    <button class=\"btn btn-default btn-xs coq_kernel_roll_back_button\" onclick=\"CoqKernel.roll_back(this)\">\n",
       "        <i class=\"fa-step-backward fa\"></i>\n",
       "        <span class=\"toolbar-btn-label\">Rollback cell</span>\n",
       "    </button>\n",
       "\n",
       "    <div style=\"display: inline-block; vertical-align: middle; padding-left: 0; padding-right: 0;\">\n",
       "      <input class=\"coq_kernel_auto_roll_back_checkbox\" type=\"checkbox\" value=\"\" onchange=\"CoqKernel.toggle_auto_roll_back(this)\" checked>\n",
       "      <label\">Auto rollback</label>\n",
       "    </div>\n",
       "</div>\n"
      ],
      "text/plain": []
     },
     "execution_count": 16,
     "metadata": {
      "coq_kernel_evaluated": true,
      "coq_kernel_execution_id": "c7f0678ca7074fbd8ca3b414c9babccb",
      "coq_kernel_rolled_back": false
     },
     "output_type": "execute_result"
    }
   ],
   "source": [
    "Admitted. (* 最後にここを Qed. に変える。*)"
   ]
  },
  {
   "cell_type": "markdown",
   "metadata": {
    "coq_kernel_metadata": {
     "auto_roll_back": true
    }
   },
   "source": [
    "<a id=\"ex27\"></a>\n",
    "## 演習問題 2-7  作業用\n",
    "　<font size=\"4\">次の定理を証明せよ。</font>\n",
    " <font color=\"blue\"　size=\"4\"><br> Theorem mult_S_1 : (forall n m : nat, m = S n -> m \\* (1 + n) = m \\* m).</font>\n",
    "\n",
    "### ヒント\n",
    "- intros で　forall を消し、前提を仮説に移す。\n",
    "- サブゴールの計算式を simpl で簡単にする。\n",
    "- rewriteで、サブゴールを m_eq_Sn を使って書き換える。\n",
    "- サブゴールの左辺と右辺は等しい。\n",
    "\n",
    "###  [解答を見る](#ans27) "
   ]
  },
  {
   "cell_type": "code",
   "execution_count": 16,
   "metadata": {
    "coq_kernel_metadata": {
     "auto_roll_back": true,
     "cell_id": "7468ba6c0c73497b91ed02035be30403",
     "evaluated": true,
     "execution_id": "d2f5b02a4f7a42a6862d18b9a5055ba7",
     "rolled_back": false
    }
   },
   "outputs": [
    {
     "data": {
      "text/html": [
       "\n",
       "<div class=\"coq_kernel_output_area\">\n",
       "    <pre>Proving: mult_S_1\n",
       "\n",
       "1 subgoal\n",
       "\n",
       "1/1 -----------\n",
       "forall n m : nat, m = S n -> m * (1 + n) = m * m</pre>\n",
       "</div>\n",
       "\n",
       "<div class=\"coq_kernel_rich_cell_output coq_kernel_status_message_area\" style=\"padding: 5px 0px;\">\n",
       "    <i class=\"fa-check fa text-success\"></i>\n",
       "    <span>Cell evaluated.</span>\n",
       "</div>\n",
       "\n",
       "<div class=\"coq_kernel_rich_cell_output coq_kernel_status_message_area coq_kernel_rolled_back_status_message\" style=\"padding: 5px 0px; display: none;\">\n",
       "    <i class=\"fa-exclamation-circle fa text-info\"></i>\n",
       "    <span>Cell rolled back.</span>\n",
       "</div>\n",
       "\n",
       "<div class=\"coq_kernel_rich_cell_output coq_kernel_roll_back_controls_area\" style=\"display: none; position: relative;\">\n",
       "    <button class=\"btn btn-default btn-xs coq_kernel_roll_back_button\" onclick=\"CoqKernel.roll_back(this)\">\n",
       "        <i class=\"fa-step-backward fa\"></i>\n",
       "        <span class=\"toolbar-btn-label\">Rollback cell</span>\n",
       "    </button>\n",
       "\n",
       "    <div style=\"display: inline-block; vertical-align: middle; padding-left: 0; padding-right: 0;\">\n",
       "      <input class=\"coq_kernel_auto_roll_back_checkbox\" type=\"checkbox\" value=\"\" onchange=\"CoqKernel.toggle_auto_roll_back(this)\" checked>\n",
       "      <label\">Auto rollback</label>\n",
       "    </div>\n",
       "</div>\n"
      ],
      "text/plain": [
       "Proving: mult_S_1\n",
       "\n",
       "1 subgoal\n",
       "\n",
       "1/1 -----------\n",
       "forall n m : nat, m = S n -> m * (1 + n) = m * m"
      ]
     },
     "execution_count": 18,
     "metadata": {
      "coq_kernel_evaluated": true,
      "coq_kernel_execution_id": "d2f5b02a4f7a42a6862d18b9a5055ba7",
      "coq_kernel_rolled_back": false
     },
     "output_type": "execute_result"
    }
   ],
   "source": [
    "Theorem mult_S_1 : (forall n m : nat, m = S n -> m * (1 + n) = m * m).\n",
    "Proof."
   ]
  },
  {
   "cell_type": "code",
   "execution_count": null,
   "metadata": {
    "coq_kernel_metadata": {
     "auto_roll_back": true
    }
   },
   "outputs": [],
   "source": []
  },
  {
   "cell_type": "code",
   "execution_count": null,
   "metadata": {
    "coq_kernel_metadata": {
     "auto_roll_back": true
    }
   },
   "outputs": [],
   "source": []
  },
  {
   "cell_type": "code",
   "execution_count": null,
   "metadata": {
    "coq_kernel_metadata": {
     "auto_roll_back": true
    }
   },
   "outputs": [],
   "source": []
  },
  {
   "cell_type": "code",
   "execution_count": null,
   "metadata": {
    "coq_kernel_metadata": {
     "auto_roll_back": true
    }
   },
   "outputs": [],
   "source": []
  },
  {
   "cell_type": "code",
   "execution_count": null,
   "metadata": {
    "coq_kernel_metadata": {
     "auto_roll_back": true
    }
   },
   "outputs": [],
   "source": []
  },
  {
   "cell_type": "code",
   "execution_count": null,
   "metadata": {
    "coq_kernel_metadata": {
     "auto_roll_back": true
    }
   },
   "outputs": [],
   "source": []
  },
  {
   "cell_type": "code",
   "execution_count": null,
   "metadata": {
    "coq_kernel_metadata": {
     "auto_roll_back": true
    }
   },
   "outputs": [],
   "source": []
  },
  {
   "cell_type": "code",
   "execution_count": 18,
   "metadata": {
    "coq_kernel_metadata": {
     "auto_roll_back": true,
     "cell_id": "1c7a0770935a481c8171581d2ceddcb8",
     "evaluated": true,
     "execution_id": "2678fe7a88274742895191e245a1076a",
     "rolled_back": false
    }
   },
   "outputs": [
    {
     "data": {
      "text/html": [
       "\n",
       "<div class=\"coq_kernel_output_area\">\n",
       "    <pre></pre>\n",
       "</div>\n",
       "\n",
       "<div class=\"coq_kernel_rich_cell_output coq_kernel_status_message_area\" style=\"padding: 5px 0px;\">\n",
       "    <i class=\"fa-check fa text-success\"></i>\n",
       "    <span>Cell evaluated.</span>\n",
       "</div>\n",
       "\n",
       "<div class=\"coq_kernel_rich_cell_output coq_kernel_status_message_area coq_kernel_rolled_back_status_message\" style=\"padding: 5px 0px; display: none;\">\n",
       "    <i class=\"fa-exclamation-circle fa text-info\"></i>\n",
       "    <span>Cell rolled back.</span>\n",
       "</div>\n",
       "\n",
       "<div class=\"coq_kernel_rich_cell_output coq_kernel_roll_back_controls_area\" style=\"display: none; position: relative;\">\n",
       "    <button class=\"btn btn-default btn-xs coq_kernel_roll_back_button\" onclick=\"CoqKernel.roll_back(this)\">\n",
       "        <i class=\"fa-step-backward fa\"></i>\n",
       "        <span class=\"toolbar-btn-label\">Rollback cell</span>\n",
       "    </button>\n",
       "\n",
       "    <div style=\"display: inline-block; vertical-align: middle; padding-left: 0; padding-right: 0;\">\n",
       "      <input class=\"coq_kernel_auto_roll_back_checkbox\" type=\"checkbox\" value=\"\" onchange=\"CoqKernel.toggle_auto_roll_back(this)\" checked>\n",
       "      <label\">Auto rollback</label>\n",
       "    </div>\n",
       "</div>\n"
      ],
      "text/plain": []
     },
     "execution_count": 19,
     "metadata": {
      "coq_kernel_evaluated": true,
      "coq_kernel_execution_id": "2678fe7a88274742895191e245a1076a",
      "coq_kernel_rolled_back": false
     },
     "output_type": "execute_result"
    }
   ],
   "source": [
    "Admitted. (* 最後にここを Qed. に変える。*)"
   ]
  },
  {
   "cell_type": "markdown",
   "metadata": {
    "coq_kernel_metadata": {
     "auto_roll_back": true
    }
   },
   "source": [
    "\n",
    "# <font color=\"blue\">演習問題 2 解答</font>\n",
    "\n",
    "[演習問題 2-1](#ans21) [演習問題 2-2](#ans22) [演習問題 2-3](#ans23) [演習問題 2-4](#ans24) [演習問題 2-5](#ans25) [演習問題 2-6](#ans26) [演習問題 2-7](#ans27) "
   ]
  },
  {
   "cell_type": "markdown",
   "metadata": {
    "coq_kernel_metadata": {
     "auto_roll_back": true
    }
   },
   "source": [
    "<a id=\"ans21\"></a>\n",
    "## 演習問題 2-1  解答\n",
    "　<font size=\"4\">次の定理を証明せよ。</font>\n",
    " <font color=\"blue\"　size=\"4\"><br>　Theorem plus_O_n : (forall n : nat , 0+n = n ).</font>\n",
    "\n",
    "[作業用ページで証明をして見る](#ex21)　/ [演習問題に戻る](./2-Equal.ipynb#ex21 ) \n",
    "\n",
    "## 解答\n",
    "```\n",
    "Theorem  plus_O_n : (forall n : nat , 0+n = n ).\n",
    "Proof.\n",
    "  intro n.\n",
    "  simpl.\n",
    "  reflexivity.\n",
    "Qed.  \n",
    "```\n",
    "\n",
    "### 下のCellを実行して確かめよ。"
   ]
  },
  {
   "cell_type": "code",
   "execution_count": 19,
   "metadata": {
    "coq_kernel_metadata": {
     "auto_roll_back": true,
     "cell_id": "78d907980bb642ce816287b2d06fae3f",
     "evaluated": true,
     "execution_id": "ed7aae7762b74c179b2f0d60107f0100",
     "rolled_back": false
    }
   },
   "outputs": [
    {
     "data": {
      "text/html": [
       "\n",
       "<div class=\"coq_kernel_output_area\">\n",
       "    <pre></pre>\n",
       "</div>\n",
       "\n",
       "<div class=\"coq_kernel_rich_cell_output coq_kernel_status_message_area\" style=\"padding: 5px 0px;\">\n",
       "    <i class=\"fa-check fa text-success\"></i>\n",
       "    <span>Cell evaluated.</span>\n",
       "</div>\n",
       "\n",
       "<div class=\"coq_kernel_rich_cell_output coq_kernel_status_message_area coq_kernel_rolled_back_status_message\" style=\"padding: 5px 0px; display: none;\">\n",
       "    <i class=\"fa-exclamation-circle fa text-info\"></i>\n",
       "    <span>Cell rolled back.</span>\n",
       "</div>\n",
       "\n",
       "<div class=\"coq_kernel_rich_cell_output coq_kernel_roll_back_controls_area\" style=\"display: none; position: relative;\">\n",
       "    <button class=\"btn btn-default btn-xs coq_kernel_roll_back_button\" onclick=\"CoqKernel.roll_back(this)\">\n",
       "        <i class=\"fa-step-backward fa\"></i>\n",
       "        <span class=\"toolbar-btn-label\">Rollback cell</span>\n",
       "    </button>\n",
       "\n",
       "    <div style=\"display: inline-block; vertical-align: middle; padding-left: 0; padding-right: 0;\">\n",
       "      <input class=\"coq_kernel_auto_roll_back_checkbox\" type=\"checkbox\" value=\"\" onchange=\"CoqKernel.toggle_auto_roll_back(this)\" checked>\n",
       "      <label\">Auto rollback</label>\n",
       "    </div>\n",
       "</div>\n"
      ],
      "text/plain": []
     },
     "execution_count": 25,
     "metadata": {
      "coq_kernel_evaluated": true,
      "coq_kernel_execution_id": "ed7aae7762b74c179b2f0d60107f0100",
      "coq_kernel_rolled_back": false
     },
     "output_type": "execute_result"
    }
   ],
   "source": [
    "Theorem  plus_O_n' : (forall n : nat , 0+n = n ).\n",
    "Proof.\n",
    "  intro n.\n",
    "  simpl.\n",
    "  reflexivity.\n",
    "Qed.  "
   ]
  },
  {
   "cell_type": "markdown",
   "metadata": {
    "coq_kernel_metadata": {
     "auto_roll_back": true
    }
   },
   "source": [
    "### 次のCell を一つづつ実行して、各tacticsの働きを確認せよ。"
   ]
  },
  {
   "cell_type": "code",
   "execution_count": 25,
   "metadata": {
    "coq_kernel_metadata": {
     "auto_roll_back": true,
     "cell_id": "43a89b1ba37e4959849470fb3fcf4f01",
     "evaluated": true,
     "execution_id": "7694e6b3dcd749578cb3f4c2dc329c0a",
     "rolled_back": false
    }
   },
   "outputs": [
    {
     "data": {
      "text/html": [
       "\n",
       "<div class=\"coq_kernel_output_area\">\n",
       "    <pre>Proving: plus_O_n''\n",
       "\n",
       "1 subgoal\n",
       "\n",
       "1/1 -----------\n",
       "forall n : nat, 0 + n = n</pre>\n",
       "</div>\n",
       "\n",
       "<div class=\"coq_kernel_rich_cell_output coq_kernel_status_message_area\" style=\"padding: 5px 0px;\">\n",
       "    <i class=\"fa-check fa text-success\"></i>\n",
       "    <span>Cell evaluated.</span>\n",
       "</div>\n",
       "\n",
       "<div class=\"coq_kernel_rich_cell_output coq_kernel_status_message_area coq_kernel_rolled_back_status_message\" style=\"padding: 5px 0px; display: none;\">\n",
       "    <i class=\"fa-exclamation-circle fa text-info\"></i>\n",
       "    <span>Cell rolled back.</span>\n",
       "</div>\n",
       "\n",
       "<div class=\"coq_kernel_rich_cell_output coq_kernel_roll_back_controls_area\" style=\"display: none; position: relative;\">\n",
       "    <button class=\"btn btn-default btn-xs coq_kernel_roll_back_button\" onclick=\"CoqKernel.roll_back(this)\">\n",
       "        <i class=\"fa-step-backward fa\"></i>\n",
       "        <span class=\"toolbar-btn-label\">Rollback cell</span>\n",
       "    </button>\n",
       "\n",
       "    <div style=\"display: inline-block; vertical-align: middle; padding-left: 0; padding-right: 0;\">\n",
       "      <input class=\"coq_kernel_auto_roll_back_checkbox\" type=\"checkbox\" value=\"\" onchange=\"CoqKernel.toggle_auto_roll_back(this)\" checked>\n",
       "      <label\">Auto rollback</label>\n",
       "    </div>\n",
       "</div>\n"
      ],
      "text/plain": [
       "Proving: plus_O_n''\n",
       "\n",
       "1 subgoal\n",
       "\n",
       "1/1 -----------\n",
       "forall n : nat, 0 + n = n"
      ]
     },
     "execution_count": 27,
     "metadata": {
      "coq_kernel_evaluated": true,
      "coq_kernel_execution_id": "7694e6b3dcd749578cb3f4c2dc329c0a",
      "coq_kernel_rolled_back": false
     },
     "output_type": "execute_result"
    }
   ],
   "source": [
    "Theorem  plus_O_n'' : (forall n : nat , 0+n = n ).\n",
    "Proof."
   ]
  },
  {
   "cell_type": "code",
   "execution_count": 27,
   "metadata": {
    "coq_kernel_metadata": {
     "auto_roll_back": true,
     "cell_id": "8f687444cce7428496e60814c6722770",
     "evaluated": true,
     "execution_id": "d12184aa7b77426793c4aeddcc9b23d4",
     "rolled_back": false
    }
   },
   "outputs": [
    {
     "data": {
      "text/html": [
       "\n",
       "<div class=\"coq_kernel_output_area\">\n",
       "    <pre>Proving: plus_O_n''\n",
       "\n",
       "1 subgoal\n",
       "\n",
       "n : nat\n",
       "\n",
       "1/1 -----------\n",
       "0 + n = n</pre>\n",
       "</div>\n",
       "\n",
       "<div class=\"coq_kernel_rich_cell_output coq_kernel_status_message_area\" style=\"padding: 5px 0px;\">\n",
       "    <i class=\"fa-check fa text-success\"></i>\n",
       "    <span>Cell evaluated.</span>\n",
       "</div>\n",
       "\n",
       "<div class=\"coq_kernel_rich_cell_output coq_kernel_status_message_area coq_kernel_rolled_back_status_message\" style=\"padding: 5px 0px; display: none;\">\n",
       "    <i class=\"fa-exclamation-circle fa text-info\"></i>\n",
       "    <span>Cell rolled back.</span>\n",
       "</div>\n",
       "\n",
       "<div class=\"coq_kernel_rich_cell_output coq_kernel_roll_back_controls_area\" style=\"display: none; position: relative;\">\n",
       "    <button class=\"btn btn-default btn-xs coq_kernel_roll_back_button\" onclick=\"CoqKernel.roll_back(this)\">\n",
       "        <i class=\"fa-step-backward fa\"></i>\n",
       "        <span class=\"toolbar-btn-label\">Rollback cell</span>\n",
       "    </button>\n",
       "\n",
       "    <div style=\"display: inline-block; vertical-align: middle; padding-left: 0; padding-right: 0;\">\n",
       "      <input class=\"coq_kernel_auto_roll_back_checkbox\" type=\"checkbox\" value=\"\" onchange=\"CoqKernel.toggle_auto_roll_back(this)\" checked>\n",
       "      <label\">Auto rollback</label>\n",
       "    </div>\n",
       "</div>\n"
      ],
      "text/plain": [
       "Proving: plus_O_n''\n",
       "\n",
       "1 subgoal\n",
       "\n",
       "n : nat\n",
       "\n",
       "1/1 -----------\n",
       "0 + n = n"
      ]
     },
     "execution_count": 28,
     "metadata": {
      "coq_kernel_evaluated": true,
      "coq_kernel_execution_id": "d12184aa7b77426793c4aeddcc9b23d4",
      "coq_kernel_rolled_back": false
     },
     "output_type": "execute_result"
    }
   ],
   "source": [
    "  intro n."
   ]
  },
  {
   "cell_type": "code",
   "execution_count": 28,
   "metadata": {
    "coq_kernel_metadata": {
     "auto_roll_back": true,
     "cell_id": "6a8b277f1d6a4e30a244bbd3c53927f8",
     "evaluated": true,
     "execution_id": "71b79196c35b4281811b599d7f23740f",
     "rolled_back": false
    }
   },
   "outputs": [
    {
     "data": {
      "text/html": [
       "\n",
       "<div class=\"coq_kernel_output_area\">\n",
       "    <pre>Proving: plus_O_n''\n",
       "\n",
       "1 subgoal\n",
       "\n",
       "n : nat\n",
       "\n",
       "1/1 -----------\n",
       "n = n</pre>\n",
       "</div>\n",
       "\n",
       "<div class=\"coq_kernel_rich_cell_output coq_kernel_status_message_area\" style=\"padding: 5px 0px;\">\n",
       "    <i class=\"fa-check fa text-success\"></i>\n",
       "    <span>Cell evaluated.</span>\n",
       "</div>\n",
       "\n",
       "<div class=\"coq_kernel_rich_cell_output coq_kernel_status_message_area coq_kernel_rolled_back_status_message\" style=\"padding: 5px 0px; display: none;\">\n",
       "    <i class=\"fa-exclamation-circle fa text-info\"></i>\n",
       "    <span>Cell rolled back.</span>\n",
       "</div>\n",
       "\n",
       "<div class=\"coq_kernel_rich_cell_output coq_kernel_roll_back_controls_area\" style=\"display: none; position: relative;\">\n",
       "    <button class=\"btn btn-default btn-xs coq_kernel_roll_back_button\" onclick=\"CoqKernel.roll_back(this)\">\n",
       "        <i class=\"fa-step-backward fa\"></i>\n",
       "        <span class=\"toolbar-btn-label\">Rollback cell</span>\n",
       "    </button>\n",
       "\n",
       "    <div style=\"display: inline-block; vertical-align: middle; padding-left: 0; padding-right: 0;\">\n",
       "      <input class=\"coq_kernel_auto_roll_back_checkbox\" type=\"checkbox\" value=\"\" onchange=\"CoqKernel.toggle_auto_roll_back(this)\" checked>\n",
       "      <label\">Auto rollback</label>\n",
       "    </div>\n",
       "</div>\n"
      ],
      "text/plain": [
       "Proving: plus_O_n''\n",
       "\n",
       "1 subgoal\n",
       "\n",
       "n : nat\n",
       "\n",
       "1/1 -----------\n",
       "n = n"
      ]
     },
     "execution_count": 29,
     "metadata": {
      "coq_kernel_evaluated": true,
      "coq_kernel_execution_id": "71b79196c35b4281811b599d7f23740f",
      "coq_kernel_rolled_back": false
     },
     "output_type": "execute_result"
    }
   ],
   "source": [
    "  simpl."
   ]
  },
  {
   "cell_type": "code",
   "execution_count": 29,
   "metadata": {
    "coq_kernel_metadata": {
     "auto_roll_back": true,
     "cell_id": "335855fa095c4e96814cfe5faf681b9f",
     "evaluated": true,
     "execution_id": "0814ad18236f4f398f4b2f28f0c61157",
     "rolled_back": false
    }
   },
   "outputs": [
    {
     "data": {
      "text/html": [
       "\n",
       "<div class=\"coq_kernel_output_area\">\n",
       "    <pre>Proving: plus_O_n''\n",
       "\n",
       "No more subgoals</pre>\n",
       "</div>\n",
       "\n",
       "<div class=\"coq_kernel_rich_cell_output coq_kernel_status_message_area\" style=\"padding: 5px 0px;\">\n",
       "    <i class=\"fa-check fa text-success\"></i>\n",
       "    <span>Cell evaluated.</span>\n",
       "</div>\n",
       "\n",
       "<div class=\"coq_kernel_rich_cell_output coq_kernel_status_message_area coq_kernel_rolled_back_status_message\" style=\"padding: 5px 0px; display: none;\">\n",
       "    <i class=\"fa-exclamation-circle fa text-info\"></i>\n",
       "    <span>Cell rolled back.</span>\n",
       "</div>\n",
       "\n",
       "<div class=\"coq_kernel_rich_cell_output coq_kernel_roll_back_controls_area\" style=\"display: none; position: relative;\">\n",
       "    <button class=\"btn btn-default btn-xs coq_kernel_roll_back_button\" onclick=\"CoqKernel.roll_back(this)\">\n",
       "        <i class=\"fa-step-backward fa\"></i>\n",
       "        <span class=\"toolbar-btn-label\">Rollback cell</span>\n",
       "    </button>\n",
       "\n",
       "    <div style=\"display: inline-block; vertical-align: middle; padding-left: 0; padding-right: 0;\">\n",
       "      <input class=\"coq_kernel_auto_roll_back_checkbox\" type=\"checkbox\" value=\"\" onchange=\"CoqKernel.toggle_auto_roll_back(this)\" checked>\n",
       "      <label\">Auto rollback</label>\n",
       "    </div>\n",
       "</div>\n"
      ],
      "text/plain": [
       "Proving: plus_O_n''\n",
       "\n",
       "No more subgoals"
      ]
     },
     "execution_count": 30,
     "metadata": {
      "coq_kernel_evaluated": true,
      "coq_kernel_execution_id": "0814ad18236f4f398f4b2f28f0c61157",
      "coq_kernel_rolled_back": false
     },
     "output_type": "execute_result"
    }
   ],
   "source": [
    "  reflexivity."
   ]
  },
  {
   "cell_type": "code",
   "execution_count": 30,
   "metadata": {
    "coq_kernel_metadata": {
     "auto_roll_back": true,
     "cell_id": "4d93ae567a01478e8cfb605b5882dd5a",
     "evaluated": true,
     "execution_id": "d91f926db3a74af58116c7c476457d4b",
     "rolled_back": false
    }
   },
   "outputs": [
    {
     "data": {
      "text/html": [
       "\n",
       "<div class=\"coq_kernel_output_area\">\n",
       "    <pre></pre>\n",
       "</div>\n",
       "\n",
       "<div class=\"coq_kernel_rich_cell_output coq_kernel_status_message_area\" style=\"padding: 5px 0px;\">\n",
       "    <i class=\"fa-check fa text-success\"></i>\n",
       "    <span>Cell evaluated.</span>\n",
       "</div>\n",
       "\n",
       "<div class=\"coq_kernel_rich_cell_output coq_kernel_status_message_area coq_kernel_rolled_back_status_message\" style=\"padding: 5px 0px; display: none;\">\n",
       "    <i class=\"fa-exclamation-circle fa text-info\"></i>\n",
       "    <span>Cell rolled back.</span>\n",
       "</div>\n",
       "\n",
       "<div class=\"coq_kernel_rich_cell_output coq_kernel_roll_back_controls_area\" style=\"display: none; position: relative;\">\n",
       "    <button class=\"btn btn-default btn-xs coq_kernel_roll_back_button\" onclick=\"CoqKernel.roll_back(this)\">\n",
       "        <i class=\"fa-step-backward fa\"></i>\n",
       "        <span class=\"toolbar-btn-label\">Rollback cell</span>\n",
       "    </button>\n",
       "\n",
       "    <div style=\"display: inline-block; vertical-align: middle; padding-left: 0; padding-right: 0;\">\n",
       "      <input class=\"coq_kernel_auto_roll_back_checkbox\" type=\"checkbox\" value=\"\" onchange=\"CoqKernel.toggle_auto_roll_back(this)\" checked>\n",
       "      <label\">Auto rollback</label>\n",
       "    </div>\n",
       "</div>\n"
      ],
      "text/plain": []
     },
     "execution_count": 31,
     "metadata": {
      "coq_kernel_evaluated": true,
      "coq_kernel_execution_id": "d91f926db3a74af58116c7c476457d4b",
      "coq_kernel_rolled_back": false
     },
     "output_type": "execute_result"
    }
   ],
   "source": [
    "Qed.  "
   ]
  },
  {
   "cell_type": "markdown",
   "metadata": {
    "coq_kernel_metadata": {
     "auto_roll_back": true
    }
   },
   "source": [
    "<a id=\"ans22\"></a>\n",
    "## 演習問題 2-2  解答\n",
    "　<font size=\"4\">次の定理を証明せよ。</font>\n",
    " <font color=\"blue\"　size=\"4\"><br> Theorem plus_1_n : (forall n : nat , 1+n = S n ).</font>\n",
    "\n",
    "[作業用ページで証明をして見る](#ex22)　/ [演習問題に戻る](./2-Equal.ipynb#ex22 ) \n",
    "\n",
    "## 解答\n",
    "```\n",
    "Theorem  plus_1_n : (forall n : nat , 1+n = S n ).\n",
    "Proof.\n",
    "  intros n.\n",
    "  simpl.\n",
    "  reflexivity.\n",
    "Qed.\n",
    "```\n",
    "\n",
    "### 下のCellを実行して確かめよ。"
   ]
  },
  {
   "cell_type": "code",
   "execution_count": 31,
   "metadata": {
    "coq_kernel_metadata": {
     "auto_roll_back": true,
     "cell_id": "50b145d05436476a91c162d824403619",
     "evaluated": true,
     "execution_id": "df798f69d6a544ee8339474a24732805",
     "rolled_back": false
    }
   },
   "outputs": [
    {
     "data": {
      "text/html": [
       "\n",
       "<div class=\"coq_kernel_output_area\">\n",
       "    <pre></pre>\n",
       "</div>\n",
       "\n",
       "<div class=\"coq_kernel_rich_cell_output coq_kernel_status_message_area\" style=\"padding: 5px 0px;\">\n",
       "    <i class=\"fa-check fa text-success\"></i>\n",
       "    <span>Cell evaluated.</span>\n",
       "</div>\n",
       "\n",
       "<div class=\"coq_kernel_rich_cell_output coq_kernel_status_message_area coq_kernel_rolled_back_status_message\" style=\"padding: 5px 0px; display: none;\">\n",
       "    <i class=\"fa-exclamation-circle fa text-info\"></i>\n",
       "    <span>Cell rolled back.</span>\n",
       "</div>\n",
       "\n",
       "<div class=\"coq_kernel_rich_cell_output coq_kernel_roll_back_controls_area\" style=\"display: none; position: relative;\">\n",
       "    <button class=\"btn btn-default btn-xs coq_kernel_roll_back_button\" onclick=\"CoqKernel.roll_back(this)\">\n",
       "        <i class=\"fa-step-backward fa\"></i>\n",
       "        <span class=\"toolbar-btn-label\">Rollback cell</span>\n",
       "    </button>\n",
       "\n",
       "    <div style=\"display: inline-block; vertical-align: middle; padding-left: 0; padding-right: 0;\">\n",
       "      <input class=\"coq_kernel_auto_roll_back_checkbox\" type=\"checkbox\" value=\"\" onchange=\"CoqKernel.toggle_auto_roll_back(this)\" checked>\n",
       "      <label\">Auto rollback</label>\n",
       "    </div>\n",
       "</div>\n"
      ],
      "text/plain": []
     },
     "execution_count": 37,
     "metadata": {
      "coq_kernel_evaluated": true,
      "coq_kernel_execution_id": "df798f69d6a544ee8339474a24732805",
      "coq_kernel_rolled_back": false
     },
     "output_type": "execute_result"
    }
   ],
   "source": [
    "Theorem  plus_1_n' : (forall n : nat , 1+n = S n ).\n",
    "Proof.\n",
    "  intros n.\n",
    "  simpl.\n",
    "  reflexivity.\n",
    "Qed."
   ]
  },
  {
   "cell_type": "markdown",
   "metadata": {
    "coq_kernel_metadata": {
     "auto_roll_back": true
    }
   },
   "source": [
    "### 次のCell を一つづつ実行して、各tacticsの働きを確認せよ。"
   ]
  },
  {
   "cell_type": "code",
   "execution_count": 37,
   "metadata": {
    "coq_kernel_metadata": {
     "auto_roll_back": true,
     "cell_id": "96c6f473597c477aa5da3434bb65de1e",
     "evaluated": true,
     "execution_id": "688c755f5aa446799efee88f1745933f",
     "rolled_back": false
    }
   },
   "outputs": [
    {
     "data": {
      "text/html": [
       "\n",
       "<div class=\"coq_kernel_output_area\">\n",
       "    <pre>Proving: plus_1_n''\n",
       "\n",
       "1 subgoal\n",
       "\n",
       "1/1 -----------\n",
       "forall n : nat, 1 + n = S n</pre>\n",
       "</div>\n",
       "\n",
       "<div class=\"coq_kernel_rich_cell_output coq_kernel_status_message_area\" style=\"padding: 5px 0px;\">\n",
       "    <i class=\"fa-check fa text-success\"></i>\n",
       "    <span>Cell evaluated.</span>\n",
       "</div>\n",
       "\n",
       "<div class=\"coq_kernel_rich_cell_output coq_kernel_status_message_area coq_kernel_rolled_back_status_message\" style=\"padding: 5px 0px; display: none;\">\n",
       "    <i class=\"fa-exclamation-circle fa text-info\"></i>\n",
       "    <span>Cell rolled back.</span>\n",
       "</div>\n",
       "\n",
       "<div class=\"coq_kernel_rich_cell_output coq_kernel_roll_back_controls_area\" style=\"display: none; position: relative;\">\n",
       "    <button class=\"btn btn-default btn-xs coq_kernel_roll_back_button\" onclick=\"CoqKernel.roll_back(this)\">\n",
       "        <i class=\"fa-step-backward fa\"></i>\n",
       "        <span class=\"toolbar-btn-label\">Rollback cell</span>\n",
       "    </button>\n",
       "\n",
       "    <div style=\"display: inline-block; vertical-align: middle; padding-left: 0; padding-right: 0;\">\n",
       "      <input class=\"coq_kernel_auto_roll_back_checkbox\" type=\"checkbox\" value=\"\" onchange=\"CoqKernel.toggle_auto_roll_back(this)\" checked>\n",
       "      <label\">Auto rollback</label>\n",
       "    </div>\n",
       "</div>\n"
      ],
      "text/plain": [
       "Proving: plus_1_n''\n",
       "\n",
       "1 subgoal\n",
       "\n",
       "1/1 -----------\n",
       "forall n : nat, 1 + n = S n"
      ]
     },
     "execution_count": 39,
     "metadata": {
      "coq_kernel_evaluated": true,
      "coq_kernel_execution_id": "688c755f5aa446799efee88f1745933f",
      "coq_kernel_rolled_back": false
     },
     "output_type": "execute_result"
    }
   ],
   "source": [
    "Theorem  plus_1_n'' : (forall n : nat , 1+n = S n ).\n",
    "Proof."
   ]
  },
  {
   "cell_type": "code",
   "execution_count": 39,
   "metadata": {
    "coq_kernel_metadata": {
     "auto_roll_back": true,
     "cell_id": "61b0661a79e94e588dd0c046a4c2c091",
     "evaluated": true,
     "execution_id": "93218ea3901043fc90d91bd3409ea7f7",
     "rolled_back": false
    }
   },
   "outputs": [
    {
     "data": {
      "text/html": [
       "\n",
       "<div class=\"coq_kernel_output_area\">\n",
       "    <pre>Proving: plus_1_n''\n",
       "\n",
       "1 subgoal\n",
       "\n",
       "n : nat\n",
       "\n",
       "1/1 -----------\n",
       "1 + n = S n</pre>\n",
       "</div>\n",
       "\n",
       "<div class=\"coq_kernel_rich_cell_output coq_kernel_status_message_area\" style=\"padding: 5px 0px;\">\n",
       "    <i class=\"fa-check fa text-success\"></i>\n",
       "    <span>Cell evaluated.</span>\n",
       "</div>\n",
       "\n",
       "<div class=\"coq_kernel_rich_cell_output coq_kernel_status_message_area coq_kernel_rolled_back_status_message\" style=\"padding: 5px 0px; display: none;\">\n",
       "    <i class=\"fa-exclamation-circle fa text-info\"></i>\n",
       "    <span>Cell rolled back.</span>\n",
       "</div>\n",
       "\n",
       "<div class=\"coq_kernel_rich_cell_output coq_kernel_roll_back_controls_area\" style=\"display: none; position: relative;\">\n",
       "    <button class=\"btn btn-default btn-xs coq_kernel_roll_back_button\" onclick=\"CoqKernel.roll_back(this)\">\n",
       "        <i class=\"fa-step-backward fa\"></i>\n",
       "        <span class=\"toolbar-btn-label\">Rollback cell</span>\n",
       "    </button>\n",
       "\n",
       "    <div style=\"display: inline-block; vertical-align: middle; padding-left: 0; padding-right: 0;\">\n",
       "      <input class=\"coq_kernel_auto_roll_back_checkbox\" type=\"checkbox\" value=\"\" onchange=\"CoqKernel.toggle_auto_roll_back(this)\" checked>\n",
       "      <label\">Auto rollback</label>\n",
       "    </div>\n",
       "</div>\n"
      ],
      "text/plain": [
       "Proving: plus_1_n''\n",
       "\n",
       "1 subgoal\n",
       "\n",
       "n : nat\n",
       "\n",
       "1/1 -----------\n",
       "1 + n = S n"
      ]
     },
     "execution_count": 40,
     "metadata": {
      "coq_kernel_evaluated": true,
      "coq_kernel_execution_id": "93218ea3901043fc90d91bd3409ea7f7",
      "coq_kernel_rolled_back": false
     },
     "output_type": "execute_result"
    }
   ],
   "source": [
    "  intros n."
   ]
  },
  {
   "cell_type": "code",
   "execution_count": 40,
   "metadata": {
    "coq_kernel_metadata": {
     "auto_roll_back": true,
     "cell_id": "ae0e254e99304e17884d119867b4f897",
     "evaluated": true,
     "execution_id": "bb729a989b854a1a8b945152db23a30e",
     "rolled_back": false
    }
   },
   "outputs": [
    {
     "data": {
      "text/html": [
       "\n",
       "<div class=\"coq_kernel_output_area\">\n",
       "    <pre>Proving: plus_1_n''\n",
       "\n",
       "1 subgoal\n",
       "\n",
       "n : nat\n",
       "\n",
       "1/1 -----------\n",
       "S n = S n</pre>\n",
       "</div>\n",
       "\n",
       "<div class=\"coq_kernel_rich_cell_output coq_kernel_status_message_area\" style=\"padding: 5px 0px;\">\n",
       "    <i class=\"fa-check fa text-success\"></i>\n",
       "    <span>Cell evaluated.</span>\n",
       "</div>\n",
       "\n",
       "<div class=\"coq_kernel_rich_cell_output coq_kernel_status_message_area coq_kernel_rolled_back_status_message\" style=\"padding: 5px 0px; display: none;\">\n",
       "    <i class=\"fa-exclamation-circle fa text-info\"></i>\n",
       "    <span>Cell rolled back.</span>\n",
       "</div>\n",
       "\n",
       "<div class=\"coq_kernel_rich_cell_output coq_kernel_roll_back_controls_area\" style=\"display: none; position: relative;\">\n",
       "    <button class=\"btn btn-default btn-xs coq_kernel_roll_back_button\" onclick=\"CoqKernel.roll_back(this)\">\n",
       "        <i class=\"fa-step-backward fa\"></i>\n",
       "        <span class=\"toolbar-btn-label\">Rollback cell</span>\n",
       "    </button>\n",
       "\n",
       "    <div style=\"display: inline-block; vertical-align: middle; padding-left: 0; padding-right: 0;\">\n",
       "      <input class=\"coq_kernel_auto_roll_back_checkbox\" type=\"checkbox\" value=\"\" onchange=\"CoqKernel.toggle_auto_roll_back(this)\" checked>\n",
       "      <label\">Auto rollback</label>\n",
       "    </div>\n",
       "</div>\n"
      ],
      "text/plain": [
       "Proving: plus_1_n''\n",
       "\n",
       "1 subgoal\n",
       "\n",
       "n : nat\n",
       "\n",
       "1/1 -----------\n",
       "S n = S n"
      ]
     },
     "execution_count": 41,
     "metadata": {
      "coq_kernel_evaluated": true,
      "coq_kernel_execution_id": "bb729a989b854a1a8b945152db23a30e",
      "coq_kernel_rolled_back": false
     },
     "output_type": "execute_result"
    }
   ],
   "source": [
    "  simpl."
   ]
  },
  {
   "cell_type": "code",
   "execution_count": 41,
   "metadata": {
    "coq_kernel_metadata": {
     "auto_roll_back": true,
     "cell_id": "1042ea852492445d87c0b0ea8901bf72",
     "evaluated": true,
     "execution_id": "ef509b2fd1a04a338626b8129c7fd7ae",
     "rolled_back": false
    }
   },
   "outputs": [
    {
     "data": {
      "text/html": [
       "\n",
       "<div class=\"coq_kernel_output_area\">\n",
       "    <pre>Proving: plus_1_n''\n",
       "\n",
       "No more subgoals</pre>\n",
       "</div>\n",
       "\n",
       "<div class=\"coq_kernel_rich_cell_output coq_kernel_status_message_area\" style=\"padding: 5px 0px;\">\n",
       "    <i class=\"fa-check fa text-success\"></i>\n",
       "    <span>Cell evaluated.</span>\n",
       "</div>\n",
       "\n",
       "<div class=\"coq_kernel_rich_cell_output coq_kernel_status_message_area coq_kernel_rolled_back_status_message\" style=\"padding: 5px 0px; display: none;\">\n",
       "    <i class=\"fa-exclamation-circle fa text-info\"></i>\n",
       "    <span>Cell rolled back.</span>\n",
       "</div>\n",
       "\n",
       "<div class=\"coq_kernel_rich_cell_output coq_kernel_roll_back_controls_area\" style=\"display: none; position: relative;\">\n",
       "    <button class=\"btn btn-default btn-xs coq_kernel_roll_back_button\" onclick=\"CoqKernel.roll_back(this)\">\n",
       "        <i class=\"fa-step-backward fa\"></i>\n",
       "        <span class=\"toolbar-btn-label\">Rollback cell</span>\n",
       "    </button>\n",
       "\n",
       "    <div style=\"display: inline-block; vertical-align: middle; padding-left: 0; padding-right: 0;\">\n",
       "      <input class=\"coq_kernel_auto_roll_back_checkbox\" type=\"checkbox\" value=\"\" onchange=\"CoqKernel.toggle_auto_roll_back(this)\" checked>\n",
       "      <label\">Auto rollback</label>\n",
       "    </div>\n",
       "</div>\n"
      ],
      "text/plain": [
       "Proving: plus_1_n''\n",
       "\n",
       "No more subgoals"
      ]
     },
     "execution_count": 42,
     "metadata": {
      "coq_kernel_evaluated": true,
      "coq_kernel_execution_id": "ef509b2fd1a04a338626b8129c7fd7ae",
      "coq_kernel_rolled_back": false
     },
     "output_type": "execute_result"
    }
   ],
   "source": [
    "  reflexivity."
   ]
  },
  {
   "cell_type": "code",
   "execution_count": 42,
   "metadata": {
    "coq_kernel_metadata": {
     "auto_roll_back": true,
     "cell_id": "ca0e312cd362462c835e96f9306c0782",
     "evaluated": true,
     "execution_id": "b7e3e9bf00004a30869d406b79fa3766",
     "rolled_back": false
    }
   },
   "outputs": [
    {
     "data": {
      "text/html": [
       "\n",
       "<div class=\"coq_kernel_output_area\">\n",
       "    <pre></pre>\n",
       "</div>\n",
       "\n",
       "<div class=\"coq_kernel_rich_cell_output coq_kernel_status_message_area\" style=\"padding: 5px 0px;\">\n",
       "    <i class=\"fa-check fa text-success\"></i>\n",
       "    <span>Cell evaluated.</span>\n",
       "</div>\n",
       "\n",
       "<div class=\"coq_kernel_rich_cell_output coq_kernel_status_message_area coq_kernel_rolled_back_status_message\" style=\"padding: 5px 0px; display: none;\">\n",
       "    <i class=\"fa-exclamation-circle fa text-info\"></i>\n",
       "    <span>Cell rolled back.</span>\n",
       "</div>\n",
       "\n",
       "<div class=\"coq_kernel_rich_cell_output coq_kernel_roll_back_controls_area\" style=\"display: none; position: relative;\">\n",
       "    <button class=\"btn btn-default btn-xs coq_kernel_roll_back_button\" onclick=\"CoqKernel.roll_back(this)\">\n",
       "        <i class=\"fa-step-backward fa\"></i>\n",
       "        <span class=\"toolbar-btn-label\">Rollback cell</span>\n",
       "    </button>\n",
       "\n",
       "    <div style=\"display: inline-block; vertical-align: middle; padding-left: 0; padding-right: 0;\">\n",
       "      <input class=\"coq_kernel_auto_roll_back_checkbox\" type=\"checkbox\" value=\"\" onchange=\"CoqKernel.toggle_auto_roll_back(this)\" checked>\n",
       "      <label\">Auto rollback</label>\n",
       "    </div>\n",
       "</div>\n"
      ],
      "text/plain": []
     },
     "execution_count": 43,
     "metadata": {
      "coq_kernel_evaluated": true,
      "coq_kernel_execution_id": "b7e3e9bf00004a30869d406b79fa3766",
      "coq_kernel_rolled_back": false
     },
     "output_type": "execute_result"
    }
   ],
   "source": [
    "Qed."
   ]
  },
  {
   "cell_type": "markdown",
   "metadata": {
    "coq_kernel_metadata": {
     "auto_roll_back": true
    }
   },
   "source": [
    "<a id=\"ans23\"></a>\n",
    "## 演習問題 2-3  解答\n",
    "　<font size=\"4\">次の定理を証明せよ。</font>\n",
    " <font color=\"blue\"　size=\"4\"><br> Theorem mult_0_n : (forall n : nat , 0 * n =  0 ).</font>\n",
    "\n",
    "[作業用ページで証明をして見る](#ex23)　/ [演習問題に戻る](./2-Equal.ipynb#ex23 ) \n",
    "\n",
    "## 解答\n",
    "```\n",
    "Theorem  mult_0_n : (forall n : nat , 0 * n =  0 ).\n",
    "Proof.\n",
    "  intros n.\n",
    "  simpl.\n",
    "  reflexivity.\n",
    "Qed.\n",
    "```\n",
    "\n",
    "### 下のCellを実行して確かめよ。"
   ]
  },
  {
   "cell_type": "code",
   "execution_count": 43,
   "metadata": {
    "coq_kernel_metadata": {
     "auto_roll_back": true,
     "cell_id": "1739143b76604e0fbc30098cbb75ab60",
     "evaluated": true,
     "execution_id": "e86c7f43e34640f8826ec32b6d0cc527",
     "rolled_back": false
    }
   },
   "outputs": [
    {
     "data": {
      "text/html": [
       "\n",
       "<div class=\"coq_kernel_output_area\">\n",
       "    <pre></pre>\n",
       "</div>\n",
       "\n",
       "<div class=\"coq_kernel_rich_cell_output coq_kernel_status_message_area\" style=\"padding: 5px 0px;\">\n",
       "    <i class=\"fa-check fa text-success\"></i>\n",
       "    <span>Cell evaluated.</span>\n",
       "</div>\n",
       "\n",
       "<div class=\"coq_kernel_rich_cell_output coq_kernel_status_message_area coq_kernel_rolled_back_status_message\" style=\"padding: 5px 0px; display: none;\">\n",
       "    <i class=\"fa-exclamation-circle fa text-info\"></i>\n",
       "    <span>Cell rolled back.</span>\n",
       "</div>\n",
       "\n",
       "<div class=\"coq_kernel_rich_cell_output coq_kernel_roll_back_controls_area\" style=\"display: none; position: relative;\">\n",
       "    <button class=\"btn btn-default btn-xs coq_kernel_roll_back_button\" onclick=\"CoqKernel.roll_back(this)\">\n",
       "        <i class=\"fa-step-backward fa\"></i>\n",
       "        <span class=\"toolbar-btn-label\">Rollback cell</span>\n",
       "    </button>\n",
       "\n",
       "    <div style=\"display: inline-block; vertical-align: middle; padding-left: 0; padding-right: 0;\">\n",
       "      <input class=\"coq_kernel_auto_roll_back_checkbox\" type=\"checkbox\" value=\"\" onchange=\"CoqKernel.toggle_auto_roll_back(this)\" checked>\n",
       "      <label\">Auto rollback</label>\n",
       "    </div>\n",
       "</div>\n"
      ],
      "text/plain": []
     },
     "execution_count": 49,
     "metadata": {
      "coq_kernel_evaluated": true,
      "coq_kernel_execution_id": "e86c7f43e34640f8826ec32b6d0cc527",
      "coq_kernel_rolled_back": false
     },
     "output_type": "execute_result"
    }
   ],
   "source": [
    "Theorem  mult_0_n' : (forall n : nat , 0 * n =  0 ).\n",
    "Proof.\n",
    "  intros n.\n",
    "  simpl.\n",
    "  reflexivity.\n",
    "Qed."
   ]
  },
  {
   "cell_type": "markdown",
   "metadata": {
    "coq_kernel_metadata": {
     "auto_roll_back": true
    }
   },
   "source": [
    "### 次のCell を一つづつ実行して、各tacticsの働きを確認せよ。"
   ]
  },
  {
   "cell_type": "code",
   "execution_count": 49,
   "metadata": {
    "coq_kernel_metadata": {
     "auto_roll_back": true,
     "cell_id": "83123a1b189d48cc840abe62a9fba4b3",
     "evaluated": true,
     "execution_id": "d92c6613f4e84c1993e1ada2bcd415e0",
     "rolled_back": false
    }
   },
   "outputs": [
    {
     "data": {
      "text/html": [
       "\n",
       "<div class=\"coq_kernel_output_area\">\n",
       "    <pre>Proving: mult_0_n''\n",
       "\n",
       "1 subgoal\n",
       "\n",
       "1/1 -----------\n",
       "forall n : nat, 0 * n = 0</pre>\n",
       "</div>\n",
       "\n",
       "<div class=\"coq_kernel_rich_cell_output coq_kernel_status_message_area\" style=\"padding: 5px 0px;\">\n",
       "    <i class=\"fa-check fa text-success\"></i>\n",
       "    <span>Cell evaluated.</span>\n",
       "</div>\n",
       "\n",
       "<div class=\"coq_kernel_rich_cell_output coq_kernel_status_message_area coq_kernel_rolled_back_status_message\" style=\"padding: 5px 0px; display: none;\">\n",
       "    <i class=\"fa-exclamation-circle fa text-info\"></i>\n",
       "    <span>Cell rolled back.</span>\n",
       "</div>\n",
       "\n",
       "<div class=\"coq_kernel_rich_cell_output coq_kernel_roll_back_controls_area\" style=\"display: none; position: relative;\">\n",
       "    <button class=\"btn btn-default btn-xs coq_kernel_roll_back_button\" onclick=\"CoqKernel.roll_back(this)\">\n",
       "        <i class=\"fa-step-backward fa\"></i>\n",
       "        <span class=\"toolbar-btn-label\">Rollback cell</span>\n",
       "    </button>\n",
       "\n",
       "    <div style=\"display: inline-block; vertical-align: middle; padding-left: 0; padding-right: 0;\">\n",
       "      <input class=\"coq_kernel_auto_roll_back_checkbox\" type=\"checkbox\" value=\"\" onchange=\"CoqKernel.toggle_auto_roll_back(this)\" checked>\n",
       "      <label\">Auto rollback</label>\n",
       "    </div>\n",
       "</div>\n"
      ],
      "text/plain": [
       "Proving: mult_0_n''\n",
       "\n",
       "1 subgoal\n",
       "\n",
       "1/1 -----------\n",
       "forall n : nat, 0 * n = 0"
      ]
     },
     "execution_count": 51,
     "metadata": {
      "coq_kernel_evaluated": true,
      "coq_kernel_execution_id": "d92c6613f4e84c1993e1ada2bcd415e0",
      "coq_kernel_rolled_back": false
     },
     "output_type": "execute_result"
    }
   ],
   "source": [
    "Theorem  mult_0_n'' : (forall n : nat , 0 * n =  0 ).\n",
    "Proof."
   ]
  },
  {
   "cell_type": "code",
   "execution_count": 51,
   "metadata": {
    "coq_kernel_metadata": {
     "auto_roll_back": true,
     "cell_id": "259d6e445357406392f6e87b464977d9",
     "evaluated": true,
     "execution_id": "ac082c1b698440e592f4f94446056034",
     "rolled_back": false
    }
   },
   "outputs": [
    {
     "data": {
      "text/html": [
       "\n",
       "<div class=\"coq_kernel_output_area\">\n",
       "    <pre>Proving: mult_0_n''\n",
       "\n",
       "1 subgoal\n",
       "\n",
       "n : nat\n",
       "\n",
       "1/1 -----------\n",
       "0 * n = 0</pre>\n",
       "</div>\n",
       "\n",
       "<div class=\"coq_kernel_rich_cell_output coq_kernel_status_message_area\" style=\"padding: 5px 0px;\">\n",
       "    <i class=\"fa-check fa text-success\"></i>\n",
       "    <span>Cell evaluated.</span>\n",
       "</div>\n",
       "\n",
       "<div class=\"coq_kernel_rich_cell_output coq_kernel_status_message_area coq_kernel_rolled_back_status_message\" style=\"padding: 5px 0px; display: none;\">\n",
       "    <i class=\"fa-exclamation-circle fa text-info\"></i>\n",
       "    <span>Cell rolled back.</span>\n",
       "</div>\n",
       "\n",
       "<div class=\"coq_kernel_rich_cell_output coq_kernel_roll_back_controls_area\" style=\"display: none; position: relative;\">\n",
       "    <button class=\"btn btn-default btn-xs coq_kernel_roll_back_button\" onclick=\"CoqKernel.roll_back(this)\">\n",
       "        <i class=\"fa-step-backward fa\"></i>\n",
       "        <span class=\"toolbar-btn-label\">Rollback cell</span>\n",
       "    </button>\n",
       "\n",
       "    <div style=\"display: inline-block; vertical-align: middle; padding-left: 0; padding-right: 0;\">\n",
       "      <input class=\"coq_kernel_auto_roll_back_checkbox\" type=\"checkbox\" value=\"\" onchange=\"CoqKernel.toggle_auto_roll_back(this)\" checked>\n",
       "      <label\">Auto rollback</label>\n",
       "    </div>\n",
       "</div>\n"
      ],
      "text/plain": [
       "Proving: mult_0_n''\n",
       "\n",
       "1 subgoal\n",
       "\n",
       "n : nat\n",
       "\n",
       "1/1 -----------\n",
       "0 * n = 0"
      ]
     },
     "execution_count": 52,
     "metadata": {
      "coq_kernel_evaluated": true,
      "coq_kernel_execution_id": "ac082c1b698440e592f4f94446056034",
      "coq_kernel_rolled_back": false
     },
     "output_type": "execute_result"
    }
   ],
   "source": [
    "  intros n."
   ]
  },
  {
   "cell_type": "code",
   "execution_count": 52,
   "metadata": {
    "coq_kernel_metadata": {
     "auto_roll_back": true,
     "cell_id": "5e1c1f00a1ed4f6b8bee38111e23d681",
     "evaluated": true,
     "execution_id": "3b3f1c6cbb5f4b488760a77b3f17f62e",
     "rolled_back": false
    }
   },
   "outputs": [
    {
     "data": {
      "text/html": [
       "\n",
       "<div class=\"coq_kernel_output_area\">\n",
       "    <pre>Proving: mult_0_n''\n",
       "\n",
       "1 subgoal\n",
       "\n",
       "n : nat\n",
       "\n",
       "1/1 -----------\n",
       "0 = 0</pre>\n",
       "</div>\n",
       "\n",
       "<div class=\"coq_kernel_rich_cell_output coq_kernel_status_message_area\" style=\"padding: 5px 0px;\">\n",
       "    <i class=\"fa-check fa text-success\"></i>\n",
       "    <span>Cell evaluated.</span>\n",
       "</div>\n",
       "\n",
       "<div class=\"coq_kernel_rich_cell_output coq_kernel_status_message_area coq_kernel_rolled_back_status_message\" style=\"padding: 5px 0px; display: none;\">\n",
       "    <i class=\"fa-exclamation-circle fa text-info\"></i>\n",
       "    <span>Cell rolled back.</span>\n",
       "</div>\n",
       "\n",
       "<div class=\"coq_kernel_rich_cell_output coq_kernel_roll_back_controls_area\" style=\"display: none; position: relative;\">\n",
       "    <button class=\"btn btn-default btn-xs coq_kernel_roll_back_button\" onclick=\"CoqKernel.roll_back(this)\">\n",
       "        <i class=\"fa-step-backward fa\"></i>\n",
       "        <span class=\"toolbar-btn-label\">Rollback cell</span>\n",
       "    </button>\n",
       "\n",
       "    <div style=\"display: inline-block; vertical-align: middle; padding-left: 0; padding-right: 0;\">\n",
       "      <input class=\"coq_kernel_auto_roll_back_checkbox\" type=\"checkbox\" value=\"\" onchange=\"CoqKernel.toggle_auto_roll_back(this)\" checked>\n",
       "      <label\">Auto rollback</label>\n",
       "    </div>\n",
       "</div>\n"
      ],
      "text/plain": [
       "Proving: mult_0_n''\n",
       "\n",
       "1 subgoal\n",
       "\n",
       "n : nat\n",
       "\n",
       "1/1 -----------\n",
       "0 = 0"
      ]
     },
     "execution_count": 53,
     "metadata": {
      "coq_kernel_evaluated": true,
      "coq_kernel_execution_id": "3b3f1c6cbb5f4b488760a77b3f17f62e",
      "coq_kernel_rolled_back": false
     },
     "output_type": "execute_result"
    }
   ],
   "source": [
    "  simpl."
   ]
  },
  {
   "cell_type": "code",
   "execution_count": 53,
   "metadata": {
    "coq_kernel_metadata": {
     "auto_roll_back": true,
     "cell_id": "5ca39fb632eb4443b0952826d8ed3deb",
     "evaluated": true,
     "execution_id": "918efce706154bd6969ab6acdab2f820",
     "rolled_back": false
    }
   },
   "outputs": [
    {
     "data": {
      "text/html": [
       "\n",
       "<div class=\"coq_kernel_output_area\">\n",
       "    <pre>Proving: mult_0_n''\n",
       "\n",
       "No more subgoals</pre>\n",
       "</div>\n",
       "\n",
       "<div class=\"coq_kernel_rich_cell_output coq_kernel_status_message_area\" style=\"padding: 5px 0px;\">\n",
       "    <i class=\"fa-check fa text-success\"></i>\n",
       "    <span>Cell evaluated.</span>\n",
       "</div>\n",
       "\n",
       "<div class=\"coq_kernel_rich_cell_output coq_kernel_status_message_area coq_kernel_rolled_back_status_message\" style=\"padding: 5px 0px; display: none;\">\n",
       "    <i class=\"fa-exclamation-circle fa text-info\"></i>\n",
       "    <span>Cell rolled back.</span>\n",
       "</div>\n",
       "\n",
       "<div class=\"coq_kernel_rich_cell_output coq_kernel_roll_back_controls_area\" style=\"display: none; position: relative;\">\n",
       "    <button class=\"btn btn-default btn-xs coq_kernel_roll_back_button\" onclick=\"CoqKernel.roll_back(this)\">\n",
       "        <i class=\"fa-step-backward fa\"></i>\n",
       "        <span class=\"toolbar-btn-label\">Rollback cell</span>\n",
       "    </button>\n",
       "\n",
       "    <div style=\"display: inline-block; vertical-align: middle; padding-left: 0; padding-right: 0;\">\n",
       "      <input class=\"coq_kernel_auto_roll_back_checkbox\" type=\"checkbox\" value=\"\" onchange=\"CoqKernel.toggle_auto_roll_back(this)\" checked>\n",
       "      <label\">Auto rollback</label>\n",
       "    </div>\n",
       "</div>\n"
      ],
      "text/plain": [
       "Proving: mult_0_n''\n",
       "\n",
       "No more subgoals"
      ]
     },
     "execution_count": 54,
     "metadata": {
      "coq_kernel_evaluated": true,
      "coq_kernel_execution_id": "918efce706154bd6969ab6acdab2f820",
      "coq_kernel_rolled_back": false
     },
     "output_type": "execute_result"
    }
   ],
   "source": [
    "  reflexivity."
   ]
  },
  {
   "cell_type": "code",
   "execution_count": 54,
   "metadata": {
    "coq_kernel_metadata": {
     "auto_roll_back": true,
     "cell_id": "2d99c9291ed1467eaa6da52f422d2a2d",
     "evaluated": true,
     "execution_id": "42c4675cb5314915b5037ead2164a2f7",
     "rolled_back": false
    }
   },
   "outputs": [
    {
     "data": {
      "text/html": [
       "\n",
       "<div class=\"coq_kernel_output_area\">\n",
       "    <pre></pre>\n",
       "</div>\n",
       "\n",
       "<div class=\"coq_kernel_rich_cell_output coq_kernel_status_message_area\" style=\"padding: 5px 0px;\">\n",
       "    <i class=\"fa-check fa text-success\"></i>\n",
       "    <span>Cell evaluated.</span>\n",
       "</div>\n",
       "\n",
       "<div class=\"coq_kernel_rich_cell_output coq_kernel_status_message_area coq_kernel_rolled_back_status_message\" style=\"padding: 5px 0px; display: none;\">\n",
       "    <i class=\"fa-exclamation-circle fa text-info\"></i>\n",
       "    <span>Cell rolled back.</span>\n",
       "</div>\n",
       "\n",
       "<div class=\"coq_kernel_rich_cell_output coq_kernel_roll_back_controls_area\" style=\"display: none; position: relative;\">\n",
       "    <button class=\"btn btn-default btn-xs coq_kernel_roll_back_button\" onclick=\"CoqKernel.roll_back(this)\">\n",
       "        <i class=\"fa-step-backward fa\"></i>\n",
       "        <span class=\"toolbar-btn-label\">Rollback cell</span>\n",
       "    </button>\n",
       "\n",
       "    <div style=\"display: inline-block; vertical-align: middle; padding-left: 0; padding-right: 0;\">\n",
       "      <input class=\"coq_kernel_auto_roll_back_checkbox\" type=\"checkbox\" value=\"\" onchange=\"CoqKernel.toggle_auto_roll_back(this)\" checked>\n",
       "      <label\">Auto rollback</label>\n",
       "    </div>\n",
       "</div>\n"
      ],
      "text/plain": []
     },
     "execution_count": 55,
     "metadata": {
      "coq_kernel_evaluated": true,
      "coq_kernel_execution_id": "42c4675cb5314915b5037ead2164a2f7",
      "coq_kernel_rolled_back": false
     },
     "output_type": "execute_result"
    }
   ],
   "source": [
    "Qed."
   ]
  },
  {
   "cell_type": "markdown",
   "metadata": {
    "coq_kernel_metadata": {
     "auto_roll_back": true
    }
   },
   "source": [
    "<a id=\"ans24\"></a>\n",
    "## 演習問題 2-4  解答\n",
    "　<font size=\"4\">次の定理を証明せよ。</font>\n",
    " <font color=\"blue\"　size=\"4\"><br> Theorem plus_id_nm : (forall n m : nat , n = m -> n+n = m + m ).</font>\n",
    "\n",
    "[作業用ページで証明をして見る](#ex21)　/ [演習問題に戻る](./2-Equal.ipynb#ex21 ) \n",
    "\n",
    "## 解答\n",
    "```\n",
    "Theorem  plus_id_nm : (forall n m : nat , n = m -> n+n = m + m ).\n",
    "Proof.\n",
    "  intros n m.\n",
    "  intros H.\n",
    "  rewrite -> H.\n",
    "  reflexivity.\n",
    "Qed.\n",
    "```\n",
    "\n",
    "### 下のCellを実行して確かめよ。"
   ]
  },
  {
   "cell_type": "code",
   "execution_count": 55,
   "metadata": {
    "coq_kernel_metadata": {
     "auto_roll_back": true,
     "cell_id": "0c39c858399548dc8e496decd81bbc1a",
     "evaluated": true,
     "execution_id": "370ef16aa285434180fb9431f7b5e54b",
     "rolled_back": false
    }
   },
   "outputs": [
    {
     "data": {
      "text/html": [
       "\n",
       "<div class=\"coq_kernel_output_area\">\n",
       "    <pre></pre>\n",
       "</div>\n",
       "\n",
       "<div class=\"coq_kernel_rich_cell_output coq_kernel_status_message_area\" style=\"padding: 5px 0px;\">\n",
       "    <i class=\"fa-check fa text-success\"></i>\n",
       "    <span>Cell evaluated.</span>\n",
       "</div>\n",
       "\n",
       "<div class=\"coq_kernel_rich_cell_output coq_kernel_status_message_area coq_kernel_rolled_back_status_message\" style=\"padding: 5px 0px; display: none;\">\n",
       "    <i class=\"fa-exclamation-circle fa text-info\"></i>\n",
       "    <span>Cell rolled back.</span>\n",
       "</div>\n",
       "\n",
       "<div class=\"coq_kernel_rich_cell_output coq_kernel_roll_back_controls_area\" style=\"display: none; position: relative;\">\n",
       "    <button class=\"btn btn-default btn-xs coq_kernel_roll_back_button\" onclick=\"CoqKernel.roll_back(this)\">\n",
       "        <i class=\"fa-step-backward fa\"></i>\n",
       "        <span class=\"toolbar-btn-label\">Rollback cell</span>\n",
       "    </button>\n",
       "\n",
       "    <div style=\"display: inline-block; vertical-align: middle; padding-left: 0; padding-right: 0;\">\n",
       "      <input class=\"coq_kernel_auto_roll_back_checkbox\" type=\"checkbox\" value=\"\" onchange=\"CoqKernel.toggle_auto_roll_back(this)\" checked>\n",
       "      <label\">Auto rollback</label>\n",
       "    </div>\n",
       "</div>\n"
      ],
      "text/plain": []
     },
     "execution_count": 62,
     "metadata": {
      "coq_kernel_evaluated": true,
      "coq_kernel_execution_id": "370ef16aa285434180fb9431f7b5e54b",
      "coq_kernel_rolled_back": false
     },
     "output_type": "execute_result"
    }
   ],
   "source": [
    "Theorem  plus_id_nm' : (forall n m : nat , n = m -> n+n = m + m ).\n",
    "Proof.\n",
    "  intros n m.\n",
    "  intros H.\n",
    "  rewrite -> H.\n",
    "  reflexivity.\n",
    "Qed."
   ]
  },
  {
   "cell_type": "markdown",
   "metadata": {
    "coq_kernel_metadata": {
     "auto_roll_back": true
    }
   },
   "source": [
    "### 次のCell を一つづつ実行して、各tacticsの働きを確認せよ。"
   ]
  },
  {
   "cell_type": "code",
   "execution_count": 62,
   "metadata": {
    "coq_kernel_metadata": {
     "auto_roll_back": true,
     "cell_id": "0261ed01077a48c585651c1c87fc0ce7",
     "evaluated": true,
     "execution_id": "7bde5de0f4d340a289bb0d70b1ec4191",
     "rolled_back": false
    }
   },
   "outputs": [
    {
     "data": {
      "text/html": [
       "\n",
       "<div class=\"coq_kernel_output_area\">\n",
       "    <pre>Proving: plus_id_nm''\n",
       "\n",
       "1 subgoal\n",
       "\n",
       "1/1 -----------\n",
       "forall n m : nat, n = m -> n + n = m + m</pre>\n",
       "</div>\n",
       "\n",
       "<div class=\"coq_kernel_rich_cell_output coq_kernel_status_message_area\" style=\"padding: 5px 0px;\">\n",
       "    <i class=\"fa-check fa text-success\"></i>\n",
       "    <span>Cell evaluated.</span>\n",
       "</div>\n",
       "\n",
       "<div class=\"coq_kernel_rich_cell_output coq_kernel_status_message_area coq_kernel_rolled_back_status_message\" style=\"padding: 5px 0px; display: none;\">\n",
       "    <i class=\"fa-exclamation-circle fa text-info\"></i>\n",
       "    <span>Cell rolled back.</span>\n",
       "</div>\n",
       "\n",
       "<div class=\"coq_kernel_rich_cell_output coq_kernel_roll_back_controls_area\" style=\"display: none; position: relative;\">\n",
       "    <button class=\"btn btn-default btn-xs coq_kernel_roll_back_button\" onclick=\"CoqKernel.roll_back(this)\">\n",
       "        <i class=\"fa-step-backward fa\"></i>\n",
       "        <span class=\"toolbar-btn-label\">Rollback cell</span>\n",
       "    </button>\n",
       "\n",
       "    <div style=\"display: inline-block; vertical-align: middle; padding-left: 0; padding-right: 0;\">\n",
       "      <input class=\"coq_kernel_auto_roll_back_checkbox\" type=\"checkbox\" value=\"\" onchange=\"CoqKernel.toggle_auto_roll_back(this)\" checked>\n",
       "      <label\">Auto rollback</label>\n",
       "    </div>\n",
       "</div>\n"
      ],
      "text/plain": [
       "Proving: plus_id_nm''\n",
       "\n",
       "1 subgoal\n",
       "\n",
       "1/1 -----------\n",
       "forall n m : nat, n = m -> n + n = m + m"
      ]
     },
     "execution_count": 64,
     "metadata": {
      "coq_kernel_evaluated": true,
      "coq_kernel_execution_id": "7bde5de0f4d340a289bb0d70b1ec4191",
      "coq_kernel_rolled_back": false
     },
     "output_type": "execute_result"
    }
   ],
   "source": [
    "Theorem  plus_id_nm'' : (forall n m : nat , n = m -> n+n = m + m ).\n",
    "Proof."
   ]
  },
  {
   "cell_type": "code",
   "execution_count": 64,
   "metadata": {
    "coq_kernel_metadata": {
     "auto_roll_back": true,
     "cell_id": "d821dc80deb1499f8d5f29f54ae54be5",
     "evaluated": true,
     "execution_id": "51458ddbf7b04ca0811e975961e0c5b1",
     "rolled_back": false
    }
   },
   "outputs": [
    {
     "data": {
      "text/html": [
       "\n",
       "<div class=\"coq_kernel_output_area\">\n",
       "    <pre>Proving: plus_id_nm''\n",
       "\n",
       "1 subgoal\n",
       "\n",
       "n, m : nat\n",
       "\n",
       "1/1 -----------\n",
       "n = m -> n + n = m + m</pre>\n",
       "</div>\n",
       "\n",
       "<div class=\"coq_kernel_rich_cell_output coq_kernel_status_message_area\" style=\"padding: 5px 0px;\">\n",
       "    <i class=\"fa-check fa text-success\"></i>\n",
       "    <span>Cell evaluated.</span>\n",
       "</div>\n",
       "\n",
       "<div class=\"coq_kernel_rich_cell_output coq_kernel_status_message_area coq_kernel_rolled_back_status_message\" style=\"padding: 5px 0px; display: none;\">\n",
       "    <i class=\"fa-exclamation-circle fa text-info\"></i>\n",
       "    <span>Cell rolled back.</span>\n",
       "</div>\n",
       "\n",
       "<div class=\"coq_kernel_rich_cell_output coq_kernel_roll_back_controls_area\" style=\"display: none; position: relative;\">\n",
       "    <button class=\"btn btn-default btn-xs coq_kernel_roll_back_button\" onclick=\"CoqKernel.roll_back(this)\">\n",
       "        <i class=\"fa-step-backward fa\"></i>\n",
       "        <span class=\"toolbar-btn-label\">Rollback cell</span>\n",
       "    </button>\n",
       "\n",
       "    <div style=\"display: inline-block; vertical-align: middle; padding-left: 0; padding-right: 0;\">\n",
       "      <input class=\"coq_kernel_auto_roll_back_checkbox\" type=\"checkbox\" value=\"\" onchange=\"CoqKernel.toggle_auto_roll_back(this)\" checked>\n",
       "      <label\">Auto rollback</label>\n",
       "    </div>\n",
       "</div>\n"
      ],
      "text/plain": [
       "Proving: plus_id_nm''\n",
       "\n",
       "1 subgoal\n",
       "\n",
       "n, m : nat\n",
       "\n",
       "1/1 -----------\n",
       "n = m -> n + n = m + m"
      ]
     },
     "execution_count": 65,
     "metadata": {
      "coq_kernel_evaluated": true,
      "coq_kernel_execution_id": "51458ddbf7b04ca0811e975961e0c5b1",
      "coq_kernel_rolled_back": false
     },
     "output_type": "execute_result"
    }
   ],
   "source": [
    "  intros n m."
   ]
  },
  {
   "cell_type": "code",
   "execution_count": 65,
   "metadata": {
    "coq_kernel_metadata": {
     "auto_roll_back": true,
     "cell_id": "c7ad8e318129403d8c369669d20429a5",
     "evaluated": true,
     "execution_id": "7e6271d90c364fdaad05d67eb91541bd",
     "rolled_back": false
    }
   },
   "outputs": [
    {
     "data": {
      "text/html": [
       "\n",
       "<div class=\"coq_kernel_output_area\">\n",
       "    <pre>Proving: plus_id_nm''\n",
       "\n",
       "1 subgoal\n",
       "\n",
       "n, m : nat\n",
       "H : n = m\n",
       "\n",
       "1/1 -----------\n",
       "n + n = m + m</pre>\n",
       "</div>\n",
       "\n",
       "<div class=\"coq_kernel_rich_cell_output coq_kernel_status_message_area\" style=\"padding: 5px 0px;\">\n",
       "    <i class=\"fa-check fa text-success\"></i>\n",
       "    <span>Cell evaluated.</span>\n",
       "</div>\n",
       "\n",
       "<div class=\"coq_kernel_rich_cell_output coq_kernel_status_message_area coq_kernel_rolled_back_status_message\" style=\"padding: 5px 0px; display: none;\">\n",
       "    <i class=\"fa-exclamation-circle fa text-info\"></i>\n",
       "    <span>Cell rolled back.</span>\n",
       "</div>\n",
       "\n",
       "<div class=\"coq_kernel_rich_cell_output coq_kernel_roll_back_controls_area\" style=\"display: none; position: relative;\">\n",
       "    <button class=\"btn btn-default btn-xs coq_kernel_roll_back_button\" onclick=\"CoqKernel.roll_back(this)\">\n",
       "        <i class=\"fa-step-backward fa\"></i>\n",
       "        <span class=\"toolbar-btn-label\">Rollback cell</span>\n",
       "    </button>\n",
       "\n",
       "    <div style=\"display: inline-block; vertical-align: middle; padding-left: 0; padding-right: 0;\">\n",
       "      <input class=\"coq_kernel_auto_roll_back_checkbox\" type=\"checkbox\" value=\"\" onchange=\"CoqKernel.toggle_auto_roll_back(this)\" checked>\n",
       "      <label\">Auto rollback</label>\n",
       "    </div>\n",
       "</div>\n"
      ],
      "text/plain": [
       "Proving: plus_id_nm''\n",
       "\n",
       "1 subgoal\n",
       "\n",
       "n, m : nat\n",
       "H : n = m\n",
       "\n",
       "1/1 -----------\n",
       "n + n = m + m"
      ]
     },
     "execution_count": 66,
     "metadata": {
      "coq_kernel_evaluated": true,
      "coq_kernel_execution_id": "7e6271d90c364fdaad05d67eb91541bd",
      "coq_kernel_rolled_back": false
     },
     "output_type": "execute_result"
    }
   ],
   "source": [
    "  intros H."
   ]
  },
  {
   "cell_type": "code",
   "execution_count": 66,
   "metadata": {
    "coq_kernel_metadata": {
     "auto_roll_back": true,
     "cell_id": "27326d92abfc4887a8a02b5ce72805df",
     "evaluated": true,
     "execution_id": "2f386335d7294b2085936016fa6c00de",
     "rolled_back": false
    }
   },
   "outputs": [
    {
     "data": {
      "text/html": [
       "\n",
       "<div class=\"coq_kernel_output_area\">\n",
       "    <pre>Proving: plus_id_nm''\n",
       "\n",
       "1 subgoal\n",
       "\n",
       "n, m : nat\n",
       "H : n = m\n",
       "\n",
       "1/1 -----------\n",
       "m + m = m + m</pre>\n",
       "</div>\n",
       "\n",
       "<div class=\"coq_kernel_rich_cell_output coq_kernel_status_message_area\" style=\"padding: 5px 0px;\">\n",
       "    <i class=\"fa-check fa text-success\"></i>\n",
       "    <span>Cell evaluated.</span>\n",
       "</div>\n",
       "\n",
       "<div class=\"coq_kernel_rich_cell_output coq_kernel_status_message_area coq_kernel_rolled_back_status_message\" style=\"padding: 5px 0px; display: none;\">\n",
       "    <i class=\"fa-exclamation-circle fa text-info\"></i>\n",
       "    <span>Cell rolled back.</span>\n",
       "</div>\n",
       "\n",
       "<div class=\"coq_kernel_rich_cell_output coq_kernel_roll_back_controls_area\" style=\"display: none; position: relative;\">\n",
       "    <button class=\"btn btn-default btn-xs coq_kernel_roll_back_button\" onclick=\"CoqKernel.roll_back(this)\">\n",
       "        <i class=\"fa-step-backward fa\"></i>\n",
       "        <span class=\"toolbar-btn-label\">Rollback cell</span>\n",
       "    </button>\n",
       "\n",
       "    <div style=\"display: inline-block; vertical-align: middle; padding-left: 0; padding-right: 0;\">\n",
       "      <input class=\"coq_kernel_auto_roll_back_checkbox\" type=\"checkbox\" value=\"\" onchange=\"CoqKernel.toggle_auto_roll_back(this)\" checked>\n",
       "      <label\">Auto rollback</label>\n",
       "    </div>\n",
       "</div>\n"
      ],
      "text/plain": [
       "Proving: plus_id_nm''\n",
       "\n",
       "1 subgoal\n",
       "\n",
       "n, m : nat\n",
       "H : n = m\n",
       "\n",
       "1/1 -----------\n",
       "m + m = m + m"
      ]
     },
     "execution_count": 67,
     "metadata": {
      "coq_kernel_evaluated": true,
      "coq_kernel_execution_id": "2f386335d7294b2085936016fa6c00de",
      "coq_kernel_rolled_back": false
     },
     "output_type": "execute_result"
    }
   ],
   "source": [
    "  rewrite -> H."
   ]
  },
  {
   "cell_type": "code",
   "execution_count": 67,
   "metadata": {
    "coq_kernel_metadata": {
     "auto_roll_back": true,
     "cell_id": "b3080e2b16eb4eaea47594d0951b9268",
     "evaluated": true,
     "execution_id": "06ef15f60e3b4df98bc5bb808723f822",
     "rolled_back": false
    }
   },
   "outputs": [
    {
     "data": {
      "text/html": [
       "\n",
       "<div class=\"coq_kernel_output_area\">\n",
       "    <pre>Proving: plus_id_nm''\n",
       "\n",
       "No more subgoals</pre>\n",
       "</div>\n",
       "\n",
       "<div class=\"coq_kernel_rich_cell_output coq_kernel_status_message_area\" style=\"padding: 5px 0px;\">\n",
       "    <i class=\"fa-check fa text-success\"></i>\n",
       "    <span>Cell evaluated.</span>\n",
       "</div>\n",
       "\n",
       "<div class=\"coq_kernel_rich_cell_output coq_kernel_status_message_area coq_kernel_rolled_back_status_message\" style=\"padding: 5px 0px; display: none;\">\n",
       "    <i class=\"fa-exclamation-circle fa text-info\"></i>\n",
       "    <span>Cell rolled back.</span>\n",
       "</div>\n",
       "\n",
       "<div class=\"coq_kernel_rich_cell_output coq_kernel_roll_back_controls_area\" style=\"display: none; position: relative;\">\n",
       "    <button class=\"btn btn-default btn-xs coq_kernel_roll_back_button\" onclick=\"CoqKernel.roll_back(this)\">\n",
       "        <i class=\"fa-step-backward fa\"></i>\n",
       "        <span class=\"toolbar-btn-label\">Rollback cell</span>\n",
       "    </button>\n",
       "\n",
       "    <div style=\"display: inline-block; vertical-align: middle; padding-left: 0; padding-right: 0;\">\n",
       "      <input class=\"coq_kernel_auto_roll_back_checkbox\" type=\"checkbox\" value=\"\" onchange=\"CoqKernel.toggle_auto_roll_back(this)\" checked>\n",
       "      <label\">Auto rollback</label>\n",
       "    </div>\n",
       "</div>\n"
      ],
      "text/plain": [
       "Proving: plus_id_nm''\n",
       "\n",
       "No more subgoals"
      ]
     },
     "execution_count": 68,
     "metadata": {
      "coq_kernel_evaluated": true,
      "coq_kernel_execution_id": "06ef15f60e3b4df98bc5bb808723f822",
      "coq_kernel_rolled_back": false
     },
     "output_type": "execute_result"
    }
   ],
   "source": [
    "  reflexivity."
   ]
  },
  {
   "cell_type": "code",
   "execution_count": 68,
   "metadata": {
    "coq_kernel_metadata": {
     "auto_roll_back": true,
     "cell_id": "a190848271694611a952e2e6ae053b8f",
     "evaluated": true,
     "execution_id": "d437f246df074d1780aeb3ec3bebd6f2",
     "rolled_back": false
    }
   },
   "outputs": [
    {
     "data": {
      "text/html": [
       "\n",
       "<div class=\"coq_kernel_output_area\">\n",
       "    <pre></pre>\n",
       "</div>\n",
       "\n",
       "<div class=\"coq_kernel_rich_cell_output coq_kernel_status_message_area\" style=\"padding: 5px 0px;\">\n",
       "    <i class=\"fa-check fa text-success\"></i>\n",
       "    <span>Cell evaluated.</span>\n",
       "</div>\n",
       "\n",
       "<div class=\"coq_kernel_rich_cell_output coq_kernel_status_message_area coq_kernel_rolled_back_status_message\" style=\"padding: 5px 0px; display: none;\">\n",
       "    <i class=\"fa-exclamation-circle fa text-info\"></i>\n",
       "    <span>Cell rolled back.</span>\n",
       "</div>\n",
       "\n",
       "<div class=\"coq_kernel_rich_cell_output coq_kernel_roll_back_controls_area\" style=\"display: none; position: relative;\">\n",
       "    <button class=\"btn btn-default btn-xs coq_kernel_roll_back_button\" onclick=\"CoqKernel.roll_back(this)\">\n",
       "        <i class=\"fa-step-backward fa\"></i>\n",
       "        <span class=\"toolbar-btn-label\">Rollback cell</span>\n",
       "    </button>\n",
       "\n",
       "    <div style=\"display: inline-block; vertical-align: middle; padding-left: 0; padding-right: 0;\">\n",
       "      <input class=\"coq_kernel_auto_roll_back_checkbox\" type=\"checkbox\" value=\"\" onchange=\"CoqKernel.toggle_auto_roll_back(this)\" checked>\n",
       "      <label\">Auto rollback</label>\n",
       "    </div>\n",
       "</div>\n"
      ],
      "text/plain": []
     },
     "execution_count": 69,
     "metadata": {
      "coq_kernel_evaluated": true,
      "coq_kernel_execution_id": "d437f246df074d1780aeb3ec3bebd6f2",
      "coq_kernel_rolled_back": false
     },
     "output_type": "execute_result"
    }
   ],
   "source": [
    "Qed."
   ]
  },
  {
   "cell_type": "markdown",
   "metadata": {
    "coq_kernel_metadata": {
     "auto_roll_back": true
    }
   },
   "source": [
    "<a id=\"ans25\"></a>\n",
    "## 演習問題 2-5  解答\n",
    "　<font size=\"4\">次の定理を証明せよ。</font>\n",
    "  <font color=\"blue\"　size=\"4\"><br> Theorem plus_id : (forall n m o : nat , n = m -> m = o -> n + m = m + o ).</font>\n",
    "\n",
    "[作業用ページで証明をして見る](#ex25)　/ [演習問題に戻る](./2-Equal.ipynb#ex25 ) \n",
    "\n",
    "## 解答\n",
    "```\n",
    "Theorem  plus_id : (forall n m o : nat , n = m -> m = o -> n + m = m + o ).\n",
    "Proof.\n",
    "  intros n m o.\n",
    "  intros n_eq_m m_eq_o.\n",
    "  rewrite -> n_eq_m.\n",
    "  rewrite <- m_eq_o.\n",
    "  reflexivity.\n",
    "Qed.\n",
    "```\n",
    "\n",
    "### 下のCellを実行して確かめよ。"
   ]
  },
  {
   "cell_type": "code",
   "execution_count": 69,
   "metadata": {
    "coq_kernel_metadata": {
     "auto_roll_back": true,
     "cell_id": "cb5fab71a71d4f698287414ac093acbc",
     "evaluated": true,
     "execution_id": "3a22607b0dfc4958808eb0e4f8464c16",
     "rolled_back": false
    }
   },
   "outputs": [
    {
     "data": {
      "text/html": [
       "\n",
       "<div class=\"coq_kernel_output_area\">\n",
       "    <pre></pre>\n",
       "</div>\n",
       "\n",
       "<div class=\"coq_kernel_rich_cell_output coq_kernel_status_message_area\" style=\"padding: 5px 0px;\">\n",
       "    <i class=\"fa-check fa text-success\"></i>\n",
       "    <span>Cell evaluated.</span>\n",
       "</div>\n",
       "\n",
       "<div class=\"coq_kernel_rich_cell_output coq_kernel_status_message_area coq_kernel_rolled_back_status_message\" style=\"padding: 5px 0px; display: none;\">\n",
       "    <i class=\"fa-exclamation-circle fa text-info\"></i>\n",
       "    <span>Cell rolled back.</span>\n",
       "</div>\n",
       "\n",
       "<div class=\"coq_kernel_rich_cell_output coq_kernel_roll_back_controls_area\" style=\"display: none; position: relative;\">\n",
       "    <button class=\"btn btn-default btn-xs coq_kernel_roll_back_button\" onclick=\"CoqKernel.roll_back(this)\">\n",
       "        <i class=\"fa-step-backward fa\"></i>\n",
       "        <span class=\"toolbar-btn-label\">Rollback cell</span>\n",
       "    </button>\n",
       "\n",
       "    <div style=\"display: inline-block; vertical-align: middle; padding-left: 0; padding-right: 0;\">\n",
       "      <input class=\"coq_kernel_auto_roll_back_checkbox\" type=\"checkbox\" value=\"\" onchange=\"CoqKernel.toggle_auto_roll_back(this)\" checked>\n",
       "      <label\">Auto rollback</label>\n",
       "    </div>\n",
       "</div>\n"
      ],
      "text/plain": []
     },
     "execution_count": 77,
     "metadata": {
      "coq_kernel_evaluated": true,
      "coq_kernel_execution_id": "3a22607b0dfc4958808eb0e4f8464c16",
      "coq_kernel_rolled_back": false
     },
     "output_type": "execute_result"
    }
   ],
   "source": [
    "Theorem  plus_id' : (forall n m o : nat , n = m -> m = o -> n + m = m + o ).\n",
    "Proof.\n",
    "  intros n m o.\n",
    "  intros n_eq_m m_eq_o.\n",
    "  rewrite -> n_eq_m.\n",
    "  rewrite <- m_eq_o.\n",
    "  reflexivity.\n",
    "Qed."
   ]
  },
  {
   "cell_type": "markdown",
   "metadata": {
    "coq_kernel_metadata": {
     "auto_roll_back": true
    }
   },
   "source": [
    "### 次のCell を一つづつ実行して、各tacticsの働きを確認せよ。"
   ]
  },
  {
   "cell_type": "code",
   "execution_count": 77,
   "metadata": {
    "coq_kernel_metadata": {
     "auto_roll_back": true,
     "cell_id": "4c26334829b2446386fa78554047c8ff",
     "evaluated": true,
     "execution_id": "f5dc6ba4eb8a46a39e1978218cb6f265",
     "rolled_back": false
    }
   },
   "outputs": [
    {
     "data": {
      "text/html": [
       "\n",
       "<div class=\"coq_kernel_output_area\">\n",
       "    <pre>Proving: plus_id''\n",
       "\n",
       "1 subgoal\n",
       "\n",
       "1/1 -----------\n",
       "forall n m o : nat, n = m -> m = o -> n + m = m + o</pre>\n",
       "</div>\n",
       "\n",
       "<div class=\"coq_kernel_rich_cell_output coq_kernel_status_message_area\" style=\"padding: 5px 0px;\">\n",
       "    <i class=\"fa-check fa text-success\"></i>\n",
       "    <span>Cell evaluated.</span>\n",
       "</div>\n",
       "\n",
       "<div class=\"coq_kernel_rich_cell_output coq_kernel_status_message_area coq_kernel_rolled_back_status_message\" style=\"padding: 5px 0px; display: none;\">\n",
       "    <i class=\"fa-exclamation-circle fa text-info\"></i>\n",
       "    <span>Cell rolled back.</span>\n",
       "</div>\n",
       "\n",
       "<div class=\"coq_kernel_rich_cell_output coq_kernel_roll_back_controls_area\" style=\"display: none; position: relative;\">\n",
       "    <button class=\"btn btn-default btn-xs coq_kernel_roll_back_button\" onclick=\"CoqKernel.roll_back(this)\">\n",
       "        <i class=\"fa-step-backward fa\"></i>\n",
       "        <span class=\"toolbar-btn-label\">Rollback cell</span>\n",
       "    </button>\n",
       "\n",
       "    <div style=\"display: inline-block; vertical-align: middle; padding-left: 0; padding-right: 0;\">\n",
       "      <input class=\"coq_kernel_auto_roll_back_checkbox\" type=\"checkbox\" value=\"\" onchange=\"CoqKernel.toggle_auto_roll_back(this)\" checked>\n",
       "      <label\">Auto rollback</label>\n",
       "    </div>\n",
       "</div>\n"
      ],
      "text/plain": [
       "Proving: plus_id''\n",
       "\n",
       "1 subgoal\n",
       "\n",
       "1/1 -----------\n",
       "forall n m o : nat, n = m -> m = o -> n + m = m + o"
      ]
     },
     "execution_count": 79,
     "metadata": {
      "coq_kernel_evaluated": true,
      "coq_kernel_execution_id": "f5dc6ba4eb8a46a39e1978218cb6f265",
      "coq_kernel_rolled_back": false
     },
     "output_type": "execute_result"
    }
   ],
   "source": [
    "Theorem  plus_id'' : (forall n m o : nat , n = m -> m = o -> n + m = m + o ).\n",
    "Proof."
   ]
  },
  {
   "cell_type": "code",
   "execution_count": 79,
   "metadata": {
    "coq_kernel_metadata": {
     "auto_roll_back": true,
     "cell_id": "8b15523b7bbe467599d0761e7fa43020",
     "evaluated": true,
     "execution_id": "2939e6b658b748e081271341187a8480",
     "rolled_back": false
    }
   },
   "outputs": [
    {
     "data": {
      "text/html": [
       "\n",
       "<div class=\"coq_kernel_output_area\">\n",
       "    <pre>Proving: plus_id''\n",
       "\n",
       "1 subgoal\n",
       "\n",
       "n, m, o : nat\n",
       "\n",
       "1/1 -----------\n",
       "n = m -> m = o -> n + m = m + o</pre>\n",
       "</div>\n",
       "\n",
       "<div class=\"coq_kernel_rich_cell_output coq_kernel_status_message_area\" style=\"padding: 5px 0px;\">\n",
       "    <i class=\"fa-check fa text-success\"></i>\n",
       "    <span>Cell evaluated.</span>\n",
       "</div>\n",
       "\n",
       "<div class=\"coq_kernel_rich_cell_output coq_kernel_status_message_area coq_kernel_rolled_back_status_message\" style=\"padding: 5px 0px; display: none;\">\n",
       "    <i class=\"fa-exclamation-circle fa text-info\"></i>\n",
       "    <span>Cell rolled back.</span>\n",
       "</div>\n",
       "\n",
       "<div class=\"coq_kernel_rich_cell_output coq_kernel_roll_back_controls_area\" style=\"display: none; position: relative;\">\n",
       "    <button class=\"btn btn-default btn-xs coq_kernel_roll_back_button\" onclick=\"CoqKernel.roll_back(this)\">\n",
       "        <i class=\"fa-step-backward fa\"></i>\n",
       "        <span class=\"toolbar-btn-label\">Rollback cell</span>\n",
       "    </button>\n",
       "\n",
       "    <div style=\"display: inline-block; vertical-align: middle; padding-left: 0; padding-right: 0;\">\n",
       "      <input class=\"coq_kernel_auto_roll_back_checkbox\" type=\"checkbox\" value=\"\" onchange=\"CoqKernel.toggle_auto_roll_back(this)\" checked>\n",
       "      <label\">Auto rollback</label>\n",
       "    </div>\n",
       "</div>\n"
      ],
      "text/plain": [
       "Proving: plus_id''\n",
       "\n",
       "1 subgoal\n",
       "\n",
       "n, m, o : nat\n",
       "\n",
       "1/1 -----------\n",
       "n = m -> m = o -> n + m = m + o"
      ]
     },
     "execution_count": 80,
     "metadata": {
      "coq_kernel_evaluated": true,
      "coq_kernel_execution_id": "2939e6b658b748e081271341187a8480",
      "coq_kernel_rolled_back": false
     },
     "output_type": "execute_result"
    }
   ],
   "source": [
    "  intros n m o."
   ]
  },
  {
   "cell_type": "code",
   "execution_count": 80,
   "metadata": {
    "coq_kernel_metadata": {
     "auto_roll_back": true,
     "cell_id": "265fdb3a123946599c87c72b8a81d2bb",
     "evaluated": true,
     "execution_id": "89807ca60aea47a79565835476260dbf",
     "rolled_back": false
    }
   },
   "outputs": [
    {
     "data": {
      "text/html": [
       "\n",
       "<div class=\"coq_kernel_output_area\">\n",
       "    <pre>Proving: plus_id''\n",
       "\n",
       "1 subgoal\n",
       "\n",
       "n, m, o : nat\n",
       "n_eq_m : n = m\n",
       "m_eq_o : m = o\n",
       "\n",
       "1/1 -----------\n",
       "n + m = m + o</pre>\n",
       "</div>\n",
       "\n",
       "<div class=\"coq_kernel_rich_cell_output coq_kernel_status_message_area\" style=\"padding: 5px 0px;\">\n",
       "    <i class=\"fa-check fa text-success\"></i>\n",
       "    <span>Cell evaluated.</span>\n",
       "</div>\n",
       "\n",
       "<div class=\"coq_kernel_rich_cell_output coq_kernel_status_message_area coq_kernel_rolled_back_status_message\" style=\"padding: 5px 0px; display: none;\">\n",
       "    <i class=\"fa-exclamation-circle fa text-info\"></i>\n",
       "    <span>Cell rolled back.</span>\n",
       "</div>\n",
       "\n",
       "<div class=\"coq_kernel_rich_cell_output coq_kernel_roll_back_controls_area\" style=\"display: none; position: relative;\">\n",
       "    <button class=\"btn btn-default btn-xs coq_kernel_roll_back_button\" onclick=\"CoqKernel.roll_back(this)\">\n",
       "        <i class=\"fa-step-backward fa\"></i>\n",
       "        <span class=\"toolbar-btn-label\">Rollback cell</span>\n",
       "    </button>\n",
       "\n",
       "    <div style=\"display: inline-block; vertical-align: middle; padding-left: 0; padding-right: 0;\">\n",
       "      <input class=\"coq_kernel_auto_roll_back_checkbox\" type=\"checkbox\" value=\"\" onchange=\"CoqKernel.toggle_auto_roll_back(this)\" checked>\n",
       "      <label\">Auto rollback</label>\n",
       "    </div>\n",
       "</div>\n"
      ],
      "text/plain": [
       "Proving: plus_id''\n",
       "\n",
       "1 subgoal\n",
       "\n",
       "n, m, o : nat\n",
       "n_eq_m : n = m\n",
       "m_eq_o : m = o\n",
       "\n",
       "1/1 -----------\n",
       "n + m = m + o"
      ]
     },
     "execution_count": 81,
     "metadata": {
      "coq_kernel_evaluated": true,
      "coq_kernel_execution_id": "89807ca60aea47a79565835476260dbf",
      "coq_kernel_rolled_back": false
     },
     "output_type": "execute_result"
    }
   ],
   "source": [
    "  intros n_eq_m m_eq_o."
   ]
  },
  {
   "cell_type": "code",
   "execution_count": 81,
   "metadata": {
    "coq_kernel_metadata": {
     "auto_roll_back": true,
     "cell_id": "a4c1df3208234bc7801b7f21ad476a75",
     "evaluated": true,
     "execution_id": "44c5a197f9a74d1b90f9f1e2e6bd58dc",
     "rolled_back": false
    }
   },
   "outputs": [
    {
     "data": {
      "text/html": [
       "\n",
       "<div class=\"coq_kernel_output_area\">\n",
       "    <pre>Proving: plus_id''\n",
       "\n",
       "1 subgoal\n",
       "\n",
       "n, m, o : nat\n",
       "n_eq_m : n = m\n",
       "m_eq_o : m = o\n",
       "\n",
       "1/1 -----------\n",
       "m + m = m + o</pre>\n",
       "</div>\n",
       "\n",
       "<div class=\"coq_kernel_rich_cell_output coq_kernel_status_message_area\" style=\"padding: 5px 0px;\">\n",
       "    <i class=\"fa-check fa text-success\"></i>\n",
       "    <span>Cell evaluated.</span>\n",
       "</div>\n",
       "\n",
       "<div class=\"coq_kernel_rich_cell_output coq_kernel_status_message_area coq_kernel_rolled_back_status_message\" style=\"padding: 5px 0px; display: none;\">\n",
       "    <i class=\"fa-exclamation-circle fa text-info\"></i>\n",
       "    <span>Cell rolled back.</span>\n",
       "</div>\n",
       "\n",
       "<div class=\"coq_kernel_rich_cell_output coq_kernel_roll_back_controls_area\" style=\"display: none; position: relative;\">\n",
       "    <button class=\"btn btn-default btn-xs coq_kernel_roll_back_button\" onclick=\"CoqKernel.roll_back(this)\">\n",
       "        <i class=\"fa-step-backward fa\"></i>\n",
       "        <span class=\"toolbar-btn-label\">Rollback cell</span>\n",
       "    </button>\n",
       "\n",
       "    <div style=\"display: inline-block; vertical-align: middle; padding-left: 0; padding-right: 0;\">\n",
       "      <input class=\"coq_kernel_auto_roll_back_checkbox\" type=\"checkbox\" value=\"\" onchange=\"CoqKernel.toggle_auto_roll_back(this)\" checked>\n",
       "      <label\">Auto rollback</label>\n",
       "    </div>\n",
       "</div>\n"
      ],
      "text/plain": [
       "Proving: plus_id''\n",
       "\n",
       "1 subgoal\n",
       "\n",
       "n, m, o : nat\n",
       "n_eq_m : n = m\n",
       "m_eq_o : m = o\n",
       "\n",
       "1/1 -----------\n",
       "m + m = m + o"
      ]
     },
     "execution_count": 82,
     "metadata": {
      "coq_kernel_evaluated": true,
      "coq_kernel_execution_id": "44c5a197f9a74d1b90f9f1e2e6bd58dc",
      "coq_kernel_rolled_back": false
     },
     "output_type": "execute_result"
    }
   ],
   "source": [
    "  rewrite -> n_eq_m."
   ]
  },
  {
   "cell_type": "code",
   "execution_count": 82,
   "metadata": {
    "coq_kernel_metadata": {
     "auto_roll_back": true,
     "cell_id": "ca2645c2b399450c883e3c1919b5ff45",
     "evaluated": true,
     "execution_id": "19106ae0291f4942894aa04e334fe4ee",
     "rolled_back": false
    }
   },
   "outputs": [
    {
     "data": {
      "text/html": [
       "\n",
       "<div class=\"coq_kernel_output_area\">\n",
       "    <pre>Proving: plus_id''\n",
       "\n",
       "1 subgoal\n",
       "\n",
       "n, m, o : nat\n",
       "n_eq_m : n = m\n",
       "m_eq_o : m = o\n",
       "\n",
       "1/1 -----------\n",
       "m + m = m + m</pre>\n",
       "</div>\n",
       "\n",
       "<div class=\"coq_kernel_rich_cell_output coq_kernel_status_message_area\" style=\"padding: 5px 0px;\">\n",
       "    <i class=\"fa-check fa text-success\"></i>\n",
       "    <span>Cell evaluated.</span>\n",
       "</div>\n",
       "\n",
       "<div class=\"coq_kernel_rich_cell_output coq_kernel_status_message_area coq_kernel_rolled_back_status_message\" style=\"padding: 5px 0px; display: none;\">\n",
       "    <i class=\"fa-exclamation-circle fa text-info\"></i>\n",
       "    <span>Cell rolled back.</span>\n",
       "</div>\n",
       "\n",
       "<div class=\"coq_kernel_rich_cell_output coq_kernel_roll_back_controls_area\" style=\"display: none; position: relative;\">\n",
       "    <button class=\"btn btn-default btn-xs coq_kernel_roll_back_button\" onclick=\"CoqKernel.roll_back(this)\">\n",
       "        <i class=\"fa-step-backward fa\"></i>\n",
       "        <span class=\"toolbar-btn-label\">Rollback cell</span>\n",
       "    </button>\n",
       "\n",
       "    <div style=\"display: inline-block; vertical-align: middle; padding-left: 0; padding-right: 0;\">\n",
       "      <input class=\"coq_kernel_auto_roll_back_checkbox\" type=\"checkbox\" value=\"\" onchange=\"CoqKernel.toggle_auto_roll_back(this)\" checked>\n",
       "      <label\">Auto rollback</label>\n",
       "    </div>\n",
       "</div>\n"
      ],
      "text/plain": [
       "Proving: plus_id''\n",
       "\n",
       "1 subgoal\n",
       "\n",
       "n, m, o : nat\n",
       "n_eq_m : n = m\n",
       "m_eq_o : m = o\n",
       "\n",
       "1/1 -----------\n",
       "m + m = m + m"
      ]
     },
     "execution_count": 83,
     "metadata": {
      "coq_kernel_evaluated": true,
      "coq_kernel_execution_id": "19106ae0291f4942894aa04e334fe4ee",
      "coq_kernel_rolled_back": false
     },
     "output_type": "execute_result"
    }
   ],
   "source": [
    "  rewrite <- m_eq_o."
   ]
  },
  {
   "cell_type": "code",
   "execution_count": 83,
   "metadata": {
    "coq_kernel_metadata": {
     "auto_roll_back": true,
     "cell_id": "635e1ab73f89454a8ae5e4cfe38b8787",
     "evaluated": true,
     "execution_id": "071cb3f85f9146b0804987db9666841d",
     "rolled_back": false
    }
   },
   "outputs": [
    {
     "data": {
      "text/html": [
       "\n",
       "<div class=\"coq_kernel_output_area\">\n",
       "    <pre>Proving: plus_id''\n",
       "\n",
       "No more subgoals</pre>\n",
       "</div>\n",
       "\n",
       "<div class=\"coq_kernel_rich_cell_output coq_kernel_status_message_area\" style=\"padding: 5px 0px;\">\n",
       "    <i class=\"fa-check fa text-success\"></i>\n",
       "    <span>Cell evaluated.</span>\n",
       "</div>\n",
       "\n",
       "<div class=\"coq_kernel_rich_cell_output coq_kernel_status_message_area coq_kernel_rolled_back_status_message\" style=\"padding: 5px 0px; display: none;\">\n",
       "    <i class=\"fa-exclamation-circle fa text-info\"></i>\n",
       "    <span>Cell rolled back.</span>\n",
       "</div>\n",
       "\n",
       "<div class=\"coq_kernel_rich_cell_output coq_kernel_roll_back_controls_area\" style=\"display: none; position: relative;\">\n",
       "    <button class=\"btn btn-default btn-xs coq_kernel_roll_back_button\" onclick=\"CoqKernel.roll_back(this)\">\n",
       "        <i class=\"fa-step-backward fa\"></i>\n",
       "        <span class=\"toolbar-btn-label\">Rollback cell</span>\n",
       "    </button>\n",
       "\n",
       "    <div style=\"display: inline-block; vertical-align: middle; padding-left: 0; padding-right: 0;\">\n",
       "      <input class=\"coq_kernel_auto_roll_back_checkbox\" type=\"checkbox\" value=\"\" onchange=\"CoqKernel.toggle_auto_roll_back(this)\" checked>\n",
       "      <label\">Auto rollback</label>\n",
       "    </div>\n",
       "</div>\n"
      ],
      "text/plain": [
       "Proving: plus_id''\n",
       "\n",
       "No more subgoals"
      ]
     },
     "execution_count": 84,
     "metadata": {
      "coq_kernel_evaluated": true,
      "coq_kernel_execution_id": "071cb3f85f9146b0804987db9666841d",
      "coq_kernel_rolled_back": false
     },
     "output_type": "execute_result"
    }
   ],
   "source": [
    "  reflexivity."
   ]
  },
  {
   "cell_type": "code",
   "execution_count": 84,
   "metadata": {
    "coq_kernel_metadata": {
     "auto_roll_back": true,
     "cell_id": "c389c96004e443348b43dc9482f0632b",
     "evaluated": true,
     "execution_id": "ba3cd47f67324ad2ad76ab98a3365e0f",
     "rolled_back": false
    }
   },
   "outputs": [
    {
     "data": {
      "text/html": [
       "\n",
       "<div class=\"coq_kernel_output_area\">\n",
       "    <pre></pre>\n",
       "</div>\n",
       "\n",
       "<div class=\"coq_kernel_rich_cell_output coq_kernel_status_message_area\" style=\"padding: 5px 0px;\">\n",
       "    <i class=\"fa-check fa text-success\"></i>\n",
       "    <span>Cell evaluated.</span>\n",
       "</div>\n",
       "\n",
       "<div class=\"coq_kernel_rich_cell_output coq_kernel_status_message_area coq_kernel_rolled_back_status_message\" style=\"padding: 5px 0px; display: none;\">\n",
       "    <i class=\"fa-exclamation-circle fa text-info\"></i>\n",
       "    <span>Cell rolled back.</span>\n",
       "</div>\n",
       "\n",
       "<div class=\"coq_kernel_rich_cell_output coq_kernel_roll_back_controls_area\" style=\"display: none; position: relative;\">\n",
       "    <button class=\"btn btn-default btn-xs coq_kernel_roll_back_button\" onclick=\"CoqKernel.roll_back(this)\">\n",
       "        <i class=\"fa-step-backward fa\"></i>\n",
       "        <span class=\"toolbar-btn-label\">Rollback cell</span>\n",
       "    </button>\n",
       "\n",
       "    <div style=\"display: inline-block; vertical-align: middle; padding-left: 0; padding-right: 0;\">\n",
       "      <input class=\"coq_kernel_auto_roll_back_checkbox\" type=\"checkbox\" value=\"\" onchange=\"CoqKernel.toggle_auto_roll_back(this)\" checked>\n",
       "      <label\">Auto rollback</label>\n",
       "    </div>\n",
       "</div>\n"
      ],
      "text/plain": []
     },
     "execution_count": 85,
     "metadata": {
      "coq_kernel_evaluated": true,
      "coq_kernel_execution_id": "ba3cd47f67324ad2ad76ab98a3365e0f",
      "coq_kernel_rolled_back": false
     },
     "output_type": "execute_result"
    }
   ],
   "source": [
    "Qed."
   ]
  },
  {
   "cell_type": "markdown",
   "metadata": {
    "coq_kernel_metadata": {
     "auto_roll_back": true
    }
   },
   "source": [
    "<a id=\"ans26\"></a>\n",
    "## 演習問題 2-6  解答\n",
    "　<font size=\"4\">次の定理を証明せよ。</font>\n",
    " <font color=\"blue\"　size=\"4\"><br> Theorem mult_0_plus : (forall n m : nat , ( 0 + n ) \\* m =  n \\* m ).</font>\n",
    "\n",
    "[作業用ページで証明をして見る](#ex26)　/ [演習問題に戻る](./2-Equal.ipynb#ex26 ) \n",
    "\n",
    "## 解答\n",
    "```\n",
    "Theorem  mult_0_plus : (forall n m : nat , ( 0 + n ) * m =  n * m ).\n",
    "Proof.\n",
    "  intros.\n",
    "  simpl.\n",
    "  reflexivity.\n",
    "Qed.\n",
    "```\n",
    "\n",
    "### 下のCellを実行して確かめよ。"
   ]
  },
  {
   "cell_type": "code",
   "execution_count": 85,
   "metadata": {
    "coq_kernel_metadata": {
     "auto_roll_back": true,
     "cell_id": "86eaa6b921a04f148c4f1168f7a5008d",
     "evaluated": true,
     "execution_id": "5c1539e0becc40cc9eee12e4d66ed676",
     "rolled_back": false
    }
   },
   "outputs": [
    {
     "data": {
      "text/html": [
       "\n",
       "<div class=\"coq_kernel_output_area\">\n",
       "    <pre></pre>\n",
       "</div>\n",
       "\n",
       "<div class=\"coq_kernel_rich_cell_output coq_kernel_status_message_area\" style=\"padding: 5px 0px;\">\n",
       "    <i class=\"fa-check fa text-success\"></i>\n",
       "    <span>Cell evaluated.</span>\n",
       "</div>\n",
       "\n",
       "<div class=\"coq_kernel_rich_cell_output coq_kernel_status_message_area coq_kernel_rolled_back_status_message\" style=\"padding: 5px 0px; display: none;\">\n",
       "    <i class=\"fa-exclamation-circle fa text-info\"></i>\n",
       "    <span>Cell rolled back.</span>\n",
       "</div>\n",
       "\n",
       "<div class=\"coq_kernel_rich_cell_output coq_kernel_roll_back_controls_area\" style=\"display: none; position: relative;\">\n",
       "    <button class=\"btn btn-default btn-xs coq_kernel_roll_back_button\" onclick=\"CoqKernel.roll_back(this)\">\n",
       "        <i class=\"fa-step-backward fa\"></i>\n",
       "        <span class=\"toolbar-btn-label\">Rollback cell</span>\n",
       "    </button>\n",
       "\n",
       "    <div style=\"display: inline-block; vertical-align: middle; padding-left: 0; padding-right: 0;\">\n",
       "      <input class=\"coq_kernel_auto_roll_back_checkbox\" type=\"checkbox\" value=\"\" onchange=\"CoqKernel.toggle_auto_roll_back(this)\" checked>\n",
       "      <label\">Auto rollback</label>\n",
       "    </div>\n",
       "</div>\n"
      ],
      "text/plain": []
     },
     "execution_count": 91,
     "metadata": {
      "coq_kernel_evaluated": true,
      "coq_kernel_execution_id": "5c1539e0becc40cc9eee12e4d66ed676",
      "coq_kernel_rolled_back": false
     },
     "output_type": "execute_result"
    }
   ],
   "source": [
    "Theorem  mult_0_plus' : (forall n m : nat , ( 0 + n ) * m =  n * m ).\n",
    "Proof.\n",
    "  intros.\n",
    "  simpl.\n",
    "  reflexivity.\n",
    "Qed."
   ]
  },
  {
   "cell_type": "markdown",
   "metadata": {
    "coq_kernel_metadata": {
     "auto_roll_back": true
    }
   },
   "source": [
    "### 次のCell を一つづつ実行して、各tacticsの働きを確認せよ。"
   ]
  },
  {
   "cell_type": "code",
   "execution_count": 91,
   "metadata": {
    "coq_kernel_metadata": {
     "auto_roll_back": true,
     "cell_id": "03aa2bb0d3924b179de93a916a0221e8",
     "evaluated": true,
     "execution_id": "c1657dea40bf4e359eab919e2b605001",
     "rolled_back": false
    }
   },
   "outputs": [
    {
     "data": {
      "text/html": [
       "\n",
       "<div class=\"coq_kernel_output_area\">\n",
       "    <pre>Proving: mult_0_plus''\n",
       "\n",
       "1 subgoal\n",
       "\n",
       "1/1 -----------\n",
       "forall n m : nat, (0 + n) * m = n * m</pre>\n",
       "</div>\n",
       "\n",
       "<div class=\"coq_kernel_rich_cell_output coq_kernel_status_message_area\" style=\"padding: 5px 0px;\">\n",
       "    <i class=\"fa-check fa text-success\"></i>\n",
       "    <span>Cell evaluated.</span>\n",
       "</div>\n",
       "\n",
       "<div class=\"coq_kernel_rich_cell_output coq_kernel_status_message_area coq_kernel_rolled_back_status_message\" style=\"padding: 5px 0px; display: none;\">\n",
       "    <i class=\"fa-exclamation-circle fa text-info\"></i>\n",
       "    <span>Cell rolled back.</span>\n",
       "</div>\n",
       "\n",
       "<div class=\"coq_kernel_rich_cell_output coq_kernel_roll_back_controls_area\" style=\"display: none; position: relative;\">\n",
       "    <button class=\"btn btn-default btn-xs coq_kernel_roll_back_button\" onclick=\"CoqKernel.roll_back(this)\">\n",
       "        <i class=\"fa-step-backward fa\"></i>\n",
       "        <span class=\"toolbar-btn-label\">Rollback cell</span>\n",
       "    </button>\n",
       "\n",
       "    <div style=\"display: inline-block; vertical-align: middle; padding-left: 0; padding-right: 0;\">\n",
       "      <input class=\"coq_kernel_auto_roll_back_checkbox\" type=\"checkbox\" value=\"\" onchange=\"CoqKernel.toggle_auto_roll_back(this)\" checked>\n",
       "      <label\">Auto rollback</label>\n",
       "    </div>\n",
       "</div>\n"
      ],
      "text/plain": [
       "Proving: mult_0_plus''\n",
       "\n",
       "1 subgoal\n",
       "\n",
       "1/1 -----------\n",
       "forall n m : nat, (0 + n) * m = n * m"
      ]
     },
     "execution_count": 93,
     "metadata": {
      "coq_kernel_evaluated": true,
      "coq_kernel_execution_id": "c1657dea40bf4e359eab919e2b605001",
      "coq_kernel_rolled_back": false
     },
     "output_type": "execute_result"
    }
   ],
   "source": [
    "Theorem  mult_0_plus'' : (forall n m : nat , ( 0 + n ) * m =  n * m ).\n",
    "Proof."
   ]
  },
  {
   "cell_type": "code",
   "execution_count": 93,
   "metadata": {
    "coq_kernel_metadata": {
     "auto_roll_back": true,
     "cell_id": "df5ca6ba266f4c3e8f374e4be5fde00d",
     "evaluated": true,
     "execution_id": "ba0f0df2e22b4c0c84b2dd91825f236e",
     "rolled_back": false
    }
   },
   "outputs": [
    {
     "data": {
      "text/html": [
       "\n",
       "<div class=\"coq_kernel_output_area\">\n",
       "    <pre>Proving: mult_0_plus''\n",
       "\n",
       "1 subgoal\n",
       "\n",
       "n, m : nat\n",
       "\n",
       "1/1 -----------\n",
       "(0 + n) * m = n * m</pre>\n",
       "</div>\n",
       "\n",
       "<div class=\"coq_kernel_rich_cell_output coq_kernel_status_message_area\" style=\"padding: 5px 0px;\">\n",
       "    <i class=\"fa-check fa text-success\"></i>\n",
       "    <span>Cell evaluated.</span>\n",
       "</div>\n",
       "\n",
       "<div class=\"coq_kernel_rich_cell_output coq_kernel_status_message_area coq_kernel_rolled_back_status_message\" style=\"padding: 5px 0px; display: none;\">\n",
       "    <i class=\"fa-exclamation-circle fa text-info\"></i>\n",
       "    <span>Cell rolled back.</span>\n",
       "</div>\n",
       "\n",
       "<div class=\"coq_kernel_rich_cell_output coq_kernel_roll_back_controls_area\" style=\"display: none; position: relative;\">\n",
       "    <button class=\"btn btn-default btn-xs coq_kernel_roll_back_button\" onclick=\"CoqKernel.roll_back(this)\">\n",
       "        <i class=\"fa-step-backward fa\"></i>\n",
       "        <span class=\"toolbar-btn-label\">Rollback cell</span>\n",
       "    </button>\n",
       "\n",
       "    <div style=\"display: inline-block; vertical-align: middle; padding-left: 0; padding-right: 0;\">\n",
       "      <input class=\"coq_kernel_auto_roll_back_checkbox\" type=\"checkbox\" value=\"\" onchange=\"CoqKernel.toggle_auto_roll_back(this)\" checked>\n",
       "      <label\">Auto rollback</label>\n",
       "    </div>\n",
       "</div>\n"
      ],
      "text/plain": [
       "Proving: mult_0_plus''\n",
       "\n",
       "1 subgoal\n",
       "\n",
       "n, m : nat\n",
       "\n",
       "1/1 -----------\n",
       "(0 + n) * m = n * m"
      ]
     },
     "execution_count": 94,
     "metadata": {
      "coq_kernel_evaluated": true,
      "coq_kernel_execution_id": "ba0f0df2e22b4c0c84b2dd91825f236e",
      "coq_kernel_rolled_back": false
     },
     "output_type": "execute_result"
    }
   ],
   "source": [
    "  intros."
   ]
  },
  {
   "cell_type": "code",
   "execution_count": 94,
   "metadata": {
    "coq_kernel_metadata": {
     "auto_roll_back": true,
     "cell_id": "53f06808f91146d488f543e93ea0ba5e",
     "evaluated": true,
     "execution_id": "3278cf593d1c4aa78b6fb485e9e972e3",
     "rolled_back": false
    }
   },
   "outputs": [
    {
     "data": {
      "text/html": [
       "\n",
       "<div class=\"coq_kernel_output_area\">\n",
       "    <pre>Proving: mult_0_plus''\n",
       "\n",
       "1 subgoal\n",
       "\n",
       "n, m : nat\n",
       "\n",
       "1/1 -----------\n",
       "n * m = n * m</pre>\n",
       "</div>\n",
       "\n",
       "<div class=\"coq_kernel_rich_cell_output coq_kernel_status_message_area\" style=\"padding: 5px 0px;\">\n",
       "    <i class=\"fa-check fa text-success\"></i>\n",
       "    <span>Cell evaluated.</span>\n",
       "</div>\n",
       "\n",
       "<div class=\"coq_kernel_rich_cell_output coq_kernel_status_message_area coq_kernel_rolled_back_status_message\" style=\"padding: 5px 0px; display: none;\">\n",
       "    <i class=\"fa-exclamation-circle fa text-info\"></i>\n",
       "    <span>Cell rolled back.</span>\n",
       "</div>\n",
       "\n",
       "<div class=\"coq_kernel_rich_cell_output coq_kernel_roll_back_controls_area\" style=\"display: none; position: relative;\">\n",
       "    <button class=\"btn btn-default btn-xs coq_kernel_roll_back_button\" onclick=\"CoqKernel.roll_back(this)\">\n",
       "        <i class=\"fa-step-backward fa\"></i>\n",
       "        <span class=\"toolbar-btn-label\">Rollback cell</span>\n",
       "    </button>\n",
       "\n",
       "    <div style=\"display: inline-block; vertical-align: middle; padding-left: 0; padding-right: 0;\">\n",
       "      <input class=\"coq_kernel_auto_roll_back_checkbox\" type=\"checkbox\" value=\"\" onchange=\"CoqKernel.toggle_auto_roll_back(this)\" checked>\n",
       "      <label\">Auto rollback</label>\n",
       "    </div>\n",
       "</div>\n"
      ],
      "text/plain": [
       "Proving: mult_0_plus''\n",
       "\n",
       "1 subgoal\n",
       "\n",
       "n, m : nat\n",
       "\n",
       "1/1 -----------\n",
       "n * m = n * m"
      ]
     },
     "execution_count": 95,
     "metadata": {
      "coq_kernel_evaluated": true,
      "coq_kernel_execution_id": "3278cf593d1c4aa78b6fb485e9e972e3",
      "coq_kernel_rolled_back": false
     },
     "output_type": "execute_result"
    }
   ],
   "source": [
    "  simpl."
   ]
  },
  {
   "cell_type": "code",
   "execution_count": 95,
   "metadata": {
    "coq_kernel_metadata": {
     "auto_roll_back": true,
     "cell_id": "afbdd0524bfc4d89bf505be2fe91aaef",
     "evaluated": true,
     "execution_id": "159f48880f0b4f9c812cd7b90f7e44b3",
     "rolled_back": false
    }
   },
   "outputs": [
    {
     "data": {
      "text/html": [
       "\n",
       "<div class=\"coq_kernel_output_area\">\n",
       "    <pre>Proving: mult_0_plus''\n",
       "\n",
       "No more subgoals</pre>\n",
       "</div>\n",
       "\n",
       "<div class=\"coq_kernel_rich_cell_output coq_kernel_status_message_area\" style=\"padding: 5px 0px;\">\n",
       "    <i class=\"fa-check fa text-success\"></i>\n",
       "    <span>Cell evaluated.</span>\n",
       "</div>\n",
       "\n",
       "<div class=\"coq_kernel_rich_cell_output coq_kernel_status_message_area coq_kernel_rolled_back_status_message\" style=\"padding: 5px 0px; display: none;\">\n",
       "    <i class=\"fa-exclamation-circle fa text-info\"></i>\n",
       "    <span>Cell rolled back.</span>\n",
       "</div>\n",
       "\n",
       "<div class=\"coq_kernel_rich_cell_output coq_kernel_roll_back_controls_area\" style=\"display: none; position: relative;\">\n",
       "    <button class=\"btn btn-default btn-xs coq_kernel_roll_back_button\" onclick=\"CoqKernel.roll_back(this)\">\n",
       "        <i class=\"fa-step-backward fa\"></i>\n",
       "        <span class=\"toolbar-btn-label\">Rollback cell</span>\n",
       "    </button>\n",
       "\n",
       "    <div style=\"display: inline-block; vertical-align: middle; padding-left: 0; padding-right: 0;\">\n",
       "      <input class=\"coq_kernel_auto_roll_back_checkbox\" type=\"checkbox\" value=\"\" onchange=\"CoqKernel.toggle_auto_roll_back(this)\" checked>\n",
       "      <label\">Auto rollback</label>\n",
       "    </div>\n",
       "</div>\n"
      ],
      "text/plain": [
       "Proving: mult_0_plus''\n",
       "\n",
       "No more subgoals"
      ]
     },
     "execution_count": 96,
     "metadata": {
      "coq_kernel_evaluated": true,
      "coq_kernel_execution_id": "159f48880f0b4f9c812cd7b90f7e44b3",
      "coq_kernel_rolled_back": false
     },
     "output_type": "execute_result"
    }
   ],
   "source": [
    "  reflexivity."
   ]
  },
  {
   "cell_type": "code",
   "execution_count": 96,
   "metadata": {
    "coq_kernel_metadata": {
     "auto_roll_back": true,
     "cell_id": "ac615af0b3b14d64814da80e5eb93ad7",
     "evaluated": true,
     "execution_id": "64e0751844474d538000cf4564f2f258",
     "rolled_back": false
    }
   },
   "outputs": [
    {
     "data": {
      "text/html": [
       "\n",
       "<div class=\"coq_kernel_output_area\">\n",
       "    <pre></pre>\n",
       "</div>\n",
       "\n",
       "<div class=\"coq_kernel_rich_cell_output coq_kernel_status_message_area\" style=\"padding: 5px 0px;\">\n",
       "    <i class=\"fa-check fa text-success\"></i>\n",
       "    <span>Cell evaluated.</span>\n",
       "</div>\n",
       "\n",
       "<div class=\"coq_kernel_rich_cell_output coq_kernel_status_message_area coq_kernel_rolled_back_status_message\" style=\"padding: 5px 0px; display: none;\">\n",
       "    <i class=\"fa-exclamation-circle fa text-info\"></i>\n",
       "    <span>Cell rolled back.</span>\n",
       "</div>\n",
       "\n",
       "<div class=\"coq_kernel_rich_cell_output coq_kernel_roll_back_controls_area\" style=\"display: none; position: relative;\">\n",
       "    <button class=\"btn btn-default btn-xs coq_kernel_roll_back_button\" onclick=\"CoqKernel.roll_back(this)\">\n",
       "        <i class=\"fa-step-backward fa\"></i>\n",
       "        <span class=\"toolbar-btn-label\">Rollback cell</span>\n",
       "    </button>\n",
       "\n",
       "    <div style=\"display: inline-block; vertical-align: middle; padding-left: 0; padding-right: 0;\">\n",
       "      <input class=\"coq_kernel_auto_roll_back_checkbox\" type=\"checkbox\" value=\"\" onchange=\"CoqKernel.toggle_auto_roll_back(this)\" checked>\n",
       "      <label\">Auto rollback</label>\n",
       "    </div>\n",
       "</div>\n"
      ],
      "text/plain": []
     },
     "execution_count": 97,
     "metadata": {
      "coq_kernel_evaluated": true,
      "coq_kernel_execution_id": "64e0751844474d538000cf4564f2f258",
      "coq_kernel_rolled_back": false
     },
     "output_type": "execute_result"
    }
   ],
   "source": [
    "Qed."
   ]
  },
  {
   "cell_type": "markdown",
   "metadata": {
    "coq_kernel_metadata": {
     "auto_roll_back": true
    }
   },
   "source": [
    "<a id=\"ans27\"></a>\n",
    "## 演習問題 2-7  解答\n",
    "　<font size=\"4\">次の定理を証明せよ。</font>\n",
    " <font color=\"blue\"　size=\"4\"><br> Theorem mult_S_1 : (forall n m : nat, m = S n -> m \\* (1 + n) = m \\* m).</font>\n",
    "\n",
    "[作業用ページで証明をして見る](#ex27)　/ [演習問題に戻る](./2-Equal.ipynb#ex27 ) \n",
    "\n",
    "## 解答\n",
    "```\n",
    "Theorem  mult_S_1 : (forall n m : nat, m = S n -> m * (1 + n) = m * m).\n",
    "Proof.\n",
    "  intros n m m_eq_Sn.\n",
    "  simpl.\n",
    "  rewrite -> m_eq_Sn.\n",
    "  reflexivity.\n",
    "Qed.\n",
    "```\n",
    "\n",
    "### 下のCellを実行して確かめよ。"
   ]
  },
  {
   "cell_type": "code",
   "execution_count": 97,
   "metadata": {
    "coq_kernel_metadata": {
     "auto_roll_back": true,
     "cell_id": "b69ef349dbac46f5813acd7453632a08",
     "evaluated": true,
     "execution_id": "6907efc130a34bfcaa4df253744a60ed",
     "rolled_back": false
    }
   },
   "outputs": [
    {
     "data": {
      "text/html": [
       "\n",
       "<div class=\"coq_kernel_output_area\">\n",
       "    <pre></pre>\n",
       "</div>\n",
       "\n",
       "<div class=\"coq_kernel_rich_cell_output coq_kernel_status_message_area\" style=\"padding: 5px 0px;\">\n",
       "    <i class=\"fa-check fa text-success\"></i>\n",
       "    <span>Cell evaluated.</span>\n",
       "</div>\n",
       "\n",
       "<div class=\"coq_kernel_rich_cell_output coq_kernel_status_message_area coq_kernel_rolled_back_status_message\" style=\"padding: 5px 0px; display: none;\">\n",
       "    <i class=\"fa-exclamation-circle fa text-info\"></i>\n",
       "    <span>Cell rolled back.</span>\n",
       "</div>\n",
       "\n",
       "<div class=\"coq_kernel_rich_cell_output coq_kernel_roll_back_controls_area\" style=\"display: none; position: relative;\">\n",
       "    <button class=\"btn btn-default btn-xs coq_kernel_roll_back_button\" onclick=\"CoqKernel.roll_back(this)\">\n",
       "        <i class=\"fa-step-backward fa\"></i>\n",
       "        <span class=\"toolbar-btn-label\">Rollback cell</span>\n",
       "    </button>\n",
       "\n",
       "    <div style=\"display: inline-block; vertical-align: middle; padding-left: 0; padding-right: 0;\">\n",
       "      <input class=\"coq_kernel_auto_roll_back_checkbox\" type=\"checkbox\" value=\"\" onchange=\"CoqKernel.toggle_auto_roll_back(this)\" checked>\n",
       "      <label\">Auto rollback</label>\n",
       "    </div>\n",
       "</div>\n"
      ],
      "text/plain": []
     },
     "execution_count": 104,
     "metadata": {
      "coq_kernel_evaluated": true,
      "coq_kernel_execution_id": "6907efc130a34bfcaa4df253744a60ed",
      "coq_kernel_rolled_back": false
     },
     "output_type": "execute_result"
    }
   ],
   "source": [
    "Theorem  mult_S_1' : (forall n m : nat, m = S n -> m * (1 + n) = m * m).\n",
    "Proof.\n",
    "  intros n m m_eq_Sn.\n",
    "  simpl.\n",
    "  rewrite -> m_eq_Sn.\n",
    "  reflexivity.\n",
    "Qed."
   ]
  },
  {
   "cell_type": "markdown",
   "metadata": {
    "coq_kernel_metadata": {
     "auto_roll_back": true
    }
   },
   "source": [
    "### 次のCell を一つづつ実行して、各tacticsの働きを確認せよ。"
   ]
  },
  {
   "cell_type": "code",
   "execution_count": 104,
   "metadata": {
    "coq_kernel_metadata": {
     "auto_roll_back": true,
     "cell_id": "0f55e47390c84fcc8826eaa486acb5c2",
     "evaluated": true,
     "execution_id": "c4dc48f673dc42b1970d8b363e899144",
     "rolled_back": false
    }
   },
   "outputs": [
    {
     "data": {
      "text/html": [
       "\n",
       "<div class=\"coq_kernel_output_area\">\n",
       "    <pre>Proving: mult_S_1''\n",
       "\n",
       "1 subgoal\n",
       "\n",
       "1/1 -----------\n",
       "forall n m : nat, m = S n -> m * (1 + n) = m * m</pre>\n",
       "</div>\n",
       "\n",
       "<div class=\"coq_kernel_rich_cell_output coq_kernel_status_message_area\" style=\"padding: 5px 0px;\">\n",
       "    <i class=\"fa-check fa text-success\"></i>\n",
       "    <span>Cell evaluated.</span>\n",
       "</div>\n",
       "\n",
       "<div class=\"coq_kernel_rich_cell_output coq_kernel_status_message_area coq_kernel_rolled_back_status_message\" style=\"padding: 5px 0px; display: none;\">\n",
       "    <i class=\"fa-exclamation-circle fa text-info\"></i>\n",
       "    <span>Cell rolled back.</span>\n",
       "</div>\n",
       "\n",
       "<div class=\"coq_kernel_rich_cell_output coq_kernel_roll_back_controls_area\" style=\"display: none; position: relative;\">\n",
       "    <button class=\"btn btn-default btn-xs coq_kernel_roll_back_button\" onclick=\"CoqKernel.roll_back(this)\">\n",
       "        <i class=\"fa-step-backward fa\"></i>\n",
       "        <span class=\"toolbar-btn-label\">Rollback cell</span>\n",
       "    </button>\n",
       "\n",
       "    <div style=\"display: inline-block; vertical-align: middle; padding-left: 0; padding-right: 0;\">\n",
       "      <input class=\"coq_kernel_auto_roll_back_checkbox\" type=\"checkbox\" value=\"\" onchange=\"CoqKernel.toggle_auto_roll_back(this)\" checked>\n",
       "      <label\">Auto rollback</label>\n",
       "    </div>\n",
       "</div>\n"
      ],
      "text/plain": [
       "Proving: mult_S_1''\n",
       "\n",
       "1 subgoal\n",
       "\n",
       "1/1 -----------\n",
       "forall n m : nat, m = S n -> m * (1 + n) = m * m"
      ]
     },
     "execution_count": 106,
     "metadata": {
      "coq_kernel_evaluated": true,
      "coq_kernel_execution_id": "c4dc48f673dc42b1970d8b363e899144",
      "coq_kernel_rolled_back": false
     },
     "output_type": "execute_result"
    }
   ],
   "source": [
    "Theorem  mult_S_1'' : (forall n m : nat, m = S n -> m * (1 + n) = m * m).\n",
    "Proof."
   ]
  },
  {
   "cell_type": "code",
   "execution_count": 106,
   "metadata": {
    "coq_kernel_metadata": {
     "auto_roll_back": true,
     "cell_id": "1078c132e794499aa7ada584a47b7b7c",
     "evaluated": true,
     "execution_id": "d2ab2a932a6142dd8579e7fd19ec5ca8",
     "rolled_back": false
    }
   },
   "outputs": [
    {
     "data": {
      "text/html": [
       "\n",
       "<div class=\"coq_kernel_output_area\">\n",
       "    <pre>Proving: mult_S_1''\n",
       "\n",
       "1 subgoal\n",
       "\n",
       "n, m : nat\n",
       "m_eq_Sn : m = S n\n",
       "\n",
       "1/1 -----------\n",
       "m * (1 + n) = m * m</pre>\n",
       "</div>\n",
       "\n",
       "<div class=\"coq_kernel_rich_cell_output coq_kernel_status_message_area\" style=\"padding: 5px 0px;\">\n",
       "    <i class=\"fa-check fa text-success\"></i>\n",
       "    <span>Cell evaluated.</span>\n",
       "</div>\n",
       "\n",
       "<div class=\"coq_kernel_rich_cell_output coq_kernel_status_message_area coq_kernel_rolled_back_status_message\" style=\"padding: 5px 0px; display: none;\">\n",
       "    <i class=\"fa-exclamation-circle fa text-info\"></i>\n",
       "    <span>Cell rolled back.</span>\n",
       "</div>\n",
       "\n",
       "<div class=\"coq_kernel_rich_cell_output coq_kernel_roll_back_controls_area\" style=\"display: none; position: relative;\">\n",
       "    <button class=\"btn btn-default btn-xs coq_kernel_roll_back_button\" onclick=\"CoqKernel.roll_back(this)\">\n",
       "        <i class=\"fa-step-backward fa\"></i>\n",
       "        <span class=\"toolbar-btn-label\">Rollback cell</span>\n",
       "    </button>\n",
       "\n",
       "    <div style=\"display: inline-block; vertical-align: middle; padding-left: 0; padding-right: 0;\">\n",
       "      <input class=\"coq_kernel_auto_roll_back_checkbox\" type=\"checkbox\" value=\"\" onchange=\"CoqKernel.toggle_auto_roll_back(this)\" checked>\n",
       "      <label\">Auto rollback</label>\n",
       "    </div>\n",
       "</div>\n"
      ],
      "text/plain": [
       "Proving: mult_S_1''\n",
       "\n",
       "1 subgoal\n",
       "\n",
       "n, m : nat\n",
       "m_eq_Sn : m = S n\n",
       "\n",
       "1/1 -----------\n",
       "m * (1 + n) = m * m"
      ]
     },
     "execution_count": 107,
     "metadata": {
      "coq_kernel_evaluated": true,
      "coq_kernel_execution_id": "d2ab2a932a6142dd8579e7fd19ec5ca8",
      "coq_kernel_rolled_back": false
     },
     "output_type": "execute_result"
    }
   ],
   "source": [
    "  intros n m m_eq_Sn."
   ]
  },
  {
   "cell_type": "code",
   "execution_count": 107,
   "metadata": {
    "coq_kernel_metadata": {
     "auto_roll_back": true,
     "cell_id": "f00ecfcd75dc462f85af2d5e2cac6d7e",
     "evaluated": true,
     "execution_id": "6fb58aacf2654d9b9b2772dd2b046209",
     "rolled_back": false
    }
   },
   "outputs": [
    {
     "data": {
      "text/html": [
       "\n",
       "<div class=\"coq_kernel_output_area\">\n",
       "    <pre>Proving: mult_S_1''\n",
       "\n",
       "1 subgoal\n",
       "\n",
       "n, m : nat\n",
       "m_eq_Sn : m = S n\n",
       "\n",
       "1/1 -----------\n",
       "m * S n = m * m</pre>\n",
       "</div>\n",
       "\n",
       "<div class=\"coq_kernel_rich_cell_output coq_kernel_status_message_area\" style=\"padding: 5px 0px;\">\n",
       "    <i class=\"fa-check fa text-success\"></i>\n",
       "    <span>Cell evaluated.</span>\n",
       "</div>\n",
       "\n",
       "<div class=\"coq_kernel_rich_cell_output coq_kernel_status_message_area coq_kernel_rolled_back_status_message\" style=\"padding: 5px 0px; display: none;\">\n",
       "    <i class=\"fa-exclamation-circle fa text-info\"></i>\n",
       "    <span>Cell rolled back.</span>\n",
       "</div>\n",
       "\n",
       "<div class=\"coq_kernel_rich_cell_output coq_kernel_roll_back_controls_area\" style=\"display: none; position: relative;\">\n",
       "    <button class=\"btn btn-default btn-xs coq_kernel_roll_back_button\" onclick=\"CoqKernel.roll_back(this)\">\n",
       "        <i class=\"fa-step-backward fa\"></i>\n",
       "        <span class=\"toolbar-btn-label\">Rollback cell</span>\n",
       "    </button>\n",
       "\n",
       "    <div style=\"display: inline-block; vertical-align: middle; padding-left: 0; padding-right: 0;\">\n",
       "      <input class=\"coq_kernel_auto_roll_back_checkbox\" type=\"checkbox\" value=\"\" onchange=\"CoqKernel.toggle_auto_roll_back(this)\" checked>\n",
       "      <label\">Auto rollback</label>\n",
       "    </div>\n",
       "</div>\n"
      ],
      "text/plain": [
       "Proving: mult_S_1''\n",
       "\n",
       "1 subgoal\n",
       "\n",
       "n, m : nat\n",
       "m_eq_Sn : m = S n\n",
       "\n",
       "1/1 -----------\n",
       "m * S n = m * m"
      ]
     },
     "execution_count": 108,
     "metadata": {
      "coq_kernel_evaluated": true,
      "coq_kernel_execution_id": "6fb58aacf2654d9b9b2772dd2b046209",
      "coq_kernel_rolled_back": false
     },
     "output_type": "execute_result"
    }
   ],
   "source": [
    "  simpl."
   ]
  },
  {
   "cell_type": "code",
   "execution_count": 108,
   "metadata": {
    "coq_kernel_metadata": {
     "auto_roll_back": true,
     "cell_id": "9484d715b81f4d84a7fd519a28948d5a",
     "evaluated": true,
     "execution_id": "a3b03e1cf21446858437aaeee66ee853",
     "rolled_back": false
    }
   },
   "outputs": [
    {
     "data": {
      "text/html": [
       "\n",
       "<div class=\"coq_kernel_output_area\">\n",
       "    <pre>Proving: mult_S_1''\n",
       "\n",
       "1 subgoal\n",
       "\n",
       "n, m : nat\n",
       "m_eq_Sn : m = S n\n",
       "\n",
       "1/1 -----------\n",
       "S n * S n = S n * S n</pre>\n",
       "</div>\n",
       "\n",
       "<div class=\"coq_kernel_rich_cell_output coq_kernel_status_message_area\" style=\"padding: 5px 0px;\">\n",
       "    <i class=\"fa-check fa text-success\"></i>\n",
       "    <span>Cell evaluated.</span>\n",
       "</div>\n",
       "\n",
       "<div class=\"coq_kernel_rich_cell_output coq_kernel_status_message_area coq_kernel_rolled_back_status_message\" style=\"padding: 5px 0px; display: none;\">\n",
       "    <i class=\"fa-exclamation-circle fa text-info\"></i>\n",
       "    <span>Cell rolled back.</span>\n",
       "</div>\n",
       "\n",
       "<div class=\"coq_kernel_rich_cell_output coq_kernel_roll_back_controls_area\" style=\"display: none; position: relative;\">\n",
       "    <button class=\"btn btn-default btn-xs coq_kernel_roll_back_button\" onclick=\"CoqKernel.roll_back(this)\">\n",
       "        <i class=\"fa-step-backward fa\"></i>\n",
       "        <span class=\"toolbar-btn-label\">Rollback cell</span>\n",
       "    </button>\n",
       "\n",
       "    <div style=\"display: inline-block; vertical-align: middle; padding-left: 0; padding-right: 0;\">\n",
       "      <input class=\"coq_kernel_auto_roll_back_checkbox\" type=\"checkbox\" value=\"\" onchange=\"CoqKernel.toggle_auto_roll_back(this)\" checked>\n",
       "      <label\">Auto rollback</label>\n",
       "    </div>\n",
       "</div>\n"
      ],
      "text/plain": [
       "Proving: mult_S_1''\n",
       "\n",
       "1 subgoal\n",
       "\n",
       "n, m : nat\n",
       "m_eq_Sn : m = S n\n",
       "\n",
       "1/1 -----------\n",
       "S n * S n = S n * S n"
      ]
     },
     "execution_count": 109,
     "metadata": {
      "coq_kernel_evaluated": true,
      "coq_kernel_execution_id": "a3b03e1cf21446858437aaeee66ee853",
      "coq_kernel_rolled_back": false
     },
     "output_type": "execute_result"
    }
   ],
   "source": [
    "  rewrite -> m_eq_Sn.\n",
    " "
   ]
  },
  {
   "cell_type": "code",
   "execution_count": 109,
   "metadata": {
    "coq_kernel_metadata": {
     "auto_roll_back": true,
     "cell_id": "67b74e2126924b59a849e3edf9a6f04b",
     "evaluated": true,
     "execution_id": "64b44f3322824d068e12241c437b6c40",
     "rolled_back": false
    }
   },
   "outputs": [
    {
     "data": {
      "text/html": [
       "\n",
       "<div class=\"coq_kernel_output_area\">\n",
       "    <pre>Proving: mult_S_1''\n",
       "\n",
       "No more subgoals</pre>\n",
       "</div>\n",
       "\n",
       "<div class=\"coq_kernel_rich_cell_output coq_kernel_status_message_area\" style=\"padding: 5px 0px;\">\n",
       "    <i class=\"fa-check fa text-success\"></i>\n",
       "    <span>Cell evaluated.</span>\n",
       "</div>\n",
       "\n",
       "<div class=\"coq_kernel_rich_cell_output coq_kernel_status_message_area coq_kernel_rolled_back_status_message\" style=\"padding: 5px 0px; display: none;\">\n",
       "    <i class=\"fa-exclamation-circle fa text-info\"></i>\n",
       "    <span>Cell rolled back.</span>\n",
       "</div>\n",
       "\n",
       "<div class=\"coq_kernel_rich_cell_output coq_kernel_roll_back_controls_area\" style=\"display: none; position: relative;\">\n",
       "    <button class=\"btn btn-default btn-xs coq_kernel_roll_back_button\" onclick=\"CoqKernel.roll_back(this)\">\n",
       "        <i class=\"fa-step-backward fa\"></i>\n",
       "        <span class=\"toolbar-btn-label\">Rollback cell</span>\n",
       "    </button>\n",
       "\n",
       "    <div style=\"display: inline-block; vertical-align: middle; padding-left: 0; padding-right: 0;\">\n",
       "      <input class=\"coq_kernel_auto_roll_back_checkbox\" type=\"checkbox\" value=\"\" onchange=\"CoqKernel.toggle_auto_roll_back(this)\" checked>\n",
       "      <label\">Auto rollback</label>\n",
       "    </div>\n",
       "</div>\n"
      ],
      "text/plain": [
       "Proving: mult_S_1''\n",
       "\n",
       "No more subgoals"
      ]
     },
     "execution_count": 110,
     "metadata": {
      "coq_kernel_evaluated": true,
      "coq_kernel_execution_id": "64b44f3322824d068e12241c437b6c40",
      "coq_kernel_rolled_back": false
     },
     "output_type": "execute_result"
    }
   ],
   "source": [
    " reflexivity."
   ]
  },
  {
   "cell_type": "code",
   "execution_count": 110,
   "metadata": {
    "coq_kernel_metadata": {
     "auto_roll_back": true,
     "cell_id": "151ce9962f184dfe8a0ee7cedb47c209",
     "evaluated": true,
     "execution_id": "6442ea1199f4443699709b25a8b452fc",
     "rolled_back": false
    }
   },
   "outputs": [
    {
     "data": {
      "text/html": [
       "\n",
       "<div class=\"coq_kernel_output_area\">\n",
       "    <pre></pre>\n",
       "</div>\n",
       "\n",
       "<div class=\"coq_kernel_rich_cell_output coq_kernel_status_message_area\" style=\"padding: 5px 0px;\">\n",
       "    <i class=\"fa-check fa text-success\"></i>\n",
       "    <span>Cell evaluated.</span>\n",
       "</div>\n",
       "\n",
       "<div class=\"coq_kernel_rich_cell_output coq_kernel_status_message_area coq_kernel_rolled_back_status_message\" style=\"padding: 5px 0px; display: none;\">\n",
       "    <i class=\"fa-exclamation-circle fa text-info\"></i>\n",
       "    <span>Cell rolled back.</span>\n",
       "</div>\n",
       "\n",
       "<div class=\"coq_kernel_rich_cell_output coq_kernel_roll_back_controls_area\" style=\"display: none; position: relative;\">\n",
       "    <button class=\"btn btn-default btn-xs coq_kernel_roll_back_button\" onclick=\"CoqKernel.roll_back(this)\">\n",
       "        <i class=\"fa-step-backward fa\"></i>\n",
       "        <span class=\"toolbar-btn-label\">Rollback cell</span>\n",
       "    </button>\n",
       "\n",
       "    <div style=\"display: inline-block; vertical-align: middle; padding-left: 0; padding-right: 0;\">\n",
       "      <input class=\"coq_kernel_auto_roll_back_checkbox\" type=\"checkbox\" value=\"\" onchange=\"CoqKernel.toggle_auto_roll_back(this)\" checked>\n",
       "      <label\">Auto rollback</label>\n",
       "    </div>\n",
       "</div>\n"
      ],
      "text/plain": []
     },
     "execution_count": 111,
     "metadata": {
      "coq_kernel_evaluated": true,
      "coq_kernel_execution_id": "6442ea1199f4443699709b25a8b452fc",
      "coq_kernel_rolled_back": false
     },
     "output_type": "execute_result"
    }
   ],
   "source": [
    "Qed."
   ]
  },
  {
   "cell_type": "code",
   "execution_count": null,
   "metadata": {
    "coq_kernel_metadata": {
     "auto_roll_back": true
    }
   },
   "outputs": [],
   "source": []
  }
 ],
 "metadata": {
  "kernelspec": {
   "display_name": "Coq",
   "language": "coq",
   "name": "coq"
  },
  "language_info": {
   "file_extension": ".v",
   "mimetype": "text/x-coq",
   "name": "coq",
   "version": "8.9.1"
  }
 },
 "nbformat": 4,
 "nbformat_minor": 2
}
