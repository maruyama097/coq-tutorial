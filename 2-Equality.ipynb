{
 "cells": [
  {
   "cell_type": "markdown",
   "metadata": {
    "coq_kernel_metadata": {
     "auto_roll_back": true
    }
   },
   "source": [
    "<img src=\"./images/Logo1.png\"  width=\"800 px\" align=\"center\">"
   ]
  },
  {
   "cell_type": "markdown",
   "metadata": {
    "coq_kernel_metadata": {
     "auto_roll_back": true
    }
   },
   "source": [
    "　　　　[全体目次](./0-Contents.ipynb) 　[この章の演習問題へ](./2-equality-answer.ipynb)　　[前の章へ](./1-Logic.ipynb)　　[次の章へ](./3-Induction.ipynb)"
   ]
  },
  {
   "cell_type": "markdown",
   "metadata": {
    "coq_kernel_metadata": {
     "auto_roll_back": true
    }
   },
   "source": [
    "# <font color=\"blue\" size=\"7\">関数と等式を含んだ命題の証明</font>"
   ]
  },
  {
   "cell_type": "markdown",
   "metadata": {
    "coq_kernel_metadata": {
     "auto_roll_back": true
    }
   },
   "source": [
    "<a id=\"sec1\"></a>\n",
    "# Coqでの関数と等式を含んだ命題の証明\n",
    "\n",
    "先の章で、論理式の証明の基本について学びましたが、この章では、Coqでの「関数と等式を含んだ命題の証明」の基本について学びます。\n",
    "\n",
    "この章の証明すべき命題が、先の章と違うのは、命題の中に「等式」が登場することです。「等式」は基本的には「関数」を導入することによって形成されます。二つの自然数の和を返す\" + \"も、積をかえす \" \\* \" も、関数です。\n",
    "この章で証明する、関数と等式を含んだ命題の例を、いくつかあげておきましょう。\n",
    "\n",
    "- 0 + n = n\n",
    "- 0 * n = 0\n",
    "- n = m -> n+n = m + m\n",
    "\n",
    "このタイプの命題の証明には、論理式のみを含んだ命題の証明とは異なったアプローチが必要になります。\n",
    "\n",
    "ただ、この章で扱う「関数と等式を含んだ命題の証明」は簡単なものです。数学的帰納法を利用する、より複雑な「関数と等式を含んだ命題の証明」については、次章で扱います。より複雑な命題の例を、あげておきましょう。\n",
    "\n",
    "- a + b = b + a\n",
    "- a * b = b * a\n",
    "\n",
    "おそらく、複雑な命題と言われても、「そんなの自明じゃないか」という印象を持った人が多いと思います。確かに、そうかもしれません。ただ、重要なことは、これらの命題は、きちんと証明可能なものだということです。"
   ]
  },
  {
   "cell_type": "markdown",
   "metadata": {
    "coq_kernel_metadata": {
     "auto_roll_back": true
    }
   },
   "source": [
    "<a id=\"sec2\"></a>\n",
    "# 等式の性質\n",
    "\n",
    "二つの式を「等号 =」で結んだものを「等式」と言います。\n",
    "\n",
    "等式は、次のような基本的性質を持っています。\n",
    "\n",
    "- ### 反射律 : A=A \n",
    "- ### 対称律 : A=B なら B=A \n",
    "- ### 推移律 : A=B で B=C なら A=C \n",
    "\n",
    "<a id=\"sec21\"></a>\n",
    "## Coqでの等式の証明の戦略\n",
    "\n",
    "ここでは、あらかじめ、Coqでの等式の証明の戦略の概略を見ておきましょう。詳細は、具体例で説明します。\n",
    "#### <font color=\"blue\">基本的な戦略は、サブゴールの式の変形を繰り返して簡単な形にし、最終的には、サブゴールが A=A、すなわち反射律を満たす形にすることです。この時、tactic reflexivity がサブゴールを解消します。</font>\n",
    "#### サブゴールの式を簡単なものにするには、次の二つの方法が役に立ちます。\n",
    "-  「計算」：サブゴールに含まれる関数の値を関数の定義から計算して、サブゴールの式を簡単なものにします。 \n",
    "-  「代入」：サブゴールに含まれる項に、利用できる別の等式の項を代入して、サブゴールの式を簡単なものにする。"
   ]
  },
  {
   "cell_type": "markdown",
   "metadata": {
    "coq_kernel_metadata": {
     "auto_roll_back": true
    }
   },
   "source": [
    "<div class=\"alert alert-block alert-info\">\n",
    "\n",
    "### Coqでは、等号についての「対称律」「推移律」も「反射律」から証明できます。\n",
    "その証明をのせておきますので、時間があったら実行して確かめてください。\n",
    "\n",
    "#### 対称律\n",
    "\n",
    "```\n",
    "Theorem thm_eq_sym : (forall x y : Set, x = y -> y = x).\n",
    "Proof.\n",
    "  intros x y.\n",
    "  intros x_y.\n",
    "  destruct x_y as [].\n",
    "  exact (eq_refl x).\n",
    "Qed.\n",
    "```\n",
    "\n",
    "#### 推移律\n",
    "\n",
    "```\n",
    "Theorem thm_eq_trans : (forall x y z: Set, x = y -> y = z -> x = z).\n",
    "Proof.\n",
    "  intros x y z.\n",
    "  intros x_y y_z.\n",
    "  destruct x_y as [].\n",
    "  destruct y_z as [].\n",
    "  exact (eq_refl x).\n",
    "Qed.\n",
    "```\n",
    "</div>"
   ]
  },
  {
   "cell_type": "markdown",
   "metadata": {
    "coq_kernel_metadata": {
     "auto_roll_back": true
    }
   },
   "source": [
    "<a id=\"sec3\"></a>\n",
    "# Coqでの関数\n",
    "\n",
    "<a id=\"sec31\"></a>\n",
    "## Coqでの関数の定義\n",
    "\n",
    "Coqでの関数の定義は、簡単な関数と再帰的な関数（関数の定義内に関数自身が出てくる）とでは、定義の仕方が異なります。\n",
    "- 簡単な関数の定義には、<font color=\"blue\">Definition</font>を用います。\n",
    "- 再帰的な関数の定義には、<font color=\"blue\">Fixpoint</font>を用います。\n",
    "\n",
    "それぞれの場合の定義のスタイルについては、以下の節で、具体例に即して見ていくことにします。\n",
    "\n",
    "<a id=\"sec32\"></a>\n",
    "## Coqでの関数の型\n",
    "\n",
    "ほとんどのプログラム言語では、データは型を持っています。int とかfloatとかcharとか。<font color=\"blue\">Coqでは関数も型を持ちます。</font>\n",
    "\n",
    "- 型 A から 型Bへの関数は、<font color=\"blue\">A -> B</font>と表されます。\n",
    "- 関数が二つの引数 a, b をとって、それぞれの型が A, Bで関数の返り値 c の型がCの時、<br>この関数の型は、<font color=\"blue\"> A -> B -> C</font> で表されます。\n",
    "- 関数が三つ以上の引数をとって、それぞれの型が A, B, C, ... で、返り値の型がXの時、<br>この関数の型は、<font color=\"blue\"> A -> B -> C　-> ... -> X </font> で表されます。\n",
    "    "
   ]
  },
  {
   "cell_type": "markdown",
   "metadata": {
    "coq_kernel_metadata": {
     "auto_roll_back": true
    }
   },
   "source": [
    "<a id=\"sec4\"></a>\n",
    "# 簡単な関数の例\n",
    "\n",
    "実際の例で、関数の定義の仕方と「関数の型」を学ぶことにしましょう。\n",
    "簡単な関数の定義には、<font color=\"blue\">Definition</font>を用います。\n",
    "\n",
    "<a id=\"sec41\"></a>\n",
    "## 例１：関数 negb   引数に与えられたブール値の否定を返す関数\n",
    "\n",
    "Coqには、true と false という二つの値を持つ bool という型が、定義されています。関数 negb は、引数に与えられたブール値の否定　のブール値を返す関数です。この関数は、「型 bool（引数） から　型 bool（返り値） への関数」という「関数の型」を持つと考えます。\n",
    "\n",
    "その定義は、つぎのようにして行われます。\n",
    "引数に trueが与えられたら false を返し、false が与えられたら true を返すということです。"
   ]
  },
  {
   "cell_type": "code",
   "execution_count": null,
   "metadata": {
    "coq_kernel_metadata": {
     "auto_roll_back": true,
     "cell_id": "978284c0bbf04c79b2d7014e9a306563",
     "execution_id": "12c57b293f6b43e38ef1fca508188fa5"
    }
   },
   "outputs": [],
   "source": [
    "Definition negb (b : bool) : bool :=\n",
    "  match b with\n",
    "   | true => false\n",
    "   | false => true\n",
    "  end.\n"
   ]
  },
  {
   "cell_type": "markdown",
   "metadata": {
    "coq_kernel_metadata": {
     "auto_roll_back": true
    }
   },
   "source": [
    "#### <font color=\"blue\">Definition</font> negb (b : bool) : bool :=\n",
    "- Definition は、再帰型ではない関数を定義します。\n",
    "- negb は、定義された関数名\n",
    "- (b : bool) は、関数 negb の引数が、 bでbool 型であることを表し、\n",
    "- 最後の : bool は、この関数が返す値の型が bool型であることを示します。\n",
    "- := 以降は、関数定義の本体です。\n",
    "\n",
    "#### match b with  | ... | ... end.\n",
    "- 引数 b が | .. で定義される条件と一致するかを、場合に分けてチェックします\n",
    "- | 内の先頭の項が b と一致すると、”=>\" 以下の項が、関数の返り値として返されます。（\"->\" ではないことに注意！）\n",
    "- この例の場合、bがtrueの時 false が返り、b がｆａｌｓｅの時 true が返ることになります。\n",
    "- 引数チェックの場合分けは、end で終わります。\n",
    "\n",
    "### 定義された関数 negb の型のチェック \n",
    "#### <font color=\"blue\">次のセルを実行して、関数 negb の型をチェックしてみてください。</font> "
   ]
  },
  {
   "cell_type": "code",
   "execution_count": null,
   "metadata": {
    "coq_kernel_metadata": {
     "auto_roll_back": true,
     "cell_id": "6da2dacfa12e448091f13f80ca4a5514",
     "execution_id": "69e6b1d834994a27b316ff9fb6db23b0"
    },
    "scrolled": true
   },
   "outputs": [],
   "source": [
    "Check negb."
   ]
  },
  {
   "cell_type": "markdown",
   "metadata": {
    "coq_kernel_metadata": {
     "auto_roll_back": true
    }
   },
   "source": [
    "```\n",
    "negb\n",
    "     : bool -> bool\n",
    "```\n",
    "と表示されたと思います。\n",
    "\n",
    "<font color=\"blue\">bool -> bool</font>は、関数negbが、<font color=\"red\">bool型からbool型への関数の型</font>を持つことを表しています。ここでの\"->\"は、「〜ならば〜」を表す 論理記号の\"->\" とは、異なる意味を持つことに注意してください。\n",
    "\n",
    "こうした「関数の型」の表示は、Haskell やML といった関数型言語の「関数の型」の表示スタイルと同じものですね。\n",
    "\n",
    "### 関数 negb の計算の実行\n",
    "#### <font color=\"blue\">次のセルを実行して、関数 negb に引数 false を与えて実行してみてください。</font> "
   ]
  },
  {
   "cell_type": "code",
   "execution_count": null,
   "metadata": {
    "coq_kernel_metadata": {
     "auto_roll_back": true,
     "cell_id": "f533eb3033774422a6ad6da5dec1bbbc",
     "execution_id": "ea0096d4d1d84e6b829f5a7383dac721"
    },
    "scrolled": false
   },
   "outputs": [],
   "source": [
    "Compute negb false."
   ]
  },
  {
   "cell_type": "markdown",
   "metadata": {
    "coq_kernel_metadata": {
     "auto_roll_back": true
    }
   },
   "source": [
    "```\n",
    "　　　　　　= true\n",
    "     : bool\n",
    "```\n",
    "と表示されたと思います。\n",
    "\n",
    "このことは、関数 negb に引数 false を与えて計算した結果が　true で、その型は bool であることを表しています。\n",
    "\n",
    "### 関数 negb についての「等式」の証明\n",
    "\n",
    "<font color=\"blue\">Coqでは、ある関数について成り立つ「等式」を「証明」することができます。</font> \n",
    "これが本章以下の課題になります。\n",
    "\n",
    "次の定理 test_negb1 をみてください。この定理は、関数 negb に引数 true を与えて計算すれば、答えは false になると主張しています。定理というのは少し大げさかもしれませんが、気にしないでください。\n",
    "\n",
    "<font color=\"blue\">(negb true)</font>という関数呼び出しのスタイルに注意してください。negb(true)ではありません。次のセルを実行してみてください。"
   ]
  },
  {
   "cell_type": "code",
   "execution_count": null,
   "metadata": {
    "coq_kernel_metadata": {
     "auto_roll_back": true,
     "cell_id": "e758f974b35d43698984a54ac56a2232",
     "execution_id": "8d8d7a82bd2f4522bf68d6edc8fe935c"
    }
   },
   "outputs": [],
   "source": [
    "Theorem test_negb1: (negb true) = false.\n",
    "Proof."
   ]
  },
  {
   "cell_type": "markdown",
   "metadata": {
    "coq_kernel_metadata": {
     "auto_roll_back": true
    }
   },
   "source": [
    "サブゴールの等式の左辺に現れた negb true は、（negb true）と同じで、negb 関数に引数 true を与えた関数の呼び出しを表しています。\n",
    "\n",
    "サブゴールの中に、関数の呼び出しが含まれている時、Coqでは <font color=\"blue\">simpl</font> というtactic を用いて、実際にその関数を定義に基づいて実行して、その計算結果でサブゴールを置き換えることができます。\n",
    "\n",
    "次のセルを実行してみてください。"
   ]
  },
  {
   "cell_type": "code",
   "execution_count": null,
   "metadata": {
    "coq_kernel_metadata": {
     "auto_roll_back": true,
     "cell_id": "45a3aee535ef433a89d6e0297a65a8f9",
     "execution_id": "9f89882354a647b2838403285affa0a0"
    },
    "scrolled": false
   },
   "outputs": [],
   "source": [
    " simpl."
   ]
  },
  {
   "cell_type": "markdown",
   "metadata": {
    "coq_kernel_metadata": {
     "auto_roll_back": true
    }
   },
   "source": [
    "元のサブゴールの negb true = false の左辺にあった関数呼び出しの形をしていた negb true が、simpl の適用で、その計算結果 false に置き換わっています。その結果、サブゴールは、false = false という形になりました。これは、等号の「反射律」から、必ず成り立つ「等式」です。\n",
    "\n",
    "「反射律」が使えることをCoqに伝えるには、<font color=\"blue\">refexivity</font> というtactic を使います。\n",
    "次のセルを実行してみてください。"
   ]
  },
  {
   "cell_type": "code",
   "execution_count": null,
   "metadata": {
    "coq_kernel_metadata": {
     "auto_roll_back": true,
     "cell_id": "0890031f6089486daca42b33b177c1b9",
     "execution_id": "1c20425168ac4589a7c1fbcd8bae9026"
    }
   },
   "outputs": [],
   "source": [
    " reflexivity."
   ]
  },
  {
   "cell_type": "markdown",
   "metadata": {
    "coq_kernel_metadata": {
     "auto_roll_back": true
    }
   },
   "source": [
    "サブゴールがなくなりました。"
   ]
  },
  {
   "cell_type": "code",
   "execution_count": null,
   "metadata": {
    "coq_kernel_metadata": {
     "auto_roll_back": true
    }
   },
   "outputs": [],
   "source": [
    "Qed."
   ]
  },
  {
   "cell_type": "markdown",
   "metadata": {
    "coq_kernel_metadata": {
     "auto_roll_back": true
    }
   },
   "source": [
    "これで証明、終了です。"
   ]
  },
  {
   "cell_type": "markdown",
   "metadata": {
    "coq_kernel_metadata": {
     "auto_roll_back": true
    }
   },
   "source": [
    "<a id=\"sec42\"></a>\n",
    "## 例２：関数 eqb   引数に与えられた二つのブール値が等しいかを返す関数\n",
    "\n",
    "関数eqb の定義は次のようになります。引数が b1, b2 と二つになっています。match句の条件、例えば、true, false => false は、b1がtrue で、b2がfalseの時、こん関数がfalse を返すことを表しています。"
   ]
  },
  {
   "cell_type": "code",
   "execution_count": null,
   "metadata": {
    "coq_kernel_metadata": {
     "auto_roll_back": true,
     "cell_id": "ca8480cea11a4a9d9312ea4cd1de0de9",
     "execution_id": "d89cbf01c5464f97b66a4a77f1b4960c"
    }
   },
   "outputs": [],
   "source": [
    "Definition eqb (b1 b2:bool) : bool :=\n",
    "  match b1, b2 with\n",
    "    | true, true => true\n",
    "    | true, false => false\n",
    "    | false, true => false\n",
    "    | false, false => true\n",
    "  end."
   ]
  },
  {
   "cell_type": "markdown",
   "metadata": {
    "coq_kernel_metadata": {
     "auto_roll_back": true
    }
   },
   "source": [
    "### 定義された関数 eqb の型のチェック \n",
    "#### <font color=\"blue\">次のセルを実行して、関数 eqb の型をチェックしてみてください。</font> "
   ]
  },
  {
   "cell_type": "code",
   "execution_count": null,
   "metadata": {
    "coq_kernel_metadata": {
     "auto_roll_back": true,
     "cell_id": "bf90d297bf994e638c48329446c6b30f",
     "execution_id": "2ab13c7c8a2d4cc7a8c3ca4818a871d6"
    }
   },
   "outputs": [],
   "source": [
    "Check eqb."
   ]
  },
  {
   "cell_type": "markdown",
   "metadata": {
    "coq_kernel_metadata": {
     "auto_roll_back": true
    }
   },
   "source": [
    "```\n",
    "nqb\n",
    "     : bool -> bool -> bool\n",
    "```\n",
    "と表示されたと思います。\n",
    "\n",
    "<font color=\"blue\">bool -> bool -> bool</font>は、関数eqbが、<font color=\"red\">二つのbool型の引数を取り、bool型の値を返す関数の型</font>を持つことを表しています。\n",
    "\n",
    "### 関数 eqb の計算の実行\n",
    "#### <font color=\"blue\">次のセルを実行して、関数 eqb に二つの引数 true とfalse を与えて実行してみてください。</font> "
   ]
  },
  {
   "cell_type": "code",
   "execution_count": null,
   "metadata": {
    "coq_kernel_metadata": {
     "auto_roll_back": true,
     "cell_id": "05ce57a2acc64c3b8158aba19e97bb13",
     "execution_id": "2b10afa467ff478a8ecd4ad18471298b"
    },
    "scrolled": true
   },
   "outputs": [],
   "source": [
    "Compute eqb true false."
   ]
  },
  {
   "cell_type": "markdown",
   "metadata": {
    "coq_kernel_metadata": {
     "auto_roll_back": true
    }
   },
   "source": [
    "```\n",
    "　　　　　　= false\n",
    "     : bool\n",
    "```\n",
    "と表示されたと思います。\n",
    "\n",
    "このことは、関数 eqb に引数 false を与えて計算した結果が　false で、その型は bool であることを表しています。\n",
    "\n",
    "### 関数 eqb についての「等式」の証明\n",
    "\n",
    "次の定理 test_eqb1 をみてください。この定理は、関数 eqb に二つの引数 true とfalseを与えて計算すれば、答えは false になると主張しています。\n",
    "\n",
    "<font color=\"blue\">(eqb true false)</font>という関数呼び出しのスタイルに注意してください。eqb(true, false)ではありません。次のセルを実行してみてください。"
   ]
  },
  {
   "cell_type": "code",
   "execution_count": null,
   "metadata": {
    "coq_kernel_metadata": {
     "auto_roll_back": true,
     "cell_id": "d2b96f10b54c489b8db0bf23346d1021",
     "execution_id": "90f93f5ea7ef4172b9ffe04176df0c12"
    },
    "scrolled": false
   },
   "outputs": [],
   "source": [
    "Theorem test_eqb1: (eqb true false) = false .\n",
    "Proof."
   ]
  },
  {
   "cell_type": "markdown",
   "metadata": {
    "coq_kernel_metadata": {
     "auto_roll_back": true
    }
   },
   "source": [
    "サブゴールの等式の左辺に現れた eqb true false は、（eqb true false）と同じで、eqb 関数に引数 trueとfalse を与えた関数の呼び出しを表しています。\n",
    "\n",
    "サブゴールの中に、関数の呼び出しが含まれている時、Coqでは <font color=\"blue\">simpl</font> というtactic を用いて、実際にその関数を定義に基づいて実行して、その計算結果でサブゴールを置き換えることができます。\n",
    "\n",
    "次のセルを実行してみてください。"
   ]
  },
  {
   "cell_type": "code",
   "execution_count": null,
   "metadata": {
    "coq_kernel_metadata": {
     "auto_roll_back": true,
     "cell_id": "46d4f2553cc54ab897a6e002e8c758ac",
     "execution_id": "80689de1b32e48da8d956e071ff8dc0a"
    },
    "scrolled": false
   },
   "outputs": [],
   "source": [
    "simpl."
   ]
  },
  {
   "cell_type": "markdown",
   "metadata": {
    "coq_kernel_metadata": {
     "auto_roll_back": true
    }
   },
   "source": [
    "元のサブゴールの eqb true false = false の左辺にあった関数呼び出しの形をしていた eqb true false が、simpl の適用で、その計算結果 false に置き換わっています。その結果、サブゴールは、false = false という形になりました。これは、等号の「反射律」から、必ず成り立つ「等式」です。\n",
    "\n",
    "「反射律」が使えることをCoqに伝えるには、<font color=\"blue\">refexivity</font> というtactic を使います。\n",
    "次のセルを実行してみてください。"
   ]
  },
  {
   "cell_type": "code",
   "execution_count": null,
   "metadata": {
    "coq_kernel_metadata": {
     "auto_roll_back": true,
     "cell_id": "4714d6bf14694b85a260546cc66610b1",
     "execution_id": "d71c7217d90843be85bc07629f4b1a61"
    },
    "scrolled": false
   },
   "outputs": [],
   "source": [
    "reflexivity."
   ]
  },
  {
   "cell_type": "markdown",
   "metadata": {
    "coq_kernel_metadata": {
     "auto_roll_back": true
    }
   },
   "source": [
    "サブゴールがなくなりました。"
   ]
  },
  {
   "cell_type": "code",
   "execution_count": null,
   "metadata": {
    "coq_kernel_metadata": {
     "auto_roll_back": true,
     "cell_id": "77699595c7084a3c87931ecb104f4579",
     "execution_id": "5e013ead623e44bda5b43f1d542460de"
    },
    "scrolled": true
   },
   "outputs": [],
   "source": [
    "Qed."
   ]
  },
  {
   "cell_type": "markdown",
   "metadata": {
    "coq_kernel_metadata": {
     "auto_roll_back": true
    }
   },
   "source": [
    "これで証明、終了です。"
   ]
  },
  {
   "cell_type": "markdown",
   "metadata": {
    "coq_kernel_metadata": {
     "auto_roll_back": true
    }
   },
   "source": [
    "<a id=\"sec5\"></a>\n",
    "# 再帰的な関数定義の例\n",
    "\n",
    "<div class=\"alert alert-block alert-info\">\n",
    "\n",
    "### Coqでは、自然数の型 nat は次のように「帰納的に」定義されます。\n",
    "```\n",
    "    Inductive nat : Set :=\n",
    "      | O : nat\n",
    "      | S : nat -> nat.\n",
    "```\n",
    "基本的には、この定義は、 nat型 はOと、Sから構成されることを表しています。\n",
    "\n",
    "直観的には、Sは、ある自然数 nの次の自然数（Successor）を表しています。<font color=\"red\">S n = 1 + n</font> です。 \n",
    "\n",
    "Inductiveを使った帰納的な型の定義の説明は、次章で行います。\n",
    "</div>"
   ]
  },
  {
   "cell_type": "markdown",
   "metadata": {
    "coq_kernel_metadata": {
     "auto_roll_back": true
    }
   },
   "source": [
    "<a id=\"sec51\"></a>\n",
    "## 例３：二つの自然数の和を返す関数 plus\n",
    "\n",
    "二つの自然数の和を返す関数 plusは、次のように定義されます。\n",
    "（plus n m）の定義の中に、(plus p m)である　p + m が再び現れますので、この関数定義は再帰的なものです。ですので、この関数の定義は、Fixpointを使っています。\n",
    "最後のwhere は、（plus n m）を\"n + m\" と書き換えてもいいことを示しています。\n",
    "\n",
    "```\n",
    "　　　　　Fixpoint plus (n m:nat) : nat :=\n",
    " 　　　　　match n with\n",
    "  　　　　　| O => m\n",
    "  　　　　　| S p => S (p + m)\n",
    "  　　　　end\n",
    "　　　　　where \"n + m\" := (plus n m) : nat_scope.\n",
    "```\n",
    "\n",
    "もう少し、この定義を見てみましょう。\n",
    "\n",
    "- 最初のパターンにnがマッチするのは、n がO の時です時です。この時関数の形は、O + m となって、返り値は mとなります。\n",
    "- n が S p とマッチするのは、nが 1+ pの時。この時、関数の形は、 (1+p)+m = 1+(p+m)で、返り値は、S(p+m)となります。\n",
    "\n",
    "どうやら、うまく和を定義できそうです。"
   ]
  },
  {
   "cell_type": "markdown",
   "metadata": {
    "coq_kernel_metadata": {
     "auto_roll_back": true
    }
   },
   "source": [
    "<div class=\"alert alert-block alert-info\">\n",
    "    \n",
    "###  試しに、2+3 = (plus 2 3)を計算してみる\n",
    "\n",
    "2 = (S (S O)), 3 = (S (S (S O))) として、<br>\n",
    "(plus 2 3) <br>\n",
    "  = (plus (S (S O)) (S (S (S O))))  ここで、n=(S (S O)) がS pとマッチングするから　p=(S 0), (S (plus p m))が返るので、<br>\n",
    "  = (S (plus (S O) (S (S (S O))))) 中のplus を計算する。今度は、n'=(S O)が、S p'　とマッチングするから　p'=O <br>\n",
    "  = (S (S (plus O (S (S (S O)))))) 再び、中のplus を計算する。今度は、n''=O だから、mがそのまま返る。<br>\n",
    "  = (S (S (S (S (S O))))))           これで計算が終わる。これは、5である。<br><br>\n",
    "\n",
    "S n = 1 + n, O=0 を使うと、もう少し分かりやすい形になる。<br>\n",
    "\n",
    "(S (S (S (S (S O)))))) = 1 + (S (S (S (S O)))) = 1 + 1 + (S (S (S O))) = 1 + 1 + 1 + (S (S O))<br>\n",
    "                           ＝　1 + 1 + 1 + 1 + (S O) = 1 + 1 + 1 + 1 + 1 + O = 5\n",
    "</div>"
   ]
  },
  {
   "cell_type": "markdown",
   "metadata": {
    "coq_kernel_metadata": {
     "auto_roll_back": true
    }
   },
   "source": [
    "<a id=\"sec52\"></a>\n",
    "## 例4：二つの自然数の積を返す関数 mult\n",
    "\n",
    "二つの自然数の積を返す関数 multは、次のように定義されます。\n",
    "（mult n m）の定義の中に、(mult p m)である　p * m が再び現れますので、この関数定義は再帰的なものです。ですので、この関数の定義は、Fixpointを使っています。\n",
    "最後のwhere は、（mult n m）を\"n * m\" と書き換えてもいいことを示しています。\n",
    "\n",
    "```\n",
    "     Fixpoint mult (n m:nat) : nat :=\n",
    "       match n with\n",
    "       | O => 0\n",
    "       | S p => m + p * m\n",
    "       end\n",
    "     where \"n * m\" := (mult n m) : nat_scope.\n",
    "```\n",
    "\n",
    "### この再帰的な定義が、自然数の積の定義を与えることを、自分で考えてください。\n"
   ]
  },
  {
   "cell_type": "markdown",
   "metadata": {
    "coq_kernel_metadata": {
     "auto_roll_back": true
    }
   },
   "source": [
    "<a id=\"sec6\"></a>\n",
    "# 等式を含む命題の証明で利用できるtacticsについて\n",
    "\n",
    "### <font color=\"blue\">等式を含む命題の証明を攻略する基本的な戦略は、サブゴールの式の変形を繰り返して簡単な形にし、最終的には、サブゴールが A=A、すなわち反射律を満たす形にすることです。</font>\n",
    "### A=Aの形のサブゴールを解消するには、<font color=\"red\">reflexivity</font>を使います。\n",
    "### サブゴールの式を簡単なものにするには、次の二つのtacticが役に立ちます。\n",
    "-  ### <font color=\"red\">simpl</font>：<font color=\"blue\">サブゴールに含まれる関数の値を関数の定義から計算して、サブゴールの式を簡単なものにします。</font> \n",
    "-  ### <font color=\"red\">rewrite</font>：<font color=\"blue\">サブゴールに含まれる項に、利用できる別の等式の項を代入して、サブゴールの式を簡単なものにします。</font>"
   ]
  },
  {
   "cell_type": "markdown",
   "metadata": {
    "coq_kernel_metadata": {
     "auto_roll_back": true
    }
   },
   "source": [
    "<a id=\"sec605\"></a>\n",
    "# reflexivity tactic\n",
    "\n",
    "サブゴールが、A=Aの形をしていれば、そのサブゴールは解消できます。\n",
    "\n",
    "<img src=\"./images/tac-reflexivity.png\"  width=\"600 px\" align=\"left\">"
   ]
  },
  {
   "cell_type": "markdown",
   "metadata": {
    "coq_kernel_metadata": {
     "auto_roll_back": true
    }
   },
   "source": [
    "<a id=\"sec7\"></a>\n",
    "# simpl tactic\n",
    "\n",
    "simpl の働きは簡単です。\n",
    "\n",
    "サブゴールに関数の呼び出しが含まれていれば、それを計算して簡単なものにしようとします。\n",
    "\n",
    "いくつかの例をみてみましょう。"
   ]
  },
  {
   "cell_type": "markdown",
   "metadata": {
    "coq_kernel_metadata": {
     "auto_roll_back": true
    }
   },
   "source": [
    "<a id=\"sec71\"></a>\n",
    "### 1 + n = S n で式を単純にする\n",
    "\n",
    "この例では、サブゴール（下図の赤い破線の四角）内の左項の 1+n が、simpl の働きを受けて、S n に変わっています。これだけで、S n = S n の形ができています。あとは、reflexivity を呼ぶだけです。"
   ]
  },
  {
   "cell_type": "markdown",
   "metadata": {
    "coq_kernel_metadata": {
     "auto_roll_back": true
    }
   },
   "source": [
    "<img src=\"./images/tac-simpl1.png\"  width=\"600 px\" align=\"left\">"
   ]
  },
  {
   "cell_type": "markdown",
   "metadata": {
    "coq_kernel_metadata": {
     "auto_roll_back": true
    }
   },
   "source": [
    "<a id=\"sec72\"></a>\n",
    "###  0 + n = n で式を単純にする\n",
    "\n",
    "この例では、サブゴール（下図の赤い破線の四角）内の左項の 0+n が、simpl の働きを受けて、 n に変わっています。これだけで、\n",
    "n * m = n * m の形ができています。あとは、reflexivity を呼ぶだけです。"
   ]
  },
  {
   "cell_type": "markdown",
   "metadata": {
    "coq_kernel_metadata": {
     "auto_roll_back": true
    }
   },
   "source": [
    "<img src=\"./images/tac-simpl2.png\"  width=\"600 px\" align=\"left\">"
   ]
  },
  {
   "cell_type": "markdown",
   "metadata": {
    "coq_kernel_metadata": {
     "auto_roll_back": true
    }
   },
   "source": [
    "<a id=\"sec73\"></a>\n",
    "###  0 * n = 0 で式を単純にする\n",
    "\n",
    "この例では、サブゴール（下図の赤い破線の四角）内の左項の 0 * n が、simpl の働きを受けて、 0 に変わっています。これで、\n",
    "サブゴールは、0 = 0 の形ができています。あとは、reflexivity を呼ぶだけです。"
   ]
  },
  {
   "cell_type": "markdown",
   "metadata": {
    "coq_kernel_metadata": {
     "auto_roll_back": true
    }
   },
   "source": [
    "<img src=\"./images/tac-simpl3.png\"  width=\"600 px\" align=\"leftr\">"
   ]
  },
  {
   "cell_type": "markdown",
   "metadata": {
    "coq_kernel_metadata": {
     "auto_roll_back": true
    }
   },
   "source": [
    "<a id=\"sec8\"></a>\n",
    "# rewrite tactic\n",
    "\n",
    "rewrite tactic は、simpl より、少し複雑です。また、rewriteには、rewrite -> と rewrite <- という、二つの呼び出し方があります。ただ、基本的には、等式を使った「代入」による書き換えだと持って構いません。\n",
    "\n",
    "- rewrite -> H は、等式<font color=\"red\">Hの左辺</font>と同じ名前を持つ項を、サブゴールの中に見つけて、それを<font color=\"blue\">Hの右辺</font>で置き換えます。\n",
    "- rewrite <- H は、等式<font color=\"red\">Hの右辺</font>と同じ名前を持つ項を、サブゴールの中に見つけて、それを<font color=\"blue\">Hの左辺</font>で置き換えます。\n",
    "\n",
    "文章だと分かりにくいですね。\n",
    "\n",
    "今、仮説部に、Hというラベルがついた等式 H: a = x があったとしましょう。<br>\n",
    "また、サブゴールが、 a +  x =  2 * x  という形をしていたとします。この時、 rewriteのよるサブゴールの変化次のようになります。(\n",
    "分かやすくするために、Hの後ろに等式の情報を追加しています。これは、Coqの文法的には正しくありません）\n",
    "\n",
    "#### rewrite -> H (<font color=\"red\">a</font> = <font color=\"blue\">x</font>) の時のサブゴールの変化： 　　　<font color=\"red\">a</font> + x = 2 * x　　 ==> 　　<font color=\"blue\">x</font> + x = 2 * x\n",
    "#### rewrite <- H (<font color=\"blue\">a</font> = <font color=\"red\">x</font>) の時のサブゴールの変化： 　　　a + <font color=\"red\">x </font>= 2 *<font color=\"red\"> x</font> 　　==>　　 a + <font color=\"blue\">a</font> = 2 *<font color=\"blue\"> a</font>\n"
   ]
  },
  {
   "cell_type": "markdown",
   "metadata": {
    "coq_kernel_metadata": {
     "auto_roll_back": true
    }
   },
   "source": [
    "a id=\"sec81\"></a>\n",
    "## rewrite -> H の例\n",
    "具体的な例で見てみましょう。\n",
    "\n",
    "ここで サブゴールは、n + n = m + m（下図の赤い破線の四角） で、rewrite で使う仮説のHはn = m（下図の緑の四角）です。\n",
    "下図の「rewriteの働き」のピンクのボックスをみてください。\n",
    "- rewrite -> H は、H : n = m の左項を利用します。Hの左項のnを赤字で示しています。\n",
    "- サブゴール n + n = m + m で代入の対象になる n を赤字で示しています。\n",
    "- rewrite -> H で代入を実行すると、この赤字のn は、H: n= m の右項の青字のmに書き換えられます。\n",
    "- 結果、サブゴールは、m + m = m + m に変化します。（下図の赤い四角） "
   ]
  },
  {
   "cell_type": "markdown",
   "metadata": {
    "coq_kernel_metadata": {
     "auto_roll_back": true
    }
   },
   "source": [
    "<img src=\"./images/tac-rewrite1.png\"  width=\"600 px\" align=\"left\">"
   ]
  },
  {
   "cell_type": "markdown",
   "metadata": {
    "coq_kernel_metadata": {
     "auto_roll_back": true
    }
   },
   "source": [
    "<a id=\"sec82\"></a>\n",
    "## もう一つ rewrite -> H の例\n",
    "\n",
    "ここで サブゴールは、S n * S n = m * m（下図の赤い破線の四角） で、rewrite で使う仮説のHはm = S n（下図の緑の四角）です。\n",
    "下図の「rewriteの働き」のピンクのボックスをみてください。\n",
    "- rewrite -> H は、H : m = S n の左項を利用します。Hの左項のmを赤字で示しています。\n",
    "- サブゴール S n * S n = m * m で代入の対象になる m を赤字で示しています。\n",
    "- rewrite -> H で代入を実行すると、この赤字のm は、全て、H: m = S n の右項の青字のS nに書き換えられます。\n",
    "- 結果、サブゴールは、S n * S n = S n * S n に変化します。（下図の赤い四角） "
   ]
  },
  {
   "cell_type": "markdown",
   "metadata": {
    "coq_kernel_metadata": {
     "auto_roll_back": true
    }
   },
   "source": [
    "<img src=\"./images/tac-rewrite2.png\"  width=\"600 px\" align=\"left\">"
   ]
  },
  {
   "cell_type": "markdown",
   "metadata": {
    "coq_kernel_metadata": {
     "auto_roll_back": true
    }
   },
   "source": [
    "<a id=\"sec83\"></a>\n",
    "## rewrite <- H の例\n",
    "\n",
    "<font color=\"blue\">rewrite -> H が Hの左項を使うのに対して、rewrite <- H は、Hの右項を書き換えに利用します。</font>\n",
    "    \n",
    "具体的な例でみていきましょう。\n",
    "\n",
    "この例では サブゴールは、 m + m = m + o（下図の赤い破線の四角） で、rewrite で使う仮説のHはm = o（下図の緑の四角）です。\n",
    "下図の「rewriteの働き」のピンクのボックスをみてください。\n",
    "- rewrite <- H は、H : m = o の右項を利用します。Hの右項のoを赤字で示しています。\n",
    "- サブゴール m + m = m + o で代入の対象になる o を赤字で示しています。\n",
    "- rewrite <-  H で代入を実行すると、この赤字のo は、H: m = o の左項の青字のoに書き換えられます。\n",
    "- 結果、サブゴールは、m + m = m + m に変化します。（下図の赤い四角） "
   ]
  },
  {
   "cell_type": "markdown",
   "metadata": {
    "coq_kernel_metadata": {
     "auto_roll_back": true
    }
   },
   "source": [
    "<img src=\"./images/tac-rewrite3.png\"  width=\"600 px\" align=\"left\">"
   ]
  },
  {
   "cell_type": "markdown",
   "metadata": {
    "coq_kernel_metadata": {
     "auto_roll_back": true
    }
   },
   "source": [
    "　　　　[全体目次](./0-Contents.ipynb) 　[この章の演習問題へ](./2-equality-answer.ipynb)　　[前の章へ](./1-Logic.ipynb)　　[次の章へ](./3-Induction.ipynb)"
   ]
  },
  {
   "cell_type": "markdown",
   "metadata": {
    "coq_kernel_metadata": {
     "auto_roll_back": true
    }
   },
   "source": [
    "\n",
    "\n",
    "\n",
    "<br><br>\n",
    "# <font color=\"blue\" size=\"7\">演習問題 2</font>\n",
    "\n",
    "[演習問題 2-1](#ex21) [演習問題 2-2](#ex22) [演習問題 2-3](#ex23) [演習問題 2-4](#ex24) [演習問題 2-5](#ex25) [演習問題 2-6](#ex26) [演習問題 2-7](#ex27) "
   ]
  },
  {
   "cell_type": "markdown",
   "metadata": {
    "coq_kernel_metadata": {
     "auto_roll_back": true
    }
   },
   "source": [
    "<a id=\"ex21\"></a>\n",
    "## 演習問題 2-1\n",
    "　<font size=\"4\">次の定理を証明せよ。</font>\n",
    " <font color=\"blue\"　size=\"4\"><br>　Theorem plus_O_n : (forall n : nat , 0+n = n ).</font>\n",
    "\n",
    "#### [作業用ページで証明をしてみる](./2-equality-answer.ipynb#ex21) /  [解答を見る](../2-equality-answer.ipynb#ans21) \n",
    "\n",
    "### ヒント\n",
    "- 冒頭の forall を intros で削除する。\n",
    "- A -> A の最初のAを intros で仮説に入れる。\n",
    "- そうすると、サブゴールが仮説の一つと一致していることがわかるので、assumption  または、exact  を使う。"
   ]
  },
  {
   "cell_type": "markdown",
   "metadata": {
    "coq_kernel_metadata": {
     "auto_roll_back": true
    }
   },
   "source": [
    "<a id=\"ex22\"></a>\n",
    "## 演習問題 2-2\n",
    "　<font size=\"4\">次の定理を証明せよ。</font>\n",
    " <font color=\"blue\"　size=\"4\"><br> Theorem plus_1_n : (forall n : nat , 1+n = S n ).</font>\n",
    "\n",
    "#### [作業用ページで証明をしてみる](./2-equality-answer.ipynb#ex22) /  [解答を見る](./2-equality-answer.ipynb#ans22) \n",
    "\n",
    "### ヒント\n",
    "- intros で forall を削除する。\n",
    "- simpl. で、サブゴールの計算式を簡単にする。\n",
    "- 左項と右項が等しかったら reflexivity を使う。"
   ]
  },
  {
   "cell_type": "markdown",
   "metadata": {
    "coq_kernel_metadata": {
     "auto_roll_back": true
    }
   },
   "source": [
    "<a id=\"ex23\"></a>\n",
    "## 演習問題 2-3\n",
    "　<font size=\"4\">次の定理を証明せよ。</font>\n",
    " <font color=\"blue\"　size=\"4\"><br> Theorem mult_0_n : (forall n : nat , 0 * n =  0 ).</font>\n",
    "\n",
    "#### [作業用ページで証明をしてみる](./2-equality-answer.ipynb#ex23) /  [解答を見る](./2-equality-answer.ipynb#ans23) \n",
    "\n",
    "### ヒント\n",
    "- intros で forall を削除する。\n",
    "- simpl. で、サブゴールの計算式を簡単にする。\n",
    "- 左項と右項が等しかったら reflexivity を使う。"
   ]
  },
  {
   "cell_type": "markdown",
   "metadata": {
    "coq_kernel_metadata": {
     "auto_roll_back": true
    }
   },
   "source": [
    "<a id=\"ex24\"></a>\n",
    "## 演習問題 2-4\n",
    "　<font size=\"4\">次の定理を証明せよ。</font>\n",
    " <font color=\"blue\"　size=\"4\"><br> Theorem plus_id_nm : (forall n m : nat , n = m -> n+n = m + m ).</font>\n",
    "\n",
    "#### [作業用ページで証明をしてみる](./2-equality-answer.ipynb#ex24) /  [解答を見る](./2-equality-answer.ipynb#ans24) \n",
    "\n",
    "### ヒント\n",
    "- intros で forall を消す。\n",
    "- サブゴールの前提部分を intros で仮定に移す。\n",
    "- サブゴールの左項を、等式Hを使って rewriite で書き換える。\n",
    "- サブゴールの左項と右項が等しいので、reflexivity を使う。"
   ]
  },
  {
   "cell_type": "markdown",
   "metadata": {
    "coq_kernel_metadata": {
     "auto_roll_back": true
    }
   },
   "source": [
    "<a id=\"ex25\"></a>\n",
    "## 演習問題 2-5\n",
    "　<font size=\"4\">次の定理を証明せよ。</font>\n",
    "  <font color=\"blue\"　size=\"4\"><br> Theorem plus_id : (forall n m o : nat , n = m -> m = o -> n + m = m + o ).</font>\n",
    "\n",
    "#### [作業用ページで証明をしてみる](./2-equality-answer.ipynb#ex25) /  [解答を見る](./2-equality-answer.ipynb#ans25) \n",
    "\n",
    "### ヒント\n",
    "- intros で forall を削除 \n",
    "- intoros で、前提部分を仮説に移す。\n",
    "- 等式　n_eq_m　の左辺 を使って、rewriteでサブゴールを書き換える。\n",
    "- 等式　m_eq_o の右辺を使って、rewriteでサブゴールのを書き換える。\n",
    "- サブゴールの等式の左辺と右辺が等しくなるので reflexivity を使う。"
   ]
  },
  {
   "cell_type": "markdown",
   "metadata": {
    "coq_kernel_metadata": {
     "auto_roll_back": true
    }
   },
   "source": [
    "<a id=\"ex26\"></a>\n",
    "## 演習問題 2-6\n",
    "　<font size=\"4\">次の定理を証明せよ。</font>\n",
    " <font color=\"blue\"　size=\"4\"><br> Theorem mult_0_plus : (forall n m : nat , ( 0 + n ) \\* m =  n \\* m ).</font>\n",
    "\n",
    "#### [作業用ページで証明をしてみる](./2-equality-answer.ipynb#ex26) /  [解答を見る](./2-equality-answer.ipynb#ans26) \n",
    "### ヒント\n",
    "- intros で forall を消す。\n",
    "- simpl.　で、サブゴール中の計算式を簡単なものにする。\n",
    "- 左辺と右辺が等しいので、reflexivity を使う。"
   ]
  },
  {
   "cell_type": "markdown",
   "metadata": {
    "coq_kernel_metadata": {
     "auto_roll_back": true
    }
   },
   "source": [
    "<a id=\"ex27\"></a>\n",
    "## 演習問題 2-7\n",
    "　<font size=\"4\">次の定理を証明せよ。</font>\n",
    " <font color=\"blue\"　size=\"4\"><br> Theorem mult_S_1 : (forall n m : nat, m = S n -> m \\* (1 + n) = m \\* m).</font>\n",
    "\n",
    "#### [作業用ページで証明をしてみる](./2-equality-answer.ipynb#ex27) /  [解答を見る](./2-equality-answer.ipynb#ans27) \n",
    "### ヒント\n",
    "- intros で　forall を消し、前提を仮説に移す。\n",
    "- サブゴールの計算式を simpl で簡単にする。\n",
    "- rewriteで、サブゴールを m_eq_Sn を使って書き換える。\n",
    "- サブゴールの左辺と右辺は等しい。"
   ]
  },
  {
   "cell_type": "code",
   "execution_count": null,
   "metadata": {
    "coq_kernel_metadata": {
     "auto_roll_back": true
    }
   },
   "outputs": [],
   "source": []
  },
  {
   "cell_type": "markdown",
   "metadata": {
    "coq_kernel_metadata": {
     "auto_roll_back": true
    }
   },
   "source": [
    "# 演習問題 2\n",
    "\n",
    "[演習問題 2-1](./Equal-Ex.ipynb#ex21) [演習問題 2-2](./Equal-Ex.ipynb#ex22) [演習問題 2-3](./Equal-Ex.ipynb#ex23) [演習問題 2-4](./Equal-Ex.ipynb#ex24) [演習問題 2-5](./Equal-Ex.ipynb#ex25) [演習問題 2-6](./Equal-Ex.ipynb#ex26) [演習問題 2-7](./Equal-Ex.ipynb#ex27) "
   ]
  },
  {
   "cell_type": "markdown",
   "metadata": {
    "coq_kernel_metadata": {
     "auto_roll_back": true
    }
   },
   "source": [
    "<a id=\"ex21\"></a>\n",
    "## 演習問題 2-1\n",
    "　<font size=\"4\">次の定理を証明せよ。</font>\n",
    " <font color=\"blue\"　size=\"4\"><br>　Theorem plus_O_n : (forall n : nat , 0+n = n ).</font>\n",
    "\n",
    "#### [作業用ページで証明をしてみる](./Equal-Ex-Work.ipynb#ex21) /  [解答を見る](./Equal-Ex-Answer.ipynb#ex21) \n",
    "### ヒント\n",
    "- 冒頭の forall を intros で削除する。\n",
    "- A -> A の最初のAを intros で仮説に入れる。\n",
    "- そうすると、サブゴールが仮説の一つと一致していることがわかるので、assumption  または、exact  を使う。"
   ]
  },
  {
   "cell_type": "markdown",
   "metadata": {
    "coq_kernel_metadata": {
     "auto_roll_back": true
    }
   },
   "source": [
    "<a id=\"ex22\"></a>\n",
    "## 演習問題 2-2\n",
    "　<font size=\"4\">次の定理を証明せよ。</font>\n",
    " <font color=\"blue\"　size=\"4\"><br> Theorem plus_1_n : (forall n : nat , 1+n = S n ).</font>\n",
    "\n",
    "#### [作業用ページで証明をしてみる](./Equal-Ex-Work.ipynb#ex22) /  [解答を見る](./Equal-Ex-Answer.ipynb#ex22) \n",
    "### ヒント\n",
    "- intros で forall を削除する。\n",
    "- simpl. で、サブゴールの計算式を簡単にする。\n",
    "- 左項と右項が等しかったら reflexivity を使う。"
   ]
  },
  {
   "cell_type": "markdown",
   "metadata": {
    "coq_kernel_metadata": {
     "auto_roll_back": true
    }
   },
   "source": [
    "<a id=\"ex23\"></a>\n",
    "## 演習問題 2-3\n",
    "　<font size=\"4\">次の定理を証明せよ。</font>\n",
    " <font color=\"blue\"　size=\"4\"><br> Theorem mult_0_n : (forall n : nat , 0 * n =  0 ).</font>\n",
    "\n",
    "#### [作業用ページで証明をしてみる](./Equal-Ex-Work.ipynb#ex23) /  [解答を見る](./Equal-Ex-Answer.ipynb#ex23) \n",
    "### ヒント\n",
    "- intros で forall を削除する。\n",
    "- simpl. で、サブゴールの計算式を簡単にする。\n",
    "- 左項と右項が等しかったら reflexivity を使う。"
   ]
  },
  {
   "cell_type": "markdown",
   "metadata": {
    "coq_kernel_metadata": {
     "auto_roll_back": true
    }
   },
   "source": [
    "<a id=\"ex24\"></a>\n",
    "## 演習問題 2-4\n",
    "　<font size=\"4\">次の定理を証明せよ。</font>\n",
    " <font color=\"blue\"　size=\"4\"><br> Theorem plus_id_nm : (forall n m : nat , n = m -> n+n = m + m ).</font>\n",
    "\n",
    "#### [作業用ページで証明をしてみる](./Equal-Ex-Work.ipynb#ex24) /  [解答を見る](./Equal-Ex-Answer.ipynb#ex24) \n",
    "### ヒント\n",
    "- intros で forall を消す。\n",
    "- サブゴールの前提部分を intros で仮定に移す。\n",
    "- サブゴールの左項を、等式Hを使って rewriite で書き換える。\n",
    "- サブゴールの左項と右項が等しいので、reflexivity を使う。"
   ]
  },
  {
   "cell_type": "markdown",
   "metadata": {
    "coq_kernel_metadata": {
     "auto_roll_back": true
    }
   },
   "source": [
    "<a id=\"ex25\"></a>\n",
    "## 演習問題 2-5\n",
    "　<font size=\"4\">次の定理を証明せよ。</font>\n",
    "  <font color=\"blue\"　size=\"4\"><br> Theorem plus_id : (forall n m o : nat , n = m -> m = o -> n + m = m + o ).</font>\n",
    "\n",
    "#### [作業用ページで証明をしてみる](./Equal-Ex-Work.ipynb#ex25) /  [解答を見る](./Equal-Ex-Answer.ipynb#ex25) \n",
    "### ヒント\n",
    "- intros で forall を削除 \n",
    "- intoros で、前提部分を仮説に移す。\n",
    "- 等式　n_eq_m　の左辺 を使って、rewriteでサブゴールを書き換える。\n",
    "- 等式　m_eq_o の右辺を使って、rewriteでサブゴールのを書き換える。\n",
    "- サブゴールの等式の左辺と右辺が等しくなるので reflexivity を使う。"
   ]
  },
  {
   "cell_type": "markdown",
   "metadata": {
    "coq_kernel_metadata": {
     "auto_roll_back": true
    }
   },
   "source": [
    "<a id=\"ex26\"></a>\n",
    "## 演習問題 2-6\n",
    "　<font size=\"4\">次の定理を証明せよ。</font>\n",
    " <font color=\"blue\"　size=\"4\"><br> Theorem mult_0_plus : (forall n m : nat , ( 0 + n ) \\* m =  n \\* m ).</font>\n",
    "\n",
    "#### [作業用ページで証明をしてみる](./Equal-Ex-Work.ipynb#ex26) /  [解答を見る](./Equal-Ex-Answer.ipynb#ex26) \n",
    "### ヒント\n",
    "- intros で forall を消す。\n",
    "- simpl.　で、サブゴール中の計算式を簡単なものにする。\n",
    "- 左辺と右辺が等しいので、reflexivity を使う。"
   ]
  },
  {
   "cell_type": "markdown",
   "metadata": {
    "coq_kernel_metadata": {
     "auto_roll_back": true
    }
   },
   "source": [
    "<a id=\"ex27\"></a>\n",
    "## 演習問題 2-7\n",
    "　<font size=\"4\">次の定理を証明せよ。</font>\n",
    " <font color=\"blue\"　size=\"4\"><br> Theorem mult_S_1 : (forall n m : nat, m = S n -> m \\* (1 + n) = m \\* m).</font>\n",
    "\n",
    "#### [作業用ページで証明をしてみる](./Equal-Ex-Work.ipynb#ex27) /  [解答を見る](./Equal-Ex-Answer.ipynb#ex27) \n",
    "### ヒント\n",
    "- intros で　forall を消し、前提を仮説に移す。\n",
    "- サブゴールの計算式を simpl で簡単にする。\n",
    "- rewriteで、サブゴールを m_eq_Sn を使って書き換える。\n",
    "- サブゴールの左辺と右辺は等しい。"
   ]
  },
  {
   "cell_type": "markdown",
   "metadata": {
    "coq_kernel_metadata": {
     "auto_roll_back": true
    }
   },
   "source": [
    "　　　　[全体目次](./0-Contents.ipynb) 　[この章の演習問題へ](./2-equality-answer.ipynb)　　[前の章へ](./1-Logic.ipynb)　　[次の章へ](./3-Induction.ipynb)"
   ]
  },
  {
   "cell_type": "code",
   "execution_count": null,
   "metadata": {
    "coq_kernel_metadata": {
     "auto_roll_back": true
    }
   },
   "outputs": [],
   "source": []
  }
 ],
 "metadata": {
  "kernelspec": {
   "display_name": "Coq",
   "language": "coq",
   "name": "coq"
  },
  "language_info": {
   "file_extension": ".v",
   "mimetype": "text/x-coq",
   "name": "coq",
   "version": "8.9.1"
  }
 },
 "nbformat": 4,
 "nbformat_minor": 2
}
